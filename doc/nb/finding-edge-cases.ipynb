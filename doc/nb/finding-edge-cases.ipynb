{
 "cells": [
  {
   "cell_type": "markdown",
   "id": "eeb82a69-4217-4dcb-962c-399408794d50",
   "metadata": {},
   "source": [
    "# Finding Edge Cases\n",
    "\n",
    "This notebook illustrates the detection and mitigation of certain edge cases in the `specprod` database."
   ]
  },
  {
   "cell_type": "code",
   "execution_count": 1,
   "id": "5fee8e1f-c2bf-491c-a50f-7040f2b62450",
   "metadata": {},
   "outputs": [
    {
     "name": "stdout",
     "output_type": "stream",
     "text": [
      "sqlalchemy==1.4.46\n",
      "specprodDB==1.1.0.dev49\n"
     ]
    }
   ],
   "source": [
    "#\n",
    "# Imports\n",
    "#\n",
    "import os\n",
    "import sys\n",
    "sys.path.insert(0, os.path.join(os.environ['HOME'], 'Documents', 'Code', 'git', 'desihub', 'specprod-db', 'py'))\n",
    "import itertools\n",
    "from sqlalchemy import __version__ as sqlalchemy_version\n",
    "from sqlalchemy import and_\n",
    "from sqlalchemy.sql import func\n",
    "#\n",
    "# DESI software\n",
    "#\n",
    "from desiutil.log import get_logger, DEBUG\n",
    "from specprodDB import __version__ as specprodDB_version\n",
    "import specprodDB.load as db\n",
    "#\n",
    "# Set the spectroscopic production run.\n",
    "#\n",
    "specprod = os.environ['SPECPROD'] = 'fuji'  # Change this to 'guadalupe' if needed.\n",
    "#\n",
    "# Working directory.\n",
    "#\n",
    "workingdir = os.getcwd()\n",
    "print(f'sqlalchemy=={sqlalchemy_version}')\n",
    "print(f'specprodDB=={specprodDB_version}')"
   ]
  },
  {
   "cell_type": "code",
   "execution_count": 2,
   "id": "e6028734-47b1-4e08-a3ff-50061dd4fb78",
   "metadata": {},
   "outputs": [],
   "source": [
    "#\n",
    "# For much more output, use DEBUG/verbose mode.\n",
    "#\n",
    "# db.log = get_logger(DEBUG)\n",
    "# postgresql = db.setup_db(schema=specprod, hostname='specprod-db.desi.lbl.gov', username='desi', verbose=True)\n",
    "db.log = get_logger()\n",
    "postgresql = db.setup_db(schema='fuji_test', hostname='specprod-db.desi.lbl.gov', username='desi')"
   ]
  },
  {
   "cell_type": "markdown",
   "id": "25889c31-896f-4c4e-8526-deeba43fcc5c",
   "metadata": {},
   "source": [
    "## Finding Anomalous Targeting\n",
    "\n",
    "We are trying to identify objects that appear on multiple tiles that have the same `targetid` and `survey`, but different targeting bits on different tiles. However, in principle, we don't care about cases where the `targetid`, `tileid` only appears as a potential target.\n",
    "\n",
    "Let's get the set of `targetid` for a particular `survey` and `program` that appear on more than one tile:\n",
    "\n",
    "```sql\n",
    "SELECT t.targetid\n",
    "    FROM fuji.target AS t JOIN fuji.fiberassign AS f ON t.targetid = f.targetid AND t.tileid = f.tileid\n",
    "    WHERE t.survey = 'sv1' AND t.program = 'dark'\n",
    "    GROUP BY t.targetid HAVING COUNT(t.tileid) > 1;\n",
    "```"
   ]
  },
  {
   "cell_type": "code",
   "execution_count": null,
   "id": "b112e9e1-10fd-44e8-ae5a-8929dfd37fa6",
   "metadata": {},
   "outputs": [],
   "source": [
    "observed_multiple_tiles = db.dbSession.query(db.Target.targetid).join(db.Fiberassign, and_(db.Target.targetid == db.Fiberassign.targetid, db.Target.tileid == db.Fiberassign.tileid)).filter(db.Target.survey == 'sv1').filter(db.Target.program == 'dark').group_by(db.Target.targetid).having(func.count(db.Target.tileid) > 1)\n",
    "print(observed_multiple_tiles)"
   ]
  },
  {
   "cell_type": "markdown",
   "id": "c63a0f57-ab57-4c03-ad29-d0d44cb70e3c",
   "metadata": {},
   "source": [
    "We will call the result of this query `observed_multiple_tiles`. Now let's find the distinct pairs of `targetid`, `sv1_desi_target` from this set:\n",
    "\n",
    "```sql\n",
    "SELECT DISTINCT targetid, sv1_desi_target\n",
    "    FROM fuji.target WHERE targetid IN (observed_multiple_tiles) AND survey = 'sv1' AND program = 'dark';\n",
    "```"
   ]
  },
  {
   "cell_type": "code",
   "execution_count": null,
   "id": "14e67d09-5ddb-4755-8760-47323ca58118",
   "metadata": {},
   "outputs": [],
   "source": [
    "targets = {'desi': db.Target.sv1_desi_target, 'bgs': db.Target.sv1_bgs_target, 'mws': db.Target.sv1_mws_target}\n",
    "distinct_target = dict()\n",
    "for t in targets:\n",
    "    distinct_target[t] = db.dbSession.query(db.Target.targetid, targets[t]).filter(db.Target.targetid.in_(observed_multiple_tiles)).filter(db.Target.survey == 'sv1').filter(db.Target.program == 'dark').distinct().subquery()\n",
    "    print(distinct_target[t])"
   ]
  },
  {
   "cell_type": "markdown",
   "id": "a358b502-49e1-4a59-a141-2194cb0ac547",
   "metadata": {},
   "source": [
    "We will call the result of this query `distinct_target`.  Next we eliminate cases where targetid only appears once in distinct_target:\n",
    "\n",
    "```sql\n",
    "SELECT targetid\n",
    "    FROM (distinct_target) AS dt GROUP BY targetid HAVING COUNT(sv1_desi_target) > 1;\n",
    "```"
   ]
  },
  {
   "cell_type": "code",
   "execution_count": null,
   "id": "037fe752-fb19-4df6-9ea8-001aabe7fbdb",
   "metadata": {},
   "outputs": [],
   "source": [
    "columns = {'desi': distinct_target['desi'].c.sv1_desi_target, 'bgs': distinct_target['bgs'].c.sv1_bgs_target, 'mws': distinct_target['mws'].c.sv1_mws_target}\n",
    "multiple_target = dict()\n",
    "multiple_targetids = list()\n",
    "for t in distinct_target:\n",
    "    multiple_target[t] = db.dbSession.query(distinct_target[t].c.targetid).group_by(distinct_target[t].c.targetid).having(func.count(columns[t]) > 1)\n",
    "    print(multiple_target[t])\n",
    "    print(multiple_target[t].count())\n",
    "    multiple_targetids += [row[0] for row in multiple_target[t].all()]"
   ]
  },
  {
   "cell_type": "code",
   "execution_count": null,
   "id": "5fb8e958-cace-4e78-a410-62c65b0ff2a7",
   "metadata": {},
   "outputs": [],
   "source": [
    "len(multiple_targetids), len(set(multiple_targetids))"
   ]
  },
  {
   "cell_type": "markdown",
   "id": "01a07b2b-9f12-41ec-9002-8b4b10498ca0",
   "metadata": {},
   "source": [
    "We will call the result of this query `multiple_target`. If we only want to know the number of objects, we're actually done at this stage: the answer is the number of rows of `multiple_target`.  But we can easily get more complete information:\n",
    "\n",
    "```sql\n",
    "SELECT t.targetid, t.survey, t.tileid, t.program, t.obsconditions, t.numobs_init, t.priority_init, t.subpriority, t.sv1_desi_target, t.sv1_bgs_target, t.sv1_mws_target, t.sv1_scnd_target, p.ra, p.dec\n",
    "    FROM fuji.target AS t JOIN fuji.photometry AS p ON t.targetid = p.targetid\n",
    "    WHERE t.survey = 'sv1' AND t.program = 'dark' AND t.targetid IN (multiple_target) ORDER BY t.targetid, t.tileid;\n",
    "```"
   ]
  },
  {
   "cell_type": "code",
   "execution_count": null,
   "id": "54eb0356-af6d-4f1f-838c-d4a9775a0e0d",
   "metadata": {},
   "outputs": [],
   "source": [
    "for t in multiple_target:\n",
    "    q = db.dbSession.query(db.Target.targetid, db.Target.survey, db.Target.tileid, db.Target.program, db.Target.obsconditions, db.Target.numobs_init, db.Target.priority_init, db.Target.subpriority, db.Target.sv1_desi_target, db.Target.sv1_bgs_target, db.Target.sv1_mws_target, db.Target.sv1_scnd_target, db.Photometry.ra, db.Photometry.dec).join(db.Photometry).filter(db.Target.survey == 'sv1').filter(db.Target.program == 'dark').filter(db.Target.targetid.in_(multiple_target[t])).order_by(db.Target.targetid, db.Target.tileid)\n",
    "    print(q)\n",
    "    print(q.all())"
   ]
  },
  {
   "cell_type": "markdown",
   "id": "e1a716dd-3c0e-4441-a67b-9fe4ba52ce5a",
   "metadata": {},
   "source": [
    "Now let's find corresponding rows in the `zpix` table. We can reuse the `multiple_target` query from above.\n",
    "\n",
    "```sql\n",
    "SELECT id, targetid, z, zwarn\n",
    "    FROM fuji.zpix\n",
    "    WHERE targetid IN (multiple_targets) AND survey = 'sv1' AND program = 'dark';\n",
    "```"
   ]
  },
  {
   "cell_type": "code",
   "execution_count": null,
   "id": "8f3350de-6f6a-403d-b1e7-3ac8770a1847",
   "metadata": {},
   "outputs": [],
   "source": [
    "multiple_zpix = dict()\n",
    "for t in multiple_target:\n",
    "    multiple_zpix[t] = db.dbSession.query(db.Zpix).filter(db.Zpix.targetid.in_(multiple_target[t])).filter(db.Zpix.survey == 'sv1').filter(db.Zpix.program == 'dark')\n",
    "    print(multiple_zpix[t])\n",
    "    print(multiple_zpix[t].count())"
   ]
  },
  {
   "cell_type": "markdown",
   "id": "f8d331f6-2a89-4824-adf1-cccfedfbd473",
   "metadata": {},
   "source": [
    "### Correcting Anomalous Targeting\n",
    "\n",
    "Now that we know exactly which objects are anomalous, we can try to fix their targeting bits. We want to take the bitwise `OR` of the targeting bits for these objects. We can reuse objects returned by the `multiple_target` query above.  There are a lot of targeting bits, so it's easier to generate the full list programmatically. We're doing metaprogramming!\n",
    "\n",
    "```sql\n",
    "SELECT t.targetid, BIT_OR(t.cmx_target) AS cmx_target, BIT_OR(desi_target) AS desi_target, ...\n",
    "    FROM fuji.target AS t WHERE t.targetid IN (multiple_target) AND t.survey = 'sv1' AND t.program = 'dark' GROUP BY t.targetid;\n",
    "```"
   ]
  },
  {
   "cell_type": "code",
   "execution_count": null,
   "id": "0c13592e-2a52-4456-8120-53eb4dcc8a26",
   "metadata": {},
   "outputs": [],
   "source": [
    "import itertools\n",
    "table = 'zpix'\n",
    "surveys = ('', 'sv1', 'sv2', 'sv3')\n",
    "programs = ('desi', 'bgs', 'mws', 'scnd')\n",
    "masks = ['cmx_target'] + [('_'.join(p) if p[0] else p[1]) + '_target'\n",
    "                          for p in itertools.product(surveys, programs)]\n",
    "inner_columns = ['targetid', 'survey', 'program'] + masks\n",
    "print(\"SELECT t.targetid, \" + \n",
    "      ', '.join([f\"BIT_OR(t.{m}) AS {m}\" for m in masks]) +\n",
    "      f\" FROM {specprod}.target AS t WHERE t.targetid IN (multiple_target) AND t.survey = 'sv1' AND t.program = 'dark' GROUP BY t.targetid;\")\n",
    "print(\"db.dbSession.query(db.Target.targetid, \" +\n",
    "      ', '.join([f\"func.bit_or(db.Target.{m}).label('{m}')\" for m in masks]) +\n",
    "      \").filter(db.Target.targetid.in_(multiple_target)).filter(db.Target.survey == 'sv1').filter(db.Target.program == 'dark').group_by(db.Target.targetid)\")"
   ]
  },
  {
   "cell_type": "code",
   "execution_count": null,
   "id": "38d1a90f-6401-4a6e-abc1-8148539cadd5",
   "metadata": {},
   "outputs": [],
   "source": [
    "multiple_target_or = db.dbSession.query(db.Target.targetid, func.bit_or(db.Target.cmx_target).label('cmx_target'), func.bit_or(db.Target.desi_target).label('desi_target'), func.bit_or(db.Target.bgs_target).label('bgs_target'), func.bit_or(db.Target.mws_target).label('mws_target'), func.bit_or(db.Target.scnd_target).label('scnd_target'), func.bit_or(db.Target.sv1_desi_target).label('sv1_desi_target'), func.bit_or(db.Target.sv1_bgs_target).label('sv1_bgs_target'), func.bit_or(db.Target.sv1_mws_target).label('sv1_mws_target'), func.bit_or(db.Target.sv1_scnd_target).label('sv1_scnd_target'), func.bit_or(db.Target.sv2_desi_target).label('sv2_desi_target'), func.bit_or(db.Target.sv2_bgs_target).label('sv2_bgs_target'), func.bit_or(db.Target.sv2_mws_target).label('sv2_mws_target'), func.bit_or(db.Target.sv2_scnd_target).label('sv2_scnd_target'), func.bit_or(db.Target.sv3_desi_target).label('sv3_desi_target'), func.bit_or(db.Target.sv3_bgs_target).label('sv3_bgs_target'), func.bit_or(db.Target.sv3_mws_target).label('sv3_mws_target'), func.bit_or(db.Target.sv3_scnd_target).label('sv3_scnd_target')).filter(db.Target.targetid.in_(multiple_target)).filter(db.Target.survey == 'sv1').filter(db.Target.program == 'dark').group_by(db.Target.targetid)"
   ]
  },
  {
   "cell_type": "code",
   "execution_count": null,
   "id": "b659169c-2306-45ba-b498-80bbad3aa999",
   "metadata": {},
   "outputs": [],
   "source": [
    "print(multiple_target_or)\n",
    "multiple_target_or.count()"
   ]
  },
  {
   "cell_type": "markdown",
   "id": "13dfc57a-547f-4858-81a6-a147ec0561cd",
   "metadata": {},
   "source": [
    "There are a small number of these, so we can just loop over each one, ensuring that only one row in the `zpix` table is updated at a time."
   ]
  },
  {
   "cell_type": "code",
   "execution_count": null,
   "id": "f7d5afd1-fadf-469d-a887-820df5db593c",
   "metadata": {},
   "outputs": [],
   "source": [
    "from sqlalchemy.exc import ProgrammingError\n",
    "for row in multiple_target_or.all():\n",
    "    zpix_match = db.dbSession.query(db.Zpix).filter(db.Zpix.targetid == row.targetid).filter(db.Zpix.survey == 'sv1').filter(db.Zpix.program == 'dark')\n",
    "    print(zpix_match)\n",
    "    try:\n",
    "        zpix_update = db.dbSession.query(db.Zpix).filter(db.Zpix.targetid == row.targetid).filter(db.Zpix.survey == 'sv1').filter(db.Zpix.program == 'dark').update({db.Zpix.z: row.cmx_target}).compile()\n",
    "    except ProgrammingError as e:\n",
    "        print(e)\n",
    "        db.dbSession.rollback()\n",
    "    # print(zpix_match.count())"
   ]
  },
  {
   "cell_type": "code",
   "execution_count": null,
   "id": "8daf3e84-87f1-4c53-9627-d6d6c85ac382",
   "metadata": {},
   "outputs": [],
   "source": [
    "db.dbSession.rollback()"
   ]
  },
  {
   "cell_type": "markdown",
   "id": "178ac574-62fe-4093-85ef-6bb8f76002db",
   "metadata": {},
   "source": [
    "## Did some not get observed?"
   ]
  },
  {
   "cell_type": "code",
   "execution_count": null,
   "id": "b0a26281-6fc9-4de4-a13d-e96bc94a6210",
   "metadata": {},
   "outputs": [],
   "source": [
    "ztile_check = db.dbSession.query(db.Ztile).filter(db.Ztile.tileid.in_([80690, 80691])).filter(db.Ztile.targetid.in_([39632929852229953,\n",
    "                                                                                                                     39632929856425410,\n",
    "                                                                                                                     39632940065360515,\n",
    "                                                                                                                     39632940073750247,\n",
    "                                                                                                                     39632950194603290,\n",
    "                                                                                                                     39632929860619211,\n",
    "                                                                                                                     39632945140469357,\n",
    "                                                                                                                     39632929852228688,\n",
    "                                                                                                                     39632929856423605,\n",
    "                                                                                                                     39632940073748950,\n",
    "                                                                                                                     39632940065359576,\n",
    "                                                                                                                     39632945144663513,\n",
    "                                                                                                                     39632940044388890])).order_by(db.Ztile.targetid, db.Ztile.tileid)"
   ]
  },
  {
   "cell_type": "code",
   "execution_count": null,
   "id": "2107b523-3ff6-4bc7-8ca1-9ec7a156a983",
   "metadata": {},
   "outputs": [],
   "source": [
    "ztile_check.all()"
   ]
  },
  {
   "cell_type": "code",
   "execution_count": null,
   "id": "f2db13b4-7983-44bc-8b1b-f011c53b86f3",
   "metadata": {},
   "outputs": [],
   "source": [
    "diff = [39632929852229953, 39632929856425410, 39632940065360515, 39632940073750247,\n",
    "        39632950194603290, 39632929860619211, 39632945140469357, 39632929852228688, 39632929856423605,\n",
    "        39632940073748950, 39632940065359576, 39632945144663513, 39632940044388890]\n",
    "\n",
    "for targid in diff:\n",
    "    print(targid, db.dbSession.query(db.Fiberassign.tileid).filter(db.Fiberassign.targetid == targid).order_by(db.Fiberassign.tileid).all())\n"
   ]
  },
  {
   "cell_type": "code",
   "execution_count": null,
   "id": "467fef6e-e746-452d-b701-744f5c60936f",
   "metadata": {},
   "outputs": [],
   "source": [
    "exposures = db.dbSession.query(db.Exposure).filter(db.Exposure.tileid.in_([80690, 80691])).order_by(db.Exposure.tileid, db.Exposure.night, db.Exposure.expid).all()"
   ]
  },
  {
   "cell_type": "code",
   "execution_count": null,
   "id": "2599df0e-134a-433f-a6e2-e154a7693dac",
   "metadata": {},
   "outputs": [],
   "source": [
    "all_cameras = set([f\"{a}{b:d}\" for a, b in itertools.product('brz', range(10))])"
   ]
  },
  {
   "cell_type": "code",
   "execution_count": null,
   "id": "834c176b-adf4-404b-86c0-9b67eb6e2d51",
   "metadata": {},
   "outputs": [],
   "source": [
    "for e in exposures:\n",
    "    print(e.tileid, set([f.camera for f in e.frames]) ^ all_cameras)"
   ]
  },
  {
   "cell_type": "code",
   "execution_count": null,
   "id": "6d25ff78-2776-4230-93f5-c49e86464915",
   "metadata": {},
   "outputs": [],
   "source": [
    "[(e.tileid, e.frames) for e in exposures]"
   ]
  },
  {
   "cell_type": "code",
   "execution_count": 4,
   "id": "ec1dce18-5418-4ea1-8091-e6bb89a6bc74",
   "metadata": {},
   "outputs": [],
   "source": [
    "from desitarget.sv1.sv1_targetmask import desi_mask as sv1_desi_mask\n",
    "from desitarget.sv3.sv3_targetmask import desi_mask as sv3_desi_mask"
   ]
  },
  {
   "cell_type": "code",
   "execution_count": 25,
   "id": "24438c83-63db-4d8a-8614-fbff407c411a",
   "metadata": {},
   "outputs": [
    {
     "name": "stdout",
     "output_type": "stream",
     "text": [
      "SELECT DISTINCT fuji_test.zpix.id AS fuji_test_zpix_id, fuji_test.zpix.targetid AS fuji_test_zpix_targetid, fuji_test.zpix.survey AS fuji_test_zpix_survey, fuji_test.zpix.program AS fuji_test_zpix_program, fuji_test.zpix.spgrp AS fuji_test_zpix_spgrp, fuji_test.zpix.spgrpval AS fuji_test_zpix_spgrpval, fuji_test.zpix.healpix AS fuji_test_zpix_healpix, fuji_test.zpix.z AS fuji_test_zpix_z, fuji_test.zpix.zerr AS fuji_test_zpix_zerr, fuji_test.zpix.zwarn AS fuji_test_zpix_zwarn, fuji_test.zpix.chi2 AS fuji_test_zpix_chi2, fuji_test.zpix.coeff_0 AS fuji_test_zpix_coeff_0, fuji_test.zpix.coeff_1 AS fuji_test_zpix_coeff_1, fuji_test.zpix.coeff_2 AS fuji_test_zpix_coeff_2, fuji_test.zpix.coeff_3 AS fuji_test_zpix_coeff_3, fuji_test.zpix.coeff_4 AS fuji_test_zpix_coeff_4, fuji_test.zpix.coeff_5 AS fuji_test_zpix_coeff_5, fuji_test.zpix.coeff_6 AS fuji_test_zpix_coeff_6, fuji_test.zpix.coeff_7 AS fuji_test_zpix_coeff_7, fuji_test.zpix.coeff_8 AS fuji_test_zpix_coeff_8, fuji_test.zpix.coeff_9 AS fuji_test_zpix_coeff_9, fuji_test.zpix.npixels AS fuji_test_zpix_npixels, fuji_test.zpix.spectype AS fuji_test_zpix_spectype, fuji_test.zpix.subtype AS fuji_test_zpix_subtype, fuji_test.zpix.ncoeff AS fuji_test_zpix_ncoeff, fuji_test.zpix.deltachi2 AS fuji_test_zpix_deltachi2, fuji_test.zpix.coadd_fiberstatus AS fuji_test_zpix_coadd_fiberstatus, fuji_test.zpix.cmx_target AS fuji_test_zpix_cmx_target, fuji_test.zpix.desi_target AS fuji_test_zpix_desi_target, fuji_test.zpix.bgs_target AS fuji_test_zpix_bgs_target, fuji_test.zpix.mws_target AS fuji_test_zpix_mws_target, fuji_test.zpix.scnd_target AS fuji_test_zpix_scnd_target, fuji_test.zpix.sv1_desi_target AS fuji_test_zpix_sv1_desi_target, fuji_test.zpix.sv1_bgs_target AS fuji_test_zpix_sv1_bgs_target, fuji_test.zpix.sv1_mws_target AS fuji_test_zpix_sv1_mws_target, fuji_test.zpix.sv1_scnd_target AS fuji_test_zpix_sv1_scnd_target, fuji_test.zpix.sv2_desi_target AS fuji_test_zpix_sv2_desi_target, fuji_test.zpix.sv2_bgs_target AS fuji_test_zpix_sv2_bgs_target, fuji_test.zpix.sv2_mws_target AS fuji_test_zpix_sv2_mws_target, fuji_test.zpix.sv2_scnd_target AS fuji_test_zpix_sv2_scnd_target, fuji_test.zpix.sv3_desi_target AS fuji_test_zpix_sv3_desi_target, fuji_test.zpix.sv3_bgs_target AS fuji_test_zpix_sv3_bgs_target, fuji_test.zpix.sv3_mws_target AS fuji_test_zpix_sv3_mws_target, fuji_test.zpix.sv3_scnd_target AS fuji_test_zpix_sv3_scnd_target, fuji_test.zpix.coadd_numexp AS fuji_test_zpix_coadd_numexp, fuji_test.zpix.coadd_exptime AS fuji_test_zpix_coadd_exptime, fuji_test.zpix.coadd_numnight AS fuji_test_zpix_coadd_numnight, fuji_test.zpix.coadd_numtile AS fuji_test_zpix_coadd_numtile, fuji_test.zpix.mean_delta_x AS fuji_test_zpix_mean_delta_x, fuji_test.zpix.rms_delta_x AS fuji_test_zpix_rms_delta_x, fuji_test.zpix.mean_delta_y AS fuji_test_zpix_mean_delta_y, fuji_test.zpix.rms_delta_y AS fuji_test_zpix_rms_delta_y, fuji_test.zpix.mean_fiber_ra AS fuji_test_zpix_mean_fiber_ra, fuji_test.zpix.std_fiber_ra AS fuji_test_zpix_std_fiber_ra, fuji_test.zpix.mean_fiber_dec AS fuji_test_zpix_mean_fiber_dec, fuji_test.zpix.std_fiber_dec AS fuji_test_zpix_std_fiber_dec, fuji_test.zpix.mean_psf_to_fiber_specflux AS fuji_test_zpix_mean_psf_to_fiber_specflux, fuji_test.zpix.tsnr2_gpbdark_b AS fuji_test_zpix_tsnr2_gpbdark_b, fuji_test.zpix.tsnr2_elg_b AS fuji_test_zpix_tsnr2_elg_b, fuji_test.zpix.tsnr2_gpbbright_b AS fuji_test_zpix_tsnr2_gpbbright_b, fuji_test.zpix.tsnr2_lya_b AS fuji_test_zpix_tsnr2_lya_b, fuji_test.zpix.tsnr2_bgs_b AS fuji_test_zpix_tsnr2_bgs_b, fuji_test.zpix.tsnr2_gpbbackup_b AS fuji_test_zpix_tsnr2_gpbbackup_b, fuji_test.zpix.tsnr2_qso_b AS fuji_test_zpix_tsnr2_qso_b, fuji_test.zpix.tsnr2_lrg_b AS fuji_test_zpix_tsnr2_lrg_b, fuji_test.zpix.tsnr2_gpbdark_r AS fuji_test_zpix_tsnr2_gpbdark_r, fuji_test.zpix.tsnr2_elg_r AS fuji_test_zpix_tsnr2_elg_r, fuji_test.zpix.tsnr2_gpbbright_r AS fuji_test_zpix_tsnr2_gpbbright_r, fuji_test.zpix.tsnr2_lya_r AS fuji_test_zpix_tsnr2_lya_r, fuji_test.zpix.tsnr2_bgs_r AS fuji_test_zpix_tsnr2_bgs_r, fuji_test.zpix.tsnr2_gpbbackup_r AS fuji_test_zpix_tsnr2_gpbbackup_r, fuji_test.zpix.tsnr2_qso_r AS fuji_test_zpix_tsnr2_qso_r, fuji_test.zpix.tsnr2_lrg_r AS fuji_test_zpix_tsnr2_lrg_r, fuji_test.zpix.tsnr2_gpbdark_z AS fuji_test_zpix_tsnr2_gpbdark_z, fuji_test.zpix.tsnr2_elg_z AS fuji_test_zpix_tsnr2_elg_z, fuji_test.zpix.tsnr2_gpbbright_z AS fuji_test_zpix_tsnr2_gpbbright_z, fuji_test.zpix.tsnr2_lya_z AS fuji_test_zpix_tsnr2_lya_z, fuji_test.zpix.tsnr2_bgs_z AS fuji_test_zpix_tsnr2_bgs_z, fuji_test.zpix.tsnr2_gpbbackup_z AS fuji_test_zpix_tsnr2_gpbbackup_z, fuji_test.zpix.tsnr2_qso_z AS fuji_test_zpix_tsnr2_qso_z, fuji_test.zpix.tsnr2_lrg_z AS fuji_test_zpix_tsnr2_lrg_z, fuji_test.zpix.tsnr2_gpbdark AS fuji_test_zpix_tsnr2_gpbdark, fuji_test.zpix.tsnr2_elg AS fuji_test_zpix_tsnr2_elg, fuji_test.zpix.tsnr2_gpbbright AS fuji_test_zpix_tsnr2_gpbbright, fuji_test.zpix.tsnr2_lya AS fuji_test_zpix_tsnr2_lya, fuji_test.zpix.tsnr2_bgs AS fuji_test_zpix_tsnr2_bgs, fuji_test.zpix.tsnr2_gpbbackup AS fuji_test_zpix_tsnr2_gpbbackup, fuji_test.zpix.tsnr2_qso AS fuji_test_zpix_tsnr2_qso, fuji_test.zpix.tsnr2_lrg AS fuji_test_zpix_tsnr2_lrg, fuji_test.zpix.sv_nspec AS fuji_test_zpix_sv_nspec, fuji_test.zpix.sv_primary AS fuji_test_zpix_sv_primary, fuji_test.zpix.main_nspec AS fuji_test_zpix_main_nspec, fuji_test.zpix.main_primary AS fuji_test_zpix_main_primary, fuji_test.zpix.zcat_nspec AS fuji_test_zpix_zcat_nspec, fuji_test.zpix.zcat_primary AS fuji_test_zpix_zcat_primary, fuji_test.target.id AS fuji_test_target_id, fuji_test.target.targetid AS fuji_test_target_targetid, fuji_test.target.photsys AS fuji_test_target_photsys, fuji_test.target.subpriority AS fuji_test_target_subpriority, fuji_test.target.obsconditions AS fuji_test_target_obsconditions, fuji_test.target.priority_init AS fuji_test_target_priority_init, fuji_test.target.numobs_init AS fuji_test_target_numobs_init, fuji_test.target.hpxpixel AS fuji_test_target_hpxpixel, fuji_test.target.cmx_target AS fuji_test_target_cmx_target, fuji_test.target.desi_target AS fuji_test_target_desi_target, fuji_test.target.bgs_target AS fuji_test_target_bgs_target, fuji_test.target.mws_target AS fuji_test_target_mws_target, fuji_test.target.sv1_desi_target AS fuji_test_target_sv1_desi_target, fuji_test.target.sv1_bgs_target AS fuji_test_target_sv1_bgs_target, fuji_test.target.sv1_mws_target AS fuji_test_target_sv1_mws_target, fuji_test.target.sv2_desi_target AS fuji_test_target_sv2_desi_target, fuji_test.target.sv2_bgs_target AS fuji_test_target_sv2_bgs_target, fuji_test.target.sv2_mws_target AS fuji_test_target_sv2_mws_target, fuji_test.target.sv3_desi_target AS fuji_test_target_sv3_desi_target, fuji_test.target.sv3_bgs_target AS fuji_test_target_sv3_bgs_target, fuji_test.target.sv3_mws_target AS fuji_test_target_sv3_mws_target, fuji_test.target.scnd_target AS fuji_test_target_scnd_target, fuji_test.target.sv1_scnd_target AS fuji_test_target_sv1_scnd_target, fuji_test.target.sv2_scnd_target AS fuji_test_target_sv2_scnd_target, fuji_test.target.sv3_scnd_target AS fuji_test_target_sv3_scnd_target, fuji_test.target.survey AS fuji_test_target_survey, fuji_test.target.program AS fuji_test_target_program, fuji_test.target.tileid AS fuji_test_target_tileid \n",
      "FROM fuji_test.zpix JOIN fuji_test.target ON fuji_test.zpix.targetid = fuji_test.target.targetid AND fuji_test.zpix.survey = fuji_test.target.survey AND fuji_test.zpix.program = fuji_test.target.program \n",
      "WHERE fuji_test.zpix.z < %(z_1)s AND fuji_test.zpix.spectype = %(spectype_1)s AND fuji_test.zpix.zwarn = %(zwarn_1)s AND (fuji_test.zpix.sv1_desi_target & %(sv1_desi_target_1)s) = %(param_1)s AND (fuji_test.zpix.sv3_desi_target & %(sv3_desi_target_1)s) = %(param_2)s ORDER BY fuji_test.zpix.survey, fuji_test.zpix.program, fuji_test.zpix.targetid\n",
      "29327\n"
     ]
    }
   ],
   "source": [
    "qso_bump = db.dbSession.query(db.Zpix, db.Target).join(db.Target, and_(db.Zpix.targetid == db.Target.targetid, db.Zpix.survey == db.Target.survey, db.Zpix.program == db.Target.program)).filter(db.Zpix.z < 0.5).filter(db.Zpix.spectype == 'QSO').filter(db.Zpix.zwarn == 0).filter(db.Zpix.sv1_desi_target.op('&')(sv1_desi_mask.QSO) == 0).filter(db.Zpix.sv3_desi_target.op('&')(sv3_desi_mask.QSO) == 0).distinct().order_by(db.Zpix.survey, db.Zpix.program, db.Zpix.targetid)\n",
    "print(qso_bump)\n",
    "print(qso_bump.count())"
   ]
  },
  {
   "cell_type": "code",
   "execution_count": 27,
   "id": "66bc6ba2-b5ff-4ab8-a1aa-5ea99507efff",
   "metadata": {},
   "outputs": [],
   "source": [
    "lines = [\"targetid,survey,program,cmx_target,desi_target,bgs_target,mws_target,scnd_target,sv1_desi_target,sv1_bgs_target,sv1_mws_target,sv1_scnd_target,sv2_desi_target,sv2_bgs_target,sv2_mws_target,sv2_scnd_target,sv3_desi_target,sv3_bgs_target,sv3_mws_target,sv3_scnd_target\"]\n",
    "for row in qso_bump.all():\n",
    "    # print(row)\n",
    "    lines.append(f\"{row[0].targetid:d},{row[0].survey},{row[0].program},{row[1].cmx_target:d},{row[1].desi_target:d},{row[1].bgs_target:d},{row[1].mws_target:d},{row[1].scnd_target:d},{row[1].sv1_desi_target:d},{row[1].sv1_bgs_target:d},{row[1].sv1_mws_target:d},{row[1].sv1_scnd_target:d},{row[1].sv2_desi_target:d},{row[1].sv2_bgs_target:d},{row[1].sv2_mws_target:d},{row[1].sv2_scnd_target:d},{row[1].sv3_desi_target:d},{row[1].sv3_bgs_target:d},{row[1].sv3_mws_target:d},{row[1].sv3_scnd_target:d}\")\n",
    "\n",
    "    "
   ]
  },
  {
   "cell_type": "code",
   "execution_count": 28,
   "id": "7a3cf9b8-50c9-4400-bb98-3545d0bbb47f",
   "metadata": {},
   "outputs": [],
   "source": [
    "with open('/global/cfs/cdirs/desi/users/bweaver/qso_bump.csv', 'w') as f:\n",
    "    f.write('\\n'.join(lines) + '\\n')"
   ]
  },
  {
   "cell_type": "code",
   "execution_count": null,
   "id": "6495ac8e-1613-4e00-ad78-a41ea9ae00fc",
   "metadata": {},
   "outputs": [],
   "source": []
  }
 ],
 "metadata": {
  "kernelspec": {
   "display_name": "DESI 23.1",
   "language": "python",
   "name": "desi-23.1"
  },
  "language_info": {
   "codemirror_mode": {
    "name": "ipython",
    "version": 3
   },
   "file_extension": ".py",
   "mimetype": "text/x-python",
   "name": "python",
   "nbconvert_exporter": "python",
   "pygments_lexer": "ipython3",
   "version": "3.10.8"
  }
 },
 "nbformat": 4,
 "nbformat_minor": 5
}
