{
 "cells": [
  {
   "cell_type": "markdown",
   "id": "eeb82a69-4217-4dcb-962c-399408794d50",
   "metadata": {},
   "source": [
    "# Finding Edge Cases\n",
    "\n",
    "This notebook illustrates the detection and mitigation of certain edge cases in the `specprod` database."
   ]
  },
  {
   "cell_type": "code",
   "execution_count": 2,
   "id": "5fee8e1f-c2bf-491c-a50f-7040f2b62450",
   "metadata": {},
   "outputs": [
    {
     "name": "stdout",
     "output_type": "stream",
     "text": [
      "sqlalchemy==1.4.46\n",
      "specprodDB==0.9.0\n"
     ]
    }
   ],
   "source": [
    "#\n",
    "# Imports\n",
    "#\n",
    "import os\n",
    "import itertools\n",
    "from sqlalchemy import __version__ as sqlalchemy_version\n",
    "from sqlalchemy import and_\n",
    "from sqlalchemy.sql import func\n",
    "#\n",
    "# DESI software\n",
    "#\n",
    "from desiutil.log import get_logger, DEBUG\n",
    "from specprodDB import __version__ as specprodDB_version\n",
    "import specprodDB.load as db\n",
    "#\n",
    "# Set the spectroscopic production run.\n",
    "#\n",
    "specprod = os.environ['SPECPROD'] = 'fuji'  # Change this to 'guadalupe' if needed.\n",
    "#\n",
    "# Working directory.\n",
    "#\n",
    "workingdir = os.getcwd()\n",
    "print(f'sqlalchemy=={sqlalchemy_version}')\n",
    "print(f'specprodDB=={specprodDB_version}')"
   ]
  },
  {
   "cell_type": "code",
   "execution_count": 3,
   "id": "e6028734-47b1-4e08-a3ff-50061dd4fb78",
   "metadata": {},
   "outputs": [],
   "source": [
    "#\n",
    "# For much more output, use DEBUG/verbose mode.\n",
    "#\n",
    "# db.log = get_logger(DEBUG)\n",
    "# postgresql = db.setup_db(schema=specprod, hostname='specprod-db.desi.lbl.gov', username='desi', verbose=True)\n",
    "db.log = get_logger()\n",
    "postgresql = db.setup_db(schema=specprod, hostname='specprod-db.desi.lbl.gov', username='desi')"
   ]
  },
  {
   "cell_type": "markdown",
   "id": "25889c31-896f-4c4e-8526-deeba43fcc5c",
   "metadata": {},
   "source": [
    "## Finding Anomalous Targeting\n",
    "\n",
    "We are trying to identify objects that appear on multiple tiles that have the same `targetid` and `survey`, but different targeting bits on different tiles. However, in principle, we don't care about cases where the `targetid`, `tileid` only appears as a potential target.\n",
    "\n",
    "Let's get the set of `targetid` for a particular `survey` and `program` that appear on more than one tile:\n",
    "\n",
    "```sql\n",
    "SELECT t.targetid\n",
    "    FROM fuji.target AS t JOIN fuji.fiberassign AS f ON t.targetid = f.targetid AND t.tileid = f.tileid\n",
    "    WHERE t.survey = 'sv1' AND t.program = 'dark'\n",
    "    GROUP BY t.targetid HAVING COUNT(t.tileid) > 1;\n",
    "```"
   ]
  },
  {
   "cell_type": "code",
   "execution_count": 4,
   "id": "b112e9e1-10fd-44e8-ae5a-8929dfd37fa6",
   "metadata": {},
   "outputs": [
    {
     "name": "stdout",
     "output_type": "stream",
     "text": [
      "SELECT fuji.target.targetid AS fuji_target_targetid \n",
      "FROM fuji.target JOIN fuji.fiberassign ON fuji.target.targetid = fuji.fiberassign.targetid AND fuji.target.tileid = fuji.fiberassign.tileid \n",
      "WHERE fuji.target.survey = %(survey_1)s AND fuji.target.program = %(program_1)s GROUP BY fuji.target.targetid \n",
      "HAVING count(fuji.target.tileid) > %(count_1)s\n"
     ]
    }
   ],
   "source": [
    "observed_multiple_tiles = db.dbSession.query(db.Target.targetid).join(db.Fiberassign, and_(db.Target.targetid == db.Fiberassign.targetid, db.Target.tileid == db.Fiberassign.tileid)).filter(db.Target.survey == 'sv1').filter(db.Target.program == 'dark').group_by(db.Target.targetid).having(func.count(db.Target.tileid) > 1)\n",
    "print(observed_multiple_tiles)"
   ]
  },
  {
   "cell_type": "markdown",
   "id": "c63a0f57-ab57-4c03-ad29-d0d44cb70e3c",
   "metadata": {},
   "source": [
    "We will call the result of this query `observed_multiple_tiles`. Now let's find the distinct pairs of `targetid`, `sv1_desi_target` from this set:\n",
    "\n",
    "```sql\n",
    "SELECT DISTINCT targetid, sv1_desi_target\n",
    "    FROM fuji.target WHERE targetid IN (observed_multiple_tiles) AND survey = 'sv1' AND program = 'dark';\n",
    "```"
   ]
  },
  {
   "cell_type": "code",
   "execution_count": 5,
   "id": "14e67d09-5ddb-4755-8760-47323ca58118",
   "metadata": {},
   "outputs": [
    {
     "name": "stdout",
     "output_type": "stream",
     "text": [
      "SELECT DISTINCT fuji.target.targetid, fuji.target.sv1_desi_target \n",
      "FROM fuji.target \n",
      "WHERE fuji.target.targetid IN (SELECT fuji.target.targetid \n",
      "FROM fuji.target JOIN fuji.fiberassign ON fuji.target.targetid = fuji.fiberassign.targetid AND fuji.target.tileid = fuji.fiberassign.tileid \n",
      "WHERE fuji.target.survey = :survey_1 AND fuji.target.program = :program_1 GROUP BY fuji.target.targetid \n",
      "HAVING count(fuji.target.tileid) > :count_1) AND fuji.target.survey = :survey_2 AND fuji.target.program = :program_2\n"
     ]
    }
   ],
   "source": [
    "distinct_target = db.dbSession.query(db.Target.targetid, db.Target.sv1_desi_target).filter(db.Target.targetid.in_(observed_multiple_tiles)).filter(db.Target.survey == 'sv1').filter(db.Target.program == 'dark').distinct().subquery()\n",
    "print(distinct_target)"
   ]
  },
  {
   "cell_type": "markdown",
   "id": "a358b502-49e1-4a59-a141-2194cb0ac547",
   "metadata": {},
   "source": [
    "We will call the result of this query `distinct_target`.  Next we eliminate cases where targetid only appears once in distinct_target:\n",
    "\n",
    "```sql\n",
    "SELECT targetid\n",
    "    FROM (distinct_target) AS dt GROUP BY targetid HAVING COUNT(sv1_desi_target) > 1;\n",
    "```"
   ]
  },
  {
   "cell_type": "code",
   "execution_count": 6,
   "id": "037fe752-fb19-4df6-9ea8-001aabe7fbdb",
   "metadata": {},
   "outputs": [
    {
     "name": "stdout",
     "output_type": "stream",
     "text": [
      "SELECT anon_1.targetid AS anon_1_targetid \n",
      "FROM (SELECT DISTINCT fuji.target.targetid AS targetid, fuji.target.sv1_desi_target AS sv1_desi_target \n",
      "FROM fuji.target \n",
      "WHERE fuji.target.targetid IN (SELECT fuji.target.targetid \n",
      "FROM fuji.target JOIN fuji.fiberassign ON fuji.target.targetid = fuji.fiberassign.targetid AND fuji.target.tileid = fuji.fiberassign.tileid \n",
      "WHERE fuji.target.survey = %(survey_1)s AND fuji.target.program = %(program_1)s GROUP BY fuji.target.targetid \n",
      "HAVING count(fuji.target.tileid) > %(count_1)s) AND fuji.target.survey = %(survey_2)s AND fuji.target.program = %(program_2)s) AS anon_1 GROUP BY anon_1.targetid \n",
      "HAVING count(anon_1.sv1_desi_target) > %(count_2)s\n"
     ]
    },
    {
     "data": {
      "text/plain": [
       "79"
      ]
     },
     "execution_count": 6,
     "metadata": {},
     "output_type": "execute_result"
    }
   ],
   "source": [
    "multiple_target = db.dbSession.query(distinct_target.c.targetid).group_by(distinct_target.c.targetid).having(func.count(distinct_target.c.sv1_desi_target) > 1)\n",
    "print(multiple_target)\n",
    "multiple_target.count()"
   ]
  },
  {
   "cell_type": "markdown",
   "id": "01a07b2b-9f12-41ec-9002-8b4b10498ca0",
   "metadata": {},
   "source": [
    "We will call the result of this query `multiple_target`. If we only want to know the number of objects, we're actually done at this stage: the answer is the number of rows of `multiple_target`.  But we can easily get more complete information:\n",
    "\n",
    "```sql\n",
    "SELECT t.targetid, t.survey, t.tileid, t.program, t.obsconditions, t.numobs_init, t.priority_init, t.subpriority, t.sv1_desi_target, t.sv1_bgs_target, t.sv1_mws_target, t.sv1_scnd_target, p.ra, p.dec\n",
    "    FROM fuji.target AS t JOIN fuji.photometry AS p ON t.targetid = p.targetid\n",
    "    WHERE t.survey = 'sv1' AND t.program = 'dark' AND t.targetid IN (multiple_target) ORDER BY t.targetid, t.tileid;\n",
    "```"
   ]
  },
  {
   "cell_type": "code",
   "execution_count": 7,
   "id": "54eb0356-af6d-4f1f-838c-d4a9775a0e0d",
   "metadata": {},
   "outputs": [
    {
     "name": "stdout",
     "output_type": "stream",
     "text": [
      "SELECT fuji.target.targetid AS fuji_target_targetid, fuji.target.survey AS fuji_target_survey, fuji.target.tileid AS fuji_target_tileid, fuji.target.program AS fuji_target_program, fuji.target.obsconditions AS fuji_target_obsconditions, fuji.target.numobs_init AS fuji_target_numobs_init, fuji.target.priority_init AS fuji_target_priority_init, fuji.target.subpriority AS fuji_target_subpriority, fuji.target.sv1_desi_target AS fuji_target_sv1_desi_target, fuji.target.sv1_bgs_target AS fuji_target_sv1_bgs_target, fuji.target.sv1_mws_target AS fuji_target_sv1_mws_target, fuji.target.sv1_scnd_target AS fuji_target_sv1_scnd_target, fuji.photometry.ra AS fuji_photometry_ra, fuji.photometry.dec AS fuji_photometry_dec \n",
      "FROM fuji.target JOIN fuji.photometry ON fuji.photometry.targetid = fuji.target.targetid \n",
      "WHERE fuji.target.survey = %(survey_1)s AND fuji.target.program = %(program_1)s AND fuji.target.targetid IN (SELECT anon_1.targetid \n",
      "FROM (SELECT DISTINCT fuji.target.targetid AS targetid, fuji.target.sv1_desi_target AS sv1_desi_target \n",
      "FROM fuji.target \n",
      "WHERE fuji.target.targetid IN (SELECT fuji.target.targetid \n",
      "FROM fuji.target JOIN fuji.fiberassign ON fuji.target.targetid = fuji.fiberassign.targetid AND fuji.target.tileid = fuji.fiberassign.tileid \n",
      "WHERE fuji.target.survey = %(survey_2)s AND fuji.target.program = %(program_2)s GROUP BY fuji.target.targetid \n",
      "HAVING count(fuji.target.tileid) > %(count_1)s) AND fuji.target.survey = %(survey_3)s AND fuji.target.program = %(program_3)s) AS anon_1 GROUP BY anon_1.targetid \n",
      "HAVING count(anon_1.sv1_desi_target) > %(count_2)s) ORDER BY fuji.target.targetid, fuji.target.tileid\n"
     ]
    },
    {
     "data": {
      "text/plain": [
       "[(39628500923060195, 'sv1', 80690, 'dark', 3, 8, 3400, 0.983122124704334, 54047318697103110, 0, 0, 0, 134.200248289668, 31.0107996972334),\n",
       " (39628500923060195, 'sv1', 80691, 'dark', 3, 8, 3400, 0.983122124704334, 4665733337124491014, 0, 0, 34359869440, 134.200248289668, 31.0107996972334),\n",
       " (39628500939834932, 'sv1', 80690, 'dark', 7, 1, 1050, 0.906294111915661, 2305843026393563136, 0, 81920, 0, 135.224452209346, 31.005952222602),\n",
       " (39628500939834932, 'sv1', 80691, 'dark', 1, 100, 2998, 0.906294111915661, 6917529044820951040, 0, 81922, 131072, 135.224452209346, 31.005952222602),\n",
       " (39628506119798938, 'sv1', 80690, 'dark', 7, 1, 1100, 0.678005736634616, 2305843052163366912, 0, 33, 0, 135.081459477579, 31.2520285431903),\n",
       " (39628506119798938, 'sv1', 80691, 'dark', 7, 100, 2995, 0.678005736634616, 6917529070590754816, 0, 33, 206158430208, 135.081459477579, 31.2520285431903),\n",
       " (39628506119800881, 'sv1', 80690, 'dark', 7, 1, 1050, 0.378658012604629, 2305843026393563136, 0, 81920, 0, 135.184801991823, 31.2338697039711),\n",
       " (39628506119800881, 'sv1', 80691, 'dark', 1, 100, 2998, 0.378658012604629, 6917529044820951040, 0, 81922, 131072, 135.184801991823, 31.2338697039711),\n",
       " (39628506119803377, 'sv1', 80690, 'dark', 7, 1, 1100, 0.0480311084029562, 2305843017803628544, 0, 33, 0, 135.327263702254, 31.2123448573997),\n",
       " (39628506119803377, 'sv1', 80691, 'dark', 1, 100, 1100, 0.0480311084029562, 6917529036231016448, 0, 33, 131072, 135.327263702254, 31.2123448573997),\n",
       " (39628506123995768, 'sv1', 80690, 'dark', 3, 4, 3400, 0.819092587219983, 9289498865185542, 0, 0, 0, 135.513478812798, 31.1822692618197),\n",
       " (39628506123995768, 'sv1', 80691, 'dark', 3, 4, 3400, 0.518207211262995, 4620975517292573446, 0, 0, 34359738368, 135.513478812798, 31.1822692618197),\n",
       " (39628506132386364, 'sv1', 80690, 'dark', 3, 4, 3400, 0.878623889716991, 9289498865185542, 0, 0, 0, 136.178008963482, 31.2093361331098),\n",
       " (39628506132386364, 'sv1', 80691, 'dark', 3, 4, 3400, 0.878623889716991, 4620975517292573446, 0, 0, 34359869440, 136.178008963482, 31.2093361331098),\n",
       " (39628511161355895, 'sv1', 80682, 'dark', 1, 4, 3400, 0.786305229897123, 9288674231463940, 0, 0, 0, 126.322387649649, 31.5934574930936),\n",
       " (39628511161355895, 'sv1', 80873, 'dark', 1, 4, 3400, 0.467478316939598, 4620974692658851844, 0, 0, 34359738368, 126.322387649649, 31.5934574930936),\n",
       " (39628511287183022, 'sv1', 80690, 'dark', 7, 1, 1100, 0.328575135614455, 2305843052163366912, 0, 33, 0, 135.004207985549, 31.4687659366917),\n",
       " (39628511287183022, 'sv1', 80691, 'dark', 7, 100, 1450, 0.741679673754833, 6917529070590754816, 0, 33, 549755813888, 135.004207985549, 31.4687659366917),\n",
       " (39628511299767837, 'sv1', 80690, 'dark', 3, 4, 3400, 0.952360591951602, 9289498865185542, 0, 0, 0, 136.007878366764, 31.4975586997976),\n",
       " (39628511299767837, 'sv1', 80691, 'dark', 3, 4, 3400, 0.825449258501324, 4620975517292573446, 0, 0, 34359738368, 136.007878366764, 31.4975586997976),\n",
       " (39628516311961911, 'sv1', 80682, 'dark', 1, 8, 3400, 0.906524090977358, 36028797018996740, 0, 0, 0, 125.98767928979, 31.8378433550639),\n",
       " (39628516311961911, 'sv1', 80873, 'dark', 1, 8, 3400, 0.809594388035292, 4647714815446384644, 0, 0, 131072, 125.98767928979, 31.8378433550639),\n",
       " (39628516316151932, 'sv1', 80682, 'dark', 1, 8, 3400, 0.339135375735679, 36028797018996740, 0, 0, 0, 126.062579231057, 31.7726517515467),\n",
       " (39628516316151932, 'sv1', 80873, 'dark', 1, 8, 3400, 0.956921189490824, 4647714815446384644, 0, 0, 34359738368, 126.062579231057, 31.7726517515467),\n",
       " (39628516316152409, 'sv1', 80682, 'dark', 1, 4, 3400, 0.399998093718445, 9288674231463940, 0, 0, 0, 126.087400711517, 31.7235266249495),\n",
       " (39628516316152409, 'sv1', 80873, 'dark', 1, 4, 3400, 0.390399998584187, 4620974692658851844, 0, 0, 34359869440, 126.087400711517, 31.7235266249495),\n",
       " (39628516320346410, 'sv1', 80682, 'dark', 3, 8, 3400, 0.960581578515591, 54044020162216710, 0, 0, 0, 126.365729597979, 31.7600734024275),\n",
       " (39628516320346410, 'sv1', 80873, 'dark', 3, 8, 3400, 0.480213897402858, 4665730038589604614, 0, 0, 131072, 126.365729597979, 31.7600734024275),\n",
       " (39628516320346516, 'sv1', 80682, 'dark', 7, 4, 3400, 0.905764847135025, 2315131683445157892, 0, 81920, 0, 126.372570747187, 31.801910164015),\n",
       " (39628516320346516, 'sv1', 80873, 'dark', 7, 4, 3400, 0.469269247575699, 6926817701872545796, 0, 81920, 34359869440, 126.372570747187, 31.801910164015),\n",
       " (39628516320347772, 'sv1', 80682, 'dark', 7, 4, 3400, 0.388151020396574, 2315131683529044053, 0, 33, 0, 126.439431295563, 31.6957858329447),\n",
       " (39628516320347772, 'sv1', 80873, 'dark', 7, 4, 3400, 0.484092252889018, 6926817701956431957, 0, 33, 34359738368, 126.439431295563, 31.6957858329447),\n",
       " (39628516320348306, 'sv1', 80682, 'dark', 3, 8, 3400, 0.855881034405527, 54044020162216710, 0, 0, 0, 126.466975934264, 31.6718564694679),\n",
       " (39628516320348306, 'sv1', 80873, 'dark', 3, 8, 3400, 0.587169570990808, 4665730038589604614, 0, 0, 131072, 126.466975934264, 31.6718564694679),\n",
       " (39628516320351531, 'sv1', 80682, 'dark', 1, 8, 3400, 0.239945485707851, 18014398509498372, 0, 0, 0, 126.643702490214, 31.7867328943094),\n",
       " (39628516320351531, 'sv1', 80873, 'dark', 1, 8, 3400, 0.32698370866713, 4629700416936886276, 0, 0, 34359869440, 126.643702490214, 31.7867328943094),\n",
       " (39628516421011975, 'sv1', 80690, 'dark', 7, 1, 1100, 0.466007230615801, 2305843017803628544, 0, 33, 0, 133.528470934706, 31.6562874458733),\n",
       " (39628516421011975, 'sv1', 80691, 'dark', 7, 100, 2995, 0.084151123519275, 6917529036231016448, 0, 33, 206158430208, 133.528470934706, 31.6562874458733),\n",
       " (39628516429402429, 'sv1', 80690, 'dark', 7, 4, 3400, 0.385530482790561, 2315132508162765655, 0, 81920, 0, 134.2156697743, 31.8468320041312),\n",
       " (39628516429402429, 'sv1', 80691, 'dark', 7, 4, 3400, 0.589006364033121, 6926818526590153559, 0, 81920, 34359869440, 134.2156697743, 31.8468320041312),\n",
       " (39628516441981515, 'sv1', 80690, 'dark', 7, 1, 1050, 0.611953269492797, 2305843026393563136, 0, 81920, 0, 134.881658407068, 31.8037202143604),\n",
       " (39628516441981515, 'sv1', 80691, 'dark', 1, 100, 2998, 0.473362148653064, 6917529044820951040, 0, 81922, 131072, 134.881658407068, 31.8037202143604),\n",
       " (39628516450371457, 'sv1', 80690, 'dark', 3, 4, 3400, 0.561931367027134, 9289498865185542, 0, 0, 0, 135.565197487129, 31.6353520610924),\n",
       " (39628516450371457, 'sv1', 80691, 'dark', 3, 4, 3400, 0.986454735269209, 4620975517292573446, 0, 0, 34359738368, 135.565197487129, 31.6353520610924),\n",
       " (39628516454566143, 'sv1', 80690, 'dark', 7, 1, 1100, 0.546121930424935, 2305843017803628544, 0, 33, 0, 135.881400734237, 31.6718048024312),\n",
       " (39628516454566143, 'sv1', 80691, 'dark', 7, 100, 2995, 0.546121930424935, 6917529036231016448, 0, 33, 206158430208, 135.881400734237, 31.6718048024312),\n",
       " (39628521454179283, 'sv1', 80682, 'dark', 1, 4, 3400, 0.708202579212195, 9288674231463940, 0, 0, 0, 125.874646761811, 32.0157073536254),\n",
       " (39628521454179283, 'sv1', 80873, 'dark', 1, 4, 3400, 0.667187682072108, 4620974692658851844, 0, 0, 34359869440, 125.874646761811, 32.0157073536254),\n",
       " (39628521458372723, 'sv1', 80682, 'dark', 3, 4, 3400, 0.586850608983122, 9292797400071942, 0, 0, 0, 126.154462770741, 31.9486286786137),\n",
       " (39628521458372723, 'sv1', 80873, 'dark', 3, 4, 3400, 0.861835376531075, 4620978815827459846, 0, 0, 34359738368, 126.154462770741, 31.9486286786137),\n",
       " (39628521466757468, 'sv1', 80682, 'dark', 1, 8, 3400, 0.39926905636616, 54043195528495108, 0, 0, 0, 126.495276388358, 32.0322462454053),\n",
       " (39628521466757468, 'sv1', 80873, 'dark', 1, 8, 3400, 0.664216145461354, 4665729213955883012, 0, 0, 131072, 126.495276388358, 32.0322462454053),\n",
       " (39628521466757724, 'sv1', 80682, 'dark', 7, 4, 3400, 0.583126917509884, 2315131683529044053, 0, 81920, 0, 126.517805183869, 31.914595915784),\n",
       " (39628521466757724, 'sv1', 80873, 'dark', 7, 4, 3400, 0.709508668185563, 6926817701956431957, 0, 81920, 34359869440, 126.517805183869, 31.914595915784),\n",
       " (39628521563230515, 'sv1', 80690, 'dark', 3, 8, 3400, 0.953218702400141, 54044020162216710, 0, 0, 0, 133.483947411181, 31.9310869923981),\n",
       " (39628521563230515, 'sv1', 80691, 'dark', 3, 8, 3400, 0.896873014368215, 4665730038589604614, 0, 0, 131072, 133.483947411181, 31.9310869923981),\n",
       " (39628521609367452, 'sv1', 80690, 'dark', 7, -1, -1, 0.249307478361943, 17179869184, 0, 0, 0, 136.735868977639, 31.9209994083716),\n",
       " (39628521609367452, 'sv1', 80691, 'dark', 7, 100, 2998, 0.476741443604258, 2305843026393563136, 0, 2, 0, 136.735868977639, 31.9209994083716),\n",
       " (39628526592199192, 'sv1', 80682, 'dark', 3, 8, 3400, 0.902442325276139, 54044020162216710, 0, 0, 0, 126.482318400213, 32.156256563172),\n",
       " (39628526592199192, 'sv1', 80873, 'dark', 3, 8, 3400, 0.0473549529341841, 4665730038589604614, 0, 0, 131072, 126.482318400213, 32.156256563172),\n",
       " (39628526596391368, 'sv1', 80682, 'dark', 1, 8, 3400, 0.676048468306204, 54043195528495108, 0, 0, 0, 126.616687626656, 32.2785499663727),\n",
       " (39628526596391368, 'sv1', 80873, 'dark', 1, 8, 3400, 0.851497162571919, 4665729213955883012, 0, 0, 34359738368, 126.616687626656, 32.2785499663727),\n",
       " (39628526596394840, 'sv1', 80682, 'dark', 3, 4, 3400, 0.891772751567489, 9292797400071942, 0, 0, 0, 126.841259182822, 32.2001862311279),\n",
       " (39628526596394840, 'sv1', 80873, 'dark', 3, 4, 3400, 0.25099372679601, 4620978815827459846, 0, 0, 34359738368, 126.841259182822, 32.2001862311279),\n",
       " (39628526701250099, 'sv1', 80690, 'dark', 3, 8, 3400, 0.337562612045869, 54044020162216710, 0, 0, 0, 134.060867938842, 32.2636562874888),\n",
       " (39628526701250099, 'sv1', 80691, 'dark', 3, 8, 3400, 0.551382429944144, 4665730038589604614, 0, 0, 755914637312, 134.060867938842, 32.2636562874888),\n",
       " (39628526718026133, 'sv1', 80690, 'dark', 3, 8, 3400, 0.218015248381301, 54044020162216710, 0, 0, 0, 135.165067557775, 32.1973250976831),\n",
       " (39628526718026133, 'sv1', 80691, 'dark', 3, 8, 3400, 0.869698716114905, 4665730038589604614, 0, 0, 131072, 135.165067557775, 32.1973250976831),\n",
       " (39632929743178835, 'sv1', 80682, 'dark', 7, 1, 1100, 0.833556404548133, 2305843052163366912, 0, 17, 0, 125.819604815938, 32.5620362285423),\n",
       " (39632929743178835, 'sv1', 80873, 'dark', 7, 100, 2995, 0.537641572691727, 6917529070590754816, 0, 17, 206158430208, 125.819604815938, 32.5620362285423),\n",
       " (39632929743179137, 'sv1', 80682, 'dark', 5, 4, 3400, 0.186517257462375, 1152934698748489797, 514, 0, 0, 125.840003882914, 32.3995012768992),\n",
       " (39632929743179137, 'sv1', 80873, 'dark', 5, 4, 3400, 0.391018367268082, 5764620717175877701, 514, 0, 131072, 125.840003882914, 32.3995012768992),\n",
       " (39632929747371293, 'sv1', 80682, 'dark', 3, 8, 3400, 0.323894931571291, 52777363489542, 0, 0, 0, 126.014483779735, 32.5648492192377),\n",
       " (39632929747371293, 'sv1', 80873, 'dark', 3, 8, 3400, 0.825633163991645, 4611738795790877446, 0, 0, 34359869440, 126.014483779735, 32.5648492192377),\n",
       " (39632929747372319, 'sv1', 80682, 'dark', 3, 4, 3400, 0.171378829387183, 13198166081286, 0, 0, 0, 126.090788118878, 32.4596584487075),\n",
       " (39632929747372319, 'sv1', 80873, 'dark', 3, 4, 3400, 0.602403335199319, 4611699216593469190, 0, 0, 34359738368, 126.090788118878, 32.4596584487075),\n",
       " (39632929751565691, 'sv1', 80682, 'dark', 1, 4, 3400, 0.0521869440076291, 8796093030404, 0, 0, 0, 126.321468135069, 32.6163475881822),\n",
       " (39632929751565691, 'sv1', 80873, 'dark', 1, 4, 3400, 0.734714372621842, 4611694814520418308, 0, 0, 34359738368, 126.321468135069, 32.6163475881822),\n",
       " (39632929755761901, 'sv1', 80682, 'dark', 3, 4, 3400, 0.718841071035696, 13194944852742, 0, 0, 0, 126.768445064957, 32.5943146105345),\n",
       " (39632929755761901, 'sv1', 80873, 'dark', 3, 4, 3400, 0.32815418584927, 4611699213372240646, 0, 0, 34359738368, 126.768445064957, 32.5943146105345),\n",
       " (39632929852228688, 'sv1', 80690, 'dark', 3, 4, 3400, 0.877750273913771, 13198166081286, 0, 0, 0, 133.392345954725, 32.3767631420925),\n",
       " (39632929852228688, 'sv1', 80691, 'dark', 3, 4, 3400, 0.802732512881961, 4611699216593469190, 0, 0, 34359738368, 133.392345954725, 32.3767631420925),\n",
       " (39632929852229953, 'sv1', 80690, 'dark', 3, 8, 3400, 0.634447506299281, 52777363489542, 0, 0, 0, 133.49617267582, 32.5622836775433),\n",
       " (39632929852229953, 'sv1', 80691, 'dark', 3, 8, 3400, 0.917838489375333, 4611738795790877446, 0, 0, 34359869440, 133.49617267582, 32.5622836775433),\n",
       " (39632929856423605, 'sv1', 80690, 'dark', 3, 8, 3400, 0.00492813361595201, 52780584718086, 0, 0, 0, 133.723983778431, 32.6159215448527),\n",
       " (39632929856423605, 'sv1', 80691, 'dark', 3, 8, 3400, 0.911250987082058, 4611738799012105990, 0, 0, 34359869440, 133.723983778431, 32.6159215448527),\n",
       " (39632929856425410, 'sv1', 80690, 'dark', 7, 1, 1100, 0.0497269090431823, 2305843017803628544, 0, 17, 0, 133.875183632537, 32.5060081036705),\n",
       " (39632929856425410, 'sv1', 80691, 'dark', 7, 100, 2995, 0.414998165489115, 6917529036231016448, 0, 17, 206158430208, 133.875183632537, 32.5060081036705),\n",
       " (39632929860619211, 'sv1', 80690, 'dark', 7, 1, 1050, 0.806452014641111, 2305843026393563136, 0, 49152, 0, 134.155855459888, 32.4576486444835),\n",
       " (39632929860619211, 'sv1', 80691, 'dark', 1, 100, 2998, 0.77808218432872, 6917529044820951040, 0, 49154, 131072, 134.155855459888, 32.4576486444835),\n",
       " (39632929881588798, 'sv1', 80690, 'dark', 7, 1, 1100, 0.235681607414822, 2305843017803628544, 0, 17, 0, 135.44775308902, 32.5873918022049),\n",
       " (39632929881588798, 'sv1', 80691, 'dark', 7, 100, 2995, 0.828929014679331, 6917529036231016448, 0, 17, 206158430208, 135.44775308902, 32.5873918022049),\n",
       " (39632929889976796, 'sv1', 80690, 'dark', 7, 1, 1100, 0.27178003000707, 2305843052163366912, 0, 17, 0, 135.99374992049, 32.4529333188827),\n",
       " (39632929889976796, 'sv1', 80691, 'dark', 7, 100, 2995, 0.995684901354902, 6917529070590754816, 0, 17, 206158430208, 135.99374992049, 32.4529333188827),\n",
       " (39632929889979584, 'sv1', 80690, 'dark', 3, 4, 3400, 0.459237235598229, 13194946949959, 0, 0, 0, 136.188900385527, 32.6181197773019),\n",
       " (39632929889979584, 'sv1', 80691, 'dark', 3, 4, 3400, 0.879638121645019, 4611699213374337863, 0, 0, 131072, 136.188900385527, 32.6181197773019),\n",
       " (39632934847645779, 'sv1', 80682, 'dark', 7, 8, 3400, 0.172909338490272, 2305895785771876356, 0, 49152, 0, 125.879798032286, 32.6735595685878),\n",
       " (39632934847645779, 'sv1', 80873, 'dark', 7, 8, 3400, 0.324629578182822, 6917581804199264260, 0, 49152, 131072, 125.879798032286, 32.6735595685878),\n",
       " (39632934851839146, 'sv1', 80682, 'dark', 7, 1, 1100, 0.791417116550068, 2305843017803628544, 0, 17, 0, 126.110796247757, 32.8386544482755),\n",
       " (39632934851839146, 'sv1', 80873, 'dark', 7, 100, 2995, 0.562848001895762, 6917529036231016448, 0, 17, 206158430208, 126.110796247757, 32.8386544482755),\n",
       " (39632934856035590, 'sv1', 80682, 'dark', 7, 8, 3400, 0.630534788334487, 2305895785771876356, 0, 49152, 0, 126.58092020946, 32.7276689760301),\n",
       " (39632934856035590, 'sv1', 80873, 'dark', 7, 8, 3400, 0.725834945993688, 6917581804199264260, 0, 49152, 131072, 126.58092020946, 32.7276689760301),\n",
       " (39632934860228332, 'sv1', 80682, 'dark', 7, 8, 3400, 0.675561473073617, 2305895785771876356, 0, 49152, 0, 126.773024280612, 32.8541469782232),\n",
       " (39632934860228332, 'sv1', 80873, 'dark', 7, 8, 3400, 0.240112686545114, 6917581804199264260, 0, 49152, 131072, 126.773024280612, 32.8541469782232),\n",
       " (39632934986059263, 'sv1', 80690, 'dark', 3, 4, 3400, 0.83609566007636, 13198166081286, 0, 0, 0, 135.789216995212, 32.7480120744134),\n",
       " (39632934986059263, 'sv1', 80691, 'dark', 3, 4, 3400, 0.84280372666845, 4611699216593469190, 0, 0, 131072, 135.789216995212, 32.7480120744134),\n",
       " (39632934990252373, 'sv1', 80690, 'dark', 7, 1, 1100, 0.28251368359705, 2305843017803628544, 0, 17, 0, 135.973352040948, 32.6344903998035),\n",
       " (39632934990252373, 'sv1', 80691, 'dark', 7, 100, 2995, 0.58321589356221, 6917529036231016448, 0, 17, 206158430208, 135.973352040948, 32.6344903998035),\n",
       " (39632934998639010, 'sv1', 80690, 'dark', 7, 1, 1100, 0.137891345647874, 2305843026393563136, 0, 17, 0, 136.439808411406, 32.6773821072363),\n",
       " (39632934998639010, 'sv1', 80691, 'dark', 7, 100, 2998, 0.791226305136744, 6917529044820951040, 0, 19, 206158561280, 136.439808411406, 32.6773821072363),\n",
       " (39632934998641799, 'sv1', 80690, 'dark', 7, 1, 1100, 0.137953287944046, 2305843017803628544, 0, 17, 0, 136.660477987471, 32.6997685321517),\n",
       " (39632934998641799, 'sv1', 80691, 'dark', 7, 100, 2995, 0.829769146220222, 6917529036231016448, 0, 17, 206158430208, 136.660477987471, 32.6997685321517),\n",
       " (39632939935337526, 'sv1', 80682, 'dark', 1, 4, 3400, 0.640026920385296, 4398046515204, 0, 0, 0, 126.060651438289, 32.9450714306995),\n",
       " (39632939935337526, 'sv1', 80873, 'dark', 1, 4, 3400, 0.683510193549447, 4611690416473903108, 0, 0, 34359738368, 126.060651438289, 32.9450714306995),\n",
       " (39632939935338068, 'sv1', 80682, 'dark', 1, 4, 3400, 0.480743250086566, 4398046515204, 0, 0, 0, 126.093207419495, 32.9377417260861),\n",
       " (39632939935338068, 'sv1', 80873, 'dark', 1, 4, 3400, 0.476910758510004, 4611690416473903108, 0, 0, 34359738368, 126.093207419495, 32.9377417260861),\n",
       " (39632939939529855, 'sv1', 80682, 'dark', 3, 4, 3400, 0.700728753967803, 13198166081286, 0, 0, 0, 126.232980269412, 33.0036444184106),\n",
       " (39632939939529855, 'sv1', 80873, 'dark', 3, 4, 3400, 0.46899587766384, 4611699216593469190, 0, 0, 34359869440, 126.232980269412, 33.0036444184106),\n",
       " (39632939939529989, 'sv1', 80682, 'dark', 3, 4, 3400, 0.646413522272208, 13198166081286, 0, 0, 0, 126.243225574874, 33.1183759633441),\n",
       " (39632939939529989, 'sv1', 80873, 'dark', 3, 4, 3400, 0.420247754636434, 4611699216593469190, 0, 0, 34359738368, 126.243225574874, 33.1183759633441),\n",
       " (39632939939530547, 'sv1', 80682, 'dark', 3, 8, 3400, 0.0214063114647418, 52780584718086, 0, 0, 0, 126.282359903084, 32.9337396329408),\n",
       " (39632939939530547, 'sv1', 80873, 'dark', 3, 8, 3400, 0.44584504050674, 4611738799012105990, 0, 0, 131072, 126.282359903084, 32.9337396329408),\n",
       " (39632939939531425, 'sv1', 80682, 'dark', 1, 4, 3400, 0.897928604401159, 13194139545604, 0, 0, 0, 126.352026919416, 32.9388856368374),\n",
       " (39632939939531425, 'sv1', 80873, 'dark', 1, 4, 3400, 0.625310162171264, 4611699212566933508, 0, 0, 34359869440, 126.352026919416, 32.9388856368374),\n",
       " (39632939939531634, 'sv1', 80682, 'dark', 1, 4, 3400, 0.894995351139268, 13194139545604, 0, 0, 0, 126.368269652736, 32.8991812698239),\n",
       " (39632939939531634, 'sv1', 80873, 'dark', 1, 4, 3400, 0.408149731975357, 4611699212566933508, 0, 0, 34359738368, 126.368269652736, 32.8991812698239),\n",
       " (39632940044388890, 'sv1', 80690, 'dark', 3, 8, 3400, 0.367455193826339, 52780584718086, 0, 0, 0, 133.791938903158, 33.0090066249504),\n",
       " (39632940044388890, 'sv1', 80691, 'dark', 3, 8, 3400, 0.990890753034892, 4611738799012105990, 0, 0, 34359869440, 133.791938903158, 33.0090066249504),\n",
       " (39632940048582375, 'sv1', 80690, 'dark', 7, 1, 1100, 0.222402518539322, 2305843017803628544, 0, 17, 0, 134.026082698455, 33.0311317730876),\n",
       " (39632940048582375, 'sv1', 80691, 'dark', 7, 100, 2995, 0.722696386683651, 6917529036231016448, 0, 17, 206158430208, 134.026082698455, 33.0311317730876),\n",
       " (39632940065359576, 'sv1', 80690, 'dark', 3, 8, 3400, 0.699648994984763, 17592991367942, 0, 0, 0, 135.217312485509, 32.8828132121773),\n",
       " (39632940065359576, 'sv1', 80691, 'dark', 3, 8, 3400, 0.174324767091775, 4611703611418755846, 0, 0, 393216, 135.217312485509, 32.8828132121773),\n",
       " (39632940065360515, 'sv1', 80690, 'dark', 7, 4, 3400, 0.340909182946336, 2305856204161168215, 0, 49152, 0, 135.291113775434, 32.9642997446975),\n",
       " (39632940065360515, 'sv1', 80691, 'dark', 7, 4, 3400, 0.776378476037243, 6917542222588556119, 0, 49152, 131072, 135.291113775434, 32.9642997446975),\n",
       " (39632940073748950, 'sv1', 80690, 'dark', 3, 8, 3400, 0.981123164725621, 52777363489542, 0, 0, 0, 135.867733148236, 33.1056186816839),\n",
       " (39632940073748950, 'sv1', 80691, 'dark', 3, 8, 3400, 0.950965481430669, 4611738795790877446, 0, 0, 131072, 135.867733148236, 33.1056186816839),\n",
       " (39632940073750247, 'sv1', 80690, 'dark', 7, 1, 1100, 0.318667287485675, 2305843026393563136, 0, 17, 0, 135.961319644237, 33.0099871255327),\n",
       " (39632940073750247, 'sv1', 80691, 'dark', 1, 100, 2998, 0.471108768596921, 6917529044820951040, 0, 19, 131072, 135.961319644237, 33.0099871255327),\n",
       " (39632940077942612, 'sv1', 80690, 'dark', 3, 8, 3400, 0.457138348048908, 52777363489542, 0, 0, 0, 136.11204089562, 32.8804810832798),\n",
       " (39632940077942612, 'sv1', 80691, 'dark', 3, 8, 3400, 0.856295813898258, 4611738795790877446, 0, 0, 34359869440, 136.11204089562, 32.8804810832798),\n",
       " (39632940077942912, 'sv1', 80690, 'dark', 3, 8, 3400, 0.911403635063888, 35185177428742, 0, 0, 0, 136.136557355351, 32.9847317977671),\n",
       " (39632940077942912, 'sv1', 80691, 'dark', 3, 8, 3400, 0.818096408782429, 4611721203604816646, 0, 0, 131072, 136.136557355351, 32.9847317977671),\n",
       " (39632940082138219, 'sv1', 80690, 'dark', 3, 4, 3400, 0.90109433505031, 8800119566086, 0, 0, 0, 136.516591252594, 32.9970774553745),\n",
       " (39632940082138219, 'sv1', 80691, 'dark', 3, 4, 3400, 0.711835720023455, 4611694818546953990, 0, 0, 34359738368, 136.516591252594, 32.9970774553745),\n",
       " (39632945111107806, 'sv1', 80690, 'dark', 7, 1, 1100, 0.594219694271832, 2305843026393563136, 0, 17, 0, 133.622272799431, 33.2254630478583),\n",
       " (39632945111107806, 'sv1', 80691, 'dark', 1, 100, 2998, 0.352117860203813, 6917529044820951040, 0, 19, 131072, 133.622272799431, 33.2254630478583),\n",
       " (39632945119497598, 'sv1', 80690, 'dark', 7, 1, 1100, 0.571268406346419, 2305843026393563136, 0, 17, 0, 134.305347916745, 33.3119297311453),\n",
       " (39632945119497598, 'sv1', 80691, 'dark', 1, 100, 3400, 0.390004255686766, 6917529044820951040, 0, 19, 34359869440, 134.305347916745, 33.3119297311453),\n",
       " (39632945123690266, 'sv1', 80690, 'dark', 7, -1, -1, 0.86160122574385, 17179869184, 0, 0, 0, 134.47349015315, 33.2482200177073),\n",
       " (39632945123690266, 'sv1', 80691, 'dark', 1, 100, 2998, 0.392673951776973, 6917529044820951040, 0, 2, 131072, 134.47349015315, 33.2482200177073),\n",
       " (39632945140469357, 'sv1', 80690, 'dark', 3, 4, 3400, 0.634655586562117, 8800119566086, 0, 0, 0, 135.82044935606, 33.3605068859944),\n",
       " (39632945140469357, 'sv1', 80691, 'dark', 3, 4, 3400, 0.796159589890897, 4611694818546953990, 0, 0, 131072, 135.82044935606, 33.3605068859944),\n",
       " (39632945144663513, 'sv1', 80690, 'dark', 3, 4, 3400, 0.621612264709569, 13198168178503, 0, 0, 0, 136.113895517959, 33.2163122160386),\n",
       " (39632945144663513, 'sv1', 80691, 'dark', 3, 4, 3400, 0.929193753250531, 4611699216595566407, 0, 0, 34359869440, 136.113895517959, 33.2163122160386),\n",
       " (39632950177827441, 'sv1', 80690, 'dark', 7, 1, 1050, 0.219638881795909, 2305843026393563136, 0, 49152, 0, 134.450188064274, 33.4522936078397),\n",
       " (39632950177827441, 'sv1', 80691, 'dark', 7, 100, 2998, 0.0100533130622031, 6917529044820951040, 0, 49154, 206158561280, 134.450188064274, 33.4522936078397),\n",
       " (39632950194603290, 'sv1', 80690, 'dark', 7, 8, 3400, 0.547655063726015, 2305895786577183494, 0, 49152, 0, 135.569654318417, 33.4124925877878),\n",
       " (39632950194603290, 'sv1', 80691, 'dark', 7, 8, 3400, 0.981164333840592, 6917581805004571398, 0, 49152, 34359869440, 135.569654318417, 33.4124925877878)]"
      ]
     },
     "execution_count": 7,
     "metadata": {},
     "output_type": "execute_result"
    }
   ],
   "source": [
    "q = db.dbSession.query(db.Target.targetid, db.Target.survey, db.Target.tileid, db.Target.program, db.Target.obsconditions, db.Target.numobs_init, db.Target.priority_init, db.Target.subpriority, db.Target.sv1_desi_target, db.Target.sv1_bgs_target, db.Target.sv1_mws_target, db.Target.sv1_scnd_target, db.Photometry.ra, db.Photometry.dec).join(db.Photometry).filter(db.Target.survey == 'sv1').filter(db.Target.program == 'dark').filter(db.Target.targetid.in_(multiple_target)).order_by(db.Target.targetid, db.Target.tileid)\n",
    "print(q)\n",
    "q.all()"
   ]
  },
  {
   "cell_type": "markdown",
   "id": "e1a716dd-3c0e-4441-a67b-9fe4ba52ce5a",
   "metadata": {},
   "source": [
    "Now let's find corresponding rows in the `zpix` table. We can reuse the `multiple_target` query from above.\n",
    "\n",
    "```sql\n",
    "SELECT id, targetid, z, zwarn\n",
    "    FROM fuji.zpix\n",
    "    WHERE targetid IN (multiple_targets) AND survey = 'sv1' AND program = 'dark';\n",
    "```"
   ]
  },
  {
   "cell_type": "code",
   "execution_count": 8,
   "id": "8f3350de-6f6a-403d-b1e7-3ac8770a1847",
   "metadata": {},
   "outputs": [
    {
     "name": "stdout",
     "output_type": "stream",
     "text": [
      "SELECT fuji.zpix.id AS fuji_zpix_id, fuji.zpix.targetid AS fuji_zpix_targetid, fuji.zpix.survey AS fuji_zpix_survey, fuji.zpix.program AS fuji_zpix_program, fuji.zpix.spgrp AS fuji_zpix_spgrp, fuji.zpix.spgrpval AS fuji_zpix_spgrpval, fuji.zpix.healpix AS fuji_zpix_healpix, fuji.zpix.z AS fuji_zpix_z, fuji.zpix.zerr AS fuji_zpix_zerr, fuji.zpix.zwarn AS fuji_zpix_zwarn, fuji.zpix.chi2 AS fuji_zpix_chi2, fuji.zpix.coeff_0 AS fuji_zpix_coeff_0, fuji.zpix.coeff_1 AS fuji_zpix_coeff_1, fuji.zpix.coeff_2 AS fuji_zpix_coeff_2, fuji.zpix.coeff_3 AS fuji_zpix_coeff_3, fuji.zpix.coeff_4 AS fuji_zpix_coeff_4, fuji.zpix.coeff_5 AS fuji_zpix_coeff_5, fuji.zpix.coeff_6 AS fuji_zpix_coeff_6, fuji.zpix.coeff_7 AS fuji_zpix_coeff_7, fuji.zpix.coeff_8 AS fuji_zpix_coeff_8, fuji.zpix.coeff_9 AS fuji_zpix_coeff_9, fuji.zpix.npixels AS fuji_zpix_npixels, fuji.zpix.spectype AS fuji_zpix_spectype, fuji.zpix.subtype AS fuji_zpix_subtype, fuji.zpix.ncoeff AS fuji_zpix_ncoeff, fuji.zpix.deltachi2 AS fuji_zpix_deltachi2, fuji.zpix.coadd_fiberstatus AS fuji_zpix_coadd_fiberstatus, fuji.zpix.coadd_numexp AS fuji_zpix_coadd_numexp, fuji.zpix.coadd_exptime AS fuji_zpix_coadd_exptime, fuji.zpix.coadd_numnight AS fuji_zpix_coadd_numnight, fuji.zpix.coadd_numtile AS fuji_zpix_coadd_numtile, fuji.zpix.mean_delta_x AS fuji_zpix_mean_delta_x, fuji.zpix.rms_delta_x AS fuji_zpix_rms_delta_x, fuji.zpix.mean_delta_y AS fuji_zpix_mean_delta_y, fuji.zpix.rms_delta_y AS fuji_zpix_rms_delta_y, fuji.zpix.mean_fiber_ra AS fuji_zpix_mean_fiber_ra, fuji.zpix.std_fiber_ra AS fuji_zpix_std_fiber_ra, fuji.zpix.mean_fiber_dec AS fuji_zpix_mean_fiber_dec, fuji.zpix.std_fiber_dec AS fuji_zpix_std_fiber_dec, fuji.zpix.mean_psf_to_fiber_specflux AS fuji_zpix_mean_psf_to_fiber_specflux, fuji.zpix.tsnr2_gpbdark_b AS fuji_zpix_tsnr2_gpbdark_b, fuji.zpix.tsnr2_elg_b AS fuji_zpix_tsnr2_elg_b, fuji.zpix.tsnr2_gpbbright_b AS fuji_zpix_tsnr2_gpbbright_b, fuji.zpix.tsnr2_lya_b AS fuji_zpix_tsnr2_lya_b, fuji.zpix.tsnr2_bgs_b AS fuji_zpix_tsnr2_bgs_b, fuji.zpix.tsnr2_gpbbackup_b AS fuji_zpix_tsnr2_gpbbackup_b, fuji.zpix.tsnr2_qso_b AS fuji_zpix_tsnr2_qso_b, fuji.zpix.tsnr2_lrg_b AS fuji_zpix_tsnr2_lrg_b, fuji.zpix.tsnr2_gpbdark_r AS fuji_zpix_tsnr2_gpbdark_r, fuji.zpix.tsnr2_elg_r AS fuji_zpix_tsnr2_elg_r, fuji.zpix.tsnr2_gpbbright_r AS fuji_zpix_tsnr2_gpbbright_r, fuji.zpix.tsnr2_lya_r AS fuji_zpix_tsnr2_lya_r, fuji.zpix.tsnr2_bgs_r AS fuji_zpix_tsnr2_bgs_r, fuji.zpix.tsnr2_gpbbackup_r AS fuji_zpix_tsnr2_gpbbackup_r, fuji.zpix.tsnr2_qso_r AS fuji_zpix_tsnr2_qso_r, fuji.zpix.tsnr2_lrg_r AS fuji_zpix_tsnr2_lrg_r, fuji.zpix.tsnr2_gpbdark_z AS fuji_zpix_tsnr2_gpbdark_z, fuji.zpix.tsnr2_elg_z AS fuji_zpix_tsnr2_elg_z, fuji.zpix.tsnr2_gpbbright_z AS fuji_zpix_tsnr2_gpbbright_z, fuji.zpix.tsnr2_lya_z AS fuji_zpix_tsnr2_lya_z, fuji.zpix.tsnr2_bgs_z AS fuji_zpix_tsnr2_bgs_z, fuji.zpix.tsnr2_gpbbackup_z AS fuji_zpix_tsnr2_gpbbackup_z, fuji.zpix.tsnr2_qso_z AS fuji_zpix_tsnr2_qso_z, fuji.zpix.tsnr2_lrg_z AS fuji_zpix_tsnr2_lrg_z, fuji.zpix.tsnr2_gpbdark AS fuji_zpix_tsnr2_gpbdark, fuji.zpix.tsnr2_elg AS fuji_zpix_tsnr2_elg, fuji.zpix.tsnr2_gpbbright AS fuji_zpix_tsnr2_gpbbright, fuji.zpix.tsnr2_lya AS fuji_zpix_tsnr2_lya, fuji.zpix.tsnr2_bgs AS fuji_zpix_tsnr2_bgs, fuji.zpix.tsnr2_gpbbackup AS fuji_zpix_tsnr2_gpbbackup, fuji.zpix.tsnr2_qso AS fuji_zpix_tsnr2_qso, fuji.zpix.tsnr2_lrg AS fuji_zpix_tsnr2_lrg, fuji.zpix.sv_nspec AS fuji_zpix_sv_nspec, fuji.zpix.sv_primary AS fuji_zpix_sv_primary, fuji.zpix.main_nspec AS fuji_zpix_main_nspec, fuji.zpix.main_primary AS fuji_zpix_main_primary, fuji.zpix.zcat_nspec AS fuji_zpix_zcat_nspec, fuji.zpix.zcat_primary AS fuji_zpix_zcat_primary \n",
      "FROM fuji.zpix \n",
      "WHERE fuji.zpix.targetid IN (SELECT anon_1.targetid \n",
      "FROM (SELECT DISTINCT fuji.target.targetid AS targetid, fuji.target.sv1_desi_target AS sv1_desi_target \n",
      "FROM fuji.target \n",
      "WHERE fuji.target.targetid IN (SELECT fuji.target.targetid \n",
      "FROM fuji.target JOIN fuji.fiberassign ON fuji.target.targetid = fuji.fiberassign.targetid AND fuji.target.tileid = fuji.fiberassign.tileid \n",
      "WHERE fuji.target.survey = %(survey_1)s AND fuji.target.program = %(program_1)s GROUP BY fuji.target.targetid \n",
      "HAVING count(fuji.target.tileid) > %(count_1)s) AND fuji.target.survey = %(survey_2)s AND fuji.target.program = %(program_2)s) AS anon_1 GROUP BY anon_1.targetid \n",
      "HAVING count(anon_1.sv1_desi_target) > %(count_2)s) AND fuji.zpix.survey = %(survey_3)s AND fuji.zpix.program = %(program_3)s\n"
     ]
    },
    {
     "data": {
      "text/plain": [
       "79"
      ]
     },
     "execution_count": 8,
     "metadata": {},
     "output_type": "execute_result"
    }
   ],
   "source": [
    "multiple_zpix = db.dbSession.query(db.Zpix).filter(db.Zpix.targetid.in_(multiple_target)).filter(db.Zpix.survey == 'sv1').filter(db.Zpix.program == 'dark')\n",
    "print(multiple_zpix)\n",
    "multiple_zpix.count()"
   ]
  },
  {
   "cell_type": "markdown",
   "id": "f8d331f6-2a89-4824-adf1-cccfedfbd473",
   "metadata": {},
   "source": [
    "### Correcting Anomalous Targeting\n",
    "\n",
    "Now that we know exactly which objects are anomalous, we can try to fix their targeting bits. We want to take the bitwise `OR` of the targeting bits for these objects. We can reuse objects returned by the `multiple_target` query above.  There are a lot of targeting bits, so it's easier to generate the full list programmatically. We're doing metaprogramming!\n",
    "\n",
    "```sql\n",
    "SELECT t.targetid, BIT_OR(t.cmx_target) AS cmx_target, BIT_OR(desi_target) AS desi_target, ...\n",
    "    FROM fuji.target AS t WHERE t.targetid IN (multiple_target) AND t.survey = 'sv1' AND t.program = 'dark' GROUP BY t.targetid;\n",
    "```"
   ]
  },
  {
   "cell_type": "code",
   "execution_count": 9,
   "id": "0c13592e-2a52-4456-8120-53eb4dcc8a26",
   "metadata": {},
   "outputs": [
    {
     "name": "stdout",
     "output_type": "stream",
     "text": [
      "SELECT t.targetid, BIT_OR(t.cmx_target) AS cmx_target, BIT_OR(t.desi_target) AS desi_target, BIT_OR(t.bgs_target) AS bgs_target, BIT_OR(t.mws_target) AS mws_target, BIT_OR(t.scnd_target) AS scnd_target, BIT_OR(t.sv1_desi_target) AS sv1_desi_target, BIT_OR(t.sv1_bgs_target) AS sv1_bgs_target, BIT_OR(t.sv1_mws_target) AS sv1_mws_target, BIT_OR(t.sv1_scnd_target) AS sv1_scnd_target, BIT_OR(t.sv2_desi_target) AS sv2_desi_target, BIT_OR(t.sv2_bgs_target) AS sv2_bgs_target, BIT_OR(t.sv2_mws_target) AS sv2_mws_target, BIT_OR(t.sv2_scnd_target) AS sv2_scnd_target, BIT_OR(t.sv3_desi_target) AS sv3_desi_target, BIT_OR(t.sv3_bgs_target) AS sv3_bgs_target, BIT_OR(t.sv3_mws_target) AS sv3_mws_target, BIT_OR(t.sv3_scnd_target) AS sv3_scnd_target FROM fuji.target AS t WHERE t.targetid IN (multiple_target) AND t.survey = 'sv1' AND t.program = 'dark' GROUP BY t.targetid;\n",
      "db.dbSession.query(db.Target.targetid, func.bit_or(db.Target.cmx_target).label('cmx_target'), func.bit_or(db.Target.desi_target).label('desi_target'), func.bit_or(db.Target.bgs_target).label('bgs_target'), func.bit_or(db.Target.mws_target).label('mws_target'), func.bit_or(db.Target.scnd_target).label('scnd_target'), func.bit_or(db.Target.sv1_desi_target).label('sv1_desi_target'), func.bit_or(db.Target.sv1_bgs_target).label('sv1_bgs_target'), func.bit_or(db.Target.sv1_mws_target).label('sv1_mws_target'), func.bit_or(db.Target.sv1_scnd_target).label('sv1_scnd_target'), func.bit_or(db.Target.sv2_desi_target).label('sv2_desi_target'), func.bit_or(db.Target.sv2_bgs_target).label('sv2_bgs_target'), func.bit_or(db.Target.sv2_mws_target).label('sv2_mws_target'), func.bit_or(db.Target.sv2_scnd_target).label('sv2_scnd_target'), func.bit_or(db.Target.sv3_desi_target).label('sv3_desi_target'), func.bit_or(db.Target.sv3_bgs_target).label('sv3_bgs_target'), func.bit_or(db.Target.sv3_mws_target).label('sv3_mws_target'), func.bit_or(db.Target.sv3_scnd_target).label('sv3_scnd_target')).filter(db.Target.targetid.in_(multiple_target)).filter(db.Target.survey == 'sv1').filter(db.Target.program == 'dark').group_by(db.Target.targetid)\n"
     ]
    }
   ],
   "source": [
    "import itertools\n",
    "table = 'zpix'\n",
    "surveys = ('', 'sv1', 'sv2', 'sv3')\n",
    "programs = ('desi', 'bgs', 'mws', 'scnd')\n",
    "masks = ['cmx_target'] + [('_'.join(p) if p[0] else p[1]) + '_target'\n",
    "                          for p in itertools.product(surveys, programs)]\n",
    "inner_columns = ['targetid', 'survey', 'program'] + masks\n",
    "print(\"SELECT t.targetid, \" + \n",
    "      ', '.join([f\"BIT_OR(t.{m}) AS {m}\" for m in masks]) +\n",
    "      f\" FROM {specprod}.target AS t WHERE t.targetid IN (multiple_target) AND t.survey = 'sv1' AND t.program = 'dark' GROUP BY t.targetid;\")\n",
    "print(\"db.dbSession.query(db.Target.targetid, \" +\n",
    "      ', '.join([f\"func.bit_or(db.Target.{m}).label('{m}')\" for m in masks]) +\n",
    "      \").filter(db.Target.targetid.in_(multiple_target)).filter(db.Target.survey == 'sv1').filter(db.Target.program == 'dark').group_by(db.Target.targetid)\")"
   ]
  },
  {
   "cell_type": "code",
   "execution_count": 10,
   "id": "38d1a90f-6401-4a6e-abc1-8148539cadd5",
   "metadata": {},
   "outputs": [],
   "source": [
    "multiple_target_or = db.dbSession.query(db.Target.targetid, func.bit_or(db.Target.cmx_target).label('cmx_target'), func.bit_or(db.Target.desi_target).label('desi_target'), func.bit_or(db.Target.bgs_target).label('bgs_target'), func.bit_or(db.Target.mws_target).label('mws_target'), func.bit_or(db.Target.scnd_target).label('scnd_target'), func.bit_or(db.Target.sv1_desi_target).label('sv1_desi_target'), func.bit_or(db.Target.sv1_bgs_target).label('sv1_bgs_target'), func.bit_or(db.Target.sv1_mws_target).label('sv1_mws_target'), func.bit_or(db.Target.sv1_scnd_target).label('sv1_scnd_target'), func.bit_or(db.Target.sv2_desi_target).label('sv2_desi_target'), func.bit_or(db.Target.sv2_bgs_target).label('sv2_bgs_target'), func.bit_or(db.Target.sv2_mws_target).label('sv2_mws_target'), func.bit_or(db.Target.sv2_scnd_target).label('sv2_scnd_target'), func.bit_or(db.Target.sv3_desi_target).label('sv3_desi_target'), func.bit_or(db.Target.sv3_bgs_target).label('sv3_bgs_target'), func.bit_or(db.Target.sv3_mws_target).label('sv3_mws_target'), func.bit_or(db.Target.sv3_scnd_target).label('sv3_scnd_target')).filter(db.Target.targetid.in_(multiple_target)).filter(db.Target.survey == 'sv1').filter(db.Target.program == 'dark').group_by(db.Target.targetid)"
   ]
  },
  {
   "cell_type": "code",
   "execution_count": 11,
   "id": "b659169c-2306-45ba-b498-80bbad3aa999",
   "metadata": {},
   "outputs": [
    {
     "name": "stdout",
     "output_type": "stream",
     "text": [
      "SELECT fuji.target.targetid AS fuji_target_targetid, bit_or(fuji.target.cmx_target) AS cmx_target, bit_or(fuji.target.desi_target) AS desi_target, bit_or(fuji.target.bgs_target) AS bgs_target, bit_or(fuji.target.mws_target) AS mws_target, bit_or(fuji.target.scnd_target) AS scnd_target, bit_or(fuji.target.sv1_desi_target) AS sv1_desi_target, bit_or(fuji.target.sv1_bgs_target) AS sv1_bgs_target, bit_or(fuji.target.sv1_mws_target) AS sv1_mws_target, bit_or(fuji.target.sv1_scnd_target) AS sv1_scnd_target, bit_or(fuji.target.sv2_desi_target) AS sv2_desi_target, bit_or(fuji.target.sv2_bgs_target) AS sv2_bgs_target, bit_or(fuji.target.sv2_mws_target) AS sv2_mws_target, bit_or(fuji.target.sv2_scnd_target) AS sv2_scnd_target, bit_or(fuji.target.sv3_desi_target) AS sv3_desi_target, bit_or(fuji.target.sv3_bgs_target) AS sv3_bgs_target, bit_or(fuji.target.sv3_mws_target) AS sv3_mws_target, bit_or(fuji.target.sv3_scnd_target) AS sv3_scnd_target \n",
      "FROM fuji.target \n",
      "WHERE fuji.target.targetid IN (SELECT anon_1.targetid \n",
      "FROM (SELECT DISTINCT fuji.target.targetid AS targetid, fuji.target.sv1_desi_target AS sv1_desi_target \n",
      "FROM fuji.target \n",
      "WHERE fuji.target.targetid IN (SELECT fuji.target.targetid \n",
      "FROM fuji.target JOIN fuji.fiberassign ON fuji.target.targetid = fuji.fiberassign.targetid AND fuji.target.tileid = fuji.fiberassign.tileid \n",
      "WHERE fuji.target.survey = %(survey_1)s AND fuji.target.program = %(program_1)s GROUP BY fuji.target.targetid \n",
      "HAVING count(fuji.target.tileid) > %(count_1)s) AND fuji.target.survey = %(survey_2)s AND fuji.target.program = %(program_2)s) AS anon_1 GROUP BY anon_1.targetid \n",
      "HAVING count(anon_1.sv1_desi_target) > %(count_2)s) AND fuji.target.survey = %(survey_3)s AND fuji.target.program = %(program_3)s GROUP BY fuji.target.targetid\n"
     ]
    },
    {
     "data": {
      "text/plain": [
       "79"
      ]
     },
     "execution_count": 11,
     "metadata": {},
     "output_type": "execute_result"
    }
   ],
   "source": [
    "print(multiple_target_or)\n",
    "multiple_target_or.count()"
   ]
  },
  {
   "cell_type": "markdown",
   "id": "13dfc57a-547f-4858-81a6-a147ec0561cd",
   "metadata": {},
   "source": [
    "There are a small number of these, so we can just loop over each one, ensuring that only one row in the `zpix` table is updated at a time."
   ]
  },
  {
   "cell_type": "code",
   "execution_count": null,
   "id": "f7d5afd1-fadf-469d-a887-820df5db593c",
   "metadata": {},
   "outputs": [],
   "source": [
    "from sqlalchemy.exc import ProgrammingError\n",
    "for row in multiple_target_or.all():\n",
    "    zpix_match = db.dbSession.query(db.Zpix).filter(db.Zpix.targetid == row.targetid).filter(db.Zpix.survey == 'sv1').filter(db.Zpix.program == 'dark')\n",
    "    print(zpix_match)\n",
    "    try:\n",
    "        zpix_update = db.dbSession.query(db.Zpix).filter(db.Zpix.targetid == row.targetid).filter(db.Zpix.survey == 'sv1').filter(db.Zpix.program == 'dark').update({db.Zpix.z: row.cmx_target}).compile()\n",
    "    except ProgrammingError as e:\n",
    "        print(e)\n",
    "        db.dbSession.rollback()\n",
    "    # print(zpix_match.count())"
   ]
  },
  {
   "cell_type": "code",
   "execution_count": null,
   "id": "8daf3e84-87f1-4c53-9627-d6d6c85ac382",
   "metadata": {},
   "outputs": [],
   "source": [
    "db.dbSession.rollback()"
   ]
  },
  {
   "cell_type": "code",
   "execution_count": null,
   "id": "617fb9af-c250-4a1e-9765-d7cf4b074178",
   "metadata": {},
   "outputs": [],
   "source": []
  }
 ],
 "metadata": {
  "kernelspec": {
   "display_name": "DESI 23.1",
   "language": "python",
   "name": "desi-23.1"
  },
  "language_info": {
   "codemirror_mode": {
    "name": "ipython",
    "version": 3
   },
   "file_extension": ".py",
   "mimetype": "text/x-python",
   "name": "python",
   "nbconvert_exporter": "python",
   "pygments_lexer": "ipython3",
   "version": "3.10.8"
  }
 },
 "nbformat": 4,
 "nbformat_minor": 5
}
