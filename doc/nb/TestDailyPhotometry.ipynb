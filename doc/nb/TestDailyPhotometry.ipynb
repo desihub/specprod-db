{
 "cells": [
  {
   "cell_type": "markdown",
   "id": "957f8fab-db33-4f3f-9d77-bb764348c758",
   "metadata": {},
   "source": [
    "# Test On-The-Fly Photometry for Daily Reductions"
   ]
  },
  {
   "cell_type": "code",
   "execution_count": null,
   "id": "ecbd3a7d-54e0-4b24-996d-ab7838bc0dfa",
   "metadata": {
    "tags": []
   },
   "outputs": [],
   "source": [
    "import os\n",
    "import numpy as np\n",
    "from astropy.io import fits\n",
    "from astropy.table import Table, Column\n",
    "from desiutil.names import radec_to_desiname\n",
    "from desiutil.log import get_logger\n",
    "from desispec.io.photo import gather_tractorphot, gather_targetphot\n",
    "from desitarget.targets import decode_targetid\n",
    "import specprodDB.load as db\n",
    "specprod = os.environ['SPECPROD']\n",
    "tileid = 3867\n",
    "survey, program = 'main', 'dark'"
   ]
  },
  {
   "cell_type": "markdown",
   "id": "d67f6de3-bff2-4c74-a63f-e86ce315c734",
   "metadata": {},
   "source": [
    "## Database connection"
   ]
  },
  {
   "cell_type": "code",
   "execution_count": null,
   "id": "2d36e8f4-7ab3-4f85-be1a-e95fb3fc4686",
   "metadata": {
    "tags": []
   },
   "outputs": [],
   "source": [
    "db.log = get_logger()\n",
    "postgresql = db.setup_db(schema='iron', hostname='specprod-db.desi.lbl.gov', username='desi')"
   ]
  },
  {
   "cell_type": "code",
   "execution_count": null,
   "id": "2c7e2b25-a876-4621-ad18-fd2abe66ba43",
   "metadata": {
    "tags": []
   },
   "outputs": [],
   "source": [
    "tile = db.dbSession.query(db.Tile).filter(db.Tile.tileid == tileid).one()\n",
    "tile"
   ]
  },
  {
   "cell_type": "code",
   "execution_count": null,
   "id": "b789182b-fd96-4133-b5a7-478e6be89fca",
   "metadata": {
    "tags": []
   },
   "outputs": [],
   "source": [
    "assert tile.survey == survey\n",
    "assert tile.program == program"
   ]
  },
  {
   "cell_type": "code",
   "execution_count": null,
   "id": "bdaa214f-dd9e-4594-b796-6319284077b5",
   "metadata": {
    "tags": []
   },
   "outputs": [],
   "source": [
    "len(tile.targets)"
   ]
  },
  {
   "cell_type": "code",
   "execution_count": null,
   "id": "9ff3a856-c992-4a7e-9fa6-2c293b31705a",
   "metadata": {
    "tags": []
   },
   "outputs": [],
   "source": [
    "def no_sky(catalog):\n",
    "    \"\"\"Identify objects in `catalog` that are not sky targets.\n",
    "    \n",
    "    Parameters\n",
    "    ----------\n",
    "    catalog : :class:`~astropy.table.Table`\n",
    "        Any Table containing a ``TARGETID`` column.\n",
    "    \n",
    "    Returns\n",
    "    -------\n",
    "    :class:`numpy.ndarray`\n",
    "        The indexes of rows that are not sky targets.\n",
    "    \"\"\"\n",
    "    _, _, _, _, sky, _ = decode_targetid(catalog['TARGETID'])\n",
    "    return np.where((sky == 0) & (catalog['TARGETID'] > 0))[0]"
   ]
  },
  {
   "cell_type": "markdown",
   "id": "c985c38f-19de-408b-96d1-2227c054ef1a",
   "metadata": {},
   "source": [
    "## Load a random tile"
   ]
  },
  {
   "cell_type": "code",
   "execution_count": null,
   "id": "74fe4c45-2ae6-4575-aa9b-6fd9e5418228",
   "metadata": {
    "tags": []
   },
   "outputs": [],
   "source": [
    "fiberassign = os.path.join(os.environ['DESI_ROOT'], 'target', 'fiberassign', 'tiles', 'trunk', f'{tileid:06d}'[0:3], f'fiberassign-{tileid:06d}.fits.gz')\n",
    "with fits.open(fiberassign) as hdulist:\n",
    "    hdulist.info()\n",
    "    observed_targets = hdulist['FIBERASSIGN'].data\n",
    "    potential_targets = hdulist['TARGETS'].data\n",
    "\n",
    "no_sky_targets = no_sky(observed_targets)\n",
    "potential_no_sky_targets = no_sky(potential_targets)\n",
    "observed_cat = Table()\n",
    "observed_cat['TARGETID'] = observed_targets['TARGETID'][no_sky_targets]\n",
    "observed_cat['TILEID'] = tileid\n",
    "observed_cat['TARGET_RA'] = observed_targets['TARGET_RA'][no_sky_targets]\n",
    "observed_cat['TARGET_DEC'] = observed_targets['TARGET_DEC'][no_sky_targets]\n",
    "observed_cat['PETAL_LOC'] = observed_targets['PETAL_LOC'][no_sky_targets]\n",
    "observed_cat['SURVEY'] = survey\n",
    "observed_cat['PROGRAM'] = program\n",
    "potential_cat = Table()\n",
    "potential_cat['TARGETID'] = potential_targets['TARGETID'][potential_no_sky_targets]\n",
    "potential_cat['TILEID'] = tileid\n",
    "potential_cat['TARGET_RA'] = potential_targets['RA'][potential_no_sky_targets]\n",
    "potential_cat['TARGET_DEC'] = potential_targets['DEC'][potential_no_sky_targets]\n",
    "# potential_cat['PETAL_LOC'] = potential_targets['PETAL_LOC'][potential_no_sky_targets]\n",
    "potential_cat['SURVEY'] = survey\n",
    "potential_cat['PROGRAM'] = program"
   ]
  },
  {
   "cell_type": "code",
   "execution_count": null,
   "id": "2b35f747-e799-4410-9b5d-f0b2ec4fb3ab",
   "metadata": {
    "tags": []
   },
   "outputs": [],
   "source": [
    "observed_cat"
   ]
  },
  {
   "cell_type": "code",
   "execution_count": null,
   "id": "76053442-14c3-4621-90b9-d3d45154cff9",
   "metadata": {
    "tags": []
   },
   "outputs": [],
   "source": [
    "potential_cat"
   ]
  },
  {
   "cell_type": "markdown",
   "id": "c7d358e4-27d8-4b1b-a9bd-965986e77f79",
   "metadata": {},
   "source": [
    "## Tractor photometry for observed targets"
   ]
  },
  {
   "cell_type": "code",
   "execution_count": null,
   "id": "1ecd922f-d7bb-442d-994a-cc9e12716987",
   "metadata": {
    "tags": []
   },
   "outputs": [],
   "source": [
    "tractorphot = gather_tractorphot(observed_cat, racolumn='TARGET_RA', deccolumn='TARGET_DEC')"
   ]
  },
  {
   "cell_type": "code",
   "execution_count": null,
   "id": "e63099e1-8231-4aa8-a9bc-2fef020deee6",
   "metadata": {
    "tags": []
   },
   "outputs": [],
   "source": [
    "tractorphot"
   ]
  },
  {
   "cell_type": "markdown",
   "id": "349d0211-462a-4c83-975b-7a3e85f45f0a",
   "metadata": {},
   "source": [
    "## Target information for observed targets"
   ]
  },
  {
   "cell_type": "code",
   "execution_count": null,
   "id": "a3f8141d-90f6-470b-8823-e8e7c40df282",
   "metadata": {
    "tags": []
   },
   "outputs": [],
   "source": [
    "targetphot = gather_targetphot(observed_cat, racolumn='TARGET_RA', deccolumn='TARGET_DEC')\n",
    "targetphot['SURVEY'] = observed_cat['SURVEY']\n",
    "targetphot['PROGRAM'] = observed_cat['PROGRAM']\n",
    "targetphot['TILEID'] = observed_cat['TILEID']\n",
    "targetphot['DESINAME'] = radec_to_desiname(targetphot['RA'], targetphot['DEC'])\n",
    "inan = np.logical_or(np.isnan(targetphot['PMRA']), np.isnan(targetphot['PMDEC']))\n",
    "if np.any(inan):\n",
    "    targetphot['PMRA'][inan] = 0.0\n",
    "    targetphot['PMDEC'][inan] = 0.0\n",
    "targetphot"
   ]
  },
  {
   "cell_type": "markdown",
   "id": "8255f10d-0ec0-4b43-b1ff-c2dc7893b736",
   "metadata": {
    "tags": []
   },
   "source": [
    "## Tractor photometry for potential targets"
   ]
  },
  {
   "cell_type": "code",
   "execution_count": null,
   "id": "7f697686-de50-451a-a46f-137b9c8805d4",
   "metadata": {
    "tags": []
   },
   "outputs": [],
   "source": [
    "potential_tractorphot = gather_tractorphot(potential_cat, racolumn='TARGET_RA', deccolumn='TARGET_DEC')"
   ]
  },
  {
   "cell_type": "code",
   "execution_count": null,
   "id": "0ccfe993-0862-4e0d-b2b8-faaa71e22bd0",
   "metadata": {
    "tags": []
   },
   "outputs": [],
   "source": [
    "potential_tractorphot"
   ]
  },
  {
   "cell_type": "markdown",
   "id": "d2f09c29-d83c-4338-b403-92cafe1deafd",
   "metadata": {},
   "source": [
    "## Target information for potential targets"
   ]
  },
  {
   "cell_type": "code",
   "execution_count": null,
   "id": "f815c2ab-4569-487d-8087-a34530e349c3",
   "metadata": {
    "tags": []
   },
   "outputs": [],
   "source": [
    "potential_targetphot = gather_targetphot(potential_cat, racolumn='TARGET_RA', deccolumn='TARGET_DEC')\n",
    "potential_targetphot['SURVEY'] = potential_cat['SURVEY']\n",
    "potential_targetphot['PROGRAM'] = potential_cat['PROGRAM']\n",
    "potential_targetphot['TILEID'] = potential_cat['TILEID']\n",
    "potential_targetphot['DESINAME'] = radec_to_desiname(potential_targetphot['RA'], potential_targetphot['DEC'])\n",
    "inan = np.logical_or(np.isnan(potential_targetphot['PMRA']), np.isnan(potential_targetphot['PMDEC']))\n",
    "if np.any(inan):\n",
    "    potential_targetphot['PMRA'][inan] = 0.0\n",
    "    potential_targetphot['PMDEC'][inan] = 0.0\n",
    "potential_targetphot"
   ]
  },
  {
   "cell_type": "markdown",
   "id": "4cb0b1a1-51ff-4203-8d1c-eeae28809426",
   "metadata": {},
   "source": [
    "## Compare \"gather\" results to the database"
   ]
  },
  {
   "cell_type": "code",
   "execution_count": null,
   "id": "c6d5be9f-bb06-4f76-bcc1-c72349106685",
   "metadata": {
    "tags": []
   },
   "outputs": [],
   "source": [
    "assert len(potential_targetphot) == len(tile.targets)"
   ]
  },
  {
   "cell_type": "code",
   "execution_count": null,
   "id": "467a36ad-6b4a-487e-ab82-90e0d7d19371",
   "metadata": {
    "tags": []
   },
   "outputs": [],
   "source": [
    "for t in tile.targets:\n",
    "    p = t.photometry\n",
    "    i = np.where(potential_targetphot['TARGETID'] == t.targetid)[0]\n",
    "    j = np.where(potential_tractorphot['TARGETID'] == t.targetid)[0]\n",
    "    row = potential_targetphot[i]\n",
    "    phot_row = potential_tractorphot[i]\n",
    "    assert t.tileid == tileid\n",
    "    assert t.survey == survey\n",
    "    assert t.program == program\n",
    "    for col in ('DESI_TARGET', 'BGS_TARGET', 'MWS_TARGET', 'SCND_TARGET'):\n",
    "        assert row[col] == getattr(t, col.lower())\n",
    "    for col in ('BRICKID', 'BRICKNAME', 'TYPE', 'MASKBITS'):\n",
    "        if col == 'TYPE':\n",
    "            assert phot_row[col] == getattr(p, 'morphtype')\n",
    "        else:\n",
    "            assert phot_row[col] == getattr(p, col.lower())"
   ]
  },
  {
   "cell_type": "code",
   "execution_count": null,
   "id": "11364950-13e6-4e4d-a956-66aba8e536b8",
   "metadata": {},
   "outputs": [],
   "source": []
  }
 ],
 "metadata": {
  "kernelspec": {
   "display_name": "DESI custom",
   "language": "python",
   "name": "desi-custom"
  },
  "language_info": {
   "codemirror_mode": {
    "name": "ipython",
    "version": 3
   },
   "file_extension": ".py",
   "mimetype": "text/x-python",
   "name": "python",
   "nbconvert_exporter": "python",
   "pygments_lexer": "ipython3",
   "version": "3.10.14"
  }
 },
 "nbformat": 4,
 "nbformat_minor": 5
}
