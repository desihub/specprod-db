{
 "cells": [
  {
   "cell_type": "markdown",
   "id": "9de1d646-ec64-434b-b59e-f0452dac49e7",
   "metadata": {},
   "source": [
    "# Test Load Daily\n",
    "\n",
    "Start by loading one \"new\" tile.\n",
    "\n",
    "## Imports"
   ]
  },
  {
   "cell_type": "code",
   "execution_count": null,
   "id": "1bd0d356-77e9-4d62-a47f-b2f9ff00e898",
   "metadata": {
    "tags": []
   },
   "outputs": [],
   "source": [
    "import os\n",
    "import numpy as np\n",
    "from astropy.io import fits\n",
    "from astropy.table import Table\n",
    "from sqlalchemy.exc import IntegrityError\n",
    "from desiutil.log import get_logger, DEBUG\n",
    "from desispec.io.meta import findfile\n",
    "import specprodDB.load as db\n",
    "import specprodDB.tile as t"
   ]
  },
  {
   "cell_type": "markdown",
   "id": "1ef90017-8c83-4e3f-8c72-2b0f3e9eff2f",
   "metadata": {},
   "source": [
    "## Initial Values"
   ]
  },
  {
   "cell_type": "code",
   "execution_count": null,
   "id": "2c1f6604-55f5-4f47-be69-ea9689544157",
   "metadata": {
    "tags": []
   },
   "outputs": [],
   "source": [
    "specprod = os.environ['SPECPROD']\n",
    "# tile_id, tile_survey, tile_program = 3867, 'main', 'dark'\n",
    "# tile_id, tile_survey, tile_program = 5053, 'main', 'dark'\n",
    "# tile_id, tile_survey, tile_program = 5052, 'main', 'dark'\n",
    "# tile_id, tile_survey, tile_program = 5074, 'main', 'dark'\n",
    "# tile_id, tile_survey, tile_program = 1685, 'main', 'dark'\n",
    "# tile_id, tile_survey, tile_program = 40069, 'main', 'backup'\n",
    "# tile_id, tile_survey, tile_program = 80950, 'sv1', 'backup'\n",
    "overwrite = True"
   ]
  },
  {
   "cell_type": "markdown",
   "id": "b2bef162-8ff6-4651-bccf-8df444854fd3",
   "metadata": {},
   "source": [
    "## Initialize Database"
   ]
  },
  {
   "cell_type": "code",
   "execution_count": null,
   "id": "e782a524-9168-4dcf-bdbf-01b05193382c",
   "metadata": {
    "tags": []
   },
   "outputs": [],
   "source": [
    "db.log = get_logger(DEBUG)\n",
    "postgresql = db.setup_db(schema=specprod, hostname='db-loadbalancer.bweaver.development.svc.spin.nersc.org', username='desi_admin', overwrite=overwrite)\n",
    "if overwrite:\n",
    "    db.load_versions('computed', 'daily/v0', 'daily', specprod, 'main')"
   ]
  },
  {
   "cell_type": "markdown",
   "id": "782f6383-6c82-4e2e-afa0-0de132879d66",
   "metadata": {},
   "source": [
    "## Read tiles file"
   ]
  },
  {
   "cell_type": "code",
   "execution_count": null,
   "id": "065e77f2-cd38-4bf7-b9c1-319bc7707dd1",
   "metadata": {
    "tags": []
   },
   "outputs": [],
   "source": [
    "# tiles_file = findfile('tiles', readonly=True).replace('.fits', '.csv')\n",
    "tiles_file = os.path.join(os.environ['DESI_ROOT'], 'users', os.environ['USER'], 'tiles-daily-patched-with-jura.csv')\n",
    "tiles_table = Table.read(tiles_file, format='ascii.csv')\n",
    "# tiles_table"
   ]
  },
  {
   "cell_type": "code",
   "execution_count": null,
   "id": "5322bcbd-8fcf-46a1-96be-2de812f7ea08",
   "metadata": {
    "tags": []
   },
   "outputs": [],
   "source": [
    "row_index = np.where((tiles_table['LASTNIGHT'] >= 20201214) & (tiles_table['EFFTIME_SPEC'] > 0) & (~tiles_table['PROGRAM'].mask))[0]\n",
    "tiles_table[row_index]\n",
    "# row_index = np.where((tiles_table['LASTNIGHT'] >= 20201214) & (tiles_table['EFFTIME_SPEC'] > 0))[0]\n",
    "# tiles_table[row_index][tiles_table[row_index]['PROGRAM'].mask]"
   ]
  },
  {
   "cell_type": "code",
   "execution_count": null,
   "id": "95866a59-eee1-43ea-87f7-6fce8a006115",
   "metadata": {
    "tags": []
   },
   "outputs": [],
   "source": [
    "tiles_table[row_index][:20]"
   ]
  },
  {
   "cell_type": "code",
   "execution_count": null,
   "id": "0e3c5449-449d-4474-b570-7db3aa50d87d",
   "metadata": {
    "tags": []
   },
   "outputs": [],
   "source": [
    "load_tiles = db.Tile.convert(tiles_table, row_index=row_index)"
   ]
  },
  {
   "cell_type": "code",
   "execution_count": null,
   "id": "a88e68da-bf90-4077-b640-199ebb9f7fad",
   "metadata": {
    "tags": []
   },
   "outputs": [],
   "source": [
    "load_tiles[:20]"
   ]
  },
  {
   "cell_type": "code",
   "execution_count": null,
   "id": "eea12065-5091-48b8-897e-5c51cb6fb3f5",
   "metadata": {
    "tags": []
   },
   "outputs": [],
   "source": [
    "try:\n",
    "    db.dbSession.add_all(load_tiles)\n",
    "    db.dbSession.commit()\n",
    "except IntegrityError:\n",
    "    print(\"ERROR: Some tiles are already loaded!\")\n",
    "    db.dbSession.rollback()"
   ]
  },
  {
   "cell_type": "markdown",
   "id": "7648c676-f797-430b-91bc-1be217cf6f6e",
   "metadata": {},
   "source": [
    "## Read exposures file\n",
    "\n",
    "The daily exposures file may contain exposures with `EFFTIME_SPEC == 0`. We do not want to load these."
   ]
  },
  {
   "cell_type": "code",
   "execution_count": null,
   "id": "86c45810-11c1-4010-b429-1480f9d34008",
   "metadata": {
    "tags": []
   },
   "outputs": [],
   "source": [
    "# exposures_file = findfile('exposures', readonly=True)\n",
    "exposures_file = os.path.join(os.environ['DESI_ROOT'], 'users', os.environ['USER'], 'exposures-daily-patched-with-jura.fits')\n",
    "exposures_table = Table.read(exposures_file, format='fits', hdu='EXPOSURES')\n",
    "frames_table = Table.read(exposures_file, format='fits', hdu='FRAMES')\n",
    "# exposures_table[exposures_table['TILEID'] == new_tile.tileid]"
   ]
  },
  {
   "cell_type": "code",
   "execution_count": null,
   "id": "a8517a3d-0708-4b77-80b9-cab25554580b",
   "metadata": {
    "tags": []
   },
   "outputs": [],
   "source": [
    "load_exposures = list()\n",
    "for new_tile in load_tiles:\n",
    "    row_index = np.where((exposures_table['TILEID'] == new_tile.tileid) & (exposures_table['EFFTIME_SPEC'] > 0))[0]\n",
    "    if len(row_index) > 0:\n",
    "        # load_exposures += db.Exposure.convert(exposures_table, row_index=row_index)\n",
    "        if (exposures_table[row_index]['MJD'] < 50000).any():\n",
    "            print(\"WARNING: Invalid MJD values detected for tile {0:d}!\".format(new_tile.tileid))\n",
    "            bad_index = np.where((exposures_table['TILEID'] == new_tile.tileid) & (exposures_table['EFFTIME_SPEC'] > 0) & (exposures_table['MJD'] < 50000))[0]\n",
    "            for row in exposures_table[['EXPID', 'NIGHT', 'MJD', 'EFFTIME_SPEC']][bad_index]:\n",
    "                raw_data_file = os.path.join(os.environ['DESI_SPECTRO_DATA'], \"{0:08d}\".format(row['NIGHT']), \"{0:08d}\".format(row['EXPID']), \"desi-{0:08d}.fits.fz\".format(row['EXPID']))\n",
    "                with fits.open(raw_data_file, mode='readonly') as hdulist:\n",
    "                    mjd_obs = hdulist['SPEC'].header['MJD-OBS']\n",
    "                    print(\"WARNING: tile {0:d} exposure {1:d} has MJD-OBS = {2:f} in {3}!\".format(new_tile.tileid, row['EXPID'], mjd_obs, raw_data_file))\n",
    "    else:\n",
    "        print(\"ERROR: No valid exposures found for tile {0:d}, even though EFFTIME_SPEC == {1:f}!\".format(new_tile.tileid, new_tile.efftime_spec))\n",
    "        bad_index = np.where((exposures_table['TILEID'] == new_tile.tileid))[0]\n",
    "        print(exposures_table[['EXPID', 'NIGHT', 'MJD', 'EFFTIME_SPEC']][bad_index])\n",
    "# load_frames = list()\n",
    "# for exposure in load_exposures:\n",
    "#     row_index = np.where(frames_table['EXPID'] == exposure.expid)[0]\n",
    "#     assert len(row_index) > 0\n",
    "#     load_frames += db.Frame.convert(frames_table, row_index=row_index)\n",
    "# load_exposures"
   ]
  },
  {
   "cell_type": "code",
   "execution_count": null,
   "id": "269a600d-2346-4300-b71d-a6aa4053b0d9",
   "metadata": {
    "tags": []
   },
   "outputs": [],
   "source": [
    "# db.dbSession.rollback()\n",
    "db.dbSession.add_all(load_exposures)\n",
    "db.dbSession.commit()"
   ]
  },
  {
   "cell_type": "code",
   "execution_count": null,
   "id": "98306e39-48fd-41bc-9161-cbe1e47c28b6",
   "metadata": {
    "tags": []
   },
   "outputs": [],
   "source": [
    "# db.dbSession.rollback()\n",
    "db.dbSession.add_all(load_frames)\n",
    "db.dbSession.commit()"
   ]
  },
  {
   "cell_type": "markdown",
   "id": "e0640411-da3c-4535-a220-55ebbe2485fc",
   "metadata": {
    "tags": []
   },
   "source": [
    "## Load photometry for the tile\n",
    "\n",
    "When tractor photometry is written out by John Moustakas' VAC code, only objects with `brickname != ''` are written."
   ]
  },
  {
   "cell_type": "code",
   "execution_count": null,
   "id": "6e45a02f-eb7e-415b-bcfb-b655e6c876fc",
   "metadata": {
    "tags": []
   },
   "outputs": [],
   "source": [
    "potential_targets_table = t.potential_targets(load_tiles[1].tileid)\n",
    "# potential_targets_table"
   ]
  },
  {
   "cell_type": "code",
   "execution_count": null,
   "id": "2c2a5859-47b9-41aa-bcd6-7ec02397e2df",
   "metadata": {
    "tags": []
   },
   "outputs": [],
   "source": [
    "potential_cat = t.potential_photometry(load_tiles[1], potential_targets_table)\n",
    "# potential_cat"
   ]
  },
  {
   "cell_type": "code",
   "execution_count": null,
   "id": "ffbae527-c5e1-43b5-b63f-8d34891dc2f8",
   "metadata": {
    "tags": []
   },
   "outputs": [],
   "source": [
    "potential_targetphot = t.targetphot(potential_cat)\n",
    "potential_tractorphot = t.tractorphot(potential_cat)"
   ]
  },
  {
   "cell_type": "code",
   "execution_count": null,
   "id": "f1f7e918-f906-4545-bfb3-d3a9b686111c",
   "metadata": {
    "tags": []
   },
   "outputs": [],
   "source": [
    "load_photometry = t.load_photometry(potential_tractorphot)"
   ]
  },
  {
   "cell_type": "markdown",
   "id": "72dc3c40-1926-4191-b22b-cf99e738c2e7",
   "metadata": {},
   "source": [
    "### Load photometry, such as it is, for objects that are not in the tractor catalog"
   ]
  },
  {
   "cell_type": "code",
   "execution_count": null,
   "id": "10c990d3-b90c-4999-885d-9467f30220a6",
   "metadata": {
    "tags": []
   },
   "outputs": [],
   "source": [
    "load_targetphot = t.load_targetphot(potential_targetphot, load_photometry)"
   ]
  },
  {
   "cell_type": "markdown",
   "id": "4664f287-09ad-4d99-a54a-5e69c8cf707c",
   "metadata": {},
   "source": [
    "### Load the target table"
   ]
  },
  {
   "cell_type": "code",
   "execution_count": null,
   "id": "81e78286-da02-4208-b2e3-ca434d643020",
   "metadata": {
    "tags": []
   },
   "outputs": [],
   "source": [
    "load_target = t.load_target(load_tiles[1], potential_targetphot)"
   ]
  },
  {
   "cell_type": "markdown",
   "id": "84d6804d-c458-4302-950e-d0c1b2a34a8c",
   "metadata": {},
   "source": [
    "## Load tile/cumulative redshifts\n",
    "\n",
    "Need a way to compute \"best\" spectra as new tiles are added. There are a lot of columns that come from other sources here, so need to track these down."
   ]
  },
  {
   "cell_type": "code",
   "execution_count": null,
   "id": "0dc5e0b1-54a2-4975-aa97-6e533cb1d75a",
   "metadata": {},
   "outputs": [],
   "source": [
    "load_ztile = t.load_redshift(load_tiles[0])"
   ]
  },
  {
   "cell_type": "markdown",
   "id": "97fa4c47-072f-47be-bc01-6d42a9d7aa3e",
   "metadata": {},
   "source": [
    "## Load fiberassign and potential"
   ]
  },
  {
   "cell_type": "code",
   "execution_count": null,
   "id": "f9230013-8106-43be-8439-ab11953bdb75",
   "metadata": {},
   "outputs": [],
   "source": [
    "load_fiberassign, load_potential = t.load_fiberassign(load_tiles[0])"
   ]
  },
  {
   "cell_type": "markdown",
   "id": "1c43c01a-a69a-48ad-a82b-da3bf24670ba",
   "metadata": {},
   "source": [
    "## Recompute global values\n",
    "\n",
    "The global values are the primary classification and number of spectra."
   ]
  },
  {
   "cell_type": "code",
   "execution_count": null,
   "id": "8c129caa-b3d7-4b61-8848-2c6ac5c85460",
   "metadata": {},
   "outputs": [],
   "source": [
    "t.update_primary()"
   ]
  },
  {
   "cell_type": "markdown",
   "id": "7397fd17-6ccc-4f06-ba39-d57411287198",
   "metadata": {},
   "source": [
    "## q3c Update\n",
    "\n",
    "`tile`, `exposure`, `photometry`, `fiberassign`"
   ]
  },
  {
   "cell_type": "code",
   "execution_count": null,
   "id": "4283d716-f619-41a8-a6a1-d47e9d4af86e",
   "metadata": {
    "tags": []
   },
   "outputs": [],
   "source": [
    "t.update_q3c()"
   ]
  },
  {
   "cell_type": "code",
   "execution_count": null,
   "id": "b5db94c2-d3f4-41ab-a05a-f24c91f202b6",
   "metadata": {},
   "outputs": [],
   "source": []
  }
 ],
 "metadata": {
  "kernelspec": {
   "display_name": "DESI custom",
   "language": "python",
   "name": "desi-custom"
  },
  "language_info": {
   "codemirror_mode": {
    "name": "ipython",
    "version": 3
   },
   "file_extension": ".py",
   "mimetype": "text/x-python",
   "name": "python",
   "nbconvert_exporter": "python",
   "pygments_lexer": "ipython3",
   "version": "3.10.14"
  }
 },
 "nbformat": 4,
 "nbformat_minor": 5
}
