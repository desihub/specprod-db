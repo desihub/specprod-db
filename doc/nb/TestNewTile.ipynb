{
 "cells": [
  {
   "cell_type": "markdown",
   "id": "9de1d646-ec64-434b-b59e-f0452dac49e7",
   "metadata": {},
   "source": [
    "# Test Load Daily\n",
    "\n",
    "Start by loading one \"new\" tile.\n",
    "\n",
    "## Imports"
   ]
  },
  {
   "cell_type": "code",
   "execution_count": 1,
   "id": "1bd0d356-77e9-4d62-a47f-b2f9ff00e898",
   "metadata": {
    "tags": []
   },
   "outputs": [],
   "source": [
    "import os\n",
    "import numpy as np\n",
    "from astropy.io import fits\n",
    "from astropy.table import Table\n",
    "from sqlalchemy.exc import IntegrityError\n",
    "from desiutil.log import get_logger, DEBUG\n",
    "from desispec.io.meta import findfile\n",
    "import specprodDB.load as db\n",
    "import specprodDB.tile as t"
   ]
  },
  {
   "cell_type": "markdown",
   "id": "1ef90017-8c83-4e3f-8c72-2b0f3e9eff2f",
   "metadata": {},
   "source": [
    "## Initial Values"
   ]
  },
  {
   "cell_type": "code",
   "execution_count": 2,
   "id": "2c1f6604-55f5-4f47-be69-ea9689544157",
   "metadata": {
    "tags": []
   },
   "outputs": [],
   "source": [
    "specprod = os.environ['SPECPROD']\n",
    "# tile_id, tile_survey, tile_program = 3867, 'main', 'dark'\n",
    "# tile_id, tile_survey, tile_program = 5053, 'main', 'dark'\n",
    "# tile_id, tile_survey, tile_program = 5052, 'main', 'dark'\n",
    "# tile_id, tile_survey, tile_program = 5074, 'main', 'dark'\n",
    "# tile_id, tile_survey, tile_program = 1685, 'main', 'dark'\n",
    "# tile_id, tile_survey, tile_program = 40069, 'main', 'backup'\n",
    "# tile_id, tile_survey, tile_program = 80950, 'sv1', 'backup'\n",
    "overwrite = True"
   ]
  },
  {
   "cell_type": "markdown",
   "id": "b2bef162-8ff6-4651-bccf-8df444854fd3",
   "metadata": {},
   "source": [
    "## Initialize Database"
   ]
  },
  {
   "cell_type": "code",
   "execution_count": 3,
   "id": "e782a524-9168-4dcf-bdbf-01b05193382c",
   "metadata": {
    "tags": []
   },
   "outputs": [
    {
     "name": "stdout",
     "output_type": "stream",
     "text": [
      "INFO:load.py:1794:setup_db: Begin creating tables.\n",
      "INFO:load.py:1797:setup_db: Finished creating tables.\n",
      "INFO:load.py:1540:load_versions: Loading version metadata.\n",
      "INFO:load.py:1551:load_versions: Completed loading version metadata.\n"
     ]
    }
   ],
   "source": [
    "db.log = get_logger(DEBUG)\n",
    "postgresql = db.setup_db(schema=specprod, hostname='db-loadbalancer.bweaver.development.svc.spin.nersc.org', username='desi_admin', overwrite=overwrite)\n",
    "if overwrite:\n",
    "    db.load_versions('computed', 'daily/v0', 'daily', specprod, 'main')"
   ]
  },
  {
   "cell_type": "markdown",
   "id": "782f6383-6c82-4e2e-afa0-0de132879d66",
   "metadata": {},
   "source": [
    "## Read tiles file"
   ]
  },
  {
   "cell_type": "code",
   "execution_count": 4,
   "id": "065e77f2-cd38-4bf7-b9c1-319bc7707dd1",
   "metadata": {
    "tags": []
   },
   "outputs": [],
   "source": [
    "# tiles_file = findfile('tiles', readonly=True).replace('.fits', '.csv')\n",
    "tiles_file = os.path.join(os.environ['DESI_ROOT'], 'users', os.environ['USER'], 'tiles-daily-patched-with-jura.csv')\n",
    "tiles_table = Table.read(tiles_file, format='ascii.csv')\n",
    "# tiles_table"
   ]
  },
  {
   "cell_type": "code",
   "execution_count": 5,
   "id": "5322bcbd-8fcf-46a1-96be-2de812f7ea08",
   "metadata": {
    "tags": []
   },
   "outputs": [],
   "source": [
    "row_index = np.where((tiles_table['LASTNIGHT'] >= 20201214) & (tiles_table['EFFTIME_SPEC'] > 0) & (~tiles_table['PROGRAM'].mask))[0]\n",
    "# tiles_table[row_index]\n",
    "# row_index = np.where((tiles_table['LASTNIGHT'] >= 20201214) & (tiles_table['EFFTIME_SPEC'] > 0))[0]\n",
    "# tiles_table[row_index][tiles_table[row_index]['PROGRAM'].mask]"
   ]
  },
  {
   "cell_type": "code",
   "execution_count": 6,
   "id": "0e3c5449-449d-4474-b570-7db3aa50d87d",
   "metadata": {
    "tags": []
   },
   "outputs": [
    {
     "name": "stdout",
     "output_type": "stream",
     "text": [
      "CPU times: user 809 ms, sys: 44.8 ms, total: 854 ms\n",
      "Wall time: 858 ms\n"
     ]
    }
   ],
   "source": [
    "%%time\n",
    "candidate_tiles = db.Tile.convert(tiles_table, row_index=row_index)"
   ]
  },
  {
   "cell_type": "markdown",
   "id": "7648c676-f797-430b-91bc-1be217cf6f6e",
   "metadata": {},
   "source": [
    "## Read exposures file\n",
    "\n",
    "The daily exposures file may contain exposures with `EFFTIME_SPEC == 0`. We do not want to load these. There are also cases where a *tile* has non-zero `EFFTIME_SPEC` but has no *exposures* with non-zero `EFFTIME_SPEC`. At least for now, don't try to load those either."
   ]
  },
  {
   "cell_type": "code",
   "execution_count": 7,
   "id": "86c45810-11c1-4010-b429-1480f9d34008",
   "metadata": {
    "tags": []
   },
   "outputs": [],
   "source": [
    "# exposures_file = findfile('exposures', readonly=True)\n",
    "exposures_file = os.path.join(os.environ['DESI_ROOT'], 'users', os.environ['USER'], 'exposures-daily-patched-with-jura.fits')\n",
    "exposures_table = Table.read(exposures_file, format='fits', hdu='EXPOSURES')\n",
    "frames_table = Table.read(exposures_file, format='fits', hdu='FRAMES')\n",
    "# exposures_table[exposures_table['TILEID'] == new_tile.tileid]"
   ]
  },
  {
   "cell_type": "code",
   "execution_count": 8,
   "id": "a8517a3d-0708-4b77-80b9-cab25554580b",
   "metadata": {
    "tags": []
   },
   "outputs": [
    {
     "name": "stdout",
     "output_type": "stream",
     "text": [
      "ERROR: No valid exposures found for tile 81088, even though EFFTIME_SPEC == 24.800000!\n",
      "EXPID  NIGHT        MJD       EFFTIME_SPEC\n",
      "----- -------- -------------- ------------\n",
      "83416 20210404 59309.16602096          0.0\n",
      "ERROR: No valid exposures found for tile 158, even though EFFTIME_SPEC == 60.500000!\n",
      "EXPID  NIGHT        MJD      EFFTIME_SPEC\n",
      "----- -------- ------------- ------------\n",
      "83543 20210405 59310.3182015          0.0\n",
      "ERROR: No valid exposures found for tile 23, even though EFFTIME_SPEC == 66.700000!\n",
      "EXPID  NIGHT        MJD       EFFTIME_SPEC\n",
      "----- -------- -------------- ------------\n",
      "83524 20210405 59310.14064081          0.0\n",
      "ERROR: No valid exposures found for tile 50, even though EFFTIME_SPEC == 73.800000!\n",
      "EXPID  NIGHT        MJD       EFFTIME_SPEC\n",
      "----- -------- -------------- ------------\n",
      "83525 20210405 59310.15083031          0.0\n",
      "ERROR: No valid exposures found for tile 131, even though EFFTIME_SPEC == 79.300000!\n",
      "EXPID  NIGHT        MJD       EFFTIME_SPEC\n",
      "----- -------- -------------- ------------\n",
      "83732 20210406 59311.32944015          0.0\n",
      "ERROR: No valid exposures found for tile 185, even though EFFTIME_SPEC == 49.500000!\n",
      "EXPID  NIGHT        MJD      EFFTIME_SPEC\n",
      "----- -------- ------------- ------------\n",
      "84356 20210411 59316.2448873          0.0\n",
      "ERROR: No valid exposures found for tile 77, even though EFFTIME_SPEC == 68.300000!\n",
      "EXPID  NIGHT        MJD       EFFTIME_SPEC\n",
      "----- -------- -------------- ------------\n",
      "84348 20210411 59316.17194441          0.0\n",
      "84349 20210411 59316.18569782          0.0\n",
      "84350 20210411 59316.19811878          0.0\n",
      "ERROR: No valid exposures found for tile 428, even though EFFTIME_SPEC == 65.700000!\n",
      "EXPID  NIGHT        MJD       EFFTIME_SPEC\n",
      "----- -------- -------------- ------------\n",
      "84420 20210411 59316.44463657          0.0\n",
      "ERROR: No valid exposures found for tile 51, even though EFFTIME_SPEC == 45.900000!\n",
      "EXPID  NIGHT        MJD       EFFTIME_SPEC\n",
      "----- -------- -------------- ------------\n",
      "84345 20210411            0.0          0.0\n",
      "84346 20210411 59316.15727323          0.0\n",
      "84347 20210411 59316.16613901          0.0\n",
      "ERROR: No valid exposures found for tile 320, even though EFFTIME_SPEC == 59.500000!\n",
      "EXPID  NIGHT        MJD       EFFTIME_SPEC\n",
      "----- -------- -------------- ------------\n",
      "84421 20210411 59316.45441718          0.0\n",
      "ERROR: No valid exposures found for tile 104, even though EFFTIME_SPEC == 70.400000!\n",
      "EXPID  NIGHT        MJD       EFFTIME_SPEC\n",
      "----- -------- -------------- ------------\n",
      "84352 20210411 59316.21152705          0.0\n",
      "ERROR: No valid exposures found for tile 212, even though EFFTIME_SPEC == 72.900000!\n",
      "EXPID  NIGHT        MJD       EFFTIME_SPEC\n",
      "----- -------- -------------- ------------\n",
      "84645 20210413 59318.34202412          0.0\n",
      "ERROR: No valid exposures found for tile 213, even though EFFTIME_SPEC == 63.400000!\n",
      "EXPID  NIGHT        MJD       EFFTIME_SPEC\n",
      "----- -------- -------------- ------------\n",
      "84814 20210414 59319.33031772          0.0\n",
      "ERROR: No valid exposures found for tile 78, even though EFFTIME_SPEC == 94.800000!\n",
      "EXPID  NIGHT        MJD       EFFTIME_SPEC\n",
      "----- -------- -------------- ------------\n",
      "84807 20210414 59319.22705768          0.0\n",
      "ERROR: No valid exposures found for tile 132, even though EFFTIME_SPEC == 56.700000!\n",
      "EXPID  NIGHT        MJD       EFFTIME_SPEC\n",
      "----- -------- -------------- ------------\n",
      "84815 20210414 59319.33635629          0.0\n",
      "ERROR: No valid exposures found for tile 105, even though EFFTIME_SPEC == 52.300000!\n",
      "EXPID  NIGHT        MJD       EFFTIME_SPEC\n",
      "----- -------- -------------- ------------\n",
      "84808 20210414 59319.24150173          0.0\n",
      "84809 20210414 59319.25546499          0.0\n",
      "84810 20210414 59319.26951305          0.0\n",
      "84811 20210414 59319.28364597          0.0\n",
      "84812 20210414 59319.29706923          0.0\n",
      "ERROR: No valid exposures found for tile 186, even though EFFTIME_SPEC == 43.400000!\n",
      "EXPID  NIGHT        MJD       EFFTIME_SPEC\n",
      "----- -------- -------------- ------------\n",
      "84813 20210414 59319.31550189          0.0\n",
      "ERROR: No valid exposures found for tile 106, even though EFFTIME_SPEC == 54.900000!\n",
      "EXPID  NIGHT        MJD       EFFTIME_SPEC\n",
      "----- -------- -------------- ------------\n",
      "84937 20210415 59320.26310861          0.0\n",
      "ERROR: No valid exposures found for tile 347, even though EFFTIME_SPEC == 30.000000!\n",
      "EXPID  NIGHT        MJD       EFFTIME_SPEC\n",
      "----- -------- -------------- ------------\n",
      "84944 20210415 59320.33420188          0.0\n",
      "ERROR: No valid exposures found for tile 214, even though EFFTIME_SPEC == 76.100000!\n",
      "EXPID  NIGHT        MJD       EFFTIME_SPEC\n",
      "----- -------- -------------- ------------\n",
      "84943 20210415 59320.32872053          0.0\n",
      "ERROR: No valid exposures found for tile 187, even though EFFTIME_SPEC == 62.000000!\n",
      "EXPID  NIGHT        MJD       EFFTIME_SPEC\n",
      "----- -------- -------------- ------------\n",
      "84939 20210415 59320.28436905          0.0\n",
      "84940 20210415 59320.29828195          0.0\n",
      "84941 20210415  59320.3123378          0.0\n",
      "84942 20210415 59320.32214213          0.0\n",
      "ERROR: No valid exposures found for tile 52, even though EFFTIME_SPEC == 67.200000!\n",
      "EXPID  NIGHT        MJD       EFFTIME_SPEC\n",
      "----- -------- -------------- ------------\n",
      "84932 20210415 59320.21222464          0.0\n",
      "ERROR: No valid exposures found for tile 24, even though EFFTIME_SPEC == 93.100000!\n",
      "EXPID  NIGHT        MJD       EFFTIME_SPEC\n",
      "----- -------- -------------- ------------\n",
      "84929 20210415 59320.19125319          0.0\n",
      "84930 20210415  59320.2000171          0.0\n",
      "ERROR: No valid exposures found for tile 133, even though EFFTIME_SPEC == 58.500000!\n",
      "EXPID  NIGHT        MJD      EFFTIME_SPEC\n",
      "----- -------- ------------- ------------\n",
      "84936 20210415 59320.2548212          0.0\n",
      "ERROR: No valid exposures found for tile 374, even though EFFTIME_SPEC == 65.400000!\n",
      "EXPID  NIGHT        MJD       EFFTIME_SPEC\n",
      "----- -------- -------------- ------------\n",
      "84418 20210411            0.0          0.0\n",
      "84419 20210411 59316.43786396          0.0\n",
      "85641 20210420 59325.42277999          0.0\n",
      "ERROR: No valid exposures found for tile 401, even though EFFTIME_SPEC == 81.100000!\n",
      "EXPID  NIGHT        MJD       EFFTIME_SPEC\n",
      "----- -------- -------------- ------------\n",
      "86507 20210428 59333.37990237          0.0\n",
      "ERROR: No valid exposures found for tile 321, even though EFFTIME_SPEC == 68.000000!\n",
      "EXPID  NIGHT        MJD       EFFTIME_SPEC\n",
      "----- -------- -------------- ------------\n",
      "86509 20210428 59333.39238268          0.0\n",
      "ERROR: No valid exposures found for tile 107, even though EFFTIME_SPEC == 68.000000!\n",
      "EXPID  NIGHT        MJD      EFFTIME_SPEC\n",
      "----- -------- ------------- ------------\n",
      "86495 20210428 59333.2315314          0.0\n",
      "ERROR: No valid exposures found for tile 215, even though EFFTIME_SPEC == 66.600000!\n",
      "EXPID  NIGHT        MJD       EFFTIME_SPEC\n",
      "----- -------- -------------- ------------\n",
      "86505 20210428 59333.33191879          0.0\n",
      "ERROR: No valid exposures found for tile 79, even though EFFTIME_SPEC == 73.200000!\n",
      "EXPID  NIGHT        MJD       EFFTIME_SPEC\n",
      "----- -------- -------------- ------------\n",
      "85619 20210420            0.0          0.0\n",
      "86494 20210428 59333.22358025          0.0\n",
      "ERROR: No valid exposures found for tile 375, even though EFFTIME_SPEC == 87.500000!\n",
      "EXPID  NIGHT        MJD       EFFTIME_SPEC\n",
      "----- -------- -------------- ------------\n",
      "86508 20210428 59333.38628676          0.0\n",
      "ERROR: No valid exposures found for tile 429, even though EFFTIME_SPEC == 67.100000!\n",
      "EXPID  NIGHT        MJD       EFFTIME_SPEC\n",
      "----- -------- -------------- ------------\n",
      "84829 20210414 59319.49412234          0.0\n",
      "84830 20210414            0.0          0.0\n",
      "86753 20210430 59335.43264326          0.0\n",
      "ERROR: No valid exposures found for tile 53, even though EFFTIME_SPEC == 63.900000!\n",
      "EXPID  NIGHT        MJD       EFFTIME_SPEC\n",
      "----- -------- -------------- ------------\n",
      "86836 20210501 59336.18288916          0.0\n",
      "ERROR: No valid exposures found for tile 596, even though EFFTIME_SPEC == 90.300000!\n",
      "EXPID  NIGHT        MJD       EFFTIME_SPEC\n",
      "----- -------- -------------- ------------\n",
      "90239 20210529 59364.27577426          0.0\n",
      "ERROR: No valid exposures found for tile 506, even though EFFTIME_SPEC == 76.800000!\n",
      "EXPID  NIGHT        MJD       EFFTIME_SPEC\n",
      "----- -------- -------------- ------------\n",
      "90224 20210529 59364.14778649          0.0\n",
      "ERROR: No valid exposures found for tile 402, even though EFFTIME_SPEC == 90.600000!\n",
      "EXPID  NIGHT        MJD      EFFTIME_SPEC\n",
      "----- -------- ------------- ------------\n",
      "90244 20210529 59364.3295858          0.0\n",
      "CPU times: user 31.1 s, sys: 310 ms, total: 31.4 s\n",
      "Wall time: 31.6 s\n"
     ]
    }
   ],
   "source": [
    "%%time\n",
    "load_tiles = list()\n",
    "bad_tiles = list()\n",
    "load_exposures = list()\n",
    "for new_tile in candidate_tiles:\n",
    "    row_index = np.where((exposures_table['TILEID'] == new_tile.tileid) & (exposures_table['EFFTIME_SPEC'] > 0))[0]\n",
    "    if len(row_index) > 0:\n",
    "        load_tiles.append(new_tile)\n",
    "        load_exposures += db.Exposure.convert(exposures_table, row_index=row_index)\n",
    "        # if (exposures_table[row_index]['MJD'] < 50000).any():\n",
    "        #     print(\"WARNING: Invalid MJD values detected for tile {0:d}!\".format(new_tile.tileid))\n",
    "        #     bad_index = np.where((exposures_table['TILEID'] == new_tile.tileid) & (exposures_table['EFFTIME_SPEC'] > 0) & (exposures_table['MJD'] < 50000))[0]\n",
    "        #     for row in exposures_table[['EXPID', 'NIGHT', 'MJD', 'EFFTIME_SPEC']][bad_index]:\n",
    "        #         raw_data_file = os.path.join(os.environ['DESI_SPECTRO_DATA'], \"{0:08d}\".format(row['NIGHT']), \"{0:08d}\".format(row['EXPID']), \"desi-{0:08d}.fits.fz\".format(row['EXPID']))\n",
    "        #         with fits.open(raw_data_file, mode='readonly') as hdulist:\n",
    "        #             mjd_obs = hdulist['SPEC'].header['MJD-OBS']\n",
    "        #             print(\"WARNING: tile {0:d} exposure {1:d} has MJD-OBS = {2:f} in {3}!\".format(new_tile.tileid, row['EXPID'], mjd_obs, raw_data_file))\n",
    "    else:\n",
    "        print(\"ERROR: No valid exposures found for tile {0:d}, even though EFFTIME_SPEC == {1:f}!\".format(new_tile.tileid, new_tile.efftime_spec))\n",
    "        bad_index = np.where((exposures_table['TILEID'] == new_tile.tileid))[0]\n",
    "        print(exposures_table[['EXPID', 'NIGHT', 'MJD', 'EFFTIME_SPEC']][bad_index])\n",
    "        bad_tiles.append(new_tile)\n",
    "# load_exposures"
   ]
  },
  {
   "cell_type": "code",
   "execution_count": 9,
   "id": "38e20e0f-58e1-417d-b0ae-e902ac717888",
   "metadata": {
    "tags": []
   },
   "outputs": [
    {
     "name": "stdout",
     "output_type": "stream",
     "text": [
      "CPU times: user 4min 28s, sys: 2.14 s, total: 4min 30s\n",
      "Wall time: 4min 31s\n"
     ]
    }
   ],
   "source": [
    "%%time\n",
    "load_frames = list()\n",
    "for exposure in load_exposures:\n",
    "    row_index = np.where(frames_table['EXPID'] == exposure.expid)[0]\n",
    "    assert len(row_index) > 0\n",
    "    load_frames += db.Frame.convert(frames_table, row_index=row_index)\n",
    "# load_frames"
   ]
  },
  {
   "cell_type": "code",
   "execution_count": 10,
   "id": "8a509cfa-801c-4933-b550-b69ad75c337a",
   "metadata": {
    "tags": []
   },
   "outputs": [
    {
     "name": "stdout",
     "output_type": "stream",
     "text": [
      "CPU times: user 2.22 s, sys: 52 ms, total: 2.27 s\n",
      "Wall time: 3.28 s\n"
     ]
    }
   ],
   "source": [
    "%%time\n",
    "try:\n",
    "    db.dbSession.add_all(load_tiles)\n",
    "    db.dbSession.commit()\n",
    "except IntegrityError as exc:\n",
    "    print(exc.args[0])\n",
    "    db.dbSession.rollback()"
   ]
  },
  {
   "cell_type": "code",
   "execution_count": 11,
   "id": "269a600d-2346-4300-b71d-a6aa4053b0d9",
   "metadata": {
    "tags": []
   },
   "outputs": [
    {
     "name": "stdout",
     "output_type": "stream",
     "text": [
      "CPU times: user 6.35 s, sys: 80 ms, total: 6.43 s\n",
      "Wall time: 10.3 s\n"
     ]
    }
   ],
   "source": [
    "%%time\n",
    "try:\n",
    "    db.dbSession.add_all(load_exposures)\n",
    "    db.dbSession.commit()\n",
    "except IntegrityError as exc:\n",
    "    print(exc.args[0])\n",
    "    db.dbSession.rollback()"
   ]
  },
  {
   "cell_type": "code",
   "execution_count": 12,
   "id": "98306e39-48fd-41bc-9161-cbe1e47c28b6",
   "metadata": {
    "tags": []
   },
   "outputs": [
    {
     "name": "stdout",
     "output_type": "stream",
     "text": [
      "CPU times: user 1min, sys: 956 ms, total: 1min 1s\n",
      "Wall time: 1min 31s\n"
     ]
    }
   ],
   "source": [
    "%%time\n",
    "try:\n",
    "    db.dbSession.add_all(load_frames)\n",
    "    db.dbSession.commit()\n",
    "except IntegrityError as exc:\n",
    "    print(exc.args[0])\n",
    "    db.dbSession.rollback()"
   ]
  },
  {
   "cell_type": "markdown",
   "id": "e0640411-da3c-4535-a220-55ebbe2485fc",
   "metadata": {
    "tags": []
   },
   "source": [
    "## Load photometry for the tile\n",
    "\n",
    "When tractor photometry is written out by John Moustakas' VAC code, only objects with `brickname != ''` are written."
   ]
  },
  {
   "cell_type": "code",
   "execution_count": 13,
   "id": "f419c90d-1f45-46e4-add8-db81ed260a83",
   "metadata": {},
   "outputs": [],
   "source": [
    "tile_index = 0"
   ]
  },
  {
   "cell_type": "code",
   "execution_count": 24,
   "id": "56864ec5-a6bd-4fa9-97b4-64640d9219fe",
   "metadata": {
    "tags": []
   },
   "outputs": [
    {
     "data": {
      "text/plain": [
       "(Tile(tileid=80615), Tile(tileid=80609))"
      ]
     },
     "execution_count": 24,
     "metadata": {},
     "output_type": "execute_result"
    }
   ],
   "source": [
    "load_tiles[tile_index], load_tiles[tile_index + 1]"
   ]
  },
  {
   "cell_type": "code",
   "execution_count": 14,
   "id": "6e45a02f-eb7e-415b-bcfb-b655e6c876fc",
   "metadata": {
    "tags": []
   },
   "outputs": [
    {
     "name": "stdout",
     "output_type": "stream",
     "text": [
      "CPU times: user 372 ms, sys: 23.9 ms, total: 396 ms\n",
      "Wall time: 663 ms\n"
     ]
    }
   ],
   "source": [
    "%%time\n",
    "potential_targets_table = t.potential_targets(load_tiles[tile_index].tileid)\n",
    "# potential_targets_table"
   ]
  },
  {
   "cell_type": "code",
   "execution_count": 15,
   "id": "2c2a5859-47b9-41aa-bcd6-7ec02397e2df",
   "metadata": {
    "tags": []
   },
   "outputs": [
    {
     "name": "stdout",
     "output_type": "stream",
     "text": [
      "CPU times: user 75.8 ms, sys: 22 µs, total: 75.8 ms\n",
      "Wall time: 109 ms\n"
     ]
    }
   ],
   "source": [
    "%%time\n",
    "potential_cat = t.potential_photometry(load_tiles[tile_index], potential_targets_table)\n",
    "# potential_cat"
   ]
  },
  {
   "cell_type": "code",
   "execution_count": 16,
   "id": "ffbae527-c5e1-43b5-b63f-8d34891dc2f8",
   "metadata": {
    "tags": []
   },
   "outputs": [
    {
     "name": "stdout",
     "output_type": "stream",
     "text": [
      "CPU times: user 2.65 s, sys: 1.58 s, total: 4.23 s\n",
      "Wall time: 5.91 s\n"
     ]
    }
   ],
   "source": [
    "%%time\n",
    "potential_targetphot = t.targetphot(potential_cat)"
   ]
  },
  {
   "cell_type": "code",
   "execution_count": 17,
   "id": "94e10407-edee-4731-ad7c-3de63749dd7f",
   "metadata": {},
   "outputs": [
    {
     "name": "stdout",
     "output_type": "stream",
     "text": [
      "CPU times: user 5min 7s, sys: 8.46 s, total: 5min 16s\n",
      "Wall time: 5min 30s\n"
     ]
    }
   ],
   "source": [
    "%%time\n",
    "potential_tractorphot = t.tractorphot(potential_cat)"
   ]
  },
  {
   "cell_type": "code",
   "execution_count": 18,
   "id": "f1f7e918-f906-4545-bfb3-d3a9b686111c",
   "metadata": {
    "tags": []
   },
   "outputs": [
    {
     "name": "stdout",
     "output_type": "stream",
     "text": [
      "INFO:tile.py:178:load_photometry: Loaded 20343 rows of Photometry data.\n",
      "CPU times: user 10.7 s, sys: 124 ms, total: 10.8 s\n",
      "Wall time: 17.1 s\n"
     ]
    }
   ],
   "source": [
    "%%time\n",
    "load_photometry = t.load_photometry(potential_tractorphot)"
   ]
  },
  {
   "cell_type": "markdown",
   "id": "72dc3c40-1926-4191-b22b-cf99e738c2e7",
   "metadata": {},
   "source": [
    "### Load photometry, such as it is, for objects that are not in the tractor catalog"
   ]
  },
  {
   "cell_type": "code",
   "execution_count": 19,
   "id": "10c990d3-b90c-4999-885d-9467f30220a6",
   "metadata": {
    "tags": []
   },
   "outputs": [
    {
     "name": "stdout",
     "output_type": "stream",
     "text": [
      "INFO:tile.py:234:load_targetphot: Loaded 613 rows of Photometry data (from targeting).\n",
      "CPU times: user 616 ms, sys: 7.9 ms, total: 624 ms\n",
      "Wall time: 820 ms\n"
     ]
    }
   ],
   "source": [
    "%%time\n",
    "load_targetphot = t.load_targetphot(potential_targetphot, load_photometry)"
   ]
  },
  {
   "cell_type": "markdown",
   "id": "4664f287-09ad-4d99-a54a-5e69c8cf707c",
   "metadata": {},
   "source": [
    "### Load the target table"
   ]
  },
  {
   "cell_type": "code",
   "execution_count": 20,
   "id": "81e78286-da02-4208-b2e3-ca434d643020",
   "metadata": {
    "tags": []
   },
   "outputs": [
    {
     "name": "stdout",
     "output_type": "stream",
     "text": [
      "INFO:tile.py:260:load_target: Loaded 20956 rows of Target data.\n",
      "CPU times: user 5.49 s, sys: 24.1 ms, total: 5.51 s\n",
      "Wall time: 7.54 s\n"
     ]
    }
   ],
   "source": [
    "%%time\n",
    "load_target = t.load_target(load_tiles[tile_index], potential_targetphot)"
   ]
  },
  {
   "cell_type": "markdown",
   "id": "84d6804d-c458-4302-950e-d0c1b2a34a8c",
   "metadata": {},
   "source": [
    "## Load tile/cumulative redshifts\n",
    "\n",
    "Need a way to compute \"best\" spectra as new tiles are added. There are a lot of columns that come from other sources here, so need to track these down."
   ]
  },
  {
   "cell_type": "code",
   "execution_count": 21,
   "id": "0dc5e0b1-54a2-4975-aa97-6e533cb1d75a",
   "metadata": {},
   "outputs": [
    {
     "name": "stdout",
     "output_type": "stream",
     "text": [
      "WARNING:tile.py:299:load_redshift: No cumulative redrock files found for tile 80615!\n",
      "CPU times: user 2.49 ms, sys: 3.86 ms, total: 6.35 ms\n",
      "Wall time: 83.4 ms\n"
     ]
    }
   ],
   "source": [
    "%%time\n",
    "load_ztile = t.load_redshift(load_tiles[tile_index])"
   ]
  },
  {
   "cell_type": "markdown",
   "id": "97fa4c47-072f-47be-bc01-6d42a9d7aa3e",
   "metadata": {},
   "source": [
    "## Load fiberassign and potential"
   ]
  },
  {
   "cell_type": "code",
   "execution_count": 22,
   "id": "f9230013-8106-43be-8439-ab11953bdb75",
   "metadata": {},
   "outputs": [
    {
     "name": "stdout",
     "output_type": "stream",
     "text": [
      "INFO:tile.py:343:load_fiberassign: Loaded 4146 rows of Fiberassign data.\n",
      "INFO:tile.py:351:load_fiberassign: Loaded 20956 rows of Potential data.\n",
      "CPU times: user 2.91 s, sys: 40 ms, total: 2.95 s\n",
      "Wall time: 4.05 s\n"
     ]
    }
   ],
   "source": [
    "%%time\n",
    "load_fiberassign, load_potential = t.load_fiberassign(load_tiles[tile_index])"
   ]
  },
  {
   "cell_type": "markdown",
   "id": "1c43c01a-a69a-48ad-a82b-da3bf24670ba",
   "metadata": {},
   "source": [
    "## Recompute global values\n",
    "\n",
    "The global values are the primary classification and number of spectra."
   ]
  },
  {
   "cell_type": "code",
   "execution_count": 23,
   "id": "8c129caa-b3d7-4b61-8848-2c6ac5c85460",
   "metadata": {},
   "outputs": [
    {
     "ename": "PendingRollbackError",
     "evalue": "This Session's transaction has been rolled back due to a previous exception during flush. To begin a new transaction with this Session, first issue Session.rollback(). Original exception was: (psycopg2.errors.NotNullViolation) null value in column \"fiberfac_gfa\" violates not-null constraint\nDETAIL:  Failing row contains (20201222, 69455, 80610, 0, 0, 2020-12-23 12:02:33.591552+00, 59206.50177768, cmx, dark, elg, cmxelg, 900.004028320312, 1.34727168977261, 4000, dark, 0.9, 1.17609, 0.0214956291019917, 0, 0, 0.156659, 0.0387605, 0.103173, 0.166885976066826, 9.49855, 0, 0, 0, 1.25361, 1.34727, 1.3298, 1.909135184888, 0, 0, 0, 0.0691387515196852, 1.425028437377, 0.421895887401468, 0.319807524199896, 0.151348426191788, null, null, null, 1.18246672966859, 20.5068374559146, 21.6948676964909, 20.7336748369694, 19.1617744587365, null, null, null, null).\n\n[SQL: INSERT INTO daily.exposure (night, expid, tileid, tilera, tiledec, date_obs, mjd, survey, program, faprgrm, faflavor, exptime, efftime_spec, goaltime, goaltype, mintfrac, airmass, ebv, seeing_etc, efftime_etc, tsnr2_elg, tsnr2_qso, tsnr2_lrg, tsnr2_l ... 738229 characters truncated ... ime_gfa__627)s, %(efftime_dark_gfa__627)s, %(efftime_bright_gfa__627)s, %(efftime_backup_gfa__627)s)]\n[parameters: {'ebv__0': 0.05477216839790344, 'fiber_fracflux_gfa__0': 0.6093879572762915, 'efftime_spec__0': 716.840956115723, 'survey__0': 'cmx', 'fiberfac_bgs_gfa__0': 0.9697978701302379, 'fiberfac_gfa__0': 1.0061596313996244, 'date_obs__0': datetime.datetime(2020, 12, 17, 1, 35, 37, 77504, tzinfo=<UTC>), 'sky_mag_g_spec__0': 21.82984125382668, 'goaltime__0': 1000.0, 'goaltype__0': 'unknown', 'seeing_gfa__0': 0.9498310820793945, 'tilera__0': 24.027, 'elg_efftime_dark__0': 716.840956115723, 'gpb_efftime_dark__0': 0.0, 'transparency_gfa__0': 0.9860573552204372, 'tiledec__0': 31.39, 'airmass_gfa__0': 1.0643660458221693, 'sky_mag_ab_gfa__0': 20.687300622263788, 'efftime_bright_gfa__0': 641.2192606190129, 'efftime_backup_gfa__0': 705.9319105165287, 'mintfrac__0': 0.9, 'tsnr2_bgs__0': 5526.3623046875, 'program__0': 'other', 'expid__0': 68265, 'lya_efftime_dark__0': 881.0479696260478, 'mjd__0': 59200.06640136, 'tsnr2_qso__0': 21.112829208374023, 'tsnr2_elg__0': 83.35359954833984, 'faflavor__0': 'cmxm33', 'sky_mag_r_spec__0': 21.05370965995666, 'sky_mag_z_spec__0': 19.200085082158704, 'tsnr2_lrg__0': 57.5751953125, 'tileid__0': 80615, 'tsnr2_lya__0': 77.01631164550781, 'efftime_dark_gfa__0': 648.1418017037299, 'faprgrm__0': 'm33', 'efftime_gfa__0': 648.1418017037299, 'tsnr2_gpbbright__0': 0.0, 'tsnr2_gpbbackup__0': 0.0, 'gpb_efftime_backup__0': 0.0, 'bgs_efftime_bright__0': 773.69072265625, 'night__0': 20201216, 'fiber_fracflux_bgs_gfa__0': 0.19807581524996704, 'airmass__0': 1.072093, 'exptime__0': 900.0020141601562, 'fiber_fracflux_elg_gfa__0': 0.4338655191836517, 'seeing_etc__0': 0.0, 'tsnr2_gpbdark__0': 0.0, 'gpb_efftime_bright__0': 0.0, 'lrg_efftime_dark__0': 699.573497680911 ... 32556 parameters truncated ... 'efftime_spec__627': 881.8314102172855, 'survey__627': 'sv1', 'fiberfac_bgs_gfa__627': 1.1219008645274058, 'fiberfac_gfa__627': 1.203024136532684, 'date_obs__627': datetime.datetime(2021, 1, 16, 8, 2, 31, 667136, tzinfo=<UTC>), 'sky_mag_g_spec__627': 21.958881082495996, 'goaltime__627': 1000.0, 'goaltype__627': 'dark', 'seeing_gfa__627': 0.7716763904526707, 'tilera__627': 120.0, 'elg_efftime_dark__627': 881.8314102172855, 'gpb_efftime_dark__627': 0.0, 'transparency_gfa__627': 0.9688503867310785, 'tiledec__627': 34.0, 'airmass_gfa__627': 1.0052397520139693, 'sky_mag_ab_gfa__627': 22.31806687659762, 'efftime_bright_gfa__627': 762.1995935664742, 'efftime_backup_gfa__627': 847.4266225039098, 'mintfrac__627': 0.9, 'tsnr2_bgs__627': 6777.68994140625, 'program__627': 'dark', 'expid__627': 72511, 'lya_efftime_dark__627': 1024.032987862727, 'mjd__627': 59230.33508874, 'tsnr2_qso__627': 25.910263061523438, 'tsnr2_elg__627': 102.53853607177734, 'faflavor__627': 'sv1elgqso', 'sky_mag_r_spec__627': 21.33136785139145, 'sky_mag_z_spec__627': 19.726246214442227, 'tsnr2_lrg__627': 70.26490783691406, 'tileid__627': 80685, 'tsnr2_lya__627': 89.51526641845703, 'efftime_dark_gfa__627': 825.1358589806441, 'faprgrm__627': 'elgqso', 'efftime_gfa__627': 825.1358589806441, 'tsnr2_gpbbright__627': 0.0, 'tsnr2_gpbbackup__627': 0.0, 'gpb_efftime_backup__627': 0.0, 'bgs_efftime_bright__627': 948.8765917968751, 'night__627': 20210115, 'fiber_fracflux_bgs_gfa__627': 0.23162289328675623, 'airmass__627': 1.003325, 'exptime__627': 737.294189453125, 'fiber_fracflux_elg_gfa__627': 0.5170860967073544, 'seeing_etc__627': 0.0, 'tsnr2_gpbdark__627': 0.0, 'gpb_efftime_bright__627': 0.0, 'lrg_efftime_dark__627': 853.7611913063681, 'efftime_etc__627': 0.0, 'fiberfac_elg_gfa__627': 1.1538710145713105}]\n(Background on this error at: https://sqlalche.me/e/20/gkpj) (Background on this error at: https://sqlalche.me/e/20/7s2a)",
     "output_type": "error",
     "traceback": [
      "\u001b[0;31m---------------------------------------------------------------------------\u001b[0m",
      "\u001b[0;31mPendingRollbackError\u001b[0m                      Traceback (most recent call last)",
      "Cell \u001b[0;32mIn[23], line 1\u001b[0m\n\u001b[0;32m----> 1\u001b[0m \u001b[43mt\u001b[49m\u001b[38;5;241;43m.\u001b[39;49m\u001b[43mupdate_primary\u001b[49m\u001b[43m(\u001b[49m\u001b[43m)\u001b[49m\n",
      "File \u001b[0;32m/global/common/software/desi/users/bweaver/perlmutter/desiconda/current/code/specprod-db/my-main/py/specprodDB/tile.py:360\u001b[0m, in \u001b[0;36mupdate_primary\u001b[0;34m()\u001b[0m\n\u001b[1;32m    357\u001b[0m \u001b[38;5;28;01mdef\u001b[39;00m \u001b[38;5;21mupdate_primary\u001b[39m():\n\u001b[1;32m    358\u001b[0m \u001b[38;5;250m    \u001b[39m\u001b[38;5;124;03m\"\"\"Update the primary classification after some number of tiles has been loaded.\u001b[39;00m\n\u001b[1;32m    359\u001b[0m \u001b[38;5;124;03m    \"\"\"\u001b[39;00m\n\u001b[0;32m--> 360\u001b[0m     zall_tilecumulative \u001b[38;5;241m=\u001b[39m \u001b[43mdb\u001b[49m\u001b[38;5;241;43m.\u001b[39;49m\u001b[43mdbSession\u001b[49m\u001b[38;5;241;43m.\u001b[39;49m\u001b[43mquery\u001b[49m\u001b[43m(\u001b[49m\u001b[43mdb\u001b[49m\u001b[38;5;241;43m.\u001b[39;49m\u001b[43mZtile\u001b[49m\u001b[43m)\u001b[49m\u001b[38;5;241;43m.\u001b[39;49m\u001b[43mall\u001b[49m\u001b[43m(\u001b[49m\u001b[43m)\u001b[49m\n\u001b[1;32m    361\u001b[0m     zall_table \u001b[38;5;241m=\u001b[39m Table(\u001b[38;5;28mlist\u001b[39m(\u001b[38;5;28mzip\u001b[39m(\u001b[38;5;241m*\u001b[39m[(z\u001b[38;5;241m.\u001b[39mtargetid, z\u001b[38;5;241m.\u001b[39mzwarn, z\u001b[38;5;241m.\u001b[39mtsnr2_lrg) \u001b[38;5;28;01mfor\u001b[39;00m z \u001b[38;5;129;01min\u001b[39;00m zall_tilecumulative])),\n\u001b[1;32m    362\u001b[0m                        names\u001b[38;5;241m=\u001b[39m(\u001b[38;5;124m'\u001b[39m\u001b[38;5;124mTARGETID\u001b[39m\u001b[38;5;124m'\u001b[39m, \u001b[38;5;124m'\u001b[39m\u001b[38;5;124mZWARN\u001b[39m\u001b[38;5;124m'\u001b[39m, \u001b[38;5;124m'\u001b[39m\u001b[38;5;124mTSNR2_LRG\u001b[39m\u001b[38;5;124m'\u001b[39m))\n\u001b[1;32m    363\u001b[0m     nspec, primary \u001b[38;5;241m=\u001b[39m find_primary_spectra(zall_table)\n",
      "File \u001b[0;32m/global/common/software/desi/perlmutter/desiconda/20240425-2.2.0/conda/lib/python3.10/site-packages/sqlalchemy/orm/query.py:2673\u001b[0m, in \u001b[0;36mQuery.all\u001b[0;34m(self)\u001b[0m\n\u001b[1;32m   2651\u001b[0m \u001b[38;5;28;01mdef\u001b[39;00m \u001b[38;5;21mall\u001b[39m(\u001b[38;5;28mself\u001b[39m) \u001b[38;5;241m-\u001b[39m\u001b[38;5;241m>\u001b[39m List[_T]:\n\u001b[1;32m   2652\u001b[0m \u001b[38;5;250m    \u001b[39m\u001b[38;5;124;03m\"\"\"Return the results represented by this :class:`_query.Query`\u001b[39;00m\n\u001b[1;32m   2653\u001b[0m \u001b[38;5;124;03m    as a list.\u001b[39;00m\n\u001b[1;32m   2654\u001b[0m \n\u001b[0;32m   (...)\u001b[0m\n\u001b[1;32m   2671\u001b[0m \u001b[38;5;124;03m        :meth:`_engine.Result.scalars` - v2 comparable method.\u001b[39;00m\n\u001b[1;32m   2672\u001b[0m \u001b[38;5;124;03m    \"\"\"\u001b[39;00m\n\u001b[0;32m-> 2673\u001b[0m     \u001b[38;5;28;01mreturn\u001b[39;00m \u001b[38;5;28;43mself\u001b[39;49m\u001b[38;5;241;43m.\u001b[39;49m\u001b[43m_iter\u001b[49m\u001b[43m(\u001b[49m\u001b[43m)\u001b[49m\u001b[38;5;241m.\u001b[39mall()\n",
      "File \u001b[0;32m/global/common/software/desi/perlmutter/desiconda/20240425-2.2.0/conda/lib/python3.10/site-packages/sqlalchemy/orm/query.py:2827\u001b[0m, in \u001b[0;36mQuery._iter\u001b[0;34m(self)\u001b[0m\n\u001b[1;32m   2824\u001b[0m params \u001b[38;5;241m=\u001b[39m \u001b[38;5;28mself\u001b[39m\u001b[38;5;241m.\u001b[39m_params\n\u001b[1;32m   2826\u001b[0m statement \u001b[38;5;241m=\u001b[39m \u001b[38;5;28mself\u001b[39m\u001b[38;5;241m.\u001b[39m_statement_20()\n\u001b[0;32m-> 2827\u001b[0m result: Union[ScalarResult[_T], Result[_T]] \u001b[38;5;241m=\u001b[39m \u001b[38;5;28;43mself\u001b[39;49m\u001b[38;5;241;43m.\u001b[39;49m\u001b[43msession\u001b[49m\u001b[38;5;241;43m.\u001b[39;49m\u001b[43mexecute\u001b[49m\u001b[43m(\u001b[49m\n\u001b[1;32m   2828\u001b[0m \u001b[43m    \u001b[49m\u001b[43mstatement\u001b[49m\u001b[43m,\u001b[49m\n\u001b[1;32m   2829\u001b[0m \u001b[43m    \u001b[49m\u001b[43mparams\u001b[49m\u001b[43m,\u001b[49m\n\u001b[1;32m   2830\u001b[0m \u001b[43m    \u001b[49m\u001b[43mexecution_options\u001b[49m\u001b[38;5;241;43m=\u001b[39;49m\u001b[43m{\u001b[49m\u001b[38;5;124;43m\"\u001b[39;49m\u001b[38;5;124;43m_sa_orm_load_options\u001b[39;49m\u001b[38;5;124;43m\"\u001b[39;49m\u001b[43m:\u001b[49m\u001b[43m \u001b[49m\u001b[38;5;28;43mself\u001b[39;49m\u001b[38;5;241;43m.\u001b[39;49m\u001b[43mload_options\u001b[49m\u001b[43m}\u001b[49m\u001b[43m,\u001b[49m\n\u001b[1;32m   2831\u001b[0m \u001b[43m\u001b[49m\u001b[43m)\u001b[49m\n\u001b[1;32m   2833\u001b[0m \u001b[38;5;66;03m# legacy: automatically set scalars, unique\u001b[39;00m\n\u001b[1;32m   2834\u001b[0m \u001b[38;5;28;01mif\u001b[39;00m result\u001b[38;5;241m.\u001b[39m_attributes\u001b[38;5;241m.\u001b[39mget(\u001b[38;5;124m\"\u001b[39m\u001b[38;5;124mis_single_entity\u001b[39m\u001b[38;5;124m\"\u001b[39m, \u001b[38;5;28;01mFalse\u001b[39;00m):\n",
      "File \u001b[0;32m/global/common/software/desi/perlmutter/desiconda/20240425-2.2.0/conda/lib/python3.10/site-packages/sqlalchemy/orm/session.py:2306\u001b[0m, in \u001b[0;36mSession.execute\u001b[0;34m(self, statement, params, execution_options, bind_arguments, _parent_execute_state, _add_event)\u001b[0m\n\u001b[1;32m   2245\u001b[0m \u001b[38;5;28;01mdef\u001b[39;00m \u001b[38;5;21mexecute\u001b[39m(\n\u001b[1;32m   2246\u001b[0m     \u001b[38;5;28mself\u001b[39m,\n\u001b[1;32m   2247\u001b[0m     statement: Executable,\n\u001b[0;32m   (...)\u001b[0m\n\u001b[1;32m   2253\u001b[0m     _add_event: Optional[Any] \u001b[38;5;241m=\u001b[39m \u001b[38;5;28;01mNone\u001b[39;00m,\n\u001b[1;32m   2254\u001b[0m ) \u001b[38;5;241m-\u001b[39m\u001b[38;5;241m>\u001b[39m Result[Any]:\n\u001b[1;32m   2255\u001b[0m \u001b[38;5;250m    \u001b[39m\u001b[38;5;124mr\u001b[39m\u001b[38;5;124;03m\"\"\"Execute a SQL expression construct.\u001b[39;00m\n\u001b[1;32m   2256\u001b[0m \n\u001b[1;32m   2257\u001b[0m \u001b[38;5;124;03m    Returns a :class:`_engine.Result` object representing\u001b[39;00m\n\u001b[0;32m   (...)\u001b[0m\n\u001b[1;32m   2304\u001b[0m \n\u001b[1;32m   2305\u001b[0m \u001b[38;5;124;03m    \"\"\"\u001b[39;00m\n\u001b[0;32m-> 2306\u001b[0m     \u001b[38;5;28;01mreturn\u001b[39;00m \u001b[38;5;28;43mself\u001b[39;49m\u001b[38;5;241;43m.\u001b[39;49m\u001b[43m_execute_internal\u001b[49m\u001b[43m(\u001b[49m\n\u001b[1;32m   2307\u001b[0m \u001b[43m        \u001b[49m\u001b[43mstatement\u001b[49m\u001b[43m,\u001b[49m\n\u001b[1;32m   2308\u001b[0m \u001b[43m        \u001b[49m\u001b[43mparams\u001b[49m\u001b[43m,\u001b[49m\n\u001b[1;32m   2309\u001b[0m \u001b[43m        \u001b[49m\u001b[43mexecution_options\u001b[49m\u001b[38;5;241;43m=\u001b[39;49m\u001b[43mexecution_options\u001b[49m\u001b[43m,\u001b[49m\n\u001b[1;32m   2310\u001b[0m \u001b[43m        \u001b[49m\u001b[43mbind_arguments\u001b[49m\u001b[38;5;241;43m=\u001b[39;49m\u001b[43mbind_arguments\u001b[49m\u001b[43m,\u001b[49m\n\u001b[1;32m   2311\u001b[0m \u001b[43m        \u001b[49m\u001b[43m_parent_execute_state\u001b[49m\u001b[38;5;241;43m=\u001b[39;49m\u001b[43m_parent_execute_state\u001b[49m\u001b[43m,\u001b[49m\n\u001b[1;32m   2312\u001b[0m \u001b[43m        \u001b[49m\u001b[43m_add_event\u001b[49m\u001b[38;5;241;43m=\u001b[39;49m\u001b[43m_add_event\u001b[49m\u001b[43m,\u001b[49m\n\u001b[1;32m   2313\u001b[0m \u001b[43m    \u001b[49m\u001b[43m)\u001b[49m\n",
      "File \u001b[0;32m/global/common/software/desi/perlmutter/desiconda/20240425-2.2.0/conda/lib/python3.10/site-packages/sqlalchemy/orm/session.py:2181\u001b[0m, in \u001b[0;36mSession._execute_internal\u001b[0;34m(self, statement, params, execution_options, bind_arguments, _parent_execute_state, _add_event, _scalar_result)\u001b[0m\n\u001b[1;32m   2167\u001b[0m     (\n\u001b[1;32m   2168\u001b[0m         statement,\n\u001b[1;32m   2169\u001b[0m         execution_options,\n\u001b[0;32m   (...)\u001b[0m\n\u001b[1;32m   2176\u001b[0m         \u001b[38;5;28;01mFalse\u001b[39;00m,\n\u001b[1;32m   2177\u001b[0m     )\n\u001b[1;32m   2179\u001b[0m bind \u001b[38;5;241m=\u001b[39m \u001b[38;5;28mself\u001b[39m\u001b[38;5;241m.\u001b[39mget_bind(\u001b[38;5;241m*\u001b[39m\u001b[38;5;241m*\u001b[39mbind_arguments)\n\u001b[0;32m-> 2181\u001b[0m conn \u001b[38;5;241m=\u001b[39m \u001b[38;5;28;43mself\u001b[39;49m\u001b[38;5;241;43m.\u001b[39;49m\u001b[43m_connection_for_bind\u001b[49m\u001b[43m(\u001b[49m\u001b[43mbind\u001b[49m\u001b[43m)\u001b[49m\n\u001b[1;32m   2183\u001b[0m \u001b[38;5;28;01mif\u001b[39;00m _scalar_result \u001b[38;5;129;01mand\u001b[39;00m \u001b[38;5;129;01mnot\u001b[39;00m compile_state_cls:\n\u001b[1;32m   2184\u001b[0m     \u001b[38;5;28;01mif\u001b[39;00m TYPE_CHECKING:\n",
      "File \u001b[0;32m/global/common/software/desi/perlmutter/desiconda/20240425-2.2.0/conda/lib/python3.10/site-packages/sqlalchemy/orm/session.py:2050\u001b[0m, in \u001b[0;36mSession._connection_for_bind\u001b[0;34m(self, engine, execution_options, **kw)\u001b[0m\n\u001b[1;32m   2048\u001b[0m \u001b[38;5;28;01mif\u001b[39;00m trans \u001b[38;5;129;01mis\u001b[39;00m \u001b[38;5;28;01mNone\u001b[39;00m:\n\u001b[1;32m   2049\u001b[0m     trans \u001b[38;5;241m=\u001b[39m \u001b[38;5;28mself\u001b[39m\u001b[38;5;241m.\u001b[39m_autobegin_t()\n\u001b[0;32m-> 2050\u001b[0m \u001b[38;5;28;01mreturn\u001b[39;00m \u001b[43mtrans\u001b[49m\u001b[38;5;241;43m.\u001b[39;49m\u001b[43m_connection_for_bind\u001b[49m\u001b[43m(\u001b[49m\u001b[43mengine\u001b[49m\u001b[43m,\u001b[49m\u001b[43m \u001b[49m\u001b[43mexecution_options\u001b[49m\u001b[43m)\u001b[49m\n",
      "File \u001b[0;32m<string>:2\u001b[0m, in \u001b[0;36m_connection_for_bind\u001b[0;34m(self, bind, execution_options)\u001b[0m\n",
      "File \u001b[0;32m/global/common/software/desi/perlmutter/desiconda/20240425-2.2.0/conda/lib/python3.10/site-packages/sqlalchemy/orm/state_changes.py:103\u001b[0m, in \u001b[0;36m_StateChange.declare_states.<locals>._go\u001b[0;34m(fn, self, *arg, **kw)\u001b[0m\n\u001b[1;32m     97\u001b[0m current_state \u001b[38;5;241m=\u001b[39m \u001b[38;5;28mself\u001b[39m\u001b[38;5;241m.\u001b[39m_state\n\u001b[1;32m     99\u001b[0m \u001b[38;5;28;01mif\u001b[39;00m (\n\u001b[1;32m    100\u001b[0m     has_prerequisite_states\n\u001b[1;32m    101\u001b[0m     \u001b[38;5;129;01mand\u001b[39;00m current_state \u001b[38;5;129;01mnot\u001b[39;00m \u001b[38;5;129;01min\u001b[39;00m prerequisite_state_collection\n\u001b[1;32m    102\u001b[0m ):\n\u001b[0;32m--> 103\u001b[0m     \u001b[38;5;28;43mself\u001b[39;49m\u001b[38;5;241;43m.\u001b[39;49m\u001b[43m_raise_for_prerequisite_state\u001b[49m\u001b[43m(\u001b[49m\u001b[43mfn\u001b[49m\u001b[38;5;241;43m.\u001b[39;49m\u001b[38;5;18;43m__name__\u001b[39;49m\u001b[43m,\u001b[49m\u001b[43m \u001b[49m\u001b[43mcurrent_state\u001b[49m\u001b[43m)\u001b[49m\n\u001b[1;32m    105\u001b[0m next_state \u001b[38;5;241m=\u001b[39m \u001b[38;5;28mself\u001b[39m\u001b[38;5;241m.\u001b[39m_next_state\n\u001b[1;32m    106\u001b[0m existing_fn \u001b[38;5;241m=\u001b[39m \u001b[38;5;28mself\u001b[39m\u001b[38;5;241m.\u001b[39m_current_fn\n",
      "File \u001b[0;32m/global/common/software/desi/perlmutter/desiconda/20240425-2.2.0/conda/lib/python3.10/site-packages/sqlalchemy/orm/session.py:928\u001b[0m, in \u001b[0;36mSessionTransaction._raise_for_prerequisite_state\u001b[0;34m(self, operation_name, state)\u001b[0m\n\u001b[1;32m    926\u001b[0m \u001b[38;5;28;01mif\u001b[39;00m state \u001b[38;5;129;01mis\u001b[39;00m SessionTransactionState\u001b[38;5;241m.\u001b[39mDEACTIVE:\n\u001b[1;32m    927\u001b[0m     \u001b[38;5;28;01mif\u001b[39;00m \u001b[38;5;28mself\u001b[39m\u001b[38;5;241m.\u001b[39m_rollback_exception:\n\u001b[0;32m--> 928\u001b[0m         \u001b[38;5;28;01mraise\u001b[39;00m sa_exc\u001b[38;5;241m.\u001b[39mPendingRollbackError(\n\u001b[1;32m    929\u001b[0m             \u001b[38;5;124m\"\u001b[39m\u001b[38;5;124mThis Session\u001b[39m\u001b[38;5;124m'\u001b[39m\u001b[38;5;124ms transaction has been rolled back \u001b[39m\u001b[38;5;124m\"\u001b[39m\n\u001b[1;32m    930\u001b[0m             \u001b[38;5;124m\"\u001b[39m\u001b[38;5;124mdue to a previous exception during flush.\u001b[39m\u001b[38;5;124m\"\u001b[39m\n\u001b[1;32m    931\u001b[0m             \u001b[38;5;124m\"\u001b[39m\u001b[38;5;124m To begin a new transaction with this Session, \u001b[39m\u001b[38;5;124m\"\u001b[39m\n\u001b[1;32m    932\u001b[0m             \u001b[38;5;124m\"\u001b[39m\u001b[38;5;124mfirst issue Session.rollback().\u001b[39m\u001b[38;5;124m\"\u001b[39m\n\u001b[1;32m    933\u001b[0m             \u001b[38;5;124mf\u001b[39m\u001b[38;5;124m\"\u001b[39m\u001b[38;5;124m Original exception was: \u001b[39m\u001b[38;5;132;01m{\u001b[39;00m\u001b[38;5;28mself\u001b[39m\u001b[38;5;241m.\u001b[39m_rollback_exception\u001b[38;5;132;01m}\u001b[39;00m\u001b[38;5;124m\"\u001b[39m,\n\u001b[1;32m    934\u001b[0m             code\u001b[38;5;241m=\u001b[39m\u001b[38;5;124m\"\u001b[39m\u001b[38;5;124m7s2a\u001b[39m\u001b[38;5;124m\"\u001b[39m,\n\u001b[1;32m    935\u001b[0m         )\n\u001b[1;32m    936\u001b[0m     \u001b[38;5;28;01melse\u001b[39;00m:\n\u001b[1;32m    937\u001b[0m         \u001b[38;5;28;01mraise\u001b[39;00m sa_exc\u001b[38;5;241m.\u001b[39mInvalidRequestError(\n\u001b[1;32m    938\u001b[0m             \u001b[38;5;124m\"\u001b[39m\u001b[38;5;124mThis session is in \u001b[39m\u001b[38;5;124m'\u001b[39m\u001b[38;5;124minactive\u001b[39m\u001b[38;5;124m'\u001b[39m\u001b[38;5;124m state, due to the \u001b[39m\u001b[38;5;124m\"\u001b[39m\n\u001b[1;32m    939\u001b[0m             \u001b[38;5;124m\"\u001b[39m\u001b[38;5;124mSQL transaction being rolled back; no further SQL \u001b[39m\u001b[38;5;124m\"\u001b[39m\n\u001b[1;32m    940\u001b[0m             \u001b[38;5;124m\"\u001b[39m\u001b[38;5;124mcan be emitted within this transaction.\u001b[39m\u001b[38;5;124m\"\u001b[39m\n\u001b[1;32m    941\u001b[0m         )\n",
      "\u001b[0;31mPendingRollbackError\u001b[0m: This Session's transaction has been rolled back due to a previous exception during flush. To begin a new transaction with this Session, first issue Session.rollback(). Original exception was: (psycopg2.errors.NotNullViolation) null value in column \"fiberfac_gfa\" violates not-null constraint\nDETAIL:  Failing row contains (20201222, 69455, 80610, 0, 0, 2020-12-23 12:02:33.591552+00, 59206.50177768, cmx, dark, elg, cmxelg, 900.004028320312, 1.34727168977261, 4000, dark, 0.9, 1.17609, 0.0214956291019917, 0, 0, 0.156659, 0.0387605, 0.103173, 0.166885976066826, 9.49855, 0, 0, 0, 1.25361, 1.34727, 1.3298, 1.909135184888, 0, 0, 0, 0.0691387515196852, 1.425028437377, 0.421895887401468, 0.319807524199896, 0.151348426191788, null, null, null, 1.18246672966859, 20.5068374559146, 21.6948676964909, 20.7336748369694, 19.1617744587365, null, null, null, null).\n\n[SQL: INSERT INTO daily.exposure (night, expid, tileid, tilera, tiledec, date_obs, mjd, survey, program, faprgrm, faflavor, exptime, efftime_spec, goaltime, goaltype, mintfrac, airmass, ebv, seeing_etc, efftime_etc, tsnr2_elg, tsnr2_qso, tsnr2_lrg, tsnr2_l ... 738229 characters truncated ... ime_gfa__627)s, %(efftime_dark_gfa__627)s, %(efftime_bright_gfa__627)s, %(efftime_backup_gfa__627)s)]\n[parameters: {'ebv__0': 0.05477216839790344, 'fiber_fracflux_gfa__0': 0.6093879572762915, 'efftime_spec__0': 716.840956115723, 'survey__0': 'cmx', 'fiberfac_bgs_gfa__0': 0.9697978701302379, 'fiberfac_gfa__0': 1.0061596313996244, 'date_obs__0': datetime.datetime(2020, 12, 17, 1, 35, 37, 77504, tzinfo=<UTC>), 'sky_mag_g_spec__0': 21.82984125382668, 'goaltime__0': 1000.0, 'goaltype__0': 'unknown', 'seeing_gfa__0': 0.9498310820793945, 'tilera__0': 24.027, 'elg_efftime_dark__0': 716.840956115723, 'gpb_efftime_dark__0': 0.0, 'transparency_gfa__0': 0.9860573552204372, 'tiledec__0': 31.39, 'airmass_gfa__0': 1.0643660458221693, 'sky_mag_ab_gfa__0': 20.687300622263788, 'efftime_bright_gfa__0': 641.2192606190129, 'efftime_backup_gfa__0': 705.9319105165287, 'mintfrac__0': 0.9, 'tsnr2_bgs__0': 5526.3623046875, 'program__0': 'other', 'expid__0': 68265, 'lya_efftime_dark__0': 881.0479696260478, 'mjd__0': 59200.06640136, 'tsnr2_qso__0': 21.112829208374023, 'tsnr2_elg__0': 83.35359954833984, 'faflavor__0': 'cmxm33', 'sky_mag_r_spec__0': 21.05370965995666, 'sky_mag_z_spec__0': 19.200085082158704, 'tsnr2_lrg__0': 57.5751953125, 'tileid__0': 80615, 'tsnr2_lya__0': 77.01631164550781, 'efftime_dark_gfa__0': 648.1418017037299, 'faprgrm__0': 'm33', 'efftime_gfa__0': 648.1418017037299, 'tsnr2_gpbbright__0': 0.0, 'tsnr2_gpbbackup__0': 0.0, 'gpb_efftime_backup__0': 0.0, 'bgs_efftime_bright__0': 773.69072265625, 'night__0': 20201216, 'fiber_fracflux_bgs_gfa__0': 0.19807581524996704, 'airmass__0': 1.072093, 'exptime__0': 900.0020141601562, 'fiber_fracflux_elg_gfa__0': 0.4338655191836517, 'seeing_etc__0': 0.0, 'tsnr2_gpbdark__0': 0.0, 'gpb_efftime_bright__0': 0.0, 'lrg_efftime_dark__0': 699.573497680911 ... 32556 parameters truncated ... 'efftime_spec__627': 881.8314102172855, 'survey__627': 'sv1', 'fiberfac_bgs_gfa__627': 1.1219008645274058, 'fiberfac_gfa__627': 1.203024136532684, 'date_obs__627': datetime.datetime(2021, 1, 16, 8, 2, 31, 667136, tzinfo=<UTC>), 'sky_mag_g_spec__627': 21.958881082495996, 'goaltime__627': 1000.0, 'goaltype__627': 'dark', 'seeing_gfa__627': 0.7716763904526707, 'tilera__627': 120.0, 'elg_efftime_dark__627': 881.8314102172855, 'gpb_efftime_dark__627': 0.0, 'transparency_gfa__627': 0.9688503867310785, 'tiledec__627': 34.0, 'airmass_gfa__627': 1.0052397520139693, 'sky_mag_ab_gfa__627': 22.31806687659762, 'efftime_bright_gfa__627': 762.1995935664742, 'efftime_backup_gfa__627': 847.4266225039098, 'mintfrac__627': 0.9, 'tsnr2_bgs__627': 6777.68994140625, 'program__627': 'dark', 'expid__627': 72511, 'lya_efftime_dark__627': 1024.032987862727, 'mjd__627': 59230.33508874, 'tsnr2_qso__627': 25.910263061523438, 'tsnr2_elg__627': 102.53853607177734, 'faflavor__627': 'sv1elgqso', 'sky_mag_r_spec__627': 21.33136785139145, 'sky_mag_z_spec__627': 19.726246214442227, 'tsnr2_lrg__627': 70.26490783691406, 'tileid__627': 80685, 'tsnr2_lya__627': 89.51526641845703, 'efftime_dark_gfa__627': 825.1358589806441, 'faprgrm__627': 'elgqso', 'efftime_gfa__627': 825.1358589806441, 'tsnr2_gpbbright__627': 0.0, 'tsnr2_gpbbackup__627': 0.0, 'gpb_efftime_backup__627': 0.0, 'bgs_efftime_bright__627': 948.8765917968751, 'night__627': 20210115, 'fiber_fracflux_bgs_gfa__627': 0.23162289328675623, 'airmass__627': 1.003325, 'exptime__627': 737.294189453125, 'fiber_fracflux_elg_gfa__627': 0.5170860967073544, 'seeing_etc__627': 0.0, 'tsnr2_gpbdark__627': 0.0, 'gpb_efftime_bright__627': 0.0, 'lrg_efftime_dark__627': 853.7611913063681, 'efftime_etc__627': 0.0, 'fiberfac_elg_gfa__627': 1.1538710145713105}]\n(Background on this error at: https://sqlalche.me/e/20/gkpj) (Background on this error at: https://sqlalche.me/e/20/7s2a)"
     ]
    }
   ],
   "source": [
    "t.update_primary()"
   ]
  },
  {
   "cell_type": "markdown",
   "id": "7397fd17-6ccc-4f06-ba39-d57411287198",
   "metadata": {},
   "source": [
    "## q3c Update\n",
    "\n",
    "`tile`, `exposure`, `photometry`, `fiberassign`"
   ]
  },
  {
   "cell_type": "code",
   "execution_count": null,
   "id": "4283d716-f619-41a8-a6a1-d47e9d4af86e",
   "metadata": {
    "tags": []
   },
   "outputs": [],
   "source": [
    "t.update_q3c()"
   ]
  },
  {
   "cell_type": "code",
   "execution_count": null,
   "id": "b5db94c2-d3f4-41ab-a05a-f24c91f202b6",
   "metadata": {},
   "outputs": [],
   "source": []
  }
 ],
 "metadata": {
  "kernelspec": {
   "display_name": "DESI custom",
   "language": "python",
   "name": "desi-custom"
  },
  "language_info": {
   "codemirror_mode": {
    "name": "ipython",
    "version": 3
   },
   "file_extension": ".py",
   "mimetype": "text/x-python",
   "name": "python",
   "nbconvert_exporter": "python",
   "pygments_lexer": "ipython3",
   "version": "3.10.14"
  }
 },
 "nbformat": 4,
 "nbformat_minor": 5
}
