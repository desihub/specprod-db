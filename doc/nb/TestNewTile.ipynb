{
 "cells": [
  {
   "cell_type": "markdown",
   "id": "9de1d646-ec64-434b-b59e-f0452dac49e7",
   "metadata": {},
   "source": [
    "# Test Load Daily\n",
    "\n",
    "Start by loading one \"new\" tile.\n",
    "\n",
    "## Imports"
   ]
  },
  {
   "cell_type": "code",
   "execution_count": 1,
   "id": "1bd0d356-77e9-4d62-a47f-b2f9ff00e898",
   "metadata": {
    "tags": []
   },
   "outputs": [],
   "source": [
    "import os\n",
    "import numpy as np\n",
    "from astropy import __version__ as astropy_version\n",
    "from astropy.table import Table, join\n",
    "from sqlalchemy import __version__ as sqlalchemy_version\n",
    "from sqlalchemy.exc import IntegrityError\n",
    "from desiutil import __version__ as desiutil_version\n",
    "from desiutil.names import radec_to_desiname\n",
    "from desiutil.log import get_logger, DEBUG\n",
    "from desispec.io.photo import gather_tractorphot, gather_targetphot\n",
    "from desispec.io.meta import findfile\n",
    "from desispec.scripts.zcatalog import read_redrock\n",
    "from desispec.zcatalog import find_primary_spectra\n",
    "from specprodDB import __version__ as specprodDB_version\n",
    "import specprodDB.load as db\n",
    "from specprodDB.util import no_sky\n",
    "# from specprodDB.util import spgrpid, surveyid, no_sky"
   ]
  },
  {
   "cell_type": "markdown",
   "id": "1ef90017-8c83-4e3f-8c72-2b0f3e9eff2f",
   "metadata": {},
   "source": [
    "## Initial Values"
   ]
  },
  {
   "cell_type": "code",
   "execution_count": 2,
   "id": "2c1f6604-55f5-4f47-be69-ea9689544157",
   "metadata": {
    "tags": []
   },
   "outputs": [],
   "source": [
    "specprod = os.environ['SPECPROD']\n",
    "# tile_id, tile_survey, tile_program = 3867, 'main', 'dark'\n",
    "# tile_id, tile_survey, tile_program = 5053, 'main', 'dark'\n",
    "# tile_id, tile_survey, tile_program = 5052, 'main', 'dark'\n",
    "# tile_id, tile_survey, tile_program = 5074, 'main', 'dark'\n",
    "# tile_id, tile_survey, tile_program = 1685, 'main', 'dark'\n",
    "# tile_id, tile_survey, tile_program = 40069, 'main', 'backup'\n",
    "# tile_id, tile_survey, tile_program = 80950, 'sv1', 'backup'\n",
    "overwrite = False"
   ]
  },
  {
   "cell_type": "markdown",
   "id": "b2bef162-8ff6-4651-bccf-8df444854fd3",
   "metadata": {},
   "source": [
    "## Initialize Database"
   ]
  },
  {
   "cell_type": "code",
   "execution_count": 3,
   "id": "e782a524-9168-4dcf-bdbf-01b05193382c",
   "metadata": {
    "tags": []
   },
   "outputs": [],
   "source": [
    "db.log = get_logger(DEBUG)\n",
    "postgresql = db.setup_db(schema=specprod, hostname='db-loadbalancer.bweaver.development.svc.spin.nersc.org', username='desi_admin', overwrite=overwrite)\n",
    "if overwrite:\n",
    "    versions = [db.Version(package='specprod-db', version=specprodDB_version),\n",
    "                db.Version(package='lsdr9-photometry', version='main'), # Maybe 'desispec' to mean computed rather than fetched from files?\n",
    "                db.Version(package='redshift', version='daily/v0'),\n",
    "                db.Version(package='tiles', version='trunk'),\n",
    "                db.Version(package='specprod', version=specprod),\n",
    "                db.Version(package='numpy', version=np.__version__),\n",
    "                db.Version(package='astropy', version=astropy_version),\n",
    "                db.Version(package='sqlalchemy', version=sqlalchemy_version),\n",
    "                db.Version(package='desiutil', version=desiutil_version)]\n",
    "    db.dbSession.add_all(versions)\n",
    "    db.dbSession.commit()"
   ]
  },
  {
   "cell_type": "markdown",
   "id": "782f6383-6c82-4e2e-afa0-0de132879d66",
   "metadata": {},
   "source": [
    "## Read tiles file"
   ]
  },
  {
   "cell_type": "code",
   "execution_count": 4,
   "id": "065e77f2-cd38-4bf7-b9c1-319bc7707dd1",
   "metadata": {
    "tags": []
   },
   "outputs": [],
   "source": [
    "# tiles_file = findfile('tiles', readonly=True).replace('.fits', '.csv')\n",
    "tiles_file = os.path.join(os.environ['DESI_ROOT'], 'users', os.environ['USER'], 'tiles-daily-patched-with-jura.csv')\n",
    "tiles_table = Table.read(tiles_file, format='ascii.csv')\n",
    "# tiles_table"
   ]
  },
  {
   "cell_type": "code",
   "execution_count": 9,
   "id": "5322bcbd-8fcf-46a1-96be-2de812f7ea08",
   "metadata": {
    "tags": []
   },
   "outputs": [
    {
     "data": {
      "text/html": [
       "<div><i>Table length=14723</i>\n",
       "<table id=\"table139801544663984\" class=\"table-striped table-bordered table-condensed\">\n",
       "<thead><tr><th>TILEID</th><th>SURVEY</th><th>PROGRAM</th><th>FAPRGRM</th><th>FAFLAVOR</th><th>NEXP</th><th>EXPTIME</th><th>TILERA</th><th>TILEDEC</th><th>EFFTIME_ETC</th><th>EFFTIME_SPEC</th><th>EFFTIME_GFA</th><th>GOALTIME</th><th>OBSSTATUS</th><th>LRG_EFFTIME_DARK</th><th>ELG_EFFTIME_DARK</th><th>BGS_EFFTIME_BRIGHT</th><th>LYA_EFFTIME_DARK</th><th>GOALTYPE</th><th>MINTFRAC</th><th>LASTNIGHT</th></tr></thead>\n",
       "<thead><tr><th>int64</th><th>str7</th><th>str6</th><th>str16</th><th>str19</th><th>int64</th><th>float64</th><th>float64</th><th>float64</th><th>float64</th><th>float64</th><th>float64</th><th>float64</th><th>str8</th><th>float64</th><th>float64</th><th>float64</th><th>float64</th><th>str7</th><th>float64</th><th>int64</th></tr></thead>\n",
       "<tr><td>80615</td><td>cmx</td><td>other</td><td>m33</td><td>cmxm33</td><td>4</td><td>3600.1</td><td>24.027</td><td>31.39</td><td>0.0</td><td>3658.5</td><td>3270.6</td><td>1000.0</td><td>obsend</td><td>3582.4</td><td>3658.5</td><td>3945.2</td><td>4469.3</td><td>other</td><td>0.9</td><td>20201216</td></tr>\n",
       "<tr><td>80609</td><td>sv1</td><td>dark</td><td>lrgqso</td><td>cmxlrgqso</td><td>15</td><td>13500.7</td><td>150.12</td><td>2.206</td><td>0.0</td><td>8202.4</td><td>8317.8</td><td>4000.0</td><td>obsend</td><td>8103.8</td><td>8202.4</td><td>9070.2</td><td>12421.2</td><td>dark</td><td>0.9</td><td>20201217</td></tr>\n",
       "<tr><td>80606</td><td>sv1</td><td>dark</td><td>elg</td><td>cmxelg</td><td>12</td><td>10800.7</td><td>36.448</td><td>-4.501</td><td>0.0</td><td>7179.2</td><td>7183.1</td><td>4000.0</td><td>obsend</td><td>6967.0</td><td>7179.2</td><td>7653.2</td><td>8686.3</td><td>dark</td><td>0.9</td><td>20201219</td></tr>\n",
       "<tr><td>80620</td><td>sv1</td><td>dark</td><td>lrgqso</td><td>sv1lrgqso</td><td>13</td><td>11700.7</td><td>144.0</td><td>65.0</td><td>0.0</td><td>8228.4</td><td>7516.2</td><td>4000.0</td><td>obsend</td><td>7522.7</td><td>8228.4</td><td>7875.7</td><td>7957.3</td><td>dark</td><td>0.9</td><td>20201222</td></tr>\n",
       "<tr><td>80611</td><td>sv1</td><td>bright</td><td>bgsmws</td><td>sv1bgsmws</td><td>13</td><td>3620.9</td><td>35.22</td><td>30.3</td><td>0.0</td><td>691.2</td><td>712.8</td><td>1000.0</td><td>obsstart</td><td>660.5</td><td>754.1</td><td>691.2</td><td>440.5</td><td>bright</td><td>0.9</td><td>20201222</td></tr>\n",
       "<tr><td>80607</td><td>sv1</td><td>dark</td><td>lrgqso</td><td>cmxlrgqso</td><td>77</td><td>18804.9</td><td>0.0</td><td>0.0</td><td>0.0</td><td>10817.0</td><td>0.0</td><td>1000.0</td><td>obsend</td><td>9949.4</td><td>10817.0</td><td>10569.1</td><td>10520.4</td><td>dark</td><td>0.9</td><td>20201222</td></tr>\n",
       "<tr><td>80622</td><td>sv1</td><td>dark</td><td>lrgqso</td><td>sv1lrgqso</td><td>8</td><td>7200.4</td><td>155.0</td><td>32.325</td><td>0.0</td><td>5543.6</td><td>5477.8</td><td>4000.0</td><td>obsend</td><td>5272.7</td><td>5543.6</td><td>5844.3</td><td>8490.2</td><td>dark</td><td>0.9</td><td>20201223</td></tr>\n",
       "<tr><td>80617</td><td>sv1</td><td>bright</td><td>bgsmws</td><td>sv1bgsmws</td><td>22</td><td>6162.4</td><td>5.0</td><td>28.0</td><td>0.0</td><td>1451.9</td><td>1449.5</td><td>600.0</td><td>obsend</td><td>1356.3</td><td>1497.1</td><td>1451.9</td><td>1064.0</td><td>bright</td><td>0.9</td><td>20201223</td></tr>\n",
       "<tr><td>80616</td><td>sv1</td><td>bright</td><td>bgsmws</td><td>sv1bgsmws</td><td>18</td><td>5106.2</td><td>356.0</td><td>29.0</td><td>0.0</td><td>1557.1</td><td>1575.5</td><td>600.0</td><td>obsend</td><td>1496.5</td><td>1694.1</td><td>1557.1</td><td>847.0</td><td>bright</td><td>0.9</td><td>20201223</td></tr>\n",
       "<tr><td>80608</td><td>sv1</td><td>dark</td><td>elg</td><td>cmxelg</td><td>27</td><td>24301.6</td><td>106.74</td><td>56.2</td><td>0.0</td><td>17113.6</td><td>14302.2</td><td>4000.0</td><td>obsend</td><td>15770.5</td><td>17113.6</td><td>16838.1</td><td>17001.9</td><td>dark</td><td>0.9</td><td>20201223</td></tr>\n",
       "<tr><td>...</td><td>...</td><td>...</td><td>...</td><td>...</td><td>...</td><td>...</td><td>...</td><td>...</td><td>...</td><td>...</td><td>...</td><td>...</td><td>...</td><td>...</td><td>...</td><td>...</td><td>...</td><td>...</td><td>...</td><td>...</td></tr>\n",
       "<tr><td>9329</td><td>main</td><td>dark</td><td>dark</td><td>maindark</td><td>1</td><td>911.2</td><td>270.753</td><td>59.552</td><td>1074.0</td><td>964.2</td><td>1131.4</td><td>1000.0</td><td>obsend</td><td>964.2</td><td>904.5</td><td>951.0</td><td>1188.6</td><td>dark</td><td>0.85</td><td>20240730</td></tr>\n",
       "<tr><td>10912</td><td>main</td><td>dark</td><td>dark</td><td>maindark</td><td>2</td><td>1389.9</td><td>340.846</td><td>-8.388</td><td>1104.8</td><td>1006.5</td><td>1111.8</td><td>1000.0</td><td>obsend</td><td>1006.5</td><td>986.9</td><td>1043.2</td><td>971.1</td><td>dark</td><td>0.85</td><td>20240730</td></tr>\n",
       "<tr><td>10917</td><td>main</td><td>dark</td><td>dark</td><td>maindark</td><td>1</td><td>1122.8</td><td>345.522</td><td>-11.76</td><td>1046.2</td><td>1011.7</td><td>1153.0</td><td>1000.0</td><td>obsend</td><td>1011.7</td><td>993.9</td><td>1027.2</td><td>1190.6</td><td>dark</td><td>0.85</td><td>20240730</td></tr>\n",
       "<tr><td>20144</td><td>main</td><td>bright</td><td>bright</td><td>mainbright</td><td>2</td><td>800.8</td><td>7.987</td><td>-6.88</td><td>218.0</td><td>240.3</td><td>252.2</td><td>180.0</td><td>obsend</td><td>221.3</td><td>230.7</td><td>240.3</td><td>145.6</td><td>bright</td><td>0.85</td><td>20240730</td></tr>\n",
       "<tr><td>24856</td><td>main</td><td>bright</td><td>bright</td><td>mainbright</td><td>1</td><td>538.8</td><td>8.613</td><td>-10.669</td><td>130.6</td><td>162.5</td><td>165.0</td><td>180.0</td><td>obsend</td><td>144.3</td><td>171.3</td><td>162.5</td><td>84.1</td><td>bright</td><td>0.85</td><td>20240730</td></tr>\n",
       "<tr><td>24866</td><td>main</td><td>bright</td><td>bright</td><td>mainbright</td><td>1</td><td>364.5</td><td>3.83</td><td>-7.012</td><td>218.8</td><td>232.4</td><td>249.8</td><td>180.0</td><td>obsend</td><td>215.6</td><td>215.7</td><td>232.4</td><td>178.3</td><td>bright</td><td>0.85</td><td>20240730</td></tr>\n",
       "<tr><td>1506</td><td>main</td><td>dark</td><td>dark</td><td>maindark</td><td>1</td><td>1058.8</td><td>288.844</td><td>63.378</td><td>1051.8</td><td>999.1</td><td>1152.4</td><td>1000.0</td><td>obsend</td><td>999.1</td><td>953.0</td><td>978.9</td><td>1077.7</td><td>dark</td><td>0.85</td><td>20240730</td></tr>\n",
       "<tr><td>4893</td><td>main</td><td>dark</td><td>dark</td><td>maindark</td><td>1</td><td>754.9</td><td>255.323</td><td>38.954</td><td>1080.3</td><td>1014.8</td><td>1156.5</td><td>1000.0</td><td>obsend</td><td>1014.8</td><td>956.0</td><td>997.6</td><td>1504.7</td><td>dark</td><td>0.85</td><td>20240730</td></tr>\n",
       "<tr><td>26702</td><td>main</td><td>bright</td><td>bright</td><td>mainbright</td><td>1</td><td>592.1</td><td>255.527</td><td>8.123</td><td>207.6</td><td>233.2</td><td>261.7</td><td>180.0</td><td>obsend</td><td>220.4</td><td>216.3</td><td>233.2</td><td>164.8</td><td>bright</td><td>0.85</td><td>20240730</td></tr>\n",
       "<tr><td>26707</td><td>main</td><td>bright</td><td>bright</td><td>mainbright</td><td>1</td><td>598.8</td><td>253.242</td><td>2.276</td><td>192.8</td><td>205.3</td><td>230.7</td><td>180.0</td><td>obsend</td><td>184.3</td><td>196.3</td><td>205.3</td><td>160.0</td><td>bright</td><td>0.85</td><td>20240730</td></tr>\n",
       "</table></div>"
      ],
      "text/plain": [
       "<Table length=14723>\n",
       "TILEID SURVEY PROGRAM FAPRGRM ... LYA_EFFTIME_DARK GOALTYPE MINTFRAC LASTNIGHT\n",
       "int64   str7    str6   str16  ...     float64        str7   float64    int64  \n",
       "------ ------ ------- ------- ... ---------------- -------- -------- ---------\n",
       " 80615    cmx   other     m33 ...           4469.3    other      0.9  20201216\n",
       " 80609    sv1    dark  lrgqso ...          12421.2     dark      0.9  20201217\n",
       " 80606    sv1    dark     elg ...           8686.3     dark      0.9  20201219\n",
       " 80620    sv1    dark  lrgqso ...           7957.3     dark      0.9  20201222\n",
       " 80611    sv1  bright  bgsmws ...            440.5   bright      0.9  20201222\n",
       " 80607    sv1    dark  lrgqso ...          10520.4     dark      0.9  20201222\n",
       " 80622    sv1    dark  lrgqso ...           8490.2     dark      0.9  20201223\n",
       " 80617    sv1  bright  bgsmws ...           1064.0   bright      0.9  20201223\n",
       " 80616    sv1  bright  bgsmws ...            847.0   bright      0.9  20201223\n",
       " 80608    sv1    dark     elg ...          17001.9     dark      0.9  20201223\n",
       "   ...    ...     ...     ... ...              ...      ...      ...       ...\n",
       "  9329   main    dark    dark ...           1188.6     dark     0.85  20240730\n",
       " 10912   main    dark    dark ...            971.1     dark     0.85  20240730\n",
       " 10917   main    dark    dark ...           1190.6     dark     0.85  20240730\n",
       " 20144   main  bright  bright ...            145.6   bright     0.85  20240730\n",
       " 24856   main  bright  bright ...             84.1   bright     0.85  20240730\n",
       " 24866   main  bright  bright ...            178.3   bright     0.85  20240730\n",
       "  1506   main    dark    dark ...           1077.7     dark     0.85  20240730\n",
       "  4893   main    dark    dark ...           1504.7     dark     0.85  20240730\n",
       " 26702   main  bright  bright ...            164.8   bright     0.85  20240730\n",
       " 26707   main  bright  bright ...            160.0   bright     0.85  20240730"
      ]
     },
     "execution_count": 9,
     "metadata": {},
     "output_type": "execute_result"
    }
   ],
   "source": [
    "row_index = np.where((tiles_table['LASTNIGHT'] >= 20201214) & (tiles_table['EFFTIME_SPEC'] > 0) & (~tiles_table['PROGRAM'].mask))[0]\n",
    "tiles_table[row_index]"
   ]
  },
  {
   "cell_type": "code",
   "execution_count": 6,
   "id": "95866a59-eee1-43ea-87f7-6fce8a006115",
   "metadata": {
    "tags": []
   },
   "outputs": [
    {
     "data": {
      "text/html": [
       "<div><i>Table length=20</i>\n",
       "<table id=\"table139801554543008\" class=\"table-striped table-bordered table-condensed\">\n",
       "<thead><tr><th>TILEID</th><th>SURVEY</th><th>PROGRAM</th><th>FAPRGRM</th><th>FAFLAVOR</th><th>NEXP</th><th>EXPTIME</th><th>TILERA</th><th>TILEDEC</th><th>EFFTIME_ETC</th><th>EFFTIME_SPEC</th><th>EFFTIME_GFA</th><th>GOALTIME</th><th>OBSSTATUS</th><th>LRG_EFFTIME_DARK</th><th>ELG_EFFTIME_DARK</th><th>BGS_EFFTIME_BRIGHT</th><th>LYA_EFFTIME_DARK</th><th>GOALTYPE</th><th>MINTFRAC</th><th>LASTNIGHT</th></tr></thead>\n",
       "<thead><tr><th>int64</th><th>str7</th><th>str6</th><th>str16</th><th>str19</th><th>int64</th><th>float64</th><th>float64</th><th>float64</th><th>float64</th><th>float64</th><th>float64</th><th>float64</th><th>str8</th><th>float64</th><th>float64</th><th>float64</th><th>float64</th><th>str7</th><th>float64</th><th>int64</th></tr></thead>\n",
       "<tr><td>80615</td><td>cmx</td><td>other</td><td>m33</td><td>cmxm33</td><td>4</td><td>3600.1</td><td>24.027</td><td>31.39</td><td>0.0</td><td>3658.5</td><td>3270.6</td><td>1000.0</td><td>obsend</td><td>3582.4</td><td>3658.5</td><td>3945.2</td><td>4469.3</td><td>other</td><td>0.9</td><td>20201216</td></tr>\n",
       "<tr><td>80609</td><td>sv1</td><td>dark</td><td>lrgqso</td><td>cmxlrgqso</td><td>15</td><td>13500.7</td><td>150.12</td><td>2.206</td><td>0.0</td><td>8202.4</td><td>8317.8</td><td>4000.0</td><td>obsend</td><td>8103.8</td><td>8202.4</td><td>9070.2</td><td>12421.2</td><td>dark</td><td>0.9</td><td>20201217</td></tr>\n",
       "<tr><td>80606</td><td>sv1</td><td>dark</td><td>elg</td><td>cmxelg</td><td>12</td><td>10800.7</td><td>36.448</td><td>-4.501</td><td>0.0</td><td>7179.2</td><td>7183.1</td><td>4000.0</td><td>obsend</td><td>6967.0</td><td>7179.2</td><td>7653.2</td><td>8686.3</td><td>dark</td><td>0.9</td><td>20201219</td></tr>\n",
       "<tr><td>80620</td><td>sv1</td><td>dark</td><td>lrgqso</td><td>sv1lrgqso</td><td>13</td><td>11700.7</td><td>144.0</td><td>65.0</td><td>0.0</td><td>8228.4</td><td>7516.2</td><td>4000.0</td><td>obsend</td><td>7522.7</td><td>8228.4</td><td>7875.7</td><td>7957.3</td><td>dark</td><td>0.9</td><td>20201222</td></tr>\n",
       "<tr><td>80611</td><td>sv1</td><td>bright</td><td>bgsmws</td><td>sv1bgsmws</td><td>13</td><td>3620.9</td><td>35.22</td><td>30.3</td><td>0.0</td><td>691.2</td><td>712.8</td><td>1000.0</td><td>obsstart</td><td>660.5</td><td>754.1</td><td>691.2</td><td>440.5</td><td>bright</td><td>0.9</td><td>20201222</td></tr>\n",
       "<tr><td>80607</td><td>sv1</td><td>dark</td><td>lrgqso</td><td>cmxlrgqso</td><td>77</td><td>18804.9</td><td>0.0</td><td>0.0</td><td>0.0</td><td>10817.0</td><td>0.0</td><td>1000.0</td><td>obsend</td><td>9949.4</td><td>10817.0</td><td>10569.1</td><td>10520.4</td><td>dark</td><td>0.9</td><td>20201222</td></tr>\n",
       "<tr><td>80622</td><td>sv1</td><td>dark</td><td>lrgqso</td><td>sv1lrgqso</td><td>8</td><td>7200.4</td><td>155.0</td><td>32.325</td><td>0.0</td><td>5543.6</td><td>5477.8</td><td>4000.0</td><td>obsend</td><td>5272.7</td><td>5543.6</td><td>5844.3</td><td>8490.2</td><td>dark</td><td>0.9</td><td>20201223</td></tr>\n",
       "<tr><td>80617</td><td>sv1</td><td>bright</td><td>bgsmws</td><td>sv1bgsmws</td><td>22</td><td>6162.4</td><td>5.0</td><td>28.0</td><td>0.0</td><td>1451.9</td><td>1449.5</td><td>600.0</td><td>obsend</td><td>1356.3</td><td>1497.1</td><td>1451.9</td><td>1064.0</td><td>bright</td><td>0.9</td><td>20201223</td></tr>\n",
       "<tr><td>80616</td><td>sv1</td><td>bright</td><td>bgsmws</td><td>sv1bgsmws</td><td>18</td><td>5106.2</td><td>356.0</td><td>29.0</td><td>0.0</td><td>1557.1</td><td>1575.5</td><td>600.0</td><td>obsend</td><td>1496.5</td><td>1694.1</td><td>1557.1</td><td>847.0</td><td>bright</td><td>0.9</td><td>20201223</td></tr>\n",
       "<tr><td>80608</td><td>sv1</td><td>dark</td><td>elg</td><td>cmxelg</td><td>27</td><td>24301.6</td><td>106.74</td><td>56.2</td><td>0.0</td><td>17113.6</td><td>14302.2</td><td>4000.0</td><td>obsend</td><td>15770.5</td><td>17113.6</td><td>16838.1</td><td>17001.9</td><td>dark</td><td>0.9</td><td>20201223</td></tr>\n",
       "<tr><td>80612</td><td>sv1</td><td>bright</td><td>bgsmws</td><td>sv1bgsmws</td><td>50</td><td>5658.9</td><td>66.68</td><td>-5.24</td><td>0.0</td><td>1611.0</td><td>1572.8</td><td>1000.0</td><td>obsend</td><td>1522.9</td><td>1658.4</td><td>1611.0</td><td>904.2</td><td>bright</td><td>0.9</td><td>20201223</td></tr>\n",
       "<tr><td>80623</td><td>sv1</td><td>dark</td><td>elg</td><td>sv1elg</td><td>10</td><td>9000.5</td><td>155.0</td><td>32.425</td><td>0.0</td><td>5560.0</td><td>5750.7</td><td>4000.0</td><td>obsend</td><td>5392.1</td><td>5560.0</td><td>6032.1</td><td>8957.2</td><td>dark</td><td>0.9</td><td>20201223</td></tr>\n",
       "<tr><td>80638</td><td>sv1</td><td>bright</td><td>bgsmws</td><td>sv1bgsmws</td><td>4</td><td>1200.3</td><td>60.0</td><td>-30.0</td><td>0.0</td><td>305.3</td><td>340.4</td><td>1000.0</td><td>obsstart</td><td>285.9</td><td>300.7</td><td>305.3</td><td>135.2</td><td>bright</td><td>0.9</td><td>20210103</td></tr>\n",
       "<tr><td>80629</td><td>sv1</td><td>bright</td><td>bgsmws</td><td>sv1bgsmws</td><td>5</td><td>1500.4</td><td>29.0</td><td>-3.0</td><td>0.0</td><td>830.3</td><td>845.1</td><td>1000.0</td><td>obsstart</td><td>750.2</td><td>779.1</td><td>830.3</td><td>632.7</td><td>bright</td><td>0.9</td><td>20210103</td></tr>\n",
       "<tr><td>80635</td><td>sv1</td><td>bright</td><td>bgsmws</td><td>sv1bgsmws</td><td>5</td><td>1500.3</td><td>36.0</td><td>-7.0</td><td>0.0</td><td>185.9</td><td>189.0</td><td>1000.0</td><td>obsstart</td><td>181.3</td><td>210.4</td><td>185.9</td><td>93.3</td><td>bright</td><td>0.9</td><td>20210105</td></tr>\n",
       "<tr><td>80633</td><td>sv1</td><td>bright</td><td>bgsmws</td><td>sv1bgsmws</td><td>11</td><td>2220.7</td><td>32.0</td><td>-7.0</td><td>0.0</td><td>771.2</td><td>797.1</td><td>1000.0</td><td>obsstart</td><td>715.1</td><td>763.3</td><td>771.2</td><td>608.2</td><td>bright</td><td>0.9</td><td>20210107</td></tr>\n",
       "<tr><td>80640</td><td>sv1</td><td>bright</td><td>bgsmws</td><td>sv1bgsmws</td><td>10</td><td>3000.8</td><td>85.5</td><td>-20.0</td><td>0.0</td><td>512.4</td><td>470.8</td><td>1000.0</td><td>obsstart</td><td>492.1</td><td>542.8</td><td>512.4</td><td>312.3</td><td>bright</td><td>0.9</td><td>20210107</td></tr>\n",
       "<tr><td>80642</td><td>sv1</td><td>bright</td><td>bgsmws</td><td>sv1bgsmws</td><td>16</td><td>4801.3</td><td>102.0</td><td>36.5</td><td>0.0</td><td>1838.2</td><td>1571.5</td><td>600.0</td><td>obsend</td><td>1792.9</td><td>2097.2</td><td>1838.2</td><td>1077.3</td><td>bright</td><td>0.9</td><td>20210107</td></tr>\n",
       "<tr><td>80641</td><td>sv1</td><td>bright</td><td>bgsmws</td><td>sv1bgsmws</td><td>18</td><td>5131.3</td><td>98.5</td><td>44.5</td><td>0.0</td><td>1362.7</td><td>1145.8</td><td>600.0</td><td>obsend</td><td>1339.8</td><td>1575.3</td><td>1362.7</td><td>716.5</td><td>bright</td><td>0.9</td><td>20210107</td></tr>\n",
       "<tr><td>80676</td><td>sv1</td><td>dark</td><td>lrgqso</td><td>sv1lrgqso</td><td>11</td><td>9900.6</td><td>97.5</td><td>47.7</td><td>0.0</td><td>5596.7</td><td>4701.6</td><td>4000.0</td><td>obsend</td><td>5147.2</td><td>5596.7</td><td>5377.0</td><td>5067.3</td><td>dark</td><td>0.9</td><td>20210109</td></tr>\n",
       "</table></div>"
      ],
      "text/plain": [
       "<Table length=20>\n",
       "TILEID SURVEY PROGRAM FAPRGRM ... LYA_EFFTIME_DARK GOALTYPE MINTFRAC LASTNIGHT\n",
       "int64   str7    str6   str16  ...     float64        str7   float64    int64  \n",
       "------ ------ ------- ------- ... ---------------- -------- -------- ---------\n",
       " 80615    cmx   other     m33 ...           4469.3    other      0.9  20201216\n",
       " 80609    sv1    dark  lrgqso ...          12421.2     dark      0.9  20201217\n",
       " 80606    sv1    dark     elg ...           8686.3     dark      0.9  20201219\n",
       " 80620    sv1    dark  lrgqso ...           7957.3     dark      0.9  20201222\n",
       " 80611    sv1  bright  bgsmws ...            440.5   bright      0.9  20201222\n",
       " 80607    sv1    dark  lrgqso ...          10520.4     dark      0.9  20201222\n",
       " 80622    sv1    dark  lrgqso ...           8490.2     dark      0.9  20201223\n",
       " 80617    sv1  bright  bgsmws ...           1064.0   bright      0.9  20201223\n",
       " 80616    sv1  bright  bgsmws ...            847.0   bright      0.9  20201223\n",
       " 80608    sv1    dark     elg ...          17001.9     dark      0.9  20201223\n",
       " 80612    sv1  bright  bgsmws ...            904.2   bright      0.9  20201223\n",
       " 80623    sv1    dark     elg ...           8957.2     dark      0.9  20201223\n",
       " 80638    sv1  bright  bgsmws ...            135.2   bright      0.9  20210103\n",
       " 80629    sv1  bright  bgsmws ...            632.7   bright      0.9  20210103\n",
       " 80635    sv1  bright  bgsmws ...             93.3   bright      0.9  20210105\n",
       " 80633    sv1  bright  bgsmws ...            608.2   bright      0.9  20210107\n",
       " 80640    sv1  bright  bgsmws ...            312.3   bright      0.9  20210107\n",
       " 80642    sv1  bright  bgsmws ...           1077.3   bright      0.9  20210107\n",
       " 80641    sv1  bright  bgsmws ...            716.5   bright      0.9  20210107\n",
       " 80676    sv1    dark  lrgqso ...           5067.3     dark      0.9  20210109"
      ]
     },
     "execution_count": 6,
     "metadata": {},
     "output_type": "execute_result"
    }
   ],
   "source": [
    "tiles_table[row_index][:20]"
   ]
  },
  {
   "cell_type": "code",
   "execution_count": 10,
   "id": "0e3c5449-449d-4474-b570-7db3aa50d87d",
   "metadata": {
    "tags": []
   },
   "outputs": [],
   "source": [
    "load_tiles = db.Tile.convert(tiles_table, row_index=row_index)"
   ]
  },
  {
   "cell_type": "code",
   "execution_count": 11,
   "id": "a88e68da-bf90-4077-b640-199ebb9f7fad",
   "metadata": {
    "tags": []
   },
   "outputs": [
    {
     "data": {
      "text/plain": [
       "[Tile(tileid=80615),\n",
       " Tile(tileid=80609),\n",
       " Tile(tileid=80606),\n",
       " Tile(tileid=80620),\n",
       " Tile(tileid=80611),\n",
       " Tile(tileid=80607),\n",
       " Tile(tileid=80622),\n",
       " Tile(tileid=80617),\n",
       " Tile(tileid=80616),\n",
       " Tile(tileid=80608),\n",
       " Tile(tileid=80612),\n",
       " Tile(tileid=80623),\n",
       " Tile(tileid=80638),\n",
       " Tile(tileid=80629),\n",
       " Tile(tileid=80635),\n",
       " Tile(tileid=80633),\n",
       " Tile(tileid=80640),\n",
       " Tile(tileid=80642),\n",
       " Tile(tileid=80641),\n",
       " Tile(tileid=80676)]"
      ]
     },
     "execution_count": 11,
     "metadata": {},
     "output_type": "execute_result"
    }
   ],
   "source": [
    "load_tiles[:20]"
   ]
  },
  {
   "cell_type": "code",
   "execution_count": 12,
   "id": "eea12065-5091-48b8-897e-5c51cb6fb3f5",
   "metadata": {
    "tags": []
   },
   "outputs": [],
   "source": [
    "try:\n",
    "    db.dbSession.add_all(load_tiles[:20])\n",
    "    db.dbSession.commit()\n",
    "except IntegrityError:\n",
    "    print(\"ERROR: Some tiles are already loaded!\")\n",
    "    db.dbSession.rollback()"
   ]
  },
  {
   "cell_type": "markdown",
   "id": "7648c676-f797-430b-91bc-1be217cf6f6e",
   "metadata": {},
   "source": [
    "## Read exposures file\n",
    "\n",
    "The daily exposures file may contain exposures with `EFFTIME_SPEC == 0`. We do not want to load these."
   ]
  },
  {
   "cell_type": "code",
   "execution_count": 13,
   "id": "86c45810-11c1-4010-b429-1480f9d34008",
   "metadata": {
    "tags": []
   },
   "outputs": [
    {
     "ename": "NameError",
     "evalue": "name 'new_tile' is not defined",
     "output_type": "error",
     "traceback": [
      "\u001b[0;31m---------------------------------------------------------------------------\u001b[0m",
      "\u001b[0;31mNameError\u001b[0m                                 Traceback (most recent call last)",
      "Cell \u001b[0;32mIn[13], line 5\u001b[0m\n\u001b[1;32m      3\u001b[0m exposures_table \u001b[38;5;241m=\u001b[39m Table\u001b[38;5;241m.\u001b[39mread(exposures_file, \u001b[38;5;28mformat\u001b[39m\u001b[38;5;241m=\u001b[39m\u001b[38;5;124m'\u001b[39m\u001b[38;5;124mfits\u001b[39m\u001b[38;5;124m'\u001b[39m, hdu\u001b[38;5;241m=\u001b[39m\u001b[38;5;124m'\u001b[39m\u001b[38;5;124mEXPOSURES\u001b[39m\u001b[38;5;124m'\u001b[39m)\n\u001b[1;32m      4\u001b[0m frames_table \u001b[38;5;241m=\u001b[39m Table\u001b[38;5;241m.\u001b[39mread(exposures_file, \u001b[38;5;28mformat\u001b[39m\u001b[38;5;241m=\u001b[39m\u001b[38;5;124m'\u001b[39m\u001b[38;5;124mfits\u001b[39m\u001b[38;5;124m'\u001b[39m, hdu\u001b[38;5;241m=\u001b[39m\u001b[38;5;124m'\u001b[39m\u001b[38;5;124mFRAMES\u001b[39m\u001b[38;5;124m'\u001b[39m)\n\u001b[0;32m----> 5\u001b[0m exposures_table[exposures_table[\u001b[38;5;124m'\u001b[39m\u001b[38;5;124mTILEID\u001b[39m\u001b[38;5;124m'\u001b[39m] \u001b[38;5;241m==\u001b[39m \u001b[43mnew_tile\u001b[49m\u001b[38;5;241m.\u001b[39mtileid]\n",
      "\u001b[0;31mNameError\u001b[0m: name 'new_tile' is not defined"
     ]
    }
   ],
   "source": [
    "# exposures_file = findfile('exposures', readonly=True)\n",
    "exposures_file = os.path.join(os.environ['DESI_ROOT'], 'users', os.environ['USER'], 'exposures-daily-patched-with-jura.fits')\n",
    "exposures_table = Table.read(exposures_file, format='fits', hdu='EXPOSURES')\n",
    "frames_table = Table.read(exposures_file, format='fits', hdu='FRAMES')\n",
    "# exposures_table[exposures_table['TILEID'] == new_tile.tileid]"
   ]
  },
  {
   "cell_type": "code",
   "execution_count": 21,
   "id": "a8517a3d-0708-4b77-80b9-cab25554580b",
   "metadata": {
    "tags": []
   },
   "outputs": [
    {
     "name": "stdout",
     "output_type": "stream",
     "text": [
      " NIGHT        MJD          EFFTIME_SPEC   \n",
      "-------- -------------- ------------------\n",
      "20201216 59200.06640136   716.840956115723\n",
      "20201216 59200.07964421  840.8275482177737\n",
      "20201216 59200.11058356 1060.2101547241216\n",
      "20201216 59200.12381137 1040.6450103759769\n",
      " NIGHT        MJD          EFFTIME_SPEC   \n",
      "-------- -------------- ------------------\n",
      "20201214 59198.43399897  301.4567306518556\n",
      "20201214 59198.44720794  250.1291877746583\n",
      "20201214 59198.46041661 297.44109649658213\n",
      "20201214 59198.47356309  292.6512313842775\n",
      "20201215 59199.50455879 398.24849319458025\n",
      "20201215 59199.51829467   376.566352081299\n",
      "20201215 59199.53212847  580.4486907958986\n",
      "20201216 59200.46463512  672.6759353637698\n",
      "20201216 59200.47864221  617.7882095336917\n",
      "20201216 59200.49250742  908.0261367797855\n",
      "20201216  59200.5063548  793.4541275024417\n",
      "20201216 59200.52021614   836.430572509766\n",
      "20201216 59200.53411147  778.9840789794924\n",
      "20201217 59201.50105032   709.863888549805\n",
      "20201217 59201.51562084 388.25950317382825\n",
      " NIGHT        MJD          EFFTIME_SPEC   \n",
      "-------- -------------- ------------------\n",
      "20201214  59198.2450305 113.87767009735111\n",
      "20201215 59199.11199475 342.34718093872084\n",
      "20201215  59199.1251902  401.2331535339357\n",
      "20201215 59199.13841339 381.02611923217785\n",
      "20201215  59199.1516523  466.8735366821291\n",
      "20201216 59200.14312098  962.4794403076176\n",
      "20201216 59200.15629021 1004.0795257568363\n",
      "20201216 59200.18714776  902.5391357421878\n",
      "20201216 59200.20044991  917.4566635131839\n",
      "20201218 59202.18810362  780.5355590820316\n",
      "20201219 59203.15818556  491.3612480163576\n",
      "20201219 59203.17175883   415.381830596924\n",
      " NIGHT        MJD          EFFTIME_SPEC   \n",
      "-------- -------------- ------------------\n",
      "20201218 59202.42866513  779.1925964355472\n",
      "20201218 59202.44186645 505.80396881103536\n",
      "20201218 59202.45507523 475.16295852661153\n",
      "20201219 59203.34169091  722.2712677001956\n",
      "20201219 59203.35485797  682.6352355957034\n",
      "20201219 59203.36805861  698.2152557373049\n",
      "20201221 59205.35527122 1167.7550994873052\n",
      "20201221 59205.36847523 1136.8079071044926\n",
      "20201221 59205.38166406 1277.5132293701176\n",
      "20201222            0.0  215.5794593811036\n",
      "20201222            0.0 290.10171508789074\n",
      "20201222            0.0 185.99844017028815\n",
      "20201222            0.0  91.37605800628666\n",
      " NIGHT        MJD          EFFTIME_SPEC   \n",
      "-------- -------------- ------------------\n",
      "20201220 59204.16182551  95.78355834960938\n",
      "20201220 59204.17090868    83.696416015625\n",
      "20201220 59204.17781253 118.15893188476564\n",
      "20201220 59204.18473575  95.04590087890625\n",
      "20201221 59205.09603301 113.83617553710938\n",
      "20201221 59205.10203159  66.95728149414063\n",
      "20201222 59206.15197847 26.579047851562503\n",
      "20201222 59206.15825179 24.943887329101564\n",
      "20201222 59206.16450905  19.04856414794922\n",
      "20201222 59206.17072876 28.913069763183596\n",
      "20201222 59206.17702728 11.216460723876954\n",
      "20201222 59206.18346938   6.98873992919922\n",
      " NIGHT        MJD          EFFTIME_SPEC   \n",
      "-------- -------------- ------------------\n",
      "20201214 59198.26702079  311.8658393859864\n",
      "20201214 59198.33230605 300.90755157470716\n",
      "20201214 59198.34618685  305.1621147155763\n",
      "20201214 59198.35939494 319.94116668701184\n",
      "20201214 59198.37261703  456.2010910034181\n",
      "20201215 59199.37977664 372.83875808715834\n",
      "20201215 59199.39291639  501.2814102172853\n",
      "20201218 59202.29913844 1209.7819305419926\n",
      "20201218 59202.31236601  1090.378457641602\n",
      "20201218 59202.32559375  1069.455587768555\n",
      "20201218 59202.34447403   925.754188537598\n",
      "20201219 59203.28006487  658.2376434326175\n",
      "20201219 59203.29761205    757.45153503418\n",
      "20201219 59203.31085104  790.1761123657229\n",
      "20201219   59203.325355  839.8883666992191\n",
      "20201222            0.0  508.9846145629885\n",
      "20201222            0.0 233.17705650329597\n",
      "20201222            0.0 165.52498512268073\n",
      " NIGHT        MJD          EFFTIME_SPEC   \n",
      "-------- -------------- ------------------\n",
      "20201219 59203.43642803  1137.310894775391\n",
      "20201219 59203.45006523  448.2777885437013\n",
      "20201219 59203.47269276    907.86335144043\n",
      "20201221 59205.43692672 1108.9068542480472\n",
      "20201221 59205.45010558  922.6017562866215\n",
      "20201221  59205.4632487  922.0054672241214\n",
      "20201223            0.0   82.0361589431763\n",
      "20201223            0.0 14.566314792633062\n",
      " NIGHT        MJD          EFFTIME_SPEC   \n",
      "-------- -------------- ------------------\n",
      "20201218 59202.17537678  138.2164440917969\n",
      "20201219 59203.12604736  167.1233251953125\n",
      "20201219 59203.13424636 170.30244628906252\n",
      "20201219 59203.14121402 185.01941650390626\n",
      "20201220 59204.11721852 134.78502563476565\n",
      "20201220 59204.12418275 132.01377929687501\n",
      "20201220 59204.13111614 135.63530517578127\n",
      "20201220 59204.13804316 130.47854736328125\n",
      "20201220 59204.14493455  96.71439941406251\n",
      "20201222            0.0 25.149781494140626\n",
      "20201222            0.0  1.215709800720215\n",
      "20201222            0.0  3.454109497070313\n",
      "20201222            0.0   6.14713134765625\n",
      "20201222            0.0  1.243456497192383\n",
      "20201223 59207.10903815 30.189580688476564\n",
      "20201223 59207.11530015  16.18446228027344\n",
      "20201223 59207.12156377  11.59683792114258\n",
      "20201223 59207.12782443  18.46561676025391\n",
      "20201223 59207.13409291 19.714875793457033\n",
      "20201223 59207.14035076  16.06686706542969\n",
      "20201223 59207.14661263 12.228915405273439\n",
      " NIGHT        MJD          EFFTIME_SPEC   \n",
      "-------- -------------- ------------------\n",
      "20201219 59203.06679002 152.00585449218752\n",
      "20201219 59203.08912635 138.77648681640628\n",
      "20201219 59203.09853147 114.84880859375001\n",
      "20201219 59203.11030561  87.38260131835938\n",
      "20201219 59203.11724248 114.38329833984376\n",
      "20201220  59204.0657306  98.64916625976564\n",
      "20201220 59204.07267808 115.45295166015626\n",
      "20201220 59204.07954609 123.16734985351563\n",
      "20201220 59204.08643974 131.11523803710938\n",
      "20201220 59204.09485596 127.32892333984377\n",
      "20201220 59204.10181449 127.42045654296876\n",
      "20201220 59204.10870486 126.44347290039063\n",
      "20201222 59206.10011526  25.43299011230469\n",
      "20201223 59207.08024713 17.603628540039065\n",
      "20201223 59207.08652999 25.256565246582035\n",
      "20201223 59207.09276969 15.537786865234377\n",
      "20201223 59207.09902881  16.29824432373047\n",
      " NIGHT        MJD          EFFTIME_SPEC   \n",
      "-------- -------------- ------------------\n",
      "20201214 59198.38589865  539.2312919616701\n",
      "20201214 59198.39910308  399.8608619689943\n",
      "20201214 59198.41234486  380.2178352355958\n",
      "20201215  59199.2982598 123.13543834686284\n",
      "20201215 59199.32600419  453.0542358398439\n",
      "20201215 59199.33922091 440.62881317138687\n",
      "20201215 59199.35261089  539.3768539428713\n",
      "20201215 59199.36583406  774.1129196166995\n",
      "20201216 59200.35754255   916.133778381348\n",
      "20201216 59200.37580231  792.8241790771488\n",
      "     ...            ...                ...\n",
      "20201219 59203.26558758   558.099661254883\n",
      "20201221 59205.27921787 1109.1475219726567\n",
      "20201221 59205.29367198 1259.8772979736332\n",
      "20201221 59205.30690054  1328.873217773438\n",
      "20201221 59205.32009596   1541.00121459961\n",
      "20201222            0.0 112.00157890319828\n",
      "20201222            0.0 106.77615146636967\n",
      "20201222            0.0 210.04844856262216\n",
      "20201222            0.0  454.1130950927736\n",
      "20201223 59207.35136709 54.090555000305194\n",
      "20201223 59207.36473957   89.4551696777344\n",
      "Length = 27 rows\n",
      " NIGHT        MJD          EFFTIME_SPEC   \n",
      "-------- -------------- ------------------\n",
      "20201218 59202.22459972 183.26575927734376\n",
      "20201218 59202.23151057      196.531015625\n",
      "20201218 59202.23841123 139.88513916015626\n",
      "20201219 59203.19405904 148.55820068359375\n",
      "20201219 59203.20090439 140.37629272460939\n",
      "20201219 59203.20805339 156.86130126953125\n",
      "20201220  59204.1933784 61.735180664062504\n",
      "20201220 59204.20033456 31.982138671875003\n",
      "20201220  59204.2072262  54.26086059570313\n",
      "20201220 59204.21419437  33.08184234619141\n",
      "20201221 59205.11967275 129.02212524414062\n",
      "20201221 59205.13571926 150.13759277343752\n",
      "20201221 59205.14201004   157.783759765625\n",
      "20201223 59207.20481961 16.786140136718753\n",
      "20201223 59207.21104415  6.244267349243165\n",
      "20201223 59207.22136561 2.3047729110717774\n",
      "20201223 59207.22765757 2.2193196868896488\n",
      " NIGHT        MJD          EFFTIME_SPEC   \n",
      "-------- -------------- ------------------\n",
      "20201219 59203.49443607  886.3154541015629\n",
      "20201219 59203.51055088   646.308581542969\n",
      "20201221 59205.47683867  791.1875335693362\n",
      "20201221 59205.49028217 1295.6436187744146\n",
      "20201221 59205.50315526  661.4167800903323\n",
      "20201221 59205.51634706  710.2910278320315\n",
      "20201221  59205.5295524  317.7612144470216\n",
      "20201221 59205.54275829  35.50727329254152\n",
      "20201223            0.0  94.06599388122562\n",
      "20201223            0.0 121.55236568450933\n",
      " NIGHT        MJD          EFFTIME_SPEC   \n",
      "-------- -------------- ------------------\n",
      "20210102 59217.18202443 39.125385742187504\n",
      "20210102 59217.18798605       43.096484375\n",
      "20210103 59218.17127433  82.11341796875001\n",
      "20210103 59218.17724635 140.99550903320315\n",
      " NIGHT        MJD          EFFTIME_SPEC   \n",
      "-------- -------------- ------------------\n",
      "20210102 59217.19524616 102.27927978515626\n",
      "20210102 59217.20144717  47.58894287109376\n",
      "20210103  59218.1517208  259.2765307617188\n",
      "20210103 59218.15764216 240.02471923828128\n",
      "20210103 59218.16388966 181.12676025390627\n",
      " NIGHT        MJD            EFFTIME_SPEC    \n",
      "-------- -------------- ---------------------\n",
      "20210102            0.0    43.225747680664064\n",
      "20210102            0.0    26.614812622070314\n",
      "20210102            0.0     29.74850463867188\n",
      "20210105  59220.1616822     86.27600830078126\n",
      "20210105 59220.16777156 0.0010117057245224714\n",
      " NIGHT        MJD          EFFTIME_SPEC   \n",
      "-------- -------------- ------------------\n",
      "20210101 59216.19440462   85.8222216796875\n",
      "20210101  59216.2003552  93.61157592773438\n",
      "20210102 59217.23679084  28.76359344482422\n",
      "20210102 59217.24280346    24.391240234375\n",
      "20210107 59222.11670935 170.20840087890628\n",
      "20210107 59222.12235192 199.39628173828126\n",
      "20210107 59222.12806837  168.9664990234375\n",
      " NIGHT        MJD          EFFTIME_SPEC   \n",
      "-------- -------------- ------------------\n",
      "20210101 59216.29838138  67.68024169921875\n",
      "20210101 59216.30433676  68.52153625488282\n",
      "20210101 59216.31060949  65.66838256835938\n",
      "20210105 59220.28175086  37.30660339355469\n",
      "20210105 59220.28782249  30.15269226074219\n",
      "20210107 59222.20407299   64.7949334716797\n",
      "20210107 59222.20979734  46.46815246582032\n",
      "20210107 59222.21549932 40.168515625000005\n",
      "20210107   59222.221175  22.80616149902344\n",
      "20210107 59222.22690754  68.79895568847657\n",
      " NIGHT        MJD          EFFTIME_SPEC   \n",
      "-------- -------------- ------------------\n",
      "20210101 59216.33995783  74.88018432617189\n",
      "20210101 59216.34613737  72.17099975585938\n",
      "20210101  59216.3524756  83.47549560546875\n",
      "20210102 59217.36369655 102.82301025390626\n",
      "20210102 59217.36974405  84.75980590820313\n",
      "20210102 59217.37609759   80.7270556640625\n",
      "20210103 59218.32705853 177.44200195312501\n",
      "20210103 59218.33306351 174.04071289062503\n",
      "20210103 59218.33942448 171.23355224609378\n",
      "20210105 59220.36003018  78.25482177734376\n",
      "20210105 59220.36610329  99.31432006835938\n",
      "20210106 59221.20934935  132.3590026855469\n",
      "20210106 59221.21505821   147.029189453125\n",
      "20210106  59221.2207602 165.42577392578127\n",
      "20210107 59222.26354426 55.593812866210946\n",
      "20210107 59222.28199446 138.70946044921877\n",
      " NIGHT        MJD          EFFTIME_SPEC   \n",
      "-------- -------------- ------------------\n",
      "20210101 59216.31877492  73.52100341796876\n",
      "20210101 59216.33328748  72.81515014648438\n",
      "20210102 59217.34452166 114.74118530273438\n",
      "20210102 59217.35063064  95.32620849609376\n",
      "20210102 59217.35697678  97.66285156250001\n",
      "20210103 59218.31425635 158.89960693359376\n",
      "20210103 59218.32029795 174.78753906250003\n",
      "20210105 59220.34782434 110.72959228515626\n",
      "20210105 59220.35395052 109.00689331054689\n",
      "20210106 59221.18771636 113.01406005859376\n",
      "20210106 59221.19589367 53.777367553710945\n",
      "20210106 59221.20328769 107.00811645507814\n",
      "20210107 59222.23458695 12.136659088134767\n",
      "20210107  59222.2402979   8.52805633544922\n",
      "20210107 59222.24608243 13.388388671875001\n",
      "20210107 59222.25180962  22.40569519042969\n",
      "20210107 59222.25755586 24.977951660156254\n",
      " NIGHT        MJD          EFFTIME_SPEC  \n",
      "-------- -------------- -----------------\n",
      "20210105 59220.20310167 542.2053558349611\n",
      "20210105 59220.21601411 575.9658935546877\n",
      "20210107 59222.35908958 295.6223098754884\n",
      "20210107 59222.37174618  346.868328857422\n",
      "20210107 59222.38439465 320.1847213745118\n",
      "20210108 59223.32338044 560.0341888427737\n",
      "20210108  59223.3358624 625.4334121704104\n",
      "20210109 59224.25804743 462.2931404113771\n",
      "20210109 59224.27071662 602.5170944213869\n",
      "20210109 59224.28331786 659.5973373413088\n",
      "20210109 59224.29570799 605.9980499267581\n"
     ]
    }
   ],
   "source": [
    "load_exposures = list()\n",
    "for new_tile in load_tiles[:20]:\n",
    "    row_index = np.where((exposures_table['TILEID'] == new_tile.tileid) & (exposures_table['EFFTIME_SPEC'] > 0))[0]\n",
    "    assert len(row_index) > 0\n",
    "    print(exposures_table[['NIGHT', 'MJD', 'EFFTIME_SPEC']][row_index])\n",
    "    load_exposures += db.Exposure.convert(exposures_table, row_index=row_index)\n",
    "load_frames = list()\n",
    "for exposure in load_exposures:\n",
    "    row_index = np.where(frames_table['EXPID'] == exposure.expid)[0]\n",
    "    assert len(row_index) > 0\n",
    "    load_frames += db.Frame.convert(frames_table, row_index=row_index)\n",
    "# load_exposures"
   ]
  },
  {
   "cell_type": "code",
   "execution_count": 16,
   "id": "269a600d-2346-4300-b71d-a6aa4053b0d9",
   "metadata": {
    "tags": []
   },
   "outputs": [],
   "source": [
    "# db.dbSession.rollback()\n",
    "db.dbSession.add_all(load_exposures)\n",
    "db.dbSession.commit()"
   ]
  },
  {
   "cell_type": "code",
   "execution_count": 17,
   "id": "98306e39-48fd-41bc-9161-cbe1e47c28b6",
   "metadata": {
    "tags": []
   },
   "outputs": [],
   "source": [
    "# db.dbSession.rollback()\n",
    "db.dbSession.add_all(load_frames)\n",
    "db.dbSession.commit()"
   ]
  },
  {
   "cell_type": "markdown",
   "id": "e0640411-da3c-4535-a220-55ebbe2485fc",
   "metadata": {
    "tags": []
   },
   "source": [
    "## Load photometry for the tile\n",
    "\n",
    "When tractor photometry is written out by John Moustakas' VAC code, only objects with `brickname != ''` are written.\n",
    "\n",
    "Should filter on TARGETID already loaded before creating the `potential_cat`."
   ]
  },
  {
   "cell_type": "code",
   "execution_count": null,
   "id": "21fcf3e2-8e39-4f45-89b4-0c8177e06c76",
   "metadata": {
    "tags": []
   },
   "outputs": [],
   "source": [
    "fiberassign_file = findfile('fiberassignsvn', tile=new_tile.tileid, readonly=True)\n",
    "potential_targets_table = Table.read(fiberassign_file, format='fits', hdu='TARGETS')\n",
    "no_sky_rows = no_sky(potential_targets_table)\n",
    "potential_targets_table = Table(potential_targets_table[no_sky_rows])\n",
    "potential_targets_table"
   ]
  },
  {
   "cell_type": "code",
   "execution_count": null,
   "id": "514b2357-a078-48ce-b59a-3ec73bf50605",
   "metadata": {
    "tags": []
   },
   "outputs": [],
   "source": [
    "potential_tractorphot_already_loaded = db.dbSession.query(db.Photometry.targetid).filter(db.Photometry.targetid.in_(potential_targets_table['TARGETID'].tolist())).all()\n",
    "potential_tractorphot_not_already_loaded = np.ones((len(potential_targets_table),), dtype=bool)\n",
    "if len(potential_tractorphot_already_loaded) > 0:\n",
    "    print(\"DEBUG: removing {0:d} objects already loaded.\".format(len(potential_tractorphot_already_loaded)))\n",
    "    for row in potential_tractorphot_already_loaded:\n",
    "        potential_tractorphot_not_already_loaded[potential_targets_table['TARGETID'] == row[0]] = False"
   ]
  },
  {
   "cell_type": "code",
   "execution_count": null,
   "id": "2c2a5859-47b9-41aa-bcd6-7ec02397e2df",
   "metadata": {
    "tags": []
   },
   "outputs": [],
   "source": [
    "potential_cat = Table()\n",
    "potential_cat['TARGETID'] = potential_targets_table['TARGETID'][potential_tractorphot_not_already_loaded]\n",
    "potential_cat['TILEID'] = new_tile.tileid\n",
    "potential_cat['TARGET_RA'] = potential_targets_table['RA'][potential_tractorphot_not_already_loaded]\n",
    "potential_cat['TARGET_DEC'] = potential_targets_table['DEC'][potential_tractorphot_not_already_loaded]\n",
    "# potential_cat['PETAL_LOC'] = potential_targets_table['PETAL_LOC'][potential_tractorphot_not_already_loaded]\n",
    "potential_cat['SURVEY'] = new_tile.survey\n",
    "potential_cat['PROGRAM'] = new_tile.program\n",
    "# potential_cat"
   ]
  },
  {
   "cell_type": "code",
   "execution_count": null,
   "id": "ffbae527-c5e1-43b5-b63f-8d34891dc2f8",
   "metadata": {
    "tags": []
   },
   "outputs": [],
   "source": [
    "potential_targetphot = gather_targetphot(potential_cat, racolumn='TARGET_RA', deccolumn='TARGET_DEC')\n",
    "potential_targetphot['SURVEY'] = potential_cat['SURVEY']\n",
    "potential_targetphot['PROGRAM'] = potential_cat['PROGRAM']\n",
    "potential_targetphot['TILEID'] = potential_cat['TILEID']\n",
    "inan = np.logical_or(np.isnan(potential_targetphot['PMRA']), np.isnan(potential_targetphot['PMDEC']))\n",
    "if np.any(inan):\n",
    "    potential_targetphot['PMRA'][inan] = 0.0\n",
    "    potential_targetphot['PMDEC'][inan] = 0.0\n",
    "# potential_targetphot"
   ]
  },
  {
   "cell_type": "code",
   "execution_count": null,
   "id": "c42e56af-c80b-4964-8463-fd112ea3d8a2",
   "metadata": {
    "tags": []
   },
   "outputs": [],
   "source": [
    "potential_tractorphot = gather_tractorphot(potential_cat, racolumn='TARGET_RA', deccolumn='TARGET_DEC')"
   ]
  },
  {
   "cell_type": "code",
   "execution_count": null,
   "id": "0b79af74-ea3d-48ec-a43f-3d6bb06a0f4d",
   "metadata": {
    "tags": []
   },
   "outputs": [],
   "source": [
    "assert (np.where(potential_tractorphot['RELEASE'] == 0)[0] == np.where(potential_tractorphot['BRICKNAME'] == '')[0]).all()"
   ]
  },
  {
   "cell_type": "code",
   "execution_count": null,
   "id": "8351b494-6faf-4a00-9666-21e285d983c4",
   "metadata": {
    "tags": []
   },
   "outputs": [],
   "source": [
    "row_index = np.where(potential_tractorphot['BRICKNAME'] != '')[0]\n",
    "load_photometry = db.Photometry.convert(potential_tractorphot, row_index=row_index)\n",
    "# load_photometry[:20]"
   ]
  },
  {
   "cell_type": "code",
   "execution_count": null,
   "id": "f9a638f0-2105-4633-ab27-f7708418044a",
   "metadata": {
    "tags": []
   },
   "outputs": [],
   "source": [
    "if len(load_photometry) > 0:\n",
    "    # db.dbSession.rollback()\n",
    "    db.dbSession.add_all(load_photometry)\n",
    "    db.dbSession.commit()"
   ]
  },
  {
   "cell_type": "markdown",
   "id": "72dc3c40-1926-4191-b22b-cf99e738c2e7",
   "metadata": {},
   "source": [
    "### Load photometry, such as it is, for objects that are not in the tractor catalog"
   ]
  },
  {
   "cell_type": "code",
   "execution_count": null,
   "id": "43fdb706-136e-4112-9507-48fa5e5d426b",
   "metadata": {
    "tags": []
   },
   "outputs": [],
   "source": [
    "load_rows = np.zeros((len(potential_targetphot),), dtype=bool)\n",
    "if len(load_photometry) > 0:\n",
    "    loaded_targetid = Table()\n",
    "    loaded_targetid['TARGETID'] = np.array([r.targetid for r in load_photometry])\n",
    "    loaded_targetid['LS_ID'] = np.array([r.ls_id for r in load_photometry])\n",
    "    j = join(potential_targetphot['TARGETID', 'RELEASE'], loaded_targetid, join_type='left', keys='TARGETID')\n",
    "    try:\n",
    "        load_targetids = j['TARGETID'][j['LS_ID'].mask]\n",
    "    except AttributeError:\n",
    "        #\n",
    "        # This means *every* TARGETID is already loaded.\n",
    "        #\n",
    "        pass\n",
    "    else:\n",
    "        unique_targetid, targetid_index = np.unique(potential_targetphot['TARGETID'].data, return_index=True)\n",
    "        for t in load_targetids:\n",
    "            load_rows[targetid_index[unique_targetid == t]] = True\n",
    "# load_rows"
   ]
  },
  {
   "cell_type": "code",
   "execution_count": null,
   "id": "1af14e87-0453-41ae-b945-45484f561336",
   "metadata": {
    "tags": []
   },
   "outputs": [],
   "source": [
    "potential_targetphot_already_loaded = db.dbSession.query(db.Photometry.targetid).filter(db.Photometry.targetid.in_(potential_targetphot[load_rows]['TARGETID'].tolist())).all()\n",
    "potential_targetphot_not_already_loaded = np.ones((len(potential_targetphot),), dtype=bool)\n",
    "for row in potential_targetphot_already_loaded:\n",
    "    potential_targetphot_not_already_loaded[potential_targetphot['TARGETID'] == row[0]] = False"
   ]
  },
  {
   "cell_type": "code",
   "execution_count": null,
   "id": "683b892d-999f-4793-a0aa-59efd17bbc4b",
   "metadata": {
    "tags": []
   },
   "outputs": [],
   "source": [
    "row_index = np.where(load_rows & potential_targetphot_not_already_loaded)[0]\n",
    "load_targetphot = db.Photometry.convert(potential_targetphot, row_index=row_index)\n",
    "# load_targetphot[:20]"
   ]
  },
  {
   "cell_type": "code",
   "execution_count": null,
   "id": "ce976be2-9777-45bf-a308-510b494484ca",
   "metadata": {
    "tags": []
   },
   "outputs": [],
   "source": [
    "if len(load_targetphot) > 0:\n",
    "    # db.dbSession.rollback()\n",
    "    db.dbSession.add_all(load_targetphot)\n",
    "    db.dbSession.commit()"
   ]
  },
  {
   "cell_type": "code",
   "execution_count": null,
   "id": "81e78286-da02-4208-b2e3-ca434d643020",
   "metadata": {
    "tags": []
   },
   "outputs": [],
   "source": [
    "load_target = db.Target.convert(potential_targetphot, new_tile.survey, new_tile.tileid)\n",
    "# load_target[:20]"
   ]
  },
  {
   "cell_type": "code",
   "execution_count": null,
   "id": "8ea2f422-3ecd-4909-bb02-9fba00bd1c8f",
   "metadata": {
    "tags": []
   },
   "outputs": [],
   "source": [
    "# db.dbSession.rollback()\n",
    "db.dbSession.add_all(load_target)\n",
    "db.dbSession.commit()"
   ]
  },
  {
   "cell_type": "markdown",
   "id": "84d6804d-c458-4302-950e-d0c1b2a34a8c",
   "metadata": {},
   "source": [
    "## Load tile/cumulative redshifts\n",
    "\n",
    "Need a way to compute \"best\" spectra as new tiles are added. There are a lot of columns that come from other sources here, so need to track these down."
   ]
  },
  {
   "cell_type": "code",
   "execution_count": null,
   "id": "60df93e6-357a-43df-80b9-4eb16e278f1f",
   "metadata": {
    "tags": []
   },
   "outputs": [],
   "source": [
    "redrock_files = list()\n",
    "for spectrograph in range(10):\n",
    "    redrock_file, redrock_exists = findfile('redrock_tile', groupname='cumulative', tile=new_tile.tileid, spectrograph=spectrograph, night=new_tile.lastnight, readonly=True, return_exists=True)\n",
    "    if redrock_exists:\n",
    "        redrock_files.append(redrock_file)"
   ]
  },
  {
   "cell_type": "code",
   "execution_count": null,
   "id": "185daa89-5e62-4b7d-b35b-74fc0be4d576",
   "metadata": {
    "tags": []
   },
   "outputs": [],
   "source": [
    "load_ztile = list()\n",
    "for rr in redrock_files:\n",
    "    redrock_table, expfibermap = read_redrock(rr, group='cumulative', recoadd_fibermap=True, pertile=True)\n",
    "    assert (expfibermap['TILEID'] == new_tile.tileid).all()\n",
    "    firstnight = np.unique(expfibermap['NIGHT']).tolist()\n",
    "    assert len(firstnight) == 1\n",
    "    row_index = no_sky(redrock_table)\n",
    "    load_ztile += db.Ztile.convert(redrock_table, new_tile.survey, new_tile.program, new_tile.tileid, firstnight[0], row_index=row_index)"
   ]
  },
  {
   "cell_type": "code",
   "execution_count": null,
   "id": "e321af6c-3513-4060-a899-0f2470a87277",
   "metadata": {
    "tags": []
   },
   "outputs": [],
   "source": [
    "# db.dbSession.rollback()\n",
    "db.dbSession.add_all(load_ztile)\n",
    "db.dbSession.commit()"
   ]
  },
  {
   "cell_type": "markdown",
   "id": "97fa4c47-072f-47be-bc01-6d42a9d7aa3e",
   "metadata": {},
   "source": [
    "## Load fiberassign and potential"
   ]
  },
  {
   "cell_type": "code",
   "execution_count": null,
   "id": "8035e4c1-1373-4695-a341-e2a1fa369a30",
   "metadata": {
    "tags": []
   },
   "outputs": [],
   "source": [
    "fiberassign_table = Table.read(fiberassign_file, format='fits', hdu='FIBERASSIGN')\n",
    "potential_table = Table.read(fiberassign_file, format='fits', hdu='POTENTIAL_ASSIGNMENTS')"
   ]
  },
  {
   "cell_type": "code",
   "execution_count": null,
   "id": "9a4f22aa-172a-4c7c-8eba-3b4b7842817a",
   "metadata": {
    "tags": []
   },
   "outputs": [],
   "source": [
    "row_index = no_sky(fiberassign_table)\n",
    "load_fiberassign = db.Fiberassign.convert(fiberassign_table, new_tile.tileid, row_index=row_index)\n",
    "# load_fiberassign"
   ]
  },
  {
   "cell_type": "code",
   "execution_count": null,
   "id": "c45e3ea7-88a3-47b3-abc8-c3c42da391be",
   "metadata": {
    "tags": []
   },
   "outputs": [],
   "source": [
    "# db.dbSession.rollback()\n",
    "db.dbSession.add_all(load_fiberassign)\n",
    "db.dbSession.commit()"
   ]
  },
  {
   "cell_type": "code",
   "execution_count": null,
   "id": "5880cdf7-2031-4ff6-b1ce-ed12c5a8491e",
   "metadata": {
    "tags": []
   },
   "outputs": [],
   "source": [
    "row_index = no_sky(potential_table)\n",
    "load_potential = db.Potential.convert(potential_table, new_tile.tileid, row_index=row_index)\n",
    "# load_potential"
   ]
  },
  {
   "cell_type": "code",
   "execution_count": null,
   "id": "f4d16137-6926-40aa-b1c5-d8135fd1f697",
   "metadata": {
    "tags": []
   },
   "outputs": [],
   "source": [
    "# db.dbSession.rollback()\n",
    "db.dbSession.add_all(load_potential)\n",
    "db.dbSession.commit()"
   ]
  },
  {
   "cell_type": "markdown",
   "id": "1c43c01a-a69a-48ad-a82b-da3bf24670ba",
   "metadata": {},
   "source": [
    "## Recompute global values\n",
    "\n",
    "The global values are the primary classification and number of spectra."
   ]
  },
  {
   "cell_type": "code",
   "execution_count": null,
   "id": "5dece185-0f17-47a3-a086-f2794c8ad567",
   "metadata": {
    "tags": []
   },
   "outputs": [],
   "source": [
    "zall_tilecumulative = db.dbSession.query(db.Ztile).all()\n",
    "zall_table = Table(list(zip(*[(z.targetid, z.zwarn, z.tsnr2_lrg) for z in zall_tilecumulative])), names=('TARGETID', 'ZWARN', 'TSNR2_LRG'))\n",
    "nspec, primary = find_primary_spectra(zall_table)\n",
    "zcat_nspec, zcat_primary = nspec.tolist(), primary.tolist()\n",
    "for k, z in enumerate(zall_tilecumulative):\n",
    "    z.zcat_nspec = zcat_nspec[k]\n",
    "    z.zcat_primary = zcat_primary[k]\n",
    "db.dbSession.commit()"
   ]
  },
  {
   "cell_type": "code",
   "execution_count": null,
   "id": "22c9eff2-3681-414e-8f2f-a5bfd55e68aa",
   "metadata": {
    "tags": []
   },
   "outputs": [],
   "source": [
    "sv_tilecumulative = db.dbSession.query(db.Ztile).filter(db.Ztile.survey.in_(('sv1', 'sv2', 'sv3'))).all()\n",
    "if len(sv_tilecumulative) > 0:\n",
    "    sv_table = Table(list(zip(*[(z.targetid, z.zwarn, z.tsnr2_lrg) for z in sv_tilecumulative])), names=('TARGETID', 'ZWARN', 'TSNR2_LRG'))\n",
    "    nspec, primary = find_primary_spectra(sv_table)\n",
    "    sv_nspec, sv_primary = nspec.tolist(), primary.tolist()\n",
    "    for k, z in enumerate(sv_tilecumulative):\n",
    "        z.sv_nspec = sv_nspec[k]\n",
    "        z.sv_primary = sv_primary[k]\n",
    "    db.dbSession.commit()"
   ]
  },
  {
   "cell_type": "code",
   "execution_count": null,
   "id": "6781ea66-4dc3-4616-94c6-32c1d81fc1f6",
   "metadata": {
    "tags": []
   },
   "outputs": [],
   "source": [
    "main_tilecumulative = db.dbSession.query(db.Ztile).filter(db.Ztile.survey.in_(('main', ))).all()\n",
    "if len(main_tilecumulative) > 0:\n",
    "    main_table = Table(list(zip(*[(z.targetid, z.zwarn, z.tsnr2_lrg) for z in main_tilecumulative])), names=('TARGETID', 'ZWARN', 'TSNR2_LRG'))\n",
    "    nspec, primary = find_primary_spectra(main_table)\n",
    "    main_nspec, main_primary = nspec.tolist(), primary.tolist()\n",
    "    for k, z in enumerate(main_tilecumulative):\n",
    "        z.main_nspec = main_nspec[k]\n",
    "        z.main_primary = main_primary[k]\n",
    "    db.dbSession.commit()"
   ]
  },
  {
   "cell_type": "markdown",
   "id": "7397fd17-6ccc-4f06-ba39-d57411287198",
   "metadata": {},
   "source": [
    "## q3c Update\n",
    "\n",
    "`tile`, `exposure`, `photometry`, `fiberassign`"
   ]
  },
  {
   "cell_type": "code",
   "execution_count": null,
   "id": "4283d716-f619-41a8-a6a1-d47e9d4af86e",
   "metadata": {
    "tags": []
   },
   "outputs": [],
   "source": [
    "q3c_updates = {'tile': 'tilera', 'exposure': 'tilera', 'photometry': 'ra', 'fiberassign': 'target_ra'}\n",
    "for table in q3c_updates:\n",
    "    db.q3c_index(table, ra=q3c_updates[table])"
   ]
  },
  {
   "cell_type": "code",
   "execution_count": null,
   "id": "b5db94c2-d3f4-41ab-a05a-f24c91f202b6",
   "metadata": {},
   "outputs": [],
   "source": []
  }
 ],
 "metadata": {
  "kernelspec": {
   "display_name": "DESI custom",
   "language": "python",
   "name": "desi-custom"
  },
  "language_info": {
   "codemirror_mode": {
    "name": "ipython",
    "version": 3
   },
   "file_extension": ".py",
   "mimetype": "text/x-python",
   "name": "python",
   "nbconvert_exporter": "python",
   "pygments_lexer": "ipython3",
   "version": "3.10.14"
  }
 },
 "nbformat": 4,
 "nbformat_minor": 5
}
