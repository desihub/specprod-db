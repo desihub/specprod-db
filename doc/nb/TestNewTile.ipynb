{
 "cells": [
  {
   "cell_type": "markdown",
   "id": "9de1d646-ec64-434b-b59e-f0452dac49e7",
   "metadata": {},
   "source": [
    "# Test Load Daily\n",
    "\n",
    "Test various aspects of tile-based loading.\n",
    "\n",
    "## Imports"
   ]
  },
  {
   "cell_type": "code",
   "execution_count": null,
   "id": "1bd0d356-77e9-4d62-a47f-b2f9ff00e898",
   "metadata": {
    "tags": []
   },
   "outputs": [],
   "source": [
    "import os\n",
    "import numpy as np\n",
    "from astropy.io import fits\n",
    "from astropy.table import Table\n",
    "from sqlalchemy.exc import IntegrityError\n",
    "from desiutil.log import get_logger, DEBUG\n",
    "from desispec.io.meta import findfile\n",
    "import specprodDB.load as db\n",
    "import specprodDB.tile as t"
   ]
  },
  {
   "cell_type": "markdown",
   "id": "1ef90017-8c83-4e3f-8c72-2b0f3e9eff2f",
   "metadata": {},
   "source": [
    "## Initial Values"
   ]
  },
  {
   "cell_type": "code",
   "execution_count": null,
   "id": "2c1f6604-55f5-4f47-be69-ea9689544157",
   "metadata": {
    "tags": []
   },
   "outputs": [],
   "source": [
    "specprod = os.environ['SPECPROD'] = 'daily'\n",
    "overwrite = True\n",
    "tiles_patch_date = '20241007'"
   ]
  },
  {
   "cell_type": "markdown",
   "id": "b2bef162-8ff6-4651-bccf-8df444854fd3",
   "metadata": {},
   "source": [
    "## Initialize Database"
   ]
  },
  {
   "cell_type": "code",
   "execution_count": null,
   "id": "e782a524-9168-4dcf-bdbf-01b05193382c",
   "metadata": {
    "tags": []
   },
   "outputs": [],
   "source": [
    "os.environ['DESI_LOGLEVEL'] = 'DEBUG'\n",
    "db.log = get_logger(DEBUG, timestamp=True)\n",
    "hostname = 'db2-loadbalancer.specprod.production.svc.spin.nersc.org'\n",
    "# hostname = 'localhost'\n",
    "postgresql = db.setup_db(schema=specprod, hostname=hostname, username='desi_admin', overwrite=overwrite)\n",
    "if overwrite:\n",
    "    db.load_versions('computed', 'daily/v0', 'daily', specprod, 'main')"
   ]
  },
  {
   "cell_type": "markdown",
   "id": "782f6383-6c82-4e2e-afa0-0de132879d66",
   "metadata": {},
   "source": [
    "## Read tiles file"
   ]
  },
  {
   "cell_type": "code",
   "execution_count": null,
   "id": "065e77f2-cd38-4bf7-b9c1-319bc7707dd1",
   "metadata": {
    "tags": []
   },
   "outputs": [],
   "source": [
    "original_tiles_file = os.path.join(os.environ['DESI_ROOT'], 'users', os.environ['USER'], f'tiles-daily-patched-with-kibo-{tiles_patch_date}.csv')\n",
    "current_tiles_file = findfile('tiles', readonly=True)\n",
    "tiles_table = Table.read(original_tiles_file, format='ascii.csv')\n",
    "# tiles_table"
   ]
  },
  {
   "cell_type": "code",
   "execution_count": null,
   "id": "35d5c59d-920b-4625-b1a7-c81d33f97512",
   "metadata": {
    "tags": []
   },
   "outputs": [],
   "source": [
    "current_tiles_file"
   ]
  },
  {
   "cell_type": "code",
   "execution_count": null,
   "id": "5322bcbd-8fcf-46a1-96be-2de812f7ea08",
   "metadata": {
    "tags": []
   },
   "outputs": [],
   "source": [
    "row_index = np.where((tiles_table['LASTNIGHT'] >= 20201214) & (tiles_table['EFFTIME_SPEC'] > 0))[0]"
   ]
  },
  {
   "cell_type": "code",
   "execution_count": null,
   "id": "0e3c5449-449d-4474-b570-7db3aa50d87d",
   "metadata": {
    "tags": []
   },
   "outputs": [],
   "source": [
    "%%time\n",
    "candidate_tiles = db.Tile.convert(tiles_table, row_index=row_index)"
   ]
  },
  {
   "cell_type": "markdown",
   "id": "7648c676-f797-430b-91bc-1be217cf6f6e",
   "metadata": {},
   "source": [
    "## Read exposures file\n",
    "\n",
    "The daily exposures file may contain exposures with `EFFTIME_SPEC == 0`. We do not want to load these. There are also cases where a *tile* has non-zero `EFFTIME_SPEC` but has no *exposures* with non-zero `EFFTIME_SPEC`. At least for now, don't try to load those either."
   ]
  },
  {
   "cell_type": "code",
   "execution_count": null,
   "id": "86c45810-11c1-4010-b429-1480f9d34008",
   "metadata": {
    "tags": []
   },
   "outputs": [],
   "source": [
    "original_exposures_file = os.path.join(os.environ['DESI_ROOT'], 'users', os.environ['USER'], f'exposures-daily-patched-with-kibo-{tiles_patch_date}.fits')\n",
    "current_exposures_file = findfile('exposures', readonly=True)\n",
    "exposures_table = Table.read(original_exposures_file, format='fits', hdu='EXPOSURES')\n",
    "frames_table = Table.read(original_exposures_file, format='fits', hdu='FRAMES')\n",
    "# exposures_table[exposures_table['TILEID'] == new_tile.tileid]"
   ]
  },
  {
   "cell_type": "code",
   "execution_count": null,
   "id": "a8517a3d-0708-4b77-80b9-cab25554580b",
   "metadata": {
    "tags": []
   },
   "outputs": [],
   "source": [
    "%%time\n",
    "load_tiles = list()\n",
    "bad_tiles = list()\n",
    "load_exposures = list()\n",
    "for new_tile in candidate_tiles:\n",
    "    row_index = np.where((exposures_table['TILEID'] == new_tile.tileid) & (exposures_table['EFFTIME_SPEC'] > 0))[0]\n",
    "    if len(row_index) > 0:\n",
    "        load_tiles.append(new_tile)\n",
    "        load_exposures += db.Exposure.convert(exposures_table, row_index=row_index)\n",
    "    else:\n",
    "        print(\"ERROR: No valid exposures found for tile {0:d}, even though EFFTIME_SPEC == {1:f}!\".format(new_tile.tileid, new_tile.efftime_spec))\n",
    "        bad_index = np.where((exposures_table['TILEID'] == new_tile.tileid))[0]\n",
    "        print(exposures_table[['EXPID', 'NIGHT', 'MJD', 'EFFTIME_SPEC']][bad_index])\n",
    "        bad_tiles.append(new_tile)\n",
    "# load_exposures"
   ]
  },
  {
   "cell_type": "code",
   "execution_count": null,
   "id": "38e20e0f-58e1-417d-b0ae-e902ac717888",
   "metadata": {
    "tags": []
   },
   "outputs": [],
   "source": [
    "%%time\n",
    "load_frames = list()\n",
    "for exposure in load_exposures:\n",
    "    row_index = np.where(frames_table['EXPID'] == exposure.expid)[0]\n",
    "    assert len(row_index) > 0\n",
    "    load_frames += db.Frame.convert(frames_table, row_index=row_index)\n",
    "# load_frames"
   ]
  },
  {
   "cell_type": "code",
   "execution_count": null,
   "id": "8a509cfa-801c-4933-b550-b69ad75c337a",
   "metadata": {
    "tags": []
   },
   "outputs": [],
   "source": [
    "%%time\n",
    "try:\n",
    "    db.dbSession.add_all(load_tiles)\n",
    "    db.dbSession.commit()\n",
    "except IntegrityError as exc:\n",
    "    print(exc.args[0])\n",
    "    db.dbSession.rollback()"
   ]
  },
  {
   "cell_type": "code",
   "execution_count": null,
   "id": "269a600d-2346-4300-b71d-a6aa4053b0d9",
   "metadata": {
    "tags": []
   },
   "outputs": [],
   "source": [
    "%%time\n",
    "try:\n",
    "    db.dbSession.add_all(load_exposures)\n",
    "    db.dbSession.commit()\n",
    "except IntegrityError as exc:\n",
    "    print(exc.args[0])\n",
    "    db.dbSession.rollback()"
   ]
  },
  {
   "cell_type": "code",
   "execution_count": null,
   "id": "98306e39-48fd-41bc-9161-cbe1e47c28b6",
   "metadata": {
    "tags": []
   },
   "outputs": [],
   "source": [
    "%%time\n",
    "try:\n",
    "    db.dbSession.add_all(load_frames)\n",
    "    db.dbSession.commit()\n",
    "except IntegrityError as exc:\n",
    "    print(exc.args[0])\n",
    "    db.dbSession.rollback()"
   ]
  },
  {
   "cell_type": "markdown",
   "id": "8c298201-3348-4e3c-8493-5b118cd3dfbc",
   "metadata": {},
   "source": [
    "## Test tile-based Updates\n",
    "\n",
    "Useful links:\n",
    "\n",
    "* https://docs.sqlalchemy.org/en/20/orm/queryguide/dml.html#orm-queryguide-upsert\n",
    "* https://docs.sqlalchemy.org/en/20/dialects/postgresql.html#sqlalchemy.dialects.postgresql.Insert.on_conflict_do_update.params.set_\n",
    "* https://docs.sqlalchemy.org/en/20/tutorial/orm_data_manipulation.html#tutorial-orm-data-manipulation"
   ]
  },
  {
   "cell_type": "code",
   "execution_count": null,
   "id": "3ca0e31d-7833-40e1-b62f-c5bf2d9bcbaa",
   "metadata": {
    "tags": []
   },
   "outputs": [],
   "source": [
    "import json\n",
    "with open(os.path.join(os.environ['DESI_ROOT'], 'users', os.environ['USER'], 'tiles-daily-cache.json'), 'w') as j:\n",
    "    json.dump(dict(zip(tiles_table['TILEID'].tolist(), tiles_table['UPDATED'].tolist())), j)"
   ]
  },
  {
   "cell_type": "code",
   "execution_count": null,
   "id": "0b03f183-f833-440a-9fca-6e7fa6e0d9e8",
   "metadata": {
    "tags": []
   },
   "outputs": [],
   "source": [
    "with open(os.path.join(os.environ['DESI_ROOT'], 'users', os.environ['USER'], 'tiles-daily-cache.json')) as j:\n",
    "    tiles_cache = json.load(j)"
   ]
  },
  {
   "cell_type": "code",
   "execution_count": null,
   "id": "a09119c2-2af7-46cd-9cc5-a8b3291b946d",
   "metadata": {
    "tags": []
   },
   "outputs": [],
   "source": [
    "update_tiles_table = Table.read(current_tiles_file, format='fits', hdu='TILES')"
   ]
  },
  {
   "cell_type": "code",
   "execution_count": null,
   "id": "d7fc779b-82ec-45d5-8368-9ad62364719b",
   "metadata": {
    "tags": []
   },
   "outputs": [],
   "source": [
    "cached_tiles = np.array(list(map(int, tiles_cache.keys())))\n",
    "new_tiles = ~np.in1d(update_tiles_table['TILEID'], cached_tiles)\n",
    "updated_tiles = np.zeros((len(update_tiles_table), ), dtype=bool)\n",
    "for tileid in tiles_cache:\n",
    "    t = int(tileid)\n",
    "    w = np.where(update_tiles_table['TILEID'] == t)[0]\n",
    "    assert len(w) == 1\n",
    "    if update_tiles_table['UPDATED'][w] == tiles_cache[tileid]:\n",
    "        pass\n",
    "    elif update_tiles_table['UPDATED'][w] > tiles_cache[tileid]:\n",
    "        # print(\"{0} > {1}\".format(update_tiles_table['UPDATED'][w], tiles_cache[tileid]))\n",
    "        updated_tiles[w] = True\n",
    "    else:\n",
    "        print(\"Something weird happened.\")\n",
    "update_tiles_table[new_tiles]"
   ]
  },
  {
   "cell_type": "code",
   "execution_count": null,
   "id": "444c8365-eb29-428e-ab7f-5b3aa3fc2b88",
   "metadata": {
    "tags": []
   },
   "outputs": [],
   "source": [
    "update_tiles_table[updated_tiles]"
   ]
  },
  {
   "cell_type": "code",
   "execution_count": null,
   "id": "157947d9-d1d5-42fd-8984-9ceb407c06ad",
   "metadata": {
    "tags": []
   },
   "outputs": [],
   "source": [
    "load_new_tiles = db.Tile.convert(update_tiles_table, row_index=new_tiles)\n",
    "load_updated_tiles = db.Tile.convert(update_tiles_table, row_index=updated_tiles)"
   ]
  },
  {
   "cell_type": "markdown",
   "id": "d7f39ef0-cdeb-4b67-b6f9-24d49091e378",
   "metadata": {},
   "source": [
    "### Find exposures associated with new and updated tiles"
   ]
  },
  {
   "cell_type": "code",
   "execution_count": null,
   "id": "d45408e3-2982-4e60-941c-da1d034fb36b",
   "metadata": {
    "tags": []
   },
   "outputs": [],
   "source": [
    "update_exposures_table = Table.read(current_exposures_file, format='fits', hdu='EXPOSURES')\n",
    "update_frames_table = Table.read(current_exposures_file, format='fits', hdu='FRAMES')"
   ]
  },
  {
   "cell_type": "code",
   "execution_count": null,
   "id": "ebe3108f-438b-427f-ac8d-0e58020c6d39",
   "metadata": {
    "tags": []
   },
   "outputs": [],
   "source": [
    "load_tiles = list()\n",
    "load_exposures = list()\n",
    "for new_tile in (load_new_tiles + load_updated_tiles):\n",
    "    row_index = np.where((update_exposures_table['TILEID'] == new_tile.tileid) & (update_exposures_table['EFFTIME_SPEC'] > 0))[0]\n",
    "    if len(row_index) > 0:\n",
    "        load_tiles.append(new_tile)\n",
    "        load_exposures += db.Exposure.convert(update_exposures_table, row_index=row_index)\n",
    "    else:\n",
    "        print(\"ERROR: No valid exposures found for tile {0:d}, even though EFFTIME_SPEC == {1:f}!\".format(new_tile.tileid, new_tile.efftime_spec))\n",
    "        bad_index = np.where((update_exposures_table['TILEID'] == new_tile.tileid))[0]\n",
    "        print(update_exposures_table[['EXPID', 'NIGHT', 'MJD', 'EFFTIME_SPEC']][bad_index])\n",
    "        # bad_tiles.append(new_tile)\n",
    "# load_tiles, load_exposures\n",
    "\n",
    "# Tiles that *change* to EFFTIME_SPEC = 0 should be removed as in DELETE.\n",
    "# Keep the database in a state \"as if\" it had just been reloaded from scratch."
   ]
  },
  {
   "cell_type": "code",
   "execution_count": null,
   "id": "b6e94fce-08bc-4361-bdf2-0ba6c7f2aab4",
   "metadata": {
    "tags": []
   },
   "outputs": [],
   "source": [
    "load_frames = list()\n",
    "for exposure in load_exposures:\n",
    "    row_index = np.where(update_frames_table['EXPID'] == exposure.expid)[0]\n",
    "    assert len(row_index) > 0\n",
    "    load_frames += db.Frame.convert(update_frames_table, row_index=row_index)"
   ]
  },
  {
   "cell_type": "code",
   "execution_count": null,
   "id": "1f0d8062-740f-46a4-8eb0-fc93cb4b5c35",
   "metadata": {
    "tags": []
   },
   "outputs": [],
   "source": [
    "stmt = db.upsert(load_tiles)\n",
    "# print(stmt)\n",
    "db.dbSession.execute(stmt)\n",
    "db.dbSession.commit()"
   ]
  },
  {
   "cell_type": "code",
   "execution_count": null,
   "id": "12ba3979-e2fb-4119-a79a-f7d6e413952a",
   "metadata": {
    "tags": []
   },
   "outputs": [],
   "source": [
    "# stmt = db.upsert(load_exposures)\n",
    "# print(stmt)\n",
    "# db.dbSession.execute(stmt)\n",
    "# db.dbSession.commit()\n",
    "db.dbSession.rollback()"
   ]
  },
  {
   "cell_type": "code",
   "execution_count": null,
   "id": "7974d98d-dd93-492c-9cad-dcf0085a4b92",
   "metadata": {
    "tags": []
   },
   "outputs": [],
   "source": [
    "stmt = db.upsert(load_frames)\n",
    "# print(stmt)\n",
    "db.dbSession.execute(stmt)\n",
    "db.dbSession.commit()"
   ]
  },
  {
   "cell_type": "markdown",
   "id": "e0640411-da3c-4535-a220-55ebbe2485fc",
   "metadata": {
    "tags": []
   },
   "source": [
    "## Load photometry for the tile\n",
    "\n",
    "When tractor photometry is written out by John Moustakas' VAC code, only objects with `brickname != ''` are written."
   ]
  },
  {
   "cell_type": "code",
   "execution_count": null,
   "id": "bff92e7d-2627-45bf-a739-c2b30a059aee",
   "metadata": {
    "tags": []
   },
   "outputs": [],
   "source": [
    "load_tiles[12345]"
   ]
  },
  {
   "cell_type": "code",
   "execution_count": null,
   "id": "f419c90d-1f45-46e4-add8-db81ed260a83",
   "metadata": {
    "tags": []
   },
   "outputs": [],
   "source": [
    "tile_index = 0"
   ]
  },
  {
   "cell_type": "code",
   "execution_count": null,
   "id": "605895fe",
   "metadata": {
    "tags": []
   },
   "outputs": [],
   "source": [
    "load_tiles = db.dbSession.query(db.Tile).filter(db.Tile.tileid == 26055).all()\n",
    "load_tiles"
   ]
  },
  {
   "cell_type": "code",
   "execution_count": null,
   "id": "56864ec5-a6bd-4fa9-97b4-64640d9219fe",
   "metadata": {
    "tags": []
   },
   "outputs": [],
   "source": [
    "load_tiles[tile_index] #, load_tiles[tile_index + 1], load_tiles[-2], load_tiles[-1]"
   ]
  },
  {
   "cell_type": "code",
   "execution_count": null,
   "id": "6e45a02f-eb7e-415b-bcfb-b655e6c876fc",
   "metadata": {
    "tags": []
   },
   "outputs": [],
   "source": [
    "%%time\n",
    "potential_targets_table = t.potential_targets(load_tiles[tile_index].tileid)\n",
    "# potential_targets_table"
   ]
  },
  {
   "cell_type": "code",
   "execution_count": null,
   "id": "2c2a5859-47b9-41aa-bcd6-7ec02397e2df",
   "metadata": {
    "tags": []
   },
   "outputs": [],
   "source": [
    "%%time\n",
    "potential_cat = t.potential_photometry(load_tiles[tile_index], potential_targets_table)\n",
    "# potential_cat"
   ]
  },
  {
   "cell_type": "code",
   "execution_count": null,
   "id": "ffbae527-c5e1-43b5-b63f-8d34891dc2f8",
   "metadata": {
    "tags": []
   },
   "outputs": [],
   "source": [
    "%%time\n",
    "potential_targetphot = t.targetphot(potential_cat)"
   ]
  },
  {
   "cell_type": "code",
   "execution_count": null,
   "id": "94e10407-edee-4731-ad7c-3de63749dd7f",
   "metadata": {
    "tags": []
   },
   "outputs": [],
   "source": [
    "%%time\n",
    "potential_tractorphot = t.tractorphot(potential_cat)"
   ]
  },
  {
   "cell_type": "code",
   "execution_count": null,
   "id": "f1f7e918-f906-4545-bfb3-d3a9b686111c",
   "metadata": {
    "tags": []
   },
   "outputs": [],
   "source": [
    "%%time\n",
    "load_photometry = t.load_photometry(potential_tractorphot)"
   ]
  },
  {
   "cell_type": "markdown",
   "id": "72dc3c40-1926-4191-b22b-cf99e738c2e7",
   "metadata": {},
   "source": [
    "### Load photometry, such as it is, for objects that are not in the tractor catalog"
   ]
  },
  {
   "cell_type": "code",
   "execution_count": null,
   "id": "10c990d3-b90c-4999-885d-9467f30220a6",
   "metadata": {
    "tags": []
   },
   "outputs": [],
   "source": [
    "%%time\n",
    "load_targetphot = t.load_targetphot(potential_targetphot, load_photometry)"
   ]
  },
  {
   "cell_type": "markdown",
   "id": "4664f287-09ad-4d99-a54a-5e69c8cf707c",
   "metadata": {},
   "source": [
    "### Load the target table"
   ]
  },
  {
   "cell_type": "code",
   "execution_count": null,
   "id": "81e78286-da02-4208-b2e3-ca434d643020",
   "metadata": {
    "tags": []
   },
   "outputs": [],
   "source": [
    "%%time\n",
    "load_target = t.load_target(load_tiles[tile_index], potential_targetphot)"
   ]
  },
  {
   "cell_type": "markdown",
   "id": "84d6804d-c458-4302-950e-d0c1b2a34a8c",
   "metadata": {},
   "source": [
    "## Load tile/cumulative redshifts\n",
    "\n",
    "Need a way to compute \"best\" spectra as new tiles are added. There are a lot of columns that come from other sources here, so need to track these down."
   ]
  },
  {
   "cell_type": "code",
   "execution_count": null,
   "id": "0dc5e0b1-54a2-4975-aa97-6e533cb1d75a",
   "metadata": {},
   "outputs": [],
   "source": [
    "%%time\n",
    "load_ztile = t.load_redshift(load_tiles[tile_index])"
   ]
  },
  {
   "cell_type": "code",
   "execution_count": null,
   "id": "71a542f1",
   "metadata": {},
   "outputs": [],
   "source": [
    "l = db.dbSession.query(db.Ztile).filter(db.Ztile.tileid == tile_id).all()"
   ]
  },
  {
   "cell_type": "code",
   "execution_count": null,
   "id": "6b4a096d",
   "metadata": {},
   "outputs": [],
   "source": [
    "len(l)"
   ]
  },
  {
   "cell_type": "code",
   "execution_count": null,
   "id": "4e7bc157",
   "metadata": {},
   "outputs": [],
   "source": [
    "l[0]"
   ]
  },
  {
   "cell_type": "code",
   "execution_count": null,
   "id": "eb235249",
   "metadata": {},
   "outputs": [],
   "source": [
    "l[0].z, l[0].zerr, l[0].zwarn, l[0].spectype, l[0].subtype"
   ]
  },
  {
   "cell_type": "markdown",
   "id": "97fa4c47-072f-47be-bc01-6d42a9d7aa3e",
   "metadata": {},
   "source": [
    "## Load fiberassign and potential"
   ]
  },
  {
   "cell_type": "code",
   "execution_count": null,
   "id": "f9230013-8106-43be-8439-ab11953bdb75",
   "metadata": {},
   "outputs": [],
   "source": [
    "%%time\n",
    "load_fiberassign, load_potential = t.load_fiberassign(load_tiles[tile_index])"
   ]
  },
  {
   "cell_type": "markdown",
   "id": "1c43c01a-a69a-48ad-a82b-da3bf24670ba",
   "metadata": {},
   "source": [
    "## Recompute global values\n",
    "\n",
    "The global values are the primary classification and number of spectra."
   ]
  },
  {
   "cell_type": "code",
   "execution_count": null,
   "id": "8c129caa-b3d7-4b61-8848-2c6ac5c85460",
   "metadata": {},
   "outputs": [],
   "source": [
    "t.update_primary()"
   ]
  },
  {
   "cell_type": "markdown",
   "id": "7397fd17-6ccc-4f06-ba39-d57411287198",
   "metadata": {},
   "source": [
    "## q3c Update\n",
    "\n",
    "`tile`, `exposure`, `photometry`, `fiberassign`"
   ]
  },
  {
   "cell_type": "code",
   "execution_count": null,
   "id": "4283d716-f619-41a8-a6a1-d47e9d4af86e",
   "metadata": {
    "tags": []
   },
   "outputs": [],
   "source": [
    "t.update_q3c()"
   ]
  },
  {
   "cell_type": "code",
   "execution_count": null,
   "id": "b5db94c2-d3f4-41ab-a05a-f24c91f202b6",
   "metadata": {
    "tags": []
   },
   "outputs": [],
   "source": [
    "db.dbSession.close()\n",
    "db.engine.dispose()"
   ]
  },
  {
   "cell_type": "code",
   "execution_count": null,
   "id": "88edba00-248e-4fe7-972a-b831a9ec1633",
   "metadata": {},
   "outputs": [],
   "source": []
  }
 ],
 "metadata": {
  "kernelspec": {
   "display_name": "DESI custom",
   "language": "python",
   "name": "desi-custom"
  },
  "language_info": {
   "codemirror_mode": {
    "name": "ipython",
    "version": 3
   },
   "file_extension": ".py",
   "mimetype": "text/x-python",
   "name": "python",
   "nbconvert_exporter": "python",
   "pygments_lexer": "ipython3",
   "version": "3.10.14"
  }
 },
 "nbformat": 4,
 "nbformat_minor": 5
}
