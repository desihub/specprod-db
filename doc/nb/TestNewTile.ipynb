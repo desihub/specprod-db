{
 "cells": [
  {
   "cell_type": "markdown",
   "id": "9de1d646-ec64-434b-b59e-f0452dac49e7",
   "metadata": {},
   "source": [
    "# Test Load Daily\n",
    "\n",
    "Start by loading one \"new\" tile.\n",
    "\n",
    "## Imports"
   ]
  },
  {
   "cell_type": "code",
   "execution_count": 1,
   "id": "1bd0d356-77e9-4d62-a47f-b2f9ff00e898",
   "metadata": {
    "tags": []
   },
   "outputs": [],
   "source": [
    "import os\n",
    "from glob import glob\n",
    "from pytz import utc\n",
    "import numpy as np\n",
    "from astropy import __version__ as astropy_version\n",
    "from astropy.io import fits\n",
    "from astropy.table import Table, Column, join\n",
    "from astropy.time import Time\n",
    "from sqlalchemy import __version__ as sqlalchemy_version\n",
    "from desiutil import __version__ as desiutil_version\n",
    "from desiutil.names import radec_to_desiname\n",
    "from desiutil.log import get_logger, DEBUG\n",
    "from desispec.io.photo import gather_tractorphot, gather_targetphot\n",
    "from desispec.io.meta import findfile\n",
    "from desispec.scripts.zcatalog import read_redrock\n",
    "from desispec.zcatalog import find_primary_spectra\n",
    "from specprodDB import __version__ as specprodDB_version\n",
    "import specprodDB.load as db\n",
    "from specprodDB.util import cameraid, spgrpid, surveyid, no_sky"
   ]
  },
  {
   "cell_type": "markdown",
   "id": "1ef90017-8c83-4e3f-8c72-2b0f3e9eff2f",
   "metadata": {},
   "source": [
    "## Initial Values"
   ]
  },
  {
   "cell_type": "code",
   "execution_count": 2,
   "id": "2c1f6604-55f5-4f47-be69-ea9689544157",
   "metadata": {
    "tags": []
   },
   "outputs": [],
   "source": [
    "specprod = os.environ['SPECPROD']\n",
    "# tile_id, tile_survey, tile_program = 3867, 'main', 'dark'\n",
    "# tile_id, tile_survey, tile_program = 5053, 'main', 'dark'\n",
    "# tile_id, tile_survey, tile_program = 5052, 'main', 'dark'\n",
    "# tile_id, tile_survey, tile_program = 5074, 'main', 'dark'\n",
    "# tile_id, tile_survey, tile_program = 1685, 'main', 'dark'\n",
    "# tile_id, tile_survey, tile_program = 40069, 'main', 'backup'\n",
    "tile_id, tile_survey, tile_program = 80950, 'sv1', 'backup'\n",
    "overwrite = False"
   ]
  },
  {
   "cell_type": "markdown",
   "id": "b2bef162-8ff6-4651-bccf-8df444854fd3",
   "metadata": {},
   "source": [
    "## Initialize Database"
   ]
  },
  {
   "cell_type": "code",
   "execution_count": 3,
   "id": "e782a524-9168-4dcf-bdbf-01b05193382c",
   "metadata": {
    "tags": []
   },
   "outputs": [],
   "source": [
    "db.log = get_logger(DEBUG)\n",
    "postgresql = db.setup_db(schema=specprod, hostname='db-loadbalancer.bweaver.development.svc.spin.nersc.org', username='desi_admin', overwrite=overwrite)\n",
    "if overwrite:\n",
    "    versions = [db.Version(package='specprod-db', version=specprodDB_version),\n",
    "                db.Version(package='lsdr9-photometry', version='main'), # Maybe 'desispec' to mean computed rather than fetched from files?\n",
    "                db.Version(package='redshift', version='daily/v0'),\n",
    "                db.Version(package='tiles', version='trunk'),\n",
    "                db.Version(package='specprod', version=specprod),\n",
    "                db.Version(package='numpy', version=np.__version__),\n",
    "                db.Version(package='astropy', version=astropy_version),\n",
    "                db.Version(package='sqlalchemy', version=sqlalchemy_version),\n",
    "                db.Version(package='desiutil', version=desiutil_version)]\n",
    "    db.dbSession.add_all(versions)\n",
    "    db.dbSession.commit()"
   ]
  },
  {
   "cell_type": "markdown",
   "id": "782f6383-6c82-4e2e-afa0-0de132879d66",
   "metadata": {},
   "source": [
    "## Read tiles file"
   ]
  },
  {
   "cell_type": "code",
   "execution_count": 4,
   "id": "065e77f2-cd38-4bf7-b9c1-319bc7707dd1",
   "metadata": {
    "tags": []
   },
   "outputs": [],
   "source": [
    "# tiles_file = findfile('tiles', readonly=True).replace('.fits', '.csv')\n",
    "tiles_file = os.path.join(os.environ['SCRATCH'], 'tiles-daily-patched-with-jura.csv')\n",
    "tiles_table = Table.read(tiles_file, format='ascii.csv')\n",
    "# tiles_table"
   ]
  },
  {
   "cell_type": "code",
   "execution_count": 5,
   "id": "5322bcbd-8fcf-46a1-96be-2de812f7ea08",
   "metadata": {
    "tags": []
   },
   "outputs": [
    {
     "data": {
      "text/html": [
       "<div><i>Table length=1</i>\n",
       "<table id=\"table140672381469168\" class=\"table-striped table-bordered table-condensed\">\n",
       "<thead><tr><th>TILEID</th><th>SURVEY</th><th>PROGRAM</th><th>FAPRGRM</th><th>FAFLAVOR</th><th>NEXP</th><th>EXPTIME</th><th>TILERA</th><th>TILEDEC</th><th>EFFTIME_ETC</th><th>EFFTIME_SPEC</th><th>EFFTIME_GFA</th><th>GOALTIME</th><th>OBSSTATUS</th><th>LRG_EFFTIME_DARK</th><th>ELG_EFFTIME_DARK</th><th>BGS_EFFTIME_BRIGHT</th><th>LYA_EFFTIME_DARK</th><th>GOALTYPE</th><th>MINTFRAC</th><th>LASTNIGHT</th></tr></thead>\n",
       "<thead><tr><th>int64</th><th>str7</th><th>str6</th><th>str16</th><th>str19</th><th>int64</th><th>float64</th><th>float64</th><th>float64</th><th>float64</th><th>float64</th><th>float64</th><th>float64</th><th>str8</th><th>float64</th><th>float64</th><th>float64</th><th>float64</th><th>str7</th><th>float64</th><th>int64</th></tr></thead>\n",
       "<tr><td>80950</td><td>sv1</td><td>backup</td><td>backup1</td><td>sv1backup1</td><td>1</td><td>1820.1</td><td>180.0</td><td>70.0</td><td>0.0</td><td>349.7</td><td>320.0</td><td>30.0</td><td>obsstart</td><td>283.4</td><td>349.7</td><td>278.7</td><td>176.7</td><td>backup</td><td>0.9</td><td>20210422</td></tr>\n",
       "</table></div>"
      ],
      "text/plain": [
       "<Table length=1>\n",
       "TILEID SURVEY PROGRAM FAPRGRM ... LYA_EFFTIME_DARK GOALTYPE MINTFRAC LASTNIGHT\n",
       "int64   str7    str6   str16  ...     float64        str7   float64    int64  \n",
       "------ ------ ------- ------- ... ---------------- -------- -------- ---------\n",
       " 80950    sv1  backup backup1 ...            176.7   backup      0.9  20210422"
      ]
     },
     "execution_count": 5,
     "metadata": {},
     "output_type": "execute_result"
    }
   ],
   "source": [
    "tiles_table[tiles_table['TILEID'] == tile_id]"
   ]
  },
  {
   "cell_type": "code",
   "execution_count": 6,
   "id": "0e3c5449-449d-4474-b570-7db3aa50d87d",
   "metadata": {
    "tags": []
   },
   "outputs": [],
   "source": [
    "row_index = np.where(tiles_table['TILEID'] == tile_id)[0]\n",
    "assert (tiles_table[row_index]['LASTNIGHT'] >= 20201214).all()\n",
    "try:\n",
    "    missing_program = tiles_table[row_index[0]]['PROGRAM'].mask\n",
    "except AttributeError:\n",
    "    missing_program = False\n",
    "if missing_program:\n",
    "    print(\"WARNING: Replacing missing value for 'PROGRAM'!\")\n",
    "    tiles_table['PROGRAM'][row_index] = tile_program\n",
    "    tiles_table['PROGRAM'][row_index].mask = False\n",
    "load_tiles = db.Tile.convert(tiles_table, row_index=row_index)\n",
    "assert len(load_tiles) == 1\n",
    "new_tile = load_tiles[0]"
   ]
  },
  {
   "cell_type": "code",
   "execution_count": 7,
   "id": "c3376814-f5c1-472e-83b8-76f6fae6df8a",
   "metadata": {
    "tags": []
   },
   "outputs": [],
   "source": [
    "# db.dbSession.rollback()\n",
    "db.dbSession.add_all(load_tiles)\n",
    "db.dbSession.commit()"
   ]
  },
  {
   "cell_type": "markdown",
   "id": "7648c676-f797-430b-91bc-1be217cf6f6e",
   "metadata": {},
   "source": [
    "## Read exposures file\n",
    "\n",
    "The daily exposures file may contain exposures with `EFFTIME_SPEC == 0`. We do not want to load these."
   ]
  },
  {
   "cell_type": "code",
   "execution_count": 8,
   "id": "86c45810-11c1-4010-b429-1480f9d34008",
   "metadata": {
    "tags": []
   },
   "outputs": [
    {
     "data": {
      "text/html": [
       "<div><i>Table length=1</i>\n",
       "<table id=\"table140671248282240\" class=\"table-striped table-bordered table-condensed\">\n",
       "<thead><tr><th>NIGHT</th><th>EXPID</th><th>TILEID</th><th>TILERA</th><th>TILEDEC</th><th>MJD</th><th>SURVEY</th><th>PROGRAM</th><th>FAPRGRM</th><th>FAFLAVOR</th><th>EXPTIME</th><th>EFFTIME_SPEC</th><th>GOALTIME</th><th>GOALTYPE</th><th>MINTFRAC</th><th>AIRMASS</th><th>EBV</th><th>SEEING_ETC</th><th>EFFTIME_ETC</th><th>TSNR2_ELG</th><th>TSNR2_QSO</th><th>TSNR2_LRG</th><th>TSNR2_LYA</th><th>TSNR2_BGS</th><th>TSNR2_GPBDARK</th><th>TSNR2_GPBBRIGHT</th><th>TSNR2_GPBBACKUP</th><th>LRG_EFFTIME_DARK</th><th>ELG_EFFTIME_DARK</th><th>BGS_EFFTIME_BRIGHT</th><th>LYA_EFFTIME_DARK</th><th>GPB_EFFTIME_DARK</th><th>GPB_EFFTIME_BRIGHT</th><th>GPB_EFFTIME_BACKUP</th><th>TRANSPARENCY_GFA</th><th>SEEING_GFA</th><th>FIBER_FRACFLUX_GFA</th><th>FIBER_FRACFLUX_ELG_GFA</th><th>FIBER_FRACFLUX_BGS_GFA</th><th>FIBERFAC_GFA</th><th>FIBERFAC_ELG_GFA</th><th>FIBERFAC_BGS_GFA</th><th>AIRMASS_GFA</th><th>SKY_MAG_AB_GFA</th><th>SKY_MAG_G_SPEC</th><th>SKY_MAG_R_SPEC</th><th>SKY_MAG_Z_SPEC</th><th>EFFTIME_GFA</th><th>EFFTIME_DARK_GFA</th><th>EFFTIME_BRIGHT_GFA</th><th>EFFTIME_BACKUP_GFA</th></tr></thead>\n",
       "<thead><tr><th>int32</th><th>int32</th><th>int32</th><th>float64</th><th>float64</th><th>float64</th><th>bytes7</th><th>bytes6</th><th>bytes19</th><th>bytes19</th><th>float64</th><th>float64</th><th>float64</th><th>bytes7</th><th>float64</th><th>float64</th><th>float64</th><th>float64</th><th>float64</th><th>float64</th><th>float64</th><th>float64</th><th>float64</th><th>float64</th><th>float64</th><th>float64</th><th>float64</th><th>float64</th><th>float64</th><th>float64</th><th>float64</th><th>float64</th><th>float64</th><th>float64</th><th>float64</th><th>float64</th><th>float64</th><th>float64</th><th>float64</th><th>float64</th><th>float64</th><th>float64</th><th>float64</th><th>float64</th><th>float64</th><th>float64</th><th>float64</th><th>float64</th><th>float64</th><th>float64</th><th>float64</th></tr></thead>\n",
       "<tr><td>20210422</td><td>86009</td><td>80950</td><td>180.0</td><td>70.0</td><td>59327.30637428</td><td>sv1</td><td>backup</td><td>backup1</td><td>sv1backup1</td><td>1820.0631103515625</td><td>349.74223480224623</td><td>0.0</td><td>backup</td><td>0.9</td><td>1.3359730243682861</td><td>0.016651306301355362</td><td>0.0</td><td>0.0</td><td>40.667701721191406</td><td>8.79162311553955</td><td>23.32752227783203</td><td>15.450385617040512</td><td>1990.453369140625</td><td>0.0</td><td>0.0</td><td>0.0</td><td>283.44352569811053</td><td>349.74223480224623</td><td>278.6634716796875</td><td>176.74867293683263</td><td>0.0</td><td>0.0</td><td>0.0</td><td>0.9963640063948922</td><td>1.414504738104407</td><td>0.42216596704352016</td><td>0.3219042844043313</td><td>0.15271744880763222</td><td>0.6617699344165768</td><td>0.7025754164711452</td><td>0.7286478535891991</td><td>1.3554805696210628</td><td>19.449657460646147</td><td>19.205123448622775</td><td>19.306335359842933</td><td>18.76489994729587</td><td>320.03049728256417</td><td>213.57355830447153</td><td>271.071070751922</td><td>320.03049728256417</td></tr>\n",
       "</table></div>"
      ],
      "text/plain": [
       "<Table length=1>\n",
       " NIGHT   EXPID TILEID ... EFFTIME_BRIGHT_GFA EFFTIME_BACKUP_GFA\n",
       " int32   int32 int32  ...      float64            float64      \n",
       "-------- ----- ------ ... ------------------ ------------------\n",
       "20210422 86009  80950 ...   271.071070751922 320.03049728256417"
      ]
     },
     "execution_count": 8,
     "metadata": {},
     "output_type": "execute_result"
    }
   ],
   "source": [
    "# exposures_file = findfile('exposures', readonly=True)\n",
    "exposures_file = os.path.join(os.environ['SCRATCH'], 'exposures-daily-patched-with-jura.fits')\n",
    "exposures_table = Table.read(exposures_file, format='fits', hdu='EXPOSURES')\n",
    "frames_table = Table.read(exposures_file, format='fits', hdu='FRAMES')\n",
    "exposures_table[exposures_table['TILEID'] == new_tile.tileid]"
   ]
  },
  {
   "cell_type": "code",
   "execution_count": 9,
   "id": "a8517a3d-0708-4b77-80b9-cab25554580b",
   "metadata": {
    "tags": []
   },
   "outputs": [],
   "source": [
    "row_index = np.where((exposures_table['TILEID'] == new_tile.tileid) & (exposures_table['EFFTIME_SPEC'] > 0))[0]\n",
    "assert len(row_index) > 0\n",
    "load_exposures = db.Exposure.convert(exposures_table, row_index=row_index)\n",
    "# load_exposures"
   ]
  },
  {
   "cell_type": "code",
   "execution_count": 10,
   "id": "269a600d-2346-4300-b71d-a6aa4053b0d9",
   "metadata": {
    "tags": []
   },
   "outputs": [],
   "source": [
    "# db.dbSession.rollback()\n",
    "db.dbSession.add_all(load_exposures)\n",
    "db.dbSession.commit()"
   ]
  },
  {
   "cell_type": "code",
   "execution_count": 11,
   "id": "a0a29506-c503-4845-befe-5b66c84f38ba",
   "metadata": {
    "tags": []
   },
   "outputs": [],
   "source": [
    "load_frames = list()\n",
    "for exposure in load_exposures:\n",
    "    row_index = np.where(frames_table['EXPID'] == exposure.expid)[0]\n",
    "    assert len(row_index) > 0\n",
    "    load_frames += db.Frame.convert(frames_table, row_index=row_index)\n",
    "# load_frames"
   ]
  },
  {
   "cell_type": "code",
   "execution_count": 12,
   "id": "98306e39-48fd-41bc-9161-cbe1e47c28b6",
   "metadata": {
    "tags": []
   },
   "outputs": [],
   "source": [
    "# db.dbSession.rollback()\n",
    "db.dbSession.add_all(load_frames)\n",
    "db.dbSession.commit()"
   ]
  },
  {
   "cell_type": "markdown",
   "id": "e0640411-da3c-4535-a220-55ebbe2485fc",
   "metadata": {
    "tags": []
   },
   "source": [
    "## Load photometry for the tile\n",
    "\n",
    "When tractor photometry is written out by John Moustakas' VAC code, only objects with `brickname != ''` are written.\n",
    "\n",
    "Should filter on TARGETID already loaded before creating the `potential_cat`."
   ]
  },
  {
   "cell_type": "code",
   "execution_count": 13,
   "id": "21fcf3e2-8e39-4f45-89b4-0c8177e06c76",
   "metadata": {
    "tags": []
   },
   "outputs": [],
   "source": [
    "fiberassign_file = findfile('fiberassignsvn', tile=new_tile.tileid, readonly=True)\n",
    "potential_targets_table = Table.read(fiberassign_file, format='fits', hdu='TARGETS')\n",
    "no_sky_rows = no_sky(potential_targets_table)\n",
    "potential_cat = Table()\n",
    "potential_cat['TARGETID'] = potential_targets_table['TARGETID'][no_sky_rows]\n",
    "potential_cat['TILEID'] = new_tile.tileid\n",
    "potential_cat['TARGET_RA'] = potential_targets_table['RA'][no_sky_rows]\n",
    "potential_cat['TARGET_DEC'] = potential_targets_table['DEC'][no_sky_rows]\n",
    "# potential_cat['PETAL_LOC'] = potential_targets_table['PETAL_LOC'][no_sky_rows]\n",
    "potential_cat['SURVEY'] = new_tile.survey\n",
    "potential_cat['PROGRAM'] = new_tile.program\n",
    "# potential_cat"
   ]
  },
  {
   "cell_type": "code",
   "execution_count": 14,
   "id": "ffbae527-c5e1-43b5-b63f-8d34891dc2f8",
   "metadata": {
    "tags": []
   },
   "outputs": [],
   "source": [
    "potential_targetphot = gather_targetphot(potential_cat, racolumn='TARGET_RA', deccolumn='TARGET_DEC')\n",
    "potential_targetphot['SURVEY'] = potential_cat['SURVEY']\n",
    "potential_targetphot['PROGRAM'] = potential_cat['PROGRAM']\n",
    "potential_targetphot['TILEID'] = potential_cat['TILEID']\n",
    "# potential_targetphot['DESINAME'] = radec_to_desiname(potential_targetphot['RA'], potential_targetphot['DEC'])\n",
    "inan = np.logical_or(np.isnan(potential_targetphot['PMRA']), np.isnan(potential_targetphot['PMDEC']))\n",
    "if np.any(inan):\n",
    "    potential_targetphot['PMRA'][inan] = 0.0\n",
    "    potential_targetphot['PMDEC'][inan] = 0.0\n",
    "# potential_targetphot"
   ]
  },
  {
   "cell_type": "code",
   "execution_count": 15,
   "id": "c42e56af-c80b-4964-8463-fd112ea3d8a2",
   "metadata": {
    "tags": []
   },
   "outputs": [],
   "source": [
    "potential_tractorphot = gather_tractorphot(potential_cat, racolumn='TARGET_RA', deccolumn='TARGET_DEC')"
   ]
  },
  {
   "cell_type": "code",
   "execution_count": 16,
   "id": "0b79af74-ea3d-48ec-a43f-3d6bb06a0f4d",
   "metadata": {
    "tags": []
   },
   "outputs": [],
   "source": [
    "assert (np.where(potential_tractorphot['RELEASE'] == 0)[0] == np.where(potential_tractorphot['BRICKNAME'] == '')[0]).all()"
   ]
  },
  {
   "cell_type": "code",
   "execution_count": 17,
   "id": "cc4b58f2-a6fe-4fdf-826e-48699a1451a3",
   "metadata": {
    "tags": []
   },
   "outputs": [],
   "source": [
    "potential_tractorphot_already_loaded = db.dbSession.query(db.Photometry.targetid).filter(db.Photometry.targetid.in_(potential_tractorphot['TARGETID'].tolist())).all()\n",
    "potential_tractorphot_not_already_loaded = np.ones((len(potential_tractorphot),), dtype=bool)\n",
    "for row in potential_tractorphot_already_loaded:\n",
    "    potential_tractorphot_not_already_loaded[potential_tractorphot['TARGETID'] == row[0]] = False"
   ]
  },
  {
   "cell_type": "code",
   "execution_count": 18,
   "id": "8351b494-6faf-4a00-9666-21e285d983c4",
   "metadata": {
    "tags": []
   },
   "outputs": [],
   "source": [
    "row_index = np.where((potential_tractorphot['BRICKNAME'] != '') & potential_tractorphot_not_already_loaded)[0]\n",
    "load_photometry = db.Photometry.convert(potential_tractorphot, row_index=row_index)\n",
    "# load_photometry[:20]"
   ]
  },
  {
   "cell_type": "code",
   "execution_count": 19,
   "id": "f9a638f0-2105-4633-ab27-f7708418044a",
   "metadata": {
    "tags": []
   },
   "outputs": [],
   "source": [
    "if len(load_photometry) > 0:\n",
    "    # db.dbSession.rollback()\n",
    "    db.dbSession.add_all(load_photometry)\n",
    "    db.dbSession.commit()"
   ]
  },
  {
   "cell_type": "markdown",
   "id": "72dc3c40-1926-4191-b22b-cf99e738c2e7",
   "metadata": {},
   "source": [
    "### Load photometry, such as it is, for objects that are not in the tractor catalog"
   ]
  },
  {
   "cell_type": "code",
   "execution_count": 20,
   "id": "43fdb706-136e-4112-9507-48fa5e5d426b",
   "metadata": {
    "tags": []
   },
   "outputs": [],
   "source": [
    "load_rows = np.zeros((len(potential_targetphot),), dtype=bool)\n",
    "if len(load_photometry) > 0:\n",
    "    loaded_targetid = Table()\n",
    "    loaded_targetid['TARGETID'] = np.array([r.targetid for r in load_photometry])\n",
    "    loaded_targetid['LS_ID'] = np.array([r.ls_id for r in load_photometry])\n",
    "    j = join(potential_targetphot['TARGETID', 'RELEASE'], loaded_targetid, join_type='left', keys='TARGETID')\n",
    "    try:\n",
    "        load_targetids = j['TARGETID'][j['LS_ID'].mask]\n",
    "    except AttributeError:\n",
    "        #\n",
    "        # This means *every* TARGETID is already loaded.\n",
    "        #\n",
    "        pass\n",
    "    else:\n",
    "        unique_targetid, targetid_index = np.unique(potential_targetphot['TARGETID'].data, return_index=True)\n",
    "        for t in load_targetids:\n",
    "            load_rows[targetid_index[unique_targetid == t]] = True\n",
    "# load_rows"
   ]
  },
  {
   "cell_type": "code",
   "execution_count": 21,
   "id": "1af14e87-0453-41ae-b945-45484f561336",
   "metadata": {
    "tags": []
   },
   "outputs": [],
   "source": [
    "potential_targetphot_already_loaded = db.dbSession.query(db.Photometry.targetid).filter(db.Photometry.targetid.in_(potential_targetphot[load_rows]['TARGETID'].tolist())).all()\n",
    "potential_targetphot_not_already_loaded = np.ones((len(potential_targetphot),), dtype=bool)\n",
    "for row in potential_targetphot_already_loaded:\n",
    "    potential_targetphot_not_already_loaded[potential_targetphot['TARGETID'] == row[0]] = False"
   ]
  },
  {
   "cell_type": "code",
   "execution_count": 22,
   "id": "683b892d-999f-4793-a0aa-59efd17bbc4b",
   "metadata": {
    "tags": []
   },
   "outputs": [],
   "source": [
    "row_index = np.where(load_rows & potential_targetphot_not_already_loaded)[0]\n",
    "load_targetphot = db.Photometry.convert(potential_targetphot, row_index=row_index)\n",
    "# load_targetphot[:20]"
   ]
  },
  {
   "cell_type": "code",
   "execution_count": 23,
   "id": "ce976be2-9777-45bf-a308-510b494484ca",
   "metadata": {
    "tags": []
   },
   "outputs": [],
   "source": [
    "if len(load_targetphot) > 0:\n",
    "    # db.dbSession.rollback()\n",
    "    db.dbSession.add_all(load_targetphot)\n",
    "    db.dbSession.commit()"
   ]
  },
  {
   "cell_type": "code",
   "execution_count": 24,
   "id": "81e78286-da02-4208-b2e3-ca434d643020",
   "metadata": {
    "tags": []
   },
   "outputs": [],
   "source": [
    "load_target = db.Target.convert(potential_targetphot, new_tile.survey, new_tile.tileid)\n",
    "# load_target[:20]"
   ]
  },
  {
   "cell_type": "code",
   "execution_count": 25,
   "id": "8ea2f422-3ecd-4909-bb02-9fba00bd1c8f",
   "metadata": {
    "tags": []
   },
   "outputs": [],
   "source": [
    "# db.dbSession.rollback()\n",
    "db.dbSession.add_all(load_target)\n",
    "db.dbSession.commit()"
   ]
  },
  {
   "cell_type": "markdown",
   "id": "84d6804d-c458-4302-950e-d0c1b2a34a8c",
   "metadata": {},
   "source": [
    "## Load tile/cumulative redshifts\n",
    "\n",
    "Need a way to compute \"best\" spectra as new tiles are added. There are a lot of columns that come from other sources here, so need to track these down."
   ]
  },
  {
   "cell_type": "code",
   "execution_count": 26,
   "id": "60df93e6-357a-43df-80b9-4eb16e278f1f",
   "metadata": {
    "tags": []
   },
   "outputs": [],
   "source": [
    "redrock_files = list()\n",
    "for spectrograph in range(10):\n",
    "    redrock_file, redrock_exists = findfile('redrock_tile', groupname='cumulative', tile=new_tile.tileid, spectrograph=spectrograph, night=new_tile.lastnight, readonly=True, return_exists=True)\n",
    "    if redrock_exists:\n",
    "        redrock_files.append(redrock_file)"
   ]
  },
  {
   "cell_type": "code",
   "execution_count": 27,
   "id": "185daa89-5e62-4b7d-b35b-74fc0be4d576",
   "metadata": {
    "tags": []
   },
   "outputs": [
    {
     "name": "stdout",
     "output_type": "stream",
     "text": [
      "INFO:zcatalog.py:114:read_redrock: Reading /dvs_ro/cfs/cdirs/desi/spectro/redux/jura/tiles/cumulative/80950/20210422/redrock-0-80950-thru20210422.fits\n",
      "INFO:zcatalog.py:128:read_redrock: Recoadding fibermap from spectra-0-80950-thru20210422.fits.gz\n",
      "INFO:zcatalog.py:114:read_redrock: Reading /dvs_ro/cfs/cdirs/desi/spectro/redux/jura/tiles/cumulative/80950/20210422/redrock-1-80950-thru20210422.fits\n",
      "INFO:zcatalog.py:128:read_redrock: Recoadding fibermap from spectra-1-80950-thru20210422.fits.gz\n",
      "INFO:zcatalog.py:114:read_redrock: Reading /dvs_ro/cfs/cdirs/desi/spectro/redux/jura/tiles/cumulative/80950/20210422/redrock-2-80950-thru20210422.fits\n",
      "INFO:zcatalog.py:128:read_redrock: Recoadding fibermap from spectra-2-80950-thru20210422.fits.gz\n",
      "INFO:zcatalog.py:114:read_redrock: Reading /dvs_ro/cfs/cdirs/desi/spectro/redux/jura/tiles/cumulative/80950/20210422/redrock-3-80950-thru20210422.fits\n",
      "INFO:zcatalog.py:128:read_redrock: Recoadding fibermap from spectra-3-80950-thru20210422.fits.gz\n",
      "INFO:zcatalog.py:114:read_redrock: Reading /dvs_ro/cfs/cdirs/desi/spectro/redux/jura/tiles/cumulative/80950/20210422/redrock-4-80950-thru20210422.fits\n",
      "INFO:zcatalog.py:128:read_redrock: Recoadding fibermap from spectra-4-80950-thru20210422.fits.gz\n",
      "INFO:zcatalog.py:114:read_redrock: Reading /dvs_ro/cfs/cdirs/desi/spectro/redux/jura/tiles/cumulative/80950/20210422/redrock-5-80950-thru20210422.fits\n",
      "INFO:zcatalog.py:128:read_redrock: Recoadding fibermap from spectra-5-80950-thru20210422.fits.gz\n",
      "INFO:zcatalog.py:114:read_redrock: Reading /dvs_ro/cfs/cdirs/desi/spectro/redux/jura/tiles/cumulative/80950/20210422/redrock-6-80950-thru20210422.fits\n",
      "INFO:zcatalog.py:128:read_redrock: Recoadding fibermap from spectra-6-80950-thru20210422.fits.gz\n",
      "INFO:zcatalog.py:114:read_redrock: Reading /dvs_ro/cfs/cdirs/desi/spectro/redux/jura/tiles/cumulative/80950/20210422/redrock-8-80950-thru20210422.fits\n",
      "INFO:zcatalog.py:128:read_redrock: Recoadding fibermap from spectra-8-80950-thru20210422.fits.gz\n",
      "INFO:zcatalog.py:114:read_redrock: Reading /dvs_ro/cfs/cdirs/desi/spectro/redux/jura/tiles/cumulative/80950/20210422/redrock-9-80950-thru20210422.fits\n",
      "INFO:zcatalog.py:128:read_redrock: Recoadding fibermap from spectra-9-80950-thru20210422.fits.gz\n"
     ]
    }
   ],
   "source": [
    "load_ztile = list()\n",
    "for rr in redrock_files:\n",
    "    redrock_table, expfibermap = read_redrock(rr, group='cumulative', recoadd_fibermap=True, pertile=True)\n",
    "    firstnight = np.zeros(len(redrock_table), dtype=np.int32)\n",
    "    row_index = no_sky(redrock_table)\n",
    "    if len(row_index) > 0:\n",
    "        data_columns = list()\n",
    "        for c in db.Ztile.__table__.columns:\n",
    "            if c.name == 'id':\n",
    "                id0 = spgrpid('cumulative') << 27 | redrock_table['SPGRPVAL'][row_index].base.astype(np.int64)\n",
    "                data_columns.append([(i0 << 64) | i1 for i0, i1 in zip(id0.tolist(), redrock_table['TARGETID'][row_index].tolist())])\n",
    "            elif c.name == 'targetphotid':\n",
    "                id0 = np.array([surveyid(new_tile.survey) << 32 | new_tile.tileid]*len(row_index), dtype=np.int64)\n",
    "                data_columns.append([(i0 << 64) | i1 for i0, i1 in zip(id0.tolist(), redrock_table['TARGETID'][row_index].tolist())])\n",
    "            elif c.name == 'spgrp':\n",
    "                data_columns.append(['cumulative']*len(row_index))\n",
    "            elif c.name == 'desiname':\n",
    "                data_columns.append(radec_to_desiname(redrock_table['TARGET_RA'][row_index], redrock_table['TARGET_DEC'][row_index]).tolist())\n",
    "            elif c.name == 'survey':\n",
    "                data_columns.append([new_tile.survey]*len(row_index))\n",
    "            elif c.name == 'program':\n",
    "                data_columns.append([new_tile.program]*len(row_index))\n",
    "            elif c.name == 'firstnight':\n",
    "                for tilefm in Table(expfibermap[['TILEID', 'NIGHT']]).group_by('TILEID').groups:\n",
    "                    tileid = tilefm['TILEID'][0]\n",
    "                    iitile = redrock_table['TILEID'] == new_tile.tileid\n",
    "                    firstnight[iitile] = np.min(tilefm['NIGHT'])\n",
    "                assert (firstnight != 0).all()\n",
    "                data_columns.append(firstnight[row_index].tolist())\n",
    "            elif c.name in ('sv_nspec', 'main_nspec', 'zcat_nspec'):\n",
    "                data_columns.append([0]*len(row_index))\n",
    "            elif c.name in ('sv_primary', 'main_primary', 'zcat_primary'):\n",
    "                data_columns.append([False]*len(row_index))\n",
    "            # elif c.name in ('min_mjd', 'mean_mjd', 'max_mjd'):\n",
    "            #     data_columns.append([0.0]*len(row_index))\n",
    "            elif c.name.startswith('coeff_'):\n",
    "                coeff_index = int(c.name.split('_')[1])\n",
    "                data_columns.append(redrock_table[row_index]['COEFF'][:, coeff_index].tolist())\n",
    "            else:\n",
    "                data_columns.append(redrock_table[row_index][c.name.upper()].tolist())\n",
    "    data_rows = list(zip(*data_columns))\n",
    "    load_ztile += [db.Ztile(**(dict([(c.name, d) for c, d in zip(db.Ztile.__table__.columns, row)]))) for row in data_rows]"
   ]
  },
  {
   "cell_type": "code",
   "execution_count": 28,
   "id": "e321af6c-3513-4060-a899-0f2470a87277",
   "metadata": {
    "tags": []
   },
   "outputs": [],
   "source": [
    "# db.dbSession.rollback()\n",
    "db.dbSession.add_all(load_ztile)\n",
    "db.dbSession.commit()"
   ]
  },
  {
   "cell_type": "markdown",
   "id": "97fa4c47-072f-47be-bc01-6d42a9d7aa3e",
   "metadata": {},
   "source": [
    "## Load fiberassign and potential"
   ]
  },
  {
   "cell_type": "code",
   "execution_count": 29,
   "id": "8035e4c1-1373-4695-a341-e2a1fa369a30",
   "metadata": {
    "tags": []
   },
   "outputs": [],
   "source": [
    "fiberassign_table = Table.read(fiberassign_file, format='fits', hdu='FIBERASSIGN')\n",
    "potential_table = Table.read(fiberassign_file, format='fits', hdu='POTENTIAL_ASSIGNMENTS')"
   ]
  },
  {
   "cell_type": "code",
   "execution_count": 30,
   "id": "9a4f22aa-172a-4c7c-8eba-3b4b7842817a",
   "metadata": {
    "tags": []
   },
   "outputs": [],
   "source": [
    "row_index = no_sky(fiberassign_table)\n",
    "load_fiberassign = db.Fiberassign.convert(fiberassign_table, new_tile.tileid, row_index=row_index)\n",
    "# load_fiberassign"
   ]
  },
  {
   "cell_type": "code",
   "execution_count": 31,
   "id": "c45e3ea7-88a3-47b3-abc8-c3c42da391be",
   "metadata": {
    "tags": []
   },
   "outputs": [],
   "source": [
    "# db.dbSession.rollback()\n",
    "db.dbSession.add_all(load_fiberassign)\n",
    "db.dbSession.commit()"
   ]
  },
  {
   "cell_type": "code",
   "execution_count": 32,
   "id": "5880cdf7-2031-4ff6-b1ce-ed12c5a8491e",
   "metadata": {
    "tags": []
   },
   "outputs": [],
   "source": [
    "row_index = no_sky(potential_table)\n",
    "load_potential = db.Potential.convert(potential_table, new_tile.tileid, row_index=row_index)\n",
    "# load_potential"
   ]
  },
  {
   "cell_type": "code",
   "execution_count": 33,
   "id": "f4d16137-6926-40aa-b1c5-d8135fd1f697",
   "metadata": {
    "tags": []
   },
   "outputs": [],
   "source": [
    "# db.dbSession.rollback()\n",
    "db.dbSession.add_all(load_potential)\n",
    "db.dbSession.commit()"
   ]
  },
  {
   "cell_type": "markdown",
   "id": "1c43c01a-a69a-48ad-a82b-da3bf24670ba",
   "metadata": {},
   "source": [
    "## Recompute global values\n",
    "\n",
    "The global values are the primary classification and number of spectra."
   ]
  },
  {
   "cell_type": "code",
   "execution_count": 34,
   "id": "5dece185-0f17-47a3-a086-f2794c8ad567",
   "metadata": {
    "tags": []
   },
   "outputs": [],
   "source": [
    "zall_tilecumulative = db.dbSession.query(db.Ztile).all()\n",
    "zall_table = Table(list(zip(*[(z.targetid, z.zwarn, z.tsnr2_lrg) for z in zall_tilecumulative])), names=('TARGETID', 'ZWARN', 'TSNR2_LRG'))\n",
    "nspec, primary = find_primary_spectra(zall_table)\n",
    "zcat_nspec, zcat_primary = nspec.tolist(), primary.tolist()\n",
    "for k, z in enumerate(zall_tilecumulative):\n",
    "    z.zcat_nspec = zcat_nspec[k]\n",
    "    z.zcat_primary = zcat_primary[k]\n",
    "db.dbSession.commit()"
   ]
  },
  {
   "cell_type": "code",
   "execution_count": 35,
   "id": "22c9eff2-3681-414e-8f2f-a5bfd55e68aa",
   "metadata": {
    "tags": []
   },
   "outputs": [],
   "source": [
    "sv_tilecumulative = db.dbSession.query(db.Ztile).filter(db.Ztile.survey.in_(('sv1', 'sv2', 'sv3'))).all()\n",
    "if len(sv_tilecumulative) > 0:\n",
    "    sv_table = Table(list(zip(*[(z.targetid, z.zwarn, z.tsnr2_lrg) for z in sv_tilecumulative])), names=('TARGETID', 'ZWARN', 'TSNR2_LRG'))\n",
    "    nspec, primary = find_primary_spectra(sv_table)\n",
    "    sv_nspec, sv_primary = nspec.tolist(), primary.tolist()\n",
    "    for k, z in enumerate(sv_tilecumulative):\n",
    "        z.sv_nspec = sv_nspec[k]\n",
    "        z.sv_primary = sv_primary[k]\n",
    "    db.dbSession.commit()"
   ]
  },
  {
   "cell_type": "code",
   "execution_count": 36,
   "id": "6781ea66-4dc3-4616-94c6-32c1d81fc1f6",
   "metadata": {
    "tags": []
   },
   "outputs": [],
   "source": [
    "main_tilecumulative = db.dbSession.query(db.Ztile).filter(db.Ztile.survey.in_(('main', ))).all()\n",
    "if len(main_tilecumulative) > 0:\n",
    "    main_table = Table(list(zip(*[(z.targetid, z.zwarn, z.tsnr2_lrg) for z in main_tilecumulative])), names=('TARGETID', 'ZWARN', 'TSNR2_LRG'))\n",
    "    nspec, primary = find_primary_spectra(main_table)\n",
    "    main_nspec, main_primary = nspec.tolist(), primary.tolist()\n",
    "    for k, z in enumerate(main_tilecumulative):\n",
    "        z.main_nspec = main_nspec[k]\n",
    "        z.main_primary = main_primary[k]\n",
    "    db.dbSession.commit()"
   ]
  },
  {
   "cell_type": "markdown",
   "id": "7397fd17-6ccc-4f06-ba39-d57411287198",
   "metadata": {},
   "source": [
    "## q3c Update\n",
    "\n",
    "`tile`, `exposure`, `photometry`, `fiberassign`"
   ]
  },
  {
   "cell_type": "code",
   "execution_count": 37,
   "id": "4283d716-f619-41a8-a6a1-d47e9d4af86e",
   "metadata": {
    "tags": []
   },
   "outputs": [
    {
     "name": "stdout",
     "output_type": "stream",
     "text": [
      "INFO:load.py:1417:q3c_index: Creating q3c index on jura.tile.\n",
      "INFO:load.py:1419:q3c_index: Finished q3c index on jura.tile.\n",
      "INFO:load.py:1417:q3c_index: Creating q3c index on jura.exposure.\n",
      "INFO:load.py:1419:q3c_index: Finished q3c index on jura.exposure.\n",
      "INFO:load.py:1417:q3c_index: Creating q3c index on jura.photometry.\n",
      "INFO:load.py:1419:q3c_index: Finished q3c index on jura.photometry.\n",
      "INFO:load.py:1417:q3c_index: Creating q3c index on jura.fiberassign.\n",
      "INFO:load.py:1419:q3c_index: Finished q3c index on jura.fiberassign.\n"
     ]
    }
   ],
   "source": [
    "q3c_updates = {'tile': 'tilera', 'exposure': 'tilera', 'photometry': 'ra', 'fiberassign': 'target_ra'}\n",
    "for table in q3c_updates:\n",
    "    db.q3c_index(table, ra=q3c_updates[table])"
   ]
  },
  {
   "cell_type": "code",
   "execution_count": null,
   "id": "b5db94c2-d3f4-41ab-a05a-f24c91f202b6",
   "metadata": {},
   "outputs": [],
   "source": []
  }
 ],
 "metadata": {
  "kernelspec": {
   "display_name": "DESI custom",
   "language": "python",
   "name": "desi-custom"
  },
  "language_info": {
   "codemirror_mode": {
    "name": "ipython",
    "version": 3
   },
   "file_extension": ".py",
   "mimetype": "text/x-python",
   "name": "python",
   "nbconvert_exporter": "python",
   "pygments_lexer": "ipython3",
   "version": "3.10.14"
  }
 },
 "nbformat": 4,
 "nbformat_minor": 5
}
