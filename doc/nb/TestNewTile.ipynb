{
 "cells": [
  {
   "cell_type": "markdown",
   "id": "9de1d646-ec64-434b-b59e-f0452dac49e7",
   "metadata": {},
   "source": [
    "# Test Load Daily\n",
    "\n",
    "Start by loading one \"new\" tile.\n",
    "\n",
    "## Imports"
   ]
  },
  {
   "cell_type": "code",
   "execution_count": 1,
   "id": "1bd0d356-77e9-4d62-a47f-b2f9ff00e898",
   "metadata": {
    "tags": []
   },
   "outputs": [],
   "source": [
    "import os\n",
    "import numpy as np\n",
    "from astropy.io import fits\n",
    "from astropy.table import Table\n",
    "from sqlalchemy.exc import IntegrityError\n",
    "from desiutil.log import get_logger, DEBUG\n",
    "from desispec.io.meta import findfile\n",
    "import specprodDB.load as db\n",
    "import specprodDB.tile as t"
   ]
  },
  {
   "cell_type": "markdown",
   "id": "1ef90017-8c83-4e3f-8c72-2b0f3e9eff2f",
   "metadata": {},
   "source": [
    "## Initial Values"
   ]
  },
  {
   "cell_type": "code",
   "execution_count": 2,
   "id": "2c1f6604-55f5-4f47-be69-ea9689544157",
   "metadata": {
    "tags": []
   },
   "outputs": [],
   "source": [
    "specprod = os.environ['SPECPROD']\n",
    "# tile_id, tile_survey, tile_program = 3867, 'main', 'dark'\n",
    "# tile_id, tile_survey, tile_program = 5053, 'main', 'dark'\n",
    "# tile_id, tile_survey, tile_program = 5052, 'main', 'dark'\n",
    "# tile_id, tile_survey, tile_program = 5074, 'main', 'dark'\n",
    "# tile_id, tile_survey, tile_program = 1685, 'main', 'dark'\n",
    "# tile_id, tile_survey, tile_program = 40069, 'main', 'backup'\n",
    "# tile_id, tile_survey, tile_program = 80950, 'sv1', 'backup'\n",
    "overwrite = True"
   ]
  },
  {
   "cell_type": "markdown",
   "id": "b2bef162-8ff6-4651-bccf-8df444854fd3",
   "metadata": {},
   "source": [
    "## Initialize Database"
   ]
  },
  {
   "cell_type": "code",
   "execution_count": 3,
   "id": "e782a524-9168-4dcf-bdbf-01b05193382c",
   "metadata": {
    "tags": []
   },
   "outputs": [
    {
     "name": "stdout",
     "output_type": "stream",
     "text": [
      "INFO:load.py:1794:setup_db: Begin creating tables.\n",
      "INFO:load.py:1797:setup_db: Finished creating tables.\n",
      "INFO:load.py:1540:load_versions: Loading version metadata.\n",
      "INFO:load.py:1551:load_versions: Completed loading version metadata.\n"
     ]
    }
   ],
   "source": [
    "db.log = get_logger(DEBUG)\n",
    "postgresql = db.setup_db(schema=specprod, hostname='db-loadbalancer.bweaver.development.svc.spin.nersc.org', username='desi_admin', overwrite=overwrite)\n",
    "if overwrite:\n",
    "    db.load_versions('computed', 'daily/v0', 'daily', specprod, 'main')"
   ]
  },
  {
   "cell_type": "markdown",
   "id": "782f6383-6c82-4e2e-afa0-0de132879d66",
   "metadata": {},
   "source": [
    "## Read tiles file"
   ]
  },
  {
   "cell_type": "code",
   "execution_count": 4,
   "id": "065e77f2-cd38-4bf7-b9c1-319bc7707dd1",
   "metadata": {
    "tags": []
   },
   "outputs": [],
   "source": [
    "# tiles_file = findfile('tiles', readonly=True).replace('.fits', '.csv')\n",
    "tiles_file = os.path.join(os.environ['DESI_ROOT'], 'users', os.environ['USER'], 'tiles-daily-patched-with-jura.csv')\n",
    "tiles_table = Table.read(tiles_file, format='ascii.csv')\n",
    "# tiles_table"
   ]
  },
  {
   "cell_type": "code",
   "execution_count": 9,
   "id": "5322bcbd-8fcf-46a1-96be-2de812f7ea08",
   "metadata": {
    "tags": []
   },
   "outputs": [
    {
     "data": {
      "text/html": [
       "<div><i>Table length=16</i>\n",
       "<table id=\"table140003088653264\" class=\"table-striped table-bordered table-condensed\">\n",
       "<thead><tr><th>TILEID</th><th>SURVEY</th><th>PROGRAM</th><th>FAPRGRM</th><th>FAFLAVOR</th><th>NEXP</th><th>EXPTIME</th><th>TILERA</th><th>TILEDEC</th><th>EFFTIME_ETC</th><th>EFFTIME_SPEC</th><th>EFFTIME_GFA</th><th>GOALTIME</th><th>OBSSTATUS</th><th>LRG_EFFTIME_DARK</th><th>ELG_EFFTIME_DARK</th><th>BGS_EFFTIME_BRIGHT</th><th>LYA_EFFTIME_DARK</th><th>GOALTYPE</th><th>MINTFRAC</th><th>LASTNIGHT</th></tr></thead>\n",
       "<thead><tr><th>int64</th><th>str7</th><th>str6</th><th>str16</th><th>str19</th><th>int64</th><th>float64</th><th>float64</th><th>float64</th><th>float64</th><th>float64</th><th>float64</th><th>float64</th><th>str8</th><th>float64</th><th>float64</th><th>float64</th><th>float64</th><th>str7</th><th>float64</th><th>int64</th></tr></thead>\n",
       "<tr><td>80713</td><td>sv1</td><td>--</td><td>m31</td><td>sv1m31</td><td>3</td><td>2700.2</td><td>10.17</td><td>41.38</td><td>0.0</td><td>758.6</td><td>771.8</td><td>1000.0</td><td>obsstart</td><td>727.8</td><td>758.6</td><td>789.8</td><td>645.0</td><td>unknown</td><td>0.9</td><td>20210110</td></tr>\n",
       "<tr><td>80715</td><td>sv1</td><td>--</td><td>m31</td><td>sv1m31</td><td>3</td><td>2700.1</td><td>10.17</td><td>41.38</td><td>0.0</td><td>1906.8</td><td>1827.2</td><td>1000.0</td><td>obsend</td><td>1914.5</td><td>1906.8</td><td>2150.1</td><td>2216.6</td><td>unknown</td><td>0.9</td><td>20210115</td></tr>\n",
       "<tr><td>80769</td><td>unknown</td><td>--</td><td>dithfocus</td><td>dithfocus</td><td>7</td><td>920.3</td><td>111.64</td><td>30.0</td><td>0.0</td><td>1.2</td><td>0.0</td><td>1000.0</td><td>obsstart</td><td>1.1</td><td>1.2</td><td>1.2</td><td>0.9</td><td>unknown</td><td>0.9</td><td>20210219</td></tr>\n",
       "<tr><td>80816</td><td>cmx</td><td>--</td><td>dithprec</td><td>dithprec</td><td>3</td><td>540.2</td><td>99.0</td><td>66.0</td><td>0.0</td><td>14.1</td><td>45.2</td><td>1000.0</td><td>obsstart</td><td>11.4</td><td>14.1</td><td>11.6</td><td>6.8</td><td>unknown</td><td>0.9</td><td>20210223</td></tr>\n",
       "<tr><td>80916</td><td>unknown</td><td>--</td><td>dithfocus</td><td>dithfocus</td><td>4</td><td>740.2</td><td>160.0</td><td>50.0</td><td>0.0</td><td>63.6</td><td>68.8</td><td>1000.0</td><td>obsstart</td><td>59.7</td><td>63.6</td><td>66.5</td><td>67.5</td><td>unknown</td><td>0.9</td><td>20210422</td></tr>\n",
       "<tr><td>82026</td><td>unknown</td><td>--</td><td>dithprec</td><td>dithprec</td><td>1</td><td>200.1</td><td>251.2</td><td>50.4</td><td>0.0</td><td>73.1</td><td>59.4</td><td>1000.0</td><td>obsstart</td><td>67.5</td><td>73.1</td><td>72.7</td><td>64.4</td><td>unknown</td><td>0.9</td><td>20210423</td></tr>\n",
       "<tr><td>82065</td><td>unknown</td><td>--</td><td>dithfocus</td><td>dithfocus</td><td>1</td><td>200.1</td><td>220.2</td><td>47.8</td><td>0.0</td><td>24.8</td><td>27.9</td><td>1000.0</td><td>obsstart</td><td>22.4</td><td>24.8</td><td>24.5</td><td>25.4</td><td>unknown</td><td>0.9</td><td>20210423</td></tr>\n",
       "<tr><td>82052</td><td>unknown</td><td>--</td><td>dithfocus</td><td>dithfocus</td><td>1</td><td>200.1</td><td>190.0</td><td>49.5</td><td>0.0</td><td>30.1</td><td>17.3</td><td>1000.0</td><td>obsstart</td><td>25.4</td><td>30.1</td><td>26.1</td><td>14.9</td><td>unknown</td><td>0.9</td><td>20210423</td></tr>\n",
       "<tr><td>81096</td><td>sv2</td><td>--</td><td>dark</td><td>sv2dark</td><td>1</td><td>1220.1</td><td>180.0</td><td>45.0</td><td>0.0</td><td>1193.2</td><td>973.8</td><td>1000.0</td><td>obsend</td><td>1111.7</td><td>1193.2</td><td>1234.4</td><td>1459.6</td><td>dark</td><td>0.9</td><td>20210429</td></tr>\n",
       "<tr><td>82039</td><td>unknown</td><td>--</td><td>dithprec</td><td>dithprec</td><td>3</td><td>580.2</td><td>279.0</td><td>50.0</td><td>0.0</td><td>159.6</td><td>131.6</td><td>1000.0</td><td>obsstart</td><td>149.0</td><td>159.6</td><td>158.6</td><td>105.8</td><td>unknown</td><td>0.9</td><td>20210529</td></tr>\n",
       "<tr><td>2704</td><td>main</td><td>--</td><td>dark</td><td>maindark</td><td>1</td><td>821.0</td><td>222.897</td><td>4.905</td><td>467.1</td><td>524.1</td><td>534.8</td><td>1000.0</td><td>retired</td><td>558.5</td><td>524.1</td><td>559.4</td><td>559.7</td><td>dark</td><td>0.85</td><td>20210627</td></tr>\n",
       "<tr><td>2786</td><td>main</td><td>--</td><td>dark</td><td>maindark</td><td>1</td><td>808.2</td><td>240.394</td><td>9.573</td><td>251.3</td><td>283.9</td><td>260.5</td><td>1000.0</td><td>retired</td><td>273.4</td><td>283.9</td><td>289.1</td><td>254.7</td><td>dark</td><td>0.85</td><td>20210627</td></tr>\n",
       "<tr><td>20307</td><td>main</td><td>--</td><td>bright</td><td>mainbright</td><td>1</td><td>448.3</td><td>346.874</td><td>30.797</td><td>62.8</td><td>59.7</td><td>71.8</td><td>180.0</td><td>retired</td><td>47.2</td><td>49.8</td><td>59.7</td><td>72.1</td><td>bright</td><td>0.85</td><td>20210707</td></tr>\n",
       "<tr><td>21273</td><td>main</td><td>--</td><td>bright</td><td>mainbright</td><td>1</td><td>534.4</td><td>344.455</td><td>2.172</td><td>113.1</td><td>132.8</td><td>149.9</td><td>180.0</td><td>retired</td><td>0.0</td><td>133.5</td><td>132.8</td><td>79.2</td><td>bright</td><td>0.85</td><td>20210708</td></tr>\n",
       "<tr><td>1825</td><td>main</td><td>--</td><td>dark</td><td>maindark</td><td>1</td><td>770.2</td><td>329.126</td><td>1.365</td><td>566.0</td><td>547.0</td><td>601.3</td><td>1000.0</td><td>retired</td><td>0.0</td><td>547.0</td><td>595.5</td><td>597.2</td><td>dark</td><td>0.85</td><td>20210708</td></tr>\n",
       "<tr><td>82248</td><td>cmx</td><td>--</td><td>posmapping</td><td>cmxposmapping</td><td>5</td><td>938.9</td><td>343.0</td><td>30.0</td><td>0.0</td><td>0.9</td><td>1.0</td><td>1000.0</td><td>obsstart</td><td>0.9</td><td>0.9</td><td>1.1</td><td>1.4</td><td>unknown</td><td>0.9</td><td>20210916</td></tr>\n",
       "</table></div>"
      ],
      "text/plain": [
       "<Table length=16>\n",
       "TILEID  SURVEY PROGRAM  FAPRGRM   ... GOALTYPE MINTFRAC LASTNIGHT\n",
       "int64    str7    str6    str16    ...   str7   float64    int64  \n",
       "------ ------- ------- ---------- ... -------- -------- ---------\n",
       " 80713     sv1      --        m31 ...  unknown      0.9  20210110\n",
       " 80715     sv1      --        m31 ...  unknown      0.9  20210115\n",
       " 80769 unknown      --  dithfocus ...  unknown      0.9  20210219\n",
       " 80816     cmx      --   dithprec ...  unknown      0.9  20210223\n",
       " 80916 unknown      --  dithfocus ...  unknown      0.9  20210422\n",
       " 82026 unknown      --   dithprec ...  unknown      0.9  20210423\n",
       " 82065 unknown      --  dithfocus ...  unknown      0.9  20210423\n",
       " 82052 unknown      --  dithfocus ...  unknown      0.9  20210423\n",
       " 81096     sv2      --       dark ...     dark      0.9  20210429\n",
       " 82039 unknown      --   dithprec ...  unknown      0.9  20210529\n",
       "  2704    main      --       dark ...     dark     0.85  20210627\n",
       "  2786    main      --       dark ...     dark     0.85  20210627\n",
       " 20307    main      --     bright ...   bright     0.85  20210707\n",
       " 21273    main      --     bright ...   bright     0.85  20210708\n",
       "  1825    main      --       dark ...     dark     0.85  20210708\n",
       " 82248     cmx      -- posmapping ...  unknown      0.9  20210916"
      ]
     },
     "execution_count": 9,
     "metadata": {},
     "output_type": "execute_result"
    }
   ],
   "source": [
    "row_index = np.where((tiles_table['LASTNIGHT'] >= 20201214) & (tiles_table['EFFTIME_SPEC'] > 0) & (~tiles_table['PROGRAM'].mask))[0]\n",
    "tiles_table[row_index]\n",
    "# row_index = np.where((tiles_table['LASTNIGHT'] >= 20201214) & (tiles_table['EFFTIME_SPEC'] > 0))[0]\n",
    "# tiles_table[row_index][tiles_table[row_index]['PROGRAM'].mask]"
   ]
  },
  {
   "cell_type": "code",
   "execution_count": 6,
   "id": "95866a59-eee1-43ea-87f7-6fce8a006115",
   "metadata": {
    "tags": []
   },
   "outputs": [
    {
     "data": {
      "text/html": [
       "<div><i>Table length=20</i>\n",
       "<table id=\"table140003088705776\" class=\"table-striped table-bordered table-condensed\">\n",
       "<thead><tr><th>TILEID</th><th>SURVEY</th><th>PROGRAM</th><th>FAPRGRM</th><th>FAFLAVOR</th><th>NEXP</th><th>EXPTIME</th><th>TILERA</th><th>TILEDEC</th><th>EFFTIME_ETC</th><th>EFFTIME_SPEC</th><th>EFFTIME_GFA</th><th>GOALTIME</th><th>OBSSTATUS</th><th>LRG_EFFTIME_DARK</th><th>ELG_EFFTIME_DARK</th><th>BGS_EFFTIME_BRIGHT</th><th>LYA_EFFTIME_DARK</th><th>GOALTYPE</th><th>MINTFRAC</th><th>LASTNIGHT</th></tr></thead>\n",
       "<thead><tr><th>int64</th><th>str7</th><th>str6</th><th>str16</th><th>str19</th><th>int64</th><th>float64</th><th>float64</th><th>float64</th><th>float64</th><th>float64</th><th>float64</th><th>float64</th><th>str8</th><th>float64</th><th>float64</th><th>float64</th><th>float64</th><th>str7</th><th>float64</th><th>int64</th></tr></thead>\n",
       "<tr><td>80615</td><td>cmx</td><td>other</td><td>m33</td><td>cmxm33</td><td>4</td><td>3600.1</td><td>24.027</td><td>31.39</td><td>0.0</td><td>3658.5</td><td>3270.6</td><td>1000.0</td><td>obsend</td><td>3582.4</td><td>3658.5</td><td>3945.2</td><td>4469.3</td><td>unknown</td><td>0.9</td><td>20201216</td></tr>\n",
       "<tr><td>80609</td><td>sv1</td><td>dark</td><td>lrgqso</td><td>cmxlrgqso</td><td>15</td><td>13500.7</td><td>150.12</td><td>2.206</td><td>0.0</td><td>8202.4</td><td>8317.8</td><td>4000.0</td><td>obsend</td><td>8103.8</td><td>8202.4</td><td>9070.2</td><td>12421.2</td><td>dark</td><td>0.9</td><td>20201217</td></tr>\n",
       "<tr><td>80606</td><td>sv1</td><td>dark</td><td>elg</td><td>cmxelg</td><td>12</td><td>10800.7</td><td>36.448</td><td>-4.501</td><td>0.0</td><td>7179.2</td><td>7183.1</td><td>4000.0</td><td>obsend</td><td>6967.0</td><td>7179.2</td><td>7653.2</td><td>8686.3</td><td>dark</td><td>0.9</td><td>20201219</td></tr>\n",
       "<tr><td>80620</td><td>sv1</td><td>dark</td><td>lrgqso</td><td>sv1lrgqso</td><td>13</td><td>11700.7</td><td>144.0</td><td>65.0</td><td>0.0</td><td>8228.4</td><td>7516.2</td><td>4000.0</td><td>obsend</td><td>7522.7</td><td>8228.4</td><td>7875.7</td><td>7957.3</td><td>dark</td><td>0.9</td><td>20201222</td></tr>\n",
       "<tr><td>80611</td><td>sv1</td><td>bright</td><td>bgsmws</td><td>sv1bgsmws</td><td>13</td><td>3620.9</td><td>35.22</td><td>30.3</td><td>0.0</td><td>691.2</td><td>712.8</td><td>1000.0</td><td>obsstart</td><td>660.5</td><td>754.1</td><td>691.2</td><td>440.5</td><td>bright</td><td>0.9</td><td>20201222</td></tr>\n",
       "<tr><td>80607</td><td>sv1</td><td>dark</td><td>lrgqso</td><td>cmxlrgqso</td><td>77</td><td>18804.9</td><td>0.0</td><td>0.0</td><td>0.0</td><td>10817.0</td><td>0.0</td><td>1000.0</td><td>obsend</td><td>9949.4</td><td>10817.0</td><td>10569.1</td><td>10520.4</td><td>dark</td><td>0.9</td><td>20201222</td></tr>\n",
       "<tr><td>80612</td><td>sv1</td><td>bright</td><td>bgsmws</td><td>sv1bgsmws</td><td>50</td><td>5658.9</td><td>66.68</td><td>-5.24</td><td>0.0</td><td>1611.0</td><td>1572.8</td><td>1000.0</td><td>obsend</td><td>1522.9</td><td>1658.4</td><td>1611.0</td><td>904.2</td><td>bright</td><td>0.9</td><td>20201223</td></tr>\n",
       "<tr><td>80608</td><td>sv1</td><td>dark</td><td>elg</td><td>cmxelg</td><td>27</td><td>24301.6</td><td>106.74</td><td>56.2</td><td>0.0</td><td>17113.6</td><td>14302.2</td><td>4000.0</td><td>obsend</td><td>15770.5</td><td>17113.6</td><td>16838.1</td><td>17001.9</td><td>dark</td><td>0.9</td><td>20201223</td></tr>\n",
       "<tr><td>80623</td><td>sv1</td><td>dark</td><td>elg</td><td>sv1elg</td><td>10</td><td>9000.5</td><td>155.0</td><td>32.425</td><td>0.0</td><td>5560.0</td><td>5750.7</td><td>4000.0</td><td>obsend</td><td>5392.1</td><td>5560.0</td><td>6032.1</td><td>8957.2</td><td>dark</td><td>0.9</td><td>20201223</td></tr>\n",
       "<tr><td>80616</td><td>sv1</td><td>bright</td><td>bgsmws</td><td>sv1bgsmws</td><td>18</td><td>5106.2</td><td>356.0</td><td>29.0</td><td>0.0</td><td>1557.1</td><td>1575.5</td><td>600.0</td><td>obsend</td><td>1496.5</td><td>1694.1</td><td>1557.1</td><td>847.0</td><td>bright</td><td>0.9</td><td>20201223</td></tr>\n",
       "<tr><td>80617</td><td>sv1</td><td>bright</td><td>bgsmws</td><td>sv1bgsmws</td><td>22</td><td>6162.4</td><td>5.0</td><td>28.0</td><td>0.0</td><td>1451.9</td><td>1449.5</td><td>600.0</td><td>obsend</td><td>1356.3</td><td>1497.1</td><td>1451.9</td><td>1064.0</td><td>bright</td><td>0.9</td><td>20201223</td></tr>\n",
       "<tr><td>80622</td><td>sv1</td><td>dark</td><td>lrgqso</td><td>sv1lrgqso</td><td>8</td><td>7200.4</td><td>155.0</td><td>32.325</td><td>0.0</td><td>5543.6</td><td>5477.8</td><td>4000.0</td><td>obsend</td><td>5272.7</td><td>5543.6</td><td>5844.3</td><td>8490.2</td><td>dark</td><td>0.9</td><td>20201223</td></tr>\n",
       "<tr><td>80629</td><td>sv1</td><td>bright</td><td>bgsmws</td><td>sv1bgsmws</td><td>5</td><td>1500.4</td><td>29.0</td><td>-3.0</td><td>0.0</td><td>830.3</td><td>845.1</td><td>1000.0</td><td>obsstart</td><td>750.2</td><td>779.1</td><td>830.3</td><td>632.7</td><td>bright</td><td>0.9</td><td>20210103</td></tr>\n",
       "<tr><td>80638</td><td>sv1</td><td>bright</td><td>bgsmws</td><td>sv1bgsmws</td><td>4</td><td>1200.3</td><td>60.0</td><td>-30.0</td><td>0.0</td><td>305.3</td><td>340.4</td><td>1000.0</td><td>obsstart</td><td>285.9</td><td>300.7</td><td>305.3</td><td>135.2</td><td>bright</td><td>0.9</td><td>20210103</td></tr>\n",
       "<tr><td>80635</td><td>sv1</td><td>bright</td><td>bgsmws</td><td>sv1bgsmws</td><td>5</td><td>1500.3</td><td>36.0</td><td>-7.0</td><td>0.0</td><td>185.9</td><td>189.0</td><td>1000.0</td><td>obsstart</td><td>181.3</td><td>210.4</td><td>185.9</td><td>93.3</td><td>bright</td><td>0.9</td><td>20210105</td></tr>\n",
       "<tr><td>80641</td><td>sv1</td><td>bright</td><td>bgsmws</td><td>sv1bgsmws</td><td>18</td><td>5131.3</td><td>98.5</td><td>44.5</td><td>0.0</td><td>1362.7</td><td>1145.8</td><td>600.0</td><td>obsend</td><td>1339.8</td><td>1575.3</td><td>1362.7</td><td>716.5</td><td>bright</td><td>0.9</td><td>20210107</td></tr>\n",
       "<tr><td>80642</td><td>sv1</td><td>bright</td><td>bgsmws</td><td>sv1bgsmws</td><td>16</td><td>4801.3</td><td>102.0</td><td>36.5</td><td>0.0</td><td>1838.2</td><td>1571.5</td><td>600.0</td><td>obsend</td><td>1792.9</td><td>2097.2</td><td>1838.2</td><td>1077.3</td><td>bright</td><td>0.9</td><td>20210107</td></tr>\n",
       "<tr><td>80633</td><td>sv1</td><td>bright</td><td>bgsmws</td><td>sv1bgsmws</td><td>11</td><td>2220.7</td><td>32.0</td><td>-7.0</td><td>0.0</td><td>771.2</td><td>797.1</td><td>1000.0</td><td>obsstart</td><td>715.1</td><td>763.3</td><td>771.2</td><td>608.2</td><td>bright</td><td>0.9</td><td>20210107</td></tr>\n",
       "<tr><td>80640</td><td>sv1</td><td>bright</td><td>bgsmws</td><td>sv1bgsmws</td><td>10</td><td>3000.8</td><td>85.5</td><td>-20.0</td><td>0.0</td><td>512.4</td><td>470.8</td><td>1000.0</td><td>obsstart</td><td>492.1</td><td>542.8</td><td>512.4</td><td>312.3</td><td>bright</td><td>0.9</td><td>20210107</td></tr>\n",
       "<tr><td>80676</td><td>sv1</td><td>dark</td><td>lrgqso</td><td>sv1lrgqso</td><td>11</td><td>9900.6</td><td>97.5</td><td>47.7</td><td>0.0</td><td>5596.7</td><td>4701.6</td><td>4000.0</td><td>obsend</td><td>5147.2</td><td>5596.7</td><td>5377.0</td><td>5067.3</td><td>dark</td><td>0.9</td><td>20210109</td></tr>\n",
       "</table></div>"
      ],
      "text/plain": [
       "<Table length=20>\n",
       "TILEID SURVEY PROGRAM FAPRGRM ... LYA_EFFTIME_DARK GOALTYPE MINTFRAC LASTNIGHT\n",
       "int64   str7    str6   str16  ...     float64        str7   float64    int64  \n",
       "------ ------ ------- ------- ... ---------------- -------- -------- ---------\n",
       " 80615    cmx   other     m33 ...           4469.3  unknown      0.9  20201216\n",
       " 80609    sv1    dark  lrgqso ...          12421.2     dark      0.9  20201217\n",
       " 80606    sv1    dark     elg ...           8686.3     dark      0.9  20201219\n",
       " 80620    sv1    dark  lrgqso ...           7957.3     dark      0.9  20201222\n",
       " 80611    sv1  bright  bgsmws ...            440.5   bright      0.9  20201222\n",
       " 80607    sv1    dark  lrgqso ...          10520.4     dark      0.9  20201222\n",
       " 80612    sv1  bright  bgsmws ...            904.2   bright      0.9  20201223\n",
       " 80608    sv1    dark     elg ...          17001.9     dark      0.9  20201223\n",
       " 80623    sv1    dark     elg ...           8957.2     dark      0.9  20201223\n",
       " 80616    sv1  bright  bgsmws ...            847.0   bright      0.9  20201223\n",
       " 80617    sv1  bright  bgsmws ...           1064.0   bright      0.9  20201223\n",
       " 80622    sv1    dark  lrgqso ...           8490.2     dark      0.9  20201223\n",
       " 80629    sv1  bright  bgsmws ...            632.7   bright      0.9  20210103\n",
       " 80638    sv1  bright  bgsmws ...            135.2   bright      0.9  20210103\n",
       " 80635    sv1  bright  bgsmws ...             93.3   bright      0.9  20210105\n",
       " 80641    sv1  bright  bgsmws ...            716.5   bright      0.9  20210107\n",
       " 80642    sv1  bright  bgsmws ...           1077.3   bright      0.9  20210107\n",
       " 80633    sv1  bright  bgsmws ...            608.2   bright      0.9  20210107\n",
       " 80640    sv1  bright  bgsmws ...            312.3   bright      0.9  20210107\n",
       " 80676    sv1    dark  lrgqso ...           5067.3     dark      0.9  20210109"
      ]
     },
     "execution_count": 6,
     "metadata": {},
     "output_type": "execute_result"
    }
   ],
   "source": [
    "tiles_table[row_index][:20]"
   ]
  },
  {
   "cell_type": "code",
   "execution_count": 7,
   "id": "0e3c5449-449d-4474-b570-7db3aa50d87d",
   "metadata": {
    "tags": []
   },
   "outputs": [],
   "source": [
    "load_tiles = db.Tile.convert(tiles_table, row_index=row_index)"
   ]
  },
  {
   "cell_type": "code",
   "execution_count": 8,
   "id": "a88e68da-bf90-4077-b640-199ebb9f7fad",
   "metadata": {
    "tags": []
   },
   "outputs": [
    {
     "data": {
      "text/plain": [
       "[Tile(tileid=80615),\n",
       " Tile(tileid=80609),\n",
       " Tile(tileid=80606),\n",
       " Tile(tileid=80620),\n",
       " Tile(tileid=80611),\n",
       " Tile(tileid=80607),\n",
       " Tile(tileid=80612),\n",
       " Tile(tileid=80608),\n",
       " Tile(tileid=80623),\n",
       " Tile(tileid=80616),\n",
       " Tile(tileid=80617),\n",
       " Tile(tileid=80622),\n",
       " Tile(tileid=80629),\n",
       " Tile(tileid=80638),\n",
       " Tile(tileid=80635),\n",
       " Tile(tileid=80641),\n",
       " Tile(tileid=80642),\n",
       " Tile(tileid=80633),\n",
       " Tile(tileid=80640),\n",
       " Tile(tileid=80676)]"
      ]
     },
     "execution_count": 8,
     "metadata": {},
     "output_type": "execute_result"
    }
   ],
   "source": [
    "load_tiles[:20]"
   ]
  },
  {
   "cell_type": "code",
   "execution_count": 10,
   "id": "eea12065-5091-48b8-897e-5c51cb6fb3f5",
   "metadata": {
    "tags": []
   },
   "outputs": [],
   "source": [
    "try:\n",
    "    db.dbSession.add_all(load_tiles)\n",
    "    db.dbSession.commit()\n",
    "except IntegrityError:\n",
    "    print(\"ERROR: Some tiles are already loaded!\")\n",
    "    db.dbSession.rollback()"
   ]
  },
  {
   "cell_type": "markdown",
   "id": "7648c676-f797-430b-91bc-1be217cf6f6e",
   "metadata": {},
   "source": [
    "## Read exposures file\n",
    "\n",
    "The daily exposures file may contain exposures with `EFFTIME_SPEC == 0`. We do not want to load these."
   ]
  },
  {
   "cell_type": "code",
   "execution_count": 11,
   "id": "86c45810-11c1-4010-b429-1480f9d34008",
   "metadata": {
    "tags": []
   },
   "outputs": [],
   "source": [
    "# exposures_file = findfile('exposures', readonly=True)\n",
    "exposures_file = os.path.join(os.environ['DESI_ROOT'], 'users', os.environ['USER'], 'exposures-daily-patched-with-jura.fits')\n",
    "exposures_table = Table.read(exposures_file, format='fits', hdu='EXPOSURES')\n",
    "frames_table = Table.read(exposures_file, format='fits', hdu='FRAMES')\n",
    "# exposures_table[exposures_table['TILEID'] == new_tile.tileid]"
   ]
  },
  {
   "cell_type": "code",
   "execution_count": 12,
   "id": "a8517a3d-0708-4b77-80b9-cab25554580b",
   "metadata": {
    "tags": []
   },
   "outputs": [
    {
     "name": "stdout",
     "output_type": "stream",
     "text": [
      "ERROR: No valid exposures found for tile 81088, even though EFFTIME_SPEC == 24.800000!\n",
      "EXPID  NIGHT   MJD EFFTIME_SPEC\n",
      "----- -------- --- ------------\n",
      "83416 20210404 0.0          0.0\n",
      "ERROR: No valid exposures found for tile 158, even though EFFTIME_SPEC == 60.500000!\n",
      "EXPID  NIGHT   MJD EFFTIME_SPEC\n",
      "----- -------- --- ------------\n",
      "83543 20210405 0.0          0.0\n",
      "ERROR: No valid exposures found for tile 23, even though EFFTIME_SPEC == 66.700000!\n",
      "EXPID  NIGHT   MJD EFFTIME_SPEC\n",
      "----- -------- --- ------------\n",
      "83524 20210405 0.0          0.0\n",
      "ERROR: No valid exposures found for tile 50, even though EFFTIME_SPEC == 73.800000!\n",
      "EXPID  NIGHT   MJD EFFTIME_SPEC\n",
      "----- -------- --- ------------\n",
      "83525 20210405 0.0          0.0\n",
      "ERROR: No valid exposures found for tile 131, even though EFFTIME_SPEC == 79.300000!\n",
      "EXPID  NIGHT   MJD EFFTIME_SPEC\n",
      "----- -------- --- ------------\n",
      "83732 20210406 0.0          0.0\n",
      "ERROR: No valid exposures found for tile 185, even though EFFTIME_SPEC == 49.500000!\n",
      "EXPID  NIGHT   MJD EFFTIME_SPEC\n",
      "----- -------- --- ------------\n",
      "84356 20210411 0.0          0.0\n",
      "ERROR: No valid exposures found for tile 428, even though EFFTIME_SPEC == 65.700000!\n",
      "EXPID  NIGHT   MJD EFFTIME_SPEC\n",
      "----- -------- --- ------------\n",
      "84420 20210411 0.0          0.0\n",
      "ERROR: No valid exposures found for tile 77, even though EFFTIME_SPEC == 68.300000!\n",
      "EXPID  NIGHT   MJD EFFTIME_SPEC\n",
      "----- -------- --- ------------\n",
      "84348 20210411 0.0          0.0\n",
      "84349 20210411 0.0          0.0\n",
      "84350 20210411 0.0          0.0\n",
      "ERROR: No valid exposures found for tile 51, even though EFFTIME_SPEC == 45.900000!\n",
      "EXPID  NIGHT   MJD EFFTIME_SPEC\n",
      "----- -------- --- ------------\n",
      "84345 20210411 0.0          0.0\n",
      "84346 20210411 0.0          0.0\n",
      "84347 20210411 0.0          0.0\n",
      "ERROR: No valid exposures found for tile 320, even though EFFTIME_SPEC == 59.500000!\n",
      "EXPID  NIGHT   MJD EFFTIME_SPEC\n",
      "----- -------- --- ------------\n",
      "84421 20210411 0.0          0.0\n",
      "ERROR: No valid exposures found for tile 104, even though EFFTIME_SPEC == 70.400000!\n",
      "EXPID  NIGHT   MJD EFFTIME_SPEC\n",
      "----- -------- --- ------------\n",
      "84352 20210411 0.0          0.0\n",
      "ERROR: No valid exposures found for tile 212, even though EFFTIME_SPEC == 72.900000!\n",
      "EXPID  NIGHT   MJD EFFTIME_SPEC\n",
      "----- -------- --- ------------\n",
      "84645 20210413 0.0          0.0\n",
      "ERROR: No valid exposures found for tile 213, even though EFFTIME_SPEC == 63.400000!\n",
      "EXPID  NIGHT   MJD EFFTIME_SPEC\n",
      "----- -------- --- ------------\n",
      "84814 20210414 0.0          0.0\n",
      "ERROR: No valid exposures found for tile 78, even though EFFTIME_SPEC == 94.800000!\n",
      "EXPID  NIGHT   MJD EFFTIME_SPEC\n",
      "----- -------- --- ------------\n",
      "84807 20210414 0.0          0.0\n",
      "ERROR: No valid exposures found for tile 132, even though EFFTIME_SPEC == 56.700000!\n",
      "EXPID  NIGHT   MJD EFFTIME_SPEC\n",
      "----- -------- --- ------------\n",
      "84815 20210414 0.0          0.0\n",
      "ERROR: No valid exposures found for tile 105, even though EFFTIME_SPEC == 52.300000!\n",
      "EXPID  NIGHT   MJD EFFTIME_SPEC\n",
      "----- -------- --- ------------\n",
      "84808 20210414 0.0          0.0\n",
      "84809 20210414 0.0          0.0\n",
      "84810 20210414 0.0          0.0\n",
      "84811 20210414 0.0          0.0\n",
      "84812 20210414 0.0          0.0\n",
      "ERROR: No valid exposures found for tile 186, even though EFFTIME_SPEC == 43.400000!\n",
      "EXPID  NIGHT   MJD EFFTIME_SPEC\n",
      "----- -------- --- ------------\n",
      "84813 20210414 0.0          0.0\n",
      "ERROR: No valid exposures found for tile 106, even though EFFTIME_SPEC == 54.900000!\n",
      "EXPID  NIGHT   MJD EFFTIME_SPEC\n",
      "----- -------- --- ------------\n",
      "84937 20210415 0.0          0.0\n",
      "ERROR: No valid exposures found for tile 347, even though EFFTIME_SPEC == 30.000000!\n",
      "EXPID  NIGHT   MJD EFFTIME_SPEC\n",
      "----- -------- --- ------------\n",
      "84944 20210415 0.0          0.0\n",
      "ERROR: No valid exposures found for tile 214, even though EFFTIME_SPEC == 76.100000!\n",
      "EXPID  NIGHT   MJD EFFTIME_SPEC\n",
      "----- -------- --- ------------\n",
      "84943 20210415 0.0          0.0\n",
      "ERROR: No valid exposures found for tile 187, even though EFFTIME_SPEC == 62.000000!\n",
      "EXPID  NIGHT   MJD EFFTIME_SPEC\n",
      "----- -------- --- ------------\n",
      "84939 20210415 0.0          0.0\n",
      "84940 20210415 0.0          0.0\n",
      "84941 20210415 0.0          0.0\n",
      "84942 20210415 0.0          0.0\n",
      "ERROR: No valid exposures found for tile 52, even though EFFTIME_SPEC == 67.200000!\n",
      "EXPID  NIGHT   MJD EFFTIME_SPEC\n",
      "----- -------- --- ------------\n",
      "84932 20210415 0.0          0.0\n",
      "ERROR: No valid exposures found for tile 24, even though EFFTIME_SPEC == 93.100000!\n",
      "EXPID  NIGHT   MJD EFFTIME_SPEC\n",
      "----- -------- --- ------------\n",
      "84929 20210415 0.0          0.0\n",
      "84930 20210415 0.0          0.0\n",
      "ERROR: No valid exposures found for tile 133, even though EFFTIME_SPEC == 58.500000!\n",
      "EXPID  NIGHT   MJD EFFTIME_SPEC\n",
      "----- -------- --- ------------\n",
      "84936 20210415 0.0          0.0\n",
      "ERROR: No valid exposures found for tile 374, even though EFFTIME_SPEC == 65.400000!\n",
      "EXPID  NIGHT   MJD EFFTIME_SPEC\n",
      "----- -------- --- ------------\n",
      "84418 20210411 0.0          0.0\n",
      "84419 20210411 0.0          0.0\n",
      "85641 20210420 0.0          0.0\n",
      "ERROR: No valid exposures found for tile 107, even though EFFTIME_SPEC == 68.000000!\n",
      "EXPID  NIGHT   MJD EFFTIME_SPEC\n",
      "----- -------- --- ------------\n",
      "86495 20210428 0.0          0.0\n",
      "ERROR: No valid exposures found for tile 375, even though EFFTIME_SPEC == 87.500000!\n",
      "EXPID  NIGHT   MJD EFFTIME_SPEC\n",
      "----- -------- --- ------------\n",
      "86508 20210428 0.0          0.0\n",
      "ERROR: No valid exposures found for tile 401, even though EFFTIME_SPEC == 81.100000!\n",
      "EXPID  NIGHT   MJD EFFTIME_SPEC\n",
      "----- -------- --- ------------\n",
      "86507 20210428 0.0          0.0\n",
      "ERROR: No valid exposures found for tile 215, even though EFFTIME_SPEC == 66.600000!\n",
      "EXPID  NIGHT   MJD EFFTIME_SPEC\n",
      "----- -------- --- ------------\n",
      "86505 20210428 0.0          0.0\n",
      "ERROR: No valid exposures found for tile 321, even though EFFTIME_SPEC == 68.000000!\n",
      "EXPID  NIGHT   MJD EFFTIME_SPEC\n",
      "----- -------- --- ------------\n",
      "86509 20210428 0.0          0.0\n",
      "ERROR: No valid exposures found for tile 79, even though EFFTIME_SPEC == 73.200000!\n",
      "EXPID  NIGHT   MJD EFFTIME_SPEC\n",
      "----- -------- --- ------------\n",
      "85619 20210420 0.0          0.0\n",
      "86494 20210428 0.0          0.0\n",
      "ERROR: No valid exposures found for tile 429, even though EFFTIME_SPEC == 67.100000!\n",
      "EXPID  NIGHT   MJD EFFTIME_SPEC\n",
      "----- -------- --- ------------\n",
      "84829 20210414 0.0          0.0\n",
      "84830 20210414 0.0          0.0\n",
      "86753 20210430 0.0          0.0\n",
      "ERROR: No valid exposures found for tile 53, even though EFFTIME_SPEC == 63.900000!\n",
      "EXPID  NIGHT   MJD EFFTIME_SPEC\n",
      "----- -------- --- ------------\n",
      "86836 20210501 0.0          0.0\n",
      "ERROR: No valid exposures found for tile 402, even though EFFTIME_SPEC == 90.600000!\n",
      "EXPID  NIGHT   MJD EFFTIME_SPEC\n",
      "----- -------- --- ------------\n",
      "90244 20210529 0.0          0.0\n",
      "ERROR: No valid exposures found for tile 596, even though EFFTIME_SPEC == 90.300000!\n",
      "EXPID  NIGHT   MJD EFFTIME_SPEC\n",
      "----- -------- --- ------------\n",
      "90239 20210529 0.0          0.0\n",
      "ERROR: No valid exposures found for tile 506, even though EFFTIME_SPEC == 76.800000!\n",
      "EXPID  NIGHT   MJD EFFTIME_SPEC\n",
      "----- -------- --- ------------\n",
      "90224 20210529 0.0          0.0\n"
     ]
    }
   ],
   "source": [
    "load_exposures = list()\n",
    "for new_tile in load_tiles:\n",
    "    row_index = np.where((exposures_table['TILEID'] == new_tile.tileid) & (exposures_table['EFFTIME_SPEC'] > 0))[0]\n",
    "    if len(row_index) > 0:\n",
    "        # load_exposures += db.Exposure.convert(exposures_table, row_index=row_index)\n",
    "        if (exposures_table[row_index]['MJD'] < 50000).any():\n",
    "            print(\"WARNING: Invalid MJD values detected for tile {0:d}!\".format(new_tile.tileid))\n",
    "            bad_index = np.where((exposures_table['TILEID'] == new_tile.tileid) & (exposures_table['EFFTIME_SPEC'] > 0) & (exposures_table['MJD'] < 50000))[0]\n",
    "            for row in exposures_table[['EXPID', 'NIGHT', 'MJD', 'EFFTIME_SPEC']][bad_index]:\n",
    "                raw_data_file = os.path.join(os.environ['DESI_SPECTRO_DATA'], \"{0:08d}\".format(row['NIGHT']), \"{0:08d}\".format(row['EXPID']), \"desi-{0:08d}.fits.fz\".format(row['EXPID']))\n",
    "                with fits.open(raw_data_file, mode='readonly') as hdulist:\n",
    "                    mjd_obs = hdulist['SPEC'].header['MJD-OBS']\n",
    "                    print(\"WARNING: tile {0:d} exposure {1:d} has MJD-OBS = {2:f} in {3}!\".format(new_tile.tileid, row['EXPID'], mjd_obs, raw_data_file))\n",
    "    else:\n",
    "        print(\"ERROR: No valid exposures found for tile {0:d}, even though EFFTIME_SPEC == {1:f}!\".format(new_tile.tileid, new_tile.efftime_spec))\n",
    "        bad_index = np.where((exposures_table['TILEID'] == new_tile.tileid))[0]\n",
    "        print(exposures_table[['EXPID', 'NIGHT', 'MJD', 'EFFTIME_SPEC']][bad_index])\n",
    "# load_frames = list()\n",
    "# for exposure in load_exposures:\n",
    "#     row_index = np.where(frames_table['EXPID'] == exposure.expid)[0]\n",
    "#     assert len(row_index) > 0\n",
    "#     load_frames += db.Frame.convert(frames_table, row_index=row_index)\n",
    "# load_exposures"
   ]
  },
  {
   "cell_type": "code",
   "execution_count": null,
   "id": "269a600d-2346-4300-b71d-a6aa4053b0d9",
   "metadata": {
    "tags": []
   },
   "outputs": [],
   "source": [
    "# db.dbSession.rollback()\n",
    "db.dbSession.add_all(load_exposures)\n",
    "db.dbSession.commit()"
   ]
  },
  {
   "cell_type": "code",
   "execution_count": null,
   "id": "98306e39-48fd-41bc-9161-cbe1e47c28b6",
   "metadata": {
    "tags": []
   },
   "outputs": [],
   "source": [
    "# db.dbSession.rollback()\n",
    "db.dbSession.add_all(load_frames)\n",
    "db.dbSession.commit()"
   ]
  },
  {
   "cell_type": "markdown",
   "id": "e0640411-da3c-4535-a220-55ebbe2485fc",
   "metadata": {
    "tags": []
   },
   "source": [
    "## Load photometry for the tile\n",
    "\n",
    "When tractor photometry is written out by John Moustakas' VAC code, only objects with `brickname != ''` are written."
   ]
  },
  {
   "cell_type": "code",
   "execution_count": null,
   "id": "6e45a02f-eb7e-415b-bcfb-b655e6c876fc",
   "metadata": {
    "tags": []
   },
   "outputs": [],
   "source": [
    "potential_targets_table = t.potential_targets(load_tiles[1].tileid)\n",
    "# potential_targets_table"
   ]
  },
  {
   "cell_type": "code",
   "execution_count": null,
   "id": "2c2a5859-47b9-41aa-bcd6-7ec02397e2df",
   "metadata": {
    "tags": []
   },
   "outputs": [],
   "source": [
    "potential_cat = t.potential_photometry(load_tiles[1], potential_targets_table)\n",
    "# potential_cat"
   ]
  },
  {
   "cell_type": "code",
   "execution_count": null,
   "id": "ffbae527-c5e1-43b5-b63f-8d34891dc2f8",
   "metadata": {
    "tags": []
   },
   "outputs": [],
   "source": [
    "potential_targetphot = t.targetphot(potential_cat)\n",
    "potential_tractorphot = t.tractorphot(potential_cat)"
   ]
  },
  {
   "cell_type": "code",
   "execution_count": null,
   "id": "f1f7e918-f906-4545-bfb3-d3a9b686111c",
   "metadata": {
    "tags": []
   },
   "outputs": [],
   "source": [
    "load_photometry = t.load_photometry(potential_tractorphot)"
   ]
  },
  {
   "cell_type": "markdown",
   "id": "72dc3c40-1926-4191-b22b-cf99e738c2e7",
   "metadata": {},
   "source": [
    "### Load photometry, such as it is, for objects that are not in the tractor catalog"
   ]
  },
  {
   "cell_type": "code",
   "execution_count": null,
   "id": "10c990d3-b90c-4999-885d-9467f30220a6",
   "metadata": {
    "tags": []
   },
   "outputs": [],
   "source": [
    "load_targetphot = t.load_targetphot(potential_targetphot, load_photometry)"
   ]
  },
  {
   "cell_type": "markdown",
   "id": "4664f287-09ad-4d99-a54a-5e69c8cf707c",
   "metadata": {},
   "source": [
    "### Load the target table"
   ]
  },
  {
   "cell_type": "code",
   "execution_count": null,
   "id": "81e78286-da02-4208-b2e3-ca434d643020",
   "metadata": {
    "tags": []
   },
   "outputs": [],
   "source": [
    "load_target = t.load_target(load_tiles[1], potential_targetphot)"
   ]
  },
  {
   "cell_type": "markdown",
   "id": "84d6804d-c458-4302-950e-d0c1b2a34a8c",
   "metadata": {},
   "source": [
    "## Load tile/cumulative redshifts\n",
    "\n",
    "Need a way to compute \"best\" spectra as new tiles are added. There are a lot of columns that come from other sources here, so need to track these down."
   ]
  },
  {
   "cell_type": "code",
   "execution_count": null,
   "id": "0dc5e0b1-54a2-4975-aa97-6e533cb1d75a",
   "metadata": {},
   "outputs": [],
   "source": [
    "load_ztile = t.load_redshift(load_tiles[0])"
   ]
  },
  {
   "cell_type": "markdown",
   "id": "97fa4c47-072f-47be-bc01-6d42a9d7aa3e",
   "metadata": {},
   "source": [
    "## Load fiberassign and potential"
   ]
  },
  {
   "cell_type": "code",
   "execution_count": null,
   "id": "f9230013-8106-43be-8439-ab11953bdb75",
   "metadata": {},
   "outputs": [],
   "source": [
    "load_fiberassign, load_potential = t.load_fiberassign(load_tiles[0])"
   ]
  },
  {
   "cell_type": "markdown",
   "id": "1c43c01a-a69a-48ad-a82b-da3bf24670ba",
   "metadata": {},
   "source": [
    "## Recompute global values\n",
    "\n",
    "The global values are the primary classification and number of spectra."
   ]
  },
  {
   "cell_type": "code",
   "execution_count": null,
   "id": "8c129caa-b3d7-4b61-8848-2c6ac5c85460",
   "metadata": {},
   "outputs": [],
   "source": [
    "t.update_primary()"
   ]
  },
  {
   "cell_type": "markdown",
   "id": "7397fd17-6ccc-4f06-ba39-d57411287198",
   "metadata": {},
   "source": [
    "## q3c Update\n",
    "\n",
    "`tile`, `exposure`, `photometry`, `fiberassign`"
   ]
  },
  {
   "cell_type": "code",
   "execution_count": null,
   "id": "4283d716-f619-41a8-a6a1-d47e9d4af86e",
   "metadata": {
    "tags": []
   },
   "outputs": [],
   "source": [
    "t.update_q3c()"
   ]
  },
  {
   "cell_type": "code",
   "execution_count": null,
   "id": "b5db94c2-d3f4-41ab-a05a-f24c91f202b6",
   "metadata": {},
   "outputs": [],
   "source": []
  }
 ],
 "metadata": {
  "kernelspec": {
   "display_name": "DESI custom",
   "language": "python",
   "name": "desi-custom"
  },
  "language_info": {
   "codemirror_mode": {
    "name": "ipython",
    "version": 3
   },
   "file_extension": ".py",
   "mimetype": "text/x-python",
   "name": "python",
   "nbconvert_exporter": "python",
   "pygments_lexer": "ipython3",
   "version": "3.10.14"
  }
 },
 "nbformat": 4,
 "nbformat_minor": 5
}
