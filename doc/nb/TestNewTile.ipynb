{
 "cells": [
  {
   "cell_type": "markdown",
   "id": "9de1d646-ec64-434b-b59e-f0452dac49e7",
   "metadata": {},
   "source": [
    "# Test Load Daily\n",
    "\n",
    "Start by loading one \"new\" tile.\n",
    "\n",
    "## Imports"
   ]
  },
  {
   "cell_type": "code",
   "execution_count": 1,
   "id": "1bd0d356-77e9-4d62-a47f-b2f9ff00e898",
   "metadata": {
    "tags": []
   },
   "outputs": [],
   "source": [
    "import os\n",
    "import numpy as np\n",
    "from astropy.io import fits\n",
    "from astropy.table import Table\n",
    "from sqlalchemy.exc import IntegrityError\n",
    "from desiutil.log import get_logger, DEBUG\n",
    "from desispec.io.meta import findfile\n",
    "import specprodDB.load as db\n",
    "import specprodDB.tile as t"
   ]
  },
  {
   "cell_type": "markdown",
   "id": "1ef90017-8c83-4e3f-8c72-2b0f3e9eff2f",
   "metadata": {},
   "source": [
    "## Initial Values"
   ]
  },
  {
   "cell_type": "code",
   "execution_count": 4,
   "id": "2c1f6604-55f5-4f47-be69-ea9689544157",
   "metadata": {
    "tags": []
   },
   "outputs": [],
   "source": [
    "specprod = os.environ['SPECPROD']\n",
    "# tile_id, tile_survey, tile_program = 3867, 'main', 'dark'\n",
    "# tile_id, tile_survey, tile_program = 5053, 'main', 'dark'\n",
    "# tile_id, tile_survey, tile_program = 5052, 'main', 'dark'\n",
    "# tile_id, tile_survey, tile_program = 5074, 'main', 'dark'\n",
    "# tile_id, tile_survey, tile_program = 1685, 'main', 'dark'\n",
    "# tile_id, tile_survey, tile_program = 40069, 'main', 'backup'\n",
    "# tile_id, tile_survey, tile_program = 80950, 'sv1', 'backup'\n",
    "tile_id = 80615\n",
    "overwrite = True\n",
    "tiles_patch_date = '20240906'"
   ]
  },
  {
   "cell_type": "markdown",
   "id": "b2bef162-8ff6-4651-bccf-8df444854fd3",
   "metadata": {},
   "source": [
    "## Initialize Database"
   ]
  },
  {
   "cell_type": "code",
   "execution_count": 3,
   "id": "e782a524-9168-4dcf-bdbf-01b05193382c",
   "metadata": {
    "tags": []
   },
   "outputs": [
    {
     "name": "stdout",
     "output_type": "stream",
     "text": [
      "INFO:load.py:1794:setup_db: Begin creating tables.\n",
      "INFO:load.py:1797:setup_db: Finished creating tables.\n",
      "INFO:load.py:1540:load_versions: Loading version metadata.\n",
      "INFO:load.py:1551:load_versions: Completed loading version metadata.\n"
     ]
    }
   ],
   "source": [
    "db.log = get_logger(DEBUG)\n",
    "postgresql = db.setup_db(schema=specprod, hostname='db-loadbalancer.bweaver.development.svc.spin.nersc.org', username='desi_admin', overwrite=overwrite)\n",
    "if overwrite:\n",
    "    db.load_versions('computed', 'daily/v0', 'daily', specprod, 'main')"
   ]
  },
  {
   "cell_type": "markdown",
   "id": "782f6383-6c82-4e2e-afa0-0de132879d66",
   "metadata": {},
   "source": [
    "## Read tiles file"
   ]
  },
  {
   "cell_type": "code",
   "execution_count": 5,
   "id": "065e77f2-cd38-4bf7-b9c1-319bc7707dd1",
   "metadata": {
    "tags": []
   },
   "outputs": [],
   "source": [
    "# tiles_file = findfile('tiles', readonly=True).replace('.fits', '.csv')\n",
    "tiles_file = os.path.join(os.environ['DESI_ROOT'], 'users', os.environ['USER'], f'tiles-daily-patched-with-jura-{tiles_patch_date}.csv')\n",
    "tiles_table = Table.read(tiles_file, format='ascii.csv')\n",
    "# tiles_table"
   ]
  },
  {
   "cell_type": "code",
   "execution_count": 6,
   "id": "5322bcbd-8fcf-46a1-96be-2de812f7ea08",
   "metadata": {
    "tags": []
   },
   "outputs": [],
   "source": [
    "row_index = np.where((tiles_table['LASTNIGHT'] >= 20201214) & (tiles_table['EFFTIME_SPEC'] > 0) & (tiles_table['TILEID'] == tile_id))[0]"
   ]
  },
  {
   "cell_type": "code",
   "execution_count": 7,
   "id": "0e3c5449-449d-4474-b570-7db3aa50d87d",
   "metadata": {
    "tags": []
   },
   "outputs": [
    {
     "name": "stdout",
     "output_type": "stream",
     "text": [
      "CPU times: user 595 µs, sys: 0 ns, total: 595 µs\n",
      "Wall time: 600 µs\n"
     ]
    }
   ],
   "source": [
    "%%time\n",
    "candidate_tiles = db.Tile.convert(tiles_table, row_index=row_index)"
   ]
  },
  {
   "cell_type": "markdown",
   "id": "7648c676-f797-430b-91bc-1be217cf6f6e",
   "metadata": {},
   "source": [
    "## Read exposures file\n",
    "\n",
    "The daily exposures file may contain exposures with `EFFTIME_SPEC == 0`. We do not want to load these. There are also cases where a *tile* has non-zero `EFFTIME_SPEC` but has no *exposures* with non-zero `EFFTIME_SPEC`. At least for now, don't try to load those either."
   ]
  },
  {
   "cell_type": "code",
   "execution_count": 8,
   "id": "86c45810-11c1-4010-b429-1480f9d34008",
   "metadata": {
    "tags": []
   },
   "outputs": [],
   "source": [
    "# exposures_file = findfile('exposures', readonly=True)\n",
    "exposures_file = os.path.join(os.environ['DESI_ROOT'], 'users', os.environ['USER'], f'exposures-daily-patched-with-jura-{tiles_patch_date}.fits')\n",
    "exposures_table = Table.read(exposures_file, format='fits', hdu='EXPOSURES')\n",
    "frames_table = Table.read(exposures_file, format='fits', hdu='FRAMES')\n",
    "# exposures_table[exposures_table['TILEID'] == new_tile.tileid]"
   ]
  },
  {
   "cell_type": "code",
   "execution_count": 9,
   "id": "a8517a3d-0708-4b77-80b9-cab25554580b",
   "metadata": {
    "tags": []
   },
   "outputs": [
    {
     "name": "stdout",
     "output_type": "stream",
     "text": [
      "CPU times: user 11.3 ms, sys: 0 ns, total: 11.3 ms\n",
      "Wall time: 9.43 ms\n"
     ]
    }
   ],
   "source": [
    "%%time\n",
    "load_tiles = list()\n",
    "bad_tiles = list()\n",
    "load_exposures = list()\n",
    "for new_tile in candidate_tiles:\n",
    "    row_index = np.where((exposures_table['TILEID'] == new_tile.tileid) & (exposures_table['EFFTIME_SPEC'] > 0))[0]\n",
    "    if len(row_index) > 0:\n",
    "        load_tiles.append(new_tile)\n",
    "        load_exposures += db.Exposure.convert(exposures_table, row_index=row_index)\n",
    "        # if (exposures_table[row_index]['MJD'] < 50000).any():\n",
    "        #     print(\"WARNING: Invalid MJD values detected for tile {0:d}!\".format(new_tile.tileid))\n",
    "        #     bad_index = np.where((exposures_table['TILEID'] == new_tile.tileid) & (exposures_table['EFFTIME_SPEC'] > 0) & (exposures_table['MJD'] < 50000))[0]\n",
    "        #     for row in exposures_table[['EXPID', 'NIGHT', 'MJD', 'EFFTIME_SPEC']][bad_index]:\n",
    "        #         raw_data_file = os.path.join(os.environ['DESI_SPECTRO_DATA'], \"{0:08d}\".format(row['NIGHT']), \"{0:08d}\".format(row['EXPID']), \"desi-{0:08d}.fits.fz\".format(row['EXPID']))\n",
    "        #         with fits.open(raw_data_file, mode='readonly') as hdulist:\n",
    "        #             mjd_obs = hdulist['SPEC'].header['MJD-OBS']\n",
    "        #             print(\"WARNING: tile {0:d} exposure {1:d} has MJD-OBS = {2:f} in {3}!\".format(new_tile.tileid, row['EXPID'], mjd_obs, raw_data_file))\n",
    "    else:\n",
    "        print(\"ERROR: No valid exposures found for tile {0:d}, even though EFFTIME_SPEC == {1:f}!\".format(new_tile.tileid, new_tile.efftime_spec))\n",
    "        bad_index = np.where((exposures_table['TILEID'] == new_tile.tileid))[0]\n",
    "        print(exposures_table[['EXPID', 'NIGHT', 'MJD', 'EFFTIME_SPEC']][bad_index])\n",
    "        bad_tiles.append(new_tile)\n",
    "# load_exposures"
   ]
  },
  {
   "cell_type": "code",
   "execution_count": 10,
   "id": "38e20e0f-58e1-417d-b0ae-e902ac717888",
   "metadata": {
    "tags": []
   },
   "outputs": [
    {
     "name": "stdout",
     "output_type": "stream",
     "text": [
      "CPU times: user 55.5 ms, sys: 0 ns, total: 55.5 ms\n",
      "Wall time: 54.3 ms\n"
     ]
    }
   ],
   "source": [
    "%%time\n",
    "load_frames = list()\n",
    "for exposure in load_exposures:\n",
    "    row_index = np.where(frames_table['EXPID'] == exposure.expid)[0]\n",
    "    assert len(row_index) > 0\n",
    "    load_frames += db.Frame.convert(frames_table, row_index=row_index)\n",
    "# load_frames"
   ]
  },
  {
   "cell_type": "code",
   "execution_count": 11,
   "id": "8a509cfa-801c-4933-b550-b69ad75c337a",
   "metadata": {
    "tags": []
   },
   "outputs": [
    {
     "name": "stdout",
     "output_type": "stream",
     "text": [
      "CPU times: user 1.98 ms, sys: 2.26 ms, total: 4.24 ms\n",
      "Wall time: 29.7 ms\n"
     ]
    }
   ],
   "source": [
    "%%time\n",
    "try:\n",
    "    db.dbSession.add_all(load_tiles)\n",
    "    db.dbSession.commit()\n",
    "except IntegrityError as exc:\n",
    "    print(exc.args[0])\n",
    "    db.dbSession.rollback()"
   ]
  },
  {
   "cell_type": "code",
   "execution_count": 12,
   "id": "269a600d-2346-4300-b71d-a6aa4053b0d9",
   "metadata": {
    "tags": []
   },
   "outputs": [
    {
     "name": "stdout",
     "output_type": "stream",
     "text": [
      "CPU times: user 4.58 ms, sys: 473 µs, total: 5.06 ms\n",
      "Wall time: 14.9 ms\n"
     ]
    }
   ],
   "source": [
    "%%time\n",
    "try:\n",
    "    db.dbSession.add_all(load_exposures)\n",
    "    db.dbSession.commit()\n",
    "except IntegrityError as exc:\n",
    "    print(exc.args[0])\n",
    "    db.dbSession.rollback()"
   ]
  },
  {
   "cell_type": "code",
   "execution_count": 13,
   "id": "98306e39-48fd-41bc-9161-cbe1e47c28b6",
   "metadata": {
    "tags": []
   },
   "outputs": [
    {
     "name": "stdout",
     "output_type": "stream",
     "text": [
      "CPU times: user 13.4 ms, sys: 0 ns, total: 13.4 ms\n",
      "Wall time: 26.6 ms\n"
     ]
    }
   ],
   "source": [
    "%%time\n",
    "try:\n",
    "    db.dbSession.add_all(load_frames)\n",
    "    db.dbSession.commit()\n",
    "except IntegrityError as exc:\n",
    "    print(exc.args[0])\n",
    "    db.dbSession.rollback()"
   ]
  },
  {
   "cell_type": "markdown",
   "id": "e0640411-da3c-4535-a220-55ebbe2485fc",
   "metadata": {
    "tags": []
   },
   "source": [
    "## Load photometry for the tile\n",
    "\n",
    "When tractor photometry is written out by John Moustakas' VAC code, only objects with `brickname != ''` are written."
   ]
  },
  {
   "cell_type": "code",
   "execution_count": 14,
   "id": "f419c90d-1f45-46e4-add8-db81ed260a83",
   "metadata": {},
   "outputs": [],
   "source": [
    "tile_index = 0"
   ]
  },
  {
   "cell_type": "code",
   "execution_count": 15,
   "id": "56864ec5-a6bd-4fa9-97b4-64640d9219fe",
   "metadata": {
    "tags": []
   },
   "outputs": [
    {
     "data": {
      "text/plain": [
       "Tile(tileid=80615)"
      ]
     },
     "execution_count": 15,
     "metadata": {},
     "output_type": "execute_result"
    }
   ],
   "source": [
    "load_tiles[tile_index] #, load_tiles[tile_index + 1], load_tiles[-2], load_tiles[-1]"
   ]
  },
  {
   "cell_type": "code",
   "execution_count": 16,
   "id": "6e45a02f-eb7e-415b-bcfb-b655e6c876fc",
   "metadata": {
    "tags": []
   },
   "outputs": [
    {
     "name": "stdout",
     "output_type": "stream",
     "text": [
      "CPU times: user 269 ms, sys: 40.7 ms, total: 310 ms\n",
      "Wall time: 524 ms\n"
     ]
    }
   ],
   "source": [
    "%%time\n",
    "potential_targets_table = t.potential_targets(load_tiles[tile_index].tileid)\n",
    "# potential_targets_table"
   ]
  },
  {
   "cell_type": "code",
   "execution_count": 17,
   "id": "2c2a5859-47b9-41aa-bcd6-7ec02397e2df",
   "metadata": {
    "tags": []
   },
   "outputs": [
    {
     "name": "stdout",
     "output_type": "stream",
     "text": [
      "CPU times: user 51.2 ms, sys: 1.78 ms, total: 53 ms\n",
      "Wall time: 98.9 ms\n"
     ]
    }
   ],
   "source": [
    "%%time\n",
    "potential_cat = t.potential_photometry(load_tiles[tile_index], potential_targets_table)\n",
    "# potential_cat"
   ]
  },
  {
   "cell_type": "code",
   "execution_count": 18,
   "id": "ffbae527-c5e1-43b5-b63f-8d34891dc2f8",
   "metadata": {
    "tags": []
   },
   "outputs": [
    {
     "name": "stdout",
     "output_type": "stream",
     "text": [
      "CPU times: user 2.79 s, sys: 1.79 s, total: 4.57 s\n",
      "Wall time: 8.21 s\n"
     ]
    }
   ],
   "source": [
    "%%time\n",
    "potential_targetphot = t.targetphot(potential_cat)"
   ]
  },
  {
   "cell_type": "code",
   "execution_count": 19,
   "id": "94e10407-edee-4731-ad7c-3de63749dd7f",
   "metadata": {},
   "outputs": [
    {
     "name": "stdout",
     "output_type": "stream",
     "text": [
      "CPU times: user 6min 9s, sys: 13 s, total: 6min 22s\n",
      "Wall time: 6min 48s\n"
     ]
    }
   ],
   "source": [
    "%%time\n",
    "potential_tractorphot = t.tractorphot(potential_cat)"
   ]
  },
  {
   "cell_type": "code",
   "execution_count": 20,
   "id": "f1f7e918-f906-4545-bfb3-d3a9b686111c",
   "metadata": {
    "tags": []
   },
   "outputs": [
    {
     "name": "stdout",
     "output_type": "stream",
     "text": [
      "INFO:tile.py:178:load_photometry: Loaded 20343 rows of Photometry data.\n",
      "CPU times: user 10.9 s, sys: 383 ms, total: 11.2 s\n",
      "Wall time: 17.4 s\n"
     ]
    }
   ],
   "source": [
    "%%time\n",
    "load_photometry = t.load_photometry(potential_tractorphot)"
   ]
  },
  {
   "cell_type": "markdown",
   "id": "72dc3c40-1926-4191-b22b-cf99e738c2e7",
   "metadata": {},
   "source": [
    "### Load photometry, such as it is, for objects that are not in the tractor catalog"
   ]
  },
  {
   "cell_type": "code",
   "execution_count": 21,
   "id": "10c990d3-b90c-4999-885d-9467f30220a6",
   "metadata": {
    "tags": []
   },
   "outputs": [
    {
     "name": "stdout",
     "output_type": "stream",
     "text": [
      "INFO:tile.py:234:load_targetphot: Loaded 613 rows of Photometry data (from targeting).\n",
      "CPU times: user 405 ms, sys: 0 ns, total: 405 ms\n",
      "Wall time: 565 ms\n"
     ]
    }
   ],
   "source": [
    "%%time\n",
    "load_targetphot = t.load_targetphot(potential_targetphot, load_photometry)"
   ]
  },
  {
   "cell_type": "markdown",
   "id": "4664f287-09ad-4d99-a54a-5e69c8cf707c",
   "metadata": {},
   "source": [
    "### Load the target table"
   ]
  },
  {
   "cell_type": "code",
   "execution_count": 22,
   "id": "81e78286-da02-4208-b2e3-ca434d643020",
   "metadata": {
    "tags": []
   },
   "outputs": [
    {
     "name": "stdout",
     "output_type": "stream",
     "text": [
      "INFO:tile.py:260:load_target: Loaded 20956 rows of Target data.\n",
      "CPU times: user 3.35 s, sys: 24.3 ms, total: 3.38 s\n",
      "Wall time: 5.37 s\n"
     ]
    }
   ],
   "source": [
    "%%time\n",
    "load_target = t.load_target(load_tiles[tile_index], potential_targetphot)"
   ]
  },
  {
   "cell_type": "markdown",
   "id": "84d6804d-c458-4302-950e-d0c1b2a34a8c",
   "metadata": {},
   "source": [
    "## Load tile/cumulative redshifts\n",
    "\n",
    "Need a way to compute \"best\" spectra as new tiles are added. There are a lot of columns that come from other sources here, so need to track these down."
   ]
  },
  {
   "cell_type": "code",
   "execution_count": null,
   "id": "0dc5e0b1-54a2-4975-aa97-6e533cb1d75a",
   "metadata": {},
   "outputs": [],
   "source": [
    "%%time\n",
    "load_ztile = t.load_redshift(load_tiles[tile_index])"
   ]
  },
  {
   "cell_type": "code",
   "execution_count": 29,
   "id": "37862637-eaf6-4589-936f-47358623ad7f",
   "metadata": {
    "tags": []
   },
   "outputs": [
    {
     "name": "stdout",
     "output_type": "stream",
     "text": [
      "/dvs_ro/cfs/cdirs/desi/spectro/redux/daily/tiles/cumulative/80615/20201216/redrock-0-80615-thru20201216.fits False\n",
      "/dvs_ro/cfs/cdirs/desi/spectro/redux/daily/tiles/cumulative/80615/20201216/zbest-0-80615-thru20201216.fits True\n",
      "/dvs_ro/cfs/cdirs/desi/spectro/redux/daily/tiles/cumulative/80615/20201216/spectra-0-80615-thru20201216.fits True\n"
     ]
    },
    {
     "ename": "KeyError",
     "evalue": "'TARGETID'",
     "output_type": "error",
     "traceback": [
      "\u001b[0;31m---------------------------------------------------------------------------\u001b[0m",
      "\u001b[0;31mKeyError\u001b[0m                                  Traceback (most recent call last)",
      "Cell \u001b[0;32mIn[29], line 6\u001b[0m\n\u001b[1;32m      4\u001b[0m \u001b[38;5;28mprint\u001b[39m(redrock_file\u001b[38;5;241m.\u001b[39mreplace(\u001b[38;5;124m'\u001b[39m\u001b[38;5;124mredrock\u001b[39m\u001b[38;5;124m'\u001b[39m, \u001b[38;5;124m'\u001b[39m\u001b[38;5;124mzbest\u001b[39m\u001b[38;5;124m'\u001b[39m), os\u001b[38;5;241m.\u001b[39mpath\u001b[38;5;241m.\u001b[39mexists(redrock_file\u001b[38;5;241m.\u001b[39mreplace(\u001b[38;5;124m'\u001b[39m\u001b[38;5;124mredrock\u001b[39m\u001b[38;5;124m'\u001b[39m, \u001b[38;5;124m'\u001b[39m\u001b[38;5;124mzbest\u001b[39m\u001b[38;5;124m'\u001b[39m)))\n\u001b[1;32m      5\u001b[0m \u001b[38;5;28mprint\u001b[39m(redrock_file\u001b[38;5;241m.\u001b[39mreplace(\u001b[38;5;124m'\u001b[39m\u001b[38;5;124mredrock\u001b[39m\u001b[38;5;124m'\u001b[39m, \u001b[38;5;124m'\u001b[39m\u001b[38;5;124mspectra\u001b[39m\u001b[38;5;124m'\u001b[39m), os\u001b[38;5;241m.\u001b[39mpath\u001b[38;5;241m.\u001b[39mexists(redrock_file\u001b[38;5;241m.\u001b[39mreplace(\u001b[38;5;124m'\u001b[39m\u001b[38;5;124mredrock\u001b[39m\u001b[38;5;124m'\u001b[39m, \u001b[38;5;124m'\u001b[39m\u001b[38;5;124mspectra\u001b[39m\u001b[38;5;124m'\u001b[39m)))\n\u001b[0;32m----> 6\u001b[0m dtd \u001b[38;5;241m=\u001b[39m \u001b[43mDistTargetsDESI\u001b[49m\u001b[43m(\u001b[49m\u001b[43mredrock_file\u001b[49m\u001b[38;5;241;43m.\u001b[39;49m\u001b[43mreplace\u001b[49m\u001b[43m(\u001b[49m\u001b[38;5;124;43m'\u001b[39;49m\u001b[38;5;124;43mredrock\u001b[39;49m\u001b[38;5;124;43m'\u001b[39;49m\u001b[43m,\u001b[49m\u001b[43m \u001b[49m\u001b[38;5;124;43m'\u001b[39;49m\u001b[38;5;124;43mspectra\u001b[39;49m\u001b[38;5;124;43m'\u001b[39;49m\u001b[43m)\u001b[49m\u001b[43m,\u001b[49m\u001b[43m \u001b[49m\u001b[43mcoadd\u001b[49m\u001b[38;5;241;43m=\u001b[39;49m\u001b[38;5;28;43;01mTrue\u001b[39;49;00m\u001b[43m)\u001b[49m\n",
      "File \u001b[0;32m/global/common/software/desi/perlmutter/desiconda/20240425-2.2.0/code/redrock/main/py/redrock/external/desi.py:305\u001b[0m, in \u001b[0;36mDistTargetsDESI.__init__\u001b[0;34m(self, spectrafiles, coadd, targetids, first_target, n_target, comm, cache_Rcsr, cosmics_nsig, negflux_nsig, capacities)\u001b[0m\n\u001b[1;32m    301\u001b[0m coadd_fmap, exp_fmap \u001b[38;5;241m=\u001b[39m coadd_fibermap(tmpfmap, onetile\u001b[38;5;241m=\u001b[39monetile)\n\u001b[1;32m    303\u001b[0m scores \u001b[38;5;241m=\u001b[39m encode_table(Table(hdus[\u001b[38;5;124m\"\u001b[39m\u001b[38;5;124mSCORES\u001b[39m\u001b[38;5;124m\"\u001b[39m]\u001b[38;5;241m.\u001b[39mdata,\n\u001b[1;32m    304\u001b[0m     copy\u001b[38;5;241m=\u001b[39m\u001b[38;5;28;01mTrue\u001b[39;00m)\u001b[38;5;241m.\u001b[39mas_array())\n\u001b[0;32m--> 305\u001b[0m tsnr2 \u001b[38;5;241m=\u001b[39m Table(\u001b[43mcompute_coadd_tsnr_scores\u001b[49m\u001b[43m(\u001b[49m\u001b[43mscores\u001b[49m\u001b[43m)\u001b[49m[\u001b[38;5;241m0\u001b[39m])\n\u001b[1;32m    307\u001b[0m \u001b[38;5;66;03m#- we later rely upon exp_fmap having same order as the\u001b[39;00m\n\u001b[1;32m    308\u001b[0m \u001b[38;5;66;03m#- uncoadded input fmap, so check that now\u001b[39;00m\n\u001b[1;32m    309\u001b[0m \u001b[38;5;28;01massert\u001b[39;00m np\u001b[38;5;241m.\u001b[39mall(exp_fmap[\u001b[38;5;124m'\u001b[39m\u001b[38;5;124mTARGETID\u001b[39m\u001b[38;5;124m'\u001b[39m] \u001b[38;5;241m==\u001b[39m tmpfmap[\u001b[38;5;124m'\u001b[39m\u001b[38;5;124mTARGETID\u001b[39m\u001b[38;5;124m'\u001b[39m])\n",
      "File \u001b[0;32m/global/common/software/desi/users/bweaver/perlmutter/desiconda/current/code/desispec/main/py/desispec/specscore.py:116\u001b[0m, in \u001b[0;36mcompute_coadd_tsnr_scores\u001b[0;34m(specscores)\u001b[0m\n\u001b[1;32m    106\u001b[0m \u001b[38;5;250m\u001b[39m\u001b[38;5;124;03m\"\"\"\u001b[39;00m\n\u001b[1;32m    107\u001b[0m \u001b[38;5;124;03mCompute coadded TSNR2 scores (TSNR2=Template Signal-to-Noise squared)\u001b[39;00m\n\u001b[1;32m    108\u001b[0m \n\u001b[0;32m   (...)\u001b[0m\n\u001b[1;32m    112\u001b[0m \u001b[38;5;124;03mReturns (tsnrscores, comments) tuple of dictionaries\u001b[39;00m\n\u001b[1;32m    113\u001b[0m \u001b[38;5;124;03m\"\"\"\u001b[39;00m\n\u001b[1;32m    114\u001b[0m log \u001b[38;5;241m=\u001b[39m get_logger()\n\u001b[0;32m--> 116\u001b[0m targetids \u001b[38;5;241m=\u001b[39m ordered_unique(\u001b[43mspecscores\u001b[49m\u001b[43m[\u001b[49m\u001b[38;5;124;43m'\u001b[39;49m\u001b[38;5;124;43mTARGETID\u001b[39;49m\u001b[38;5;124;43m'\u001b[39;49m\u001b[43m]\u001b[49m)\n\u001b[1;32m    117\u001b[0m num_targets \u001b[38;5;241m=\u001b[39m \u001b[38;5;28mlen\u001b[39m(targetids)\n\u001b[1;32m    119\u001b[0m tsnrscores \u001b[38;5;241m=\u001b[39m \u001b[38;5;28mdict\u001b[39m()\n",
      "File \u001b[0;32m/global/common/software/desi/perlmutter/desiconda/20240425-2.2.0/conda/lib/python3.10/site-packages/astropy/table/table.py:2062\u001b[0m, in \u001b[0;36mTable.__getitem__\u001b[0;34m(self, item)\u001b[0m\n\u001b[1;32m   2060\u001b[0m \u001b[38;5;28;01mdef\u001b[39;00m \u001b[38;5;21m__getitem__\u001b[39m(\u001b[38;5;28mself\u001b[39m, item):\n\u001b[1;32m   2061\u001b[0m     \u001b[38;5;28;01mif\u001b[39;00m \u001b[38;5;28misinstance\u001b[39m(item, \u001b[38;5;28mstr\u001b[39m):\n\u001b[0;32m-> 2062\u001b[0m         \u001b[38;5;28;01mreturn\u001b[39;00m \u001b[38;5;28;43mself\u001b[39;49m\u001b[38;5;241;43m.\u001b[39;49m\u001b[43mcolumns\u001b[49m\u001b[43m[\u001b[49m\u001b[43mitem\u001b[49m\u001b[43m]\u001b[49m\n\u001b[1;32m   2063\u001b[0m     \u001b[38;5;28;01melif\u001b[39;00m \u001b[38;5;28misinstance\u001b[39m(item, (\u001b[38;5;28mint\u001b[39m, np\u001b[38;5;241m.\u001b[39minteger)):\n\u001b[1;32m   2064\u001b[0m         \u001b[38;5;28;01mreturn\u001b[39;00m \u001b[38;5;28mself\u001b[39m\u001b[38;5;241m.\u001b[39mRow(\u001b[38;5;28mself\u001b[39m, item)\n",
      "File \u001b[0;32m/global/common/software/desi/perlmutter/desiconda/20240425-2.2.0/conda/lib/python3.10/site-packages/astropy/table/table.py:265\u001b[0m, in \u001b[0;36mTableColumns.__getitem__\u001b[0;34m(self, item)\u001b[0m\n\u001b[1;32m    254\u001b[0m \u001b[38;5;250m\u001b[39m\u001b[38;5;124;03m\"\"\"Get items from a TableColumns object.\u001b[39;00m\n\u001b[1;32m    255\u001b[0m \n\u001b[1;32m    256\u001b[0m \u001b[38;5;124;03m::\u001b[39;00m\n\u001b[0;32m   (...)\u001b[0m\n\u001b[1;32m    262\u001b[0m \u001b[38;5;124;03m  tc[1:3] # <TableColumns names=('b', 'c')>\u001b[39;00m\n\u001b[1;32m    263\u001b[0m \u001b[38;5;124;03m\"\"\"\u001b[39;00m\n\u001b[1;32m    264\u001b[0m \u001b[38;5;28;01mif\u001b[39;00m \u001b[38;5;28misinstance\u001b[39m(item, \u001b[38;5;28mstr\u001b[39m):\n\u001b[0;32m--> 265\u001b[0m     \u001b[38;5;28;01mreturn\u001b[39;00m \u001b[43mOrderedDict\u001b[49m\u001b[38;5;241;43m.\u001b[39;49m\u001b[38;5;21;43m__getitem__\u001b[39;49m\u001b[43m(\u001b[49m\u001b[38;5;28;43mself\u001b[39;49m\u001b[43m,\u001b[49m\u001b[43m \u001b[49m\u001b[43mitem\u001b[49m\u001b[43m)\u001b[49m\n\u001b[1;32m    266\u001b[0m \u001b[38;5;28;01melif\u001b[39;00m \u001b[38;5;28misinstance\u001b[39m(item, (\u001b[38;5;28mint\u001b[39m, np\u001b[38;5;241m.\u001b[39minteger)):\n\u001b[1;32m    267\u001b[0m     \u001b[38;5;28;01mreturn\u001b[39;00m \u001b[38;5;28mlist\u001b[39m(\u001b[38;5;28mself\u001b[39m\u001b[38;5;241m.\u001b[39mvalues())[item]\n",
      "\u001b[0;31mKeyError\u001b[0m: 'TARGETID'"
     ]
    }
   ],
   "source": [
    "from redrock.external.desi import DistTargetsDESI\n",
    "redrock_file, redrock_exists = findfile('redrock_tile', groupname='cumulative', tile=load_tiles[tile_index].tileid, spectrograph=0, night=load_tiles[tile_index].lastnight, readonly=True, return_exists=True)\n",
    "print(redrock_file, redrock_exists)\n",
    "print(redrock_file.replace('redrock', 'zbest'), os.path.exists(redrock_file.replace('redrock', 'zbest')))\n",
    "print(redrock_file.replace('redrock', 'spectra'), os.path.exists(redrock_file.replace('redrock', 'spectra')))\n",
    "dtd = DistTargetsDESI(redrock_file.replace('redrock', 'spectra'), coadd=True)"
   ]
  },
  {
   "cell_type": "code",
   "execution_count": null,
   "id": "58e2e4ca-b1fe-4a3f-8e92-46bb9cd54329",
   "metadata": {},
   "outputs": [],
   "source": []
  },
  {
   "cell_type": "markdown",
   "id": "97fa4c47-072f-47be-bc01-6d42a9d7aa3e",
   "metadata": {},
   "source": [
    "## Load fiberassign and potential"
   ]
  },
  {
   "cell_type": "code",
   "execution_count": null,
   "id": "f9230013-8106-43be-8439-ab11953bdb75",
   "metadata": {},
   "outputs": [],
   "source": [
    "%%time\n",
    "load_fiberassign, load_potential = t.load_fiberassign(load_tiles[tile_index])"
   ]
  },
  {
   "cell_type": "markdown",
   "id": "1c43c01a-a69a-48ad-a82b-da3bf24670ba",
   "metadata": {},
   "source": [
    "## Recompute global values\n",
    "\n",
    "The global values are the primary classification and number of spectra."
   ]
  },
  {
   "cell_type": "code",
   "execution_count": null,
   "id": "8c129caa-b3d7-4b61-8848-2c6ac5c85460",
   "metadata": {},
   "outputs": [],
   "source": [
    "t.update_primary()"
   ]
  },
  {
   "cell_type": "markdown",
   "id": "7397fd17-6ccc-4f06-ba39-d57411287198",
   "metadata": {},
   "source": [
    "## q3c Update\n",
    "\n",
    "`tile`, `exposure`, `photometry`, `fiberassign`"
   ]
  },
  {
   "cell_type": "code",
   "execution_count": null,
   "id": "4283d716-f619-41a8-a6a1-d47e9d4af86e",
   "metadata": {
    "tags": []
   },
   "outputs": [],
   "source": [
    "t.update_q3c()"
   ]
  },
  {
   "cell_type": "code",
   "execution_count": null,
   "id": "b5db94c2-d3f4-41ab-a05a-f24c91f202b6",
   "metadata": {},
   "outputs": [],
   "source": []
  }
 ],
 "metadata": {
  "kernelspec": {
   "display_name": "DESI custom",
   "language": "python",
   "name": "desi-custom"
  },
  "language_info": {
   "codemirror_mode": {
    "name": "ipython",
    "version": 3
   },
   "file_extension": ".py",
   "mimetype": "text/x-python",
   "name": "python",
   "nbconvert_exporter": "python",
   "pygments_lexer": "ipython3",
   "version": "3.10.14"
  }
 },
 "nbformat": 4,
 "nbformat_minor": 5
}
