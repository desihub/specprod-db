{
 "cells": [
  {
   "cell_type": "markdown",
   "id": "31725415-8b51-49d7-a2d6-7100227808d5",
   "metadata": {},
   "source": [
    "# Patch daily with jura"
   ]
  },
  {
   "cell_type": "code",
   "execution_count": null,
   "id": "f220285b-75d0-4109-a5f5-3709bfaeed79",
   "metadata": {
    "tags": []
   },
   "outputs": [],
   "source": [
    "import os\n",
    "import numpy as np\n",
    "from astropy.table import Table, join\n",
    "from astropy.io import fits\n",
    "from specprodDB.util import cameraid"
   ]
  },
  {
   "cell_type": "code",
   "execution_count": null,
   "id": "c2571c97-816c-4b12-a572-8e987c88b654",
   "metadata": {
    "tags": []
   },
   "outputs": [],
   "source": [
    "daily_tiles_file = os.path.join(os.environ['DESI_SPECTRO_REDUX'], 'daily', 'tiles-daily.csv')\n",
    "daily_exposures_file = os.path.join(os.environ['DESI_SPECTRO_REDUX'], 'daily', 'exposures-daily.fits')\n",
    "jura_tiles_file = os.path.join(os.environ['DESI_SPECTRO_REDUX'], 'jura', 'tiles-jura.csv')\n",
    "jura_exposures_file = os.path.join(os.environ['DESI_SPECTRO_REDUX'], 'jura', 'exposures-jura.fits')\n",
    "daily_tiles = Table.read(daily_tiles_file, format='ascii.csv')\n",
    "daily_exposures = Table.read(daily_exposures_file, format='fits', hdu='EXPOSURES')\n",
    "daily_frames = Table.read(daily_exposures_file, format='fits', hdu='FRAMES')\n",
    "jura_tiles = Table.read(jura_tiles_file, format='ascii.csv')\n",
    "jura_exposures = Table.read(jura_exposures_file, format='fits', hdu='EXPOSURES')\n",
    "jura_frames = Table.read(jura_exposures_file, format='fits', hdu='FRAMES')"
   ]
  },
  {
   "cell_type": "markdown",
   "id": "777a4cde-ab8e-4f24-aa31-323dbf819321",
   "metadata": {
    "tags": []
   },
   "source": [
    "## Find jura exposures not in daily, daily exposures not in jura"
   ]
  },
  {
   "cell_type": "code",
   "execution_count": null,
   "id": "74d311b4-d697-4944-945a-d56a68d1a39e",
   "metadata": {
    "tags": []
   },
   "outputs": [],
   "source": [
    "assert (np.unique(jura_exposures['EXPID']) == sorted(jura_exposures['EXPID'])).all()\n",
    "assert (np.unique(daily_exposures['EXPID']) == sorted(daily_exposures['EXPID'])).all()\n",
    "assert (np.unique(jura_frames['EXPID']) == sorted(jura_exposures['EXPID'])).all()\n",
    "assert (np.unique(daily_frames['EXPID']) == sorted(daily_exposures['EXPID'])).all()"
   ]
  },
  {
   "cell_type": "code",
   "execution_count": null,
   "id": "ca1d655b-e315-4e14-9fdc-5d31f5dadcb1",
   "metadata": {
    "tags": []
   },
   "outputs": [],
   "source": [
    "first_jura_exposure, last_jura_exposure = jura_exposures['EXPID'].min(), jura_exposures['EXPID'].max()\n",
    "first_jura_exposure, last_jura_exposure"
   ]
  },
  {
   "cell_type": "code",
   "execution_count": null,
   "id": "29c2d15b-3247-4320-bba7-a9b4e9fcc398",
   "metadata": {
    "tags": []
   },
   "outputs": [],
   "source": [
    "first_jura_night = jura_exposures['NIGHT'][jura_exposures['EXPID'] == first_jura_exposure].min()\n",
    "last_jura_night = jura_exposures['NIGHT'][jura_exposures['EXPID'] == last_jura_exposure].max()\n",
    "first_jura_night, last_jura_night"
   ]
  },
  {
   "cell_type": "code",
   "execution_count": null,
   "id": "51366113-4bfe-46e4-be86-dd4699cd2218",
   "metadata": {
    "tags": []
   },
   "outputs": [],
   "source": [
    "jura_tiles['LASTNIGHT'].min(), jura_tiles['LASTNIGHT'].max()"
   ]
  },
  {
   "cell_type": "code",
   "execution_count": null,
   "id": "ded2208b-f17e-4c7f-aeff-3e7cca0f77a4",
   "metadata": {
    "tags": []
   },
   "outputs": [],
   "source": [
    "jura_expid_set = frozenset(jura_exposures['EXPID'].tolist())\n",
    "daily_expid_set = frozenset(daily_exposures['EXPID'].tolist())"
   ]
  },
  {
   "cell_type": "code",
   "execution_count": null,
   "id": "473307c7-30f6-40ca-b297-3b927577d5b1",
   "metadata": {
    "tags": []
   },
   "outputs": [],
   "source": [
    "jura_not_in_daily = jura_expid_set - daily_expid_set\n",
    "jura_not_in_daily"
   ]
  },
  {
   "cell_type": "code",
   "execution_count": null,
   "id": "879e049d-3aca-484b-80e3-5b06344077c5",
   "metadata": {
    "tags": []
   },
   "outputs": [],
   "source": [
    "daily_not_in_jura = daily_expid_set - jura_expid_set\n",
    "# daily_not_in_jura"
   ]
  },
  {
   "cell_type": "markdown",
   "id": "96e7d429-3edc-4f7e-9e66-0ce8e3c8dcec",
   "metadata": {},
   "source": [
    "## Patch frames\n",
    "\n",
    "We don't necessarily want to change the values in the `FRAMES` table, just make sure it is consistent with the `EXPOSURES` table."
   ]
  },
  {
   "cell_type": "code",
   "execution_count": null,
   "id": "11f82181-9647-42e4-b05d-bd8427d20c9a",
   "metadata": {
    "tags": []
   },
   "outputs": [],
   "source": [
    "daily_frames_join = Table()\n",
    "daily_frames_join['FRAMEID'] = np.array([100*row['EXPID'] + cameraid(row['CAMERA']) for row in daily_frames])\n",
    "daily_frames_join['DAILY_INDEX'] = np.arange(len(daily_frames))"
   ]
  },
  {
   "cell_type": "code",
   "execution_count": null,
   "id": "333dbff1-65b2-4e66-a35f-b1d2b34a05c4",
   "metadata": {
    "tags": []
   },
   "outputs": [],
   "source": [
    "jura_frames_join = Table()\n",
    "jura_frames_join['FRAMEID'] = np.array([100*row['EXPID'] + cameraid(row['CAMERA']) for row in jura_frames])\n",
    "jura_frames_join['JURA_INDEX'] = np.arange(len(jura_frames))"
   ]
  },
  {
   "cell_type": "code",
   "execution_count": null,
   "id": "8d6ca37d-2350-47b6-8e90-5ab8b0cc01ad",
   "metadata": {
    "tags": []
   },
   "outputs": [],
   "source": [
    "j = join(daily_frames_join, jura_frames_join, join_type='outer', keys='FRAMEID')\n",
    "# j"
   ]
  },
  {
   "cell_type": "code",
   "execution_count": null,
   "id": "32431f66-d899-490e-98ad-4d9c299f74d7",
   "metadata": {
    "tags": []
   },
   "outputs": [],
   "source": [
    "daily_frames_index = j[(~j['JURA_INDEX'].mask) & (~j['DAILY_INDEX'].mask)]['DAILY_INDEX']\n",
    "jura_frames_index = j[(~j['JURA_INDEX'].mask) & (~j['DAILY_INDEX'].mask)]['JURA_INDEX']"
   ]
  },
  {
   "cell_type": "code",
   "execution_count": null,
   "id": "31e94315-0a93-454f-b228-7c10e14c22b1",
   "metadata": {
    "tags": []
   },
   "outputs": [],
   "source": [
    "daily_frames_patched = daily_frames.copy()\n",
    "for column in daily_frames_patched.colnames:\n",
    "    if hasattr(daily_frames_patched[column], 'mask') and not column.startswith('TSNR2_'):\n",
    "        print(f\"Patching {column}...\")\n",
    "        daily_frames_patched[column][daily_frames_index] = jura_frames[column][jura_frames_index]\n",
    "        daily_frames_patched[column].mask[daily_frames_index] = False\n",
    "# daily_frames_patched"
   ]
  },
  {
   "cell_type": "markdown",
   "id": "ca7c8da8-2c0b-45df-ab15-6f8aac0c9c6a",
   "metadata": {},
   "source": [
    "## Patch exposures\n",
    "\n",
    "We want to only *patch* and rows that:\n",
    "\n",
    "* Appear in `jura`.\n",
    "* Have `NIGHT >= first_jura_night`.\n",
    "* Have `EFFTIME_SPEC > 0`.\n",
    "\n",
    "We want to only *load* rows that:\n",
    "\n",
    "* Have `NIGHT >= first_jura_night`.\n",
    "* Have `EFFTIME_SPEC > 0`.\n",
    "\n",
    "which is slightly different. However we don't want to *remove* rows that *don't* satisfy these criteria."
   ]
  },
  {
   "cell_type": "code",
   "execution_count": null,
   "id": "e800b0bf-3824-4b78-94e5-e1f3fdb1e9ef",
   "metadata": {
    "tags": []
   },
   "outputs": [],
   "source": [
    "daily_exposures_join = Table()\n",
    "daily_exposures_join['EXPID'] = daily_exposures['EXPID']\n",
    "daily_exposures_join['NIGHT'] = daily_exposures['NIGHT']\n",
    "daily_exposures_join['EFFTIME_SPEC'] = daily_exposures['EFFTIME_SPEC']\n",
    "daily_exposures_join['DAILY_INDEX'] = np.arange(len(daily_exposures))"
   ]
  },
  {
   "cell_type": "code",
   "execution_count": null,
   "id": "933274c3-bc01-4287-ba1f-bf138d22c901",
   "metadata": {
    "tags": []
   },
   "outputs": [],
   "source": [
    "jura_exposures_join = Table()\n",
    "jura_exposures_join['EXPID'] = jura_exposures['EXPID']\n",
    "jura_exposures_join['JURA_INDEX'] = np.arange(len(jura_exposures))"
   ]
  },
  {
   "cell_type": "code",
   "execution_count": null,
   "id": "6fec01f6-f4b2-443b-9763-c663375bae25",
   "metadata": {
    "tags": []
   },
   "outputs": [],
   "source": [
    "j = join(daily_exposures_join, jura_exposures_join, join_type='outer', keys='EXPID')\n",
    "j"
   ]
  },
  {
   "cell_type": "code",
   "execution_count": null,
   "id": "83004567-d880-4ba6-968d-0555662ef9a2",
   "metadata": {
    "tags": []
   },
   "outputs": [],
   "source": [
    "daily_exposures_index = j[(~j['JURA_INDEX'].mask) & (~j['DAILY_INDEX'].mask) & (j['NIGHT'] >= first_jura_night) & (j['EFFTIME_SPEC'] > 0)]['DAILY_INDEX']\n",
    "jura_exposures_index = j[(~j['JURA_INDEX'].mask) & (~j['DAILY_INDEX'].mask)& (j['NIGHT'] >= first_jura_night) & (j['EFFTIME_SPEC'] > 0)]['JURA_INDEX']"
   ]
  },
  {
   "cell_type": "code",
   "execution_count": null,
   "id": "a63345ad-5660-4f46-9940-60f13370312a",
   "metadata": {
    "tags": []
   },
   "outputs": [],
   "source": [
    "daily_exposures_patched = daily_exposures.copy()\n",
    "can_patch = ('NIGHT', 'EXPID', 'TILEID', 'TILERA', 'TILEDEC', 'MJD', 'SURVEY', 'PROGRAM', 'FAPRGRM', 'FAFLAVOR', 'EXPTIME', 'GOALTIME', 'GOALTYPE', 'MINTFRAC', 'AIRMASS', 'EBV', 'SEEING_ETC', 'EFFTIME_ETC',\n",
    "             'TRANSPARENCY_GFA', 'SEEING_GFA', 'FIBER_FRACFLUX_GFA', 'FIBER_FRACFLUX_ELG_GFA', 'FIBER_FRACFLUX_BGS_GFA', 'FIBERFAC_GFA', 'FIBERFAC_ELG_GFA', 'FIBERFAC_BGS_GFA', 'AIRMASS_GFA', 'SKY_MAG_AB_GFA',\n",
    "             'EFFTIME_GFA', 'EFFTIME_DARK_GFA', 'EFFTIME_BRIGHT_GFA', 'EFFTIME_BACKUP_GFA')\n",
    "for column in ['TILERA', 'TILEDEC', 'MJD', 'SURVEY'] + [c for c in daily_exposures_patched.colnames if hasattr(daily_exposures_patched[c], 'mask') and c in can_patch]:\n",
    "    print(f\"Patching {column}...\")\n",
    "    daily_exposures_patched[column][daily_exposures_index] = jura_exposures[column][jura_exposures_index]\n",
    "    if hasattr(daily_exposures_patched[column], 'mask'):\n",
    "        daily_exposures_patched[column].mask[daily_exposures_index] = False\n",
    "daily_exposures_patched"
   ]
  },
  {
   "cell_type": "markdown",
   "id": "2cad2268-9557-444e-897c-e04bc63b42c6",
   "metadata": {},
   "source": [
    "### After patching are there still missing data?"
   ]
  },
  {
   "cell_type": "code",
   "execution_count": null,
   "id": "00e2e401-93f6-4d87-8307-9c1f0db767e2",
   "metadata": {
    "tags": []
   },
   "outputs": [],
   "source": [
    "assert not (daily_exposures_patched['TILERA'] == daily_exposures['TILERA']).all()\n",
    "assert not (daily_exposures_patched['TILEDEC'] == daily_exposures['TILEDEC']).all()\n",
    "assert not (daily_exposures_patched['MJD'] == daily_exposures['MJD']).all()\n",
    "assert not (daily_exposures_patched['SURVEY'] == daily_exposures['SURVEY']).all()\n",
    "assert (daily_exposures_patched['PROGRAM'] == daily_exposures['PROGRAM']).all()\n",
    "assert (daily_exposures_patched['FAPRGRM'] == daily_exposures['FAPRGRM']).all()\n",
    "assert (daily_exposures_patched['FAFLAVOR'] == daily_exposures['FAFLAVOR']).all()"
   ]
  },
  {
   "cell_type": "code",
   "execution_count": null,
   "id": "60427b0b-913d-456b-b45e-6ccc3a46866b",
   "metadata": {
    "tags": []
   },
   "outputs": [],
   "source": [
    "missing_mjd = np.where((daily_exposures_patched['NIGHT'] >= first_jura_night) & (daily_exposures_patched['EFFTIME_SPEC'] > 0) & (daily_exposures_patched['MJD'] < 50000))[0]\n",
    "for row in daily_exposures_patched[missing_mjd]:\n",
    "    raw_data_file = os.path.join(os.environ['DESI_SPECTRO_DATA'], \"{0:08d}\".format(row['NIGHT']), \"{0:08d}\".format(row['EXPID']), \"desi-{0:08d}.fits.fz\".format(row['EXPID']))\n",
    "    with fits.open(raw_data_file, mode='readonly') as hdulist:\n",
    "        mjd_obs = hdulist['SPEC'].header['MJD-OBS']\n",
    "    print(\"INFO: tile {0:d} exposure {1:d} has MJD-OBS = {2:f} in {3}!\".format(row['TILEID'], row['EXPID'], mjd_obs, raw_data_file))\n",
    "    w = np.where(daily_exposures_patched['EXPID'] == row['EXPID'])[0]\n",
    "    assert len(w) == 1\n",
    "    daily_exposures_patched['MJD'][w] = mjd_obs\n",
    "    print(daily_exposures_patched[w][['NIGHT', 'EXPID', 'TILEID', 'MJD']])"
   ]
  },
  {
   "cell_type": "code",
   "execution_count": null,
   "id": "fdc2baa0-8cd9-4fbf-8c5f-ec83a931a72b",
   "metadata": {
    "tags": []
   },
   "outputs": [],
   "source": [
    "still_missing_mjd = np.where((daily_exposures_patched['NIGHT'] >= first_jura_night) & (daily_exposures_patched['EFFTIME_SPEC'] > 0) & (daily_exposures_patched['MJD'] < 50000))[0]\n",
    "daily_exposures_patched[still_missing_mjd]"
   ]
  },
  {
   "cell_type": "markdown",
   "id": "f708faa2-36c4-4b2d-9a93-1c5b76b415d1",
   "metadata": {},
   "source": [
    "## Patch tiles\n",
    "\n",
    "Similar to the discussion above, we want `LASTNIGHT >= first_jura_night`."
   ]
  },
  {
   "cell_type": "code",
   "execution_count": null,
   "id": "76fd512d-ee77-4e0f-b6c1-3ba5eb5d77c0",
   "metadata": {
    "tags": []
   },
   "outputs": [],
   "source": [
    "assert (np.unique(jura_exposures['TILEID']) == sorted(jura_tiles['TILEID'])).all()\n",
    "assert (np.unique(daily_exposures['TILEID']) == sorted(daily_tiles['TILEID'])).all()"
   ]
  },
  {
   "cell_type": "code",
   "execution_count": null,
   "id": "7ccd960a-249f-4ea8-8e63-12ebc4aed7ec",
   "metadata": {},
   "outputs": [],
   "source": [
    "daily_tiles_join = Table()\n",
    "daily_tiles_join['TILEID'] = daily_tiles['TILEID']\n",
    "daily_tiles_join['LASTNIGHT'] = daily_tiles['LASTNIGHT']\n",
    "daily_tiles_join['EFFTIME_SPEC'] = daily_tiles['EFFTIME_SPEC']\n",
    "daily_tiles_join['DAILY_INDEX'] = np.arange(len(daily_tiles))"
   ]
  },
  {
   "cell_type": "code",
   "execution_count": null,
   "id": "b36035cf-598f-4027-a9cd-a6fb0bb49d99",
   "metadata": {},
   "outputs": [],
   "source": [
    "jura_tiles_join = Table()\n",
    "jura_tiles_join['TILEID'] = jura_tiles['TILEID']\n",
    "jura_tiles_join['JURA_INDEX'] = np.arange(len(jura_tiles))"
   ]
  },
  {
   "cell_type": "code",
   "execution_count": null,
   "id": "86da04ea-06f1-4a8c-8b8e-eace0d0f286e",
   "metadata": {},
   "outputs": [],
   "source": [
    "j = join(daily_tiles_join, jura_tiles_join, join_type='outer', keys='TILEID')\n",
    "j"
   ]
  },
  {
   "cell_type": "code",
   "execution_count": null,
   "id": "643b68a1-59b6-4030-a24a-04971f17b3c7",
   "metadata": {},
   "outputs": [],
   "source": [
    "# Apparently every tile in daily also appears in jura, so j['DAILY_INDEX'] doesn't need to be masked.\n",
    "daily_tiles_index = j[(~j['JURA_INDEX'].mask) & (j['LASTNIGHT'] >= first_jura_night) & (j['EFFTIME_SPEC'] > 0)]['DAILY_INDEX']\n",
    "jura_tiles_index = j[(~j['JURA_INDEX'].mask) & (j['LASTNIGHT'] >= first_jura_night) & (j['EFFTIME_SPEC'] > 0)]['JURA_INDEX']"
   ]
  },
  {
   "cell_type": "code",
   "execution_count": null,
   "id": "070845fe-0ce6-4e1f-b7f6-da172c26da8a",
   "metadata": {
    "tags": []
   },
   "outputs": [],
   "source": [
    "daily_tiles_patched = daily_tiles.copy()\n",
    "# for column in jura_tiles.colnames:\n",
    "# for column in ('TILEID', 'SURVEY', 'PROGRAM', 'FAPRGRM', 'FAFLAVOR', 'TILERA', 'TILEDEC', 'EFFTIME_ETC', 'EFFTIME_GFA', 'GOALTIME', 'GOALTYPE', 'MINTFRAC'):\n",
    "for column in ('PROGRAM', ):\n",
    "    daily_tiles_patched[column][daily_tiles_index] = jura_tiles[column][jura_tiles_index]\n",
    "    daily_tiles_patched[column].mask[daily_tiles_index] = False\n",
    "daily_tiles_patched"
   ]
  },
  {
   "cell_type": "markdown",
   "id": "c1b5a089-6d1a-41f3-8af1-b60051af9f1f",
   "metadata": {},
   "source": [
    "### After patching are there still missing data?\n",
    "\n",
    "Also does `GOALTYPE` actually need to be patched? Should we patch `EFFTIME_SPEC`?"
   ]
  },
  {
   "cell_type": "code",
   "execution_count": null,
   "id": "ebf610ad-ca54-4545-b001-f32f37cd3c9e",
   "metadata": {
    "tags": []
   },
   "outputs": [],
   "source": [
    "missing_program = np.where((daily_tiles_patched['LASTNIGHT'] >= first_jura_night) & (daily_tiles_patched['EFFTIME_SPEC'] > 0) & (daily_tiles_patched['PROGRAM'].mask))[0]\n",
    "daily_tiles_patched[missing_program]"
   ]
  },
  {
   "cell_type": "markdown",
   "id": "27c9cc2d-c9fc-4393-964b-ce7296814590",
   "metadata": {},
   "source": [
    "## Write out the patched files"
   ]
  },
  {
   "cell_type": "code",
   "execution_count": null,
   "id": "ac5fdfb7-4635-4e5e-ba2d-b77dd9603554",
   "metadata": {
    "tags": []
   },
   "outputs": [],
   "source": [
    "daily_tiles_patched.write(os.path.join(os.environ['DESI_ROOT'], 'users', os.environ['USER'], 'tiles-daily-patched-with-jura.csv'), format='ascii.csv', overwrite=True)"
   ]
  },
  {
   "cell_type": "code",
   "execution_count": null,
   "id": "384e6030-fcc1-453e-b990-a34688f12494",
   "metadata": {
    "tags": []
   },
   "outputs": [],
   "source": [
    "daily_exposures_patched.write(os.path.join(os.environ['DESI_ROOT'], 'users', os.environ['USER'], 'exposures-daily-patched-with-jura.csv'), format='ascii.csv', overwrite=True)"
   ]
  },
  {
   "cell_type": "code",
   "execution_count": null,
   "id": "26d7bad1-f89f-4cde-bfa1-a0cbcabcf866",
   "metadata": {
    "tags": []
   },
   "outputs": [],
   "source": [
    "daily_exposures_fits = fits.HDUList([fits.PrimaryHDU(), fits.table_to_hdu(daily_exposures_patched), fits.table_to_hdu(daily_frames_patched)])"
   ]
  },
  {
   "cell_type": "code",
   "execution_count": null,
   "id": "d06fcfd7-c5d9-4d9c-9989-eb313c70bc07",
   "metadata": {
    "tags": []
   },
   "outputs": [],
   "source": [
    "daily_exposures_fits.info()"
   ]
  },
  {
   "cell_type": "code",
   "execution_count": null,
   "id": "d4e5751a-895b-4ca7-8c44-994a4d7d7524",
   "metadata": {
    "tags": []
   },
   "outputs": [],
   "source": [
    "daily_exposures_fits.writeto(os.path.join(os.environ['DESI_ROOT'], 'users', os.environ['USER'], 'exposures-daily-patched-with-jura.fits'), overwrite=True)"
   ]
  },
  {
   "cell_type": "code",
   "execution_count": null,
   "id": "1f2a17e0-074c-433d-9b45-a35d91cc6a93",
   "metadata": {},
   "outputs": [],
   "source": []
  }
 ],
 "metadata": {
  "kernelspec": {
   "display_name": "DESI custom",
   "language": "python",
   "name": "desi-custom"
  },
  "language_info": {
   "codemirror_mode": {
    "name": "ipython",
    "version": 3
   },
   "file_extension": ".py",
   "mimetype": "text/x-python",
   "name": "python",
   "nbconvert_exporter": "python",
   "pygments_lexer": "ipython3",
   "version": "3.10.14"
  }
 },
 "nbformat": 4,
 "nbformat_minor": 5
}
