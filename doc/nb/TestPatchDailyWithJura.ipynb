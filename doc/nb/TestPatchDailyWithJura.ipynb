{
 "cells": [
  {
   "cell_type": "markdown",
   "id": "31725415-8b51-49d7-a2d6-7100227808d5",
   "metadata": {},
   "source": [
    "# Patch daily with jura"
   ]
  },
  {
   "cell_type": "code",
   "execution_count": 1,
   "id": "f220285b-75d0-4109-a5f5-3709bfaeed79",
   "metadata": {
    "tags": []
   },
   "outputs": [],
   "source": [
    "import os\n",
    "import numpy as np\n",
    "from astropy.table import Table, join\n",
    "from astropy.io import fits\n",
    "from specprodDB.util import cameraid"
   ]
  },
  {
   "cell_type": "code",
   "execution_count": 2,
   "id": "c2571c97-816c-4b12-a572-8e987c88b654",
   "metadata": {
    "tags": []
   },
   "outputs": [],
   "source": [
    "daily_tiles_file = os.path.join(os.environ['DESI_SPECTRO_REDUX'], 'daily', 'tiles-daily.csv')\n",
    "daily_exposures_file = os.path.join(os.environ['DESI_SPECTRO_REDUX'], 'daily', 'exposures-daily.fits')\n",
    "jura_tiles_file = os.path.join(os.environ['DESI_SPECTRO_REDUX'], 'jura', 'tiles-jura.csv')\n",
    "jura_exposures_file = os.path.join(os.environ['DESI_SPECTRO_REDUX'], 'jura', 'exposures-jura.fits')\n",
    "daily_tiles = Table.read(daily_tiles_file, format='ascii.csv')\n",
    "daily_exposures = Table.read(daily_exposures_file, format='fits', hdu='EXPOSURES')\n",
    "daily_frames = Table.read(daily_exposures_file, format='fits', hdu='FRAMES')\n",
    "jura_tiles = Table.read(jura_tiles_file, format='ascii.csv')\n",
    "jura_exposures = Table.read(jura_exposures_file, format='fits', hdu='EXPOSURES')\n",
    "jura_frames = Table.read(jura_exposures_file, format='fits', hdu='FRAMES')"
   ]
  },
  {
   "cell_type": "markdown",
   "id": "777a4cde-ab8e-4f24-aa31-323dbf819321",
   "metadata": {
    "tags": []
   },
   "source": [
    "## Find jura exposures not in daily, daily exposures not in jura"
   ]
  },
  {
   "cell_type": "code",
   "execution_count": 3,
   "id": "74d311b4-d697-4944-945a-d56a68d1a39e",
   "metadata": {
    "tags": []
   },
   "outputs": [],
   "source": [
    "assert (np.unique(jura_exposures['EXPID']) == sorted(jura_exposures['EXPID'])).all()\n",
    "assert (np.unique(daily_exposures['EXPID']) == sorted(daily_exposures['EXPID'])).all()\n",
    "assert (np.unique(jura_frames['EXPID']) == sorted(jura_exposures['EXPID'])).all()\n",
    "assert (np.unique(daily_frames['EXPID']) == sorted(daily_exposures['EXPID'])).all()"
   ]
  },
  {
   "cell_type": "code",
   "execution_count": 4,
   "id": "ca1d655b-e315-4e14-9fdc-5d31f5dadcb1",
   "metadata": {
    "tags": []
   },
   "outputs": [
    {
     "data": {
      "text/plain": [
       "(67710, 235203)"
      ]
     },
     "execution_count": 4,
     "metadata": {},
     "output_type": "execute_result"
    }
   ],
   "source": [
    "first_jura_exposure, last_jura_exposure = jura_exposures['EXPID'].min(), jura_exposures['EXPID'].max()\n",
    "first_jura_exposure, last_jura_exposure"
   ]
  },
  {
   "cell_type": "code",
   "execution_count": 5,
   "id": "29c2d15b-3247-4320-bba7-a9b4e9fcc398",
   "metadata": {
    "tags": []
   },
   "outputs": [
    {
     "data": {
      "text/plain": [
       "(20201214, 20240409)"
      ]
     },
     "execution_count": 5,
     "metadata": {},
     "output_type": "execute_result"
    }
   ],
   "source": [
    "first_jura_night = jura_exposures['NIGHT'][jura_exposures['EXPID'] == first_jura_exposure].min()\n",
    "last_jura_night = jura_exposures['NIGHT'][jura_exposures['EXPID'] == last_jura_exposure].max()\n",
    "first_jura_night, last_jura_night"
   ]
  },
  {
   "cell_type": "code",
   "execution_count": 6,
   "id": "51366113-4bfe-46e4-be86-dd4699cd2218",
   "metadata": {
    "tags": []
   },
   "outputs": [
    {
     "data": {
      "text/plain": [
       "(20201216, 20240409)"
      ]
     },
     "execution_count": 6,
     "metadata": {},
     "output_type": "execute_result"
    }
   ],
   "source": [
    "jura_tiles['LASTNIGHT'].min(), jura_tiles['LASTNIGHT'].max()"
   ]
  },
  {
   "cell_type": "code",
   "execution_count": 7,
   "id": "ded2208b-f17e-4c7f-aeff-3e7cca0f77a4",
   "metadata": {
    "tags": []
   },
   "outputs": [],
   "source": [
    "jura_expid_set = frozenset(jura_exposures['EXPID'].tolist())\n",
    "daily_expid_set = frozenset(daily_exposures['EXPID'].tolist())"
   ]
  },
  {
   "cell_type": "code",
   "execution_count": 8,
   "id": "473307c7-30f6-40ca-b297-3b927577d5b1",
   "metadata": {
    "tags": []
   },
   "outputs": [
    {
     "data": {
      "text/plain": [
       "frozenset({80478, 80681, 80688, 80691, 82603, 82622, 82625, 221977})"
      ]
     },
     "execution_count": 8,
     "metadata": {},
     "output_type": "execute_result"
    }
   ],
   "source": [
    "jura_not_in_daily = jura_expid_set - daily_expid_set\n",
    "jura_not_in_daily"
   ]
  },
  {
   "cell_type": "code",
   "execution_count": 9,
   "id": "879e049d-3aca-484b-80e3-5b06344077c5",
   "metadata": {
    "tags": []
   },
   "outputs": [],
   "source": [
    "daily_not_in_jura = daily_expid_set - jura_expid_set\n",
    "# daily_not_in_jura"
   ]
  },
  {
   "cell_type": "markdown",
   "id": "96e7d429-3edc-4f7e-9e66-0ce8e3c8dcec",
   "metadata": {},
   "source": [
    "## Patch frames\n",
    "\n",
    "We don't necessarily want to change the values in the `FRAMES` table, just make sure it is consistent with the `EXPOSURES` table."
   ]
  },
  {
   "cell_type": "code",
   "execution_count": 10,
   "id": "11f82181-9647-42e4-b05d-bd8427d20c9a",
   "metadata": {
    "tags": []
   },
   "outputs": [],
   "source": [
    "daily_frames_join = Table()\n",
    "daily_frames_join['FRAMEID'] = np.array([100*row['EXPID'] + cameraid(row['CAMERA']) for row in daily_frames])\n",
    "daily_frames_join['DAILY_INDEX'] = np.arange(len(daily_frames))"
   ]
  },
  {
   "cell_type": "code",
   "execution_count": 11,
   "id": "333dbff1-65b2-4e66-a35f-b1d2b34a05c4",
   "metadata": {
    "tags": []
   },
   "outputs": [],
   "source": [
    "jura_frames_join = Table()\n",
    "jura_frames_join['FRAMEID'] = np.array([100*row['EXPID'] + cameraid(row['CAMERA']) for row in jura_frames])\n",
    "jura_frames_join['JURA_INDEX'] = np.arange(len(jura_frames))"
   ]
  },
  {
   "cell_type": "code",
   "execution_count": 12,
   "id": "8d6ca37d-2350-47b6-8e90-5ab8b0cc01ad",
   "metadata": {
    "tags": []
   },
   "outputs": [],
   "source": [
    "j = join(daily_frames_join, jura_frames_join, join_type='outer', keys='FRAMEID')\n",
    "# j"
   ]
  },
  {
   "cell_type": "code",
   "execution_count": 13,
   "id": "32431f66-d899-490e-98ad-4d9c299f74d7",
   "metadata": {
    "tags": []
   },
   "outputs": [],
   "source": [
    "daily_frames_index = j[(~j['JURA_INDEX'].mask) & (~j['DAILY_INDEX'].mask)]['DAILY_INDEX']\n",
    "jura_frames_index = j[(~j['JURA_INDEX'].mask) & (~j['DAILY_INDEX'].mask)]['JURA_INDEX']"
   ]
  },
  {
   "cell_type": "code",
   "execution_count": 14,
   "id": "31e94315-0a93-454f-b228-7c10e14c22b1",
   "metadata": {
    "tags": []
   },
   "outputs": [],
   "source": [
    "daily_frames_patched = daily_frames.copy()\n",
    "# for column in jura_frames.colnames:\n",
    "    # jura does not have TSNR2_ALPHA\n",
    "    # daily_frames_patched[column][daily_frames_index] = jura_frames[column][jura_frames_index]\n",
    "# daily_frames_patched"
   ]
  },
  {
   "cell_type": "markdown",
   "id": "ca7c8da8-2c0b-45df-ab15-6f8aac0c9c6a",
   "metadata": {},
   "source": [
    "## Patch exposures\n",
    "\n",
    "We want to only *patch* and rows that:\n",
    "\n",
    "* Appear in `jura`.\n",
    "* Have `NIGHT >= first_jura_night`.\n",
    "* Have `EFFTIME_SPEC > 0`.\n",
    "\n",
    "We want to only *load* rows that:\n",
    "\n",
    "* Have `NIGHT >= first_jura_night`.\n",
    "* Have `EFFTIME_SPEC > 0`.\n",
    "\n",
    "which is slightly different. However we don't want to *remove* rows that *don't* satisfy these criteria."
   ]
  },
  {
   "cell_type": "code",
   "execution_count": 15,
   "id": "e800b0bf-3824-4b78-94e5-e1f3fdb1e9ef",
   "metadata": {
    "tags": []
   },
   "outputs": [],
   "source": [
    "daily_exposures_join = Table()\n",
    "daily_exposures_join['EXPID'] = daily_exposures['EXPID']\n",
    "daily_exposures_join['NIGHT'] = daily_exposures['NIGHT']\n",
    "daily_exposures_join['EFFTIME_SPEC'] = daily_exposures['EFFTIME_SPEC']\n",
    "daily_exposures_join['DAILY_INDEX'] = np.arange(len(daily_exposures))"
   ]
  },
  {
   "cell_type": "code",
   "execution_count": 16,
   "id": "933274c3-bc01-4287-ba1f-bf138d22c901",
   "metadata": {
    "tags": []
   },
   "outputs": [],
   "source": [
    "jura_exposures_join = Table()\n",
    "jura_exposures_join['EXPID'] = jura_exposures['EXPID']\n",
    "jura_exposures_join['JURA_INDEX'] = np.arange(len(jura_exposures))"
   ]
  },
  {
   "cell_type": "code",
   "execution_count": 17,
   "id": "6fec01f6-f4b2-443b-9763-c663375bae25",
   "metadata": {
    "tags": []
   },
   "outputs": [
    {
     "data": {
      "text/html": [
       "<div><i>Table length=23714</i>\n",
       "<table id=\"table139798602265360\" class=\"table-striped table-bordered table-condensed\">\n",
       "<thead><tr><th>EXPID</th><th>NIGHT</th><th>EFFTIME_SPEC</th><th>DAILY_INDEX</th><th>JURA_INDEX</th></tr></thead>\n",
       "<thead><tr><th>int32</th><th>int32</th><th>float64</th><th>int64</th><th>int64</th></tr></thead>\n",
       "<tr><td>50986</td><td>20200219</td><td>0.0</td><td>0</td><td>--</td></tr>\n",
       "<tr><td>50988</td><td>20200219</td><td>680.3945587158206</td><td>1</td><td>--</td></tr>\n",
       "<tr><td>50991</td><td>20200219</td><td>0.0</td><td>2</td><td>--</td></tr>\n",
       "<tr><td>50995</td><td>20200219</td><td>846.9120193481449</td><td>3</td><td>--</td></tr>\n",
       "<tr><td>51001</td><td>20200219</td><td>999.3838150024418</td><td>4</td><td>--</td></tr>\n",
       "<tr><td>51002</td><td>20200219</td><td>1093.0981079101566</td><td>5</td><td>--</td></tr>\n",
       "<tr><td>51028</td><td>20200219</td><td>0.0</td><td>6</td><td>--</td></tr>\n",
       "<tr><td>51029</td><td>20200219</td><td>0.0</td><td>7</td><td>--</td></tr>\n",
       "<tr><td>51030</td><td>20200219</td><td>1343.9888305664067</td><td>8</td><td>--</td></tr>\n",
       "<tr><td>51031</td><td>20200219</td><td>1274.8758575439458</td><td>9</td><td>--</td></tr>\n",
       "<tr><td>...</td><td>...</td><td>...</td><td>...</td><td>...</td></tr>\n",
       "<tr><td>247528</td><td>20240811</td><td>969.6046142578125</td><td>23696</td><td>--</td></tr>\n",
       "<tr><td>247529</td><td>20240811</td><td>429.18170166015625</td><td>23697</td><td>--</td></tr>\n",
       "<tr><td>247530</td><td>20240811</td><td>1127.6103515625</td><td>23698</td><td>--</td></tr>\n",
       "<tr><td>247531</td><td>20240811</td><td>1052.037841796875</td><td>23699</td><td>--</td></tr>\n",
       "<tr><td>247532</td><td>20240811</td><td>1063.469482421875</td><td>23700</td><td>--</td></tr>\n",
       "<tr><td>247533</td><td>20240811</td><td>1091.3558349609375</td><td>23701</td><td>--</td></tr>\n",
       "<tr><td>247534</td><td>20240811</td><td>1112.202880859375</td><td>23702</td><td>--</td></tr>\n",
       "<tr><td>247535</td><td>20240811</td><td>709.7935791015625</td><td>23703</td><td>--</td></tr>\n",
       "<tr><td>247536</td><td>20240811</td><td>213.33775329589844</td><td>23704</td><td>--</td></tr>\n",
       "<tr><td>247537</td><td>20240811</td><td>199.97581481933594</td><td>23705</td><td>--</td></tr>\n",
       "</table></div>"
      ],
      "text/plain": [
       "<Table length=23714>\n",
       "EXPID   NIGHT      EFFTIME_SPEC    DAILY_INDEX JURA_INDEX\n",
       "int32   int32        float64          int64      int64   \n",
       "------ -------- ------------------ ----------- ----------\n",
       " 50986 20200219                0.0           0         --\n",
       " 50988 20200219  680.3945587158206           1         --\n",
       " 50991 20200219                0.0           2         --\n",
       " 50995 20200219  846.9120193481449           3         --\n",
       " 51001 20200219  999.3838150024418           4         --\n",
       " 51002 20200219 1093.0981079101566           5         --\n",
       " 51028 20200219                0.0           6         --\n",
       " 51029 20200219                0.0           7         --\n",
       " 51030 20200219 1343.9888305664067           8         --\n",
       " 51031 20200219 1274.8758575439458           9         --\n",
       "   ...      ...                ...         ...        ...\n",
       "247528 20240811  969.6046142578125       23696         --\n",
       "247529 20240811 429.18170166015625       23697         --\n",
       "247530 20240811    1127.6103515625       23698         --\n",
       "247531 20240811  1052.037841796875       23699         --\n",
       "247532 20240811  1063.469482421875       23700         --\n",
       "247533 20240811 1091.3558349609375       23701         --\n",
       "247534 20240811  1112.202880859375       23702         --\n",
       "247535 20240811  709.7935791015625       23703         --\n",
       "247536 20240811 213.33775329589844       23704         --\n",
       "247537 20240811 199.97581481933594       23705         --"
      ]
     },
     "execution_count": 17,
     "metadata": {},
     "output_type": "execute_result"
    }
   ],
   "source": [
    "j = join(daily_exposures_join, jura_exposures_join, join_type='outer', keys='EXPID')\n",
    "j"
   ]
  },
  {
   "cell_type": "code",
   "execution_count": 18,
   "id": "83004567-d880-4ba6-968d-0555662ef9a2",
   "metadata": {
    "tags": []
   },
   "outputs": [],
   "source": [
    "daily_exposures_index = j[(~j['JURA_INDEX'].mask) & (~j['DAILY_INDEX'].mask) & (j['NIGHT'] >= first_jura_night) & (j['EFFTIME_SPEC'] > 0)]['DAILY_INDEX']\n",
    "jura_exposures_index = j[(~j['JURA_INDEX'].mask) & (~j['DAILY_INDEX'].mask)& (j['NIGHT'] >= first_jura_night) & (j['EFFTIME_SPEC'] > 0)]['JURA_INDEX']"
   ]
  },
  {
   "cell_type": "code",
   "execution_count": 19,
   "id": "a63345ad-5660-4f46-9940-60f13370312a",
   "metadata": {
    "tags": []
   },
   "outputs": [
    {
     "data": {
      "text/html": [
       "<div><i>Table length=23706</i>\n",
       "<table id=\"table139797746386112\" class=\"table-striped table-bordered table-condensed\">\n",
       "<thead><tr><th>NIGHT</th><th>EXPID</th><th>TILEID</th><th>TILERA</th><th>TILEDEC</th><th>MJD</th><th>SURVEY</th><th>PROGRAM</th><th>FAPRGRM</th><th>FAFLAVOR</th><th>EXPTIME</th><th>EFFTIME_SPEC</th><th>GOALTIME</th><th>GOALTYPE</th><th>MINTFRAC</th><th>AIRMASS</th><th>EBV</th><th>SEEING_ETC</th><th>EFFTIME_ETC</th><th>TSNR2_ELG</th><th>TSNR2_QSO</th><th>TSNR2_LRG</th><th>TSNR2_LYA</th><th>TSNR2_BGS</th><th>TSNR2_GPBDARK</th><th>TSNR2_GPBBRIGHT</th><th>TSNR2_GPBBACKUP</th><th>LRG_EFFTIME_DARK</th><th>ELG_EFFTIME_DARK</th><th>BGS_EFFTIME_BRIGHT</th><th>LYA_EFFTIME_DARK</th><th>GPB_EFFTIME_DARK</th><th>GPB_EFFTIME_BRIGHT</th><th>GPB_EFFTIME_BACKUP</th><th>TRANSPARENCY_GFA</th><th>SEEING_GFA</th><th>FIBER_FRACFLUX_GFA</th><th>FIBER_FRACFLUX_ELG_GFA</th><th>FIBER_FRACFLUX_BGS_GFA</th><th>FIBERFAC_GFA</th><th>FIBERFAC_ELG_GFA</th><th>FIBERFAC_BGS_GFA</th><th>AIRMASS_GFA</th><th>SKY_MAG_AB_GFA</th><th>SKY_MAG_G_SPEC</th><th>SKY_MAG_R_SPEC</th><th>SKY_MAG_Z_SPEC</th><th>EFFTIME_GFA</th><th>EFFTIME_DARK_GFA</th><th>EFFTIME_BRIGHT_GFA</th><th>EFFTIME_BACKUP_GFA</th></tr></thead>\n",
       "<thead><tr><th>int32</th><th>int32</th><th>int32</th><th>float64</th><th>float64</th><th>float64</th><th>bytes7</th><th>bytes6</th><th>bytes19</th><th>bytes19</th><th>float64</th><th>float64</th><th>float64</th><th>bytes7</th><th>float64</th><th>float64</th><th>float64</th><th>float64</th><th>float64</th><th>float64</th><th>float64</th><th>float64</th><th>float64</th><th>float64</th><th>float64</th><th>float64</th><th>float64</th><th>float64</th><th>float64</th><th>float64</th><th>float64</th><th>float64</th><th>float64</th><th>float64</th><th>float64</th><th>float64</th><th>float64</th><th>float64</th><th>float64</th><th>float64</th><th>float64</th><th>float64</th><th>float64</th><th>float64</th><th>float64</th><th>float64</th><th>float64</th><th>float64</th><th>float64</th><th>float64</th><th>float64</th></tr></thead>\n",
       "<tr><td>20200219</td><td>50986</td><td>63075</td><td>0.0</td><td>0.0</td><td>0.0</td><td>unknown</td><td>other</td><td>unknown</td><td>unknown</td><td>60.0</td><td>0.0</td><td>1000.0</td><td>unknown</td><td>0.9</td><td>1.043362</td><td>0.0942080095410347</td><td>0.0</td><td>0.0</td><td>0.0</td><td>0.0</td><td>0.0</td><td>0.0</td><td>0.0</td><td>0.0</td><td>0.0</td><td>0.0</td><td>0.0</td><td>0.0</td><td>0.0</td><td>0.0</td><td>0.0</td><td>0.0</td><td>0.0</td><td>0.0</td><td>0.0</td><td>0.0</td><td>0.0</td><td>0.0</td><td>0.0</td><td>0.0</td><td>0.0</td><td>0.0</td><td>0.0</td><td>0.0</td><td>0.0</td><td>0.0</td><td>0.0</td><td>0.0</td><td>0.0</td><td>0.0</td></tr>\n",
       "<tr><td>20200219</td><td>50988</td><td>70004</td><td>0.0</td><td>0.0</td><td>0.0</td><td>unknown</td><td>other</td><td>unknown</td><td>unknown</td><td>900.0</td><td>680.3945587158206</td><td>1000.0</td><td>unknown</td><td>0.9</td><td>1.104283</td><td>0.04696561396121979</td><td>0.0</td><td>0.0</td><td>79.11564636230469</td><td>19.950475692749023</td><td>54.666229248046875</td><td>57.56499099731445</td><td>5267.74755859375</td><td>0.0</td><td>0.0</td><td>0.0</td><td>664.2277979694464</td><td>680.3945587158206</td><td>737.484658203125</td><td>658.5295680370829</td><td>0.0</td><td>0.0</td><td>0.0</td><td>0.0</td><td>0.0</td><td>0.0</td><td>0.0</td><td>0.0</td><td>0.0</td><td>0.0</td><td>0.0</td><td>0.0</td><td>0.0</td><td>21.955594041629173</td><td>21.284226418609467</td><td>19.790755796726657</td><td>0.0</td><td>0.0</td><td>0.0</td><td>0.0</td></tr>\n",
       "<tr><td>20200219</td><td>50991</td><td>63075</td><td>0.0</td><td>0.0</td><td>0.0</td><td>unknown</td><td>other</td><td>unknown</td><td>unknown</td><td>60.0</td><td>0.0</td><td>1000.0</td><td>unknown</td><td>0.9</td><td>1.008076</td><td>0.0942080095410347</td><td>0.0</td><td>0.0</td><td>0.0</td><td>0.0</td><td>0.0</td><td>0.0</td><td>0.0</td><td>0.0</td><td>0.0</td><td>0.0</td><td>0.0</td><td>0.0</td><td>0.0</td><td>0.0</td><td>0.0</td><td>0.0</td><td>0.0</td><td>0.0</td><td>0.0</td><td>0.0</td><td>0.0</td><td>0.0</td><td>0.0</td><td>0.0</td><td>0.0</td><td>0.0</td><td>0.0</td><td>0.0</td><td>0.0</td><td>0.0</td><td>0.0</td><td>0.0</td><td>0.0</td><td>0.0</td></tr>\n",
       "<tr><td>20200219</td><td>50995</td><td>70004</td><td>0.0</td><td>0.0</td><td>0.0</td><td>unknown</td><td>other</td><td>unknown</td><td>unknown</td><td>900.0</td><td>846.9120193481449</td><td>1000.0</td><td>unknown</td><td>0.9</td><td>1.034227</td><td>0.04696561396121979</td><td>0.0</td><td>0.0</td><td>98.47814178466797</td><td>24.324670791625977</td><td>67.42870330810547</td><td>66.30667877197266</td><td>6406.125</td><td>0.0</td><td>0.0</td><td>0.0</td><td>819.299588326338</td><td>846.9120193481449</td><td>896.8575000000001</td><td>758.5323609573368</td><td>0.0</td><td>0.0</td><td>0.0</td><td>0.0</td><td>0.0</td><td>0.0</td><td>0.0</td><td>0.0</td><td>0.0</td><td>0.0</td><td>0.0</td><td>0.0</td><td>0.0</td><td>21.966302914201346</td><td>21.262359707846763</td><td>19.752054491279942</td><td>0.0</td><td>0.0</td><td>0.0</td><td>0.0</td></tr>\n",
       "<tr><td>20200219</td><td>51001</td><td>70004</td><td>0.0</td><td>0.0</td><td>0.0</td><td>unknown</td><td>other</td><td>unknown</td><td>unknown</td><td>900.0</td><td>999.3838150024418</td><td>1000.0</td><td>unknown</td><td>0.9</td><td>1.022479</td><td>0.04696561396121979</td><td>0.0</td><td>0.0</td><td>116.2074203491211</td><td>28.303956985473633</td><td>77.67794036865234</td><td>71.61495208740234</td><td>7325.822265625</td><td>0.0</td><td>0.0</td><td>0.0</td><td>943.8340268130958</td><td>999.3838150024418</td><td>1025.6151171875001</td><td>819.2577232456027</td><td>0.0</td><td>0.0</td><td>0.0</td><td>0.0</td><td>0.0</td><td>0.0</td><td>0.0</td><td>0.0</td><td>0.0</td><td>0.0</td><td>0.0</td><td>0.0</td><td>0.0</td><td>22.00288157116244</td><td>21.356993054425978</td><td>19.844414121595623</td><td>0.0</td><td>0.0</td><td>0.0</td><td>0.0</td></tr>\n",
       "<tr><td>20200219</td><td>51002</td><td>70004</td><td>0.0</td><td>0.0</td><td>0.0</td><td>unknown</td><td>other</td><td>unknown</td><td>unknown</td><td>900.0</td><td>1093.0981079101566</td><td>1000.0</td><td>unknown</td><td>0.9</td><td>1.034986</td><td>0.04696561396121979</td><td>0.0</td><td>0.0</td><td>127.10443115234375</td><td>30.669572830200195</td><td>85.87296295166016</td><td>71.7078628540039</td><td>8028.75</td><td>0.0</td><td>0.0</td><td>0.0</td><td>1043.4085151122983</td><td>1093.0981079101566</td><td>1124.025</td><td>820.3205999339526</td><td>0.0</td><td>0.0</td><td>0.0</td><td>0.0</td><td>0.0</td><td>0.0</td><td>0.0</td><td>0.0</td><td>0.0</td><td>0.0</td><td>0.0</td><td>0.0</td><td>0.0</td><td>22.021436962721946</td><td>21.35818612569135</td><td>19.888063776015954</td><td>0.0</td><td>0.0</td><td>0.0</td><td>0.0</td></tr>\n",
       "<tr><td>20200219</td><td>51028</td><td>70005</td><td>0.0</td><td>0.0</td><td>0.0</td><td>unknown</td><td>other</td><td>unknown</td><td>unknown</td><td>0.0</td><td>0.0</td><td>1000.0</td><td>unknown</td><td>0.9</td><td>1.02954</td><td>0.018338840454816818</td><td>0.0</td><td>0.0</td><td>0.0</td><td>0.0</td><td>0.0</td><td>0.0</td><td>0.0</td><td>0.0</td><td>0.0</td><td>0.0</td><td>0.0</td><td>0.0</td><td>0.0</td><td>0.0</td><td>0.0</td><td>0.0</td><td>0.0</td><td>0.0</td><td>0.0</td><td>0.0</td><td>0.0</td><td>0.0</td><td>0.0</td><td>0.0</td><td>0.0</td><td>0.0</td><td>0.0</td><td>0.0</td><td>0.0</td><td>0.0</td><td>0.0</td><td>0.0</td><td>0.0</td><td>0.0</td></tr>\n",
       "<tr><td>20200219</td><td>51029</td><td>70005</td><td>0.0</td><td>0.0</td><td>0.0</td><td>unknown</td><td>other</td><td>unknown</td><td>unknown</td><td>0.0</td><td>0.0</td><td>1000.0</td><td>unknown</td><td>0.9</td><td>1.025211</td><td>0.018338840454816818</td><td>0.0</td><td>0.0</td><td>0.0</td><td>0.0</td><td>0.0</td><td>0.0</td><td>0.0</td><td>0.0</td><td>0.0</td><td>0.0</td><td>0.0</td><td>0.0</td><td>0.0</td><td>0.0</td><td>0.0</td><td>0.0</td><td>0.0</td><td>0.0</td><td>0.0</td><td>0.0</td><td>0.0</td><td>0.0</td><td>0.0</td><td>0.0</td><td>0.0</td><td>0.0</td><td>0.0</td><td>0.0</td><td>0.0</td><td>0.0</td><td>0.0</td><td>0.0</td><td>0.0</td><td>0.0</td></tr>\n",
       "<tr><td>20200219</td><td>51030</td><td>70005</td><td>0.0</td><td>0.0</td><td>0.0</td><td>unknown</td><td>other</td><td>unknown</td><td>unknown</td><td>900.0</td><td>1343.9888305664067</td><td>1000.0</td><td>unknown</td><td>0.9</td><td>1.021381</td><td>0.018338840454816818</td><td>0.0</td><td>0.0</td><td>156.27777099609375</td><td>38.330753326416016</td><td>103.22396850585938</td><td>115.39551544189453</td><td>9775.427734375</td><td>0.0</td><td>0.0</td><td>0.0</td><td>1254.233742503177</td><td>1343.9888305664067</td><td>1368.5598828125</td><td>1320.0967744598886</td><td>0.0</td><td>0.0</td><td>0.0</td><td>0.0</td><td>0.0</td><td>0.0</td><td>0.0</td><td>0.0</td><td>0.0</td><td>0.0</td><td>0.0</td><td>0.0</td><td>0.0</td><td>22.086721773280537</td><td>21.420544538756392</td><td>19.89465601255312</td><td>0.0</td><td>0.0</td><td>0.0</td><td>0.0</td></tr>\n",
       "<tr><td>20200219</td><td>51031</td><td>70005</td><td>0.0</td><td>0.0</td><td>0.0</td><td>unknown</td><td>other</td><td>unknown</td><td>unknown</td><td>900.0</td><td>1274.8758575439458</td><td>1000.0</td><td>unknown</td><td>0.9</td><td>1.011203</td><td>0.018338840454816818</td><td>0.0</td><td>0.0</td><td>148.2413787841797</td><td>36.46641540527344</td><td>97.36178588867188</td><td>116.91536712646484</td><td>9226.1015625</td><td>0.0</td><td>0.0</td><td>0.0</td><td>1183.0046728440814</td><td>1274.8758575439458</td><td>1291.6542187500002</td><td>1337.483509973618</td><td>0.0</td><td>0.0</td><td>0.0</td><td>0.0</td><td>0.0</td><td>0.0</td><td>0.0</td><td>0.0</td><td>0.0</td><td>0.0</td><td>0.0</td><td>0.0</td><td>0.0</td><td>22.080598194447436</td><td>21.40015385586721</td><td>19.848699583634996</td><td>0.0</td><td>0.0</td><td>0.0</td><td>0.0</td></tr>\n",
       "<tr><td>...</td><td>...</td><td>...</td><td>...</td><td>...</td><td>...</td><td>...</td><td>...</td><td>...</td><td>...</td><td>...</td><td>...</td><td>...</td><td>...</td><td>...</td><td>...</td><td>...</td><td>...</td><td>...</td><td>...</td><td>...</td><td>...</td><td>...</td><td>...</td><td>...</td><td>...</td><td>...</td><td>...</td><td>...</td><td>...</td><td>...</td><td>...</td><td>...</td><td>...</td><td>...</td><td>...</td><td>...</td><td>...</td><td>...</td><td>...</td><td>...</td><td>...</td><td>...</td><td>...</td><td>...</td><td>...</td><td>...</td><td>...</td><td>...</td><td>...</td><td>...</td></tr>\n",
       "<tr><td>20240811</td><td>247528</td><td>6951</td><td>344.369</td><td>16.086</td><td>60534.38172642</td><td>main</td><td>dark</td><td>dark</td><td>maindark</td><td>901.3694458007812</td><td>969.6046142578125</td><td>1000.0</td><td>dark</td><td>0.85</td><td>1.0406320095062256</td><td>0.044877439737319946</td><td>0.7411739826202393</td><td>1011.6485595703125</td><td>109.28627014160156</td><td>31.885089874267578</td><td>79.79886627197266</td><td>102.94174189120531</td><td>6855.8251953125</td><td>12592.3251953125</td><td>2020.419189453125</td><td>12808.1142578125</td><td>969.6046142578125</td><td>939.8619384765625</td><td>959.8155517578125</td><td>1214.8061297808124</td><td>1055.6251220703125</td><td>1057.2437744140625</td><td>907.1410522460938</td><td>0.9900068231912147</td><td>0.7639646840853687</td><td>0.7648771254981794</td><td>0.531613381333464</td><td>0.2374791143951383</td><td>1.2210461677214273</td><td>1.1634403363417296</td><td>1.1288559207319588</td><td>1.0425706065258322</td><td>21.367864086515503</td><td>22.1030599706196</td><td>21.375212627043425</td><td>19.855108602241</td><td>1224.2348646528164</td><td>1224.2348646528164</td><td>1087.2171669571308</td><td>1177.2436004852325</td></tr>\n",
       "<tr><td>20240811</td><td>247529</td><td>10040</td><td>351.028</td><td>12.039</td><td>60534.39354864</td><td>main</td><td>dark</td><td>dark</td><td>maindark</td><td>496.1578369140625</td><td>429.18170166015625</td><td>1000.0</td><td>dark</td><td>0.85</td><td>1.0635850429534912</td><td>0.05874023586511612</td><td>0.7435870170593262</td><td>457.554931640625</td><td>48.65447235107422</td><td>14.093167304992676</td><td>35.321834564208984</td><td>39.41304643843323</td><td>3153.46044921875</td><td>5470.96240234375</td><td>914.0369262695312</td><td>6353.80078125</td><td>429.18170166015625</td><td>418.428466796875</td><td>441.4844665527344</td><td>465.10977497685997</td><td>458.6353454589844</td><td>478.2967224121094</td><td>450.0110778808594</td><td>0.9957813149228574</td><td>0.7484903104001552</td><td>0.7644044980645351</td><td>0.5316450472682661</td><td>0.23718613687094336</td><td>1.2164809236034082</td><td>1.1636947262475603</td><td>1.130954270042408</td><td>1.0639757079156482</td><td>21.249407700068062</td><td>22.041945103950656</td><td>21.292467810587496</td><td>19.780432078859388</td><td>497.0730537310182</td><td>497.0730537310182</td><td>476.4885777853104</td><td>563.4197035038846</td></tr>\n",
       "<tr><td>20240811</td><td>247530</td><td>3815</td><td>347.364</td><td>18.412</td><td>60534.40069601</td><td>main</td><td>dark</td><td>dark</td><td>maindark</td><td>1345.6346435546875</td><td>1127.6103515625</td><td>1000.0</td><td>dark</td><td>0.85</td><td>1.034301996231079</td><td>0.14684182405471802</td><td>0.7355740070343018</td><td>1007.197021484375</td><td>131.06871032714844</td><td>35.89905548095703</td><td>92.80280303955078</td><td>90.58827207572759</td><td>7743.5224609375</td><td>13522.173828125</td><td>2175.986572265625</td><td>13279.1591796875</td><td>1127.6103515625</td><td>1127.19091796875</td><td>1084.0931396484375</td><td>1069.0239564835613</td><td>1133.5750732421875</td><td>1138.6490478515625</td><td>940.5029907226562</td><td>0.9546868423453168</td><td>0.8408000602052532</td><td>0.7086851200835247</td><td>0.4969404350565698</td><td>0.22369722034717004</td><td>1.1103019367167093</td><td>1.065389525481174</td><td>1.0402825690328545</td><td>1.0402615255169572</td><td>21.26922394775155</td><td>22.075250243809567</td><td>21.32285870501553</td><td>19.89196841829213</td><td>1078.4679118552754</td><td>1078.4679118552754</td><td>966.8927272969829</td><td>999.3082350790254</td></tr>\n",
       "<tr><td>20240811</td><td>247531</td><td>10051</td><td>350.635</td><td>20.862</td><td>60534.41774169</td><td>main</td><td>dark</td><td>dark</td><td>maindark</td><td>1018.934814453125</td><td>1052.037841796875</td><td>1000.0</td><td>dark</td><td>0.85</td><td>1.0304579734802246</td><td>0.04781072586774826</td><td>0.8089560270309448</td><td>1018.5135498046875</td><td>119.21675109863281</td><td>34.21532440185547</td><td>86.5831527709961</td><td>98.2312222911045</td><td>7357.2919921875</td><td>13527.3642578125</td><td>2159.69970703125</td><td>13523.0625</td><td>1052.037841796875</td><td>1025.26416015625</td><td>1030.0208740234375</td><td>1159.217716572273</td><td>1134.01025390625</td><td>1130.12646484375</td><td>957.777587890625</td><td>0.9901224262049546</td><td>0.7733579414467817</td><td>0.7520886874171397</td><td>0.5236842859468347</td><td>0.23410012602536834</td><td>1.1773062943293144</td><td>1.1218748127919782</td><td>1.088899387974346</td><td>1.0362239867090162</td><td>21.223587446818733</td><td>22.08499118085784</td><td>21.32625670983131</td><td>19.919475100001453</td><td>1271.029801157748</td><td>1271.029801157748</td><td>1131.4206408069429</td><td>1225.4939056252717</td></tr>\n",
       "<tr><td>20240811</td><td>247532</td><td>2238</td><td>354.076</td><td>18.235</td><td>60534.43091844</td><td>main</td><td>dark</td><td>dark</td><td>maindark</td><td>1259.8875732421875</td><td>1063.469482421875</td><td>1000.0</td><td>dark</td><td>0.85</td><td>1.044754981994629</td><td>0.06236021965742111</td><td>0.7752460241317749</td><td>1009.441650390625</td><td>122.29011535644531</td><td>34.92768096923828</td><td>87.52398681640625</td><td>109.54480354487896</td><td>7571.9169921875</td><td>13547.3623046875</td><td>2216.37451171875</td><td>14551.416015625</td><td>1063.469482421875</td><td>1051.695068359375</td><td>1060.068359375</td><td>1292.7282595683664</td><td>1135.6866455078125</td><td>1159.783203125</td><td>1030.6112060546875</td><td>0.8181439487385438</td><td>0.7657385585190628</td><td>0.7672510602066878</td><td>0.5343449780215859</td><td>0.23867171558815192</td><td>1.0418816408852662</td><td>0.993727775091835</td><td>0.9648658207651273</td><td>1.053355884165044</td><td>21.128920243463906</td><td>21.982832248462163</td><td>21.226617019286188</td><td>19.79964838784093</td><td>1128.401796021883</td><td>1128.401796021883</td><td>1020.6841519652768</td><td>1115.7333645631868</td></tr>\n",
       "<tr><td>20240811</td><td>247533</td><td>2257</td><td>358.616</td><td>14.519</td><td>60534.44688809</td><td>main</td><td>dark</td><td>dark</td><td>maindark</td><td>1030.04248046875</td><td>1091.3558349609375</td><td>1000.0</td><td>dark</td><td>0.85</td><td>1.0683629512786865</td><td>0.042809292674064636</td><td>0.8541939854621887</td><td>1015.0289916992188</td><td>122.882080078125</td><td>35.72774887084961</td><td>89.81904602050781</td><td>120.50965385399759</td><td>7814.27587890625</td><td>14248.3359375</td><td>2322.952392578125</td><td>14969.1689453125</td><td>1091.3558349609375</td><td>1056.785888671875</td><td>1093.9986572265625</td><td>1422.1234604162776</td><td>1194.4498291015625</td><td>1215.55322265625</td><td>1060.1988525390625</td><td>0.980115415004357</td><td>0.8149706458924038</td><td>0.7220328570697538</td><td>0.5040025571705538</td><td>0.22627189439355344</td><td>1.1583410507538932</td><td>1.1067776454166331</td><td>1.0765247337056791</td><td>1.0765145206803846</td><td>21.08073786715708</td><td>21.974946384717523</td><td>21.176436199676623</td><td>19.80419036129597</td><td>1139.8141917538592</td><td>1139.8141917538592</td><td>1053.2316075764418</td><td>1179.0196901751244</td></tr>\n",
       "<tr><td>20240811</td><td>247534</td><td>11643</td><td>4.105</td><td>12.005</td><td>60534.46021628</td><td>main</td><td>dark</td><td>dark</td><td>maindark</td><td>1180.0335693359375</td><td>1112.202880859375</td><td>1000.0</td><td>dark</td><td>0.85</td><td>1.082522988319397</td><td>0.14347930252552032</td><td>0.8350430130958557</td><td>1013.2708740234375</td><td>127.91471862792969</td><td>36.142948150634766</td><td>91.5347671508789</td><td>99.867545023188</td><td>7807.98681640625</td><td>13986.5078125</td><td>2260.811767578125</td><td>14419.8486328125</td><td>1112.202880859375</td><td>1100.066650390625</td><td>1093.1181640625</td><td>1178.5278122508128</td><td>1172.5006103515625</td><td>1183.0362548828125</td><td>1021.2929077148438</td><td>1.0175209688212346</td><td>0.7920205962674025</td><td>0.7142020205305208</td><td>0.4995637462162541</td><td>0.22463976662919388</td><td>1.1963562298640502</td><td>1.1382610718753172</td><td>1.1080650185882202</td><td>1.0918196390626136</td><td>21.068503765902534</td><td>21.89294396529984</td><td>21.149675366395094</td><td>19.79140194174022</td><td>928.3050724871539</td><td>928.3050724871539</td><td>860.0327572123894</td><td>967.0168042167019</td></tr>\n",
       "<tr><td>20240811</td><td>247535</td><td>3623</td><td>8.037</td><td>15.235</td><td>60534.47525803</td><td>main</td><td>dark</td><td>dark</td><td>maindark</td><td>815.0862426757812</td><td>709.7935791015625</td><td>1000.0</td><td>dark</td><td>0.85</td><td>1.0669900178909302</td><td>0.06605811417102814</td><td>0.9333620071411133</td><td>697.5803833007812</td><td>81.07109069824219</td><td>22.839502334594727</td><td>58.41630935668945</td><td>60.525148504786195</td><td>5139.2646484375</td><td>9036.771484375</td><td>1505.7318115234375</td><td>10087.515625</td><td>709.7935791015625</td><td>697.21142578125</td><td>719.4970703125</td><td>714.2517705520763</td><td>757.56005859375</td><td>787.91845703125</td><td>714.4533081054688</td><td>1.017934471709824</td><td>0.8200954815959343</td><td>0.7156446641531912</td><td>0.500110290420825</td><td>0.22435507619363376</td><td>1.168147638098866</td><td>1.1192264650500299</td><td>1.0933847012439495</td><td>1.0736928470418776</td><td>21.039142553606798</td><td>21.65983717329619</td><td>21.108917475605363</td><td>19.715744629047887</td><td>760.1467011612814</td><td>760.1467011612814</td><td>728.8823471134752</td><td>837.8630329669646</td></tr>\n",
       "<tr><td>20240811</td><td>247536</td><td>21004</td><td>14.48</td><td>15.506</td><td>60534.48628697</td><td>main</td><td>bright</td><td>bright</td><td>mainbright</td><td>388.0565490722656</td><td>213.33775329589844</td><td>180.0</td><td>bright</td><td>0.85</td><td>1.0574580430984497</td><td>0.057311009615659714</td><td>0.8351590037345886</td><td>186.02218627929688</td><td>23.16343879699707</td><td>6.307667255401611</td><td>16.22843360900879</td><td>12.149189594574272</td><td>1523.841064453125</td><td>2369.862060546875</td><td>423.01824951171875</td><td>3283.35400390625</td><td>197.185302734375</td><td>199.20558166503906</td><td>213.33775329589844</td><td>143.37148099704925</td><td>198.66751098632812</td><td>221.35675048828125</td><td>232.545166015625</td><td>1.0003230378342467</td><td>0.8390532806789683</td><td>0.70849211521871</td><td>0.4973698261754207</td><td>0.22394183375757787</td><td>1.1319986448071286</td><td>1.099222664997284</td><td>1.0745543493224152</td><td>1.0599553987418162</td><td>20.68108500685559</td><td>20.766684324516206</td><td>20.725277969866443</td><td>19.699271231268256</td><td>243.16951620049647</td><td>228.24315289172364</td><td>243.16951620049647</td><td>325.19085591350307</td></tr>\n",
       "<tr><td>20240811</td><td>247537</td><td>22564</td><td>16.369</td><td>11.416</td><td>60534.49216449</td><td>main</td><td>bright</td><td>bright</td><td>mainbright</td><td>802.7540893554688</td><td>199.97581481933594</td><td>180.0</td><td>bright</td><td>0.85</td><td>1.084354043006897</td><td>0.040372084826231</td><td>1.1371020078659058</td><td>159.10128784179688</td><td>24.519306182861328</td><td>6.137171745300293</td><td>14.476789474487305</td><td>9.79267755607143</td><td>1428.398681640625</td><td>2059.87060546875</td><td>385.8652648925781</td><td>3577.23974609375</td><td>175.90176391601562</td><td>210.8660430908203</td><td>199.97581481933594</td><td>115.56249684073876</td><td>172.6806640625</td><td>201.9153594970703</td><td>253.35977172851562</td><td>0.9637808365860443</td><td>0.8242769756984506</td><td>0.7314590301330718</td><td>0.5107739100469961</td><td>0.22946269591027157</td><td>1.1534293182415314</td><td>1.1040503491991678</td><td>1.0797739798788024</td><td>1.0902361709291886</td><td>19.093559953323393</td><td>18.707641972862074</td><td>19.1132490845288</td><td>19.091466695236615</td><td>196.75697506196457</td><td>160.3567407149404</td><td>196.75697506196457</td><td>384.09250395416865</td></tr>\n",
       "</table></div>"
      ],
      "text/plain": [
       "<Table length=23706>\n",
       " NIGHT   EXPID  TILEID ... EFFTIME_BRIGHT_GFA EFFTIME_BACKUP_GFA\n",
       " int32   int32  int32  ...      float64            float64      \n",
       "-------- ------ ------ ... ------------------ ------------------\n",
       "20200219  50986  63075 ...                0.0                0.0\n",
       "20200219  50988  70004 ...                0.0                0.0\n",
       "20200219  50991  63075 ...                0.0                0.0\n",
       "20200219  50995  70004 ...                0.0                0.0\n",
       "20200219  51001  70004 ...                0.0                0.0\n",
       "20200219  51002  70004 ...                0.0                0.0\n",
       "20200219  51028  70005 ...                0.0                0.0\n",
       "20200219  51029  70005 ...                0.0                0.0\n",
       "20200219  51030  70005 ...                0.0                0.0\n",
       "20200219  51031  70005 ...                0.0                0.0\n",
       "     ...    ...    ... ...                ...                ...\n",
       "20240811 247528   6951 ... 1087.2171669571308 1177.2436004852325\n",
       "20240811 247529  10040 ...  476.4885777853104  563.4197035038846\n",
       "20240811 247530   3815 ...  966.8927272969829  999.3082350790254\n",
       "20240811 247531  10051 ... 1131.4206408069429 1225.4939056252717\n",
       "20240811 247532   2238 ... 1020.6841519652768 1115.7333645631868\n",
       "20240811 247533   2257 ... 1053.2316075764418 1179.0196901751244\n",
       "20240811 247534  11643 ...  860.0327572123894  967.0168042167019\n",
       "20240811 247535   3623 ...  728.8823471134752  837.8630329669646\n",
       "20240811 247536  21004 ... 243.16951620049647 325.19085591350307\n",
       "20240811 247537  22564 ... 196.75697506196457 384.09250395416865"
      ]
     },
     "execution_count": 19,
     "metadata": {},
     "output_type": "execute_result"
    }
   ],
   "source": [
    "daily_exposures_patched = daily_exposures.copy()\n",
    "# for column in jura_exposures.colnames:\n",
    "# for column in ('NIGHT', 'EXPID', 'TILEID', 'TILERA', 'TILEDEC', 'MJD', 'SURVEY', 'PROGRAM', 'FAPRGRM', 'FAFLAVOR', 'EXPTIME', 'GOALTIME', 'GOALTYPE', 'MINTFRAC', 'AIRMASS', 'EBV', 'SEEING_ETC', 'EFFTIME_ETC',\n",
    "#                'TRANSPARENCY_GFA', 'SEEING_GFA', 'FIBER_FRACFLUX_GFA', 'FIBER_FRACFLUX_ELG_GFA', 'FIBER_FRACFLUX_BGS_GFA', 'FIBERFAC_GFA', 'FIBERFAC_ELG_GFA', 'FIBERFAC_BGS_GFA', 'AIRMASS_GFA', 'SKY_MAG_AB_GFA',\n",
    "#                'EFFTIME_GFA', 'EFFTIME_DARK_GFA', 'EFFTIME_BRIGHT_GFA', 'EFFTIME_BACKUP_GFA'):\n",
    "for column in ('TILERA', 'TILEDEC', 'MJD', 'SURVEY'):\n",
    "    daily_exposures_patched[column][daily_exposures_index] = jura_exposures[column][jura_exposures_index]\n",
    "daily_exposures_patched"
   ]
  },
  {
   "cell_type": "markdown",
   "id": "2cad2268-9557-444e-897c-e04bc63b42c6",
   "metadata": {},
   "source": [
    "### After patching are there still missing data?"
   ]
  },
  {
   "cell_type": "code",
   "execution_count": 22,
   "id": "00e2e401-93f6-4d87-8307-9c1f0db767e2",
   "metadata": {
    "tags": []
   },
   "outputs": [],
   "source": [
    "assert not (daily_exposures_patched['TILERA'] == daily_exposures['TILERA']).all()\n",
    "assert not (daily_exposures_patched['TILEDEC'] == daily_exposures['TILEDEC']).all()\n",
    "assert not (daily_exposures_patched['MJD'] == daily_exposures['MJD']).all()\n",
    "assert not (daily_exposures_patched['SURVEY'] == daily_exposures['SURVEY']).all()\n",
    "assert (daily_exposures_patched['PROGRAM'] == daily_exposures['PROGRAM']).all()\n",
    "assert (daily_exposures_patched['FAPRGRM'] == daily_exposures['FAPRGRM']).all()\n",
    "assert (daily_exposures_patched['FAFLAVOR'] == daily_exposures['FAFLAVOR']).all()"
   ]
  },
  {
   "cell_type": "code",
   "execution_count": 23,
   "id": "60427b0b-913d-456b-b45e-6ccc3a46866b",
   "metadata": {
    "tags": []
   },
   "outputs": [
    {
     "name": "stdout",
     "output_type": "stream",
     "text": [
      "INFO: tile 80618 exposure 69082 has MJD-OBS = 59204.557878 in /global/cfs/cdirs/desi/spectro/data/20201220/00069082/desi-00069082.fits.fz!\n",
      " NIGHT   EXPID TILEID      MJD      \n",
      "-------- ----- ------ --------------\n",
      "20201220 69082  80618 59204.55787815\n",
      "INFO: tile 80618 exposure 69083 has MJD-OBS = 59204.563137 in /global/cfs/cdirs/desi/spectro/data/20201220/00069083/desi-00069083.fits.fz!\n",
      " NIGHT   EXPID TILEID      MJD      \n",
      "-------- ----- ------ --------------\n",
      "20201220 69083  80618 59204.56313729\n",
      "INFO: tile 80618 exposure 69084 has MJD-OBS = 59204.568494 in /global/cfs/cdirs/desi/spectro/data/20201220/00069084/desi-00069084.fits.fz!\n",
      " NIGHT   EXPID TILEID      MJD      \n",
      "-------- ----- ------ --------------\n",
      "20201220 69084  80618 59204.56849373\n",
      "INFO: tile 80618 exposure 69085 has MJD-OBS = 59204.573527 in /global/cfs/cdirs/desi/spectro/data/20201220/00069085/desi-00069085.fits.fz!\n",
      " NIGHT   EXPID TILEID      MJD      \n",
      "-------- ----- ------ --------------\n",
      "20201220 69085  80618 59204.57352664\n",
      "INFO: tile 80617 exposure 69400 has MJD-OBS = 59206.108281 in /global/cfs/cdirs/desi/spectro/data/20201222/00069400/desi-00069400.fits.fz!\n",
      " NIGHT   EXPID TILEID      MJD      \n",
      "-------- ----- ------ --------------\n",
      "20201222 69400  80617 59206.10828083\n",
      "INFO: tile 80617 exposure 69401 has MJD-OBS = 59206.116788 in /global/cfs/cdirs/desi/spectro/data/20201222/00069401/desi-00069401.fits.fz!\n",
      " NIGHT   EXPID TILEID      MJD      \n",
      "-------- ----- ------ --------------\n",
      "20201222 69401  80617 59206.11678777\n",
      "INFO: tile 80617 exposure 69402 has MJD-OBS = 59206.125315 in /global/cfs/cdirs/desi/spectro/data/20201222/00069402/desi-00069402.fits.fz!\n",
      " NIGHT   EXPID TILEID      MJD      \n",
      "-------- ----- ------ --------------\n",
      "20201222 69402  80617 59206.12531454\n",
      "INFO: tile 80617 exposure 69403 has MJD-OBS = 59206.135059 in /global/cfs/cdirs/desi/spectro/data/20201222/00069403/desi-00069403.fits.fz!\n",
      " NIGHT   EXPID TILEID      MJD      \n",
      "-------- ----- ------ --------------\n",
      "20201222 69403  80617 59206.13505941\n",
      "INFO: tile 80617 exposure 69404 has MJD-OBS = 59206.145698 in /global/cfs/cdirs/desi/spectro/data/20201222/00069404/desi-00069404.fits.fz!\n",
      " NIGHT   EXPID TILEID      MJD      \n",
      "-------- ----- ------ --------------\n",
      "20201222 69404  80617 59206.14569799\n",
      "INFO: tile 80608 exposure 69435 has MJD-OBS = 59206.313242 in /global/cfs/cdirs/desi/spectro/data/20201222/00069435/desi-00069435.fits.fz!\n",
      " NIGHT   EXPID TILEID      MJD     \n",
      "-------- ----- ------ -------------\n",
      "20201222 69435  80608 59206.3132417\n",
      "INFO: tile 80608 exposure 69436 has MJD-OBS = 59206.326569 in /global/cfs/cdirs/desi/spectro/data/20201222/00069436/desi-00069436.fits.fz!\n",
      " NIGHT   EXPID TILEID      MJD      \n",
      "-------- ----- ------ --------------\n",
      "20201222 69436  80608 59206.32656933\n",
      "INFO: tile 80608 exposure 69437 has MJD-OBS = 59206.339900 in /global/cfs/cdirs/desi/spectro/data/20201222/00069437/desi-00069437.fits.fz!\n",
      " NIGHT   EXPID TILEID      MJD      \n",
      "-------- ----- ------ --------------\n",
      "20201222 69437  80608 59206.33989997\n",
      "INFO: tile 80608 exposure 69438 has MJD-OBS = 59206.353205 in /global/cfs/cdirs/desi/spectro/data/20201222/00069438/desi-00069438.fits.fz!\n",
      " NIGHT   EXPID TILEID      MJD      \n",
      "-------- ----- ------ --------------\n",
      "20201222 69438  80608 59206.35320477\n",
      "INFO: tile 80607 exposure 69440 has MJD-OBS = 59206.367353 in /global/cfs/cdirs/desi/spectro/data/20201222/00069440/desi-00069440.fits.fz!\n",
      " NIGHT   EXPID TILEID      MJD      \n",
      "-------- ----- ------ --------------\n",
      "20201222 69440  80607 59206.36735299\n",
      "INFO: tile 80607 exposure 69441 has MJD-OBS = 59206.380662 in /global/cfs/cdirs/desi/spectro/data/20201222/00069441/desi-00069441.fits.fz!\n",
      " NIGHT   EXPID TILEID      MJD      \n",
      "-------- ----- ------ --------------\n",
      "20201222 69441  80607 59206.38066192\n",
      "INFO: tile 80607 exposure 69442 has MJD-OBS = 59206.393943 in /global/cfs/cdirs/desi/spectro/data/20201222/00069442/desi-00069442.fits.fz!\n",
      " NIGHT   EXPID TILEID      MJD      \n",
      "-------- ----- ------ --------------\n",
      "20201222 69442  80607 59206.39394324\n",
      "INFO: tile 80620 exposure 69444 has MJD-OBS = 59206.409566 in /global/cfs/cdirs/desi/spectro/data/20201222/00069444/desi-00069444.fits.fz!\n",
      " NIGHT   EXPID TILEID      MJD      \n",
      "-------- ----- ------ --------------\n",
      "20201222 69444  80620 59206.40956632\n",
      "INFO: tile 80620 exposure 69445 has MJD-OBS = 59206.422851 in /global/cfs/cdirs/desi/spectro/data/20201222/00069445/desi-00069445.fits.fz!\n",
      " NIGHT   EXPID TILEID      MJD      \n",
      "-------- ----- ------ --------------\n",
      "20201222 69445  80620 59206.42285072\n",
      "INFO: tile 80620 exposure 69446 has MJD-OBS = 59206.436229 in /global/cfs/cdirs/desi/spectro/data/20201222/00069446/desi-00069446.fits.fz!\n",
      " NIGHT   EXPID TILEID      MJD      \n",
      "-------- ----- ------ --------------\n",
      "20201222 69446  80620 59206.43622927\n",
      "INFO: tile 80620 exposure 69447 has MJD-OBS = 59206.449480 in /global/cfs/cdirs/desi/spectro/data/20201222/00069447/desi-00069447.fits.fz!\n",
      " NIGHT   EXPID TILEID      MJD      \n",
      "-------- ----- ------ --------------\n",
      "20201222 69447  80620 59206.44947983\n",
      "INFO: tile 80614 exposure 69449 has MJD-OBS = 59206.468311 in /global/cfs/cdirs/desi/spectro/data/20201222/00069449/desi-00069449.fits.fz!\n",
      " NIGHT   EXPID TILEID      MJD      \n",
      "-------- ----- ------ --------------\n",
      "20201222 69449  80614 59206.46831138\n",
      "INFO: tile 80614 exposure 69450 has MJD-OBS = 59206.474771 in /global/cfs/cdirs/desi/spectro/data/20201222/00069450/desi-00069450.fits.fz!\n",
      " NIGHT   EXPID TILEID      MJD      \n",
      "-------- ----- ------ --------------\n",
      "20201222 69450  80614 59206.47477105\n",
      "INFO: tile 80614 exposure 69451 has MJD-OBS = 59206.481235 in /global/cfs/cdirs/desi/spectro/data/20201222/00069451/desi-00069451.fits.fz!\n",
      " NIGHT   EXPID TILEID      MJD      \n",
      "-------- ----- ------ --------------\n",
      "20201222 69451  80614 59206.48123483\n",
      "INFO: tile 80614 exposure 69452 has MJD-OBS = 59206.487680 in /global/cfs/cdirs/desi/spectro/data/20201222/00069452/desi-00069452.fits.fz!\n",
      " NIGHT   EXPID TILEID      MJD      \n",
      "-------- ----- ------ --------------\n",
      "20201222 69452  80614 59206.48768029\n",
      "INFO: tile 80614 exposure 69453 has MJD-OBS = 59206.494103 in /global/cfs/cdirs/desi/spectro/data/20201222/00069453/desi-00069453.fits.fz!\n",
      " NIGHT   EXPID TILEID      MJD      \n",
      "-------- ----- ------ --------------\n",
      "20201222 69453  80614 59206.49410313\n",
      "INFO: tile 80610 exposure 69455 has MJD-OBS = 59206.501778 in /global/cfs/cdirs/desi/spectro/data/20201222/00069455/desi-00069455.fits.fz!\n",
      " NIGHT   EXPID TILEID      MJD      \n",
      "-------- ----- ------ --------------\n",
      "20201222 69455  80610 59206.50177768\n",
      "INFO: tile 80610 exposure 69456 has MJD-OBS = 59206.515169 in /global/cfs/cdirs/desi/spectro/data/20201222/00069456/desi-00069456.fits.fz!\n",
      " NIGHT   EXPID TILEID      MJD      \n",
      "-------- ----- ------ --------------\n",
      "20201222 69456  80610 59206.51516924\n",
      "INFO: tile 80614 exposure 69458 has MJD-OBS = 59206.533942 in /global/cfs/cdirs/desi/spectro/data/20201222/00069458/desi-00069458.fits.fz!\n",
      " NIGHT   EXPID TILEID      MJD      \n",
      "-------- ----- ------ --------------\n",
      "20201222 69458  80614 59206.53394194\n",
      "INFO: tile 80614 exposure 69459 has MJD-OBS = 59206.540400 in /global/cfs/cdirs/desi/spectro/data/20201222/00069459/desi-00069459.fits.fz!\n",
      " NIGHT   EXPID TILEID      MJD      \n",
      "-------- ----- ------ --------------\n",
      "20201222 69459  80614 59206.54040006\n",
      "INFO: tile 80614 exposure 69460 has MJD-OBS = 59206.546853 in /global/cfs/cdirs/desi/spectro/data/20201222/00069460/desi-00069460.fits.fz!\n",
      " NIGHT   EXPID TILEID      MJD      \n",
      "-------- ----- ------ --------------\n",
      "20201222 69460  80614 59206.54685306\n",
      "INFO: tile 80623 exposure 69628 has MJD-OBS = 59207.380045 in /global/cfs/cdirs/desi/spectro/data/20201223/00069628/desi-00069628.fits.fz!\n",
      " NIGHT   EXPID TILEID      MJD      \n",
      "-------- ----- ------ --------------\n",
      "20201223 69628  80623 59207.38004477\n",
      "INFO: tile 80623 exposure 69629 has MJD-OBS = 59207.393223 in /global/cfs/cdirs/desi/spectro/data/20201223/00069629/desi-00069629.fits.fz!\n",
      " NIGHT   EXPID TILEID      MJD      \n",
      "-------- ----- ------ --------------\n",
      "20201223 69629  80623 59207.39322287\n",
      "INFO: tile 80622 exposure 69631 has MJD-OBS = 59207.407850 in /global/cfs/cdirs/desi/spectro/data/20201223/00069631/desi-00069631.fits.fz!\n",
      " NIGHT   EXPID TILEID      MJD      \n",
      "-------- ----- ------ --------------\n",
      "20201223 69631  80622 59207.40785035\n",
      "INFO: tile 80622 exposure 69632 has MJD-OBS = 59207.421005 in /global/cfs/cdirs/desi/spectro/data/20201223/00069632/desi-00069632.fits.fz!\n",
      " NIGHT   EXPID TILEID      MJD      \n",
      "-------- ----- ------ --------------\n",
      "20201223 69632  80622 59207.42100469\n",
      "INFO: tile 80635 exposure 70543 has MJD-OBS = 59217.249417 in /global/cfs/cdirs/desi/spectro/data/20210102/00070543/desi-00070543.fits.fz!\n",
      " NIGHT   EXPID TILEID      MJD     \n",
      "-------- ----- ------ -------------\n",
      "20210102 70543  80635 59217.2494171\n",
      "INFO: tile 80635 exposure 70544 has MJD-OBS = 59217.255461 in /global/cfs/cdirs/desi/spectro/data/20210102/00070544/desi-00070544.fits.fz!\n",
      " NIGHT   EXPID TILEID      MJD      \n",
      "-------- ----- ------ --------------\n",
      "20210102 70544  80635 59217.25546107\n",
      "INFO: tile 80635 exposure 70545 has MJD-OBS = 59217.261845 in /global/cfs/cdirs/desi/spectro/data/20210102/00070545/desi-00070545.fits.fz!\n",
      " NIGHT   EXPID TILEID      MJD      \n",
      "-------- ----- ------ --------------\n",
      "20210102 70545  80635 59217.26184494\n",
      "INFO: tile 80713 exposure 71721 has MJD-OBS = 59225.094667 in /global/cfs/cdirs/desi/spectro/data/20210110/00071721/desi-00071721.fits.fz!\n",
      " NIGHT   EXPID TILEID       MJD      \n",
      "-------- ----- ------ ---------------\n",
      "20210110 71721  80713 59225.094667134\n",
      "INFO: tile 80713 exposure 71722 has MJD-OBS = 59225.107224 in /global/cfs/cdirs/desi/spectro/data/20210110/00071722/desi-00071722.fits.fz!\n",
      " NIGHT   EXPID TILEID       MJD      \n",
      "-------- ----- ------ ---------------\n",
      "20210110 71722  80713 59225.107223918\n",
      "INFO: tile 80713 exposure 71723 has MJD-OBS = 59225.119826 in /global/cfs/cdirs/desi/spectro/data/20210110/00071723/desi-00071723.fits.fz!\n",
      " NIGHT   EXPID TILEID       MJD      \n",
      "-------- ----- ------ ---------------\n",
      "20210110 71723  80713 59225.119825769\n",
      "INFO: tile 80670 exposure 71724 has MJD-OBS = 59225.134263 in /global/cfs/cdirs/desi/spectro/data/20210110/00071724/desi-00071724.fits.fz!\n",
      " NIGHT   EXPID TILEID       MJD      \n",
      "-------- ----- ------ ---------------\n",
      "20210110 71724  80670 59225.134262648\n",
      "INFO: tile 80670 exposure 71870 has MJD-OBS = 59226.161130 in /global/cfs/cdirs/desi/spectro/data/20210111/00071870/desi-00071870.fits.fz!\n",
      " NIGHT   EXPID TILEID       MJD      \n",
      "-------- ----- ------ ---------------\n",
      "20210111 71870  80670 59226.161129722\n",
      "INFO: tile 80715 exposure 72498 has MJD-OBS = 59230.164165 in /global/cfs/cdirs/desi/spectro/data/20210115/00072498/desi-00072498.fits.fz!\n",
      " NIGHT   EXPID TILEID       MJD      \n",
      "-------- ----- ------ ---------------\n",
      "20210115 72498  80715 59230.164164663\n",
      "INFO: tile 80715 exposure 72499 has MJD-OBS = 59230.176755 in /global/cfs/cdirs/desi/spectro/data/20210115/00072499/desi-00072499.fits.fz!\n",
      " NIGHT   EXPID TILEID       MJD      \n",
      "-------- ----- ------ ---------------\n",
      "20210115 72499  80715 59230.176755043\n",
      "INFO: tile 80715 exposure 72500 has MJD-OBS = 59230.189428 in /global/cfs/cdirs/desi/spectro/data/20210115/00072500/desi-00072500.fits.fz!\n",
      " NIGHT   EXPID TILEID      MJD     \n",
      "-------- ----- ------ -------------\n",
      "20210115 72500  80715 59230.1894283\n",
      "INFO: tile 80687 exposure 75823 has MJD-OBS = 59260.123180 in /global/cfs/cdirs/desi/spectro/data/20210214/00075823/desi-00075823.fits.fz!\n",
      " NIGHT   EXPID TILEID      MJD      \n",
      "-------- ----- ------ --------------\n",
      "20210214 75823  80687 59260.12318035\n",
      "INFO: tile 80687 exposure 75824 has MJD-OBS = 59260.132294 in /global/cfs/cdirs/desi/spectro/data/20210214/00075824/desi-00075824.fits.fz!\n",
      " NIGHT   EXPID TILEID       MJD      \n",
      "-------- ----- ------ ---------------\n",
      "20210214 75824  80687 59260.132294067\n",
      "INFO: tile 80687 exposure 75825 has MJD-OBS = 59260.141440 in /global/cfs/cdirs/desi/spectro/data/20210214/00075825/desi-00075825.fits.fz!\n",
      " NIGHT   EXPID TILEID       MJD      \n",
      "-------- ----- ------ ---------------\n",
      "20210214 75825  80687 59260.141440081\n",
      "INFO: tile 80687 exposure 75826 has MJD-OBS = 59260.150494 in /global/cfs/cdirs/desi/spectro/data/20210214/00075826/desi-00075826.fits.fz!\n",
      " NIGHT   EXPID TILEID       MJD      \n",
      "-------- ----- ------ ---------------\n",
      "20210214 75826  80687 59260.150493743\n",
      "INFO: tile 80687 exposure 75827 has MJD-OBS = 59260.159721 in /global/cfs/cdirs/desi/spectro/data/20210214/00075827/desi-00075827.fits.fz!\n",
      " NIGHT   EXPID TILEID       MJD      \n",
      "-------- ----- ------ ---------------\n",
      "20210214 75827  80687 59260.159721426\n",
      "INFO: tile 80687 exposure 75828 has MJD-OBS = 59260.168634 in /global/cfs/cdirs/desi/spectro/data/20210214/00075828/desi-00075828.fits.fz!\n",
      " NIGHT   EXPID TILEID       MJD      \n",
      "-------- ----- ------ ---------------\n",
      "20210214 75828  80687 59260.168633955\n",
      "INFO: tile 80687 exposure 75829 has MJD-OBS = 59260.177738 in /global/cfs/cdirs/desi/spectro/data/20210214/00075829/desi-00075829.fits.fz!\n",
      " NIGHT   EXPID TILEID       MJD      \n",
      "-------- ----- ------ ---------------\n",
      "20210214 75829  80687 59260.177738254\n",
      "INFO: tile 80687 exposure 75830 has MJD-OBS = 59260.186794 in /global/cfs/cdirs/desi/spectro/data/20210214/00075830/desi-00075830.fits.fz!\n",
      " NIGHT   EXPID TILEID       MJD      \n",
      "-------- ----- ------ ---------------\n",
      "20210214 75830  80687 59260.186793903\n",
      "INFO: tile 80687 exposure 75831 has MJD-OBS = 59260.196030 in /global/cfs/cdirs/desi/spectro/data/20210214/00075831/desi-00075831.fits.fz!\n",
      " NIGHT   EXPID TILEID       MJD      \n",
      "-------- ----- ------ ---------------\n",
      "20210214 75831  80687 59260.196030128\n",
      "INFO: tile 80687 exposure 75832 has MJD-OBS = 59260.204947 in /global/cfs/cdirs/desi/spectro/data/20210214/00075832/desi-00075832.fits.fz!\n",
      " NIGHT   EXPID TILEID       MJD      \n",
      "-------- ----- ------ ---------------\n",
      "20210214 75832  80687 59260.204947223\n",
      "INFO: tile 80687 exposure 75835 has MJD-OBS = 59260.218992 in /global/cfs/cdirs/desi/spectro/data/20210214/00075835/desi-00075835.fits.fz!\n",
      " NIGHT   EXPID TILEID       MJD      \n",
      "-------- ----- ------ ---------------\n",
      "20210214 75835  80687 59260.218992112\n",
      "INFO: tile 80687 exposure 75836 has MJD-OBS = 59260.228327 in /global/cfs/cdirs/desi/spectro/data/20210214/00075836/desi-00075836.fits.fz!\n",
      " NIGHT   EXPID TILEID      MJD      \n",
      "-------- ----- ------ --------------\n",
      "20210214 75836  80687 59260.22832683\n",
      "INFO: tile 80708 exposure 75868 has MJD-OBS = 59260.515382 in /global/cfs/cdirs/desi/spectro/data/20210214/00075868/desi-00075868.fits.fz!\n",
      " NIGHT   EXPID TILEID      MJD      \n",
      "-------- ----- ------ --------------\n",
      "20210214 75868  80708 59260.51538167\n",
      "INFO: tile 80708 exposure 75869 has MJD-OBS = 59260.524510 in /global/cfs/cdirs/desi/spectro/data/20210214/00075869/desi-00075869.fits.fz!\n",
      " NIGHT   EXPID TILEID       MJD      \n",
      "-------- ----- ------ ---------------\n",
      "20210214 75869  80708 59260.524510298\n",
      "INFO: tile 80708 exposure 75870 has MJD-OBS = 59260.533663 in /global/cfs/cdirs/desi/spectro/data/20210214/00075870/desi-00075870.fits.fz!\n",
      " NIGHT   EXPID TILEID       MJD      \n",
      "-------- ----- ------ ---------------\n",
      "20210214 75870  80708 59260.533663345\n",
      "INFO: tile 80733 exposure 75873 has MJD-OBS = 59260.550852 in /global/cfs/cdirs/desi/spectro/data/20210214/00075873/desi-00075873.fits.fz!\n",
      " NIGHT   EXPID TILEID       MJD      \n",
      "-------- ----- ------ ---------------\n",
      "20210214 75873  80733 59260.550852082\n",
      "INFO: tile 80733 exposure 75874 has MJD-OBS = 59260.556760 in /global/cfs/cdirs/desi/spectro/data/20210214/00075874/desi-00075874.fits.fz!\n",
      " NIGHT   EXPID TILEID       MJD      \n",
      "-------- ----- ------ ---------------\n",
      "20210214 75874  80733 59260.556760477\n",
      "INFO: tile 80769 exposure 76926 has MJD-OBS = 59265.098968 in /global/cfs/cdirs/desi/spectro/data/20210219/00076926/desi-00076926.fits.fz!\n",
      " NIGHT   EXPID TILEID       MJD      \n",
      "-------- ----- ------ ---------------\n",
      "20210219 76926  80769 59265.098968318\n",
      "INFO: tile 80769 exposure 76949 has MJD-OBS = 59265.126700 in /global/cfs/cdirs/desi/spectro/data/20210219/00076949/desi-00076949.fits.fz!\n",
      " NIGHT   EXPID TILEID       MJD      \n",
      "-------- ----- ------ ---------------\n",
      "20210219 76949  80769 59265.126700093\n",
      "INFO: tile 80769 exposure 76952 has MJD-OBS = 59265.132660 in /global/cfs/cdirs/desi/spectro/data/20210219/00076952/desi-00076952.fits.fz!\n",
      " NIGHT   EXPID TILEID       MJD      \n",
      "-------- ----- ------ ---------------\n",
      "20210219 76952  80769 59265.132659945\n",
      "INFO: tile 80816 exposure 77753 has MJD-OBS = 59269.256470 in /global/cfs/cdirs/desi/spectro/data/20210223/00077753/desi-00077753.fits.fz!\n",
      " NIGHT   EXPID TILEID       MJD      \n",
      "-------- ----- ------ ---------------\n",
      "20210223 77753  80816 59269.256470218\n",
      "INFO: tile 80662 exposure 77926 has MJD-OBS = 59270.253469 in /global/cfs/cdirs/desi/spectro/data/20210224/00077926/desi-00077926.fits.fz!\n",
      " NIGHT   EXPID TILEID       MJD      \n",
      "-------- ----- ------ ---------------\n",
      "20210224 77926  80662 59270.253469231\n",
      "INFO: tile 80662 exposure 77929 has MJD-OBS = 59270.272156 in /global/cfs/cdirs/desi/spectro/data/20210224/00077929/desi-00077929.fits.fz!\n",
      " NIGHT   EXPID TILEID       MJD      \n",
      "-------- ----- ------ ---------------\n",
      "20210224 77929  80662 59270.272156213\n",
      "INFO: tile 80639 exposure 79046 has MJD-OBS = 59274.186137 in /global/cfs/cdirs/desi/spectro/data/20210228/00079046/desi-00079046.fits.fz!\n",
      " NIGHT   EXPID TILEID       MJD      \n",
      "-------- ----- ------ ---------------\n",
      "20210228 79046  80639 59274.186137438\n",
      "INFO: tile 80722 exposure 79058 has MJD-OBS = 59274.230862 in /global/cfs/cdirs/desi/spectro/data/20210228/00079058/desi-00079058.fits.fz!\n",
      " NIGHT   EXPID TILEID       MJD      \n",
      "-------- ----- ------ ---------------\n",
      "20210228 79058  80722 59274.230862343\n",
      "INFO: tile 80722 exposure 79060 has MJD-OBS = 59274.264118 in /global/cfs/cdirs/desi/spectro/data/20210228/00079060/desi-00079060.fits.fz!\n",
      " NIGHT   EXPID TILEID       MJD      \n",
      "-------- ----- ------ ---------------\n",
      "20210228 79060  80722 59274.264117823\n",
      "INFO: tile 80722 exposure 79061 has MJD-OBS = 59274.272239 in /global/cfs/cdirs/desi/spectro/data/20210228/00079061/desi-00079061.fits.fz!\n",
      " NIGHT   EXPID TILEID       MJD      \n",
      "-------- ----- ------ ---------------\n",
      "20210228 79061  80722 59274.272238992\n",
      "INFO: tile 80722 exposure 79062 has MJD-OBS = 59274.277943 in /global/cfs/cdirs/desi/spectro/data/20210228/00079062/desi-00079062.fits.fz!\n",
      " NIGHT   EXPID TILEID       MJD      \n",
      "-------- ----- ------ ---------------\n",
      "20210228 79062  80722 59274.277943426\n",
      "INFO: tile 80741 exposure 79066 has MJD-OBS = 59274.328710 in /global/cfs/cdirs/desi/spectro/data/20210228/00079066/desi-00079066.fits.fz!\n",
      " NIGHT   EXPID TILEID       MJD      \n",
      "-------- ----- ------ ---------------\n",
      "20210228 79066  80741 59274.328709963\n",
      "INFO: tile 80741 exposure 79067 has MJD-OBS = 59274.343822 in /global/cfs/cdirs/desi/spectro/data/20210228/00079067/desi-00079067.fits.fz!\n",
      " NIGHT   EXPID TILEID      MJD      \n",
      "-------- ----- ------ --------------\n",
      "20210228 79067  80741 59274.34382233\n",
      "INFO: tile 80741 exposure 79068 has MJD-OBS = 59274.358837 in /global/cfs/cdirs/desi/spectro/data/20210228/00079068/desi-00079068.fits.fz!\n",
      " NIGHT   EXPID TILEID       MJD      \n",
      "-------- ----- ------ ---------------\n",
      "20210228 79068  80741 59274.358837452\n",
      "INFO: tile 80740 exposure 79069 has MJD-OBS = 59274.374192 in /global/cfs/cdirs/desi/spectro/data/20210228/00079069/desi-00079069.fits.fz!\n",
      " NIGHT   EXPID TILEID       MJD      \n",
      "-------- ----- ------ ---------------\n",
      "20210228 79069  80740 59274.374191986\n",
      "INFO: tile 80740 exposure 79070 has MJD-OBS = 59274.390114 in /global/cfs/cdirs/desi/spectro/data/20210228/00079070/desi-00079070.fits.fz!\n",
      " NIGHT   EXPID TILEID       MJD      \n",
      "-------- ----- ------ ---------------\n",
      "20210228 79070  80740 59274.390114169\n",
      "INFO: tile 80726 exposure 79072 has MJD-OBS = 59274.408621 in /global/cfs/cdirs/desi/spectro/data/20210228/00079072/desi-00079072.fits.fz!\n",
      " NIGHT   EXPID TILEID       MJD      \n",
      "-------- ----- ------ ---------------\n",
      "20210228 79072  80726 59274.408620889\n",
      "INFO: tile 80726 exposure 79073 has MJD-OBS = 59274.423888 in /global/cfs/cdirs/desi/spectro/data/20210228/00079073/desi-00079073.fits.fz!\n",
      " NIGHT   EXPID TILEID       MJD      \n",
      "-------- ----- ------ ---------------\n",
      "20210228 79073  80726 59274.423888115\n",
      "INFO: tile 80726 exposure 79074 has MJD-OBS = 59274.439179 in /global/cfs/cdirs/desi/spectro/data/20210228/00079074/desi-00079074.fits.fz!\n",
      " NIGHT   EXPID TILEID       MJD      \n",
      "-------- ----- ------ ---------------\n",
      "20210228 79074  80726 59274.439178527\n",
      "INFO: tile 80721 exposure 79741 has MJD-OBS = 59282.176876 in /global/cfs/cdirs/desi/spectro/data/20210308/00079741/desi-00079741.fits.fz!\n",
      " NIGHT   EXPID TILEID       MJD      \n",
      "-------- ----- ------ ---------------\n",
      "20210308 79741  80721 59282.176876234\n",
      "INFO: tile 80721 exposure 79749 has MJD-OBS = 59282.207467 in /global/cfs/cdirs/desi/spectro/data/20210308/00079749/desi-00079749.fits.fz!\n",
      " NIGHT   EXPID TILEID       MJD      \n",
      "-------- ----- ------ ---------------\n",
      "20210308 79749  80721 59282.207466672\n",
      "INFO: tile 80722 exposure 80474 has MJD-OBS = 59288.188474 in /global/cfs/cdirs/desi/spectro/data/20210314/00080474/desi-00080474.fits.fz!\n",
      " NIGHT   EXPID TILEID       MJD      \n",
      "-------- ----- ------ ---------------\n",
      "20210314 80474  80722 59288.188474374\n",
      "INFO: tile 80871 exposure 80481 has MJD-OBS = 59288.216706 in /global/cfs/cdirs/desi/spectro/data/20210314/00080481/desi-00080481.fits.fz!\n",
      " NIGHT   EXPID TILEID       MJD      \n",
      "-------- ----- ------ ---------------\n",
      "20210314 80481  80871 59288.216706308\n",
      "INFO: tile 80702 exposure 81201 has MJD-OBS = 59294.236517 in /global/cfs/cdirs/desi/spectro/data/20210320/00081201/desi-00081201.fits.fz!\n",
      " NIGHT   EXPID TILEID       MJD      \n",
      "-------- ----- ------ ---------------\n",
      "20210320 81201  80702 59294.236516598\n",
      "INFO: tile 80742 exposure 81356 has MJD-OBS = 59295.108323 in /global/cfs/cdirs/desi/spectro/data/20210321/00081356/desi-00081356.fits.fz!\n",
      " NIGHT   EXPID TILEID       MJD      \n",
      "-------- ----- ------ ---------------\n",
      "20210321 81356  80742 59295.108323264\n",
      "INFO: tile 80916 exposure 81471 has MJD-OBS = 59296.117864 in /global/cfs/cdirs/desi/spectro/data/20210322/00081471/desi-00081471.fits.fz!\n",
      " NIGHT   EXPID TILEID       MJD      \n",
      "-------- ----- ------ ---------------\n",
      "20210322 81471  80916 59296.117863884\n",
      "INFO: tile 80916 exposure 81478 has MJD-OBS = 59296.147124 in /global/cfs/cdirs/desi/spectro/data/20210322/00081478/desi-00081478.fits.fz!\n",
      " NIGHT   EXPID TILEID       MJD      \n",
      "-------- ----- ------ ---------------\n",
      "20210322 81478  80916 59296.147124245\n",
      "INFO: tile 80916 exposure 81508 has MJD-OBS = 59296.281297 in /global/cfs/cdirs/desi/spectro/data/20210322/00081508/desi-00081508.fits.fz!\n",
      " NIGHT   EXPID TILEID       MJD      \n",
      "-------- ----- ------ ---------------\n",
      "20210322 81508  80916 59296.281297302\n",
      "INFO: tile 80621 exposure 83414 has MJD-OBS = 59309.140932 in /global/cfs/cdirs/desi/spectro/data/20210404/00083414/desi-00083414.fits.fz!\n",
      " NIGHT   EXPID TILEID       MJD      \n",
      "-------- ----- ------ ---------------\n",
      "20210404 83414  80621 59309.140931599\n",
      "INFO: tile 80621 exposure 83415 has MJD-OBS = 59309.154354 in /global/cfs/cdirs/desi/spectro/data/20210404/00083415/desi-00083415.fits.fz!\n",
      " NIGHT   EXPID TILEID       MJD      \n",
      "-------- ----- ------ ---------------\n",
      "20210404 83415  80621 59309.154353633\n",
      "INFO: tile 80871 exposure 83976 has MJD-OBS = 59313.215656 in /global/cfs/cdirs/desi/spectro/data/20210408/00083976/desi-00083976.fits.fz!\n",
      " NIGHT   EXPID TILEID       MJD      \n",
      "-------- ----- ------ ---------------\n",
      "20210408 83976  80871 59313.215655974\n",
      "INFO: tile 88 exposure 85616 has MJD-OBS = 59325.179788 in /global/cfs/cdirs/desi/spectro/data/20210420/00085616/desi-00085616.fits.fz!\n",
      " NIGHT   EXPID TILEID       MJD      \n",
      "-------- ----- ------ ---------------\n",
      "20210420 85616     88 59325.179788298\n",
      "INFO: tile 80916 exposure 85983 has MJD-OBS = 59327.145040 in /global/cfs/cdirs/desi/spectro/data/20210422/00085983/desi-00085983.fits.fz!\n",
      " NIGHT   EXPID TILEID       MJD      \n",
      "-------- ----- ------ ---------------\n",
      "20210422 85983  80916 59327.145039662\n",
      "INFO: tile 82052 exposure 86134 has MJD-OBS = 59328.228283 in /global/cfs/cdirs/desi/spectro/data/20210423/00086134/desi-00086134.fits.fz!\n",
      " NIGHT   EXPID TILEID       MJD      \n",
      "-------- ----- ------ ---------------\n",
      "20210423 86134  82052 59328.228283382\n",
      "INFO: tile 82065 exposure 86150 has MJD-OBS = 59328.340232 in /global/cfs/cdirs/desi/spectro/data/20210423/00086150/desi-00086150.fits.fz!\n",
      " NIGHT   EXPID TILEID      MJD      \n",
      "-------- ----- ------ --------------\n",
      "20210423 86150  82065 59328.34023238\n",
      "INFO: tile 82026 exposure 86164 has MJD-OBS = 59328.431506 in /global/cfs/cdirs/desi/spectro/data/20210423/00086164/desi-00086164.fits.fz!\n",
      " NIGHT   EXPID TILEID       MJD      \n",
      "-------- ----- ------ ---------------\n",
      "20210423 86164  82026 59328.431505944\n",
      "INFO: tile 82039 exposure 86271 has MJD-OBS = 59329.414145 in /global/cfs/cdirs/desi/spectro/data/20210424/00086271/desi-00086271.fits.fz!\n",
      " NIGHT   EXPID TILEID       MJD      \n",
      "-------- ----- ------ ---------------\n",
      "20210424 86271  82039 59329.414145131\n",
      "INFO: tile 81096 exposure 86615 has MJD-OBS = 59334.232449 in /global/cfs/cdirs/desi/spectro/data/20210429/00086615/desi-00086615.fits.fz!\n",
      " NIGHT   EXPID TILEID       MJD      \n",
      "-------- ----- ------ ---------------\n",
      "20210429 86615  81096 59334.232448542\n",
      "INFO: tile 82039 exposure 86628 has MJD-OBS = 59334.426929 in /global/cfs/cdirs/desi/spectro/data/20210429/00086628/desi-00086628.fits.fz!\n",
      " NIGHT   EXPID TILEID       MJD      \n",
      "-------- ----- ------ ---------------\n",
      "20210429 86628  82039 59334.426928885\n",
      "INFO: tile 82039 exposure 90251 has MJD-OBS = 59364.411164 in /global/cfs/cdirs/desi/spectro/data/20210529/00090251/desi-00090251.fits.fz!\n",
      " NIGHT   EXPID TILEID       MJD      \n",
      "-------- ----- ------ ---------------\n",
      "20210529 90251  82039 59364.411163769\n",
      "INFO: tile 2704 exposure 96355 has MJD-OBS = 59393.181737 in /global/cfs/cdirs/desi/spectro/data/20210627/00096355/desi-00096355.fits.fz!\n",
      " NIGHT   EXPID TILEID      MJD      \n",
      "-------- ----- ------ --------------\n",
      "20210627 96355   2704 59393.18173717\n",
      "INFO: tile 2786 exposure 96360 has MJD-OBS = 59393.240284 in /global/cfs/cdirs/desi/spectro/data/20210627/00096360/desi-00096360.fits.fz!\n",
      " NIGHT   EXPID TILEID       MJD      \n",
      "-------- ----- ------ ---------------\n",
      "20210627 96360   2786 59393.240284236\n",
      "INFO: tile 20307 exposure 97854 has MJD-OBS = 59403.475127 in /global/cfs/cdirs/desi/spectro/data/20210707/00097854/desi-00097854.fits.fz!\n",
      " NIGHT   EXPID TILEID       MJD      \n",
      "-------- ----- ------ ---------------\n",
      "20210707 97854  20307 59403.475127378\n"
     ]
    }
   ],
   "source": [
    "missing_mjd = np.where((daily_exposures_patched['NIGHT'] >= first_jura_night) & (daily_exposures_patched['EFFTIME_SPEC'] > 0) & (daily_exposures_patched['MJD'] < 50000))[0]\n",
    "for row in daily_exposures_patched[missing_mjd]:\n",
    "    raw_data_file = os.path.join(os.environ['DESI_SPECTRO_DATA'], \"{0:08d}\".format(row['NIGHT']), \"{0:08d}\".format(row['EXPID']), \"desi-{0:08d}.fits.fz\".format(row['EXPID']))\n",
    "    with fits.open(raw_data_file, mode='readonly') as hdulist:\n",
    "        mjd_obs = hdulist['SPEC'].header['MJD-OBS']\n",
    "    print(\"INFO: tile {0:d} exposure {1:d} has MJD-OBS = {2:f} in {3}!\".format(row['TILEID'], row['EXPID'], mjd_obs, raw_data_file))\n",
    "    w = np.where(daily_exposures_patched['EXPID'] == row['EXPID'])[0]\n",
    "    assert len(w) == 1\n",
    "    daily_exposures_patched['MJD'][w] = mjd_obs\n",
    "    print(daily_exposures_patched[w][['NIGHT', 'EXPID', 'TILEID', 'MJD']])"
   ]
  },
  {
   "cell_type": "code",
   "execution_count": 24,
   "id": "fdc2baa0-8cd9-4fbf-8c5f-ec83a931a72b",
   "metadata": {
    "tags": []
   },
   "outputs": [
    {
     "data": {
      "text/html": [
       "<div><i>Table length=0</i>\n",
       "<table id=\"table139797482606352\" class=\"table-striped table-bordered table-condensed\">\n",
       "<thead><tr><th>NIGHT</th><th>EXPID</th><th>TILEID</th><th>TILERA</th><th>TILEDEC</th><th>MJD</th><th>SURVEY</th><th>PROGRAM</th><th>FAPRGRM</th><th>FAFLAVOR</th><th>EXPTIME</th><th>EFFTIME_SPEC</th><th>GOALTIME</th><th>GOALTYPE</th><th>MINTFRAC</th><th>AIRMASS</th><th>EBV</th><th>SEEING_ETC</th><th>EFFTIME_ETC</th><th>TSNR2_ELG</th><th>TSNR2_QSO</th><th>TSNR2_LRG</th><th>TSNR2_LYA</th><th>TSNR2_BGS</th><th>TSNR2_GPBDARK</th><th>TSNR2_GPBBRIGHT</th><th>TSNR2_GPBBACKUP</th><th>LRG_EFFTIME_DARK</th><th>ELG_EFFTIME_DARK</th><th>BGS_EFFTIME_BRIGHT</th><th>LYA_EFFTIME_DARK</th><th>GPB_EFFTIME_DARK</th><th>GPB_EFFTIME_BRIGHT</th><th>GPB_EFFTIME_BACKUP</th><th>TRANSPARENCY_GFA</th><th>SEEING_GFA</th><th>FIBER_FRACFLUX_GFA</th><th>FIBER_FRACFLUX_ELG_GFA</th><th>FIBER_FRACFLUX_BGS_GFA</th><th>FIBERFAC_GFA</th><th>FIBERFAC_ELG_GFA</th><th>FIBERFAC_BGS_GFA</th><th>AIRMASS_GFA</th><th>SKY_MAG_AB_GFA</th><th>SKY_MAG_G_SPEC</th><th>SKY_MAG_R_SPEC</th><th>SKY_MAG_Z_SPEC</th><th>EFFTIME_GFA</th><th>EFFTIME_DARK_GFA</th><th>EFFTIME_BRIGHT_GFA</th><th>EFFTIME_BACKUP_GFA</th></tr></thead>\n",
       "<thead><tr><th>int32</th><th>int32</th><th>int32</th><th>float64</th><th>float64</th><th>float64</th><th>bytes7</th><th>bytes6</th><th>bytes19</th><th>bytes19</th><th>float64</th><th>float64</th><th>float64</th><th>bytes7</th><th>float64</th><th>float64</th><th>float64</th><th>float64</th><th>float64</th><th>float64</th><th>float64</th><th>float64</th><th>float64</th><th>float64</th><th>float64</th><th>float64</th><th>float64</th><th>float64</th><th>float64</th><th>float64</th><th>float64</th><th>float64</th><th>float64</th><th>float64</th><th>float64</th><th>float64</th><th>float64</th><th>float64</th><th>float64</th><th>float64</th><th>float64</th><th>float64</th><th>float64</th><th>float64</th><th>float64</th><th>float64</th><th>float64</th><th>float64</th><th>float64</th><th>float64</th><th>float64</th></tr></thead>\n",
       "</table></div>"
      ],
      "text/plain": [
       "<Table length=0>\n",
       "NIGHT EXPID TILEID ... EFFTIME_DARK_GFA EFFTIME_BRIGHT_GFA EFFTIME_BACKUP_GFA\n",
       "int32 int32 int32  ...     float64           float64            float64      \n",
       "----- ----- ------ ... ---------------- ------------------ ------------------"
      ]
     },
     "execution_count": 24,
     "metadata": {},
     "output_type": "execute_result"
    }
   ],
   "source": [
    "still_missing_mjd = np.where((daily_exposures_patched['NIGHT'] >= first_jura_night) & (daily_exposures_patched['EFFTIME_SPEC'] > 0) & (daily_exposures_patched['MJD'] < 50000))[0]\n",
    "daily_exposures_patched[still_missing_mjd]"
   ]
  },
  {
   "cell_type": "markdown",
   "id": "f708faa2-36c4-4b2d-9a93-1c5b76b415d1",
   "metadata": {},
   "source": [
    "## Patch tiles\n",
    "\n",
    "Similar to the discussion above, we want `LASTNIGHT >= first_jura_night`."
   ]
  },
  {
   "cell_type": "code",
   "execution_count": 25,
   "id": "76fd512d-ee77-4e0f-b6c1-3ba5eb5d77c0",
   "metadata": {
    "tags": []
   },
   "outputs": [],
   "source": [
    "assert (np.unique(jura_exposures['TILEID']) == sorted(jura_tiles['TILEID'])).all()\n",
    "assert (np.unique(daily_exposures['TILEID']) == sorted(daily_tiles['TILEID'])).all()"
   ]
  },
  {
   "cell_type": "code",
   "execution_count": 26,
   "id": "7ccd960a-249f-4ea8-8e63-12ebc4aed7ec",
   "metadata": {},
   "outputs": [],
   "source": [
    "daily_tiles_join = Table()\n",
    "daily_tiles_join['TILEID'] = daily_tiles['TILEID']\n",
    "daily_tiles_join['LASTNIGHT'] = daily_tiles['LASTNIGHT']\n",
    "daily_tiles_join['EFFTIME_SPEC'] = daily_tiles['EFFTIME_SPEC']\n",
    "daily_tiles_join['DAILY_INDEX'] = np.arange(len(daily_tiles))"
   ]
  },
  {
   "cell_type": "code",
   "execution_count": 27,
   "id": "b36035cf-598f-4027-a9cd-a6fb0bb49d99",
   "metadata": {},
   "outputs": [],
   "source": [
    "jura_tiles_join = Table()\n",
    "jura_tiles_join['TILEID'] = jura_tiles['TILEID']\n",
    "jura_tiles_join['JURA_INDEX'] = np.arange(len(jura_tiles))"
   ]
  },
  {
   "cell_type": "code",
   "execution_count": 28,
   "id": "86da04ea-06f1-4a8c-8b8e-eace0d0f286e",
   "metadata": {},
   "outputs": [
    {
     "data": {
      "text/html": [
       "<div><i>Table length=15328</i>\n",
       "<table id=\"table139798602268288\" class=\"table-striped table-bordered table-condensed\">\n",
       "<thead><tr><th>TILEID</th><th>LASTNIGHT</th><th>EFFTIME_SPEC</th><th>DAILY_INDEX</th><th>JURA_INDEX</th></tr></thead>\n",
       "<thead><tr><th>int64</th><th>int64</th><th>float64</th><th>int64</th><th>int64</th></tr></thead>\n",
       "<tr><td>1</td><td>20210406</td><td>1646.8</td><td>415</td><td>202</td></tr>\n",
       "<tr><td>2</td><td>20210407</td><td>1331.7</td><td>460</td><td>230</td></tr>\n",
       "<tr><td>3</td><td>20210409</td><td>1424.4</td><td>479</td><td>267</td></tr>\n",
       "<tr><td>4</td><td>20210410</td><td>1459.8</td><td>511</td><td>292</td></tr>\n",
       "<tr><td>5</td><td>20210412</td><td>1372.6</td><td>527</td><td>321</td></tr>\n",
       "<tr><td>6</td><td>20210417</td><td>1507.4</td><td>611</td><td>400</td></tr>\n",
       "<tr><td>7</td><td>20210429</td><td>1325.9</td><td>736</td><td>476</td></tr>\n",
       "<tr><td>8</td><td>20210430</td><td>1635.7</td><td>748</td><td>486</td></tr>\n",
       "<tr><td>9</td><td>20210502</td><td>1342.7</td><td>780</td><td>513</td></tr>\n",
       "<tr><td>10</td><td>20210503</td><td>1336.9</td><td>800</td><td>532</td></tr>\n",
       "<tr><td>...</td><td>...</td><td>...</td><td>...</td><td>...</td></tr>\n",
       "<tr><td>83464</td><td>20240313</td><td>1099.3</td><td>14347</td><td>13833</td></tr>\n",
       "<tr><td>83465</td><td>20240313</td><td>1018.2</td><td>14346</td><td>13832</td></tr>\n",
       "<tr><td>83466</td><td>20240313</td><td>952.8</td><td>14350</td><td>13838</td></tr>\n",
       "<tr><td>83467</td><td>20240313</td><td>1002.9</td><td>14359</td><td>13847</td></tr>\n",
       "<tr><td>83468</td><td>20240313</td><td>1024.7</td><td>14354</td><td>13839</td></tr>\n",
       "<tr><td>83472</td><td>20240607</td><td>1005.1</td><td>14814</td><td>--</td></tr>\n",
       "<tr><td>83473</td><td>20240611</td><td>578.5</td><td>14891</td><td>--</td></tr>\n",
       "<tr><td>83476</td><td>20240712</td><td>1043.7</td><td>15173</td><td>--</td></tr>\n",
       "<tr><td>83477</td><td>20240712</td><td>1012.9</td><td>15168</td><td>--</td></tr>\n",
       "<tr><td>83478</td><td>20240712</td><td>980.2</td><td>15180</td><td>--</td></tr>\n",
       "</table></div>"
      ],
      "text/plain": [
       "<Table length=15328>\n",
       "TILEID LASTNIGHT EFFTIME_SPEC DAILY_INDEX JURA_INDEX\n",
       "int64    int64     float64       int64      int64   \n",
       "------ --------- ------------ ----------- ----------\n",
       "     1  20210406       1646.8         415        202\n",
       "     2  20210407       1331.7         460        230\n",
       "     3  20210409       1424.4         479        267\n",
       "     4  20210410       1459.8         511        292\n",
       "     5  20210412       1372.6         527        321\n",
       "     6  20210417       1507.4         611        400\n",
       "     7  20210429       1325.9         736        476\n",
       "     8  20210430       1635.7         748        486\n",
       "     9  20210502       1342.7         780        513\n",
       "    10  20210503       1336.9         800        532\n",
       "   ...       ...          ...         ...        ...\n",
       " 83464  20240313       1099.3       14347      13833\n",
       " 83465  20240313       1018.2       14346      13832\n",
       " 83466  20240313        952.8       14350      13838\n",
       " 83467  20240313       1002.9       14359      13847\n",
       " 83468  20240313       1024.7       14354      13839\n",
       " 83472  20240607       1005.1       14814         --\n",
       " 83473  20240611        578.5       14891         --\n",
       " 83476  20240712       1043.7       15173         --\n",
       " 83477  20240712       1012.9       15168         --\n",
       " 83478  20240712        980.2       15180         --"
      ]
     },
     "execution_count": 28,
     "metadata": {},
     "output_type": "execute_result"
    }
   ],
   "source": [
    "j = join(daily_tiles_join, jura_tiles_join, join_type='outer', keys='TILEID')\n",
    "j"
   ]
  },
  {
   "cell_type": "code",
   "execution_count": 29,
   "id": "643b68a1-59b6-4030-a24a-04971f17b3c7",
   "metadata": {},
   "outputs": [],
   "source": [
    "# Apparently every tile in daily also appears in jura, so j['DAILY_INDEX'] doesn't need to be masked.\n",
    "daily_tiles_index = j[(~j['JURA_INDEX'].mask) & (j['LASTNIGHT'] >= first_jura_night) & (j['EFFTIME_SPEC'] > 0)]['DAILY_INDEX']\n",
    "jura_tiles_index = j[(~j['JURA_INDEX'].mask) & (j['LASTNIGHT'] >= first_jura_night) & (j['EFFTIME_SPEC'] > 0)]['JURA_INDEX']"
   ]
  },
  {
   "cell_type": "code",
   "execution_count": 30,
   "id": "070845fe-0ce6-4e1f-b7f6-da172c26da8a",
   "metadata": {
    "tags": []
   },
   "outputs": [
    {
     "data": {
      "text/html": [
       "<div><i>Table length=15328</i>\n",
       "<table id=\"table139797746391632\" class=\"table-striped table-bordered table-condensed\">\n",
       "<thead><tr><th>TILEID</th><th>SURVEY</th><th>PROGRAM</th><th>FAPRGRM</th><th>FAFLAVOR</th><th>NEXP</th><th>EXPTIME</th><th>TILERA</th><th>TILEDEC</th><th>EFFTIME_ETC</th><th>EFFTIME_SPEC</th><th>EFFTIME_GFA</th><th>GOALTIME</th><th>OBSSTATUS</th><th>LRG_EFFTIME_DARK</th><th>ELG_EFFTIME_DARK</th><th>BGS_EFFTIME_BRIGHT</th><th>LYA_EFFTIME_DARK</th><th>GOALTYPE</th><th>MINTFRAC</th><th>LASTNIGHT</th></tr></thead>\n",
       "<thead><tr><th>int64</th><th>str7</th><th>str6</th><th>str16</th><th>str19</th><th>int64</th><th>float64</th><th>float64</th><th>float64</th><th>float64</th><th>float64</th><th>float64</th><th>float64</th><th>str8</th><th>float64</th><th>float64</th><th>float64</th><th>float64</th><th>str7</th><th>float64</th><th>int64</th></tr></thead>\n",
       "<tr><td>70004</td><td>unknown</td><td>--</td><td>unknown</td><td>unknown</td><td>4</td><td>3600.0</td><td>116.0</td><td>20.7</td><td>0.0</td><td>3619.8</td><td>0.0</td><td>1000.0</td><td>obsend</td><td>3470.8</td><td>3619.8</td><td>3784.0</td><td>3056.6</td><td>unknown</td><td>0.9</td><td>20200219</td></tr>\n",
       "<tr><td>70508</td><td>unknown</td><td>--</td><td>unknown</td><td>unknown</td><td>6</td><td>1800.0</td><td>133.4125</td><td>11.6818</td><td>0.0</td><td>108.5</td><td>0.0</td><td>1000.0</td><td>obsstart</td><td>93.6</td><td>108.5</td><td>95.7</td><td>50.6</td><td>unknown</td><td>0.9</td><td>20200225</td></tr>\n",
       "<tr><td>70506</td><td>unknown</td><td>--</td><td>unknown</td><td>unknown</td><td>3</td><td>900.0</td><td>133.4125</td><td>11.6818</td><td>0.0</td><td>61.6</td><td>0.0</td><td>1000.0</td><td>obsstart</td><td>53.6</td><td>61.6</td><td>54.9</td><td>33.7</td><td>unknown</td><td>0.9</td><td>20200225</td></tr>\n",
       "<tr><td>70512</td><td>unknown</td><td>--</td><td>unknown</td><td>unknown</td><td>7</td><td>3150.0</td><td>132.85</td><td>12.32</td><td>0.0</td><td>389.8</td><td>0.0</td><td>1000.0</td><td>obsstart</td><td>351.9</td><td>389.8</td><td>364.7</td><td>227.2</td><td>unknown</td><td>0.9</td><td>20200226</td></tr>\n",
       "<tr><td>70514</td><td>unknown</td><td>--</td><td>unknown</td><td>unknown</td><td>16</td><td>1680.0</td><td>132.85</td><td>12.32</td><td>0.0</td><td>118.3</td><td>0.0</td><td>1000.0</td><td>obsstart</td><td>112.0</td><td>118.3</td><td>120.2</td><td>74.4</td><td>unknown</td><td>0.9</td><td>20200227</td></tr>\n",
       "<tr><td>70502</td><td>unknown</td><td>--</td><td>unknown</td><td>unknown</td><td>41</td><td>8415.0</td><td>180.0</td><td>-0.5</td><td>0.0</td><td>358.2</td><td>0.0</td><td>1000.0</td><td>obsstart</td><td>317.9</td><td>358.2</td><td>325.0</td><td>260.2</td><td>unknown</td><td>0.9</td><td>20200227</td></tr>\n",
       "<tr><td>70513</td><td>unknown</td><td>--</td><td>unknown</td><td>unknown</td><td>13</td><td>2220.0</td><td>133.42</td><td>11.65</td><td>0.0</td><td>3.7</td><td>0.0</td><td>1000.0</td><td>obsstart</td><td>3.4</td><td>3.7</td><td>3.5</td><td>2.5</td><td>unknown</td><td>0.9</td><td>20200229</td></tr>\n",
       "<tr><td>70500</td><td>unknown</td><td>--</td><td>unknown</td><td>unknown</td><td>14</td><td>7000.0</td><td>119.0</td><td>50.0</td><td>0.0</td><td>1389.0</td><td>0.0</td><td>1000.0</td><td>obsend</td><td>1145.4</td><td>1389.0</td><td>1160.5</td><td>770.4</td><td>unknown</td><td>0.9</td><td>20200303</td></tr>\n",
       "<tr><td>70005</td><td>unknown</td><td>--</td><td>unknown</td><td>unknown</td><td>17</td><td>13500.0</td><td>158.0</td><td>25.0</td><td>0.0</td><td>8463.1</td><td>0.0</td><td>1000.0</td><td>obsend</td><td>8088.5</td><td>8463.1</td><td>8858.6</td><td>9174.7</td><td>unknown</td><td>0.9</td><td>20200303</td></tr>\n",
       "<tr><td>70003</td><td>unknown</td><td>--</td><td>unknown</td><td>unknown</td><td>28</td><td>21670.0</td><td>214.75</td><td>53.4</td><td>0.0</td><td>18263.6</td><td>0.0</td><td>1000.0</td><td>obsend</td><td>17933.3</td><td>18263.6</td><td>19393.3</td><td>17007.0</td><td>unknown</td><td>0.9</td><td>20200304</td></tr>\n",
       "<tr><td>...</td><td>...</td><td>...</td><td>...</td><td>...</td><td>...</td><td>...</td><td>...</td><td>...</td><td>...</td><td>...</td><td>...</td><td>...</td><td>...</td><td>...</td><td>...</td><td>...</td><td>...</td><td>...</td><td>...</td><td>...</td></tr>\n",
       "<tr><td>10051</td><td>main</td><td>dark</td><td>dark</td><td>maindark</td><td>1</td><td>1018.9</td><td>350.635</td><td>20.862</td><td>1018.5</td><td>1052.0</td><td>1271.0</td><td>1000.0</td><td>obsend</td><td>1052.0</td><td>1025.3</td><td>1030.0</td><td>1159.2</td><td>dark</td><td>0.85</td><td>20240811</td></tr>\n",
       "<tr><td>2257</td><td>main</td><td>dark</td><td>dark</td><td>maindark</td><td>1</td><td>1030.0</td><td>358.616</td><td>14.519</td><td>1015.0</td><td>1091.4</td><td>1139.8</td><td>1000.0</td><td>obsend</td><td>1091.4</td><td>1056.8</td><td>1094.0</td><td>1422.1</td><td>dark</td><td>0.85</td><td>20240811</td></tr>\n",
       "<tr><td>3815</td><td>main</td><td>dark</td><td>dark</td><td>maindark</td><td>1</td><td>1345.6</td><td>347.364</td><td>18.412</td><td>1007.2</td><td>1127.6</td><td>1078.5</td><td>1000.0</td><td>obsend</td><td>1127.6</td><td>1127.2</td><td>1084.1</td><td>1069.0</td><td>dark</td><td>0.85</td><td>20240811</td></tr>\n",
       "<tr><td>1852</td><td>main</td><td>dark</td><td>dark</td><td>maindark</td><td>1</td><td>1351.9</td><td>318.47</td><td>11.652</td><td>1006.3</td><td>1008.8</td><td>1114.6</td><td>1000.0</td><td>obsend</td><td>1008.8</td><td>972.9</td><td>1008.9</td><td>1119.8</td><td>dark</td><td>0.85</td><td>20240811</td></tr>\n",
       "<tr><td>8071</td><td>main</td><td>dark</td><td>dark</td><td>maindark</td><td>1</td><td>1129.5</td><td>334.91</td><td>10.101</td><td>1009.5</td><td>1017.7</td><td>1105.4</td><td>1000.0</td><td>obsend</td><td>1017.7</td><td>984.0</td><td>1011.6</td><td>1179.8</td><td>dark</td><td>0.85</td><td>20240811</td></tr>\n",
       "<tr><td>2238</td><td>main</td><td>dark</td><td>dark</td><td>maindark</td><td>1</td><td>1259.9</td><td>354.076</td><td>18.235</td><td>1009.4</td><td>1063.5</td><td>1128.4</td><td>1000.0</td><td>obsend</td><td>1063.5</td><td>1051.7</td><td>1060.1</td><td>1292.7</td><td>dark</td><td>0.85</td><td>20240811</td></tr>\n",
       "<tr><td>3623</td><td>main</td><td>dark</td><td>dark</td><td>maindark</td><td>1</td><td>815.1</td><td>8.037</td><td>15.235</td><td>697.6</td><td>709.8</td><td>760.1</td><td>1000.0</td><td>obsstart</td><td>709.8</td><td>697.2</td><td>719.5</td><td>714.3</td><td>dark</td><td>0.85</td><td>20240811</td></tr>\n",
       "<tr><td>41072</td><td>main</td><td>backup</td><td>backup</td><td>mainbackup</td><td>4</td><td>2439.7</td><td>267.182</td><td>0.519</td><td>25.3</td><td>34.6</td><td>41.5</td><td>60.0</td><td>obsstart</td><td>48.8</td><td>59.3</td><td>49.1</td><td>6.0</td><td>backup</td><td>0.85</td><td>20240811</td></tr>\n",
       "<tr><td>22564</td><td>main</td><td>bright</td><td>bright</td><td>mainbright</td><td>1</td><td>802.8</td><td>16.369</td><td>11.416</td><td>159.1</td><td>200.0</td><td>196.8</td><td>180.0</td><td>obsend</td><td>175.9</td><td>210.9</td><td>200.0</td><td>115.6</td><td>bright</td><td>0.85</td><td>20240811</td></tr>\n",
       "<tr><td>7771</td><td>main</td><td>dark</td><td>dark</td><td>maindark</td><td>2</td><td>2131.0</td><td>272.365</td><td>72.439</td><td>969.4</td><td>998.1</td><td>1003.1</td><td>1000.0</td><td>obsend</td><td>998.1</td><td>956.4</td><td>1038.5</td><td>1178.9</td><td>dark</td><td>0.85</td><td>20240811</td></tr>\n",
       "</table></div>"
      ],
      "text/plain": [
       "<Table length=15328>\n",
       "TILEID  SURVEY PROGRAM FAPRGRM ... LYA_EFFTIME_DARK GOALTYPE MINTFRAC LASTNIGHT\n",
       "int64    str7    str6   str16  ...     float64        str7   float64    int64  \n",
       "------ ------- ------- ------- ... ---------------- -------- -------- ---------\n",
       " 70004 unknown      -- unknown ...           3056.6  unknown      0.9  20200219\n",
       " 70508 unknown      -- unknown ...             50.6  unknown      0.9  20200225\n",
       " 70506 unknown      -- unknown ...             33.7  unknown      0.9  20200225\n",
       " 70512 unknown      -- unknown ...            227.2  unknown      0.9  20200226\n",
       " 70514 unknown      -- unknown ...             74.4  unknown      0.9  20200227\n",
       " 70502 unknown      -- unknown ...            260.2  unknown      0.9  20200227\n",
       " 70513 unknown      -- unknown ...              2.5  unknown      0.9  20200229\n",
       " 70500 unknown      -- unknown ...            770.4  unknown      0.9  20200303\n",
       " 70005 unknown      -- unknown ...           9174.7  unknown      0.9  20200303\n",
       " 70003 unknown      -- unknown ...          17007.0  unknown      0.9  20200304\n",
       "   ...     ...     ...     ... ...              ...      ...      ...       ...\n",
       " 10051    main    dark    dark ...           1159.2     dark     0.85  20240811\n",
       "  2257    main    dark    dark ...           1422.1     dark     0.85  20240811\n",
       "  3815    main    dark    dark ...           1069.0     dark     0.85  20240811\n",
       "  1852    main    dark    dark ...           1119.8     dark     0.85  20240811\n",
       "  8071    main    dark    dark ...           1179.8     dark     0.85  20240811\n",
       "  2238    main    dark    dark ...           1292.7     dark     0.85  20240811\n",
       "  3623    main    dark    dark ...            714.3     dark     0.85  20240811\n",
       " 41072    main  backup  backup ...              6.0   backup     0.85  20240811\n",
       " 22564    main  bright  bright ...            115.6   bright     0.85  20240811\n",
       "  7771    main    dark    dark ...           1178.9     dark     0.85  20240811"
      ]
     },
     "execution_count": 30,
     "metadata": {},
     "output_type": "execute_result"
    }
   ],
   "source": [
    "daily_tiles_patched = daily_tiles.copy()\n",
    "# for column in jura_tiles.colnames:\n",
    "# for column in ('TILEID', 'SURVEY', 'PROGRAM', 'FAPRGRM', 'FAFLAVOR', 'TILERA', 'TILEDEC', 'EFFTIME_ETC', 'EFFTIME_GFA', 'GOALTIME', 'GOALTYPE', 'MINTFRAC'):\n",
    "for column in ('PROGRAM', ):\n",
    "    daily_tiles_patched[column][daily_tiles_index] = jura_tiles[column][jura_tiles_index]\n",
    "daily_tiles_patched"
   ]
  },
  {
   "cell_type": "markdown",
   "id": "c1b5a089-6d1a-41f3-8af1-b60051af9f1f",
   "metadata": {},
   "source": [
    "### After patching are there still missing data?\n",
    "\n",
    "Also does `GOALTYPE` actually need to be patched? Should we patch `EFFTIME_SPEC`?"
   ]
  },
  {
   "cell_type": "code",
   "execution_count": 31,
   "id": "ebf610ad-ca54-4545-b001-f32f37cd3c9e",
   "metadata": {
    "tags": []
   },
   "outputs": [
    {
     "data": {
      "text/html": [
       "<div><i>Table length=16</i>\n",
       "<table id=\"table139798601004848\" class=\"table-striped table-bordered table-condensed\">\n",
       "<thead><tr><th>TILEID</th><th>SURVEY</th><th>PROGRAM</th><th>FAPRGRM</th><th>FAFLAVOR</th><th>NEXP</th><th>EXPTIME</th><th>TILERA</th><th>TILEDEC</th><th>EFFTIME_ETC</th><th>EFFTIME_SPEC</th><th>EFFTIME_GFA</th><th>GOALTIME</th><th>OBSSTATUS</th><th>LRG_EFFTIME_DARK</th><th>ELG_EFFTIME_DARK</th><th>BGS_EFFTIME_BRIGHT</th><th>LYA_EFFTIME_DARK</th><th>GOALTYPE</th><th>MINTFRAC</th><th>LASTNIGHT</th></tr></thead>\n",
       "<thead><tr><th>int64</th><th>str7</th><th>str6</th><th>str16</th><th>str19</th><th>int64</th><th>float64</th><th>float64</th><th>float64</th><th>float64</th><th>float64</th><th>float64</th><th>float64</th><th>str8</th><th>float64</th><th>float64</th><th>float64</th><th>float64</th><th>str7</th><th>float64</th><th>int64</th></tr></thead>\n",
       "<tr><td>80713</td><td>sv1</td><td>--</td><td>m31</td><td>sv1m31</td><td>3</td><td>2700.2</td><td>10.17</td><td>41.38</td><td>0.0</td><td>758.6</td><td>771.8</td><td>1000.0</td><td>obsstart</td><td>727.8</td><td>758.6</td><td>789.8</td><td>645.0</td><td>unknown</td><td>0.9</td><td>20210110</td></tr>\n",
       "<tr><td>80715</td><td>sv1</td><td>--</td><td>m31</td><td>sv1m31</td><td>3</td><td>2700.1</td><td>10.17</td><td>41.38</td><td>0.0</td><td>1906.8</td><td>1827.2</td><td>1000.0</td><td>obsend</td><td>1914.5</td><td>1906.8</td><td>2150.1</td><td>2216.6</td><td>unknown</td><td>0.9</td><td>20210115</td></tr>\n",
       "<tr><td>80769</td><td>unknown</td><td>--</td><td>dithfocus</td><td>dithfocus</td><td>7</td><td>920.3</td><td>111.64</td><td>30.0</td><td>0.0</td><td>1.2</td><td>0.0</td><td>1000.0</td><td>obsstart</td><td>1.1</td><td>1.2</td><td>1.2</td><td>0.9</td><td>unknown</td><td>0.9</td><td>20210219</td></tr>\n",
       "<tr><td>80816</td><td>cmx</td><td>--</td><td>dithprec</td><td>dithprec</td><td>3</td><td>540.2</td><td>99.0</td><td>66.0</td><td>0.0</td><td>14.1</td><td>45.2</td><td>1000.0</td><td>obsstart</td><td>11.4</td><td>14.1</td><td>11.6</td><td>6.8</td><td>unknown</td><td>0.9</td><td>20210223</td></tr>\n",
       "<tr><td>80916</td><td>unknown</td><td>--</td><td>dithfocus</td><td>dithfocus</td><td>4</td><td>740.2</td><td>160.0</td><td>50.0</td><td>0.0</td><td>63.6</td><td>68.8</td><td>1000.0</td><td>obsstart</td><td>59.7</td><td>63.6</td><td>66.5</td><td>67.5</td><td>unknown</td><td>0.9</td><td>20210422</td></tr>\n",
       "<tr><td>82026</td><td>unknown</td><td>--</td><td>dithprec</td><td>dithprec</td><td>1</td><td>200.1</td><td>251.2</td><td>50.4</td><td>0.0</td><td>73.1</td><td>59.4</td><td>1000.0</td><td>obsstart</td><td>67.5</td><td>73.1</td><td>72.7</td><td>64.4</td><td>unknown</td><td>0.9</td><td>20210423</td></tr>\n",
       "<tr><td>82065</td><td>unknown</td><td>--</td><td>dithfocus</td><td>dithfocus</td><td>1</td><td>200.1</td><td>220.2</td><td>47.8</td><td>0.0</td><td>24.8</td><td>27.9</td><td>1000.0</td><td>obsstart</td><td>22.4</td><td>24.8</td><td>24.5</td><td>25.4</td><td>unknown</td><td>0.9</td><td>20210423</td></tr>\n",
       "<tr><td>82052</td><td>unknown</td><td>--</td><td>dithfocus</td><td>dithfocus</td><td>1</td><td>200.1</td><td>190.0</td><td>49.5</td><td>0.0</td><td>30.1</td><td>17.3</td><td>1000.0</td><td>obsstart</td><td>25.4</td><td>30.1</td><td>26.1</td><td>14.9</td><td>unknown</td><td>0.9</td><td>20210423</td></tr>\n",
       "<tr><td>81096</td><td>sv2</td><td>--</td><td>dark</td><td>sv2dark</td><td>1</td><td>1220.1</td><td>180.0</td><td>45.0</td><td>0.0</td><td>1193.2</td><td>973.8</td><td>1000.0</td><td>obsend</td><td>1111.7</td><td>1193.2</td><td>1234.4</td><td>1459.6</td><td>dark</td><td>0.9</td><td>20210429</td></tr>\n",
       "<tr><td>82039</td><td>unknown</td><td>--</td><td>dithprec</td><td>dithprec</td><td>3</td><td>580.2</td><td>279.0</td><td>50.0</td><td>0.0</td><td>159.6</td><td>131.6</td><td>1000.0</td><td>obsstart</td><td>149.0</td><td>159.6</td><td>158.6</td><td>105.8</td><td>unknown</td><td>0.9</td><td>20210529</td></tr>\n",
       "<tr><td>2704</td><td>main</td><td>--</td><td>dark</td><td>maindark</td><td>1</td><td>821.0</td><td>222.897</td><td>4.905</td><td>467.1</td><td>524.1</td><td>534.8</td><td>1000.0</td><td>retired</td><td>558.5</td><td>524.1</td><td>559.4</td><td>559.7</td><td>dark</td><td>0.85</td><td>20210627</td></tr>\n",
       "<tr><td>2786</td><td>main</td><td>--</td><td>dark</td><td>maindark</td><td>1</td><td>808.2</td><td>240.394</td><td>9.573</td><td>251.3</td><td>283.9</td><td>260.5</td><td>1000.0</td><td>retired</td><td>273.4</td><td>283.9</td><td>289.1</td><td>254.7</td><td>dark</td><td>0.85</td><td>20210627</td></tr>\n",
       "<tr><td>20307</td><td>main</td><td>--</td><td>bright</td><td>mainbright</td><td>1</td><td>448.3</td><td>346.874</td><td>30.797</td><td>62.8</td><td>59.7</td><td>71.8</td><td>180.0</td><td>retired</td><td>47.2</td><td>49.8</td><td>59.7</td><td>72.1</td><td>bright</td><td>0.85</td><td>20210707</td></tr>\n",
       "<tr><td>21273</td><td>main</td><td>--</td><td>bright</td><td>mainbright</td><td>1</td><td>534.4</td><td>344.455</td><td>2.172</td><td>113.1</td><td>132.8</td><td>149.9</td><td>180.0</td><td>retired</td><td>0.0</td><td>133.5</td><td>132.8</td><td>79.2</td><td>bright</td><td>0.85</td><td>20210708</td></tr>\n",
       "<tr><td>1825</td><td>main</td><td>--</td><td>dark</td><td>maindark</td><td>1</td><td>770.2</td><td>329.126</td><td>1.365</td><td>566.0</td><td>547.0</td><td>601.3</td><td>1000.0</td><td>retired</td><td>0.0</td><td>547.0</td><td>595.5</td><td>597.2</td><td>dark</td><td>0.85</td><td>20210708</td></tr>\n",
       "<tr><td>82248</td><td>cmx</td><td>--</td><td>posmapping</td><td>cmxposmapping</td><td>5</td><td>938.9</td><td>343.0</td><td>30.0</td><td>0.0</td><td>0.9</td><td>1.0</td><td>1000.0</td><td>obsstart</td><td>0.9</td><td>0.9</td><td>1.1</td><td>1.4</td><td>unknown</td><td>0.9</td><td>20210916</td></tr>\n",
       "</table></div>"
      ],
      "text/plain": [
       "<Table length=16>\n",
       "TILEID  SURVEY PROGRAM  FAPRGRM   ... GOALTYPE MINTFRAC LASTNIGHT\n",
       "int64    str7    str6    str16    ...   str7   float64    int64  \n",
       "------ ------- ------- ---------- ... -------- -------- ---------\n",
       " 80713     sv1      --        m31 ...  unknown      0.9  20210110\n",
       " 80715     sv1      --        m31 ...  unknown      0.9  20210115\n",
       " 80769 unknown      --  dithfocus ...  unknown      0.9  20210219\n",
       " 80816     cmx      --   dithprec ...  unknown      0.9  20210223\n",
       " 80916 unknown      --  dithfocus ...  unknown      0.9  20210422\n",
       " 82026 unknown      --   dithprec ...  unknown      0.9  20210423\n",
       " 82065 unknown      --  dithfocus ...  unknown      0.9  20210423\n",
       " 82052 unknown      --  dithfocus ...  unknown      0.9  20210423\n",
       " 81096     sv2      --       dark ...     dark      0.9  20210429\n",
       " 82039 unknown      --   dithprec ...  unknown      0.9  20210529\n",
       "  2704    main      --       dark ...     dark     0.85  20210627\n",
       "  2786    main      --       dark ...     dark     0.85  20210627\n",
       " 20307    main      --     bright ...   bright     0.85  20210707\n",
       " 21273    main      --     bright ...   bright     0.85  20210708\n",
       "  1825    main      --       dark ...     dark     0.85  20210708\n",
       " 82248     cmx      -- posmapping ...  unknown      0.9  20210916"
      ]
     },
     "execution_count": 31,
     "metadata": {},
     "output_type": "execute_result"
    }
   ],
   "source": [
    "missing_program = np.where((daily_tiles_patched['LASTNIGHT'] >= first_jura_night) & (daily_tiles_patched['EFFTIME_SPEC'] > 0) & (daily_tiles_patched['PROGRAM'].mask))[0]\n",
    "daily_tiles_patched[missing_program]"
   ]
  },
  {
   "cell_type": "markdown",
   "id": "27c9cc2d-c9fc-4393-964b-ce7296814590",
   "metadata": {},
   "source": [
    "## Write out the patched files"
   ]
  },
  {
   "cell_type": "code",
   "execution_count": 32,
   "id": "ac5fdfb7-4635-4e5e-ba2d-b77dd9603554",
   "metadata": {
    "tags": []
   },
   "outputs": [],
   "source": [
    "daily_tiles_patched.write(os.path.join(os.environ['DESI_ROOT'], 'users', os.environ['USER'], 'tiles-daily-patched-with-jura.csv'), format='ascii.csv', overwrite=True)"
   ]
  },
  {
   "cell_type": "code",
   "execution_count": 33,
   "id": "384e6030-fcc1-453e-b990-a34688f12494",
   "metadata": {
    "tags": []
   },
   "outputs": [],
   "source": [
    "daily_exposures_patched.write(os.path.join(os.environ['DESI_ROOT'], 'users', os.environ['USER'], 'exposures-daily-patched-with-jura.csv'), format='ascii.csv', overwrite=True)"
   ]
  },
  {
   "cell_type": "code",
   "execution_count": 34,
   "id": "26d7bad1-f89f-4cde-bfa1-a0cbcabcf866",
   "metadata": {
    "tags": []
   },
   "outputs": [],
   "source": [
    "daily_exposures_fits = fits.HDUList([fits.PrimaryHDU(), fits.table_to_hdu(daily_exposures_patched), fits.table_to_hdu(daily_frames_patched)])"
   ]
  },
  {
   "cell_type": "code",
   "execution_count": 35,
   "id": "d06fcfd7-c5d9-4d9c-9989-eb313c70bc07",
   "metadata": {
    "tags": []
   },
   "outputs": [
    {
     "name": "stdout",
     "output_type": "stream",
     "text": [
      "Filename: (No file associated with this HDUList)\n",
      "No.    Name      Ver    Type      Cards   Dimensions   Format\n",
      "  0  PRIMARY       1 PrimaryHDU       4   ()      \n",
      "  1  EXPOSURES     1 BinTableHDU    111   23706R x 51C   ['J', 'J', 'J', 'D', 'D', 'D', '7A', '6A', '19A', '19A', 'D', 'D', 'D', '7A', 'D', 'D', 'D', 'D', 'D', 'D', 'D', 'D', 'D', 'D', 'D', 'D', 'D', 'D', 'D', 'D', 'D', 'D', 'D', 'D', 'D', 'D', 'D', 'D', 'D', 'D', 'D', 'D', 'D', 'D', 'D', 'D', 'D', 'D', 'D', 'D', 'D']   \n",
      "  2  FRAMES        1 BinTableHDU     63   697837R x 27C   ['J', 'J', 'J', 'E', 'D', 'D', '2A', 'D', 'D', 'D', 'D', '7A', '7A', '19A', 'D', 'D', 'D', 'D', '19A', 'E', 'E', 'D', 'D', 'D', 'D', 'D', 'D']   \n"
     ]
    }
   ],
   "source": [
    "daily_exposures_fits.info()"
   ]
  },
  {
   "cell_type": "code",
   "execution_count": 36,
   "id": "d4e5751a-895b-4ca7-8c44-994a4d7d7524",
   "metadata": {
    "tags": []
   },
   "outputs": [],
   "source": [
    "daily_exposures_fits.writeto(os.path.join(os.environ['DESI_ROOT'], 'users', os.environ['USER'], 'exposures-daily-patched-with-jura.fits'), overwrite=True)"
   ]
  },
  {
   "cell_type": "code",
   "execution_count": null,
   "id": "1f2a17e0-074c-433d-9b45-a35d91cc6a93",
   "metadata": {},
   "outputs": [],
   "source": []
  }
 ],
 "metadata": {
  "kernelspec": {
   "display_name": "DESI custom",
   "language": "python",
   "name": "desi-custom"
  },
  "language_info": {
   "codemirror_mode": {
    "name": "ipython",
    "version": 3
   },
   "file_extension": ".py",
   "mimetype": "text/x-python",
   "name": "python",
   "nbconvert_exporter": "python",
   "pygments_lexer": "ipython3",
   "version": "3.10.14"
  }
 },
 "nbformat": 4,
 "nbformat_minor": 5
}
