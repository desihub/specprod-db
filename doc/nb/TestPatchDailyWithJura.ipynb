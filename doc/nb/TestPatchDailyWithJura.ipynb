{
 "cells": [
  {
   "cell_type": "markdown",
   "id": "31725415-8b51-49d7-a2d6-7100227808d5",
   "metadata": {},
   "source": [
    "# Patch daily with jura"
   ]
  },
  {
   "cell_type": "code",
   "execution_count": 1,
   "id": "f220285b-75d0-4109-a5f5-3709bfaeed79",
   "metadata": {
    "tags": []
   },
   "outputs": [],
   "source": [
    "import os\n",
    "import numpy as np\n",
    "from astropy.table import Table, join\n",
    "from astropy.io import fits\n",
    "from specprodDB.util import cameraid"
   ]
  },
  {
   "cell_type": "code",
   "execution_count": 2,
   "id": "c2571c97-816c-4b12-a572-8e987c88b654",
   "metadata": {
    "tags": []
   },
   "outputs": [],
   "source": [
    "daily_tiles_file = os.path.join(os.environ['DESI_SPECTRO_REDUX'], 'daily', 'tiles-daily.csv')\n",
    "daily_exposures_file = os.path.join(os.environ['DESI_SPECTRO_REDUX'], 'daily', 'exposures-daily.fits')\n",
    "jura_tiles_file = os.path.join(os.environ['DESI_SPECTRO_REDUX'], 'jura', 'tiles-jura.csv')\n",
    "jura_exposures_file = os.path.join(os.environ['DESI_SPECTRO_REDUX'], 'jura', 'exposures-jura.fits')\n",
    "daily_tiles = Table.read(daily_tiles_file, format='ascii.csv')\n",
    "daily_exposures = Table.read(daily_exposures_file, format='fits', hdu='EXPOSURES')\n",
    "daily_frames = Table.read(daily_exposures_file, format='fits', hdu='FRAMES')\n",
    "jura_tiles = Table.read(jura_tiles_file, format='ascii.csv')\n",
    "jura_exposures = Table.read(jura_exposures_file, format='fits', hdu='EXPOSURES')\n",
    "jura_frames = Table.read(jura_exposures_file, format='fits', hdu='FRAMES')"
   ]
  },
  {
   "cell_type": "markdown",
   "id": "777a4cde-ab8e-4f24-aa31-323dbf819321",
   "metadata": {
    "tags": []
   },
   "source": [
    "## Find jura exposures not in daily, daily exposures not in jura"
   ]
  },
  {
   "cell_type": "code",
   "execution_count": 3,
   "id": "74d311b4-d697-4944-945a-d56a68d1a39e",
   "metadata": {
    "tags": []
   },
   "outputs": [],
   "source": [
    "assert (np.unique(jura_exposures['EXPID']) == sorted(jura_exposures['EXPID'])).all()\n",
    "assert (np.unique(daily_exposures['EXPID']) == sorted(daily_exposures['EXPID'])).all()\n",
    "assert (np.unique(jura_frames['EXPID']) == sorted(jura_exposures['EXPID'])).all()\n",
    "assert (np.unique(daily_frames['EXPID']) == sorted(daily_exposures['EXPID'])).all()"
   ]
  },
  {
   "cell_type": "code",
   "execution_count": 4,
   "id": "ca1d655b-e315-4e14-9fdc-5d31f5dadcb1",
   "metadata": {
    "tags": []
   },
   "outputs": [],
   "source": [
    "first_jura_exposure, last_jura_exposure = jura_exposures['EXPID'].min(), jura_exposures['EXPID'].max()"
   ]
  },
  {
   "cell_type": "code",
   "execution_count": 5,
   "id": "ded2208b-f17e-4c7f-aeff-3e7cca0f77a4",
   "metadata": {
    "tags": []
   },
   "outputs": [],
   "source": [
    "jura_expid_set = frozenset(jura_exposures['EXPID'].tolist())\n",
    "daily_expid_set = frozenset(daily_exposures['EXPID'].tolist())"
   ]
  },
  {
   "cell_type": "code",
   "execution_count": 6,
   "id": "473307c7-30f6-40ca-b297-3b927577d5b1",
   "metadata": {
    "tags": []
   },
   "outputs": [
    {
     "data": {
      "text/plain": [
       "frozenset({80478, 80681, 80688, 80691, 82603, 82622, 82625, 221977})"
      ]
     },
     "execution_count": 6,
     "metadata": {},
     "output_type": "execute_result"
    }
   ],
   "source": [
    "jura_not_in_daily = jura_expid_set - daily_expid_set\n",
    "jura_not_in_daily"
   ]
  },
  {
   "cell_type": "code",
   "execution_count": 7,
   "id": "879e049d-3aca-484b-80e3-5b06344077c5",
   "metadata": {
    "tags": []
   },
   "outputs": [],
   "source": [
    "daily_not_in_jura = daily_expid_set - jura_expid_set\n",
    "# daily_not_in_jura"
   ]
  },
  {
   "cell_type": "markdown",
   "id": "96e7d429-3edc-4f7e-9e66-0ce8e3c8dcec",
   "metadata": {},
   "source": [
    "## Patch frames"
   ]
  },
  {
   "cell_type": "code",
   "execution_count": 8,
   "id": "11f82181-9647-42e4-b05d-bd8427d20c9a",
   "metadata": {
    "tags": []
   },
   "outputs": [],
   "source": [
    "daily_frames_join = Table()\n",
    "daily_frames_join['FRAMEID'] = np.array([100*row['EXPID'] + cameraid(row['CAMERA']) for row in daily_frames])\n",
    "daily_frames_join['DAILY_INDEX'] = np.arange(len(daily_frames))"
   ]
  },
  {
   "cell_type": "code",
   "execution_count": 9,
   "id": "333dbff1-65b2-4e66-a35f-b1d2b34a05c4",
   "metadata": {
    "tags": []
   },
   "outputs": [],
   "source": [
    "jura_frames_join = Table()\n",
    "jura_frames_join['FRAMEID'] = np.array([100*row['EXPID'] + cameraid(row['CAMERA']) for row in jura_frames])\n",
    "jura_frames_join['JURA_INDEX'] = np.arange(len(jura_frames))"
   ]
  },
  {
   "cell_type": "code",
   "execution_count": 10,
   "id": "8d6ca37d-2350-47b6-8e90-5ab8b0cc01ad",
   "metadata": {
    "tags": []
   },
   "outputs": [
    {
     "data": {
      "text/html": [
       "<div><i>Table length=694574</i>\n",
       "<table id=\"table140234453612576\" class=\"table-striped table-bordered table-condensed\">\n",
       "<thead><tr><th>FRAMEID</th><th>DAILY_INDEX</th><th>JURA_INDEX</th></tr></thead>\n",
       "<thead><tr><th>int64</th><th>int64</th><th>int64</th></tr></thead>\n",
       "<tr><td>5098600</td><td>567237</td><td>--</td></tr>\n",
       "<tr><td>5098601</td><td>567238</td><td>--</td></tr>\n",
       "<tr><td>5098602</td><td>567239</td><td>--</td></tr>\n",
       "<tr><td>5098603</td><td>567240</td><td>--</td></tr>\n",
       "<tr><td>5098604</td><td>567241</td><td>--</td></tr>\n",
       "<tr><td>5098605</td><td>567242</td><td>--</td></tr>\n",
       "<tr><td>5098606</td><td>567243</td><td>--</td></tr>\n",
       "<tr><td>5098607</td><td>567244</td><td>--</td></tr>\n",
       "<tr><td>5098608</td><td>567245</td><td>--</td></tr>\n",
       "<tr><td>5098609</td><td>567246</td><td>--</td></tr>\n",
       "<tr><td>...</td><td>...</td><td>...</td></tr>\n",
       "<tr><td>24504016</td><td>567227</td><td>--</td></tr>\n",
       "<tr><td>24504018</td><td>567228</td><td>--</td></tr>\n",
       "<tr><td>24504020</td><td>567229</td><td>--</td></tr>\n",
       "<tr><td>24504021</td><td>567230</td><td>--</td></tr>\n",
       "<tr><td>24504022</td><td>567231</td><td>--</td></tr>\n",
       "<tr><td>24504023</td><td>567232</td><td>--</td></tr>\n",
       "<tr><td>24504024</td><td>567233</td><td>--</td></tr>\n",
       "<tr><td>24504025</td><td>567234</td><td>--</td></tr>\n",
       "<tr><td>24504026</td><td>567235</td><td>--</td></tr>\n",
       "<tr><td>24504028</td><td>567236</td><td>--</td></tr>\n",
       "</table></div>"
      ],
      "text/plain": [
       "<Table length=694574>\n",
       "FRAMEID  DAILY_INDEX JURA_INDEX\n",
       " int64      int64      int64   \n",
       "-------- ----------- ----------\n",
       " 5098600      567237         --\n",
       " 5098601      567238         --\n",
       " 5098602      567239         --\n",
       " 5098603      567240         --\n",
       " 5098604      567241         --\n",
       " 5098605      567242         --\n",
       " 5098606      567243         --\n",
       " 5098607      567244         --\n",
       " 5098608      567245         --\n",
       " 5098609      567246         --\n",
       "     ...         ...        ...\n",
       "24504016      567227         --\n",
       "24504018      567228         --\n",
       "24504020      567229         --\n",
       "24504021      567230         --\n",
       "24504022      567231         --\n",
       "24504023      567232         --\n",
       "24504024      567233         --\n",
       "24504025      567234         --\n",
       "24504026      567235         --\n",
       "24504028      567236         --"
      ]
     },
     "execution_count": 10,
     "metadata": {},
     "output_type": "execute_result"
    }
   ],
   "source": [
    "j = join(daily_frames_join, jura_frames_join, join_type='outer', keys='FRAMEID')\n",
    "j"
   ]
  },
  {
   "cell_type": "code",
   "execution_count": 11,
   "id": "32431f66-d899-490e-98ad-4d9c299f74d7",
   "metadata": {
    "tags": []
   },
   "outputs": [],
   "source": [
    "daily_frames_index = j[(~j['JURA_INDEX'].mask) & (~j['DAILY_INDEX'].mask)]['DAILY_INDEX']\n",
    "jura_frames_index = j[(~j['JURA_INDEX'].mask) & (~j['DAILY_INDEX'].mask)]['JURA_INDEX']"
   ]
  },
  {
   "cell_type": "code",
   "execution_count": 12,
   "id": "31e94315-0a93-454f-b228-7c10e14c22b1",
   "metadata": {
    "tags": []
   },
   "outputs": [
    {
     "data": {
      "text/html": [
       "<div><i>Table length=694207</i>\n",
       "<table id=\"table140234453606048\" class=\"table-striped table-bordered table-condensed\">\n",
       "<thead><tr><th>NIGHT</th><th>EXPID</th><th>TILEID</th><th>EXPTIME</th><th>SEEING_ETC</th><th>EFFTIME_ETC</th><th>CAMERA</th><th>TSNR2_ELG</th><th>TSNR2_BGS</th><th>TSNR2_QSO</th><th>TSNR2_LRG</th><th>SURVEY</th><th>GOALTYPE</th><th>FAFLAVOR</th><th>MINTFRAC</th><th>GOALTIME</th><th>TSNR2_LYA</th><th>TSNR2_ALPHA</th><th>FAPRGRM</th><th>AIRMASS</th><th>EBV</th><th>TSNR2_GPBDARK</th><th>TSNR2_GPBBRIGHT</th><th>TSNR2_GPBBACKUP</th><th>TILERA</th><th>TILEDEC</th><th>MJD</th></tr></thead>\n",
       "<thead><tr><th>int32</th><th>int32</th><th>int32</th><th>float32</th><th>float64</th><th>float64</th><th>bytes2</th><th>float64</th><th>float64</th><th>float64</th><th>float64</th><th>bytes7</th><th>bytes7</th><th>bytes19</th><th>float64</th><th>float64</th><th>float64</th><th>float64</th><th>bytes19</th><th>float32</th><th>float32</th><th>float64</th><th>float64</th><th>float64</th><th>float64</th><th>float64</th><th>float64</th></tr></thead>\n",
       "<tr><td>20210916</td><td>100469</td><td>82130</td><td>180.0338</td><td>0.0</td><td>-99.0</td><td>b0</td><td>0.0</td><td>0.0</td><td>0.0</td><td>0.0</td><td>cmx</td><td>unknown</td><td>dithprec</td><td>0.9</td><td>-99.0</td><td>0.0</td><td>1e+20</td><td>dithprec</td><td>0.0</td><td>0.0</td><td>0.0</td><td>0.0</td><td>0.0</td><td>336.0</td><td>30.0</td><td>59474.238451961</td></tr>\n",
       "<tr><td>20210916</td><td>100469</td><td>82130</td><td>180.0338</td><td>0.0</td><td>-99.0</td><td>b1</td><td>0.0</td><td>0.0</td><td>0.0</td><td>0.0</td><td>cmx</td><td>unknown</td><td>dithprec</td><td>0.9</td><td>-99.0</td><td>0.0</td><td>1e+20</td><td>dithprec</td><td>0.0</td><td>0.0</td><td>0.0</td><td>0.0</td><td>0.0</td><td>336.0</td><td>30.0</td><td>59474.238451961</td></tr>\n",
       "<tr><td>20210916</td><td>100469</td><td>82130</td><td>180.0338</td><td>0.0</td><td>-99.0</td><td>b2</td><td>0.0</td><td>0.0</td><td>0.0</td><td>0.0</td><td>cmx</td><td>unknown</td><td>dithprec</td><td>0.9</td><td>-99.0</td><td>0.0</td><td>1e+20</td><td>dithprec</td><td>0.0</td><td>0.0</td><td>0.0</td><td>0.0</td><td>0.0</td><td>336.0</td><td>30.0</td><td>59474.238451961</td></tr>\n",
       "<tr><td>20210916</td><td>100469</td><td>82130</td><td>180.0338</td><td>0.0</td><td>-99.0</td><td>b3</td><td>0.0</td><td>0.0</td><td>0.0</td><td>0.0</td><td>cmx</td><td>unknown</td><td>dithprec</td><td>0.9</td><td>-99.0</td><td>0.0</td><td>1e+20</td><td>dithprec</td><td>0.0</td><td>0.0</td><td>0.0</td><td>0.0</td><td>0.0</td><td>336.0</td><td>30.0</td><td>59474.238451961</td></tr>\n",
       "<tr><td>20210916</td><td>100469</td><td>82130</td><td>180.0338</td><td>0.0</td><td>-99.0</td><td>b4</td><td>0.0</td><td>0.0</td><td>0.0</td><td>0.0</td><td>cmx</td><td>unknown</td><td>dithprec</td><td>0.9</td><td>-99.0</td><td>0.0</td><td>1e+20</td><td>dithprec</td><td>0.0</td><td>0.0</td><td>0.0</td><td>0.0</td><td>0.0</td><td>336.0</td><td>30.0</td><td>59474.238451961</td></tr>\n",
       "<tr><td>20210916</td><td>100469</td><td>82130</td><td>180.0338</td><td>0.0</td><td>-99.0</td><td>b5</td><td>0.0</td><td>0.0</td><td>0.0</td><td>0.0</td><td>cmx</td><td>unknown</td><td>dithprec</td><td>0.9</td><td>-99.0</td><td>0.0</td><td>1e+20</td><td>dithprec</td><td>0.0</td><td>0.0</td><td>0.0</td><td>0.0</td><td>0.0</td><td>336.0</td><td>30.0</td><td>59474.238451961</td></tr>\n",
       "<tr><td>20210916</td><td>100469</td><td>82130</td><td>180.0338</td><td>0.0</td><td>-99.0</td><td>b6</td><td>0.0</td><td>0.0</td><td>0.0</td><td>0.0</td><td>cmx</td><td>unknown</td><td>dithprec</td><td>0.9</td><td>-99.0</td><td>0.0</td><td>1e+20</td><td>dithprec</td><td>0.0</td><td>0.0</td><td>0.0</td><td>0.0</td><td>0.0</td><td>336.0</td><td>30.0</td><td>59474.238451961</td></tr>\n",
       "<tr><td>20210916</td><td>100469</td><td>82130</td><td>180.0338</td><td>0.0</td><td>-99.0</td><td>b7</td><td>0.0</td><td>0.0</td><td>0.0</td><td>0.0</td><td>cmx</td><td>unknown</td><td>dithprec</td><td>0.9</td><td>-99.0</td><td>0.0</td><td>1e+20</td><td>dithprec</td><td>0.0</td><td>0.0</td><td>0.0</td><td>0.0</td><td>0.0</td><td>336.0</td><td>30.0</td><td>59474.238451961</td></tr>\n",
       "<tr><td>20210916</td><td>100469</td><td>82130</td><td>180.0338</td><td>0.0</td><td>-99.0</td><td>b8</td><td>0.0</td><td>0.0</td><td>0.0</td><td>0.0</td><td>cmx</td><td>unknown</td><td>dithprec</td><td>0.9</td><td>-99.0</td><td>0.0</td><td>1e+20</td><td>dithprec</td><td>0.0</td><td>0.0</td><td>0.0</td><td>0.0</td><td>0.0</td><td>336.0</td><td>30.0</td><td>59474.238451961</td></tr>\n",
       "<tr><td>20210916</td><td>100469</td><td>82130</td><td>180.0338</td><td>0.0</td><td>-99.0</td><td>b9</td><td>0.0</td><td>0.0</td><td>0.0</td><td>0.0</td><td>cmx</td><td>unknown</td><td>dithprec</td><td>0.9</td><td>-99.0</td><td>0.0</td><td>1e+20</td><td>dithprec</td><td>0.0</td><td>0.0</td><td>0.0</td><td>0.0</td><td>0.0</td><td>336.0</td><td>30.0</td><td>59474.238451961</td></tr>\n",
       "<tr><td>...</td><td>...</td><td>...</td><td>...</td><td>...</td><td>...</td><td>...</td><td>...</td><td>...</td><td>...</td><td>...</td><td>...</td><td>...</td><td>...</td><td>...</td><td>...</td><td>...</td><td>...</td><td>...</td><td>...</td><td>...</td><td>...</td><td>...</td><td>...</td><td>...</td><td>...</td><td>...</td></tr>\n",
       "<tr><td>20210710</td><td>98273</td><td>21283</td><td>301.0203</td><td>0.0</td><td>1.577248</td><td>z0</td><td>0.0</td><td>0.0</td><td>0.0</td><td>0.0</td><td>main</td><td>bright</td><td>mainbright</td><td>0.85</td><td>180.0</td><td>0.0</td><td>0.0</td><td>bright</td><td>0.0</td><td>0.07960585</td><td>0.0</td><td>0.0</td><td>0.0</td><td>356.352</td><td>30.536</td><td>59406.455305575</td></tr>\n",
       "<tr><td>20210710</td><td>98273</td><td>21283</td><td>301.0203</td><td>0.0</td><td>1.577248</td><td>z1</td><td>0.0</td><td>0.0</td><td>0.0</td><td>0.0</td><td>main</td><td>bright</td><td>mainbright</td><td>0.85</td><td>180.0</td><td>0.0</td><td>0.0</td><td>bright</td><td>0.0</td><td>0.07960585</td><td>0.0</td><td>0.0</td><td>0.0</td><td>356.352</td><td>30.536</td><td>59406.455305575</td></tr>\n",
       "<tr><td>20210710</td><td>98273</td><td>21283</td><td>301.0203</td><td>0.0</td><td>1.577248</td><td>z2</td><td>0.0</td><td>0.0</td><td>0.0</td><td>0.0</td><td>main</td><td>bright</td><td>mainbright</td><td>0.85</td><td>180.0</td><td>0.0</td><td>0.0</td><td>bright</td><td>0.0</td><td>0.07960585</td><td>0.0</td><td>0.0</td><td>0.0</td><td>356.352</td><td>30.536</td><td>59406.455305575</td></tr>\n",
       "<tr><td>20210710</td><td>98273</td><td>21283</td><td>301.0203</td><td>0.0</td><td>1.577248</td><td>z3</td><td>0.0</td><td>0.0</td><td>0.0</td><td>0.0</td><td>main</td><td>bright</td><td>mainbright</td><td>0.85</td><td>180.0</td><td>0.0</td><td>0.0</td><td>bright</td><td>0.0</td><td>0.07960585</td><td>0.0</td><td>0.0</td><td>0.0</td><td>356.352</td><td>30.536</td><td>59406.455305575</td></tr>\n",
       "<tr><td>20210710</td><td>98273</td><td>21283</td><td>301.0203</td><td>0.0</td><td>1.577248</td><td>z4</td><td>0.0</td><td>0.0</td><td>0.0</td><td>0.0</td><td>main</td><td>bright</td><td>mainbright</td><td>0.85</td><td>180.0</td><td>0.0</td><td>0.0</td><td>bright</td><td>0.0</td><td>0.07960585</td><td>0.0</td><td>0.0</td><td>0.0</td><td>356.352</td><td>30.536</td><td>59406.455305575</td></tr>\n",
       "<tr><td>20210710</td><td>98273</td><td>21283</td><td>301.0203</td><td>0.0</td><td>1.577248</td><td>z5</td><td>0.0</td><td>0.0</td><td>0.0</td><td>0.0</td><td>main</td><td>bright</td><td>mainbright</td><td>0.85</td><td>180.0</td><td>0.0</td><td>0.0</td><td>bright</td><td>0.0</td><td>0.07960585</td><td>0.0</td><td>0.0</td><td>0.0</td><td>356.352</td><td>30.536</td><td>59406.455305575</td></tr>\n",
       "<tr><td>20210710</td><td>98273</td><td>21283</td><td>301.0203</td><td>0.0</td><td>1.577248</td><td>z6</td><td>0.0</td><td>0.0</td><td>0.0</td><td>0.0</td><td>main</td><td>bright</td><td>mainbright</td><td>0.85</td><td>180.0</td><td>0.0</td><td>0.0</td><td>bright</td><td>0.0</td><td>0.07960585</td><td>0.0</td><td>0.0</td><td>0.0</td><td>356.352</td><td>30.536</td><td>59406.455305575</td></tr>\n",
       "<tr><td>20210710</td><td>98273</td><td>21283</td><td>301.0203</td><td>0.0</td><td>1.577248</td><td>z7</td><td>0.0</td><td>0.0</td><td>0.0</td><td>0.0</td><td>main</td><td>bright</td><td>mainbright</td><td>0.85</td><td>180.0</td><td>0.0</td><td>0.0</td><td>bright</td><td>0.0</td><td>0.07960585</td><td>0.0</td><td>0.0</td><td>0.0</td><td>356.352</td><td>30.536</td><td>59406.455305575</td></tr>\n",
       "<tr><td>20210710</td><td>98273</td><td>21283</td><td>301.0203</td><td>0.0</td><td>1.577248</td><td>z8</td><td>0.0</td><td>0.0</td><td>0.0</td><td>0.0</td><td>main</td><td>bright</td><td>mainbright</td><td>0.85</td><td>180.0</td><td>0.0</td><td>0.0</td><td>bright</td><td>0.0</td><td>0.07960585</td><td>0.0</td><td>0.0</td><td>0.0</td><td>356.352</td><td>30.536</td><td>59406.455305575</td></tr>\n",
       "<tr><td>20210710</td><td>98273</td><td>21283</td><td>301.0203</td><td>0.0</td><td>1.577248</td><td>z9</td><td>0.0</td><td>0.0</td><td>0.0</td><td>0.0</td><td>main</td><td>bright</td><td>mainbright</td><td>0.85</td><td>180.0</td><td>0.0</td><td>0.0</td><td>bright</td><td>0.0</td><td>0.07960585</td><td>0.0</td><td>0.0</td><td>0.0</td><td>356.352</td><td>30.536</td><td>59406.455305575</td></tr>\n",
       "</table></div>"
      ],
      "text/plain": [
       "<Table length=694207>\n",
       " NIGHT   EXPID  TILEID EXPTIME  ...  TILERA TILEDEC       MJD      \n",
       " int32   int32  int32  float32  ... float64 float64     float64    \n",
       "-------- ------ ------ -------- ... ------- ------- ---------------\n",
       "20210916 100469  82130 180.0338 ...   336.0    30.0 59474.238451961\n",
       "20210916 100469  82130 180.0338 ...   336.0    30.0 59474.238451961\n",
       "20210916 100469  82130 180.0338 ...   336.0    30.0 59474.238451961\n",
       "20210916 100469  82130 180.0338 ...   336.0    30.0 59474.238451961\n",
       "20210916 100469  82130 180.0338 ...   336.0    30.0 59474.238451961\n",
       "20210916 100469  82130 180.0338 ...   336.0    30.0 59474.238451961\n",
       "20210916 100469  82130 180.0338 ...   336.0    30.0 59474.238451961\n",
       "20210916 100469  82130 180.0338 ...   336.0    30.0 59474.238451961\n",
       "20210916 100469  82130 180.0338 ...   336.0    30.0 59474.238451961\n",
       "20210916 100469  82130 180.0338 ...   336.0    30.0 59474.238451961\n",
       "     ...    ...    ...      ... ...     ...     ...             ...\n",
       "20210710  98273  21283 301.0203 ... 356.352  30.536 59406.455305575\n",
       "20210710  98273  21283 301.0203 ... 356.352  30.536 59406.455305575\n",
       "20210710  98273  21283 301.0203 ... 356.352  30.536 59406.455305575\n",
       "20210710  98273  21283 301.0203 ... 356.352  30.536 59406.455305575\n",
       "20210710  98273  21283 301.0203 ... 356.352  30.536 59406.455305575\n",
       "20210710  98273  21283 301.0203 ... 356.352  30.536 59406.455305575\n",
       "20210710  98273  21283 301.0203 ... 356.352  30.536 59406.455305575\n",
       "20210710  98273  21283 301.0203 ... 356.352  30.536 59406.455305575\n",
       "20210710  98273  21283 301.0203 ... 356.352  30.536 59406.455305575\n",
       "20210710  98273  21283 301.0203 ... 356.352  30.536 59406.455305575"
      ]
     },
     "execution_count": 12,
     "metadata": {},
     "output_type": "execute_result"
    }
   ],
   "source": [
    "daily_frames_patched = daily_frames.copy()\n",
    "for column in jura_frames.colnames:\n",
    "    # jura does not have TSNR2_ALPHA\n",
    "    daily_frames_patched[column][daily_frames_index] = jura_frames[column][jura_frames_index]\n",
    "daily_frames_patched"
   ]
  },
  {
   "cell_type": "markdown",
   "id": "ca7c8da8-2c0b-45df-ab15-6f8aac0c9c6a",
   "metadata": {},
   "source": [
    "## Patch exposures"
   ]
  },
  {
   "cell_type": "code",
   "execution_count": 13,
   "id": "e800b0bf-3824-4b78-94e5-e1f3fdb1e9ef",
   "metadata": {
    "tags": []
   },
   "outputs": [],
   "source": [
    "daily_exposures_join = Table()\n",
    "daily_exposures_join['EXPID'] = daily_exposures['EXPID']\n",
    "daily_exposures_join['DAILY_INDEX'] = np.arange(len(daily_exposures))"
   ]
  },
  {
   "cell_type": "code",
   "execution_count": 14,
   "id": "933274c3-bc01-4287-ba1f-bf138d22c901",
   "metadata": {
    "tags": []
   },
   "outputs": [],
   "source": [
    "jura_exposures_join = Table()\n",
    "jura_exposures_join['EXPID'] = jura_exposures['EXPID']\n",
    "jura_exposures_join['JURA_INDEX'] = np.arange(len(jura_exposures))"
   ]
  },
  {
   "cell_type": "code",
   "execution_count": 15,
   "id": "6fec01f6-f4b2-443b-9763-c663375bae25",
   "metadata": {
    "tags": []
   },
   "outputs": [
    {
     "data": {
      "text/html": [
       "<div><i>Table length=23593</i>\n",
       "<table id=\"table140234453599904\" class=\"table-striped table-bordered table-condensed\">\n",
       "<thead><tr><th>EXPID</th><th>DAILY_INDEX</th><th>JURA_INDEX</th></tr></thead>\n",
       "<thead><tr><th>int32</th><th>int64</th><th>int64</th></tr></thead>\n",
       "<tr><td>50986</td><td>0</td><td>--</td></tr>\n",
       "<tr><td>50988</td><td>1</td><td>--</td></tr>\n",
       "<tr><td>50991</td><td>2</td><td>--</td></tr>\n",
       "<tr><td>50995</td><td>3</td><td>--</td></tr>\n",
       "<tr><td>51001</td><td>4</td><td>--</td></tr>\n",
       "<tr><td>51002</td><td>5</td><td>--</td></tr>\n",
       "<tr><td>51028</td><td>6</td><td>--</td></tr>\n",
       "<tr><td>51029</td><td>7</td><td>--</td></tr>\n",
       "<tr><td>51030</td><td>8</td><td>--</td></tr>\n",
       "<tr><td>51031</td><td>9</td><td>--</td></tr>\n",
       "<tr><td>...</td><td>...</td><td>...</td></tr>\n",
       "<tr><td>245031</td><td>23575</td><td>--</td></tr>\n",
       "<tr><td>245032</td><td>23576</td><td>--</td></tr>\n",
       "<tr><td>245033</td><td>23577</td><td>--</td></tr>\n",
       "<tr><td>245034</td><td>23578</td><td>--</td></tr>\n",
       "<tr><td>245035</td><td>23579</td><td>--</td></tr>\n",
       "<tr><td>245036</td><td>23580</td><td>--</td></tr>\n",
       "<tr><td>245037</td><td>23581</td><td>--</td></tr>\n",
       "<tr><td>245038</td><td>23582</td><td>--</td></tr>\n",
       "<tr><td>245039</td><td>23583</td><td>--</td></tr>\n",
       "<tr><td>245040</td><td>23584</td><td>--</td></tr>\n",
       "</table></div>"
      ],
      "text/plain": [
       "<Table length=23593>\n",
       "EXPID  DAILY_INDEX JURA_INDEX\n",
       "int32     int64      int64   \n",
       "------ ----------- ----------\n",
       " 50986           0         --\n",
       " 50988           1         --\n",
       " 50991           2         --\n",
       " 50995           3         --\n",
       " 51001           4         --\n",
       " 51002           5         --\n",
       " 51028           6         --\n",
       " 51029           7         --\n",
       " 51030           8         --\n",
       " 51031           9         --\n",
       "   ...         ...        ...\n",
       "245031       23575         --\n",
       "245032       23576         --\n",
       "245033       23577         --\n",
       "245034       23578         --\n",
       "245035       23579         --\n",
       "245036       23580         --\n",
       "245037       23581         --\n",
       "245038       23582         --\n",
       "245039       23583         --\n",
       "245040       23584         --"
      ]
     },
     "execution_count": 15,
     "metadata": {},
     "output_type": "execute_result"
    }
   ],
   "source": [
    "j = join(daily_exposures_join, jura_exposures_join, join_type='outer', keys='EXPID')\n",
    "j"
   ]
  },
  {
   "cell_type": "code",
   "execution_count": 16,
   "id": "83004567-d880-4ba6-968d-0555662ef9a2",
   "metadata": {
    "tags": []
   },
   "outputs": [],
   "source": [
    "daily_exposures_index = j[(~j['JURA_INDEX'].mask) & (~j['DAILY_INDEX'].mask)]['DAILY_INDEX']\n",
    "jura_exposures_index = j[(~j['JURA_INDEX'].mask) & (~j['DAILY_INDEX'].mask)]['JURA_INDEX']"
   ]
  },
  {
   "cell_type": "code",
   "execution_count": 17,
   "id": "a63345ad-5660-4f46-9940-60f13370312a",
   "metadata": {
    "tags": []
   },
   "outputs": [
    {
     "data": {
      "text/html": [
       "<div><i>Table length=23585</i>\n",
       "<table id=\"table140234453648528\" class=\"table-striped table-bordered table-condensed\">\n",
       "<thead><tr><th>NIGHT</th><th>EXPID</th><th>TILEID</th><th>TILERA</th><th>TILEDEC</th><th>MJD</th><th>SURVEY</th><th>PROGRAM</th><th>FAPRGRM</th><th>FAFLAVOR</th><th>EXPTIME</th><th>EFFTIME_SPEC</th><th>GOALTIME</th><th>GOALTYPE</th><th>MINTFRAC</th><th>AIRMASS</th><th>EBV</th><th>SEEING_ETC</th><th>EFFTIME_ETC</th><th>TSNR2_ELG</th><th>TSNR2_QSO</th><th>TSNR2_LRG</th><th>TSNR2_LYA</th><th>TSNR2_BGS</th><th>TSNR2_GPBDARK</th><th>TSNR2_GPBBRIGHT</th><th>TSNR2_GPBBACKUP</th><th>LRG_EFFTIME_DARK</th><th>ELG_EFFTIME_DARK</th><th>BGS_EFFTIME_BRIGHT</th><th>LYA_EFFTIME_DARK</th><th>GPB_EFFTIME_DARK</th><th>GPB_EFFTIME_BRIGHT</th><th>GPB_EFFTIME_BACKUP</th><th>TRANSPARENCY_GFA</th><th>SEEING_GFA</th><th>FIBER_FRACFLUX_GFA</th><th>FIBER_FRACFLUX_ELG_GFA</th><th>FIBER_FRACFLUX_BGS_GFA</th><th>FIBERFAC_GFA</th><th>FIBERFAC_ELG_GFA</th><th>FIBERFAC_BGS_GFA</th><th>AIRMASS_GFA</th><th>SKY_MAG_AB_GFA</th><th>SKY_MAG_G_SPEC</th><th>SKY_MAG_R_SPEC</th><th>SKY_MAG_Z_SPEC</th><th>EFFTIME_GFA</th><th>EFFTIME_DARK_GFA</th><th>EFFTIME_BRIGHT_GFA</th><th>EFFTIME_BACKUP_GFA</th></tr></thead>\n",
       "<thead><tr><th>int32</th><th>int32</th><th>int32</th><th>float64</th><th>float64</th><th>float64</th><th>bytes7</th><th>bytes6</th><th>bytes19</th><th>bytes19</th><th>float64</th><th>float64</th><th>float64</th><th>bytes7</th><th>float64</th><th>float64</th><th>float64</th><th>float64</th><th>float64</th><th>float64</th><th>float64</th><th>float64</th><th>float64</th><th>float64</th><th>float64</th><th>float64</th><th>float64</th><th>float64</th><th>float64</th><th>float64</th><th>float64</th><th>float64</th><th>float64</th><th>float64</th><th>float64</th><th>float64</th><th>float64</th><th>float64</th><th>float64</th><th>float64</th><th>float64</th><th>float64</th><th>float64</th><th>float64</th><th>float64</th><th>float64</th><th>float64</th><th>float64</th><th>float64</th><th>float64</th><th>float64</th></tr></thead>\n",
       "<tr><td>20200219</td><td>50986</td><td>63075</td><td>0.0</td><td>0.0</td><td>0.0</td><td>unknown</td><td>other</td><td>unknown</td><td>unknown</td><td>60.0</td><td>0.0</td><td>1000.0</td><td>unknown</td><td>0.9</td><td>1.043362</td><td>0.0942080095410347</td><td>0.0</td><td>0.0</td><td>0.0</td><td>0.0</td><td>0.0</td><td>0.0</td><td>0.0</td><td>0.0</td><td>0.0</td><td>0.0</td><td>0.0</td><td>0.0</td><td>0.0</td><td>0.0</td><td>0.0</td><td>0.0</td><td>0.0</td><td>0.0</td><td>0.0</td><td>0.0</td><td>0.0</td><td>0.0</td><td>0.0</td><td>0.0</td><td>0.0</td><td>0.0</td><td>0.0</td><td>0.0</td><td>0.0</td><td>0.0</td><td>0.0</td><td>0.0</td><td>0.0</td><td>0.0</td></tr>\n",
       "<tr><td>20200219</td><td>50988</td><td>70004</td><td>0.0</td><td>0.0</td><td>0.0</td><td>unknown</td><td>other</td><td>unknown</td><td>unknown</td><td>900.0</td><td>680.3945587158206</td><td>1000.0</td><td>unknown</td><td>0.9</td><td>1.104283</td><td>0.04696561396121979</td><td>0.0</td><td>0.0</td><td>79.11564636230469</td><td>19.950475692749023</td><td>54.666229248046875</td><td>57.56499099731445</td><td>5267.74755859375</td><td>0.0</td><td>0.0</td><td>0.0</td><td>664.2277979694464</td><td>680.3945587158206</td><td>737.484658203125</td><td>658.5295680370829</td><td>0.0</td><td>0.0</td><td>0.0</td><td>0.0</td><td>0.0</td><td>0.0</td><td>0.0</td><td>0.0</td><td>0.0</td><td>0.0</td><td>0.0</td><td>0.0</td><td>0.0</td><td>21.955594041629173</td><td>21.284226418609467</td><td>19.790755796726657</td><td>0.0</td><td>0.0</td><td>0.0</td><td>0.0</td></tr>\n",
       "<tr><td>20200219</td><td>50991</td><td>63075</td><td>0.0</td><td>0.0</td><td>0.0</td><td>unknown</td><td>other</td><td>unknown</td><td>unknown</td><td>60.0</td><td>0.0</td><td>1000.0</td><td>unknown</td><td>0.9</td><td>1.008076</td><td>0.0942080095410347</td><td>0.0</td><td>0.0</td><td>0.0</td><td>0.0</td><td>0.0</td><td>0.0</td><td>0.0</td><td>0.0</td><td>0.0</td><td>0.0</td><td>0.0</td><td>0.0</td><td>0.0</td><td>0.0</td><td>0.0</td><td>0.0</td><td>0.0</td><td>0.0</td><td>0.0</td><td>0.0</td><td>0.0</td><td>0.0</td><td>0.0</td><td>0.0</td><td>0.0</td><td>0.0</td><td>0.0</td><td>0.0</td><td>0.0</td><td>0.0</td><td>0.0</td><td>0.0</td><td>0.0</td><td>0.0</td></tr>\n",
       "<tr><td>20200219</td><td>50995</td><td>70004</td><td>0.0</td><td>0.0</td><td>0.0</td><td>unknown</td><td>other</td><td>unknown</td><td>unknown</td><td>900.0</td><td>846.9120193481449</td><td>1000.0</td><td>unknown</td><td>0.9</td><td>1.034227</td><td>0.04696561396121979</td><td>0.0</td><td>0.0</td><td>98.47814178466797</td><td>24.324670791625977</td><td>67.42870330810547</td><td>66.30667877197266</td><td>6406.125</td><td>0.0</td><td>0.0</td><td>0.0</td><td>819.299588326338</td><td>846.9120193481449</td><td>896.8575000000001</td><td>758.5323609573368</td><td>0.0</td><td>0.0</td><td>0.0</td><td>0.0</td><td>0.0</td><td>0.0</td><td>0.0</td><td>0.0</td><td>0.0</td><td>0.0</td><td>0.0</td><td>0.0</td><td>0.0</td><td>21.966302914201346</td><td>21.262359707846763</td><td>19.752054491279942</td><td>0.0</td><td>0.0</td><td>0.0</td><td>0.0</td></tr>\n",
       "<tr><td>20200219</td><td>51001</td><td>70004</td><td>0.0</td><td>0.0</td><td>0.0</td><td>unknown</td><td>other</td><td>unknown</td><td>unknown</td><td>900.0</td><td>999.3838150024418</td><td>1000.0</td><td>unknown</td><td>0.9</td><td>1.022479</td><td>0.04696561396121979</td><td>0.0</td><td>0.0</td><td>116.2074203491211</td><td>28.303956985473633</td><td>77.67794036865234</td><td>71.61495208740234</td><td>7325.822265625</td><td>0.0</td><td>0.0</td><td>0.0</td><td>943.8340268130958</td><td>999.3838150024418</td><td>1025.6151171875001</td><td>819.2577232456027</td><td>0.0</td><td>0.0</td><td>0.0</td><td>0.0</td><td>0.0</td><td>0.0</td><td>0.0</td><td>0.0</td><td>0.0</td><td>0.0</td><td>0.0</td><td>0.0</td><td>0.0</td><td>22.00288157116244</td><td>21.356993054425978</td><td>19.844414121595623</td><td>0.0</td><td>0.0</td><td>0.0</td><td>0.0</td></tr>\n",
       "<tr><td>20200219</td><td>51002</td><td>70004</td><td>0.0</td><td>0.0</td><td>0.0</td><td>unknown</td><td>other</td><td>unknown</td><td>unknown</td><td>900.0</td><td>1093.0981079101566</td><td>1000.0</td><td>unknown</td><td>0.9</td><td>1.034986</td><td>0.04696561396121979</td><td>0.0</td><td>0.0</td><td>127.10443115234375</td><td>30.669572830200195</td><td>85.87296295166016</td><td>71.7078628540039</td><td>8028.75</td><td>0.0</td><td>0.0</td><td>0.0</td><td>1043.4085151122983</td><td>1093.0981079101566</td><td>1124.025</td><td>820.3205999339526</td><td>0.0</td><td>0.0</td><td>0.0</td><td>0.0</td><td>0.0</td><td>0.0</td><td>0.0</td><td>0.0</td><td>0.0</td><td>0.0</td><td>0.0</td><td>0.0</td><td>0.0</td><td>22.021436962721946</td><td>21.35818612569135</td><td>19.888063776015954</td><td>0.0</td><td>0.0</td><td>0.0</td><td>0.0</td></tr>\n",
       "<tr><td>20200219</td><td>51028</td><td>70005</td><td>0.0</td><td>0.0</td><td>0.0</td><td>unknown</td><td>other</td><td>unknown</td><td>unknown</td><td>0.0</td><td>0.0</td><td>1000.0</td><td>unknown</td><td>0.9</td><td>1.02954</td><td>0.018338840454816818</td><td>0.0</td><td>0.0</td><td>0.0</td><td>0.0</td><td>0.0</td><td>0.0</td><td>0.0</td><td>0.0</td><td>0.0</td><td>0.0</td><td>0.0</td><td>0.0</td><td>0.0</td><td>0.0</td><td>0.0</td><td>0.0</td><td>0.0</td><td>0.0</td><td>0.0</td><td>0.0</td><td>0.0</td><td>0.0</td><td>0.0</td><td>0.0</td><td>0.0</td><td>0.0</td><td>0.0</td><td>0.0</td><td>0.0</td><td>0.0</td><td>0.0</td><td>0.0</td><td>0.0</td><td>0.0</td></tr>\n",
       "<tr><td>20200219</td><td>51029</td><td>70005</td><td>0.0</td><td>0.0</td><td>0.0</td><td>unknown</td><td>other</td><td>unknown</td><td>unknown</td><td>0.0</td><td>0.0</td><td>1000.0</td><td>unknown</td><td>0.9</td><td>1.025211</td><td>0.018338840454816818</td><td>0.0</td><td>0.0</td><td>0.0</td><td>0.0</td><td>0.0</td><td>0.0</td><td>0.0</td><td>0.0</td><td>0.0</td><td>0.0</td><td>0.0</td><td>0.0</td><td>0.0</td><td>0.0</td><td>0.0</td><td>0.0</td><td>0.0</td><td>0.0</td><td>0.0</td><td>0.0</td><td>0.0</td><td>0.0</td><td>0.0</td><td>0.0</td><td>0.0</td><td>0.0</td><td>0.0</td><td>0.0</td><td>0.0</td><td>0.0</td><td>0.0</td><td>0.0</td><td>0.0</td><td>0.0</td></tr>\n",
       "<tr><td>20200219</td><td>51030</td><td>70005</td><td>0.0</td><td>0.0</td><td>0.0</td><td>unknown</td><td>other</td><td>unknown</td><td>unknown</td><td>900.0</td><td>1343.9888305664067</td><td>1000.0</td><td>unknown</td><td>0.9</td><td>1.021381</td><td>0.018338840454816818</td><td>0.0</td><td>0.0</td><td>156.27777099609375</td><td>38.330753326416016</td><td>103.22396850585938</td><td>115.39551544189453</td><td>9775.427734375</td><td>0.0</td><td>0.0</td><td>0.0</td><td>1254.233742503177</td><td>1343.9888305664067</td><td>1368.5598828125</td><td>1320.0967744598886</td><td>0.0</td><td>0.0</td><td>0.0</td><td>0.0</td><td>0.0</td><td>0.0</td><td>0.0</td><td>0.0</td><td>0.0</td><td>0.0</td><td>0.0</td><td>0.0</td><td>0.0</td><td>22.086721773280537</td><td>21.420544538756392</td><td>19.89465601255312</td><td>0.0</td><td>0.0</td><td>0.0</td><td>0.0</td></tr>\n",
       "<tr><td>20200219</td><td>51031</td><td>70005</td><td>0.0</td><td>0.0</td><td>0.0</td><td>unknown</td><td>other</td><td>unknown</td><td>unknown</td><td>900.0</td><td>1274.8758575439458</td><td>1000.0</td><td>unknown</td><td>0.9</td><td>1.011203</td><td>0.018338840454816818</td><td>0.0</td><td>0.0</td><td>148.2413787841797</td><td>36.46641540527344</td><td>97.36178588867188</td><td>116.91536712646484</td><td>9226.1015625</td><td>0.0</td><td>0.0</td><td>0.0</td><td>1183.0046728440814</td><td>1274.8758575439458</td><td>1291.6542187500002</td><td>1337.483509973618</td><td>0.0</td><td>0.0</td><td>0.0</td><td>0.0</td><td>0.0</td><td>0.0</td><td>0.0</td><td>0.0</td><td>0.0</td><td>0.0</td><td>0.0</td><td>0.0</td><td>0.0</td><td>22.080598194447436</td><td>21.40015385586721</td><td>19.848699583634996</td><td>0.0</td><td>0.0</td><td>0.0</td><td>0.0</td></tr>\n",
       "<tr><td>...</td><td>...</td><td>...</td><td>...</td><td>...</td><td>...</td><td>...</td><td>...</td><td>...</td><td>...</td><td>...</td><td>...</td><td>...</td><td>...</td><td>...</td><td>...</td><td>...</td><td>...</td><td>...</td><td>...</td><td>...</td><td>...</td><td>...</td><td>...</td><td>...</td><td>...</td><td>...</td><td>...</td><td>...</td><td>...</td><td>...</td><td>...</td><td>...</td><td>...</td><td>...</td><td>...</td><td>...</td><td>...</td><td>...</td><td>...</td><td>...</td><td>...</td><td>...</td><td>...</td><td>...</td><td>...</td><td>...</td><td>...</td><td>...</td><td>...</td><td>...</td></tr>\n",
       "<tr><td>20240723</td><td>245031</td><td>22364</td><td>22.476</td><td>28.22</td><td>60515.43113465</td><td>main</td><td>bright</td><td>bright</td><td>mainbright</td><td>449.36053466796875</td><td>40.626041412353516</td><td>180.0</td><td>bright</td><td>0.85</td><td>1.1715140342712402</td><td>0.10819533467292786</td><td>1.285586953163147</td><td>213.49288940429688</td><td>5.1619696617126465</td><td>1.1945208311080933</td><td>3.08474063873291</td><td>2.068897850255275</td><td>290.1860046386719</td><td>316.03582763671875</td><td>61.97398376464844</td><td>574.5543823242188</td><td>37.481468200683594</td><td>44.392940521240234</td><td>40.626041412353516</td><td>24.41487528972127</td><td>26.493547439575195</td><td>32.429710388183594</td><td>40.69309997558594</td><td>0.8701596224369608</td><td>1.0178648552511982</td><td>0.6121993224901596</td><td>0.43801964178880315</td><td>0.2001894918734916</td><td>0.8775798795583886</td><td>0.861735608071666</td><td>0.8563589726745746</td><td>1.1623554545527566</td><td>18.455990051446015</td><td>18.690907963574293</td><td>18.49967551127935</td><td>18.778043951828256</td><td>28.0873868958231</td><td>23.264799508694356</td><td>28.0873868958231</td><td>49.63157480248187</td></tr>\n",
       "<tr><td>20240723</td><td>245032</td><td>25501</td><td>28.043</td><td>28.166</td><td>60515.43772865</td><td>main</td><td>bright</td><td>bright</td><td>mainbright</td><td>395.04888916015625</td><td>48.375465393066406</td><td>180.0</td><td>bright</td><td>0.85</td><td>1.2077360153198242</td><td>0.06810256838798523</td><td>0.9224849939346313</td><td>211.5171661376953</td><td>5.949474334716797</td><td>1.4242303371429443</td><td>3.658280372619629</td><td>2.3788353028293283</td><td>345.5390319824219</td><td>391.62994384765625</td><td>76.08294677734375</td><td>715.7716064453125</td><td>44.45032501220703</td><td>51.16548156738281</td><td>48.375465393066406</td><td>28.072418967518477</td><td>32.830665588378906</td><td>39.81264114379883</td><td>50.69487762451172</td><td>0.9015343181382041</td><td>0.9337281386633289</td><td>0.6645565418689906</td><td>0.4699601070802112</td><td>0.21307765004143936</td><td>0.9344241615585096</td><td>0.9108102707267867</td><td>0.9006128327403322</td><td>1.198529803605464</td><td>18.573901328348743</td><td>18.77995231681065</td><td>18.614651918603474</td><td>18.89416953975936</td><td>35.950328186024095</td><td>29.19712768138393</td><td>35.950328186024095</td><td>68.03418336034875</td></tr>\n",
       "<tr><td>20240723</td><td>245033</td><td>20804</td><td>30.674</td><td>25.605</td><td>60515.44368938</td><td>main</td><td>bright</td><td>bright</td><td>mainbright</td><td>436.6146545410156</td><td>46.911746978759766</td><td>180.0</td><td>bright</td><td>0.85</td><td>1.2253470420837402</td><td>0.0946631133556366</td><td>1.061527967453003</td><td>207.99874877929688</td><td>5.929103374481201</td><td>1.382538914680481</td><td>3.576667308807373</td><td>2.003640854317281</td><td>335.0838928222656</td><td>362.6446533203125</td><td>70.93494415283203</td><td>658.8157348632812</td><td>43.458675384521484</td><td>50.990291595458984</td><td>46.911746978759766</td><td>23.644783418142694</td><td>30.400802612304688</td><td>37.118797302246094</td><td>46.66094970703125</td><td>0.8813859956723152</td><td>0.9657974965270084</td><td>0.6349999633010655</td><td>0.4507032494018225</td><td>0.20499657114270112</td><td>0.9226364694533729</td><td>0.9034115417727908</td><td>0.8983227437538981</td><td>1.2147209818449622</td><td>18.590108647650354</td><td>18.78711971297666</td><td>18.632068721871573</td><td>18.900317058032222</td><td>35.36518334413519</td><td>29.055493614966743</td><td>35.36518334413519</td><td>63.28078169568276</td></tr>\n",
       "<tr><td>20240723</td><td>245034</td><td>24157</td><td>26.441</td><td>23.984</td><td>60515.45012878</td><td>main</td><td>bright</td><td>bright</td><td>mainbright</td><td>508.1618957519531</td><td>34.7928466796875</td><td>180.0</td><td>bright</td><td>0.85</td><td>1.1587380170822144</td><td>0.10492627322673798</td><td>0.9041240215301514</td><td>203.27947998046875</td><td>4.477118492126465</td><td>1.0474263429641724</td><td>2.6602234840393066</td><td>1.6851560152847216</td><td>248.52032470703125</td><td>274.8722229003906</td><td>53.60383987426758</td><td>513.4805297851562</td><td>32.323326110839844</td><td>38.50321960449219</td><td>34.7928466796875</td><td>19.886372810442822</td><td>23.042768478393555</td><td>28.049787521362305</td><td>36.36751174926758</td><td>0.8372856409711075</td><td>0.9574385686876044</td><td>0.6437722947447122</td><td>0.4563291433465503</td><td>0.2074311527808304</td><td>0.8860367788209789</td><td>0.8607905808886653</td><td>0.8492974123737185</td><td>1.1489538383629758</td><td>18.302608549817208</td><td>18.59529518522685</td><td>18.319587082537797</td><td>18.490669789234804</td><td>27.35605243950052</td><td>22.875602505504744</td><td>27.35605243950052</td><td>51.27675461516744</td></tr>\n",
       "<tr><td>20240723</td><td>245035</td><td>24155</td><td>27.757</td><td>20.878</td><td>60515.45741528</td><td>main</td><td>bright</td><td>bright</td><td>mainbright</td><td>405.8796691894531</td><td>39.29313659667969</td><td>180.0</td><td>bright</td><td>0.85</td><td>1.1614680290222168</td><td>0.08101105690002441</td><td>0.9534479975700378</td><td>208.0144805908203</td><td>4.939772129058838</td><td>1.1851253509521484</td><td>2.9732141494750977</td><td>2.1679152787870004</td><td>280.6652526855469</td><td>318.2488098144531</td><td>61.79878234863281</td><td>593.1060791015625</td><td>36.1263542175293</td><td>42.48204040527344</td><td>39.29313659667969</td><td>25.583370954605197</td><td>26.67906379699707</td><td>32.33803176879883</td><td>42.00703048706055</td><td>0.8598770782594127</td><td>0.8849419841703812</td><td>0.6961108723644849</td><td>0.48901186898050814</td><td>0.22056510426842535</td><td>0.9803877965741438</td><td>0.9503517799169542</td><td>0.9392701884695582</td><td>1.153819651868786</td><td>18.399865070011415</td><td>18.647577543260816</td><td>18.431885823779012</td><td>18.662732745620897</td><td>32.87350446824007</td><td>26.76358387651894</td><td>32.87350446824007</td><td>63.97796320240764</td></tr>\n",
       "<tr><td>20240723</td><td>245036</td><td>24143</td><td>28.938</td><td>17.73</td><td>60515.46349264</td><td>main</td><td>bright</td><td>bright</td><td>mainbright</td><td>418.78179931640625</td><td>35.86562728881836</td><td>180.0</td><td>bright</td><td>0.85</td><td>1.170883059501648</td><td>0.048185475170612335</td><td>0.937030017375946</td><td>205.0648651123047</td><td>4.3806586265563965</td><td>1.0415358543395996</td><td>2.692225456237793</td><td>2.1977412218564294</td><td>256.18304443359375</td><td>294.0751037597656</td><td>57.63203811645508</td><td>541.7286376953125</td><td>32.7121696472168</td><td>37.67366409301758</td><td>35.86562728881836</td><td>25.935344195018484</td><td>24.65256118774414</td><td>30.15765953063965</td><td>38.36819839477539</td><td>0.8377763610115181</td><td>0.9705602081364497</td><td>0.636500497255178</td><td>0.45236338447277435</td><td>0.2059410812250938</td><td>0.8599223493625247</td><td>0.8423457351816401</td><td>0.8381026395546389</td><td>1.1628315084970549</td><td>18.311794168663752</td><td>18.584282005134668</td><td>18.34854350495703</td><td>18.561598957556825</td><td>28.49048925611165</td><td>22.977189220741508</td><td>28.49048925611165</td><td>53.01724645966209</td></tr>\n",
       "<tr><td>20240723</td><td>245037</td><td>24156</td><td>31.295</td><td>20.454</td><td>60515.4697298</td><td>main</td><td>bright</td><td>bright</td><td>mainbright</td><td>495.2598876953125</td><td>43.516876220703125</td><td>180.0</td><td>bright</td><td>0.85</td><td>1.155055046081543</td><td>0.1174674704670906</td><td>1.0240490436553955</td><td>205.05169677734375</td><td>5.520690441131592</td><td>1.2596124410629272</td><td>3.323532819747925</td><td>1.9219513413651537</td><td>310.8348388671875</td><td>338.9863586425781</td><td>66.7206039428711</td><td>605.6486206054688</td><td>40.382938385009766</td><td>47.47793960571289</td><td>43.516876220703125</td><td>22.680772908412518</td><td>28.417509078979492</td><td>34.91352081298828</td><td>42.895362854003906</td><td>0.870625102033582</td><td>0.9980526608850218</td><td>0.615165671429382</td><td>0.4401393704329021</td><td>0.20135696988414353</td><td>0.8949964625548779</td><td>0.8849343763549327</td><td>0.8784415944334574</td><td>1.1459696562925101</td><td>18.52993661324941</td><td>18.73013762632634</td><td>18.573829352842004</td><td>18.778545184717323</td><td>33.64498447756528</td><td>28.03683311508088</td><td>33.64498447756528</td><td>58.14216133765136</td></tr>\n",
       "<tr><td>20240723</td><td>245038</td><td>24145</td><td>33.52</td><td>14.126</td><td>60515.47685091</td><td>main</td><td>bright</td><td>bright</td><td>mainbright</td><td>493.1463317871094</td><td>34.80940628051758</td><td>180.0</td><td>bright</td><td>0.85</td><td>1.1956390142440796</td><td>0.12603168189525604</td><td>1.100890040397644</td><td>203.42791748046875</td><td>4.518393516540527</td><td>1.015478491783142</td><td>2.65665602684021</td><td>1.4242625470312003</td><td>248.63861083984375</td><td>270.3262634277344</td><td>53.294288635253906</td><td>492.18316650390625</td><td>32.27997970581055</td><td>38.858184814453125</td><td>34.80940628051758</td><td>16.807592729286743</td><td>22.66167640686035</td><td>27.88780403137207</td><td>34.85911560058594</td><td>0.8836609351403666</td><td>1.0093834237262644</td><td>0.6026453996668283</td><td>0.4320801795657834</td><td>0.19786083656941084</td><td>0.8524329797174753</td><td>0.8492072807305947</td><td>0.846321098822856</td><td>1.1856032761914315</td><td>18.308278765289266</td><td>18.455099947436622</td><td>18.349742874457572</td><td>18.56713180735548</td><td>24.481665436888377</td><td>20.21865494357773</td><td>24.481665436888377</td><td>41.84089257031624</td></tr>\n",
       "<tr><td>20240723</td><td>245039</td><td>40689</td><td>5.523</td><td>51.574</td><td>60515.48484306</td><td>main</td><td>backup</td><td>backup</td><td>mainbackup</td><td>221.71466064453125</td><td>10.232746124267578</td><td>60.0</td><td>backup</td><td>0.85</td><td>1.0614789724349976</td><td>0.14056971669197083</td><td>1.0867329835891724</td><td>50.083229064941406</td><td>1.261883020401001</td><td>0.27970772981643677</td><td>0.7447484135627747</td><td>0.27201420412004357</td><td>70.69464111328125</td><td>80.06879425048828</td><td>15.785846710205078</td><td>144.47828674316406</td><td>9.049144744873047</td><td>10.852194786071777</td><td>9.897250175476074</td><td>3.2100148732834795</td><td>6.712233543395996</td><td>8.260408401489258</td><td>10.232746124267578</td><td>0.8717007708492915</td><td>1.036467654876057</td><td>0.5825856198274475</td><td>0.4190179312591296</td><td>0.1922657731795699</td><td>0.842495590483157</td><td>0.8333666093271865</td><td>0.832072311517811</td><td>1.0616249312977093</td><td>18.37774916216093</td><td>18.24465058517706</td><td>18.330212951403592</td><td>18.381676752132506</td><td>16.37778050393243</td><td>7.97081703783594</td><td>9.605943872221978</td><td>16.37778050393243</td></tr>\n",
       "<tr><td>20240723</td><td>245040</td><td>40714</td><td>6.874</td><td>54.818</td><td>60515.48880495</td><td>main</td><td>backup</td><td>backup</td><td>mainbackup</td><td>197.9698944091797</td><td>3.3450074195861816</td><td>60.0</td><td>backup</td><td>0.85</td><td>1.0850579738616943</td><td>0.2625943124294281</td><td>0.9399229884147644</td><td>20.971717834472656</td><td>0.5256874561309814</td><td>0.10836483538150787</td><td>0.2760660946369171</td><td>0.057102161257716944</td><td>25.0856990814209</td><td>25.80181121826172</td><td>5.091391563415527</td><td>47.228858947753906</td><td>3.354370355606079</td><td>4.520912170410156</td><td>3.511997938156128</td><td>0.673857409493994</td><td>2.162987232208252</td><td>2.6642205715179443</td><td>3.3450074195861816</td><td>0.891873821177664</td><td>1.003216108063822</td><td>0.6091685566474903</td><td>0.4354969781127068</td><td>0.19917342004874533</td><td>0.8792284100037733</td><td>0.8664996854904443</td><td>0.8631486261150592</td><td>1.0852576980870416</td><td>17.804620564113872</td><td>17.595550283767338</td><td>17.793380364061015</td><td>17.899138996203433</td><td>5.833999076074309</td><td>2.947777412722179</td><td>3.4560422432450406</td><td>5.833999076074309</td></tr>\n",
       "</table></div>"
      ],
      "text/plain": [
       "<Table length=23585>\n",
       " NIGHT   EXPID  TILEID ... EFFTIME_BRIGHT_GFA EFFTIME_BACKUP_GFA\n",
       " int32   int32  int32  ...      float64            float64      \n",
       "-------- ------ ------ ... ------------------ ------------------\n",
       "20200219  50986  63075 ...                0.0                0.0\n",
       "20200219  50988  70004 ...                0.0                0.0\n",
       "20200219  50991  63075 ...                0.0                0.0\n",
       "20200219  50995  70004 ...                0.0                0.0\n",
       "20200219  51001  70004 ...                0.0                0.0\n",
       "20200219  51002  70004 ...                0.0                0.0\n",
       "20200219  51028  70005 ...                0.0                0.0\n",
       "20200219  51029  70005 ...                0.0                0.0\n",
       "20200219  51030  70005 ...                0.0                0.0\n",
       "20200219  51031  70005 ...                0.0                0.0\n",
       "     ...    ...    ... ...                ...                ...\n",
       "20240723 245031  22364 ...   28.0873868958231  49.63157480248187\n",
       "20240723 245032  25501 ... 35.950328186024095  68.03418336034875\n",
       "20240723 245033  20804 ...  35.36518334413519  63.28078169568276\n",
       "20240723 245034  24157 ...  27.35605243950052  51.27675461516744\n",
       "20240723 245035  24155 ...  32.87350446824007  63.97796320240764\n",
       "20240723 245036  24143 ...  28.49048925611165  53.01724645966209\n",
       "20240723 245037  24156 ...  33.64498447756528  58.14216133765136\n",
       "20240723 245038  24145 ... 24.481665436888377  41.84089257031624\n",
       "20240723 245039  40689 ...  9.605943872221978  16.37778050393243\n",
       "20240723 245040  40714 ... 3.4560422432450406  5.833999076074309"
      ]
     },
     "execution_count": 17,
     "metadata": {},
     "output_type": "execute_result"
    }
   ],
   "source": [
    "daily_exposures_patched = daily_exposures.copy()\n",
    "for column in jura_exposures.colnames:\n",
    "    daily_exposures_patched[column][daily_exposures_index] = jura_exposures[column][jura_exposures_index]\n",
    "daily_exposures_patched"
   ]
  },
  {
   "cell_type": "markdown",
   "id": "f708faa2-36c4-4b2d-9a93-1c5b76b415d1",
   "metadata": {},
   "source": [
    "## Patch tiles"
   ]
  },
  {
   "cell_type": "code",
   "execution_count": 18,
   "id": "76fd512d-ee77-4e0f-b6c1-3ba5eb5d77c0",
   "metadata": {
    "tags": []
   },
   "outputs": [],
   "source": [
    "assert (np.unique(jura_exposures['TILEID']) == sorted(jura_tiles['TILEID'])).all()\n",
    "assert (np.unique(daily_exposures['TILEID']) == sorted(daily_tiles['TILEID'])).all()"
   ]
  },
  {
   "cell_type": "code",
   "execution_count": 19,
   "id": "7ccd960a-249f-4ea8-8e63-12ebc4aed7ec",
   "metadata": {},
   "outputs": [],
   "source": [
    "daily_tiles_join = Table()\n",
    "daily_tiles_join['TILEID'] = daily_tiles['TILEID']\n",
    "daily_tiles_join['DAILY_INDEX'] = np.arange(len(daily_tiles))"
   ]
  },
  {
   "cell_type": "code",
   "execution_count": 20,
   "id": "b36035cf-598f-4027-a9cd-a6fb0bb49d99",
   "metadata": {},
   "outputs": [],
   "source": [
    "jura_tiles_join = Table()\n",
    "jura_tiles_join['TILEID'] = jura_tiles['TILEID']\n",
    "jura_tiles_join['JURA_INDEX'] = np.arange(len(jura_tiles))"
   ]
  },
  {
   "cell_type": "code",
   "execution_count": 21,
   "id": "86da04ea-06f1-4a8c-8b8e-eace0d0f286e",
   "metadata": {},
   "outputs": [
    {
     "data": {
      "text/html": [
       "<div><i>Table length=15238</i>\n",
       "<table id=\"table140234453658992\" class=\"table-striped table-bordered table-condensed\">\n",
       "<thead><tr><th>TILEID</th><th>DAILY_INDEX</th><th>JURA_INDEX</th></tr></thead>\n",
       "<thead><tr><th>int64</th><th>int64</th><th>int64</th></tr></thead>\n",
       "<tr><td>1</td><td>432</td><td>202</td></tr>\n",
       "<tr><td>2</td><td>460</td><td>230</td></tr>\n",
       "<tr><td>3</td><td>476</td><td>267</td></tr>\n",
       "<tr><td>4</td><td>508</td><td>292</td></tr>\n",
       "<tr><td>5</td><td>525</td><td>321</td></tr>\n",
       "<tr><td>6</td><td>611</td><td>400</td></tr>\n",
       "<tr><td>7</td><td>736</td><td>476</td></tr>\n",
       "<tr><td>8</td><td>752</td><td>486</td></tr>\n",
       "<tr><td>9</td><td>778</td><td>513</td></tr>\n",
       "<tr><td>10</td><td>801</td><td>532</td></tr>\n",
       "<tr><td>...</td><td>...</td><td>...</td></tr>\n",
       "<tr><td>83464</td><td>14352</td><td>13833</td></tr>\n",
       "<tr><td>83465</td><td>14348</td><td>13832</td></tr>\n",
       "<tr><td>83466</td><td>14347</td><td>13838</td></tr>\n",
       "<tr><td>83467</td><td>14357</td><td>13847</td></tr>\n",
       "<tr><td>83468</td><td>14363</td><td>13839</td></tr>\n",
       "<tr><td>83472</td><td>14818</td><td>--</td></tr>\n",
       "<tr><td>83473</td><td>14887</td><td>--</td></tr>\n",
       "<tr><td>83476</td><td>15185</td><td>--</td></tr>\n",
       "<tr><td>83477</td><td>15179</td><td>--</td></tr>\n",
       "<tr><td>83478</td><td>15189</td><td>--</td></tr>\n",
       "</table></div>"
      ],
      "text/plain": [
       "<Table length=15238>\n",
       "TILEID DAILY_INDEX JURA_INDEX\n",
       "int64     int64      int64   \n",
       "------ ----------- ----------\n",
       "     1         432        202\n",
       "     2         460        230\n",
       "     3         476        267\n",
       "     4         508        292\n",
       "     5         525        321\n",
       "     6         611        400\n",
       "     7         736        476\n",
       "     8         752        486\n",
       "     9         778        513\n",
       "    10         801        532\n",
       "   ...         ...        ...\n",
       " 83464       14352      13833\n",
       " 83465       14348      13832\n",
       " 83466       14347      13838\n",
       " 83467       14357      13847\n",
       " 83468       14363      13839\n",
       " 83472       14818         --\n",
       " 83473       14887         --\n",
       " 83476       15185         --\n",
       " 83477       15179         --\n",
       " 83478       15189         --"
      ]
     },
     "execution_count": 21,
     "metadata": {},
     "output_type": "execute_result"
    }
   ],
   "source": [
    "j = join(daily_tiles_join, jura_tiles_join, join_type='outer', keys='TILEID')\n",
    "j"
   ]
  },
  {
   "cell_type": "code",
   "execution_count": 22,
   "id": "643b68a1-59b6-4030-a24a-04971f17b3c7",
   "metadata": {},
   "outputs": [],
   "source": [
    "# Apparently every tile in daily also appears in jura, so j['DAILY_INDEX'] doesn't need to be masked.\n",
    "daily_tiles_index = j[(~j['JURA_INDEX'].mask)]['DAILY_INDEX']\n",
    "jura_tiles_index = j[(~j['JURA_INDEX'].mask)]['JURA_INDEX']"
   ]
  },
  {
   "cell_type": "code",
   "execution_count": 23,
   "id": "070845fe-0ce6-4e1f-b7f6-da172c26da8a",
   "metadata": {
    "tags": []
   },
   "outputs": [
    {
     "data": {
      "text/html": [
       "<div><i>Table length=15238</i>\n",
       "<table id=\"table140234453607440\" class=\"table-striped table-bordered table-condensed\">\n",
       "<thead><tr><th>TILEID</th><th>SURVEY</th><th>PROGRAM</th><th>FAPRGRM</th><th>FAFLAVOR</th><th>NEXP</th><th>EXPTIME</th><th>TILERA</th><th>TILEDEC</th><th>EFFTIME_ETC</th><th>EFFTIME_SPEC</th><th>EFFTIME_GFA</th><th>GOALTIME</th><th>OBSSTATUS</th><th>LRG_EFFTIME_DARK</th><th>ELG_EFFTIME_DARK</th><th>BGS_EFFTIME_BRIGHT</th><th>LYA_EFFTIME_DARK</th><th>GOALTYPE</th><th>MINTFRAC</th><th>LASTNIGHT</th></tr></thead>\n",
       "<thead><tr><th>int64</th><th>str7</th><th>str6</th><th>str16</th><th>str19</th><th>int64</th><th>float64</th><th>float64</th><th>float64</th><th>float64</th><th>float64</th><th>float64</th><th>float64</th><th>str8</th><th>float64</th><th>float64</th><th>float64</th><th>float64</th><th>str7</th><th>float64</th><th>int64</th></tr></thead>\n",
       "<tr><td>70004</td><td>unknown</td><td>--</td><td>unknown</td><td>unknown</td><td>4</td><td>3600.0</td><td>116.0</td><td>20.7</td><td>0.0</td><td>3619.8</td><td>0.0</td><td>1000.0</td><td>obsend</td><td>3470.8</td><td>3619.8</td><td>3784.0</td><td>3056.6</td><td>unknown</td><td>0.9</td><td>20200219</td></tr>\n",
       "<tr><td>70508</td><td>unknown</td><td>--</td><td>unknown</td><td>unknown</td><td>6</td><td>1800.0</td><td>133.4125</td><td>11.6818</td><td>0.0</td><td>108.5</td><td>0.0</td><td>1000.0</td><td>obsstart</td><td>93.6</td><td>108.5</td><td>95.7</td><td>50.6</td><td>unknown</td><td>0.9</td><td>20200225</td></tr>\n",
       "<tr><td>70506</td><td>unknown</td><td>--</td><td>unknown</td><td>unknown</td><td>3</td><td>900.0</td><td>133.4125</td><td>11.6818</td><td>0.0</td><td>61.6</td><td>0.0</td><td>1000.0</td><td>obsstart</td><td>53.6</td><td>61.6</td><td>54.9</td><td>33.7</td><td>unknown</td><td>0.9</td><td>20200225</td></tr>\n",
       "<tr><td>70512</td><td>unknown</td><td>--</td><td>unknown</td><td>unknown</td><td>7</td><td>3150.0</td><td>132.85</td><td>12.32</td><td>0.0</td><td>389.8</td><td>0.0</td><td>1000.0</td><td>obsstart</td><td>351.9</td><td>389.8</td><td>364.7</td><td>227.2</td><td>unknown</td><td>0.9</td><td>20200226</td></tr>\n",
       "<tr><td>70514</td><td>unknown</td><td>--</td><td>unknown</td><td>unknown</td><td>16</td><td>1680.0</td><td>132.85</td><td>12.32</td><td>0.0</td><td>118.3</td><td>0.0</td><td>1000.0</td><td>obsstart</td><td>112.0</td><td>118.3</td><td>120.2</td><td>74.4</td><td>unknown</td><td>0.9</td><td>20200227</td></tr>\n",
       "<tr><td>70502</td><td>unknown</td><td>--</td><td>unknown</td><td>unknown</td><td>41</td><td>8415.0</td><td>180.0</td><td>-0.5</td><td>0.0</td><td>358.2</td><td>0.0</td><td>1000.0</td><td>obsstart</td><td>317.9</td><td>358.2</td><td>325.0</td><td>260.2</td><td>unknown</td><td>0.9</td><td>20200227</td></tr>\n",
       "<tr><td>70513</td><td>unknown</td><td>--</td><td>unknown</td><td>unknown</td><td>13</td><td>2220.0</td><td>133.42</td><td>11.65</td><td>0.0</td><td>3.7</td><td>0.0</td><td>1000.0</td><td>obsstart</td><td>3.4</td><td>3.7</td><td>3.5</td><td>2.5</td><td>unknown</td><td>0.9</td><td>20200229</td></tr>\n",
       "<tr><td>70500</td><td>unknown</td><td>--</td><td>unknown</td><td>unknown</td><td>14</td><td>7000.0</td><td>119.0</td><td>50.0</td><td>0.0</td><td>1389.0</td><td>0.0</td><td>1000.0</td><td>obsend</td><td>1145.4</td><td>1389.0</td><td>1160.5</td><td>770.4</td><td>unknown</td><td>0.9</td><td>20200303</td></tr>\n",
       "<tr><td>70005</td><td>unknown</td><td>--</td><td>unknown</td><td>unknown</td><td>17</td><td>13500.0</td><td>158.0</td><td>25.0</td><td>0.0</td><td>8463.1</td><td>0.0</td><td>1000.0</td><td>obsend</td><td>8088.5</td><td>8463.1</td><td>8858.6</td><td>9174.7</td><td>unknown</td><td>0.9</td><td>20200303</td></tr>\n",
       "<tr><td>70002</td><td>unknown</td><td>--</td><td>unknown</td><td>unknown</td><td>6</td><td>5400.0</td><td>168.0</td><td>27.6</td><td>0.0</td><td>2214.8</td><td>0.0</td><td>1000.0</td><td>obsend</td><td>2076.9</td><td>2214.8</td><td>2285.5</td><td>3037.3</td><td>unknown</td><td>0.9</td><td>20200304</td></tr>\n",
       "<tr><td>...</td><td>...</td><td>...</td><td>...</td><td>...</td><td>...</td><td>...</td><td>...</td><td>...</td><td>...</td><td>...</td><td>...</td><td>...</td><td>...</td><td>...</td><td>...</td><td>...</td><td>...</td><td>...</td><td>...</td><td>...</td></tr>\n",
       "<tr><td>26796</td><td>main</td><td>bright</td><td>bright</td><td>mainbright</td><td>1</td><td>426.9</td><td>284.428</td><td>68.444</td><td>211.4</td><td>70.7</td><td>68.2</td><td>180.0</td><td>obsstart</td><td>65.9</td><td>74.3</td><td>70.7</td><td>33.2</td><td>bright</td><td>0.85</td><td>20240723</td></tr>\n",
       "<tr><td>40873</td><td>main</td><td>backup</td><td>backup</td><td>mainbackup</td><td>1</td><td>280.3</td><td>339.931</td><td>41.659</td><td>78.2</td><td>18.5</td><td>23.1</td><td>60.0</td><td>obsstart</td><td>18.0</td><td>21.4</td><td>19.4</td><td>7.1</td><td>backup</td><td>0.85</td><td>20240723</td></tr>\n",
       "<tr><td>40850</td><td>main</td><td>backup</td><td>backup</td><td>mainbackup</td><td>1</td><td>303.2</td><td>334.302</td><td>45.566</td><td>74.2</td><td>16.9</td><td>6.5</td><td>60.0</td><td>obsstart</td><td>16.3</td><td>19.3</td><td>17.5</td><td>6.0</td><td>backup</td><td>0.85</td><td>20240723</td></tr>\n",
       "<tr><td>40697</td><td>main</td><td>backup</td><td>backup</td><td>mainbackup</td><td>1</td><td>638.1</td><td>342.721</td><td>47.154</td><td>49.3</td><td>4.5</td><td>2.9</td><td>60.0</td><td>obsstart</td><td>3.4</td><td>3.9</td><td>3.8</td><td>3.5</td><td>backup</td><td>0.85</td><td>20240723</td></tr>\n",
       "<tr><td>42307</td><td>main</td><td>backup</td><td>backup</td><td>mainbackup</td><td>2</td><td>1273.7</td><td>295.862</td><td>45.45</td><td>23.7</td><td>65.3</td><td>63.8</td><td>60.0</td><td>obsend</td><td>63.8</td><td>69.7</td><td>67.9</td><td>27.1</td><td>backup</td><td>0.85</td><td>20240723</td></tr>\n",
       "<tr><td>40608</td><td>main</td><td>backup</td><td>backup</td><td>mainbackup</td><td>1</td><td>633.8</td><td>292.323</td><td>-7.562</td><td>7.6</td><td>23.6</td><td>33.6</td><td>60.0</td><td>obsstart</td><td>24.7</td><td>30.5</td><td>26.0</td><td>7.1</td><td>backup</td><td>0.85</td><td>20240723</td></tr>\n",
       "<tr><td>40607</td><td>main</td><td>backup</td><td>backup</td><td>mainbackup</td><td>1</td><td>640.1</td><td>292.077</td><td>-10.89</td><td>9.4</td><td>28.3</td><td>37.2</td><td>60.0</td><td>obsstart</td><td>28.4</td><td>34.2</td><td>30.3</td><td>11.2</td><td>backup</td><td>0.85</td><td>20240723</td></tr>\n",
       "<tr><td>27184</td><td>main</td><td>bright</td><td>bright</td><td>mainbright</td><td>2</td><td>2093.1</td><td>271.347</td><td>29.549</td><td>88.3</td><td>0.0</td><td>0.0</td><td>180.0</td><td>other</td><td>0.0</td><td>0.0</td><td>0.0</td><td>0.0</td><td>bright</td><td>0.85</td><td>20240723</td></tr>\n",
       "<tr><td>40851</td><td>main</td><td>backup</td><td>backup</td><td>mainbackup</td><td>1</td><td>324.5</td><td>331.113</td><td>43.128</td><td>70.7</td><td>15.9</td><td>21.4</td><td>60.0</td><td>obsstart</td><td>15.6</td><td>19.0</td><td>16.7</td><td>5.3</td><td>backup</td><td>0.85</td><td>20240723</td></tr>\n",
       "<tr><td>22364</td><td>main</td><td>bright</td><td>bright</td><td>mainbright</td><td>1</td><td>449.4</td><td>22.476</td><td>28.22</td><td>213.5</td><td>40.6</td><td>28.1</td><td>180.0</td><td>obsstart</td><td>37.5</td><td>44.4</td><td>40.6</td><td>24.4</td><td>bright</td><td>0.85</td><td>20240723</td></tr>\n",
       "</table></div>"
      ],
      "text/plain": [
       "<Table length=15238>\n",
       "TILEID  SURVEY PROGRAM FAPRGRM ... LYA_EFFTIME_DARK GOALTYPE MINTFRAC LASTNIGHT\n",
       "int64    str7    str6   str16  ...     float64        str7   float64    int64  \n",
       "------ ------- ------- ------- ... ---------------- -------- -------- ---------\n",
       " 70004 unknown      -- unknown ...           3056.6  unknown      0.9  20200219\n",
       " 70508 unknown      -- unknown ...             50.6  unknown      0.9  20200225\n",
       " 70506 unknown      -- unknown ...             33.7  unknown      0.9  20200225\n",
       " 70512 unknown      -- unknown ...            227.2  unknown      0.9  20200226\n",
       " 70514 unknown      -- unknown ...             74.4  unknown      0.9  20200227\n",
       " 70502 unknown      -- unknown ...            260.2  unknown      0.9  20200227\n",
       " 70513 unknown      -- unknown ...              2.5  unknown      0.9  20200229\n",
       " 70500 unknown      -- unknown ...            770.4  unknown      0.9  20200303\n",
       " 70005 unknown      -- unknown ...           9174.7  unknown      0.9  20200303\n",
       " 70002 unknown      -- unknown ...           3037.3  unknown      0.9  20200304\n",
       "   ...     ...     ...     ... ...              ...      ...      ...       ...\n",
       " 26796    main  bright  bright ...             33.2   bright     0.85  20240723\n",
       " 40873    main  backup  backup ...              7.1   backup     0.85  20240723\n",
       " 40850    main  backup  backup ...              6.0   backup     0.85  20240723\n",
       " 40697    main  backup  backup ...              3.5   backup     0.85  20240723\n",
       " 42307    main  backup  backup ...             27.1   backup     0.85  20240723\n",
       " 40608    main  backup  backup ...              7.1   backup     0.85  20240723\n",
       " 40607    main  backup  backup ...             11.2   backup     0.85  20240723\n",
       " 27184    main  bright  bright ...              0.0   bright     0.85  20240723\n",
       " 40851    main  backup  backup ...              5.3   backup     0.85  20240723\n",
       " 22364    main  bright  bright ...             24.4   bright     0.85  20240723"
      ]
     },
     "execution_count": 23,
     "metadata": {},
     "output_type": "execute_result"
    }
   ],
   "source": [
    "daily_tiles_patched = daily_tiles.copy()\n",
    "for column in jura_tiles.colnames:\n",
    "    daily_tiles_patched[column][daily_tiles_index] = jura_tiles[column][jura_tiles_index]\n",
    "daily_tiles_patched"
   ]
  },
  {
   "cell_type": "markdown",
   "id": "27c9cc2d-c9fc-4393-964b-ce7296814590",
   "metadata": {},
   "source": [
    "## Write out the patched files"
   ]
  },
  {
   "cell_type": "code",
   "execution_count": 24,
   "id": "ac5fdfb7-4635-4e5e-ba2d-b77dd9603554",
   "metadata": {
    "tags": []
   },
   "outputs": [],
   "source": [
    "daily_tiles_patched.write(os.path.join(os.environ['SCRATCH'], 'tiles-daily-patched-with-jura.csv'), format='ascii.csv', overwrite=True)"
   ]
  },
  {
   "cell_type": "code",
   "execution_count": 25,
   "id": "384e6030-fcc1-453e-b990-a34688f12494",
   "metadata": {
    "tags": []
   },
   "outputs": [],
   "source": [
    "daily_exposures_patched.write(os.path.join(os.environ['SCRATCH'], 'exposures-daily-patched-with-jura.csv'), format='ascii.csv', overwrite=True)"
   ]
  },
  {
   "cell_type": "code",
   "execution_count": 26,
   "id": "26d7bad1-f89f-4cde-bfa1-a0cbcabcf866",
   "metadata": {
    "tags": []
   },
   "outputs": [],
   "source": [
    "daily_exposures_fits = fits.HDUList([fits.PrimaryHDU(), fits.table_to_hdu(daily_exposures_patched), fits.table_to_hdu(daily_frames_patched)])"
   ]
  },
  {
   "cell_type": "code",
   "execution_count": 27,
   "id": "d06fcfd7-c5d9-4d9c-9989-eb313c70bc07",
   "metadata": {
    "tags": []
   },
   "outputs": [
    {
     "name": "stdout",
     "output_type": "stream",
     "text": [
      "Filename: (No file associated with this HDUList)\n",
      "No.    Name      Ver    Type      Cards   Dimensions   Format\n",
      "  0  PRIMARY       1 PrimaryHDU       4   ()      \n",
      "  1  EXPOSURES     1 BinTableHDU    111   23585R x 51C   ['J', 'J', 'J', 'D', 'D', 'D', '7A', '6A', '19A', '19A', 'D', 'D', 'D', '7A', 'D', 'D', 'D', 'D', 'D', 'D', 'D', 'D', 'D', 'D', 'D', 'D', 'D', 'D', 'D', 'D', 'D', 'D', 'D', 'D', 'D', 'D', 'D', 'D', 'D', 'D', 'D', 'D', 'D', 'D', 'D', 'D', 'D', 'D', 'D', 'D', 'D']   \n",
      "  2  FRAMES        1 BinTableHDU     63   694207R x 27C   ['J', 'J', 'J', 'E', 'D', 'D', '2A', 'D', 'D', 'D', 'D', '7A', '7A', '19A', 'D', 'D', 'D', 'D', '19A', 'E', 'E', 'D', 'D', 'D', 'D', 'D', 'D']   \n"
     ]
    }
   ],
   "source": [
    "daily_exposures_fits.info()"
   ]
  },
  {
   "cell_type": "code",
   "execution_count": 28,
   "id": "d4e5751a-895b-4ca7-8c44-994a4d7d7524",
   "metadata": {
    "tags": []
   },
   "outputs": [],
   "source": [
    "daily_exposures_fits.writeto(os.path.join(os.environ['SCRATCH'], 'exposures-daily-patched-with-jura.fits'), overwrite=True)"
   ]
  },
  {
   "cell_type": "code",
   "execution_count": null,
   "id": "39181278-9b6a-43fc-8c03-64aae8a0f0fe",
   "metadata": {},
   "outputs": [],
   "source": []
  }
 ],
 "metadata": {
  "kernelspec": {
   "display_name": "DESI custom",
   "language": "python",
   "name": "desi-custom"
  },
  "language_info": {
   "codemirror_mode": {
    "name": "ipython",
    "version": 3
   },
   "file_extension": ".py",
   "mimetype": "text/x-python",
   "name": "python",
   "nbconvert_exporter": "python",
   "pygments_lexer": "ipython3",
   "version": "3.10.14"
  }
 },
 "nbformat": 4,
 "nbformat_minor": 5
}
