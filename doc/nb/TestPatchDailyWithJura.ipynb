{
 "cells": [
  {
   "cell_type": "markdown",
   "id": "31725415-8b51-49d7-a2d6-7100227808d5",
   "metadata": {},
   "source": [
    "# Patch daily with jura"
   ]
  },
  {
   "cell_type": "code",
   "execution_count": 1,
   "id": "f220285b-75d0-4109-a5f5-3709bfaeed79",
   "metadata": {
    "tags": []
   },
   "outputs": [],
   "source": [
    "import os\n",
    "import numpy as np\n",
    "from astropy.table import Table, join\n",
    "from astropy.io import fits\n",
    "from desispec.io import read_table\n",
    "from desispec.efftime import compute_efftime\n",
    "from specprodDB.util import cameraid"
   ]
  },
  {
   "cell_type": "code",
   "execution_count": 2,
   "id": "c2571c97-816c-4b12-a572-8e987c88b654",
   "metadata": {
    "tags": []
   },
   "outputs": [],
   "source": [
    "daily_tiles_file = os.path.join(os.environ['DESI_SPECTRO_REDUX'], 'daily', 'tiles-daily.csv')\n",
    "daily_exposures_file = os.path.join(os.environ['DESI_SPECTRO_REDUX'], 'daily', 'exposures-daily.fits')\n",
    "jura_tiles_file = os.path.join(os.environ['DESI_SPECTRO_REDUX'], 'jura', 'tiles-jura.csv')\n",
    "jura_exposures_file = os.path.join(os.environ['DESI_SPECTRO_REDUX'], 'jura', 'exposures-jura.fits')\n",
    "# iron_tiles_file = os.path.join(os.environ['DESI_SPECTRO_REDUX'], 'iron', 'tiles-iron.csv')\n",
    "# iron_exposures_file = os.path.join(os.environ['DESI_SPECTRO_REDUX'], 'iron', 'exposures-iron.fits')\n",
    "# fuji_tiles_file = os.path.join(os.environ['DESI_SPECTRO_REDUX'], 'fuji', 'tiles-fuji.csv')\n",
    "# fuji_exposures_file = os.path.join(os.environ['DESI_SPECTRO_REDUX'], 'fuji', 'exposures-fuji.fits')\n",
    "daily_tiles = Table.read(daily_tiles_file, format='ascii.csv')\n",
    "daily_exposures = Table.read(daily_exposures_file, format='fits', hdu='EXPOSURES')\n",
    "# daily_exposures = read_table(daily_exposures_file, ext='EXPOSURES')\n",
    "daily_frames = Table.read(daily_exposures_file, format='fits', hdu='FRAMES')\n",
    "# daily_frames = read_table(daily_exposures_file, ext='FRAMES')\n",
    "jura_tiles = Table.read(jura_tiles_file, format='ascii.csv')\n",
    "jura_exposures = Table.read(jura_exposures_file, format='fits', hdu='EXPOSURES')\n",
    "# jura_exposures = read_table(jura_exposures_file, ext='EXPOSURES')\n",
    "jura_frames = Table.read(jura_exposures_file, format='fits', hdu='FRAMES')\n",
    "# jura_frames = read_table(jura_exposures_file, ext='FRAMES')\n",
    "# iron_tiles = Table.read(iron_tiles_file, format='ascii.csv')\n",
    "# iron_exposures = read_table(iron_exposures_file, ext='EXPOSURES')\n",
    "# iron_frames = read_table(iron_exposures_file, ext='FRAMES')\n",
    "# fuji_tiles = Table.read(fuji_tiles_file, format='ascii.csv')\n",
    "# fuji_exposures = read_table(fuji_exposures_file, ext='EXPOSURES')\n",
    "# fuji_frames = read_table(fuji_exposures_file, ext='FRAMES')"
   ]
  },
  {
   "cell_type": "markdown",
   "id": "522008bd-0ee9-4d41-93bc-acc5e25d0e29",
   "metadata": {},
   "source": [
    "## Do some QA on jura"
   ]
  },
  {
   "cell_type": "code",
   "execution_count": null,
   "id": "dea48f18-e8f9-4019-a041-7e49938e67bd",
   "metadata": {
    "tags": []
   },
   "outputs": [],
   "source": [
    "for c in jura_frames.colnames:\n",
    "    if hasattr(jura_frames[c], 'mask'):\n",
    "        print(c)"
   ]
  },
  {
   "cell_type": "code",
   "execution_count": null,
   "id": "0f0d2992-50fe-458b-954a-5402d5d7fc6c",
   "metadata": {
    "tags": []
   },
   "outputs": [],
   "source": [
    "jura_exposures['MJD'].min()"
   ]
  },
  {
   "cell_type": "code",
   "execution_count": null,
   "id": "36e4cecb-64ac-4dc0-ac90-23b9a332a46e",
   "metadata": {
    "tags": []
   },
   "outputs": [],
   "source": [
    "jura_exposures_bad_rows = list()\n",
    "bad_columns = list()\n",
    "for c in jura_exposures.colnames:\n",
    "    if hasattr(jura_exposures[c], 'mask'):\n",
    "        print(c)\n",
    "        bad_columns.append(c)\n",
    "        jura_exposures_bad_rows.append(np.where(jura_exposures[c].mask)[0])\n",
    "    elif jura_exposures[c].dtype.kind == 'f' and not np.isfinite(jura_exposures[c]).all():\n",
    "        print(c)\n",
    "        bad_columns.append(c)\n",
    "        jura_exposures_bad_rows.append(np.where(~np.isfinite(jura_exposures[c]))[0])\n",
    "    else:\n",
    "        pass\n",
    "jura_exposures_bad_rows = np.unique(np.hstack(jura_exposures_bad_rows))\n",
    "jura_exposures[jura_exposures_bad_rows]"
   ]
  },
  {
   "cell_type": "markdown",
   "id": "27390294-d3ee-4227-9811-1d580cac1a45",
   "metadata": {},
   "source": [
    "### All exposures for the tiles that contain bad exposures"
   ]
  },
  {
   "cell_type": "code",
   "execution_count": null,
   "id": "27fc0c27-f5d1-41b9-bf28-f7ae4c1aadae",
   "metadata": {
    "tags": []
   },
   "outputs": [],
   "source": [
    "jura_exposures_bad_tiles = np.in1d(jura_exposures['TILEID'], jura_exposures[jura_exposures_bad_rows]['TILEID'])\n",
    "jura_exposures[jura_exposures_bad_tiles]"
   ]
  },
  {
   "cell_type": "code",
   "execution_count": null,
   "id": "93b8ea6a-14a2-4c48-8a7f-93fdaea2f26b",
   "metadata": {
    "tags": []
   },
   "outputs": [],
   "source": [
    "compute_efftime(jura_exposures[jura_exposures_bad_tiles])"
   ]
  },
  {
   "cell_type": "code",
   "execution_count": null,
   "id": "293c30a1-6cae-4e6f-804d-3a4718d12e0e",
   "metadata": {
    "tags": []
   },
   "outputs": [],
   "source": [
    "jura_exposures_test = jura_exposures[jura_exposures_bad_tiles].copy()\n",
    "for c in bad_columns:\n",
    "    bad_rows = ~np.isfinite(jura_exposures_test[c])\n",
    "    print(\"Replacing {0:d} bad values in column {1}.\".format(np.sum(bad_rows), c))\n",
    "    jura_exposures_test[c][bad_rows] = 0\n",
    "jura_exposures_test"
   ]
  },
  {
   "cell_type": "code",
   "execution_count": null,
   "id": "9a776016-8cf4-40da-b389-81cf97035811",
   "metadata": {
    "tags": []
   },
   "outputs": [],
   "source": [
    "a, b, c = compute_efftime(jura_exposures_test)\n",
    "assert np.isfinite(a).all()\n",
    "assert np.isfinite(b).all()\n",
    "assert np.isfinite(c).all()"
   ]
  },
  {
   "cell_type": "code",
   "execution_count": null,
   "id": "c0bc9051-03d4-4d2e-90bc-bfa7503975e4",
   "metadata": {
    "tags": []
   },
   "outputs": [],
   "source": [
    "jura_tiles_bad_rows = np.in1d(jura_tiles['TILEID'], jura_exposures[jura_exposures_bad_rows]['TILEID'])\n",
    "jura_tiles[jura_tiles_bad_rows]"
   ]
  },
  {
   "cell_type": "markdown",
   "id": "f86af7ad-0b05-4760-83a4-67d2adb72722",
   "metadata": {},
   "source": [
    "### What about in iron?"
   ]
  },
  {
   "cell_type": "code",
   "execution_count": null,
   "id": "0b2ee1a4-ffba-49d2-8d50-b698bd0ddc6c",
   "metadata": {
    "tags": []
   },
   "outputs": [],
   "source": [
    "iron_tiles[iron_tiles_bad_rows]"
   ]
  },
  {
   "cell_type": "code",
   "execution_count": null,
   "id": "9a7c6c4a-c487-493e-9180-b92d4b9380dd",
   "metadata": {
    "tags": []
   },
   "outputs": [],
   "source": [
    "iron_exposures[(iron_exposures['TILEID'] == 42262) | (iron_exposures['TILEID'] == 40203)]"
   ]
  },
  {
   "cell_type": "code",
   "execution_count": null,
   "id": "7f28ce27-5904-4bae-bdac-d9007a32364e",
   "metadata": {
    "tags": []
   },
   "outputs": [],
   "source": [
    "fuji_exposures_bad_rows = np.in1d(fuji_exposures['EXPID'], jura_exposures[jura_exposures_bad_rows]['EXPID'])\n",
    "fuji_exposures[fuji_exposures_bad_rows]"
   ]
  },
  {
   "cell_type": "code",
   "execution_count": null,
   "id": "3e426c4d-54b6-420e-af9a-a2afe1fc7fba",
   "metadata": {
    "tags": []
   },
   "outputs": [],
   "source": [
    "fuji_exposures[(fuji_exposures['EXPID'] > 74300) & (fuji_exposures['EXPID'] < 74500)]"
   ]
  },
  {
   "cell_type": "markdown",
   "id": "a325ccba-ed79-4ffd-bf5d-61a4b534d834",
   "metadata": {},
   "source": [
    "### What about the GFA file?\n",
    "\n"
   ]
  },
  {
   "cell_type": "code",
   "execution_count": null,
   "id": "cc7fb21e-2f35-4733-b6ca-f38361b8874d",
   "metadata": {
    "tags": []
   },
   "outputs": [],
   "source": [
    "gfa_sv1_file = os.path.join(os.environ['DESI_ROOT'], 'survey', 'GFA', 'offline_matched_coadd_ccds_SV1-thru_20210928.fits')\n",
    "gfa_sv3_file = os.path.join(os.environ['DESI_ROOT'], 'survey', 'GFA.KPNO', 'offline_matched_coadd_ccds_SV3-thru_20220201.fits') # fuji\n",
    "# gfa_sv3_file = os.path.join(os.environ['DESI_ROOT'], 'survey', 'GFA.KPNO', 'offline_matched_coadd_ccds_SV3-thru_20230207.fits') # iron \n",
    "# gfa_sv3_file = os.path.join(os.environ['DESI_ROOT'], 'survey', 'GFA', 'offline_matched_coadd_ccds_SV3-thru_20240409.fits') # jura\n",
    "gfa_sv1_table = read_table(gfa_sv1_file, ext=2)\n",
    "gfa_sv3_table = read_table(gfa_sv3_file, ext=2)"
   ]
  },
  {
   "cell_type": "code",
   "execution_count": null,
   "id": "b26e5207-de2d-4935-9987-db45d558e934",
   "metadata": {
    "tags": []
   },
   "outputs": [],
   "source": [
    "gfa_sv1_table_bad_rows = np.in1d(gfa_sv1_table['EXPID'], jura_exposures[jura_exposures_bad_tiles]['EXPID'])\n",
    "gfa_sv1_table[gfa_sv1_table_bad_rows]"
   ]
  },
  {
   "cell_type": "code",
   "execution_count": null,
   "id": "fd89915c-99ea-4a5a-bc84-df77b1a67f1d",
   "metadata": {
    "tags": []
   },
   "outputs": [],
   "source": [
    "gfa_sv3_table_bad_rows = np.in1d(gfa_sv3_table['EXPID'], jura_exposures[jura_exposures_bad_tiles]['EXPID'])\n",
    "gfa_sv3_table[gfa_sv3_table_bad_rows]"
   ]
  },
  {
   "cell_type": "markdown",
   "id": "777a4cde-ab8e-4f24-aa31-323dbf819321",
   "metadata": {
    "tags": []
   },
   "source": [
    "## Find jura exposures not in daily, daily exposures not in jura"
   ]
  },
  {
   "cell_type": "code",
   "execution_count": 3,
   "id": "74d311b4-d697-4944-945a-d56a68d1a39e",
   "metadata": {
    "tags": []
   },
   "outputs": [],
   "source": [
    "assert (np.unique(jura_exposures['EXPID']) == sorted(jura_exposures['EXPID'])).all()\n",
    "assert (np.unique(daily_exposures['EXPID']) == sorted(daily_exposures['EXPID'])).all()\n",
    "assert (np.unique(jura_frames['EXPID']) == sorted(jura_exposures['EXPID'])).all()\n",
    "assert (np.unique(daily_frames['EXPID']) == sorted(daily_exposures['EXPID'])).all()"
   ]
  },
  {
   "cell_type": "code",
   "execution_count": 4,
   "id": "ca1d655b-e315-4e14-9fdc-5d31f5dadcb1",
   "metadata": {
    "tags": []
   },
   "outputs": [
    {
     "data": {
      "text/plain": [
       "(67710, 235203)"
      ]
     },
     "execution_count": 4,
     "metadata": {},
     "output_type": "execute_result"
    }
   ],
   "source": [
    "first_jura_exposure, last_jura_exposure = jura_exposures['EXPID'].min(), jura_exposures['EXPID'].max()\n",
    "first_jura_exposure, last_jura_exposure"
   ]
  },
  {
   "cell_type": "code",
   "execution_count": 5,
   "id": "29c2d15b-3247-4320-bba7-a9b4e9fcc398",
   "metadata": {
    "tags": []
   },
   "outputs": [
    {
     "data": {
      "text/plain": [
       "(20201214, 20240409)"
      ]
     },
     "execution_count": 5,
     "metadata": {},
     "output_type": "execute_result"
    }
   ],
   "source": [
    "first_jura_night = jura_exposures['NIGHT'][jura_exposures['EXPID'] == first_jura_exposure].min()\n",
    "last_jura_night = jura_exposures['NIGHT'][jura_exposures['EXPID'] == last_jura_exposure].max()\n",
    "first_jura_night, last_jura_night"
   ]
  },
  {
   "cell_type": "code",
   "execution_count": 6,
   "id": "51366113-4bfe-46e4-be86-dd4699cd2218",
   "metadata": {
    "tags": []
   },
   "outputs": [
    {
     "data": {
      "text/plain": [
       "(20201216, 20240409)"
      ]
     },
     "execution_count": 6,
     "metadata": {},
     "output_type": "execute_result"
    }
   ],
   "source": [
    "jura_tiles['LASTNIGHT'].min(), jura_tiles['LASTNIGHT'].max()"
   ]
  },
  {
   "cell_type": "code",
   "execution_count": 7,
   "id": "ded2208b-f17e-4c7f-aeff-3e7cca0f77a4",
   "metadata": {
    "tags": []
   },
   "outputs": [],
   "source": [
    "jura_expid_set = frozenset(jura_exposures['EXPID'].tolist())\n",
    "daily_expid_set = frozenset(daily_exposures['EXPID'].tolist())"
   ]
  },
  {
   "cell_type": "code",
   "execution_count": 8,
   "id": "473307c7-30f6-40ca-b297-3b927577d5b1",
   "metadata": {
    "tags": []
   },
   "outputs": [
    {
     "data": {
      "text/plain": [
       "frozenset({80478, 80681, 80688, 80691, 82603, 82622, 82625, 221977})"
      ]
     },
     "execution_count": 8,
     "metadata": {},
     "output_type": "execute_result"
    }
   ],
   "source": [
    "jura_not_in_daily = jura_expid_set - daily_expid_set\n",
    "jura_not_in_daily"
   ]
  },
  {
   "cell_type": "code",
   "execution_count": 9,
   "id": "879e049d-3aca-484b-80e3-5b06344077c5",
   "metadata": {
    "tags": []
   },
   "outputs": [],
   "source": [
    "daily_not_in_jura = daily_expid_set - jura_expid_set\n",
    "# daily_not_in_jura"
   ]
  },
  {
   "cell_type": "markdown",
   "id": "96e7d429-3edc-4f7e-9e66-0ce8e3c8dcec",
   "metadata": {},
   "source": [
    "## Patch frames\n",
    "\n",
    "We don't necessarily want to change the values in the `FRAMES` table, just make sure it is consistent with the `EXPOSURES` table."
   ]
  },
  {
   "cell_type": "code",
   "execution_count": 10,
   "id": "11f82181-9647-42e4-b05d-bd8427d20c9a",
   "metadata": {
    "tags": []
   },
   "outputs": [],
   "source": [
    "daily_frames_join = Table()\n",
    "daily_frames_join['FRAMEID'] = np.array([100*row['EXPID'] + cameraid(row['CAMERA']) for row in daily_frames])\n",
    "daily_frames_join['DAILY_INDEX'] = np.arange(len(daily_frames))"
   ]
  },
  {
   "cell_type": "code",
   "execution_count": 11,
   "id": "333dbff1-65b2-4e66-a35f-b1d2b34a05c4",
   "metadata": {
    "tags": []
   },
   "outputs": [],
   "source": [
    "jura_frames_join = Table()\n",
    "jura_frames_join['FRAMEID'] = np.array([100*row['EXPID'] + cameraid(row['CAMERA']) for row in jura_frames])\n",
    "jura_frames_join['JURA_INDEX'] = np.arange(len(jura_frames))"
   ]
  },
  {
   "cell_type": "code",
   "execution_count": 12,
   "id": "8d6ca37d-2350-47b6-8e90-5ab8b0cc01ad",
   "metadata": {
    "tags": []
   },
   "outputs": [],
   "source": [
    "j = join(daily_frames_join, jura_frames_join, join_type='outer', keys='FRAMEID')\n",
    "# j"
   ]
  },
  {
   "cell_type": "code",
   "execution_count": 13,
   "id": "32431f66-d899-490e-98ad-4d9c299f74d7",
   "metadata": {
    "tags": []
   },
   "outputs": [],
   "source": [
    "daily_frames_index = j[(~j['JURA_INDEX'].mask) & (~j['DAILY_INDEX'].mask)]['DAILY_INDEX']\n",
    "jura_frames_index = j[(~j['JURA_INDEX'].mask) & (~j['DAILY_INDEX'].mask)]['JURA_INDEX']"
   ]
  },
  {
   "cell_type": "code",
   "execution_count": 14,
   "id": "31e94315-0a93-454f-b228-7c10e14c22b1",
   "metadata": {
    "tags": []
   },
   "outputs": [
    {
     "name": "stdout",
     "output_type": "stream",
     "text": [
      "Patching SEEING_ETC...\n",
      "Patching EBV...\n"
     ]
    }
   ],
   "source": [
    "daily_frames_patched = daily_frames.copy()\n",
    "for column in daily_frames_patched.colnames:\n",
    "    if hasattr(daily_frames_patched[column], 'mask') and not column.startswith('TSNR2_'):\n",
    "        print(f\"Patching {column}...\")\n",
    "        daily_frames_patched[column][daily_frames_index] = jura_frames[column][jura_frames_index]\n",
    "        daily_frames_patched[column].mask[daily_frames_index] = False\n",
    "# daily_frames_patched"
   ]
  },
  {
   "cell_type": "markdown",
   "id": "ca7c8da8-2c0b-45df-ab15-6f8aac0c9c6a",
   "metadata": {},
   "source": [
    "## Patch exposures\n",
    "\n",
    "We want to only *patch* and rows that:\n",
    "\n",
    "* Appear in `jura`.\n",
    "* Have `NIGHT >= first_jura_night`.\n",
    "* Have `EFFTIME_SPEC > 0`.\n",
    "\n",
    "We want to only *load* rows that:\n",
    "\n",
    "* Have `NIGHT >= first_jura_night`.\n",
    "* Have `EFFTIME_SPEC > 0`.\n",
    "\n",
    "which is slightly different. However we don't want to *remove* rows that *don't* satisfy these criteria."
   ]
  },
  {
   "cell_type": "code",
   "execution_count": 47,
   "id": "e800b0bf-3824-4b78-94e5-e1f3fdb1e9ef",
   "metadata": {
    "tags": []
   },
   "outputs": [],
   "source": [
    "daily_exposures_join = Table()\n",
    "daily_exposures_join['EXPID'] = daily_exposures['EXPID']\n",
    "# daily_exposures_join['NIGHT'] = daily_exposures['NIGHT']\n",
    "# daily_exposures_join['EFFTIME_SPEC'] = daily_exposures['EFFTIME_SPEC']\n",
    "daily_exposures_join['DAILY_INDEX'] = np.arange(len(daily_exposures))"
   ]
  },
  {
   "cell_type": "code",
   "execution_count": 48,
   "id": "933274c3-bc01-4287-ba1f-bf138d22c901",
   "metadata": {
    "tags": []
   },
   "outputs": [],
   "source": [
    "jura_exposures_join = Table()\n",
    "jura_exposures_join['EXPID'] = jura_exposures['EXPID']\n",
    "jura_exposures_join['JURA_INDEX'] = np.arange(len(jura_exposures))"
   ]
  },
  {
   "cell_type": "code",
   "execution_count": 49,
   "id": "6fec01f6-f4b2-443b-9763-c663375bae25",
   "metadata": {
    "tags": []
   },
   "outputs": [
    {
     "data": {
      "text/html": [
       "<div><i>Table length=23903</i>\n",
       "<table id=\"table139848089575168\" class=\"table-striped table-bordered table-condensed\">\n",
       "<thead><tr><th>EXPID</th><th>DAILY_INDEX</th><th>JURA_INDEX</th></tr></thead>\n",
       "<thead><tr><th>int32</th><th>int64</th><th>int64</th></tr></thead>\n",
       "<tr><td>50986</td><td>0</td><td>--</td></tr>\n",
       "<tr><td>50988</td><td>1</td><td>--</td></tr>\n",
       "<tr><td>50991</td><td>2</td><td>--</td></tr>\n",
       "<tr><td>50995</td><td>3</td><td>--</td></tr>\n",
       "<tr><td>51001</td><td>4</td><td>--</td></tr>\n",
       "<tr><td>51002</td><td>5</td><td>--</td></tr>\n",
       "<tr><td>51028</td><td>6</td><td>--</td></tr>\n",
       "<tr><td>51029</td><td>7</td><td>--</td></tr>\n",
       "<tr><td>51030</td><td>8</td><td>--</td></tr>\n",
       "<tr><td>51031</td><td>9</td><td>--</td></tr>\n",
       "<tr><td>...</td><td>...</td><td>...</td></tr>\n",
       "<tr><td>249656</td><td>23885</td><td>--</td></tr>\n",
       "<tr><td>249657</td><td>23886</td><td>--</td></tr>\n",
       "<tr><td>249658</td><td>23887</td><td>--</td></tr>\n",
       "<tr><td>249659</td><td>23888</td><td>--</td></tr>\n",
       "<tr><td>249660</td><td>23889</td><td>--</td></tr>\n",
       "<tr><td>249661</td><td>23890</td><td>--</td></tr>\n",
       "<tr><td>249662</td><td>23891</td><td>--</td></tr>\n",
       "<tr><td>249663</td><td>23892</td><td>--</td></tr>\n",
       "<tr><td>249664</td><td>23893</td><td>--</td></tr>\n",
       "<tr><td>249665</td><td>23894</td><td>--</td></tr>\n",
       "</table></div>"
      ],
      "text/plain": [
       "<Table length=23903>\n",
       "EXPID  DAILY_INDEX JURA_INDEX\n",
       "int32     int64      int64   \n",
       "------ ----------- ----------\n",
       " 50986           0         --\n",
       " 50988           1         --\n",
       " 50991           2         --\n",
       " 50995           3         --\n",
       " 51001           4         --\n",
       " 51002           5         --\n",
       " 51028           6         --\n",
       " 51029           7         --\n",
       " 51030           8         --\n",
       " 51031           9         --\n",
       "   ...         ...        ...\n",
       "249656       23885         --\n",
       "249657       23886         --\n",
       "249658       23887         --\n",
       "249659       23888         --\n",
       "249660       23889         --\n",
       "249661       23890         --\n",
       "249662       23891         --\n",
       "249663       23892         --\n",
       "249664       23893         --\n",
       "249665       23894         --"
      ]
     },
     "execution_count": 49,
     "metadata": {},
     "output_type": "execute_result"
    }
   ],
   "source": [
    "j = join(daily_exposures_join, jura_exposures_join, join_type='outer', keys='EXPID')\n",
    "j"
   ]
  },
  {
   "cell_type": "code",
   "execution_count": 50,
   "id": "83004567-d880-4ba6-968d-0555662ef9a2",
   "metadata": {
    "tags": []
   },
   "outputs": [],
   "source": [
    "daily_exposures_index = j[(~j['JURA_INDEX'].mask) & (~j['DAILY_INDEX'].mask)]['DAILY_INDEX']\n",
    "jura_exposures_index = j[(~j['JURA_INDEX'].mask) & (~j['DAILY_INDEX'].mask)]['JURA_INDEX']"
   ]
  },
  {
   "cell_type": "code",
   "execution_count": 51,
   "id": "a63345ad-5660-4f46-9940-60f13370312a",
   "metadata": {
    "tags": []
   },
   "outputs": [
    {
     "name": "stdout",
     "output_type": "stream",
     "text": [
      "Patching TILERA...\n",
      "Patching TILEDEC...\n",
      "Patching MJD...\n",
      "Patching SURVEY...\n",
      "Patching EBV...\n",
      "Patching SEEING_ETC...\n",
      "Patching TRANSPARENCY_GFA...\n",
      "Patching SEEING_GFA...\n",
      "Patching FIBER_FRACFLUX_GFA...\n",
      "Patching FIBER_FRACFLUX_ELG_GFA...\n",
      "Patching FIBER_FRACFLUX_BGS_GFA...\n",
      "Patching FIBERFAC_GFA...\n",
      "Patching FIBERFAC_ELG_GFA...\n",
      "Patching FIBERFAC_BGS_GFA...\n",
      "Patching EFFTIME_GFA...\n",
      "Patching EFFTIME_DARK_GFA...\n",
      "Patching EFFTIME_BRIGHT_GFA...\n",
      "Patching EFFTIME_BACKUP_GFA...\n"
     ]
    },
    {
     "data": {
      "text/html": [
       "<div><i>Table length=5</i>\n",
       "<table id=\"table139849196697536\" class=\"table-striped table-bordered table-condensed\">\n",
       "<thead><tr><th>NIGHT</th><th>EXPID</th><th>TILEID</th><th>TILERA</th><th>TILEDEC</th><th>MJD</th><th>SURVEY</th><th>PROGRAM</th><th>FAPRGRM</th><th>FAFLAVOR</th><th>EXPTIME</th><th>EFFTIME_SPEC</th><th>GOALTIME</th><th>GOALTYPE</th><th>MINTFRAC</th><th>AIRMASS</th><th>EBV</th><th>SEEING_ETC</th><th>EFFTIME_ETC</th><th>TSNR2_ELG</th><th>TSNR2_QSO</th><th>TSNR2_LRG</th><th>TSNR2_LYA</th><th>TSNR2_BGS</th><th>TSNR2_GPBDARK</th><th>TSNR2_GPBBRIGHT</th><th>TSNR2_GPBBACKUP</th><th>LRG_EFFTIME_DARK</th><th>ELG_EFFTIME_DARK</th><th>BGS_EFFTIME_BRIGHT</th><th>LYA_EFFTIME_DARK</th><th>GPB_EFFTIME_DARK</th><th>GPB_EFFTIME_BRIGHT</th><th>GPB_EFFTIME_BACKUP</th><th>TRANSPARENCY_GFA</th><th>SEEING_GFA</th><th>FIBER_FRACFLUX_GFA</th><th>FIBER_FRACFLUX_ELG_GFA</th><th>FIBER_FRACFLUX_BGS_GFA</th><th>FIBERFAC_GFA</th><th>FIBERFAC_ELG_GFA</th><th>FIBERFAC_BGS_GFA</th><th>AIRMASS_GFA</th><th>SKY_MAG_AB_GFA</th><th>SKY_MAG_G_SPEC</th><th>SKY_MAG_R_SPEC</th><th>SKY_MAG_Z_SPEC</th><th>EFFTIME_GFA</th><th>EFFTIME_DARK_GFA</th><th>EFFTIME_BRIGHT_GFA</th><th>EFFTIME_BACKUP_GFA</th></tr></thead>\n",
       "<thead><tr><th>int32</th><th>int32</th><th>int32</th><th>float64</th><th>float64</th><th>float64</th><th>bytes7</th><th>bytes6</th><th>bytes19</th><th>bytes19</th><th>float64</th><th>float64</th><th>float64</th><th>bytes7</th><th>float64</th><th>float64</th><th>float64</th><th>float64</th><th>float64</th><th>float64</th><th>float64</th><th>float64</th><th>float64</th><th>float64</th><th>float64</th><th>float64</th><th>float64</th><th>float64</th><th>float64</th><th>float64</th><th>float64</th><th>float64</th><th>float64</th><th>float64</th><th>float64</th><th>float64</th><th>float64</th><th>float64</th><th>float64</th><th>float64</th><th>float64</th><th>float64</th><th>float64</th><th>float64</th><th>float64</th><th>float64</th><th>float64</th><th>float64</th><th>float64</th><th>float64</th><th>float64</th></tr></thead>\n",
       "<tr><td>20210202</td><td>74307</td><td>80679</td><td>111.0</td><td>41.5</td><td>59248.23876322</td><td>sv1</td><td>dark</td><td>elgqso</td><td>sv1elgqso</td><td>566.04931640625</td><td>1.4423755109310155</td><td>4000.0</td><td>dark</td><td>0.9</td><td>1.014901</td><td>0.05597689002752304</td><td>0.0</td><td>0.0</td><td>0.1677180826663971</td><td>0.04438820853829384</td><td>0.11977556347846985</td><td>0.1674174666404724</td><td>11.726827621459961</td><td>0.0</td><td>0.0</td><td>0.0</td><td>1.455345647106182</td><td>1.4423755109310155</td><td>1.6417558670043948</td><td>1.9152153084460037</td><td>0.0</td><td>0.0</td><td>0.0</td><td>0.059126717922222294</td><td>0.9789517068362219</td><td>0.6320627694913908</td><td>0.44970044302469636</td><td>0.20504407421980816</td><td>0.0</td><td>0.0</td><td>0.0</td><td>1.0143504042229632</td><td>21.72197341353745</td><td>21.95553631921876</td><td>21.212220164279294</td><td>20.113056586954166</td><td>0.0</td><td>0.0</td><td>0.0</td><td>0.0</td></tr>\n",
       "<tr><td>20210308</td><td>79769</td><td>80731</td><td>192.86</td><td>27.13</td><td>59282.39481033</td><td>sv1</td><td>other</td><td>ssv</td><td>sv1ssv</td><td>300.06988525390625</td><td>4.908081118628617e-05</td><td>1000.0</td><td>unknown</td><td>0.9</td><td>1.006417</td><td>0.010517628863453865</td><td>0.0</td><td>0.0</td><td>5.707071068172809e-06</td><td>1.5589646409353008e-06</td><td>3.6969945540477056e-06</td><td>6.8609160734922625e-06</td><td>0.0003828057087957859</td><td>0.0</td><td>0.0</td><td>0.0</td><td>4.4920723187211217e-05</td><td>4.908081118628617e-05</td><td>5.3592799231410035e-05</td><td>7.848721974830708e-05</td><td>0.0</td><td>0.0</td><td>0.0</td><td>0.0</td><td>1.8761397170576326</td><td>0.2613052900585784</td><td>0.21108856454109742</td><td>0.10411062155477979</td><td>0.0</td><td>0.0</td><td>0.0</td><td>1.0072026342866551</td><td>21.440068174240203</td><td>22.274960404546178</td><td>21.280958712336684</td><td>19.68924689265133</td><td>0.0</td><td>0.0</td><td>0.0</td><td>0.0</td></tr>\n",
       "<tr><td>20210404</td><td>83420</td><td>80697</td><td>145.0</td><td>32.375</td><td>59309.20018021</td><td>sv1</td><td>dark</td><td>elg</td><td>sv1elg</td><td>80.4530029296875</td><td>4.205021150482936e-05</td><td>4000.0</td><td>dark</td><td>0.9</td><td>1.0092869997024536</td><td>0.018713951110839844</td><td>0.0</td><td>0.0</td><td>4.889559477305738e-06</td><td>9.873140243144007e-07</td><td>4.668986548495013e-06</td><td>6.542905478545882e-07</td><td>0.00034244905691593885</td><td>0.0</td><td>0.0</td><td>0.0</td><td>5.67310146778893e-05</td><td>4.205021150482936e-05</td><td>4.7942867968231444e-05</td><td>7.484925549098573e-06</td><td>0.0</td><td>0.0</td><td>0.0</td><td>0.0</td><td>0.0</td><td>0.0</td><td>0.0</td><td>0.0</td><td>0.0007895831162312318</td><td>0.0006804336788210475</td><td>0.00030002771194605096</td><td>1.0096259147044822</td><td>20.890481710495784</td><td>21.92729853866057</td><td>20.87627884543552</td><td>19.709699199758923</td><td>1.0075802546981036e-05</td><td>1.0075802546981036e-05</td><td>0.0</td><td>0.0</td></tr>\n",
       "<tr><td>20211125</td><td>110852</td><td>42262</td><td>5.991</td><td>4.792</td><td>59544.11509409</td><td>main</td><td>backup</td><td>backup</td><td>mainbackup</td><td>601.6654663085938</td><td>17.011510848999023</td><td>60.0</td><td>backup</td><td>0.85</td><td>1.143367052078247</td><td>0.023625371977686882</td><td>3.7747349739074707</td><td>9.584416389465332</td><td>2.1469082832336426</td><td>0.3637787997722626</td><td>1.6068999767303467</td><td>0.8854541587585117</td><td>150.91136169433594</td><td>197.9574432373047</td><td>42.43981170654297</td><td>240.1890869140625</td><td>19.524808883666992</td><td>18.463411331176758</td><td>21.12759017944336</td><td>10.449163963405304</td><td>16.594938278198242</td><td>22.2078800201416</td><td>17.011510848999023</td><td>0.8780836223539111</td><td>3.20778365614237</td><td>0.11836103479224255</td><td>0.10716889904754712</td><td>0.057902263978654445</td><td>0.0</td><td>0.0</td><td>0.0</td><td>1.1394144832564999</td><td>20.885443339512</td><td>21.82595186409396</td><td>20.871110333724605</td><td>19.155375680908563</td><td>0.0</td><td>0.0</td><td>0.0</td><td>0.0</td></tr>\n",
       "<tr><td>20230815</td><td>190752</td><td>40203</td><td>320.573</td><td>26.421</td><td>60172.30414529</td><td>main</td><td>backup</td><td>backup</td><td>mainbackup</td><td>603.0149536132812</td><td>0.6952639818191528</td><td>60.0</td><td>backup</td><td>0.85</td><td>1.0050499439239502</td><td>0.11382203549146652</td><td>1.1314209699630737</td><td>0.5669659972190857</td><td>0.04952569305896759</td><td>0.01299299392849207</td><td>0.03662736713886261</td><td>0.048888119613252456</td><td>3.586458444595337</td><td>5.241128921508789</td><td>1.040251612663269</td><td>9.816577911376953</td><td>0.44504472613334656</td><td>0.4259209930896759</td><td>0.5021041631698608</td><td>0.5769242514120554</td><td>0.43936821818351746</td><td>0.5443422794342041</td><td>0.6952639818191528</td><td>0.04454787890451631</td><td>1.0542636639223057</td><td>0.572109104821019</td><td>0.4136182060095519</td><td>0.19035298877013784</td><td>0.0</td><td>0.0</td><td>0.0</td><td>1.0057466495310423</td><td>20.950871179915087</td><td>21.800248637773638</td><td>20.955246864333454</td><td>19.384560527114783</td><td>0.0</td><td>0.0</td><td>0.0</td><td>0.0</td></tr>\n",
       "</table></div>"
      ],
      "text/plain": [
       "<Table length=5>\n",
       " NIGHT   EXPID  TILEID ... EFFTIME_BRIGHT_GFA EFFTIME_BACKUP_GFA\n",
       " int32   int32  int32  ...      float64            float64      \n",
       "-------- ------ ------ ... ------------------ ------------------\n",
       "20210202  74307  80679 ...                0.0                0.0\n",
       "20210308  79769  80731 ...                0.0                0.0\n",
       "20210404  83420  80697 ...                0.0                0.0\n",
       "20211125 110852  42262 ...                0.0                0.0\n",
       "20230815 190752  40203 ...                0.0                0.0"
      ]
     },
     "execution_count": 51,
     "metadata": {},
     "output_type": "execute_result"
    }
   ],
   "source": [
    "daily_exposures_patched = daily_exposures.copy()\n",
    "can_patch = ('NIGHT', 'EXPID', 'TILEID', 'TILERA', 'TILEDEC', 'MJD', 'SURVEY', 'PROGRAM', 'FAPRGRM', 'FAFLAVOR', 'EXPTIME', 'GOALTIME', 'GOALTYPE', 'MINTFRAC', 'AIRMASS', 'EBV', 'SEEING_ETC', 'EFFTIME_ETC',\n",
    "             'TRANSPARENCY_GFA', 'SEEING_GFA', 'FIBER_FRACFLUX_GFA', 'FIBER_FRACFLUX_ELG_GFA', 'FIBER_FRACFLUX_BGS_GFA', 'FIBERFAC_GFA', 'FIBERFAC_ELG_GFA', 'FIBERFAC_BGS_GFA', 'AIRMASS_GFA', 'SKY_MAG_AB_GFA',\n",
    "             'EFFTIME_GFA', 'EFFTIME_DARK_GFA', 'EFFTIME_BRIGHT_GFA', 'EFFTIME_BACKUP_GFA')\n",
    "for column in ['TILERA', 'TILEDEC', 'MJD', 'SURVEY'] + [c for c in daily_exposures_patched.colnames if hasattr(daily_exposures_patched[c], 'mask') and c in can_patch]:\n",
    "    print(f\"Patching {column}...\")\n",
    "    if hasattr(jura_exposures[column], 'mask'):\n",
    "        if np.any(jura_exposures[column].mask[jura_exposures_index]):\n",
    "            jura_exposures[column][jura_exposures[column].mask] = 0\n",
    "            jura_exposures[column].mask[jura_exposures[column].mask] = False\n",
    "    daily_exposures_patched[column][daily_exposures_index] = jura_exposures[column][jura_exposures_index]\n",
    "    if hasattr(daily_exposures_patched[column], 'mask'):\n",
    "        daily_exposures_patched[column].mask[daily_exposures_index] = False\n",
    "\n",
    "known_bad_exposures = np.in1d(daily_exposures_patched['EXPID'], np.array([74307, 79769, 83420, 110852, 190752]))\n",
    "daily_exposures_patched[known_bad_exposures]"
   ]
  },
  {
   "cell_type": "markdown",
   "id": "2cad2268-9557-444e-897c-e04bc63b42c6",
   "metadata": {},
   "source": [
    "### After patching are there still missing data?"
   ]
  },
  {
   "cell_type": "code",
   "execution_count": 52,
   "id": "00e2e401-93f6-4d87-8307-9c1f0db767e2",
   "metadata": {
    "tags": []
   },
   "outputs": [],
   "source": [
    "assert not (daily_exposures_patched['TILERA'] == daily_exposures['TILERA']).all()\n",
    "assert not (daily_exposures_patched['TILEDEC'] == daily_exposures['TILEDEC']).all()\n",
    "assert not (daily_exposures_patched['MJD'] == daily_exposures['MJD']).all()\n",
    "assert not (daily_exposures_patched['SURVEY'] == daily_exposures['SURVEY']).all()\n",
    "assert (daily_exposures_patched['PROGRAM'] == daily_exposures['PROGRAM']).all()\n",
    "assert (daily_exposures_patched['FAPRGRM'] == daily_exposures['FAPRGRM']).all()\n",
    "assert (daily_exposures_patched['FAFLAVOR'] == daily_exposures['FAFLAVOR']).all()"
   ]
  },
  {
   "cell_type": "code",
   "execution_count": 53,
   "id": "60427b0b-913d-456b-b45e-6ccc3a46866b",
   "metadata": {
    "tags": []
   },
   "outputs": [
    {
     "name": "stdout",
     "output_type": "stream",
     "text": [
      "INFO: tile 80618 exposure 69082 has MJD-OBS = 59204.557878 in /global/cfs/cdirs/desi/spectro/data/20201220/00069082/desi-00069082.fits.fz!\n",
      " NIGHT   EXPID TILEID      MJD      \n",
      "-------- ----- ------ --------------\n",
      "20201220 69082  80618 59204.55787815\n",
      "INFO: tile 80618 exposure 69083 has MJD-OBS = 59204.563137 in /global/cfs/cdirs/desi/spectro/data/20201220/00069083/desi-00069083.fits.fz!\n",
      " NIGHT   EXPID TILEID      MJD      \n",
      "-------- ----- ------ --------------\n",
      "20201220 69083  80618 59204.56313729\n",
      "INFO: tile 80618 exposure 69084 has MJD-OBS = 59204.568494 in /global/cfs/cdirs/desi/spectro/data/20201220/00069084/desi-00069084.fits.fz!\n",
      " NIGHT   EXPID TILEID      MJD      \n",
      "-------- ----- ------ --------------\n",
      "20201220 69084  80618 59204.56849373\n",
      "INFO: tile 80618 exposure 69085 has MJD-OBS = 59204.573527 in /global/cfs/cdirs/desi/spectro/data/20201220/00069085/desi-00069085.fits.fz!\n",
      " NIGHT   EXPID TILEID      MJD      \n",
      "-------- ----- ------ --------------\n",
      "20201220 69085  80618 59204.57352664\n",
      "INFO: tile 80617 exposure 69400 has MJD-OBS = 59206.108281 in /global/cfs/cdirs/desi/spectro/data/20201222/00069400/desi-00069400.fits.fz!\n",
      " NIGHT   EXPID TILEID      MJD      \n",
      "-------- ----- ------ --------------\n",
      "20201222 69400  80617 59206.10828083\n",
      "INFO: tile 80617 exposure 69401 has MJD-OBS = 59206.116788 in /global/cfs/cdirs/desi/spectro/data/20201222/00069401/desi-00069401.fits.fz!\n",
      " NIGHT   EXPID TILEID      MJD      \n",
      "-------- ----- ------ --------------\n",
      "20201222 69401  80617 59206.11678777\n",
      "INFO: tile 80617 exposure 69402 has MJD-OBS = 59206.125315 in /global/cfs/cdirs/desi/spectro/data/20201222/00069402/desi-00069402.fits.fz!\n",
      " NIGHT   EXPID TILEID      MJD      \n",
      "-------- ----- ------ --------------\n",
      "20201222 69402  80617 59206.12531454\n",
      "INFO: tile 80617 exposure 69403 has MJD-OBS = 59206.135059 in /global/cfs/cdirs/desi/spectro/data/20201222/00069403/desi-00069403.fits.fz!\n",
      " NIGHT   EXPID TILEID      MJD      \n",
      "-------- ----- ------ --------------\n",
      "20201222 69403  80617 59206.13505941\n",
      "INFO: tile 80617 exposure 69404 has MJD-OBS = 59206.145698 in /global/cfs/cdirs/desi/spectro/data/20201222/00069404/desi-00069404.fits.fz!\n",
      " NIGHT   EXPID TILEID      MJD      \n",
      "-------- ----- ------ --------------\n",
      "20201222 69404  80617 59206.14569799\n",
      "INFO: tile 80608 exposure 69435 has MJD-OBS = 59206.313242 in /global/cfs/cdirs/desi/spectro/data/20201222/00069435/desi-00069435.fits.fz!\n",
      " NIGHT   EXPID TILEID      MJD     \n",
      "-------- ----- ------ -------------\n",
      "20201222 69435  80608 59206.3132417\n",
      "INFO: tile 80608 exposure 69436 has MJD-OBS = 59206.326569 in /global/cfs/cdirs/desi/spectro/data/20201222/00069436/desi-00069436.fits.fz!\n",
      " NIGHT   EXPID TILEID      MJD      \n",
      "-------- ----- ------ --------------\n",
      "20201222 69436  80608 59206.32656933\n",
      "INFO: tile 80608 exposure 69437 has MJD-OBS = 59206.339900 in /global/cfs/cdirs/desi/spectro/data/20201222/00069437/desi-00069437.fits.fz!\n",
      " NIGHT   EXPID TILEID      MJD      \n",
      "-------- ----- ------ --------------\n",
      "20201222 69437  80608 59206.33989997\n",
      "INFO: tile 80608 exposure 69438 has MJD-OBS = 59206.353205 in /global/cfs/cdirs/desi/spectro/data/20201222/00069438/desi-00069438.fits.fz!\n",
      " NIGHT   EXPID TILEID      MJD      \n",
      "-------- ----- ------ --------------\n",
      "20201222 69438  80608 59206.35320477\n",
      "INFO: tile 80607 exposure 69440 has MJD-OBS = 59206.367353 in /global/cfs/cdirs/desi/spectro/data/20201222/00069440/desi-00069440.fits.fz!\n",
      " NIGHT   EXPID TILEID      MJD      \n",
      "-------- ----- ------ --------------\n",
      "20201222 69440  80607 59206.36735299\n",
      "INFO: tile 80607 exposure 69441 has MJD-OBS = 59206.380662 in /global/cfs/cdirs/desi/spectro/data/20201222/00069441/desi-00069441.fits.fz!\n",
      " NIGHT   EXPID TILEID      MJD      \n",
      "-------- ----- ------ --------------\n",
      "20201222 69441  80607 59206.38066192\n",
      "INFO: tile 80607 exposure 69442 has MJD-OBS = 59206.393943 in /global/cfs/cdirs/desi/spectro/data/20201222/00069442/desi-00069442.fits.fz!\n",
      " NIGHT   EXPID TILEID      MJD      \n",
      "-------- ----- ------ --------------\n",
      "20201222 69442  80607 59206.39394324\n",
      "INFO: tile 80620 exposure 69444 has MJD-OBS = 59206.409566 in /global/cfs/cdirs/desi/spectro/data/20201222/00069444/desi-00069444.fits.fz!\n",
      " NIGHT   EXPID TILEID      MJD      \n",
      "-------- ----- ------ --------------\n",
      "20201222 69444  80620 59206.40956632\n",
      "INFO: tile 80620 exposure 69445 has MJD-OBS = 59206.422851 in /global/cfs/cdirs/desi/spectro/data/20201222/00069445/desi-00069445.fits.fz!\n",
      " NIGHT   EXPID TILEID      MJD      \n",
      "-------- ----- ------ --------------\n",
      "20201222 69445  80620 59206.42285072\n",
      "INFO: tile 80620 exposure 69446 has MJD-OBS = 59206.436229 in /global/cfs/cdirs/desi/spectro/data/20201222/00069446/desi-00069446.fits.fz!\n",
      " NIGHT   EXPID TILEID      MJD      \n",
      "-------- ----- ------ --------------\n",
      "20201222 69446  80620 59206.43622927\n",
      "INFO: tile 80620 exposure 69447 has MJD-OBS = 59206.449480 in /global/cfs/cdirs/desi/spectro/data/20201222/00069447/desi-00069447.fits.fz!\n",
      " NIGHT   EXPID TILEID      MJD      \n",
      "-------- ----- ------ --------------\n",
      "20201222 69447  80620 59206.44947983\n",
      "INFO: tile 80614 exposure 69449 has MJD-OBS = 59206.468311 in /global/cfs/cdirs/desi/spectro/data/20201222/00069449/desi-00069449.fits.fz!\n",
      " NIGHT   EXPID TILEID      MJD      \n",
      "-------- ----- ------ --------------\n",
      "20201222 69449  80614 59206.46831138\n",
      "INFO: tile 80614 exposure 69450 has MJD-OBS = 59206.474771 in /global/cfs/cdirs/desi/spectro/data/20201222/00069450/desi-00069450.fits.fz!\n",
      " NIGHT   EXPID TILEID      MJD      \n",
      "-------- ----- ------ --------------\n",
      "20201222 69450  80614 59206.47477105\n",
      "INFO: tile 80614 exposure 69451 has MJD-OBS = 59206.481235 in /global/cfs/cdirs/desi/spectro/data/20201222/00069451/desi-00069451.fits.fz!\n",
      " NIGHT   EXPID TILEID      MJD      \n",
      "-------- ----- ------ --------------\n",
      "20201222 69451  80614 59206.48123483\n",
      "INFO: tile 80614 exposure 69452 has MJD-OBS = 59206.487680 in /global/cfs/cdirs/desi/spectro/data/20201222/00069452/desi-00069452.fits.fz!\n",
      " NIGHT   EXPID TILEID      MJD      \n",
      "-------- ----- ------ --------------\n",
      "20201222 69452  80614 59206.48768029\n",
      "INFO: tile 80614 exposure 69453 has MJD-OBS = 59206.494103 in /global/cfs/cdirs/desi/spectro/data/20201222/00069453/desi-00069453.fits.fz!\n",
      " NIGHT   EXPID TILEID      MJD      \n",
      "-------- ----- ------ --------------\n",
      "20201222 69453  80614 59206.49410313\n",
      "INFO: tile 80610 exposure 69455 has MJD-OBS = 59206.501778 in /global/cfs/cdirs/desi/spectro/data/20201222/00069455/desi-00069455.fits.fz!\n",
      " NIGHT   EXPID TILEID      MJD      \n",
      "-------- ----- ------ --------------\n",
      "20201222 69455  80610 59206.50177768\n",
      "INFO: tile 80610 exposure 69456 has MJD-OBS = 59206.515169 in /global/cfs/cdirs/desi/spectro/data/20201222/00069456/desi-00069456.fits.fz!\n",
      " NIGHT   EXPID TILEID      MJD      \n",
      "-------- ----- ------ --------------\n",
      "20201222 69456  80610 59206.51516924\n",
      "INFO: tile 80614 exposure 69458 has MJD-OBS = 59206.533942 in /global/cfs/cdirs/desi/spectro/data/20201222/00069458/desi-00069458.fits.fz!\n",
      " NIGHT   EXPID TILEID      MJD      \n",
      "-------- ----- ------ --------------\n",
      "20201222 69458  80614 59206.53394194\n",
      "INFO: tile 80614 exposure 69459 has MJD-OBS = 59206.540400 in /global/cfs/cdirs/desi/spectro/data/20201222/00069459/desi-00069459.fits.fz!\n",
      " NIGHT   EXPID TILEID      MJD      \n",
      "-------- ----- ------ --------------\n",
      "20201222 69459  80614 59206.54040006\n",
      "INFO: tile 80614 exposure 69460 has MJD-OBS = 59206.546853 in /global/cfs/cdirs/desi/spectro/data/20201222/00069460/desi-00069460.fits.fz!\n",
      " NIGHT   EXPID TILEID      MJD      \n",
      "-------- ----- ------ --------------\n",
      "20201222 69460  80614 59206.54685306\n",
      "INFO: tile 80623 exposure 69628 has MJD-OBS = 59207.380045 in /global/cfs/cdirs/desi/spectro/data/20201223/00069628/desi-00069628.fits.fz!\n",
      " NIGHT   EXPID TILEID      MJD      \n",
      "-------- ----- ------ --------------\n",
      "20201223 69628  80623 59207.38004477\n",
      "INFO: tile 80623 exposure 69629 has MJD-OBS = 59207.393223 in /global/cfs/cdirs/desi/spectro/data/20201223/00069629/desi-00069629.fits.fz!\n",
      " NIGHT   EXPID TILEID      MJD      \n",
      "-------- ----- ------ --------------\n",
      "20201223 69629  80623 59207.39322287\n",
      "INFO: tile 80622 exposure 69631 has MJD-OBS = 59207.407850 in /global/cfs/cdirs/desi/spectro/data/20201223/00069631/desi-00069631.fits.fz!\n",
      " NIGHT   EXPID TILEID      MJD      \n",
      "-------- ----- ------ --------------\n",
      "20201223 69631  80622 59207.40785035\n",
      "INFO: tile 80622 exposure 69632 has MJD-OBS = 59207.421005 in /global/cfs/cdirs/desi/spectro/data/20201223/00069632/desi-00069632.fits.fz!\n",
      " NIGHT   EXPID TILEID      MJD      \n",
      "-------- ----- ------ --------------\n",
      "20201223 69632  80622 59207.42100469\n",
      "INFO: tile 80635 exposure 70543 has MJD-OBS = 59217.249417 in /global/cfs/cdirs/desi/spectro/data/20210102/00070543/desi-00070543.fits.fz!\n",
      " NIGHT   EXPID TILEID      MJD     \n",
      "-------- ----- ------ -------------\n",
      "20210102 70543  80635 59217.2494171\n",
      "INFO: tile 80635 exposure 70544 has MJD-OBS = 59217.255461 in /global/cfs/cdirs/desi/spectro/data/20210102/00070544/desi-00070544.fits.fz!\n",
      " NIGHT   EXPID TILEID      MJD      \n",
      "-------- ----- ------ --------------\n",
      "20210102 70544  80635 59217.25546107\n",
      "INFO: tile 80635 exposure 70545 has MJD-OBS = 59217.261845 in /global/cfs/cdirs/desi/spectro/data/20210102/00070545/desi-00070545.fits.fz!\n",
      " NIGHT   EXPID TILEID      MJD      \n",
      "-------- ----- ------ --------------\n",
      "20210102 70545  80635 59217.26184494\n",
      "INFO: tile 80713 exposure 71721 has MJD-OBS = 59225.094667 in /global/cfs/cdirs/desi/spectro/data/20210110/00071721/desi-00071721.fits.fz!\n",
      " NIGHT   EXPID TILEID       MJD      \n",
      "-------- ----- ------ ---------------\n",
      "20210110 71721  80713 59225.094667134\n",
      "INFO: tile 80713 exposure 71722 has MJD-OBS = 59225.107224 in /global/cfs/cdirs/desi/spectro/data/20210110/00071722/desi-00071722.fits.fz!\n",
      " NIGHT   EXPID TILEID       MJD      \n",
      "-------- ----- ------ ---------------\n",
      "20210110 71722  80713 59225.107223918\n",
      "INFO: tile 80713 exposure 71723 has MJD-OBS = 59225.119826 in /global/cfs/cdirs/desi/spectro/data/20210110/00071723/desi-00071723.fits.fz!\n",
      " NIGHT   EXPID TILEID       MJD      \n",
      "-------- ----- ------ ---------------\n",
      "20210110 71723  80713 59225.119825769\n",
      "INFO: tile 80670 exposure 71724 has MJD-OBS = 59225.134263 in /global/cfs/cdirs/desi/spectro/data/20210110/00071724/desi-00071724.fits.fz!\n",
      " NIGHT   EXPID TILEID       MJD      \n",
      "-------- ----- ------ ---------------\n",
      "20210110 71724  80670 59225.134262648\n",
      "INFO: tile 80670 exposure 71870 has MJD-OBS = 59226.161130 in /global/cfs/cdirs/desi/spectro/data/20210111/00071870/desi-00071870.fits.fz!\n",
      " NIGHT   EXPID TILEID       MJD      \n",
      "-------- ----- ------ ---------------\n",
      "20210111 71870  80670 59226.161129722\n",
      "INFO: tile 80715 exposure 72498 has MJD-OBS = 59230.164165 in /global/cfs/cdirs/desi/spectro/data/20210115/00072498/desi-00072498.fits.fz!\n",
      " NIGHT   EXPID TILEID       MJD      \n",
      "-------- ----- ------ ---------------\n",
      "20210115 72498  80715 59230.164164663\n",
      "INFO: tile 80715 exposure 72499 has MJD-OBS = 59230.176755 in /global/cfs/cdirs/desi/spectro/data/20210115/00072499/desi-00072499.fits.fz!\n",
      " NIGHT   EXPID TILEID       MJD      \n",
      "-------- ----- ------ ---------------\n",
      "20210115 72499  80715 59230.176755043\n",
      "INFO: tile 80715 exposure 72500 has MJD-OBS = 59230.189428 in /global/cfs/cdirs/desi/spectro/data/20210115/00072500/desi-00072500.fits.fz!\n",
      " NIGHT   EXPID TILEID      MJD     \n",
      "-------- ----- ------ -------------\n",
      "20210115 72500  80715 59230.1894283\n",
      "INFO: tile 80687 exposure 75823 has MJD-OBS = 59260.123180 in /global/cfs/cdirs/desi/spectro/data/20210214/00075823/desi-00075823.fits.fz!\n",
      " NIGHT   EXPID TILEID      MJD      \n",
      "-------- ----- ------ --------------\n",
      "20210214 75823  80687 59260.12318035\n",
      "INFO: tile 80687 exposure 75824 has MJD-OBS = 59260.132294 in /global/cfs/cdirs/desi/spectro/data/20210214/00075824/desi-00075824.fits.fz!\n",
      " NIGHT   EXPID TILEID       MJD      \n",
      "-------- ----- ------ ---------------\n",
      "20210214 75824  80687 59260.132294067\n",
      "INFO: tile 80687 exposure 75825 has MJD-OBS = 59260.141440 in /global/cfs/cdirs/desi/spectro/data/20210214/00075825/desi-00075825.fits.fz!\n",
      " NIGHT   EXPID TILEID       MJD      \n",
      "-------- ----- ------ ---------------\n",
      "20210214 75825  80687 59260.141440081\n",
      "INFO: tile 80687 exposure 75826 has MJD-OBS = 59260.150494 in /global/cfs/cdirs/desi/spectro/data/20210214/00075826/desi-00075826.fits.fz!\n",
      " NIGHT   EXPID TILEID       MJD      \n",
      "-------- ----- ------ ---------------\n",
      "20210214 75826  80687 59260.150493743\n",
      "INFO: tile 80687 exposure 75827 has MJD-OBS = 59260.159721 in /global/cfs/cdirs/desi/spectro/data/20210214/00075827/desi-00075827.fits.fz!\n",
      " NIGHT   EXPID TILEID       MJD      \n",
      "-------- ----- ------ ---------------\n",
      "20210214 75827  80687 59260.159721426\n",
      "INFO: tile 80687 exposure 75828 has MJD-OBS = 59260.168634 in /global/cfs/cdirs/desi/spectro/data/20210214/00075828/desi-00075828.fits.fz!\n",
      " NIGHT   EXPID TILEID       MJD      \n",
      "-------- ----- ------ ---------------\n",
      "20210214 75828  80687 59260.168633955\n",
      "INFO: tile 80687 exposure 75829 has MJD-OBS = 59260.177738 in /global/cfs/cdirs/desi/spectro/data/20210214/00075829/desi-00075829.fits.fz!\n",
      " NIGHT   EXPID TILEID       MJD      \n",
      "-------- ----- ------ ---------------\n",
      "20210214 75829  80687 59260.177738254\n",
      "INFO: tile 80687 exposure 75830 has MJD-OBS = 59260.186794 in /global/cfs/cdirs/desi/spectro/data/20210214/00075830/desi-00075830.fits.fz!\n",
      " NIGHT   EXPID TILEID       MJD      \n",
      "-------- ----- ------ ---------------\n",
      "20210214 75830  80687 59260.186793903\n",
      "INFO: tile 80687 exposure 75831 has MJD-OBS = 59260.196030 in /global/cfs/cdirs/desi/spectro/data/20210214/00075831/desi-00075831.fits.fz!\n",
      " NIGHT   EXPID TILEID       MJD      \n",
      "-------- ----- ------ ---------------\n",
      "20210214 75831  80687 59260.196030128\n",
      "INFO: tile 80687 exposure 75832 has MJD-OBS = 59260.204947 in /global/cfs/cdirs/desi/spectro/data/20210214/00075832/desi-00075832.fits.fz!\n",
      " NIGHT   EXPID TILEID       MJD      \n",
      "-------- ----- ------ ---------------\n",
      "20210214 75832  80687 59260.204947223\n",
      "INFO: tile 80687 exposure 75835 has MJD-OBS = 59260.218992 in /global/cfs/cdirs/desi/spectro/data/20210214/00075835/desi-00075835.fits.fz!\n",
      " NIGHT   EXPID TILEID       MJD      \n",
      "-------- ----- ------ ---------------\n",
      "20210214 75835  80687 59260.218992112\n",
      "INFO: tile 80687 exposure 75836 has MJD-OBS = 59260.228327 in /global/cfs/cdirs/desi/spectro/data/20210214/00075836/desi-00075836.fits.fz!\n",
      " NIGHT   EXPID TILEID      MJD      \n",
      "-------- ----- ------ --------------\n",
      "20210214 75836  80687 59260.22832683\n",
      "INFO: tile 80708 exposure 75868 has MJD-OBS = 59260.515382 in /global/cfs/cdirs/desi/spectro/data/20210214/00075868/desi-00075868.fits.fz!\n",
      " NIGHT   EXPID TILEID      MJD      \n",
      "-------- ----- ------ --------------\n",
      "20210214 75868  80708 59260.51538167\n",
      "INFO: tile 80708 exposure 75869 has MJD-OBS = 59260.524510 in /global/cfs/cdirs/desi/spectro/data/20210214/00075869/desi-00075869.fits.fz!\n",
      " NIGHT   EXPID TILEID       MJD      \n",
      "-------- ----- ------ ---------------\n",
      "20210214 75869  80708 59260.524510298\n",
      "INFO: tile 80708 exposure 75870 has MJD-OBS = 59260.533663 in /global/cfs/cdirs/desi/spectro/data/20210214/00075870/desi-00075870.fits.fz!\n",
      " NIGHT   EXPID TILEID       MJD      \n",
      "-------- ----- ------ ---------------\n",
      "20210214 75870  80708 59260.533663345\n",
      "INFO: tile 80733 exposure 75873 has MJD-OBS = 59260.550852 in /global/cfs/cdirs/desi/spectro/data/20210214/00075873/desi-00075873.fits.fz!\n",
      " NIGHT   EXPID TILEID       MJD      \n",
      "-------- ----- ------ ---------------\n",
      "20210214 75873  80733 59260.550852082\n",
      "INFO: tile 80733 exposure 75874 has MJD-OBS = 59260.556760 in /global/cfs/cdirs/desi/spectro/data/20210214/00075874/desi-00075874.fits.fz!\n",
      " NIGHT   EXPID TILEID       MJD      \n",
      "-------- ----- ------ ---------------\n",
      "20210214 75874  80733 59260.556760477\n",
      "INFO: tile 80769 exposure 76926 has MJD-OBS = 59265.098968 in /global/cfs/cdirs/desi/spectro/data/20210219/00076926/desi-00076926.fits.fz!\n",
      " NIGHT   EXPID TILEID       MJD      \n",
      "-------- ----- ------ ---------------\n",
      "20210219 76926  80769 59265.098968318\n",
      "INFO: tile 80769 exposure 76949 has MJD-OBS = 59265.126700 in /global/cfs/cdirs/desi/spectro/data/20210219/00076949/desi-00076949.fits.fz!\n",
      " NIGHT   EXPID TILEID       MJD      \n",
      "-------- ----- ------ ---------------\n",
      "20210219 76949  80769 59265.126700093\n",
      "INFO: tile 80769 exposure 76952 has MJD-OBS = 59265.132660 in /global/cfs/cdirs/desi/spectro/data/20210219/00076952/desi-00076952.fits.fz!\n",
      " NIGHT   EXPID TILEID       MJD      \n",
      "-------- ----- ------ ---------------\n",
      "20210219 76952  80769 59265.132659945\n",
      "INFO: tile 80816 exposure 77753 has MJD-OBS = 59269.256470 in /global/cfs/cdirs/desi/spectro/data/20210223/00077753/desi-00077753.fits.fz!\n",
      " NIGHT   EXPID TILEID       MJD      \n",
      "-------- ----- ------ ---------------\n",
      "20210223 77753  80816 59269.256470218\n",
      "INFO: tile 80662 exposure 77926 has MJD-OBS = 59270.253469 in /global/cfs/cdirs/desi/spectro/data/20210224/00077926/desi-00077926.fits.fz!\n",
      " NIGHT   EXPID TILEID       MJD      \n",
      "-------- ----- ------ ---------------\n",
      "20210224 77926  80662 59270.253469231\n",
      "INFO: tile 80662 exposure 77929 has MJD-OBS = 59270.272156 in /global/cfs/cdirs/desi/spectro/data/20210224/00077929/desi-00077929.fits.fz!\n",
      " NIGHT   EXPID TILEID       MJD      \n",
      "-------- ----- ------ ---------------\n",
      "20210224 77929  80662 59270.272156213\n",
      "INFO: tile 80639 exposure 79046 has MJD-OBS = 59274.186137 in /global/cfs/cdirs/desi/spectro/data/20210228/00079046/desi-00079046.fits.fz!\n",
      " NIGHT   EXPID TILEID       MJD      \n",
      "-------- ----- ------ ---------------\n",
      "20210228 79046  80639 59274.186137438\n",
      "INFO: tile 80722 exposure 79058 has MJD-OBS = 59274.230862 in /global/cfs/cdirs/desi/spectro/data/20210228/00079058/desi-00079058.fits.fz!\n",
      " NIGHT   EXPID TILEID       MJD      \n",
      "-------- ----- ------ ---------------\n",
      "20210228 79058  80722 59274.230862343\n",
      "INFO: tile 80722 exposure 79060 has MJD-OBS = 59274.264118 in /global/cfs/cdirs/desi/spectro/data/20210228/00079060/desi-00079060.fits.fz!\n",
      " NIGHT   EXPID TILEID       MJD      \n",
      "-------- ----- ------ ---------------\n",
      "20210228 79060  80722 59274.264117823\n",
      "INFO: tile 80722 exposure 79061 has MJD-OBS = 59274.272239 in /global/cfs/cdirs/desi/spectro/data/20210228/00079061/desi-00079061.fits.fz!\n",
      " NIGHT   EXPID TILEID       MJD      \n",
      "-------- ----- ------ ---------------\n",
      "20210228 79061  80722 59274.272238992\n",
      "INFO: tile 80722 exposure 79062 has MJD-OBS = 59274.277943 in /global/cfs/cdirs/desi/spectro/data/20210228/00079062/desi-00079062.fits.fz!\n",
      " NIGHT   EXPID TILEID       MJD      \n",
      "-------- ----- ------ ---------------\n",
      "20210228 79062  80722 59274.277943426\n",
      "INFO: tile 80741 exposure 79066 has MJD-OBS = 59274.328710 in /global/cfs/cdirs/desi/spectro/data/20210228/00079066/desi-00079066.fits.fz!\n",
      " NIGHT   EXPID TILEID       MJD      \n",
      "-------- ----- ------ ---------------\n",
      "20210228 79066  80741 59274.328709963\n",
      "INFO: tile 80741 exposure 79067 has MJD-OBS = 59274.343822 in /global/cfs/cdirs/desi/spectro/data/20210228/00079067/desi-00079067.fits.fz!\n",
      " NIGHT   EXPID TILEID      MJD      \n",
      "-------- ----- ------ --------------\n",
      "20210228 79067  80741 59274.34382233\n",
      "INFO: tile 80741 exposure 79068 has MJD-OBS = 59274.358837 in /global/cfs/cdirs/desi/spectro/data/20210228/00079068/desi-00079068.fits.fz!\n",
      " NIGHT   EXPID TILEID       MJD      \n",
      "-------- ----- ------ ---------------\n",
      "20210228 79068  80741 59274.358837452\n",
      "INFO: tile 80740 exposure 79069 has MJD-OBS = 59274.374192 in /global/cfs/cdirs/desi/spectro/data/20210228/00079069/desi-00079069.fits.fz!\n",
      " NIGHT   EXPID TILEID       MJD      \n",
      "-------- ----- ------ ---------------\n",
      "20210228 79069  80740 59274.374191986\n",
      "INFO: tile 80740 exposure 79070 has MJD-OBS = 59274.390114 in /global/cfs/cdirs/desi/spectro/data/20210228/00079070/desi-00079070.fits.fz!\n",
      " NIGHT   EXPID TILEID       MJD      \n",
      "-------- ----- ------ ---------------\n",
      "20210228 79070  80740 59274.390114169\n",
      "INFO: tile 80726 exposure 79072 has MJD-OBS = 59274.408621 in /global/cfs/cdirs/desi/spectro/data/20210228/00079072/desi-00079072.fits.fz!\n",
      " NIGHT   EXPID TILEID       MJD      \n",
      "-------- ----- ------ ---------------\n",
      "20210228 79072  80726 59274.408620889\n",
      "INFO: tile 80726 exposure 79073 has MJD-OBS = 59274.423888 in /global/cfs/cdirs/desi/spectro/data/20210228/00079073/desi-00079073.fits.fz!\n",
      " NIGHT   EXPID TILEID       MJD      \n",
      "-------- ----- ------ ---------------\n",
      "20210228 79073  80726 59274.423888115\n",
      "INFO: tile 80726 exposure 79074 has MJD-OBS = 59274.439179 in /global/cfs/cdirs/desi/spectro/data/20210228/00079074/desi-00079074.fits.fz!\n",
      " NIGHT   EXPID TILEID       MJD      \n",
      "-------- ----- ------ ---------------\n",
      "20210228 79074  80726 59274.439178527\n",
      "INFO: tile 80721 exposure 79741 has MJD-OBS = 59282.176876 in /global/cfs/cdirs/desi/spectro/data/20210308/00079741/desi-00079741.fits.fz!\n",
      " NIGHT   EXPID TILEID       MJD      \n",
      "-------- ----- ------ ---------------\n",
      "20210308 79741  80721 59282.176876234\n",
      "INFO: tile 80721 exposure 79749 has MJD-OBS = 59282.207467 in /global/cfs/cdirs/desi/spectro/data/20210308/00079749/desi-00079749.fits.fz!\n",
      " NIGHT   EXPID TILEID       MJD      \n",
      "-------- ----- ------ ---------------\n",
      "20210308 79749  80721 59282.207466672\n",
      "INFO: tile 80722 exposure 80474 has MJD-OBS = 59288.188474 in /global/cfs/cdirs/desi/spectro/data/20210314/00080474/desi-00080474.fits.fz!\n",
      " NIGHT   EXPID TILEID       MJD      \n",
      "-------- ----- ------ ---------------\n",
      "20210314 80474  80722 59288.188474374\n",
      "INFO: tile 80871 exposure 80481 has MJD-OBS = 59288.216706 in /global/cfs/cdirs/desi/spectro/data/20210314/00080481/desi-00080481.fits.fz!\n",
      " NIGHT   EXPID TILEID       MJD      \n",
      "-------- ----- ------ ---------------\n",
      "20210314 80481  80871 59288.216706308\n",
      "INFO: tile 80702 exposure 81201 has MJD-OBS = 59294.236517 in /global/cfs/cdirs/desi/spectro/data/20210320/00081201/desi-00081201.fits.fz!\n",
      " NIGHT   EXPID TILEID       MJD      \n",
      "-------- ----- ------ ---------------\n",
      "20210320 81201  80702 59294.236516598\n",
      "INFO: tile 80742 exposure 81356 has MJD-OBS = 59295.108323 in /global/cfs/cdirs/desi/spectro/data/20210321/00081356/desi-00081356.fits.fz!\n",
      " NIGHT   EXPID TILEID       MJD      \n",
      "-------- ----- ------ ---------------\n",
      "20210321 81356  80742 59295.108323264\n",
      "INFO: tile 80916 exposure 81471 has MJD-OBS = 59296.117864 in /global/cfs/cdirs/desi/spectro/data/20210322/00081471/desi-00081471.fits.fz!\n",
      " NIGHT   EXPID TILEID       MJD      \n",
      "-------- ----- ------ ---------------\n",
      "20210322 81471  80916 59296.117863884\n",
      "INFO: tile 80916 exposure 81478 has MJD-OBS = 59296.147124 in /global/cfs/cdirs/desi/spectro/data/20210322/00081478/desi-00081478.fits.fz!\n",
      " NIGHT   EXPID TILEID       MJD      \n",
      "-------- ----- ------ ---------------\n",
      "20210322 81478  80916 59296.147124245\n",
      "INFO: tile 80916 exposure 81508 has MJD-OBS = 59296.281297 in /global/cfs/cdirs/desi/spectro/data/20210322/00081508/desi-00081508.fits.fz!\n",
      " NIGHT   EXPID TILEID       MJD      \n",
      "-------- ----- ------ ---------------\n",
      "20210322 81508  80916 59296.281297302\n",
      "INFO: tile 80621 exposure 83414 has MJD-OBS = 59309.140932 in /global/cfs/cdirs/desi/spectro/data/20210404/00083414/desi-00083414.fits.fz!\n",
      " NIGHT   EXPID TILEID       MJD      \n",
      "-------- ----- ------ ---------------\n",
      "20210404 83414  80621 59309.140931599\n",
      "INFO: tile 80621 exposure 83415 has MJD-OBS = 59309.154354 in /global/cfs/cdirs/desi/spectro/data/20210404/00083415/desi-00083415.fits.fz!\n",
      " NIGHT   EXPID TILEID       MJD      \n",
      "-------- ----- ------ ---------------\n",
      "20210404 83415  80621 59309.154353633\n",
      "INFO: tile 80871 exposure 83976 has MJD-OBS = 59313.215656 in /global/cfs/cdirs/desi/spectro/data/20210408/00083976/desi-00083976.fits.fz!\n",
      " NIGHT   EXPID TILEID       MJD      \n",
      "-------- ----- ------ ---------------\n",
      "20210408 83976  80871 59313.215655974\n",
      "INFO: tile 88 exposure 85616 has MJD-OBS = 59325.179788 in /global/cfs/cdirs/desi/spectro/data/20210420/00085616/desi-00085616.fits.fz!\n",
      " NIGHT   EXPID TILEID       MJD      \n",
      "-------- ----- ------ ---------------\n",
      "20210420 85616     88 59325.179788298\n",
      "INFO: tile 80916 exposure 85983 has MJD-OBS = 59327.145040 in /global/cfs/cdirs/desi/spectro/data/20210422/00085983/desi-00085983.fits.fz!\n",
      " NIGHT   EXPID TILEID       MJD      \n",
      "-------- ----- ------ ---------------\n",
      "20210422 85983  80916 59327.145039662\n",
      "INFO: tile 82052 exposure 86134 has MJD-OBS = 59328.228283 in /global/cfs/cdirs/desi/spectro/data/20210423/00086134/desi-00086134.fits.fz!\n",
      " NIGHT   EXPID TILEID       MJD      \n",
      "-------- ----- ------ ---------------\n",
      "20210423 86134  82052 59328.228283382\n",
      "INFO: tile 82065 exposure 86150 has MJD-OBS = 59328.340232 in /global/cfs/cdirs/desi/spectro/data/20210423/00086150/desi-00086150.fits.fz!\n",
      " NIGHT   EXPID TILEID      MJD      \n",
      "-------- ----- ------ --------------\n",
      "20210423 86150  82065 59328.34023238\n",
      "INFO: tile 82026 exposure 86164 has MJD-OBS = 59328.431506 in /global/cfs/cdirs/desi/spectro/data/20210423/00086164/desi-00086164.fits.fz!\n",
      " NIGHT   EXPID TILEID       MJD      \n",
      "-------- ----- ------ ---------------\n",
      "20210423 86164  82026 59328.431505944\n",
      "INFO: tile 82039 exposure 86271 has MJD-OBS = 59329.414145 in /global/cfs/cdirs/desi/spectro/data/20210424/00086271/desi-00086271.fits.fz!\n",
      " NIGHT   EXPID TILEID       MJD      \n",
      "-------- ----- ------ ---------------\n",
      "20210424 86271  82039 59329.414145131\n",
      "INFO: tile 81096 exposure 86615 has MJD-OBS = 59334.232449 in /global/cfs/cdirs/desi/spectro/data/20210429/00086615/desi-00086615.fits.fz!\n",
      " NIGHT   EXPID TILEID       MJD      \n",
      "-------- ----- ------ ---------------\n",
      "20210429 86615  81096 59334.232448542\n",
      "INFO: tile 82039 exposure 86628 has MJD-OBS = 59334.426929 in /global/cfs/cdirs/desi/spectro/data/20210429/00086628/desi-00086628.fits.fz!\n",
      " NIGHT   EXPID TILEID       MJD      \n",
      "-------- ----- ------ ---------------\n",
      "20210429 86628  82039 59334.426928885\n",
      "INFO: tile 82039 exposure 90251 has MJD-OBS = 59364.411164 in /global/cfs/cdirs/desi/spectro/data/20210529/00090251/desi-00090251.fits.fz!\n",
      " NIGHT   EXPID TILEID       MJD      \n",
      "-------- ----- ------ ---------------\n",
      "20210529 90251  82039 59364.411163769\n",
      "INFO: tile 2704 exposure 96355 has MJD-OBS = 59393.181737 in /global/cfs/cdirs/desi/spectro/data/20210627/00096355/desi-00096355.fits.fz!\n",
      " NIGHT   EXPID TILEID      MJD      \n",
      "-------- ----- ------ --------------\n",
      "20210627 96355   2704 59393.18173717\n",
      "INFO: tile 2786 exposure 96360 has MJD-OBS = 59393.240284 in /global/cfs/cdirs/desi/spectro/data/20210627/00096360/desi-00096360.fits.fz!\n",
      " NIGHT   EXPID TILEID       MJD      \n",
      "-------- ----- ------ ---------------\n",
      "20210627 96360   2786 59393.240284236\n",
      "INFO: tile 20307 exposure 97854 has MJD-OBS = 59403.475127 in /global/cfs/cdirs/desi/spectro/data/20210707/00097854/desi-00097854.fits.fz!\n",
      " NIGHT   EXPID TILEID       MJD      \n",
      "-------- ----- ------ ---------------\n",
      "20210707 97854  20307 59403.475127378\n"
     ]
    }
   ],
   "source": [
    "missing_mjd = np.where((daily_exposures_patched['NIGHT'] >= first_jura_night) & (daily_exposures_patched['EFFTIME_SPEC'] > 0) & (daily_exposures_patched['MJD'] < 50000))[0]\n",
    "for row in daily_exposures_patched[missing_mjd]:\n",
    "    raw_data_file = os.path.join(os.environ['DESI_SPECTRO_DATA'], \"{0:08d}\".format(row['NIGHT']), \"{0:08d}\".format(row['EXPID']), \"desi-{0:08d}.fits.fz\".format(row['EXPID']))\n",
    "    with fits.open(raw_data_file, mode='readonly') as hdulist:\n",
    "        mjd_obs = hdulist['SPEC'].header['MJD-OBS']\n",
    "    print(\"INFO: tile {0:d} exposure {1:d} has MJD-OBS = {2:f} in {3}!\".format(row['TILEID'], row['EXPID'], mjd_obs, raw_data_file))\n",
    "    w = np.where(daily_exposures_patched['EXPID'] == row['EXPID'])[0]\n",
    "    assert len(w) == 1\n",
    "    daily_exposures_patched['MJD'][w] = mjd_obs\n",
    "    print(daily_exposures_patched[w][['NIGHT', 'EXPID', 'TILEID', 'MJD']])"
   ]
  },
  {
   "cell_type": "code",
   "execution_count": 54,
   "id": "fdc2baa0-8cd9-4fbf-8c5f-ec83a931a72b",
   "metadata": {
    "tags": []
   },
   "outputs": [
    {
     "data": {
      "text/html": [
       "<div><i>Table length=0</i>\n",
       "<table id=\"table139847811588416\" class=\"table-striped table-bordered table-condensed\">\n",
       "<thead><tr><th>NIGHT</th><th>EXPID</th><th>TILEID</th><th>TILERA</th><th>TILEDEC</th><th>MJD</th><th>SURVEY</th><th>PROGRAM</th><th>FAPRGRM</th><th>FAFLAVOR</th><th>EXPTIME</th><th>EFFTIME_SPEC</th><th>GOALTIME</th><th>GOALTYPE</th><th>MINTFRAC</th><th>AIRMASS</th><th>EBV</th><th>SEEING_ETC</th><th>EFFTIME_ETC</th><th>TSNR2_ELG</th><th>TSNR2_QSO</th><th>TSNR2_LRG</th><th>TSNR2_LYA</th><th>TSNR2_BGS</th><th>TSNR2_GPBDARK</th><th>TSNR2_GPBBRIGHT</th><th>TSNR2_GPBBACKUP</th><th>LRG_EFFTIME_DARK</th><th>ELG_EFFTIME_DARK</th><th>BGS_EFFTIME_BRIGHT</th><th>LYA_EFFTIME_DARK</th><th>GPB_EFFTIME_DARK</th><th>GPB_EFFTIME_BRIGHT</th><th>GPB_EFFTIME_BACKUP</th><th>TRANSPARENCY_GFA</th><th>SEEING_GFA</th><th>FIBER_FRACFLUX_GFA</th><th>FIBER_FRACFLUX_ELG_GFA</th><th>FIBER_FRACFLUX_BGS_GFA</th><th>FIBERFAC_GFA</th><th>FIBERFAC_ELG_GFA</th><th>FIBERFAC_BGS_GFA</th><th>AIRMASS_GFA</th><th>SKY_MAG_AB_GFA</th><th>SKY_MAG_G_SPEC</th><th>SKY_MAG_R_SPEC</th><th>SKY_MAG_Z_SPEC</th><th>EFFTIME_GFA</th><th>EFFTIME_DARK_GFA</th><th>EFFTIME_BRIGHT_GFA</th><th>EFFTIME_BACKUP_GFA</th></tr></thead>\n",
       "<thead><tr><th>int32</th><th>int32</th><th>int32</th><th>float64</th><th>float64</th><th>float64</th><th>bytes7</th><th>bytes6</th><th>bytes19</th><th>bytes19</th><th>float64</th><th>float64</th><th>float64</th><th>bytes7</th><th>float64</th><th>float64</th><th>float64</th><th>float64</th><th>float64</th><th>float64</th><th>float64</th><th>float64</th><th>float64</th><th>float64</th><th>float64</th><th>float64</th><th>float64</th><th>float64</th><th>float64</th><th>float64</th><th>float64</th><th>float64</th><th>float64</th><th>float64</th><th>float64</th><th>float64</th><th>float64</th><th>float64</th><th>float64</th><th>float64</th><th>float64</th><th>float64</th><th>float64</th><th>float64</th><th>float64</th><th>float64</th><th>float64</th><th>float64</th><th>float64</th><th>float64</th><th>float64</th></tr></thead>\n",
       "</table></div>"
      ],
      "text/plain": [
       "<Table length=0>\n",
       "NIGHT EXPID TILEID ... EFFTIME_DARK_GFA EFFTIME_BRIGHT_GFA EFFTIME_BACKUP_GFA\n",
       "int32 int32 int32  ...     float64           float64            float64      \n",
       "----- ----- ------ ... ---------------- ------------------ ------------------"
      ]
     },
     "execution_count": 54,
     "metadata": {},
     "output_type": "execute_result"
    }
   ],
   "source": [
    "still_missing_mjd = np.where((daily_exposures_patched['NIGHT'] >= first_jura_night) & (daily_exposures_patched['EFFTIME_SPEC'] > 0) & (daily_exposures_patched['MJD'] < 50000))[0]\n",
    "daily_exposures_patched[still_missing_mjd]"
   ]
  },
  {
   "cell_type": "code",
   "execution_count": 59,
   "id": "be0fd08b-0f73-4bf5-a1ee-a955ace6c3ae",
   "metadata": {
    "tags": []
   },
   "outputs": [
    {
     "name": "stdout",
     "output_type": "stream",
     "text": [
      "Column EFFTIME_SPEC still has 1 masked values, but the exposures are not in jura and cannot be patched.\n",
      "Column EBV still has 12 masked values, but the exposures are not in jura and cannot be patched.\n",
      "Column SEEING_ETC still has 1 masked values, but the exposures are not in jura and cannot be patched.\n",
      "Column TSNR2_ELG still has 1 masked values, but the exposures are not in jura and cannot be patched.\n",
      "Column TSNR2_QSO still has 1 masked values, but the exposures are not in jura and cannot be patched.\n",
      "Column TSNR2_LRG still has 1 masked values, but the exposures are not in jura and cannot be patched.\n",
      "Column TSNR2_LYA still has 1 masked values, but the exposures are not in jura and cannot be patched.\n",
      "Column TSNR2_BGS still has 1 masked values, but the exposures are not in jura and cannot be patched.\n",
      "Column TSNR2_GPBDARK still has 1 masked values, but the exposures are not in jura and cannot be patched.\n",
      "Column TSNR2_GPBBRIGHT still has 1 masked values, but the exposures are not in jura and cannot be patched.\n",
      "Column TSNR2_GPBBACKUP still has 1 masked values, but the exposures are not in jura and cannot be patched.\n",
      "Column LRG_EFFTIME_DARK still has 1 masked values, but the exposures are not in jura and cannot be patched.\n",
      "Column ELG_EFFTIME_DARK still has 1 masked values, but the exposures are not in jura and cannot be patched.\n",
      "Column BGS_EFFTIME_BRIGHT still has 1 masked values, but the exposures are not in jura and cannot be patched.\n",
      "Column LYA_EFFTIME_DARK still has 1 masked values, but the exposures are not in jura and cannot be patched.\n",
      "Column GPB_EFFTIME_DARK still has 1 masked values, but the exposures are not in jura and cannot be patched.\n",
      "Column GPB_EFFTIME_BRIGHT still has 1 masked values, but the exposures are not in jura and cannot be patched.\n",
      "Column GPB_EFFTIME_BACKUP still has 1 masked values, but the exposures are not in jura and cannot be patched.\n",
      "Column TRANSPARENCY_GFA still has 37 masked values, but the exposures are not in jura and cannot be patched.\n",
      "Column SEEING_GFA still has 26 masked values, but the exposures are not in jura and cannot be patched.\n",
      "Column FIBER_FRACFLUX_GFA still has 26 masked values, but the exposures are not in jura and cannot be patched.\n",
      "Column FIBER_FRACFLUX_ELG_GFA still has 26 masked values, but the exposures are not in jura and cannot be patched.\n",
      "Column FIBER_FRACFLUX_BGS_GFA still has 26 masked values, but the exposures are not in jura and cannot be patched.\n",
      "Column FIBERFAC_GFA still has 45 masked values, but the exposures are not in jura and cannot be patched.\n",
      "Column FIBERFAC_ELG_GFA still has 45 masked values, but the exposures are not in jura and cannot be patched.\n",
      "Column FIBERFAC_BGS_GFA still has 45 masked values, but the exposures are not in jura and cannot be patched.\n",
      "Column SKY_MAG_G_SPEC still has 380 masked values, and some exposures could still be patched, but they do not meet the patchable column guidelines.\n",
      "Column SKY_MAG_R_SPEC still has 380 masked values, and some exposures could still be patched, but they do not meet the patchable column guidelines.\n",
      "Column SKY_MAG_Z_SPEC still has 380 masked values, and some exposures could still be patched, but they do not meet the patchable column guidelines.\n",
      "Column EFFTIME_GFA still has 25 masked values, but the exposures are not in jura and cannot be patched.\n",
      "Column EFFTIME_DARK_GFA still has 25 masked values, but the exposures are not in jura and cannot be patched.\n",
      "Column EFFTIME_BRIGHT_GFA still has 26 masked values, but the exposures are not in jura and cannot be patched.\n",
      "Column EFFTIME_BACKUP_GFA still has 26 masked values, but the exposures are not in jura and cannot be patched.\n"
     ]
    },
    {
     "data": {
      "text/html": [
       "<div><i>Table length=0</i>\n",
       "<table id=\"table139847815438320\" class=\"table-striped table-bordered table-condensed\">\n",
       "<thead><tr><th>NIGHT</th><th>EXPID</th><th>TILEID</th><th>TILERA</th><th>TILEDEC</th><th>MJD</th><th>SURVEY</th><th>PROGRAM</th><th>FAPRGRM</th><th>FAFLAVOR</th><th>EXPTIME</th><th>EFFTIME_SPEC</th><th>GOALTIME</th><th>GOALTYPE</th><th>MINTFRAC</th><th>AIRMASS</th><th>EBV</th><th>SEEING_ETC</th><th>EFFTIME_ETC</th><th>TSNR2_ELG</th><th>TSNR2_QSO</th><th>TSNR2_LRG</th><th>TSNR2_LYA</th><th>TSNR2_BGS</th><th>TSNR2_GPBDARK</th><th>TSNR2_GPBBRIGHT</th><th>TSNR2_GPBBACKUP</th><th>LRG_EFFTIME_DARK</th><th>ELG_EFFTIME_DARK</th><th>BGS_EFFTIME_BRIGHT</th><th>LYA_EFFTIME_DARK</th><th>GPB_EFFTIME_DARK</th><th>GPB_EFFTIME_BRIGHT</th><th>GPB_EFFTIME_BACKUP</th><th>TRANSPARENCY_GFA</th><th>SEEING_GFA</th><th>FIBER_FRACFLUX_GFA</th><th>FIBER_FRACFLUX_ELG_GFA</th><th>FIBER_FRACFLUX_BGS_GFA</th><th>FIBERFAC_GFA</th><th>FIBERFAC_ELG_GFA</th><th>FIBERFAC_BGS_GFA</th><th>AIRMASS_GFA</th><th>SKY_MAG_AB_GFA</th><th>SKY_MAG_G_SPEC</th><th>SKY_MAG_R_SPEC</th><th>SKY_MAG_Z_SPEC</th><th>EFFTIME_GFA</th><th>EFFTIME_DARK_GFA</th><th>EFFTIME_BRIGHT_GFA</th><th>EFFTIME_BACKUP_GFA</th></tr></thead>\n",
       "<thead><tr><th>int32</th><th>int32</th><th>int32</th><th>float64</th><th>float64</th><th>float64</th><th>bytes7</th><th>bytes6</th><th>bytes19</th><th>bytes19</th><th>float64</th><th>float64</th><th>float64</th><th>bytes7</th><th>float64</th><th>float64</th><th>float64</th><th>float64</th><th>float64</th><th>float64</th><th>float64</th><th>float64</th><th>float64</th><th>float64</th><th>float64</th><th>float64</th><th>float64</th><th>float64</th><th>float64</th><th>float64</th><th>float64</th><th>float64</th><th>float64</th><th>float64</th><th>float64</th><th>float64</th><th>float64</th><th>float64</th><th>float64</th><th>float64</th><th>float64</th><th>float64</th><th>float64</th><th>float64</th><th>float64</th><th>float64</th><th>float64</th><th>float64</th><th>float64</th><th>float64</th><th>float64</th></tr></thead>\n",
       "</table></div>"
      ],
      "text/plain": [
       "<Table length=0>\n",
       "NIGHT EXPID TILEID ... EFFTIME_DARK_GFA EFFTIME_BRIGHT_GFA EFFTIME_BACKUP_GFA\n",
       "int32 int32 int32  ...     float64           float64            float64      \n",
       "----- ----- ------ ... ---------------- ------------------ ------------------"
      ]
     },
     "execution_count": 59,
     "metadata": {},
     "output_type": "execute_result"
    }
   ],
   "source": [
    "possible_expid_still_patchable = list()\n",
    "for c in daily_exposures_patched.colnames:\n",
    "    if hasattr(daily_exposures_patched[c], 'mask'):\n",
    "        if daily_exposures_patched[c].mask.any():\n",
    "            n_masked = daily_exposures_patched[c].mask.sum()\n",
    "            not_in_jura = [e in daily_not_in_jura for e in daily_exposures_patched['EXPID'][daily_exposures_patched[c].mask]]\n",
    "            if all(not_in_jura):\n",
    "                print(f\"Column {c} still has {n_masked:d} masked values, but the exposures are not in jura and cannot be patched.\")\n",
    "            else:\n",
    "                if c in can_patch:\n",
    "                    for e in daily_exposures_patched['EXPID'][daily_exposures_patched[c].mask]:\n",
    "                        if e not in daily_not_in_jura:\n",
    "                            possible_expid_still_patchable.append(int(e))\n",
    "                    print(f\"Column {c} still has {n_masked:d} masked values, and some exposures can still be patched.\")\n",
    "                else:\n",
    "                    print(f\"Column {c} still has {n_masked:d} masked values, and some exposures could still be patched, but they do not meet the patchable column guidelines.\")\n",
    "\n",
    "possible_expid_still_patchable = np.unique(np.array(possible_expid_still_patchable))\n",
    "daily_exposures_patched[np.in1d(daily_exposures_patched['EXPID'], possible_expid_still_patchable)]"
   ]
  },
  {
   "cell_type": "markdown",
   "id": "ed22c786-df96-47f7-b167-fac29e15d8c4",
   "metadata": {},
   "source": [
    "### Fill remaining masked values with zero."
   ]
  },
  {
   "cell_type": "code",
   "execution_count": 60,
   "id": "9b8e3874-fbf7-4fce-b31f-0c31218dc6c5",
   "metadata": {
    "tags": []
   },
   "outputs": [],
   "source": [
    "for c in daily_exposures_patched.colnames:\n",
    "    if hasattr(daily_exposures_patched[c], 'mask'):\n",
    "        if daily_exposures_patched[c].mask.any():\n",
    "            daily_exposures_patched[c][daily_exposures_patched[c].mask] = 0\n",
    "            daily_exposures_patched[c].mask[daily_exposures_patched[c].mask] = False"
   ]
  },
  {
   "cell_type": "markdown",
   "id": "f708faa2-36c4-4b2d-9a93-1c5b76b415d1",
   "metadata": {},
   "source": [
    "## Patch tiles\n",
    "\n",
    "Similar to the discussion above, we want `LASTNIGHT >= first_jura_night`."
   ]
  },
  {
   "cell_type": "code",
   "execution_count": 63,
   "id": "76fd512d-ee77-4e0f-b6c1-3ba5eb5d77c0",
   "metadata": {
    "tags": []
   },
   "outputs": [],
   "source": [
    "assert (np.unique(jura_exposures['TILEID']) == sorted(jura_tiles['TILEID'])).all()\n",
    "assert (np.unique(daily_exposures['TILEID']) == sorted(daily_tiles['TILEID'])).all()"
   ]
  },
  {
   "cell_type": "code",
   "execution_count": 64,
   "id": "7ccd960a-249f-4ea8-8e63-12ebc4aed7ec",
   "metadata": {},
   "outputs": [],
   "source": [
    "daily_tiles_join = Table()\n",
    "daily_tiles_join['TILEID'] = daily_tiles['TILEID']\n",
    "# daily_tiles_join['LASTNIGHT'] = daily_tiles['LASTNIGHT']\n",
    "# daily_tiles_join['EFFTIME_SPEC'] = daily_tiles['EFFTIME_SPEC']\n",
    "daily_tiles_join['DAILY_INDEX'] = np.arange(len(daily_tiles))"
   ]
  },
  {
   "cell_type": "code",
   "execution_count": 65,
   "id": "b36035cf-598f-4027-a9cd-a6fb0bb49d99",
   "metadata": {},
   "outputs": [],
   "source": [
    "jura_tiles_join = Table()\n",
    "jura_tiles_join['TILEID'] = jura_tiles['TILEID']\n",
    "jura_tiles_join['JURA_INDEX'] = np.arange(len(jura_tiles))"
   ]
  },
  {
   "cell_type": "code",
   "execution_count": 66,
   "id": "86da04ea-06f1-4a8c-8b8e-eace0d0f286e",
   "metadata": {},
   "outputs": [
    {
     "data": {
      "text/html": [
       "<div><i>Table length=15453</i>\n",
       "<table id=\"table139847797896816\" class=\"table-striped table-bordered table-condensed\">\n",
       "<thead><tr><th>TILEID</th><th>DAILY_INDEX</th><th>JURA_INDEX</th></tr></thead>\n",
       "<thead><tr><th>int64</th><th>int64</th><th>int64</th></tr></thead>\n",
       "<tr><td>1</td><td>432</td><td>202</td></tr>\n",
       "<tr><td>2</td><td>436</td><td>230</td></tr>\n",
       "<tr><td>3</td><td>471</td><td>267</td></tr>\n",
       "<tr><td>4</td><td>502</td><td>292</td></tr>\n",
       "<tr><td>5</td><td>533</td><td>321</td></tr>\n",
       "<tr><td>6</td><td>611</td><td>400</td></tr>\n",
       "<tr><td>7</td><td>736</td><td>476</td></tr>\n",
       "<tr><td>8</td><td>748</td><td>486</td></tr>\n",
       "<tr><td>9</td><td>779</td><td>513</td></tr>\n",
       "<tr><td>10</td><td>800</td><td>532</td></tr>\n",
       "<tr><td>...</td><td>...</td><td>...</td></tr>\n",
       "<tr><td>83464</td><td>14327</td><td>13833</td></tr>\n",
       "<tr><td>83465</td><td>14329</td><td>13832</td></tr>\n",
       "<tr><td>83466</td><td>14326</td><td>13838</td></tr>\n",
       "<tr><td>83467</td><td>14343</td><td>13847</td></tr>\n",
       "<tr><td>83468</td><td>14342</td><td>13839</td></tr>\n",
       "<tr><td>83472</td><td>14797</td><td>--</td></tr>\n",
       "<tr><td>83473</td><td>14875</td><td>--</td></tr>\n",
       "<tr><td>83476</td><td>15162</td><td>--</td></tr>\n",
       "<tr><td>83477</td><td>15163</td><td>--</td></tr>\n",
       "<tr><td>83478</td><td>15155</td><td>--</td></tr>\n",
       "</table></div>"
      ],
      "text/plain": [
       "<Table length=15453>\n",
       "TILEID DAILY_INDEX JURA_INDEX\n",
       "int64     int64      int64   \n",
       "------ ----------- ----------\n",
       "     1         432        202\n",
       "     2         436        230\n",
       "     3         471        267\n",
       "     4         502        292\n",
       "     5         533        321\n",
       "     6         611        400\n",
       "     7         736        476\n",
       "     8         748        486\n",
       "     9         779        513\n",
       "    10         800        532\n",
       "   ...         ...        ...\n",
       " 83464       14327      13833\n",
       " 83465       14329      13832\n",
       " 83466       14326      13838\n",
       " 83467       14343      13847\n",
       " 83468       14342      13839\n",
       " 83472       14797         --\n",
       " 83473       14875         --\n",
       " 83476       15162         --\n",
       " 83477       15163         --\n",
       " 83478       15155         --"
      ]
     },
     "execution_count": 66,
     "metadata": {},
     "output_type": "execute_result"
    }
   ],
   "source": [
    "j = join(daily_tiles_join, jura_tiles_join, join_type='outer', keys='TILEID')\n",
    "j"
   ]
  },
  {
   "cell_type": "code",
   "execution_count": 67,
   "id": "643b68a1-59b6-4030-a24a-04971f17b3c7",
   "metadata": {},
   "outputs": [],
   "source": [
    "# Apparently every tile in daily also appears in jura, so j['DAILY_INDEX'] doesn't need to be masked.\n",
    "daily_tiles_index = j[(~j['JURA_INDEX'].mask)]['DAILY_INDEX']\n",
    "jura_tiles_index = j[(~j['JURA_INDEX'].mask)]['JURA_INDEX']"
   ]
  },
  {
   "cell_type": "code",
   "execution_count": 68,
   "id": "070845fe-0ce6-4e1f-b7f6-da172c26da8a",
   "metadata": {
    "tags": []
   },
   "outputs": [
    {
     "data": {
      "text/html": [
       "<div><i>Table length=15453</i>\n",
       "<table id=\"table139847815432848\" class=\"table-striped table-bordered table-condensed\">\n",
       "<thead><tr><th>TILEID</th><th>SURVEY</th><th>PROGRAM</th><th>FAPRGRM</th><th>FAFLAVOR</th><th>NEXP</th><th>EXPTIME</th><th>TILERA</th><th>TILEDEC</th><th>EFFTIME_ETC</th><th>EFFTIME_SPEC</th><th>EFFTIME_GFA</th><th>GOALTIME</th><th>OBSSTATUS</th><th>LRG_EFFTIME_DARK</th><th>ELG_EFFTIME_DARK</th><th>BGS_EFFTIME_BRIGHT</th><th>LYA_EFFTIME_DARK</th><th>GOALTYPE</th><th>MINTFRAC</th><th>LASTNIGHT</th></tr></thead>\n",
       "<thead><tr><th>int64</th><th>str7</th><th>str6</th><th>str16</th><th>str19</th><th>int64</th><th>float64</th><th>float64</th><th>float64</th><th>float64</th><th>float64</th><th>float64</th><th>float64</th><th>str8</th><th>float64</th><th>float64</th><th>float64</th><th>float64</th><th>str7</th><th>float64</th><th>int64</th></tr></thead>\n",
       "<tr><td>70004</td><td>unknown</td><td>--</td><td>unknown</td><td>unknown</td><td>4</td><td>3600.0</td><td>116.0</td><td>20.7</td><td>0.0</td><td>3619.8</td><td>0.0</td><td>1000.0</td><td>obsend</td><td>3470.8</td><td>3619.8</td><td>3784.0</td><td>3056.6</td><td>unknown</td><td>0.9</td><td>20200219</td></tr>\n",
       "<tr><td>70508</td><td>unknown</td><td>--</td><td>unknown</td><td>unknown</td><td>6</td><td>1800.0</td><td>133.4125</td><td>11.6818</td><td>0.0</td><td>108.5</td><td>0.0</td><td>1000.0</td><td>obsstart</td><td>93.6</td><td>108.5</td><td>95.7</td><td>50.6</td><td>unknown</td><td>0.9</td><td>20200225</td></tr>\n",
       "<tr><td>70506</td><td>unknown</td><td>--</td><td>unknown</td><td>unknown</td><td>3</td><td>900.0</td><td>133.4125</td><td>11.6818</td><td>0.0</td><td>61.6</td><td>0.0</td><td>1000.0</td><td>obsstart</td><td>53.6</td><td>61.6</td><td>54.9</td><td>33.7</td><td>unknown</td><td>0.9</td><td>20200225</td></tr>\n",
       "<tr><td>70512</td><td>unknown</td><td>--</td><td>unknown</td><td>unknown</td><td>7</td><td>3150.0</td><td>132.85</td><td>12.32</td><td>0.0</td><td>389.8</td><td>0.0</td><td>1000.0</td><td>obsstart</td><td>351.9</td><td>389.8</td><td>364.7</td><td>227.2</td><td>unknown</td><td>0.9</td><td>20200226</td></tr>\n",
       "<tr><td>70514</td><td>unknown</td><td>--</td><td>unknown</td><td>unknown</td><td>16</td><td>1680.0</td><td>132.85</td><td>12.32</td><td>0.0</td><td>118.3</td><td>0.0</td><td>1000.0</td><td>obsstart</td><td>112.0</td><td>118.3</td><td>120.2</td><td>74.4</td><td>unknown</td><td>0.9</td><td>20200227</td></tr>\n",
       "<tr><td>70502</td><td>unknown</td><td>--</td><td>unknown</td><td>unknown</td><td>41</td><td>8415.0</td><td>180.0</td><td>-0.5</td><td>0.0</td><td>358.2</td><td>0.0</td><td>1000.0</td><td>obsstart</td><td>317.9</td><td>358.2</td><td>325.0</td><td>260.2</td><td>unknown</td><td>0.9</td><td>20200227</td></tr>\n",
       "<tr><td>70513</td><td>unknown</td><td>--</td><td>unknown</td><td>unknown</td><td>13</td><td>2220.0</td><td>133.42</td><td>11.65</td><td>0.0</td><td>3.7</td><td>0.0</td><td>1000.0</td><td>obsstart</td><td>3.4</td><td>3.7</td><td>3.5</td><td>2.5</td><td>unknown</td><td>0.9</td><td>20200229</td></tr>\n",
       "<tr><td>70500</td><td>unknown</td><td>--</td><td>unknown</td><td>unknown</td><td>14</td><td>7000.0</td><td>119.0</td><td>50.0</td><td>0.0</td><td>1389.0</td><td>0.0</td><td>1000.0</td><td>obsend</td><td>1145.4</td><td>1389.0</td><td>1160.5</td><td>770.4</td><td>unknown</td><td>0.9</td><td>20200303</td></tr>\n",
       "<tr><td>70005</td><td>unknown</td><td>--</td><td>unknown</td><td>unknown</td><td>17</td><td>13500.0</td><td>158.0</td><td>25.0</td><td>0.0</td><td>8463.1</td><td>0.0</td><td>1000.0</td><td>obsend</td><td>8088.5</td><td>8463.1</td><td>8858.6</td><td>9174.7</td><td>unknown</td><td>0.9</td><td>20200303</td></tr>\n",
       "<tr><td>70003</td><td>unknown</td><td>--</td><td>unknown</td><td>unknown</td><td>28</td><td>21670.0</td><td>214.75</td><td>53.4</td><td>0.0</td><td>18263.6</td><td>0.0</td><td>1000.0</td><td>obsend</td><td>17933.3</td><td>18263.6</td><td>19393.3</td><td>17007.0</td><td>unknown</td><td>0.9</td><td>20200304</td></tr>\n",
       "<tr><td>...</td><td>...</td><td>...</td><td>...</td><td>...</td><td>...</td><td>...</td><td>...</td><td>...</td><td>...</td><td>...</td><td>...</td><td>...</td><td>...</td><td>...</td><td>...</td><td>...</td><td>...</td><td>...</td><td>...</td><td>...</td></tr>\n",
       "<tr><td>40693</td><td>main</td><td>backup</td><td>backup</td><td>mainbackup</td><td>1</td><td>609.4</td><td>351.295</td><td>47.589</td><td>25.8</td><td>42.3</td><td>51.3</td><td>60.0</td><td>obsstart</td><td>28.7</td><td>31.5</td><td>32.3</td><td>29.7</td><td>backup</td><td>0.85</td><td>20240821</td></tr>\n",
       "<tr><td>40714</td><td>main</td><td>backup</td><td>backup</td><td>mainbackup</td><td>3</td><td>1410.6</td><td>6.874</td><td>54.818</td><td>60.2</td><td>66.4</td><td>117.6</td><td>60.0</td><td>obsend</td><td>69.7</td><td>83.7</td><td>72.4</td><td>17.9</td><td>backup</td><td>0.85</td><td>20240821</td></tr>\n",
       "<tr><td>41446</td><td>main</td><td>backup</td><td>backup</td><td>mainbackup</td><td>2</td><td>1214.6</td><td>56.987</td><td>28.71</td><td>24.6</td><td>40.4</td><td>56.1</td><td>60.0</td><td>obsstart</td><td>27.0</td><td>31.2</td><td>29.5</td><td>32.6</td><td>backup</td><td>0.85</td><td>20240821</td></tr>\n",
       "<tr><td>41453</td><td>main</td><td>backup</td><td>backup</td><td>mainbackup</td><td>2</td><td>1125.4</td><td>60.872</td><td>27.391</td><td>21.5</td><td>35.0</td><td>44.0</td><td>60.0</td><td>obsstart</td><td>25.2</td><td>30.4</td><td>26.6</td><td>21.6</td><td>backup</td><td>0.85</td><td>20240821</td></tr>\n",
       "<tr><td>41847</td><td>main</td><td>backup</td><td>backup</td><td>mainbackup</td><td>2</td><td>1231.3</td><td>44.848</td><td>47.346</td><td>37.8</td><td>53.2</td><td>73.2</td><td>60.0</td><td>obsend</td><td>49.2</td><td>56.5</td><td>52.4</td><td>16.2</td><td>backup</td><td>0.85</td><td>20240821</td></tr>\n",
       "<tr><td>42958</td><td>main</td><td>backup</td><td>backup</td><td>mainbackup</td><td>8</td><td>4844.3</td><td>35.967</td><td>73.209</td><td>12.9</td><td>23.6</td><td>9.1</td><td>60.0</td><td>obsstart</td><td>39.8</td><td>54.6</td><td>38.4</td><td>2.0</td><td>backup</td><td>0.85</td><td>20240821</td></tr>\n",
       "<tr><td>20801</td><td>main</td><td>bright</td><td>bright</td><td>mainbright</td><td>1</td><td>431.0</td><td>33.151</td><td>28.544</td><td>1.0</td><td>0.0</td><td>0.0</td><td>180.0</td><td>other</td><td>0.0</td><td>0.0</td><td>0.0</td><td>0.0</td><td>bright</td><td>0.85</td><td>20240821</td></tr>\n",
       "<tr><td>40172</td><td>main</td><td>backup</td><td>backup</td><td>mainbackup</td><td>3</td><td>1575.5</td><td>303.231</td><td>5.186</td><td>57.4</td><td>76.1</td><td>104.5</td><td>60.0</td><td>obsend</td><td>62.7</td><td>66.3</td><td>68.2</td><td>33.1</td><td>backup</td><td>0.85</td><td>20240821</td></tr>\n",
       "<tr><td>40664</td><td>main</td><td>backup</td><td>backup</td><td>mainbackup</td><td>4</td><td>2021.3</td><td>356.21</td><td>52.435</td><td>66.3</td><td>66.1</td><td>86.7</td><td>60.0</td><td>obsend</td><td>71.3</td><td>84.5</td><td>73.3</td><td>26.5</td><td>backup</td><td>0.85</td><td>20240821</td></tr>\n",
       "<tr><td>42997</td><td>main</td><td>backup</td><td>backup</td><td>mainbackup</td><td>8</td><td>4851.6</td><td>31.459</td><td>76.332</td><td>8.2</td><td>9.6</td><td>6.0</td><td>60.0</td><td>obsstart</td><td>14.5</td><td>18.9</td><td>14.5</td><td>0.9</td><td>backup</td><td>0.85</td><td>20240821</td></tr>\n",
       "</table></div>"
      ],
      "text/plain": [
       "<Table length=15453>\n",
       "TILEID  SURVEY PROGRAM FAPRGRM ... LYA_EFFTIME_DARK GOALTYPE MINTFRAC LASTNIGHT\n",
       "int64    str7    str6   str16  ...     float64        str7   float64    int64  \n",
       "------ ------- ------- ------- ... ---------------- -------- -------- ---------\n",
       " 70004 unknown      -- unknown ...           3056.6  unknown      0.9  20200219\n",
       " 70508 unknown      -- unknown ...             50.6  unknown      0.9  20200225\n",
       " 70506 unknown      -- unknown ...             33.7  unknown      0.9  20200225\n",
       " 70512 unknown      -- unknown ...            227.2  unknown      0.9  20200226\n",
       " 70514 unknown      -- unknown ...             74.4  unknown      0.9  20200227\n",
       " 70502 unknown      -- unknown ...            260.2  unknown      0.9  20200227\n",
       " 70513 unknown      -- unknown ...              2.5  unknown      0.9  20200229\n",
       " 70500 unknown      -- unknown ...            770.4  unknown      0.9  20200303\n",
       " 70005 unknown      -- unknown ...           9174.7  unknown      0.9  20200303\n",
       " 70003 unknown      -- unknown ...          17007.0  unknown      0.9  20200304\n",
       "   ...     ...     ...     ... ...              ...      ...      ...       ...\n",
       " 40693    main  backup  backup ...             29.7   backup     0.85  20240821\n",
       " 40714    main  backup  backup ...             17.9   backup     0.85  20240821\n",
       " 41446    main  backup  backup ...             32.6   backup     0.85  20240821\n",
       " 41453    main  backup  backup ...             21.6   backup     0.85  20240821\n",
       " 41847    main  backup  backup ...             16.2   backup     0.85  20240821\n",
       " 42958    main  backup  backup ...              2.0   backup     0.85  20240821\n",
       " 20801    main  bright  bright ...              0.0   bright     0.85  20240821\n",
       " 40172    main  backup  backup ...             33.1   backup     0.85  20240821\n",
       " 40664    main  backup  backup ...             26.5   backup     0.85  20240821\n",
       " 42997    main  backup  backup ...              0.9   backup     0.85  20240821"
      ]
     },
     "execution_count": 68,
     "metadata": {},
     "output_type": "execute_result"
    }
   ],
   "source": [
    "daily_tiles_patched = daily_tiles.copy()\n",
    "# for column in jura_tiles.colnames:\n",
    "# for column in ('TILEID', 'SURVEY', 'PROGRAM', 'FAPRGRM', 'FAFLAVOR', 'TILERA', 'TILEDEC', 'EFFTIME_ETC', 'EFFTIME_GFA', 'GOALTIME', 'GOALTYPE', 'MINTFRAC'):\n",
    "for column in ('PROGRAM', ):\n",
    "    daily_tiles_patched[column][daily_tiles_index] = jura_tiles[column][jura_tiles_index]\n",
    "    daily_tiles_patched[column].mask[daily_tiles_index] = False\n",
    "daily_tiles_patched"
   ]
  },
  {
   "cell_type": "markdown",
   "id": "c1b5a089-6d1a-41f3-8af1-b60051af9f1f",
   "metadata": {},
   "source": [
    "### After patching are there still missing data?\n",
    "\n",
    "Also does `GOALTYPE` actually need to be patched? Should we patch `EFFTIME_SPEC`?"
   ]
  },
  {
   "cell_type": "code",
   "execution_count": 69,
   "id": "ebf610ad-ca54-4545-b001-f32f37cd3c9e",
   "metadata": {
    "tags": []
   },
   "outputs": [
    {
     "data": {
      "text/html": [
       "<div><i>Table length=16</i>\n",
       "<table id=\"table139847815434528\" class=\"table-striped table-bordered table-condensed\">\n",
       "<thead><tr><th>TILEID</th><th>SURVEY</th><th>PROGRAM</th><th>FAPRGRM</th><th>FAFLAVOR</th><th>NEXP</th><th>EXPTIME</th><th>TILERA</th><th>TILEDEC</th><th>EFFTIME_ETC</th><th>EFFTIME_SPEC</th><th>EFFTIME_GFA</th><th>GOALTIME</th><th>OBSSTATUS</th><th>LRG_EFFTIME_DARK</th><th>ELG_EFFTIME_DARK</th><th>BGS_EFFTIME_BRIGHT</th><th>LYA_EFFTIME_DARK</th><th>GOALTYPE</th><th>MINTFRAC</th><th>LASTNIGHT</th></tr></thead>\n",
       "<thead><tr><th>int64</th><th>str7</th><th>str6</th><th>str16</th><th>str19</th><th>int64</th><th>float64</th><th>float64</th><th>float64</th><th>float64</th><th>float64</th><th>float64</th><th>float64</th><th>str8</th><th>float64</th><th>float64</th><th>float64</th><th>float64</th><th>str7</th><th>float64</th><th>int64</th></tr></thead>\n",
       "<tr><td>80713</td><td>sv1</td><td>--</td><td>m31</td><td>sv1m31</td><td>3</td><td>2700.2</td><td>10.17</td><td>41.38</td><td>0.0</td><td>758.6</td><td>771.8</td><td>1000.0</td><td>obsstart</td><td>727.8</td><td>758.6</td><td>789.8</td><td>645.0</td><td>unknown</td><td>0.9</td><td>20210110</td></tr>\n",
       "<tr><td>80715</td><td>sv1</td><td>--</td><td>m31</td><td>sv1m31</td><td>3</td><td>2700.1</td><td>10.17</td><td>41.38</td><td>0.0</td><td>1906.8</td><td>1827.2</td><td>1000.0</td><td>obsend</td><td>1914.5</td><td>1906.8</td><td>2150.1</td><td>2216.6</td><td>unknown</td><td>0.9</td><td>20210115</td></tr>\n",
       "<tr><td>80769</td><td>unknown</td><td>--</td><td>dithfocus</td><td>dithfocus</td><td>7</td><td>920.3</td><td>111.64</td><td>30.0</td><td>0.0</td><td>1.2</td><td>0.0</td><td>1000.0</td><td>obsstart</td><td>1.1</td><td>1.2</td><td>1.2</td><td>0.9</td><td>unknown</td><td>0.9</td><td>20210219</td></tr>\n",
       "<tr><td>80816</td><td>cmx</td><td>--</td><td>dithprec</td><td>dithprec</td><td>3</td><td>540.2</td><td>99.0</td><td>66.0</td><td>0.0</td><td>14.1</td><td>45.2</td><td>1000.0</td><td>obsstart</td><td>11.4</td><td>14.1</td><td>11.6</td><td>6.8</td><td>unknown</td><td>0.9</td><td>20210223</td></tr>\n",
       "<tr><td>80916</td><td>unknown</td><td>--</td><td>dithfocus</td><td>dithfocus</td><td>4</td><td>740.2</td><td>160.0</td><td>50.0</td><td>0.0</td><td>63.6</td><td>68.8</td><td>1000.0</td><td>obsstart</td><td>59.7</td><td>63.6</td><td>66.5</td><td>67.5</td><td>unknown</td><td>0.9</td><td>20210422</td></tr>\n",
       "<tr><td>82026</td><td>unknown</td><td>--</td><td>dithprec</td><td>dithprec</td><td>1</td><td>200.1</td><td>251.2</td><td>50.4</td><td>0.0</td><td>73.1</td><td>59.4</td><td>1000.0</td><td>obsstart</td><td>67.5</td><td>73.1</td><td>72.7</td><td>64.4</td><td>unknown</td><td>0.9</td><td>20210423</td></tr>\n",
       "<tr><td>82065</td><td>unknown</td><td>--</td><td>dithfocus</td><td>dithfocus</td><td>1</td><td>200.1</td><td>220.2</td><td>47.8</td><td>0.0</td><td>24.8</td><td>27.9</td><td>1000.0</td><td>obsstart</td><td>22.4</td><td>24.8</td><td>24.5</td><td>25.4</td><td>unknown</td><td>0.9</td><td>20210423</td></tr>\n",
       "<tr><td>82052</td><td>unknown</td><td>--</td><td>dithfocus</td><td>dithfocus</td><td>1</td><td>200.1</td><td>190.0</td><td>49.5</td><td>0.0</td><td>30.1</td><td>17.3</td><td>1000.0</td><td>obsstart</td><td>25.4</td><td>30.1</td><td>26.1</td><td>14.9</td><td>unknown</td><td>0.9</td><td>20210423</td></tr>\n",
       "<tr><td>81096</td><td>sv2</td><td>--</td><td>dark</td><td>sv2dark</td><td>1</td><td>1220.1</td><td>180.0</td><td>45.0</td><td>0.0</td><td>1193.2</td><td>973.8</td><td>1000.0</td><td>obsend</td><td>1111.7</td><td>1193.2</td><td>1234.4</td><td>1459.6</td><td>dark</td><td>0.9</td><td>20210429</td></tr>\n",
       "<tr><td>82039</td><td>unknown</td><td>--</td><td>dithprec</td><td>dithprec</td><td>3</td><td>580.2</td><td>279.0</td><td>50.0</td><td>0.0</td><td>159.6</td><td>131.6</td><td>1000.0</td><td>obsstart</td><td>149.0</td><td>159.6</td><td>158.6</td><td>105.8</td><td>unknown</td><td>0.9</td><td>20210529</td></tr>\n",
       "<tr><td>2786</td><td>main</td><td>--</td><td>dark</td><td>maindark</td><td>1</td><td>808.2</td><td>240.394</td><td>9.573</td><td>251.3</td><td>283.9</td><td>260.5</td><td>1000.0</td><td>retired</td><td>273.4</td><td>283.9</td><td>289.1</td><td>254.7</td><td>dark</td><td>0.85</td><td>20210627</td></tr>\n",
       "<tr><td>2704</td><td>main</td><td>--</td><td>dark</td><td>maindark</td><td>1</td><td>821.0</td><td>222.897</td><td>4.905</td><td>467.1</td><td>524.1</td><td>534.8</td><td>1000.0</td><td>retired</td><td>558.5</td><td>524.1</td><td>559.4</td><td>559.7</td><td>dark</td><td>0.85</td><td>20210627</td></tr>\n",
       "<tr><td>20307</td><td>main</td><td>--</td><td>bright</td><td>mainbright</td><td>1</td><td>448.3</td><td>346.874</td><td>30.797</td><td>62.8</td><td>59.7</td><td>71.8</td><td>180.0</td><td>retired</td><td>47.2</td><td>49.8</td><td>59.7</td><td>72.1</td><td>bright</td><td>0.85</td><td>20210707</td></tr>\n",
       "<tr><td>1825</td><td>main</td><td>--</td><td>dark</td><td>maindark</td><td>1</td><td>770.2</td><td>329.126</td><td>1.365</td><td>566.0</td><td>547.0</td><td>601.3</td><td>1000.0</td><td>retired</td><td>0.0</td><td>547.0</td><td>595.5</td><td>597.2</td><td>dark</td><td>0.85</td><td>20210708</td></tr>\n",
       "<tr><td>21273</td><td>main</td><td>--</td><td>bright</td><td>mainbright</td><td>1</td><td>534.4</td><td>344.455</td><td>2.172</td><td>113.1</td><td>132.8</td><td>149.9</td><td>180.0</td><td>retired</td><td>0.0</td><td>133.5</td><td>132.8</td><td>79.2</td><td>bright</td><td>0.85</td><td>20210708</td></tr>\n",
       "<tr><td>82248</td><td>cmx</td><td>--</td><td>posmapping</td><td>cmxposmapping</td><td>5</td><td>938.9</td><td>343.0</td><td>30.0</td><td>0.0</td><td>0.9</td><td>1.0</td><td>1000.0</td><td>obsstart</td><td>0.9</td><td>0.9</td><td>1.1</td><td>1.4</td><td>unknown</td><td>0.9</td><td>20210916</td></tr>\n",
       "</table></div>"
      ],
      "text/plain": [
       "<Table length=16>\n",
       "TILEID  SURVEY PROGRAM  FAPRGRM   ... GOALTYPE MINTFRAC LASTNIGHT\n",
       "int64    str7    str6    str16    ...   str7   float64    int64  \n",
       "------ ------- ------- ---------- ... -------- -------- ---------\n",
       " 80713     sv1      --        m31 ...  unknown      0.9  20210110\n",
       " 80715     sv1      --        m31 ...  unknown      0.9  20210115\n",
       " 80769 unknown      --  dithfocus ...  unknown      0.9  20210219\n",
       " 80816     cmx      --   dithprec ...  unknown      0.9  20210223\n",
       " 80916 unknown      --  dithfocus ...  unknown      0.9  20210422\n",
       " 82026 unknown      --   dithprec ...  unknown      0.9  20210423\n",
       " 82065 unknown      --  dithfocus ...  unknown      0.9  20210423\n",
       " 82052 unknown      --  dithfocus ...  unknown      0.9  20210423\n",
       " 81096     sv2      --       dark ...     dark      0.9  20210429\n",
       " 82039 unknown      --   dithprec ...  unknown      0.9  20210529\n",
       "  2786    main      --       dark ...     dark     0.85  20210627\n",
       "  2704    main      --       dark ...     dark     0.85  20210627\n",
       " 20307    main      --     bright ...   bright     0.85  20210707\n",
       "  1825    main      --       dark ...     dark     0.85  20210708\n",
       " 21273    main      --     bright ...   bright     0.85  20210708\n",
       " 82248     cmx      -- posmapping ...  unknown      0.9  20210916"
      ]
     },
     "execution_count": 69,
     "metadata": {},
     "output_type": "execute_result"
    }
   ],
   "source": [
    "missing_program = np.where((daily_tiles_patched['LASTNIGHT'] >= first_jura_night) & (daily_tiles_patched['EFFTIME_SPEC'] > 0) & (daily_tiles_patched['PROGRAM'].mask))[0]\n",
    "daily_tiles_patched[missing_program]"
   ]
  },
  {
   "cell_type": "markdown",
   "id": "27c9cc2d-c9fc-4393-964b-ce7296814590",
   "metadata": {},
   "source": [
    "## Write out the patched files"
   ]
  },
  {
   "cell_type": "code",
   "execution_count": 70,
   "id": "ac5fdfb7-4635-4e5e-ba2d-b77dd9603554",
   "metadata": {
    "tags": []
   },
   "outputs": [],
   "source": [
    "daily_tiles_patched.write(os.path.join(os.environ['DESI_ROOT'], 'users', os.environ['USER'], 'tiles-daily-patched-with-jura.csv'), format='ascii.csv', overwrite=True)"
   ]
  },
  {
   "cell_type": "code",
   "execution_count": 71,
   "id": "384e6030-fcc1-453e-b990-a34688f12494",
   "metadata": {
    "tags": []
   },
   "outputs": [],
   "source": [
    "daily_exposures_patched.write(os.path.join(os.environ['DESI_ROOT'], 'users', os.environ['USER'], 'exposures-daily-patched-with-jura.csv'), format='ascii.csv', overwrite=True)"
   ]
  },
  {
   "cell_type": "code",
   "execution_count": 72,
   "id": "26d7bad1-f89f-4cde-bfa1-a0cbcabcf866",
   "metadata": {
    "tags": []
   },
   "outputs": [],
   "source": [
    "daily_exposures_fits = fits.HDUList([fits.PrimaryHDU(), fits.table_to_hdu(daily_exposures_patched), fits.table_to_hdu(daily_frames_patched)])"
   ]
  },
  {
   "cell_type": "code",
   "execution_count": 73,
   "id": "d06fcfd7-c5d9-4d9c-9989-eb313c70bc07",
   "metadata": {
    "tags": []
   },
   "outputs": [
    {
     "name": "stdout",
     "output_type": "stream",
     "text": [
      "Filename: (No file associated with this HDUList)\n",
      "No.    Name      Ver    Type      Cards   Dimensions   Format\n",
      "  0  PRIMARY       1 PrimaryHDU       4   ()      \n",
      "  1  EXPOSURES     1 BinTableHDU    111   23895R x 51C   ['J', 'J', 'J', 'D', 'D', 'D', '7A', '6A', '19A', '19A', 'D', 'D', 'D', '7A', 'D', 'D', 'D', 'D', 'D', 'D', 'D', 'D', 'D', 'D', 'D', 'D', 'D', 'D', 'D', 'D', 'D', 'D', 'D', 'D', 'D', 'D', 'D', 'D', 'D', 'D', 'D', 'D', 'D', 'D', 'D', 'D', 'D', 'D', 'D', 'D', 'D']   \n",
      "  2  FRAMES        1 BinTableHDU     63   703435R x 27C   ['J', 'J', 'J', 'E', 'D', 'D', '2A', 'D', 'D', 'D', 'D', '7A', '7A', '19A', 'D', 'D', 'D', 'D', '19A', 'E', 'E', 'D', 'D', 'D', 'D', 'D', 'D']   \n"
     ]
    }
   ],
   "source": [
    "daily_exposures_fits.info()"
   ]
  },
  {
   "cell_type": "code",
   "execution_count": 74,
   "id": "d4e5751a-895b-4ca7-8c44-994a4d7d7524",
   "metadata": {
    "tags": []
   },
   "outputs": [],
   "source": [
    "daily_exposures_fits.writeto(os.path.join(os.environ['DESI_ROOT'], 'users', os.environ['USER'], 'exposures-daily-patched-with-jura.fits'), overwrite=True)"
   ]
  },
  {
   "cell_type": "code",
   "execution_count": null,
   "id": "1f2a17e0-074c-433d-9b45-a35d91cc6a93",
   "metadata": {},
   "outputs": [],
   "source": []
  }
 ],
 "metadata": {
  "kernelspec": {
   "display_name": "DESI custom",
   "language": "python",
   "name": "desi-custom"
  },
  "language_info": {
   "codemirror_mode": {
    "name": "ipython",
    "version": 3
   },
   "file_extension": ".py",
   "mimetype": "text/x-python",
   "name": "python",
   "nbconvert_exporter": "python",
   "pygments_lexer": "ipython3",
   "version": "3.10.14"
  }
 },
 "nbformat": 4,
 "nbformat_minor": 5
}
