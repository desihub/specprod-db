{
 "cells": [
  {
   "cell_type": "markdown",
   "id": "31725415-8b51-49d7-a2d6-7100227808d5",
   "metadata": {},
   "source": [
    "# Patch daily with jura"
   ]
  },
  {
   "cell_type": "code",
   "execution_count": 1,
   "id": "f220285b-75d0-4109-a5f5-3709bfaeed79",
   "metadata": {
    "tags": []
   },
   "outputs": [],
   "source": [
    "import os\n",
    "import numpy as np\n",
    "from astropy.table import Table, join\n",
    "from astropy.io import fits\n",
    "from specprodDB.util import cameraid"
   ]
  },
  {
   "cell_type": "code",
   "execution_count": 2,
   "id": "c2571c97-816c-4b12-a572-8e987c88b654",
   "metadata": {
    "tags": []
   },
   "outputs": [],
   "source": [
    "daily_tiles_file = os.path.join(os.environ['DESI_SPECTRO_REDUX'], 'daily', 'tiles-daily.csv')\n",
    "daily_exposures_file = os.path.join(os.environ['DESI_SPECTRO_REDUX'], 'daily', 'exposures-daily.fits')\n",
    "jura_tiles_file = os.path.join(os.environ['DESI_SPECTRO_REDUX'], 'jura', 'tiles-jura.csv')\n",
    "jura_exposures_file = os.path.join(os.environ['DESI_SPECTRO_REDUX'], 'jura', 'exposures-jura.fits')\n",
    "daily_tiles = Table.read(daily_tiles_file, format='ascii.csv')\n",
    "daily_exposures = Table.read(daily_exposures_file, format='fits', hdu='EXPOSURES')\n",
    "daily_frames = Table.read(daily_exposures_file, format='fits', hdu='FRAMES')\n",
    "jura_tiles = Table.read(jura_tiles_file, format='ascii.csv')\n",
    "jura_exposures = Table.read(jura_exposures_file, format='fits', hdu='EXPOSURES')\n",
    "jura_frames = Table.read(jura_exposures_file, format='fits', hdu='FRAMES')"
   ]
  },
  {
   "cell_type": "markdown",
   "id": "777a4cde-ab8e-4f24-aa31-323dbf819321",
   "metadata": {
    "tags": []
   },
   "source": [
    "## Find jura exposures not in daily, daily exposures not in jura"
   ]
  },
  {
   "cell_type": "code",
   "execution_count": 3,
   "id": "74d311b4-d697-4944-945a-d56a68d1a39e",
   "metadata": {
    "tags": []
   },
   "outputs": [],
   "source": [
    "assert (np.unique(jura_exposures['EXPID']) == sorted(jura_exposures['EXPID'])).all()\n",
    "assert (np.unique(daily_exposures['EXPID']) == sorted(daily_exposures['EXPID'])).all()\n",
    "assert (np.unique(jura_frames['EXPID']) == sorted(jura_exposures['EXPID'])).all()\n",
    "assert (np.unique(daily_frames['EXPID']) == sorted(daily_exposures['EXPID'])).all()"
   ]
  },
  {
   "cell_type": "code",
   "execution_count": 4,
   "id": "ca1d655b-e315-4e14-9fdc-5d31f5dadcb1",
   "metadata": {
    "tags": []
   },
   "outputs": [
    {
     "data": {
      "text/plain": [
       "(67710, 235203)"
      ]
     },
     "execution_count": 4,
     "metadata": {},
     "output_type": "execute_result"
    }
   ],
   "source": [
    "first_jura_exposure, last_jura_exposure = jura_exposures['EXPID'].min(), jura_exposures['EXPID'].max()\n",
    "first_jura_exposure, last_jura_exposure"
   ]
  },
  {
   "cell_type": "code",
   "execution_count": 5,
   "id": "29c2d15b-3247-4320-bba7-a9b4e9fcc398",
   "metadata": {
    "tags": []
   },
   "outputs": [
    {
     "data": {
      "text/plain": [
       "(20201214, 20240409)"
      ]
     },
     "execution_count": 5,
     "metadata": {},
     "output_type": "execute_result"
    }
   ],
   "source": [
    "first_jura_night = jura_exposures['NIGHT'][jura_exposures['EXPID'] == first_jura_exposure].min()\n",
    "last_jura_night = jura_exposures['NIGHT'][jura_exposures['EXPID'] == last_jura_exposure].max()\n",
    "first_jura_night, last_jura_night"
   ]
  },
  {
   "cell_type": "code",
   "execution_count": 6,
   "id": "51366113-4bfe-46e4-be86-dd4699cd2218",
   "metadata": {
    "tags": []
   },
   "outputs": [
    {
     "data": {
      "text/plain": [
       "(20201216, 20240409)"
      ]
     },
     "execution_count": 6,
     "metadata": {},
     "output_type": "execute_result"
    }
   ],
   "source": [
    "jura_tiles['LASTNIGHT'].min(), jura_tiles['LASTNIGHT'].max()"
   ]
  },
  {
   "cell_type": "code",
   "execution_count": 7,
   "id": "ded2208b-f17e-4c7f-aeff-3e7cca0f77a4",
   "metadata": {
    "tags": []
   },
   "outputs": [],
   "source": [
    "jura_expid_set = frozenset(jura_exposures['EXPID'].tolist())\n",
    "daily_expid_set = frozenset(daily_exposures['EXPID'].tolist())"
   ]
  },
  {
   "cell_type": "code",
   "execution_count": 8,
   "id": "473307c7-30f6-40ca-b297-3b927577d5b1",
   "metadata": {
    "tags": []
   },
   "outputs": [
    {
     "data": {
      "text/plain": [
       "frozenset({80478, 80681, 80688, 80691, 82603, 82622, 82625, 221977})"
      ]
     },
     "execution_count": 8,
     "metadata": {},
     "output_type": "execute_result"
    }
   ],
   "source": [
    "jura_not_in_daily = jura_expid_set - daily_expid_set\n",
    "jura_not_in_daily"
   ]
  },
  {
   "cell_type": "code",
   "execution_count": 9,
   "id": "879e049d-3aca-484b-80e3-5b06344077c5",
   "metadata": {
    "tags": []
   },
   "outputs": [],
   "source": [
    "daily_not_in_jura = daily_expid_set - jura_expid_set\n",
    "# daily_not_in_jura"
   ]
  },
  {
   "cell_type": "markdown",
   "id": "96e7d429-3edc-4f7e-9e66-0ce8e3c8dcec",
   "metadata": {},
   "source": [
    "## Patch frames\n",
    "\n",
    "We don't necessarily want to change the values in the `FRAMES` table, just make sure it is consistent with the `EXPOSURES` table."
   ]
  },
  {
   "cell_type": "code",
   "execution_count": 10,
   "id": "11f82181-9647-42e4-b05d-bd8427d20c9a",
   "metadata": {
    "tags": []
   },
   "outputs": [],
   "source": [
    "daily_frames_join = Table()\n",
    "daily_frames_join['FRAMEID'] = np.array([100*row['EXPID'] + cameraid(row['CAMERA']) for row in daily_frames])\n",
    "daily_frames_join['DAILY_INDEX'] = np.arange(len(daily_frames))"
   ]
  },
  {
   "cell_type": "code",
   "execution_count": 11,
   "id": "333dbff1-65b2-4e66-a35f-b1d2b34a05c4",
   "metadata": {
    "tags": []
   },
   "outputs": [],
   "source": [
    "jura_frames_join = Table()\n",
    "jura_frames_join['FRAMEID'] = np.array([100*row['EXPID'] + cameraid(row['CAMERA']) for row in jura_frames])\n",
    "jura_frames_join['JURA_INDEX'] = np.arange(len(jura_frames))"
   ]
  },
  {
   "cell_type": "code",
   "execution_count": 12,
   "id": "8d6ca37d-2350-47b6-8e90-5ab8b0cc01ad",
   "metadata": {
    "tags": []
   },
   "outputs": [],
   "source": [
    "j = join(daily_frames_join, jura_frames_join, join_type='outer', keys='FRAMEID')\n",
    "# j"
   ]
  },
  {
   "cell_type": "code",
   "execution_count": 13,
   "id": "32431f66-d899-490e-98ad-4d9c299f74d7",
   "metadata": {
    "tags": []
   },
   "outputs": [],
   "source": [
    "daily_frames_index = j[(~j['JURA_INDEX'].mask) & (~j['DAILY_INDEX'].mask)]['DAILY_INDEX']\n",
    "jura_frames_index = j[(~j['JURA_INDEX'].mask) & (~j['DAILY_INDEX'].mask)]['JURA_INDEX']"
   ]
  },
  {
   "cell_type": "code",
   "execution_count": 14,
   "id": "31e94315-0a93-454f-b228-7c10e14c22b1",
   "metadata": {
    "tags": []
   },
   "outputs": [],
   "source": [
    "daily_frames_patched = daily_frames.copy()\n",
    "# for column in jura_frames.colnames:\n",
    "    # jura does not have TSNR2_ALPHA\n",
    "    # daily_frames_patched[column][daily_frames_index] = jura_frames[column][jura_frames_index]\n",
    "# daily_frames_patched"
   ]
  },
  {
   "cell_type": "markdown",
   "id": "ca7c8da8-2c0b-45df-ab15-6f8aac0c9c6a",
   "metadata": {},
   "source": [
    "## Patch exposures\n",
    "\n",
    "We want to only *patch* and rows that:\n",
    "\n",
    "* Appear in `jura`.\n",
    "* Have `NIGHT >= first_jura_night`.\n",
    "* Have `EFFTIME_SPEC > 0`.\n",
    "\n",
    "We want to only *load* rows that:\n",
    "\n",
    "* Have `NIGHT >= first_jura_night`.\n",
    "* Have `EFFTIME_SPEC > 0`.\n",
    "\n",
    "which is slightly different. However we don't want to *remove* rows that *don't* satisfy these criteria."
   ]
  },
  {
   "cell_type": "code",
   "execution_count": 15,
   "id": "e800b0bf-3824-4b78-94e5-e1f3fdb1e9ef",
   "metadata": {
    "tags": []
   },
   "outputs": [],
   "source": [
    "daily_exposures_join = Table()\n",
    "daily_exposures_join['EXPID'] = daily_exposures['EXPID']\n",
    "daily_exposures_join['NIGHT'] = daily_exposures['NIGHT']\n",
    "daily_exposures_join['EFFTIME_SPEC'] = daily_exposures['EFFTIME_SPEC']\n",
    "daily_exposures_join['DAILY_INDEX'] = np.arange(len(daily_exposures))"
   ]
  },
  {
   "cell_type": "code",
   "execution_count": 16,
   "id": "933274c3-bc01-4287-ba1f-bf138d22c901",
   "metadata": {
    "tags": []
   },
   "outputs": [],
   "source": [
    "jura_exposures_join = Table()\n",
    "jura_exposures_join['EXPID'] = jura_exposures['EXPID']\n",
    "jura_exposures_join['JURA_INDEX'] = np.arange(len(jura_exposures))"
   ]
  },
  {
   "cell_type": "code",
   "execution_count": 17,
   "id": "6fec01f6-f4b2-443b-9763-c663375bae25",
   "metadata": {
    "tags": []
   },
   "outputs": [
    {
     "data": {
      "text/html": [
       "<div><i>Table length=23623</i>\n",
       "<table id=\"table139974194688304\" class=\"table-striped table-bordered table-condensed\">\n",
       "<thead><tr><th>EXPID</th><th>NIGHT</th><th>EFFTIME_SPEC</th><th>DAILY_INDEX</th><th>JURA_INDEX</th></tr></thead>\n",
       "<thead><tr><th>int32</th><th>int32</th><th>float64</th><th>int64</th><th>int64</th></tr></thead>\n",
       "<tr><td>50986</td><td>20200219</td><td>0.0</td><td>0</td><td>--</td></tr>\n",
       "<tr><td>50988</td><td>20200219</td><td>680.3945587158206</td><td>1</td><td>--</td></tr>\n",
       "<tr><td>50991</td><td>20200219</td><td>0.0</td><td>2</td><td>--</td></tr>\n",
       "<tr><td>50995</td><td>20200219</td><td>846.9120193481449</td><td>3</td><td>--</td></tr>\n",
       "<tr><td>51001</td><td>20200219</td><td>999.3838150024418</td><td>4</td><td>--</td></tr>\n",
       "<tr><td>51002</td><td>20200219</td><td>1093.0981079101566</td><td>5</td><td>--</td></tr>\n",
       "<tr><td>51028</td><td>20200219</td><td>0.0</td><td>6</td><td>--</td></tr>\n",
       "<tr><td>51029</td><td>20200219</td><td>0.0</td><td>7</td><td>--</td></tr>\n",
       "<tr><td>51030</td><td>20200219</td><td>1343.9888305664067</td><td>8</td><td>--</td></tr>\n",
       "<tr><td>51031</td><td>20200219</td><td>1274.8758575439458</td><td>9</td><td>--</td></tr>\n",
       "<tr><td>...</td><td>...</td><td>...</td><td>...</td><td>...</td></tr>\n",
       "<tr><td>246378</td><td>20240730</td><td>441.1727294921875</td><td>23605</td><td>--</td></tr>\n",
       "<tr><td>246379</td><td>20240730</td><td>1023.6906127929688</td><td>23606</td><td>--</td></tr>\n",
       "<tr><td>246380</td><td>20240730</td><td>1023.5914306640625</td><td>23607</td><td>--</td></tr>\n",
       "<tr><td>246381</td><td>20240730</td><td>1011.693115234375</td><td>23608</td><td>--</td></tr>\n",
       "<tr><td>246382</td><td>20240730</td><td>509.824951171875</td><td>23609</td><td>--</td></tr>\n",
       "<tr><td>246383</td><td>20240730</td><td>1069.3900146484375</td><td>23610</td><td>--</td></tr>\n",
       "<tr><td>246384</td><td>20240730</td><td>1058.1279296875</td><td>23611</td><td>--</td></tr>\n",
       "<tr><td>246385</td><td>20240730</td><td>232.43740844726562</td><td>23612</td><td>--</td></tr>\n",
       "<tr><td>246386</td><td>20240730</td><td>240.3481903076172</td><td>23613</td><td>--</td></tr>\n",
       "<tr><td>246387</td><td>20240730</td><td>162.53750610351562</td><td>23614</td><td>--</td></tr>\n",
       "</table></div>"
      ],
      "text/plain": [
       "<Table length=23623>\n",
       "EXPID   NIGHT      EFFTIME_SPEC    DAILY_INDEX JURA_INDEX\n",
       "int32   int32        float64          int64      int64   \n",
       "------ -------- ------------------ ----------- ----------\n",
       " 50986 20200219                0.0           0         --\n",
       " 50988 20200219  680.3945587158206           1         --\n",
       " 50991 20200219                0.0           2         --\n",
       " 50995 20200219  846.9120193481449           3         --\n",
       " 51001 20200219  999.3838150024418           4         --\n",
       " 51002 20200219 1093.0981079101566           5         --\n",
       " 51028 20200219                0.0           6         --\n",
       " 51029 20200219                0.0           7         --\n",
       " 51030 20200219 1343.9888305664067           8         --\n",
       " 51031 20200219 1274.8758575439458           9         --\n",
       "   ...      ...                ...         ...        ...\n",
       "246378 20240730  441.1727294921875       23605         --\n",
       "246379 20240730 1023.6906127929688       23606         --\n",
       "246380 20240730 1023.5914306640625       23607         --\n",
       "246381 20240730  1011.693115234375       23608         --\n",
       "246382 20240730   509.824951171875       23609         --\n",
       "246383 20240730 1069.3900146484375       23610         --\n",
       "246384 20240730    1058.1279296875       23611         --\n",
       "246385 20240730 232.43740844726562       23612         --\n",
       "246386 20240730  240.3481903076172       23613         --\n",
       "246387 20240730 162.53750610351562       23614         --"
      ]
     },
     "execution_count": 17,
     "metadata": {},
     "output_type": "execute_result"
    }
   ],
   "source": [
    "j = join(daily_exposures_join, jura_exposures_join, join_type='outer', keys='EXPID')\n",
    "j"
   ]
  },
  {
   "cell_type": "code",
   "execution_count": 18,
   "id": "83004567-d880-4ba6-968d-0555662ef9a2",
   "metadata": {
    "tags": []
   },
   "outputs": [],
   "source": [
    "daily_exposures_index = j[(~j['JURA_INDEX'].mask) & (~j['DAILY_INDEX'].mask) & (j['NIGHT'] >= first_jura_night) & (j['EFFTIME_SPEC'] > 0)]['DAILY_INDEX']\n",
    "jura_exposures_index = j[(~j['JURA_INDEX'].mask) & (~j['DAILY_INDEX'].mask)& (j['NIGHT'] >= first_jura_night) & (j['EFFTIME_SPEC'] > 0)]['JURA_INDEX']"
   ]
  },
  {
   "cell_type": "code",
   "execution_count": 19,
   "id": "a63345ad-5660-4f46-9940-60f13370312a",
   "metadata": {
    "tags": []
   },
   "outputs": [
    {
     "data": {
      "text/html": [
       "<div><i>Table length=23615</i>\n",
       "<table id=\"table139974194714304\" class=\"table-striped table-bordered table-condensed\">\n",
       "<thead><tr><th>NIGHT</th><th>EXPID</th><th>TILEID</th><th>TILERA</th><th>TILEDEC</th><th>MJD</th><th>SURVEY</th><th>PROGRAM</th><th>FAPRGRM</th><th>FAFLAVOR</th><th>EXPTIME</th><th>EFFTIME_SPEC</th><th>GOALTIME</th><th>GOALTYPE</th><th>MINTFRAC</th><th>AIRMASS</th><th>EBV</th><th>SEEING_ETC</th><th>EFFTIME_ETC</th><th>TSNR2_ELG</th><th>TSNR2_QSO</th><th>TSNR2_LRG</th><th>TSNR2_LYA</th><th>TSNR2_BGS</th><th>TSNR2_GPBDARK</th><th>TSNR2_GPBBRIGHT</th><th>TSNR2_GPBBACKUP</th><th>LRG_EFFTIME_DARK</th><th>ELG_EFFTIME_DARK</th><th>BGS_EFFTIME_BRIGHT</th><th>LYA_EFFTIME_DARK</th><th>GPB_EFFTIME_DARK</th><th>GPB_EFFTIME_BRIGHT</th><th>GPB_EFFTIME_BACKUP</th><th>TRANSPARENCY_GFA</th><th>SEEING_GFA</th><th>FIBER_FRACFLUX_GFA</th><th>FIBER_FRACFLUX_ELG_GFA</th><th>FIBER_FRACFLUX_BGS_GFA</th><th>FIBERFAC_GFA</th><th>FIBERFAC_ELG_GFA</th><th>FIBERFAC_BGS_GFA</th><th>AIRMASS_GFA</th><th>SKY_MAG_AB_GFA</th><th>SKY_MAG_G_SPEC</th><th>SKY_MAG_R_SPEC</th><th>SKY_MAG_Z_SPEC</th><th>EFFTIME_GFA</th><th>EFFTIME_DARK_GFA</th><th>EFFTIME_BRIGHT_GFA</th><th>EFFTIME_BACKUP_GFA</th></tr></thead>\n",
       "<thead><tr><th>int32</th><th>int32</th><th>int32</th><th>float64</th><th>float64</th><th>float64</th><th>bytes7</th><th>bytes6</th><th>bytes19</th><th>bytes19</th><th>float64</th><th>float64</th><th>float64</th><th>bytes7</th><th>float64</th><th>float64</th><th>float64</th><th>float64</th><th>float64</th><th>float64</th><th>float64</th><th>float64</th><th>float64</th><th>float64</th><th>float64</th><th>float64</th><th>float64</th><th>float64</th><th>float64</th><th>float64</th><th>float64</th><th>float64</th><th>float64</th><th>float64</th><th>float64</th><th>float64</th><th>float64</th><th>float64</th><th>float64</th><th>float64</th><th>float64</th><th>float64</th><th>float64</th><th>float64</th><th>float64</th><th>float64</th><th>float64</th><th>float64</th><th>float64</th><th>float64</th><th>float64</th></tr></thead>\n",
       "<tr><td>20200219</td><td>50986</td><td>63075</td><td>0.0</td><td>0.0</td><td>0.0</td><td>unknown</td><td>other</td><td>unknown</td><td>unknown</td><td>60.0</td><td>0.0</td><td>1000.0</td><td>unknown</td><td>0.9</td><td>1.043362</td><td>0.0942080095410347</td><td>0.0</td><td>0.0</td><td>0.0</td><td>0.0</td><td>0.0</td><td>0.0</td><td>0.0</td><td>0.0</td><td>0.0</td><td>0.0</td><td>0.0</td><td>0.0</td><td>0.0</td><td>0.0</td><td>0.0</td><td>0.0</td><td>0.0</td><td>0.0</td><td>0.0</td><td>0.0</td><td>0.0</td><td>0.0</td><td>0.0</td><td>0.0</td><td>0.0</td><td>0.0</td><td>0.0</td><td>0.0</td><td>0.0</td><td>0.0</td><td>0.0</td><td>0.0</td><td>0.0</td><td>0.0</td></tr>\n",
       "<tr><td>20200219</td><td>50988</td><td>70004</td><td>0.0</td><td>0.0</td><td>0.0</td><td>unknown</td><td>other</td><td>unknown</td><td>unknown</td><td>900.0</td><td>680.3945587158206</td><td>1000.0</td><td>unknown</td><td>0.9</td><td>1.104283</td><td>0.04696561396121979</td><td>0.0</td><td>0.0</td><td>79.11564636230469</td><td>19.950475692749023</td><td>54.666229248046875</td><td>57.56499099731445</td><td>5267.74755859375</td><td>0.0</td><td>0.0</td><td>0.0</td><td>664.2277979694464</td><td>680.3945587158206</td><td>737.484658203125</td><td>658.5295680370829</td><td>0.0</td><td>0.0</td><td>0.0</td><td>0.0</td><td>0.0</td><td>0.0</td><td>0.0</td><td>0.0</td><td>0.0</td><td>0.0</td><td>0.0</td><td>0.0</td><td>0.0</td><td>21.955594041629173</td><td>21.284226418609467</td><td>19.790755796726657</td><td>0.0</td><td>0.0</td><td>0.0</td><td>0.0</td></tr>\n",
       "<tr><td>20200219</td><td>50991</td><td>63075</td><td>0.0</td><td>0.0</td><td>0.0</td><td>unknown</td><td>other</td><td>unknown</td><td>unknown</td><td>60.0</td><td>0.0</td><td>1000.0</td><td>unknown</td><td>0.9</td><td>1.008076</td><td>0.0942080095410347</td><td>0.0</td><td>0.0</td><td>0.0</td><td>0.0</td><td>0.0</td><td>0.0</td><td>0.0</td><td>0.0</td><td>0.0</td><td>0.0</td><td>0.0</td><td>0.0</td><td>0.0</td><td>0.0</td><td>0.0</td><td>0.0</td><td>0.0</td><td>0.0</td><td>0.0</td><td>0.0</td><td>0.0</td><td>0.0</td><td>0.0</td><td>0.0</td><td>0.0</td><td>0.0</td><td>0.0</td><td>0.0</td><td>0.0</td><td>0.0</td><td>0.0</td><td>0.0</td><td>0.0</td><td>0.0</td></tr>\n",
       "<tr><td>20200219</td><td>50995</td><td>70004</td><td>0.0</td><td>0.0</td><td>0.0</td><td>unknown</td><td>other</td><td>unknown</td><td>unknown</td><td>900.0</td><td>846.9120193481449</td><td>1000.0</td><td>unknown</td><td>0.9</td><td>1.034227</td><td>0.04696561396121979</td><td>0.0</td><td>0.0</td><td>98.47814178466797</td><td>24.324670791625977</td><td>67.42870330810547</td><td>66.30667877197266</td><td>6406.125</td><td>0.0</td><td>0.0</td><td>0.0</td><td>819.299588326338</td><td>846.9120193481449</td><td>896.8575000000001</td><td>758.5323609573368</td><td>0.0</td><td>0.0</td><td>0.0</td><td>0.0</td><td>0.0</td><td>0.0</td><td>0.0</td><td>0.0</td><td>0.0</td><td>0.0</td><td>0.0</td><td>0.0</td><td>0.0</td><td>21.966302914201346</td><td>21.262359707846763</td><td>19.752054491279942</td><td>0.0</td><td>0.0</td><td>0.0</td><td>0.0</td></tr>\n",
       "<tr><td>20200219</td><td>51001</td><td>70004</td><td>0.0</td><td>0.0</td><td>0.0</td><td>unknown</td><td>other</td><td>unknown</td><td>unknown</td><td>900.0</td><td>999.3838150024418</td><td>1000.0</td><td>unknown</td><td>0.9</td><td>1.022479</td><td>0.04696561396121979</td><td>0.0</td><td>0.0</td><td>116.2074203491211</td><td>28.303956985473633</td><td>77.67794036865234</td><td>71.61495208740234</td><td>7325.822265625</td><td>0.0</td><td>0.0</td><td>0.0</td><td>943.8340268130958</td><td>999.3838150024418</td><td>1025.6151171875001</td><td>819.2577232456027</td><td>0.0</td><td>0.0</td><td>0.0</td><td>0.0</td><td>0.0</td><td>0.0</td><td>0.0</td><td>0.0</td><td>0.0</td><td>0.0</td><td>0.0</td><td>0.0</td><td>0.0</td><td>22.00288157116244</td><td>21.356993054425978</td><td>19.844414121595623</td><td>0.0</td><td>0.0</td><td>0.0</td><td>0.0</td></tr>\n",
       "<tr><td>20200219</td><td>51002</td><td>70004</td><td>0.0</td><td>0.0</td><td>0.0</td><td>unknown</td><td>other</td><td>unknown</td><td>unknown</td><td>900.0</td><td>1093.0981079101566</td><td>1000.0</td><td>unknown</td><td>0.9</td><td>1.034986</td><td>0.04696561396121979</td><td>0.0</td><td>0.0</td><td>127.10443115234375</td><td>30.669572830200195</td><td>85.87296295166016</td><td>71.7078628540039</td><td>8028.75</td><td>0.0</td><td>0.0</td><td>0.0</td><td>1043.4085151122983</td><td>1093.0981079101566</td><td>1124.025</td><td>820.3205999339526</td><td>0.0</td><td>0.0</td><td>0.0</td><td>0.0</td><td>0.0</td><td>0.0</td><td>0.0</td><td>0.0</td><td>0.0</td><td>0.0</td><td>0.0</td><td>0.0</td><td>0.0</td><td>22.021436962721946</td><td>21.35818612569135</td><td>19.888063776015954</td><td>0.0</td><td>0.0</td><td>0.0</td><td>0.0</td></tr>\n",
       "<tr><td>20200219</td><td>51028</td><td>70005</td><td>0.0</td><td>0.0</td><td>0.0</td><td>unknown</td><td>other</td><td>unknown</td><td>unknown</td><td>0.0</td><td>0.0</td><td>1000.0</td><td>unknown</td><td>0.9</td><td>1.02954</td><td>0.018338840454816818</td><td>0.0</td><td>0.0</td><td>0.0</td><td>0.0</td><td>0.0</td><td>0.0</td><td>0.0</td><td>0.0</td><td>0.0</td><td>0.0</td><td>0.0</td><td>0.0</td><td>0.0</td><td>0.0</td><td>0.0</td><td>0.0</td><td>0.0</td><td>0.0</td><td>0.0</td><td>0.0</td><td>0.0</td><td>0.0</td><td>0.0</td><td>0.0</td><td>0.0</td><td>0.0</td><td>0.0</td><td>0.0</td><td>0.0</td><td>0.0</td><td>0.0</td><td>0.0</td><td>0.0</td><td>0.0</td></tr>\n",
       "<tr><td>20200219</td><td>51029</td><td>70005</td><td>0.0</td><td>0.0</td><td>0.0</td><td>unknown</td><td>other</td><td>unknown</td><td>unknown</td><td>0.0</td><td>0.0</td><td>1000.0</td><td>unknown</td><td>0.9</td><td>1.025211</td><td>0.018338840454816818</td><td>0.0</td><td>0.0</td><td>0.0</td><td>0.0</td><td>0.0</td><td>0.0</td><td>0.0</td><td>0.0</td><td>0.0</td><td>0.0</td><td>0.0</td><td>0.0</td><td>0.0</td><td>0.0</td><td>0.0</td><td>0.0</td><td>0.0</td><td>0.0</td><td>0.0</td><td>0.0</td><td>0.0</td><td>0.0</td><td>0.0</td><td>0.0</td><td>0.0</td><td>0.0</td><td>0.0</td><td>0.0</td><td>0.0</td><td>0.0</td><td>0.0</td><td>0.0</td><td>0.0</td><td>0.0</td></tr>\n",
       "<tr><td>20200219</td><td>51030</td><td>70005</td><td>0.0</td><td>0.0</td><td>0.0</td><td>unknown</td><td>other</td><td>unknown</td><td>unknown</td><td>900.0</td><td>1343.9888305664067</td><td>1000.0</td><td>unknown</td><td>0.9</td><td>1.021381</td><td>0.018338840454816818</td><td>0.0</td><td>0.0</td><td>156.27777099609375</td><td>38.330753326416016</td><td>103.22396850585938</td><td>115.39551544189453</td><td>9775.427734375</td><td>0.0</td><td>0.0</td><td>0.0</td><td>1254.233742503177</td><td>1343.9888305664067</td><td>1368.5598828125</td><td>1320.0967744598886</td><td>0.0</td><td>0.0</td><td>0.0</td><td>0.0</td><td>0.0</td><td>0.0</td><td>0.0</td><td>0.0</td><td>0.0</td><td>0.0</td><td>0.0</td><td>0.0</td><td>0.0</td><td>22.086721773280537</td><td>21.420544538756392</td><td>19.89465601255312</td><td>0.0</td><td>0.0</td><td>0.0</td><td>0.0</td></tr>\n",
       "<tr><td>20200219</td><td>51031</td><td>70005</td><td>0.0</td><td>0.0</td><td>0.0</td><td>unknown</td><td>other</td><td>unknown</td><td>unknown</td><td>900.0</td><td>1274.8758575439458</td><td>1000.0</td><td>unknown</td><td>0.9</td><td>1.011203</td><td>0.018338840454816818</td><td>0.0</td><td>0.0</td><td>148.2413787841797</td><td>36.46641540527344</td><td>97.36178588867188</td><td>116.91536712646484</td><td>9226.1015625</td><td>0.0</td><td>0.0</td><td>0.0</td><td>1183.0046728440814</td><td>1274.8758575439458</td><td>1291.6542187500002</td><td>1337.483509973618</td><td>0.0</td><td>0.0</td><td>0.0</td><td>0.0</td><td>0.0</td><td>0.0</td><td>0.0</td><td>0.0</td><td>0.0</td><td>0.0</td><td>0.0</td><td>0.0</td><td>0.0</td><td>22.080598194447436</td><td>21.40015385586721</td><td>19.848699583634996</td><td>0.0</td><td>0.0</td><td>0.0</td><td>0.0</td></tr>\n",
       "<tr><td>...</td><td>...</td><td>...</td><td>...</td><td>...</td><td>...</td><td>...</td><td>...</td><td>...</td><td>...</td><td>...</td><td>...</td><td>...</td><td>...</td><td>...</td><td>...</td><td>...</td><td>...</td><td>...</td><td>...</td><td>...</td><td>...</td><td>...</td><td>...</td><td>...</td><td>...</td><td>...</td><td>...</td><td>...</td><td>...</td><td>...</td><td>...</td><td>...</td><td>...</td><td>...</td><td>...</td><td>...</td><td>...</td><td>...</td><td>...</td><td>...</td><td>...</td><td>...</td><td>...</td><td>...</td><td>...</td><td>...</td><td>...</td><td>...</td><td>...</td><td>...</td></tr>\n",
       "<tr><td>20240730</td><td>246378</td><td>10912</td><td>340.846</td><td>-8.388</td><td>60522.38378575</td><td>main</td><td>dark</td><td>dark</td><td>maindark</td><td>619.1697998046875</td><td>441.1727294921875</td><td>1000.0</td><td>dark</td><td>0.85</td><td>1.3165470361709595</td><td>0.047989290207624435</td><td>0.9440510272979736</td><td>483.2486267089844</td><td>49.972129821777344</td><td>13.630145072937012</td><td>36.30870056152344</td><td>35.43665034482255</td><td>3299.115234375</td><td>5296.93115234375</td><td>923.5020751953125</td><td>6359.810546875</td><td>441.1727294921875</td><td>429.7603454589844</td><td>461.8761291503906</td><td>418.1846864733069</td><td>444.046142578125</td><td>483.2496337890625</td><td>450.4367370605469</td><td>0.9680606190419044</td><td>0.9381644289505756</td><td>0.6675577133608988</td><td>0.4713678095337493</td><td>0.2138194314774376</td><td>1.0615990542559133</td><td>1.027865979371123</td><td>1.0118823084207105</td><td>1.3150959179926784</td><td>21.18424641013473</td><td>21.746775565778563</td><td>21.19750460997336</td><td>20.07584651554651</td><td>488.47878548847876</td><td>488.47878548847876</td><td>477.4760386320366</td><td>532.683638132892</td></tr>\n",
       "<tr><td>20240730</td><td>246379</td><td>7790</td><td>337.383</td><td>-10.687</td><td>60522.39234187</td><td>main</td><td>dark</td><td>dark</td><td>maindark</td><td>1247.8599853515625</td><td>1023.6906127929688</td><td>1000.0</td><td>dark</td><td>0.85</td><td>1.3595080375671387</td><td>0.052915140986442566</td><td>0.9706640243530273</td><td>1042.7479248046875</td><td>115.8001937866211</td><td>32.196510314941406</td><td>84.25016784667969</td><td>99.74932587817311</td><td>7430.3310546875</td><td>12421.6611328125</td><td>2115.40478515625</td><td>13967.322265625</td><td>1023.6906127929688</td><td>995.8817138671875</td><td>1040.246337890625</td><td>1177.1327188768023</td><td>1041.3182373046875</td><td>1106.94775390625</td><td>989.2424926757812</td><td>0.9893193281388531</td><td>0.9307233041676614</td><td>0.6712353601896872</td><td>0.4736434240256132</td><td>0.21493444963781505</td><td>1.0485013096249918</td><td>1.0144891161654384</td><td>1.0034030111565273</td><td>1.3643041567353933</td><td>21.166463328314606</td><td>21.69823733080282</td><td>21.17246497287049</td><td>20.019874714544684</td><td>1085.06701949145</td><td>1085.06701949145</td><td>1028.5115492967197</td><td>1071.611646705463</td></tr>\n",
       "<tr><td>20240730</td><td>246380</td><td>10910</td><td>344.207</td><td>-8.717</td><td>60522.40820759</td><td>main</td><td>dark</td><td>dark</td><td>maindark</td><td>1109.246826171875</td><td>1023.5914306640625</td><td>1000.0</td><td>dark</td><td>0.85</td><td>1.3180299997329712</td><td>0.0392402745783329</td><td>0.9395809769630432</td><td>1046.2276611328125</td><td>117.380615234375</td><td>32.8455924987793</td><td>84.24200439453125</td><td>100.79775744266809</td><td>7408.76708984375</td><td>12406.4560546875</td><td>2089.47412109375</td><td>13853.681640625</td><td>1023.5914306640625</td><td>1009.4733276367188</td><td>1037.2274169921875</td><td>1189.5051643766096</td><td>1040.0435791015625</td><td>1093.3787841796875</td><td>981.19384765625</td><td>0.9837560502005219</td><td>0.8664984147605612</td><td>0.682001304059983</td><td>0.47977027960964774</td><td>0.2170017897742823</td><td>1.0949210890286902</td><td>1.054623570185027</td><td>1.0343846311762106</td><td>1.320800127552384</td><td>21.094571488633857</td><td>21.689332123486693</td><td>21.195902239671092</td><td>20.110737793428918</td><td>1104.8716043052887</td><td>1104.8716043052887</td><td>1030.4797770453736</td><td>1103.6678485814466</td></tr>\n",
       "<tr><td>20240730</td><td>246381</td><td>10917</td><td>345.522</td><td>-11.76</td><td>60522.42243792</td><td>main</td><td>dark</td><td>dark</td><td>maindark</td><td>1122.812255859375</td><td>1011.693115234375</td><td>1000.0</td><td>dark</td><td>0.85</td><td>1.3876880407333374</td><td>0.04325112700462341</td><td>0.9356740117073059</td><td>1046.2069091796875</td><td>115.57283020019531</td><td>32.711631774902344</td><td>83.26277160644531</td><td>100.8872808707878</td><td>7336.94921875</td><td>12304.5615234375</td><td>2068.9892578125</td><td>13920.2890625</td><td>1011.693115234375</td><td>993.9263916015625</td><td>1027.1728515625</td><td>1190.5616222064546</td><td>1031.5015869140625</td><td>1082.6595458984375</td><td>985.911376953125</td><td>0.9936347147705791</td><td>0.8559770514581063</td><td>0.6708549221662126</td><td>0.4711840553178599</td><td>0.21281252146707985</td><td>1.142427785826987</td><td>1.0965817079019744</td><td>1.070433224705416</td><td>1.3953883045230766</td><td>21.151163443168404</td><td>21.63806941588647</td><td>21.16971269940324</td><td>20.16463492774087</td><td>1153.0168270665943</td><td>1153.0168270665943</td><td>1070.8227980060212</td><td>1173.7923191541215</td></tr>\n",
       "<tr><td>20240730</td><td>246382</td><td>4656</td><td>351.594</td><td>-9.316</td><td>60522.43682234</td><td>main</td><td>dark</td><td>dark</td><td>maindark</td><td>625.1672973632812</td><td>509.824951171875</td><td>1000.0</td><td>dark</td><td>0.85</td><td>1.3328609466552734</td><td>0.030591830611228943</td><td>0.901852011680603</td><td>523.0729370117188</td><td>58.17076873779297</td><td>16.01919937133789</td><td>41.95880889892578</td><td>41.53007129812613</td><td>3785.512939453125</td><td>6071.00341796875</td><td>1049.297607421875</td><td>7243.9775390625</td><td>509.824951171875</td><td>500.2686462402344</td><td>529.9718017578125</td><td>490.0925927260613</td><td>508.9372863769531</td><td>549.0758666992188</td><td>513.0582885742188</td><td>0.9646438762378204</td><td>0.8658724784828002</td><td>0.6878746446722405</td><td>0.483533558794687</td><td>0.21860029259178893</td><td>1.1050356834555584</td><td>1.0536301033990756</td><td>1.035064757501909</td><td>1.3363072508561982</td><td>21.109211207349162</td><td>21.648909790456692</td><td>21.201758586230493</td><td>20.295240521568296</td><td>556.7439760670363</td><td>556.7439760670363</td><td>541.3040309845758</td><td>624.002195728866</td></tr>\n",
       "<tr><td>20240730</td><td>246383</td><td>4653</td><td>349.534</td><td>-11.971</td><td>60522.44546106</td><td>main</td><td>dark</td><td>dark</td><td>maindark</td><td>1179.63037109375</td><td>1069.3900146484375</td><td>1000.0</td><td>dark</td><td>0.85</td><td>1.406682014465332</td><td>0.03199562430381775</td><td>0.8850650191307068</td><td>1052.6583251953125</td><td>122.66683197021484</td><td>33.92235565185547</td><td>88.01124572753906</td><td>94.20810743104667</td><td>7720.90771484375</td><td>12642.798828125</td><td>2142.811767578125</td><td>14350.6376953125</td><td>1069.3900146484375</td><td>1054.934814453125</td><td>1080.9271240234375</td><td>1111.74130415664</td><td>1059.8563232421875</td><td>1121.289306640625</td><td>1016.3909912109375</td><td>1.0048389005112313</td><td>0.8874768164214865</td><td>0.6491581427955608</td><td>0.4602199695545427</td><td>0.20775688763555605</td><td>1.0585259124709359</td><td>1.03061473885076</td><td>1.0090877068459534</td><td>1.4203220226529947</td><td>21.055256569126318</td><td>21.5848651299843</td><td>21.161165478210798</td><td>20.333099458898886</td><td>1118.1235364670927</td><td>1118.1235364670927</td><td>1043.66997938859</td><td>1104.0324931050204</td></tr>\n",
       "<tr><td>20240730</td><td>246384</td><td>4679</td><td>355.006</td><td>-9.665</td><td>60522.46050744</td><td>main</td><td>dark</td><td>dark</td><td>maindark</td><td>1117.6209716796875</td><td>1058.1279296875</td><td>1000.0</td><td>dark</td><td>0.85</td><td>1.3546639680862427</td><td>0.02975255623459816</td><td>0.849353015422821</td><td>1048.109375</td><td>121.52278900146484</td><td>34.104530334472656</td><td>87.0843734741211</td><td>94.55372311100363</td><td>7640.3232421875</td><td>12738.9228515625</td><td>2141.456787109375</td><td>14525.2685546875</td><td>1058.1279296875</td><td>1045.0960693359375</td><td>1069.645263671875</td><td>1115.8198833495567</td><td>1067.91455078125</td><td>1120.580322265625</td><td>1028.75927734375</td><td>0.9789596175132785</td><td>0.8271641806257845</td><td>0.6970265872383017</td><td>0.48883970279649447</td><td>0.22033873893017344</td><td>1.1137748235131741</td><td>1.0699503095817477</td><td>1.049196610518961</td><td>1.3664814825915195</td><td>21.07907790005207</td><td>21.52352373483466</td><td>21.13760623184547</td><td>20.305102147615287</td><td>1132.709338541409</td><td>1132.709338541409</td><td>1068.0479275380571</td><td>1169.6238718045377</td></tr>\n",
       "<tr><td>20240730</td><td>246385</td><td>24866</td><td>3.83</td><td>-7.012</td><td>60522.47487336</td><td>main</td><td>bright</td><td>bright</td><td>mainbright</td><td>364.4747009277344</td><td>232.43740844726562</td><td>180.0</td><td>bright</td><td>0.85</td><td>1.2912390232086182</td><td>0.038514770567417145</td><td>0.8020359873771667</td><td>218.7906951904297</td><td>25.080459594726562</td><td>6.9666595458984375</td><td>17.74033546447754</td><td>15.106907309405505</td><td>1660.2672119140625</td><td>2515.705078125</td><td>447.7630920410156</td><td>3493.44970703125</td><td>215.5558319091797</td><td>215.69195556640625</td><td>232.43740844726562</td><td>178.27523863829472</td><td>210.89364624023438</td><td>234.3052215576172</td><td>247.42530822753906</td><td>1.001046436756758</td><td>0.8409649956479666</td><td>0.6829615050079662</td><td>0.47887299104429804</td><td>0.21601991562033684</td><td>1.1287941015536664</td><td>1.0806399912568523</td><td>1.0556165533257067</td><td>1.2937984558081843</td><td>20.91750904197836</td><td>21.13299284335013</td><td>20.971608524525728</td><td>20.28509976864928</td><td>249.75012516574037</td><td>240.94961066736218</td><td>249.75012516574037</td><td>328.1043516860146</td></tr>\n",
       "<tr><td>20240730</td><td>246386</td><td>20144</td><td>7.987</td><td>-6.88</td><td>60522.48047065</td><td>main</td><td>bright</td><td>bright</td><td>mainbright</td><td>411.36737060546875</td><td>240.3481903076172</td><td>180.0</td><td>bright</td><td>0.85</td><td>1.2851790189743042</td><td>0.04186272993683815</td><td>0.7953320145606995</td><td>210.790771484375</td><td>26.83013343811035</td><td>7.1498703956604</td><td>18.21416473388672</td><td>12.34200659119524</td><td>1716.7728271484375</td><td>2518.908203125</td><td>452.0247497558594</td><td>3607.32568359375</td><td>221.31314086914062</td><td>230.73915100097656</td><td>240.3481903076172</td><td>145.6468968304886</td><td>211.16217041015625</td><td>236.53524780273438</td><td>255.49063110351562</td><td>1.0793258071201237</td><td>0.844984443940304</td><td>0.6562658078296506</td><td>0.4615881052059242</td><td>0.20860858962730228</td><td>1.1593910222000723</td><td>1.1106470172967995</td><td>1.0856978920908937</td><td>1.287188834681559</td><td>20.55003252130404</td><td>20.322232253368114</td><td>20.589541903325177</td><td>20.186978226647582</td><td>252.21413240809304</td><td>233.48497414308596</td><td>252.21413240809304</td><td>355.53504222981286</td></tr>\n",
       "<tr><td>20240730</td><td>246387</td><td>24856</td><td>8.613</td><td>-10.669</td><td>60522.48662334</td><td>main</td><td>bright</td><td>bright</td><td>mainbright</td><td>538.7693481445312</td><td>162.53750610351562</td><td>180.0</td><td>bright</td><td>0.85</td><td>1.363281011581421</td><td>0.02701910212635994</td><td>0.8434900045394897</td><td>130.64242553710938</td><td>19.922204971313477</td><td>5.045029640197754</td><td>11.877720832824707</td><td>7.127576639503241</td><td>1160.982177734375</td><td>1604.9432373046875</td><td>298.68194580078125</td><td>2778.65673828125</td><td>144.32150268554688</td><td>171.33096313476562</td><td>162.53750610351562</td><td>84.11188341170667</td><td>134.54373168945312</td><td>156.2941131591797</td><td>196.79974365234375</td><td>1.0031516756929997</td><td>0.8040388697329832</td><td>0.7246958082647235</td><td>0.5054145910703762</td><td>0.22655202962771886</td><td>1.1915488077202765</td><td>1.133636578511625</td><td>1.0996838341585176</td><td>1.3670629395487122</td><td>19.370177034009654</td><td>18.738702001695955</td><td>19.379586638459692</td><td>19.536950961156585</td><td>165.0054278466772</td><td>138.14962174529643</td><td>165.0054278466772</td><td>317.47622185937684</td></tr>\n",
       "</table></div>"
      ],
      "text/plain": [
       "<Table length=23615>\n",
       " NIGHT   EXPID  TILEID ... EFFTIME_BRIGHT_GFA EFFTIME_BACKUP_GFA\n",
       " int32   int32  int32  ...      float64            float64      \n",
       "-------- ------ ------ ... ------------------ ------------------\n",
       "20200219  50986  63075 ...                0.0                0.0\n",
       "20200219  50988  70004 ...                0.0                0.0\n",
       "20200219  50991  63075 ...                0.0                0.0\n",
       "20200219  50995  70004 ...                0.0                0.0\n",
       "20200219  51001  70004 ...                0.0                0.0\n",
       "20200219  51002  70004 ...                0.0                0.0\n",
       "20200219  51028  70005 ...                0.0                0.0\n",
       "20200219  51029  70005 ...                0.0                0.0\n",
       "20200219  51030  70005 ...                0.0                0.0\n",
       "20200219  51031  70005 ...                0.0                0.0\n",
       "     ...    ...    ... ...                ...                ...\n",
       "20240730 246378  10912 ...  477.4760386320366   532.683638132892\n",
       "20240730 246379   7790 ... 1028.5115492967197  1071.611646705463\n",
       "20240730 246380  10910 ... 1030.4797770453736 1103.6678485814466\n",
       "20240730 246381  10917 ... 1070.8227980060212 1173.7923191541215\n",
       "20240730 246382   4656 ...  541.3040309845758   624.002195728866\n",
       "20240730 246383   4653 ...   1043.66997938859 1104.0324931050204\n",
       "20240730 246384   4679 ... 1068.0479275380571 1169.6238718045377\n",
       "20240730 246385  24866 ... 249.75012516574037  328.1043516860146\n",
       "20240730 246386  20144 ... 252.21413240809304 355.53504222981286\n",
       "20240730 246387  24856 ...  165.0054278466772 317.47622185937684"
      ]
     },
     "execution_count": 19,
     "metadata": {},
     "output_type": "execute_result"
    }
   ],
   "source": [
    "daily_exposures_patched = daily_exposures.copy()\n",
    "# for column in jura_exposures.colnames:\n",
    "# for column in ('NIGHT', 'EXPID', 'TILEID', 'TILERA', 'TILEDEC', 'MJD', 'SURVEY', 'PROGRAM', 'FAPRGRM', 'FAFLAVOR', 'EXPTIME', 'GOALTIME', 'GOALTYPE', 'MINTFRAC', 'AIRMASS', 'EBV', 'SEEING_ETC', 'EFFTIME_ETC',\n",
    "#                'TRANSPARENCY_GFA', 'SEEING_GFA', 'FIBER_FRACFLUX_GFA', 'FIBER_FRACFLUX_ELG_GFA', 'FIBER_FRACFLUX_BGS_GFA', 'FIBERFAC_GFA', 'FIBERFAC_ELG_GFA', 'FIBERFAC_BGS_GFA', 'AIRMASS_GFA', 'SKY_MAG_AB_GFA',\n",
    "#                'EFFTIME_GFA', 'EFFTIME_DARK_GFA', 'EFFTIME_BRIGHT_GFA', 'EFFTIME_BACKUP_GFA'):\n",
    "for column in ('MJD', 'GOALTYPE'):\n",
    "    daily_exposures_patched[column][daily_exposures_index] = jura_exposures[column][jura_exposures_index]\n",
    "daily_exposures_patched"
   ]
  },
  {
   "cell_type": "markdown",
   "id": "f708faa2-36c4-4b2d-9a93-1c5b76b415d1",
   "metadata": {},
   "source": [
    "## Patch tiles\n",
    "\n",
    "Similar to the discussion above, we want `LASTNIGHT >= first_jura_night`."
   ]
  },
  {
   "cell_type": "code",
   "execution_count": 20,
   "id": "76fd512d-ee77-4e0f-b6c1-3ba5eb5d77c0",
   "metadata": {
    "tags": []
   },
   "outputs": [],
   "source": [
    "assert (np.unique(jura_exposures['TILEID']) == sorted(jura_tiles['TILEID'])).all()\n",
    "assert (np.unique(daily_exposures['TILEID']) == sorted(daily_tiles['TILEID'])).all()"
   ]
  },
  {
   "cell_type": "code",
   "execution_count": 21,
   "id": "7ccd960a-249f-4ea8-8e63-12ebc4aed7ec",
   "metadata": {},
   "outputs": [],
   "source": [
    "daily_tiles_join = Table()\n",
    "daily_tiles_join['TILEID'] = daily_tiles['TILEID']\n",
    "daily_tiles_join['LASTNIGHT'] = daily_tiles['LASTNIGHT']\n",
    "daily_tiles_join['EFFTIME_SPEC'] = daily_tiles['EFFTIME_SPEC']\n",
    "daily_tiles_join['DAILY_INDEX'] = np.arange(len(daily_tiles))"
   ]
  },
  {
   "cell_type": "code",
   "execution_count": 22,
   "id": "b36035cf-598f-4027-a9cd-a6fb0bb49d99",
   "metadata": {},
   "outputs": [],
   "source": [
    "jura_tiles_join = Table()\n",
    "jura_tiles_join['TILEID'] = jura_tiles['TILEID']\n",
    "jura_tiles_join['JURA_INDEX'] = np.arange(len(jura_tiles))"
   ]
  },
  {
   "cell_type": "code",
   "execution_count": 23,
   "id": "86da04ea-06f1-4a8c-8b8e-eace0d0f286e",
   "metadata": {},
   "outputs": [
    {
     "data": {
      "text/html": [
       "<div><i>Table length=15264</i>\n",
       "<table id=\"table139975048885728\" class=\"table-striped table-bordered table-condensed\">\n",
       "<thead><tr><th>TILEID</th><th>LASTNIGHT</th><th>EFFTIME_SPEC</th><th>DAILY_INDEX</th><th>JURA_INDEX</th></tr></thead>\n",
       "<thead><tr><th>int64</th><th>int64</th><th>float64</th><th>int64</th><th>int64</th></tr></thead>\n",
       "<tr><td>1</td><td>20210406</td><td>1646.8</td><td>415</td><td>202</td></tr>\n",
       "<tr><td>2</td><td>20210407</td><td>1331.7</td><td>446</td><td>230</td></tr>\n",
       "<tr><td>3</td><td>20210409</td><td>1424.4</td><td>482</td><td>267</td></tr>\n",
       "<tr><td>4</td><td>20210410</td><td>1459.8</td><td>498</td><td>292</td></tr>\n",
       "<tr><td>5</td><td>20210412</td><td>1372.6</td><td>530</td><td>321</td></tr>\n",
       "<tr><td>6</td><td>20210417</td><td>1507.4</td><td>613</td><td>400</td></tr>\n",
       "<tr><td>7</td><td>20210429</td><td>1325.9</td><td>739</td><td>476</td></tr>\n",
       "<tr><td>8</td><td>20210430</td><td>1635.7</td><td>765</td><td>486</td></tr>\n",
       "<tr><td>9</td><td>20210502</td><td>1342.7</td><td>789</td><td>513</td></tr>\n",
       "<tr><td>10</td><td>20210503</td><td>1336.9</td><td>809</td><td>532</td></tr>\n",
       "<tr><td>...</td><td>...</td><td>...</td><td>...</td><td>...</td></tr>\n",
       "<tr><td>83464</td><td>20240313</td><td>1099.3</td><td>14357</td><td>13833</td></tr>\n",
       "<tr><td>83465</td><td>20240313</td><td>1018.2</td><td>14360</td><td>13832</td></tr>\n",
       "<tr><td>83466</td><td>20240313</td><td>952.8</td><td>14361</td><td>13838</td></tr>\n",
       "<tr><td>83467</td><td>20240313</td><td>1002.9</td><td>14354</td><td>13847</td></tr>\n",
       "<tr><td>83468</td><td>20240313</td><td>1024.7</td><td>14346</td><td>13839</td></tr>\n",
       "<tr><td>83472</td><td>20240607</td><td>1005.1</td><td>14804</td><td>--</td></tr>\n",
       "<tr><td>83473</td><td>20240611</td><td>578.5</td><td>14899</td><td>--</td></tr>\n",
       "<tr><td>83476</td><td>20240712</td><td>1043.7</td><td>15190</td><td>--</td></tr>\n",
       "<tr><td>83477</td><td>20240712</td><td>1012.9</td><td>15186</td><td>--</td></tr>\n",
       "<tr><td>83478</td><td>20240712</td><td>980.2</td><td>15174</td><td>--</td></tr>\n",
       "</table></div>"
      ],
      "text/plain": [
       "<Table length=15264>\n",
       "TILEID LASTNIGHT EFFTIME_SPEC DAILY_INDEX JURA_INDEX\n",
       "int64    int64     float64       int64      int64   \n",
       "------ --------- ------------ ----------- ----------\n",
       "     1  20210406       1646.8         415        202\n",
       "     2  20210407       1331.7         446        230\n",
       "     3  20210409       1424.4         482        267\n",
       "     4  20210410       1459.8         498        292\n",
       "     5  20210412       1372.6         530        321\n",
       "     6  20210417       1507.4         613        400\n",
       "     7  20210429       1325.9         739        476\n",
       "     8  20210430       1635.7         765        486\n",
       "     9  20210502       1342.7         789        513\n",
       "    10  20210503       1336.9         809        532\n",
       "   ...       ...          ...         ...        ...\n",
       " 83464  20240313       1099.3       14357      13833\n",
       " 83465  20240313       1018.2       14360      13832\n",
       " 83466  20240313        952.8       14361      13838\n",
       " 83467  20240313       1002.9       14354      13847\n",
       " 83468  20240313       1024.7       14346      13839\n",
       " 83472  20240607       1005.1       14804         --\n",
       " 83473  20240611        578.5       14899         --\n",
       " 83476  20240712       1043.7       15190         --\n",
       " 83477  20240712       1012.9       15186         --\n",
       " 83478  20240712        980.2       15174         --"
      ]
     },
     "execution_count": 23,
     "metadata": {},
     "output_type": "execute_result"
    }
   ],
   "source": [
    "j = join(daily_tiles_join, jura_tiles_join, join_type='outer', keys='TILEID')\n",
    "j"
   ]
  },
  {
   "cell_type": "code",
   "execution_count": 24,
   "id": "643b68a1-59b6-4030-a24a-04971f17b3c7",
   "metadata": {},
   "outputs": [],
   "source": [
    "# Apparently every tile in daily also appears in jura, so j['DAILY_INDEX'] doesn't need to be masked.\n",
    "daily_tiles_index = j[(~j['JURA_INDEX'].mask) & (j['LASTNIGHT'] >= first_jura_night) & (j['EFFTIME_SPEC'] > 0)]['DAILY_INDEX']\n",
    "jura_tiles_index = j[(~j['JURA_INDEX'].mask) & (j['LASTNIGHT'] >= first_jura_night) & (j['EFFTIME_SPEC'] > 0)]['JURA_INDEX']"
   ]
  },
  {
   "cell_type": "code",
   "execution_count": 25,
   "id": "070845fe-0ce6-4e1f-b7f6-da172c26da8a",
   "metadata": {
    "tags": []
   },
   "outputs": [
    {
     "data": {
      "text/html": [
       "<div><i>Table length=15264</i>\n",
       "<table id=\"table139974194721936\" class=\"table-striped table-bordered table-condensed\">\n",
       "<thead><tr><th>TILEID</th><th>SURVEY</th><th>PROGRAM</th><th>FAPRGRM</th><th>FAFLAVOR</th><th>NEXP</th><th>EXPTIME</th><th>TILERA</th><th>TILEDEC</th><th>EFFTIME_ETC</th><th>EFFTIME_SPEC</th><th>EFFTIME_GFA</th><th>GOALTIME</th><th>OBSSTATUS</th><th>LRG_EFFTIME_DARK</th><th>ELG_EFFTIME_DARK</th><th>BGS_EFFTIME_BRIGHT</th><th>LYA_EFFTIME_DARK</th><th>GOALTYPE</th><th>MINTFRAC</th><th>LASTNIGHT</th></tr></thead>\n",
       "<thead><tr><th>int64</th><th>str7</th><th>str6</th><th>str16</th><th>str19</th><th>int64</th><th>float64</th><th>float64</th><th>float64</th><th>float64</th><th>float64</th><th>float64</th><th>float64</th><th>str8</th><th>float64</th><th>float64</th><th>float64</th><th>float64</th><th>str7</th><th>float64</th><th>int64</th></tr></thead>\n",
       "<tr><td>70004</td><td>unknown</td><td>--</td><td>unknown</td><td>unknown</td><td>4</td><td>3600.0</td><td>116.0</td><td>20.7</td><td>0.0</td><td>3619.8</td><td>0.0</td><td>1000.0</td><td>obsend</td><td>3470.8</td><td>3619.8</td><td>3784.0</td><td>3056.6</td><td>unknown</td><td>0.9</td><td>20200219</td></tr>\n",
       "<tr><td>70508</td><td>unknown</td><td>--</td><td>unknown</td><td>unknown</td><td>6</td><td>1800.0</td><td>133.4125</td><td>11.6818</td><td>0.0</td><td>108.5</td><td>0.0</td><td>1000.0</td><td>obsstart</td><td>93.6</td><td>108.5</td><td>95.7</td><td>50.6</td><td>unknown</td><td>0.9</td><td>20200225</td></tr>\n",
       "<tr><td>70506</td><td>unknown</td><td>--</td><td>unknown</td><td>unknown</td><td>3</td><td>900.0</td><td>133.4125</td><td>11.6818</td><td>0.0</td><td>61.6</td><td>0.0</td><td>1000.0</td><td>obsstart</td><td>53.6</td><td>61.6</td><td>54.9</td><td>33.7</td><td>unknown</td><td>0.9</td><td>20200225</td></tr>\n",
       "<tr><td>70512</td><td>unknown</td><td>--</td><td>unknown</td><td>unknown</td><td>7</td><td>3150.0</td><td>132.85</td><td>12.32</td><td>0.0</td><td>389.8</td><td>0.0</td><td>1000.0</td><td>obsstart</td><td>351.9</td><td>389.8</td><td>364.7</td><td>227.2</td><td>unknown</td><td>0.9</td><td>20200226</td></tr>\n",
       "<tr><td>70514</td><td>unknown</td><td>--</td><td>unknown</td><td>unknown</td><td>16</td><td>1680.0</td><td>132.85</td><td>12.32</td><td>0.0</td><td>118.3</td><td>0.0</td><td>1000.0</td><td>obsstart</td><td>112.0</td><td>118.3</td><td>120.2</td><td>74.4</td><td>unknown</td><td>0.9</td><td>20200227</td></tr>\n",
       "<tr><td>70502</td><td>unknown</td><td>--</td><td>unknown</td><td>unknown</td><td>41</td><td>8415.0</td><td>180.0</td><td>-0.5</td><td>0.0</td><td>358.2</td><td>0.0</td><td>1000.0</td><td>obsstart</td><td>317.9</td><td>358.2</td><td>325.0</td><td>260.2</td><td>unknown</td><td>0.9</td><td>20200227</td></tr>\n",
       "<tr><td>70513</td><td>unknown</td><td>--</td><td>unknown</td><td>unknown</td><td>13</td><td>2220.0</td><td>133.42</td><td>11.65</td><td>0.0</td><td>3.7</td><td>0.0</td><td>1000.0</td><td>obsstart</td><td>3.4</td><td>3.7</td><td>3.5</td><td>2.5</td><td>unknown</td><td>0.9</td><td>20200229</td></tr>\n",
       "<tr><td>70500</td><td>unknown</td><td>--</td><td>unknown</td><td>unknown</td><td>14</td><td>7000.0</td><td>119.0</td><td>50.0</td><td>0.0</td><td>1389.0</td><td>0.0</td><td>1000.0</td><td>obsend</td><td>1145.4</td><td>1389.0</td><td>1160.5</td><td>770.4</td><td>unknown</td><td>0.9</td><td>20200303</td></tr>\n",
       "<tr><td>70005</td><td>unknown</td><td>--</td><td>unknown</td><td>unknown</td><td>17</td><td>13500.0</td><td>158.0</td><td>25.0</td><td>0.0</td><td>8463.1</td><td>0.0</td><td>1000.0</td><td>obsend</td><td>8088.5</td><td>8463.1</td><td>8858.6</td><td>9174.7</td><td>unknown</td><td>0.9</td><td>20200303</td></tr>\n",
       "<tr><td>70510</td><td>unknown</td><td>--</td><td>unknown</td><td>unknown</td><td>74</td><td>7596.1</td><td>195.0</td><td>29.0</td><td>0.0</td><td>2218.6</td><td>0.0</td><td>1000.0</td><td>obsend</td><td>1904.1</td><td>2218.6</td><td>1947.6</td><td>1117.0</td><td>unknown</td><td>0.9</td><td>20200304</td></tr>\n",
       "<tr><td>...</td><td>...</td><td>...</td><td>...</td><td>...</td><td>...</td><td>...</td><td>...</td><td>...</td><td>...</td><td>...</td><td>...</td><td>...</td><td>...</td><td>...</td><td>...</td><td>...</td><td>...</td><td>...</td><td>...</td><td>...</td></tr>\n",
       "<tr><td>9329</td><td>main</td><td>dark</td><td>dark</td><td>maindark</td><td>1</td><td>911.2</td><td>270.753</td><td>59.552</td><td>1074.0</td><td>964.2</td><td>1131.4</td><td>1000.0</td><td>obsend</td><td>964.2</td><td>904.5</td><td>951.0</td><td>1188.6</td><td>dark</td><td>0.85</td><td>20240730</td></tr>\n",
       "<tr><td>10912</td><td>main</td><td>dark</td><td>dark</td><td>maindark</td><td>2</td><td>1389.9</td><td>340.846</td><td>-8.388</td><td>1104.8</td><td>1006.5</td><td>1111.8</td><td>1000.0</td><td>obsend</td><td>1006.5</td><td>986.9</td><td>1043.2</td><td>971.1</td><td>dark</td><td>0.85</td><td>20240730</td></tr>\n",
       "<tr><td>10917</td><td>main</td><td>dark</td><td>dark</td><td>maindark</td><td>1</td><td>1122.8</td><td>345.522</td><td>-11.76</td><td>1046.2</td><td>1011.7</td><td>1153.0</td><td>1000.0</td><td>obsend</td><td>1011.7</td><td>993.9</td><td>1027.2</td><td>1190.6</td><td>dark</td><td>0.85</td><td>20240730</td></tr>\n",
       "<tr><td>20144</td><td>main</td><td>bright</td><td>bright</td><td>mainbright</td><td>2</td><td>800.8</td><td>7.987</td><td>-6.88</td><td>218.0</td><td>240.3</td><td>252.2</td><td>180.0</td><td>obsend</td><td>221.3</td><td>230.7</td><td>240.3</td><td>145.6</td><td>bright</td><td>0.85</td><td>20240730</td></tr>\n",
       "<tr><td>24856</td><td>main</td><td>bright</td><td>bright</td><td>mainbright</td><td>1</td><td>538.8</td><td>8.613</td><td>-10.669</td><td>130.6</td><td>162.5</td><td>165.0</td><td>180.0</td><td>obsend</td><td>144.3</td><td>171.3</td><td>162.5</td><td>84.1</td><td>bright</td><td>0.85</td><td>20240730</td></tr>\n",
       "<tr><td>24866</td><td>main</td><td>bright</td><td>bright</td><td>mainbright</td><td>1</td><td>364.5</td><td>3.83</td><td>-7.012</td><td>218.8</td><td>232.4</td><td>249.8</td><td>180.0</td><td>obsend</td><td>215.6</td><td>215.7</td><td>232.4</td><td>178.3</td><td>bright</td><td>0.85</td><td>20240730</td></tr>\n",
       "<tr><td>1506</td><td>main</td><td>dark</td><td>dark</td><td>maindark</td><td>1</td><td>1058.8</td><td>288.844</td><td>63.378</td><td>1051.8</td><td>999.1</td><td>1152.4</td><td>1000.0</td><td>obsend</td><td>999.1</td><td>953.0</td><td>978.9</td><td>1077.7</td><td>dark</td><td>0.85</td><td>20240730</td></tr>\n",
       "<tr><td>4893</td><td>main</td><td>dark</td><td>dark</td><td>maindark</td><td>1</td><td>754.9</td><td>255.323</td><td>38.954</td><td>1080.3</td><td>1014.8</td><td>1156.5</td><td>1000.0</td><td>obsend</td><td>1014.8</td><td>956.0</td><td>997.6</td><td>1504.7</td><td>dark</td><td>0.85</td><td>20240730</td></tr>\n",
       "<tr><td>26702</td><td>main</td><td>bright</td><td>bright</td><td>mainbright</td><td>1</td><td>592.1</td><td>255.527</td><td>8.123</td><td>207.6</td><td>233.2</td><td>261.7</td><td>180.0</td><td>obsend</td><td>220.4</td><td>216.3</td><td>233.2</td><td>164.8</td><td>bright</td><td>0.85</td><td>20240730</td></tr>\n",
       "<tr><td>26707</td><td>main</td><td>bright</td><td>bright</td><td>mainbright</td><td>1</td><td>598.8</td><td>253.242</td><td>2.276</td><td>192.8</td><td>205.3</td><td>230.7</td><td>180.0</td><td>obsend</td><td>184.3</td><td>196.3</td><td>205.3</td><td>160.0</td><td>bright</td><td>0.85</td><td>20240730</td></tr>\n",
       "</table></div>"
      ],
      "text/plain": [
       "<Table length=15264>\n",
       "TILEID  SURVEY PROGRAM FAPRGRM ... LYA_EFFTIME_DARK GOALTYPE MINTFRAC LASTNIGHT\n",
       "int64    str7    str6   str16  ...     float64        str7   float64    int64  \n",
       "------ ------- ------- ------- ... ---------------- -------- -------- ---------\n",
       " 70004 unknown      -- unknown ...           3056.6  unknown      0.9  20200219\n",
       " 70508 unknown      -- unknown ...             50.6  unknown      0.9  20200225\n",
       " 70506 unknown      -- unknown ...             33.7  unknown      0.9  20200225\n",
       " 70512 unknown      -- unknown ...            227.2  unknown      0.9  20200226\n",
       " 70514 unknown      -- unknown ...             74.4  unknown      0.9  20200227\n",
       " 70502 unknown      -- unknown ...            260.2  unknown      0.9  20200227\n",
       " 70513 unknown      -- unknown ...              2.5  unknown      0.9  20200229\n",
       " 70500 unknown      -- unknown ...            770.4  unknown      0.9  20200303\n",
       " 70005 unknown      -- unknown ...           9174.7  unknown      0.9  20200303\n",
       " 70510 unknown      -- unknown ...           1117.0  unknown      0.9  20200304\n",
       "   ...     ...     ...     ... ...              ...      ...      ...       ...\n",
       "  9329    main    dark    dark ...           1188.6     dark     0.85  20240730\n",
       " 10912    main    dark    dark ...            971.1     dark     0.85  20240730\n",
       " 10917    main    dark    dark ...           1190.6     dark     0.85  20240730\n",
       " 20144    main  bright  bright ...            145.6   bright     0.85  20240730\n",
       " 24856    main  bright  bright ...             84.1   bright     0.85  20240730\n",
       " 24866    main  bright  bright ...            178.3   bright     0.85  20240730\n",
       "  1506    main    dark    dark ...           1077.7     dark     0.85  20240730\n",
       "  4893    main    dark    dark ...           1504.7     dark     0.85  20240730\n",
       " 26702    main  bright  bright ...            164.8   bright     0.85  20240730\n",
       " 26707    main  bright  bright ...            160.0   bright     0.85  20240730"
      ]
     },
     "execution_count": 25,
     "metadata": {},
     "output_type": "execute_result"
    }
   ],
   "source": [
    "daily_tiles_patched = daily_tiles.copy()\n",
    "# for column in jura_tiles.colnames:\n",
    "# for column in ('TILEID', 'SURVEY', 'PROGRAM', 'FAPRGRM', 'FAFLAVOR', 'TILERA', 'TILEDEC', 'EFFTIME_ETC', 'EFFTIME_GFA', 'GOALTIME', 'GOALTYPE', 'MINTFRAC'):\n",
    "for column in ('PROGRAM', 'GOALTYPE'):\n",
    "    daily_tiles_patched[column][daily_tiles_index] = jura_tiles[column][jura_tiles_index]\n",
    "daily_tiles_patched"
   ]
  },
  {
   "cell_type": "markdown",
   "id": "27c9cc2d-c9fc-4393-964b-ce7296814590",
   "metadata": {},
   "source": [
    "## Write out the patched files"
   ]
  },
  {
   "cell_type": "code",
   "execution_count": 26,
   "id": "ac5fdfb7-4635-4e5e-ba2d-b77dd9603554",
   "metadata": {
    "tags": []
   },
   "outputs": [],
   "source": [
    "daily_tiles_patched.write(os.path.join(os.environ['DESI_ROOT'], 'users', os.environ['USER'], 'tiles-daily-patched-with-jura.csv'), format='ascii.csv', overwrite=True)"
   ]
  },
  {
   "cell_type": "code",
   "execution_count": 27,
   "id": "384e6030-fcc1-453e-b990-a34688f12494",
   "metadata": {
    "tags": []
   },
   "outputs": [],
   "source": [
    "daily_exposures_patched.write(os.path.join(os.environ['DESI_ROOT'], 'users', os.environ['USER'], 'exposures-daily-patched-with-jura.csv'), format='ascii.csv', overwrite=True)"
   ]
  },
  {
   "cell_type": "code",
   "execution_count": 28,
   "id": "26d7bad1-f89f-4cde-bfa1-a0cbcabcf866",
   "metadata": {
    "tags": []
   },
   "outputs": [],
   "source": [
    "daily_exposures_fits = fits.HDUList([fits.PrimaryHDU(), fits.table_to_hdu(daily_exposures_patched), fits.table_to_hdu(daily_frames_patched)])"
   ]
  },
  {
   "cell_type": "code",
   "execution_count": 29,
   "id": "d06fcfd7-c5d9-4d9c-9989-eb313c70bc07",
   "metadata": {
    "tags": []
   },
   "outputs": [
    {
     "name": "stdout",
     "output_type": "stream",
     "text": [
      "Filename: (No file associated with this HDUList)\n",
      "No.    Name      Ver    Type      Cards   Dimensions   Format\n",
      "  0  PRIMARY       1 PrimaryHDU       4   ()      \n",
      "  1  EXPOSURES     1 BinTableHDU    111   23615R x 51C   ['J', 'J', 'J', 'D', 'D', 'D', '7A', '6A', '19A', '19A', 'D', 'D', 'D', '7A', 'D', 'D', 'D', 'D', 'D', 'D', 'D', 'D', 'D', 'D', 'D', 'D', 'D', 'D', 'D', 'D', 'D', 'D', 'D', 'D', 'D', 'D', 'D', 'D', 'D', 'D', 'D', 'D', 'D', 'D', 'D', 'D', 'D', 'D', 'D', 'D', 'D']   \n",
      "  2  FRAMES        1 BinTableHDU     63   695107R x 27C   ['J', 'J', 'J', 'E', 'D', 'D', '2A', 'D', 'D', 'D', 'D', '7A', '7A', '19A', 'D', 'D', 'D', 'D', '19A', 'E', 'E', 'D', 'D', 'D', 'D', 'D', 'D']   \n"
     ]
    }
   ],
   "source": [
    "daily_exposures_fits.info()"
   ]
  },
  {
   "cell_type": "code",
   "execution_count": 30,
   "id": "d4e5751a-895b-4ca7-8c44-994a4d7d7524",
   "metadata": {
    "tags": []
   },
   "outputs": [],
   "source": [
    "daily_exposures_fits.writeto(os.path.join(os.environ['DESI_ROOT'], 'users', os.environ['USER'], 'exposures-daily-patched-with-jura.fits'), overwrite=True)"
   ]
  },
  {
   "cell_type": "code",
   "execution_count": null,
   "id": "1f2a17e0-074c-433d-9b45-a35d91cc6a93",
   "metadata": {},
   "outputs": [],
   "source": []
  }
 ],
 "metadata": {
  "kernelspec": {
   "display_name": "DESI custom",
   "language": "python",
   "name": "desi-custom"
  },
  "language_info": {
   "codemirror_mode": {
    "name": "ipython",
    "version": 3
   },
   "file_extension": ".py",
   "mimetype": "text/x-python",
   "name": "python",
   "nbconvert_exporter": "python",
   "pygments_lexer": "ipython3",
   "version": "3.10.14"
  }
 },
 "nbformat": 4,
 "nbformat_minor": 5
}
