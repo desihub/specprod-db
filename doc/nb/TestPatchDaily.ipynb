{
 "cells": [
  {
   "cell_type": "markdown",
   "id": "31725415-8b51-49d7-a2d6-7100227808d5",
   "metadata": {},
   "source": [
    "# Patch daily with jura or kibo"
   ]
  },
  {
   "cell_type": "code",
   "execution_count": null,
   "id": "f220285b-75d0-4109-a5f5-3709bfaeed79",
   "metadata": {
    "tags": []
   },
   "outputs": [],
   "source": [
    "import os\n",
    "import datetime\n",
    "import pytz\n",
    "import numpy as np\n",
    "from unittest.mock import patch\n",
    "from astropy.table import Table, join\n",
    "from astropy.io import fits\n",
    "# from desispec.io import read_table\n",
    "from desiutil.log import get_logger, DEBUG\n",
    "from desispec.io.meta import faflavor2program\n",
    "from specprodDB.util import cameraid\n",
    "import specprodDB.patch as p"
   ]
  },
  {
   "cell_type": "code",
   "execution_count": null,
   "id": "3d9291ce-ae1b-4196-8d9b-f6069f353828",
   "metadata": {
    "tags": []
   },
   "outputs": [],
   "source": [
    "with patch('sys.argv', ['patch_specprod', '--source', 'kibo', '--destination', 'daily', '--overwrite', os.environ['SCRATCH']]):\n",
    "    options = p.get_options()\n",
    "log = get_logger(DEBUG)\n",
    "src, dst = p.get_data(options)"
   ]
  },
  {
   "cell_type": "markdown",
   "id": "1c9487e7-9b9d-4790-80ac-912104091180",
   "metadata": {
    "tags": []
   },
   "source": [
    "## QA on SURVEY, PROGRAM"
   ]
  },
  {
   "cell_type": "markdown",
   "id": "522008bd-0ee9-4d41-93bc-acc5e25d0e29",
   "metadata": {},
   "source": [
    "## Do some QA on patch specprod"
   ]
  },
  {
   "cell_type": "code",
   "execution_count": null,
   "id": "dea48f18-e8f9-4019-a041-7e49938e67bd",
   "metadata": {
    "tags": []
   },
   "outputs": [],
   "source": [
    "for c in src['frames'].colnames:\n",
    "    if hasattr(src['frames'][c], 'mask'):\n",
    "        print(c)"
   ]
  },
  {
   "cell_type": "code",
   "execution_count": null,
   "id": "0f0d2992-50fe-458b-954a-5402d5d7fc6c",
   "metadata": {
    "tags": []
   },
   "outputs": [],
   "source": [
    "src['frames']['MJD'].min()"
   ]
  },
  {
   "cell_type": "code",
   "execution_count": null,
   "id": "36e4cecb-64ac-4dc0-ac90-23b9a332a46e",
   "metadata": {
    "tags": []
   },
   "outputs": [],
   "source": [
    "src_exposures_bad_rows = list()\n",
    "bad_columns = list()\n",
    "for c in src['exposures'].colnames:\n",
    "    if hasattr(src['exposures'][c], 'mask'):\n",
    "        print(c)\n",
    "        bad_columns.append(c)\n",
    "        src_exposures_bad_rows.append(np.where(src['exposures'][c].mask)[0])\n",
    "    elif src['exposures'][c].dtype.kind == 'f' and not np.isfinite(src['exposures'][c]).all():\n",
    "        print(c)\n",
    "        bad_columns.append(c)\n",
    "        src_exposures_bad_rows.append(np.where(~np.isfinite(src['exposures'][c]))[0])\n",
    "    else:\n",
    "        pass\n",
    "src_exposures_bad_rows\n",
    "# src_exposures_bad_rows = np.unique(np.hstack(src_exposures_bad_rows))\n",
    "# src['exposures'][src_exposures_bad_rows]"
   ]
  },
  {
   "cell_type": "markdown",
   "id": "27390294-d3ee-4227-9811-1d580cac1a45",
   "metadata": {},
   "source": [
    "### All exposures for the tiles that contain bad exposures"
   ]
  },
  {
   "cell_type": "code",
   "execution_count": null,
   "id": "27fc0c27-f5d1-41b9-bf28-f7ae4c1aadae",
   "metadata": {
    "tags": []
   },
   "outputs": [],
   "source": [
    "src_exposures_bad_tiles = np.in1d(src['exposures']['TILEID'], src['exposures']['TILEID'][src_exposures_bad_rows])\n",
    "src['exposures'][src_exposures_bad_tiles]"
   ]
  },
  {
   "cell_type": "code",
   "execution_count": null,
   "id": "c0bc9051-03d4-4d2e-90bc-bfa7503975e4",
   "metadata": {
    "tags": []
   },
   "outputs": [],
   "source": [
    "src_tiles_bad_rows = np.in1d(src['tiles']['TILEID'], src['exposures']['TILEID'][src_exposures_bad_rows])\n",
    "src['tiles'][src_tiles_bad_rows]"
   ]
  },
  {
   "cell_type": "markdown",
   "id": "1b969ba8-784e-40b2-98c5-440a24633c90",
   "metadata": {},
   "source": [
    "### Consistency of SURVEY, PROGRAM, etc."
   ]
  },
  {
   "cell_type": "code",
   "execution_count": null,
   "id": "fec068e2-85d6-412c-8557-206f38a9a40d",
   "metadata": {
    "tags": []
   },
   "outputs": [],
   "source": [
    "for row in src['tiles']:\n",
    "    w = np.where(src['exposures']['TILEID'] == row['TILEID'])[0]\n",
    "    for c in ('SURVEY', 'PROGRAM', 'FAPRGRM', 'FAFLAVOR', 'GOALTYPE'):\n",
    "        assert (src['exposures'][c][w] == row[c]).all()"
   ]
  },
  {
   "cell_type": "code",
   "execution_count": null,
   "id": "b17dd4e1-5d9f-4f29-b71f-c968050f8ed4",
   "metadata": {
    "tags": []
   },
   "outputs": [],
   "source": [
    "for row in src['exposures']:\n",
    "    w = np.where(src['frames']['EXPID'] == row['EXPID'])[0]\n",
    "    for c in ('SURVEY', 'PROGRAM', 'FAPRGRM', 'FAFLAVOR', 'GOALTYPE'):\n",
    "        if c in src['frames'].colnames:\n",
    "            assert (src['frames'][c][w] == row[c]).all()"
   ]
  },
  {
   "cell_type": "markdown",
   "id": "777a4cde-ab8e-4f24-aa31-323dbf819321",
   "metadata": {
    "tags": []
   },
   "source": [
    "## Find patch exposures not in daily, daily exposures not in patch"
   ]
  },
  {
   "cell_type": "code",
   "execution_count": null,
   "id": "74d311b4-d697-4944-945a-d56a68d1a39e",
   "metadata": {
    "tags": []
   },
   "outputs": [],
   "source": [
    "assert (np.unique(src['exposures']['EXPID']) == sorted(src['exposures']['EXPID'])).all()\n",
    "assert (np.unique(dst['exposures']['EXPID']) == sorted(dst['exposures']['EXPID'])).all()\n",
    "assert (np.unique(src['frames']['EXPID']) == sorted(src['exposures']['EXPID'])).all()\n",
    "assert (np.unique(dst['frames']['EXPID']) == sorted(dst['exposures']['EXPID'])).all()"
   ]
  },
  {
   "cell_type": "code",
   "execution_count": null,
   "id": "ca1d655b-e315-4e14-9fdc-5d31f5dadcb1",
   "metadata": {
    "tags": []
   },
   "outputs": [],
   "source": [
    "first_src_exposure, last_src_exposure = src['exposures']['EXPID'].min(), src['exposures']['EXPID'].max()\n",
    "first_src_exposure, last_src_exposure"
   ]
  },
  {
   "cell_type": "code",
   "execution_count": null,
   "id": "29c2d15b-3247-4320-bba7-a9b4e9fcc398",
   "metadata": {
    "tags": []
   },
   "outputs": [],
   "source": [
    "first_src_night = src['exposures']['NIGHT'][src['exposures']['EXPID'] == first_src_exposure].min()\n",
    "last_src_night = src['exposures']['NIGHT'][src['exposures']['EXPID'] == last_src_exposure].max()\n",
    "first_src_night, last_src_night"
   ]
  },
  {
   "cell_type": "code",
   "execution_count": null,
   "id": "51366113-4bfe-46e4-be86-dd4699cd2218",
   "metadata": {
    "tags": []
   },
   "outputs": [],
   "source": [
    "src['tiles']['LASTNIGHT'].min(), src['tiles']['LASTNIGHT'].max()"
   ]
  },
  {
   "cell_type": "code",
   "execution_count": null,
   "id": "ded2208b-f17e-4c7f-aeff-3e7cca0f77a4",
   "metadata": {
    "tags": []
   },
   "outputs": [],
   "source": [
    "src_expid_set = frozenset(src['exposures']['EXPID'].tolist())\n",
    "dst_expid_set = frozenset(dst['exposures']['EXPID'].tolist())"
   ]
  },
  {
   "cell_type": "code",
   "execution_count": null,
   "id": "473307c7-30f6-40ca-b297-3b927577d5b1",
   "metadata": {
    "tags": []
   },
   "outputs": [],
   "source": [
    "src_not_in_dst = src_expid_set - dst_expid_set\n",
    "src_not_in_dst"
   ]
  },
  {
   "cell_type": "code",
   "execution_count": null,
   "id": "879e049d-3aca-484b-80e3-5b06344077c5",
   "metadata": {
    "tags": []
   },
   "outputs": [],
   "source": [
    "dst_not_in_src = dst_expid_set - src_expid_set\n",
    "# dst_not_in_src"
   ]
  },
  {
   "cell_type": "markdown",
   "id": "96e7d429-3edc-4f7e-9e66-0ce8e3c8dcec",
   "metadata": {},
   "source": [
    "## Perform initial patching and QA"
   ]
  },
  {
   "cell_type": "code",
   "execution_count": null,
   "id": "11f82181-9647-42e4-b05d-bd8427d20c9a",
   "metadata": {
    "tags": []
   },
   "outputs": [],
   "source": [
    "timestamp = datetime.datetime.now(tz=pytz.timezone('US/Pacific'))\n",
    "ymd = timestamp.strftime('%Y%m%d')\n",
    "patched = dict()\n",
    "patched['tiles_file'] = os.path.join(options.output, f'tiles-{options.dst}-patched-with-{options.src}-{ymd}.csv')\n",
    "patched['exposures_file'] = os.path.join(options.output, f'exposures-{options.dst}-patched-with-{options.src}-{ymd}.fits')\n",
    "patched['frames'] = p.patch_frames(src['frames'], dst['frames'])\n",
    "patched['exposures'] = p.patch_exposures(src['exposures'], dst['exposures'])\n",
    "patched['frames'] = p.patch_missing_frames_mjd(patched['exposures'], patched['frames'])\n",
    "patched['tiles'] = p.patch_tiles(src['tiles'], dst['tiles'], timestamp)\n",
    "back_exposures, back_tiles = p.back_patch_inconsistent_values(patched)\n",
    "patched['exposures'] = p.patch_exposures_efftime_spec(src['exposures'], patched['exposures'], patched['tiles'])"
   ]
  },
  {
   "cell_type": "markdown",
   "id": "7f126e49-1ebc-40a6-a9c7-2d340783047c",
   "metadata": {},
   "source": [
    "## Analyze tiles that are candidates for loading\n",
    "\n",
    "Note, 20201214: Earliest night in `jura`/`kibo`."
   ]
  },
  {
   "cell_type": "code",
   "execution_count": null,
   "id": "12b33463-0eaf-4531-b96d-3e8e2d18682c",
   "metadata": {
    "tags": []
   },
   "outputs": [],
   "source": [
    "candidate_tiles = patched['tiles'][(patched['tiles']['LASTNIGHT'] >= 20201214) & (patched['tiles']['EFFTIME_SPEC'] > 0)]"
   ]
  },
  {
   "cell_type": "code",
   "execution_count": null,
   "id": "36d1c46a-5d10-45a1-96ee-698030dff465",
   "metadata": {
    "tags": []
   },
   "outputs": [],
   "source": [
    "for new_tile in candidate_tiles:\n",
    "    row_index = np.where((patched['exposures']['TILEID'] == new_tile['TILEID']) & (patched['exposures']['EFFTIME_SPEC'] > 0))[0]\n",
    "    if len(row_index) == 0:\n",
    "        print(\"ERROR: No valid exposures found for tile {0:d}, even though EFFTIME_SPEC == {1:f}!\".format(new_tile['TILEID'], new_tile['EFFTIME_SPEC']))\n",
    "        bad_index = np.where((patched['exposures']['TILEID'] == new_tile['TILEID']))[0]\n",
    "        print(patched['exposures'][['TILEID', 'EXPID', 'NIGHT', 'SURVEY', 'PROGRAM', 'FAPRGRM', 'FAFLAVOR', 'EFFTIME_SPEC']][bad_index])\n",
    "        w = np.in1d(src['exposures']['EXPID'], patched['exposures']['EXPID'][bad_index])\n",
    "        n_src = w.sum()\n",
    "        print(src['exposures'][['TILEID', 'EXPID', 'NIGHT', 'SURVEY', 'PROGRAM', 'FAPRGRM', 'FAFLAVOR', 'EFFTIME_SPEC']][w])\n",
    "        if n_src == 0:\n",
    "            print(\"ERROR: Tile {0:d} cannot be patched with upstream data.\".format(new_tile['TILEID']))\n",
    "        elif n_src == len(bad_index):\n",
    "            print(\"INFO: Tile {0:d} can be fully patched with upstream data.\".format(new_tile['TILEID']))\n",
    "        elif n_src < len(bad_index):\n",
    "            print(\"WARNING: Tile {0:d} can be partially patched with upstream data.\".format(new_tile['TILEID']))\n",
    "        else:\n",
    "            print(\"CRITICAL: This is weird.\")\n",
    "        print('+++++++++++++++++++++++++++++++++++++++++++++++++++++++++++++++++++++')"
   ]
  },
  {
   "cell_type": "code",
   "execution_count": null,
   "id": "e6c7934f-f87e-4567-adb2-4e8f7c1197f6",
   "metadata": {},
   "outputs": [],
   "source": []
  }
 ],
 "metadata": {
  "kernelspec": {
   "display_name": "DESI custom",
   "language": "python",
   "name": "desi-custom"
  },
  "language_info": {
   "codemirror_mode": {
    "name": "ipython",
    "version": 3
   },
   "file_extension": ".py",
   "mimetype": "text/x-python",
   "name": "python",
   "nbconvert_exporter": "python",
   "pygments_lexer": "ipython3",
   "version": "3.10.14"
  }
 },
 "nbformat": 4,
 "nbformat_minor": 5
}
